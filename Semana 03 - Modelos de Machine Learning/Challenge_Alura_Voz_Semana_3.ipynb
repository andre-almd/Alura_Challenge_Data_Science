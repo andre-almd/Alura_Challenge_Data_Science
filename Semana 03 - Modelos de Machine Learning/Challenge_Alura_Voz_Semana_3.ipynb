{
  "cells": [
    {
      "cell_type": "markdown",
      "metadata": {
        "id": "8u_-z7g-IRpB"
      },
      "source": [
        "# **Alura Challenge - Alura Voz**\n",
        "\n",
        "Nesse notebook será realizada a criação de modelos de Machine Learning para a empresa ALura Voz."
      ]
    },
    {
      "cell_type": "markdown",
      "metadata": {
        "id": "hq1YjaiaPaKc"
      },
      "source": [
        "## **Semana 03 - Criação de modelos de Machine learning**"
      ]
    },
    {
      "cell_type": "code",
      "execution_count": null,
      "metadata": {
        "id": "y8F5ck0BIO6h"
      },
      "outputs": [],
      "source": [
        "import pandas as pd\n",
        "import numpy as np\n",
        "import matplotlib.pyplot as plt\n",
        "import seaborn as sns\n",
        "\n",
        "from sklearn.model_selection import train_test_split\n",
        "\n",
        "import warnings"
      ]
    },
    {
      "cell_type": "code",
      "execution_count": null,
      "metadata": {
        "id": "ZkGmEd4yTlWi"
      },
      "outputs": [],
      "source": [
        "#np.random.seed(42)"
      ]
    },
    {
      "cell_type": "code",
      "execution_count": null,
      "metadata": {
        "id": "OI9k-uwjPenZ"
      },
      "outputs": [],
      "source": [
        "sns.set_theme(style=\"whitegrid\", palette='Set2')"
      ]
    },
    {
      "cell_type": "code",
      "execution_count": null,
      "metadata": {
        "id": "8uDPA8VpPhGb"
      },
      "outputs": [],
      "source": [
        "# Ler os dados com pandas do arquivo json\n",
        "dados = pd.read_json('/content/Customer-Churn-clean.json')"
      ]
    },
    {
      "cell_type": "code",
      "execution_count": null,
      "metadata": {
        "colab": {
          "base_uri": "https://localhost:8080/",
          "height": 240
        },
        "id": "dLZockcgPioC",
        "outputId": "aed2e26b-f167-4f61-ce63-242e08f3d532"
      },
      "outputs": [
        {
          "data": {
            "text/html": [
              "\n",
              "  <div id=\"df-85bc35af-4632-4112-b8c4-16d59657b295\">\n",
              "    <div class=\"colab-df-container\">\n",
              "      <div>\n",
              "<style scoped>\n",
              "    .dataframe tbody tr th:only-of-type {\n",
              "        vertical-align: middle;\n",
              "    }\n",
              "\n",
              "    .dataframe tbody tr th {\n",
              "        vertical-align: top;\n",
              "    }\n",
              "\n",
              "    .dataframe thead th {\n",
              "        text-align: right;\n",
              "    }\n",
              "</style>\n",
              "<table border=\"1\" class=\"dataframe\">\n",
              "  <thead>\n",
              "    <tr style=\"text-align: right;\">\n",
              "      <th></th>\n",
              "      <th>customerID</th>\n",
              "      <th>Churn</th>\n",
              "      <th>Gender</th>\n",
              "      <th>SeniorCitizen</th>\n",
              "      <th>Partner</th>\n",
              "      <th>Dependents</th>\n",
              "      <th>Tenure</th>\n",
              "      <th>PhoneService</th>\n",
              "      <th>MultipleLines</th>\n",
              "      <th>InternetService</th>\n",
              "      <th>...</th>\n",
              "      <th>DeviceProtection</th>\n",
              "      <th>TechSupport</th>\n",
              "      <th>StreamingTV</th>\n",
              "      <th>StreamingMovies</th>\n",
              "      <th>Contract</th>\n",
              "      <th>PaperlessBilling</th>\n",
              "      <th>Daily_Expense</th>\n",
              "      <th>PaymentMethod</th>\n",
              "      <th>Charges_Monthly</th>\n",
              "      <th>Charges_Total</th>\n",
              "    </tr>\n",
              "  </thead>\n",
              "  <tbody>\n",
              "    <tr>\n",
              "      <th>0</th>\n",
              "      <td>0002-ORFBO</td>\n",
              "      <td>No</td>\n",
              "      <td>Female</td>\n",
              "      <td>No</td>\n",
              "      <td>Yes</td>\n",
              "      <td>Yes</td>\n",
              "      <td>9</td>\n",
              "      <td>Yes</td>\n",
              "      <td>No</td>\n",
              "      <td>DSL</td>\n",
              "      <td>...</td>\n",
              "      <td>No</td>\n",
              "      <td>Yes</td>\n",
              "      <td>Yes</td>\n",
              "      <td>No</td>\n",
              "      <td>One year</td>\n",
              "      <td>Yes</td>\n",
              "      <td>2.19</td>\n",
              "      <td>Mailed check</td>\n",
              "      <td>65.6</td>\n",
              "      <td>593.3</td>\n",
              "    </tr>\n",
              "    <tr>\n",
              "      <th>1</th>\n",
              "      <td>0003-MKNFE</td>\n",
              "      <td>No</td>\n",
              "      <td>Male</td>\n",
              "      <td>No</td>\n",
              "      <td>No</td>\n",
              "      <td>No</td>\n",
              "      <td>9</td>\n",
              "      <td>Yes</td>\n",
              "      <td>Yes</td>\n",
              "      <td>DSL</td>\n",
              "      <td>...</td>\n",
              "      <td>No</td>\n",
              "      <td>No</td>\n",
              "      <td>No</td>\n",
              "      <td>Yes</td>\n",
              "      <td>Month-to-month</td>\n",
              "      <td>No</td>\n",
              "      <td>2.00</td>\n",
              "      <td>Mailed check</td>\n",
              "      <td>59.9</td>\n",
              "      <td>542.4</td>\n",
              "    </tr>\n",
              "  </tbody>\n",
              "</table>\n",
              "<p>2 rows × 22 columns</p>\n",
              "</div>\n",
              "      <button class=\"colab-df-convert\" onclick=\"convertToInteractive('df-85bc35af-4632-4112-b8c4-16d59657b295')\"\n",
              "              title=\"Convert this dataframe to an interactive table.\"\n",
              "              style=\"display:none;\">\n",
              "        \n",
              "  <svg xmlns=\"http://www.w3.org/2000/svg\" height=\"24px\"viewBox=\"0 0 24 24\"\n",
              "       width=\"24px\">\n",
              "    <path d=\"M0 0h24v24H0V0z\" fill=\"none\"/>\n",
              "    <path d=\"M18.56 5.44l.94 2.06.94-2.06 2.06-.94-2.06-.94-.94-2.06-.94 2.06-2.06.94zm-11 1L8.5 8.5l.94-2.06 2.06-.94-2.06-.94L8.5 2.5l-.94 2.06-2.06.94zm10 10l.94 2.06.94-2.06 2.06-.94-2.06-.94-.94-2.06-.94 2.06-2.06.94z\"/><path d=\"M17.41 7.96l-1.37-1.37c-.4-.4-.92-.59-1.43-.59-.52 0-1.04.2-1.43.59L10.3 9.45l-7.72 7.72c-.78.78-.78 2.05 0 2.83L4 21.41c.39.39.9.59 1.41.59.51 0 1.02-.2 1.41-.59l7.78-7.78 2.81-2.81c.8-.78.8-2.07 0-2.86zM5.41 20L4 18.59l7.72-7.72 1.47 1.35L5.41 20z\"/>\n",
              "  </svg>\n",
              "      </button>\n",
              "      \n",
              "  <style>\n",
              "    .colab-df-container {\n",
              "      display:flex;\n",
              "      flex-wrap:wrap;\n",
              "      gap: 12px;\n",
              "    }\n",
              "\n",
              "    .colab-df-convert {\n",
              "      background-color: #E8F0FE;\n",
              "      border: none;\n",
              "      border-radius: 50%;\n",
              "      cursor: pointer;\n",
              "      display: none;\n",
              "      fill: #1967D2;\n",
              "      height: 32px;\n",
              "      padding: 0 0 0 0;\n",
              "      width: 32px;\n",
              "    }\n",
              "\n",
              "    .colab-df-convert:hover {\n",
              "      background-color: #E2EBFA;\n",
              "      box-shadow: 0px 1px 2px rgba(60, 64, 67, 0.3), 0px 1px 3px 1px rgba(60, 64, 67, 0.15);\n",
              "      fill: #174EA6;\n",
              "    }\n",
              "\n",
              "    [theme=dark] .colab-df-convert {\n",
              "      background-color: #3B4455;\n",
              "      fill: #D2E3FC;\n",
              "    }\n",
              "\n",
              "    [theme=dark] .colab-df-convert:hover {\n",
              "      background-color: #434B5C;\n",
              "      box-shadow: 0px 1px 3px 1px rgba(0, 0, 0, 0.15);\n",
              "      filter: drop-shadow(0px 1px 2px rgba(0, 0, 0, 0.3));\n",
              "      fill: #FFFFFF;\n",
              "    }\n",
              "  </style>\n",
              "\n",
              "      <script>\n",
              "        const buttonEl =\n",
              "          document.querySelector('#df-85bc35af-4632-4112-b8c4-16d59657b295 button.colab-df-convert');\n",
              "        buttonEl.style.display =\n",
              "          google.colab.kernel.accessAllowed ? 'block' : 'none';\n",
              "\n",
              "        async function convertToInteractive(key) {\n",
              "          const element = document.querySelector('#df-85bc35af-4632-4112-b8c4-16d59657b295');\n",
              "          const dataTable =\n",
              "            await google.colab.kernel.invokeFunction('convertToInteractive',\n",
              "                                                     [key], {});\n",
              "          if (!dataTable) return;\n",
              "\n",
              "          const docLinkHtml = 'Like what you see? Visit the ' +\n",
              "            '<a target=\"_blank\" href=https://colab.research.google.com/notebooks/data_table.ipynb>data table notebook</a>'\n",
              "            + ' to learn more about interactive tables.';\n",
              "          element.innerHTML = '';\n",
              "          dataTable['output_type'] = 'display_data';\n",
              "          await google.colab.output.renderOutput(dataTable, element);\n",
              "          const docLink = document.createElement('div');\n",
              "          docLink.innerHTML = docLinkHtml;\n",
              "          element.appendChild(docLink);\n",
              "        }\n",
              "      </script>\n",
              "    </div>\n",
              "  </div>\n",
              "  "
            ],
            "text/plain": [
              "   customerID Churn  Gender SeniorCitizen Partner Dependents  Tenure  \\\n",
              "0  0002-ORFBO    No  Female            No     Yes        Yes       9   \n",
              "1  0003-MKNFE    No    Male            No      No         No       9   \n",
              "\n",
              "  PhoneService MultipleLines InternetService  ... DeviceProtection  \\\n",
              "0          Yes            No             DSL  ...               No   \n",
              "1          Yes           Yes             DSL  ...               No   \n",
              "\n",
              "  TechSupport StreamingTV StreamingMovies        Contract PaperlessBilling  \\\n",
              "0         Yes         Yes              No        One year              Yes   \n",
              "1          No          No             Yes  Month-to-month               No   \n",
              "\n",
              "  Daily_Expense PaymentMethod  Charges_Monthly Charges_Total  \n",
              "0          2.19  Mailed check             65.6         593.3  \n",
              "1          2.00  Mailed check             59.9         542.4  \n",
              "\n",
              "[2 rows x 22 columns]"
            ]
          },
          "execution_count": 5,
          "metadata": {},
          "output_type": "execute_result"
        }
      ],
      "source": [
        "dados.head(2)"
      ]
    },
    {
      "cell_type": "markdown",
      "metadata": {
        "id": "xmq1Cfztb1g8"
      },
      "source": [
        "Na minha avaliação, a coluna Daily_Expense, criada na semana 1, não é interessante pois é altamente correlacionada com o gasto mensal. Logo, irei eliminá-la dos meus dados."
      ]
    },
    {
      "cell_type": "code",
      "execution_count": null,
      "metadata": {
        "colab": {
          "base_uri": "https://localhost:8080/",
          "height": 240
        },
        "id": "7Zggt6p_bUGn",
        "outputId": "dbc221cf-9f6e-4857-de91-9a8e0352e983"
      },
      "outputs": [
        {
          "data": {
            "text/html": [
              "\n",
              "  <div id=\"df-788dbb2a-29cc-47e1-8925-b49ba8eeb948\">\n",
              "    <div class=\"colab-df-container\">\n",
              "      <div>\n",
              "<style scoped>\n",
              "    .dataframe tbody tr th:only-of-type {\n",
              "        vertical-align: middle;\n",
              "    }\n",
              "\n",
              "    .dataframe tbody tr th {\n",
              "        vertical-align: top;\n",
              "    }\n",
              "\n",
              "    .dataframe thead th {\n",
              "        text-align: right;\n",
              "    }\n",
              "</style>\n",
              "<table border=\"1\" class=\"dataframe\">\n",
              "  <thead>\n",
              "    <tr style=\"text-align: right;\">\n",
              "      <th></th>\n",
              "      <th>customerID</th>\n",
              "      <th>Churn</th>\n",
              "      <th>Gender</th>\n",
              "      <th>SeniorCitizen</th>\n",
              "      <th>Partner</th>\n",
              "      <th>Dependents</th>\n",
              "      <th>Tenure</th>\n",
              "      <th>PhoneService</th>\n",
              "      <th>MultipleLines</th>\n",
              "      <th>InternetService</th>\n",
              "      <th>...</th>\n",
              "      <th>OnlineBackup</th>\n",
              "      <th>DeviceProtection</th>\n",
              "      <th>TechSupport</th>\n",
              "      <th>StreamingTV</th>\n",
              "      <th>StreamingMovies</th>\n",
              "      <th>Contract</th>\n",
              "      <th>PaperlessBilling</th>\n",
              "      <th>PaymentMethod</th>\n",
              "      <th>Charges_Monthly</th>\n",
              "      <th>Charges_Total</th>\n",
              "    </tr>\n",
              "  </thead>\n",
              "  <tbody>\n",
              "    <tr>\n",
              "      <th>0</th>\n",
              "      <td>0002-ORFBO</td>\n",
              "      <td>No</td>\n",
              "      <td>Female</td>\n",
              "      <td>No</td>\n",
              "      <td>Yes</td>\n",
              "      <td>Yes</td>\n",
              "      <td>9</td>\n",
              "      <td>Yes</td>\n",
              "      <td>No</td>\n",
              "      <td>DSL</td>\n",
              "      <td>...</td>\n",
              "      <td>Yes</td>\n",
              "      <td>No</td>\n",
              "      <td>Yes</td>\n",
              "      <td>Yes</td>\n",
              "      <td>No</td>\n",
              "      <td>One year</td>\n",
              "      <td>Yes</td>\n",
              "      <td>Mailed check</td>\n",
              "      <td>65.6</td>\n",
              "      <td>593.3</td>\n",
              "    </tr>\n",
              "    <tr>\n",
              "      <th>1</th>\n",
              "      <td>0003-MKNFE</td>\n",
              "      <td>No</td>\n",
              "      <td>Male</td>\n",
              "      <td>No</td>\n",
              "      <td>No</td>\n",
              "      <td>No</td>\n",
              "      <td>9</td>\n",
              "      <td>Yes</td>\n",
              "      <td>Yes</td>\n",
              "      <td>DSL</td>\n",
              "      <td>...</td>\n",
              "      <td>No</td>\n",
              "      <td>No</td>\n",
              "      <td>No</td>\n",
              "      <td>No</td>\n",
              "      <td>Yes</td>\n",
              "      <td>Month-to-month</td>\n",
              "      <td>No</td>\n",
              "      <td>Mailed check</td>\n",
              "      <td>59.9</td>\n",
              "      <td>542.4</td>\n",
              "    </tr>\n",
              "  </tbody>\n",
              "</table>\n",
              "<p>2 rows × 21 columns</p>\n",
              "</div>\n",
              "      <button class=\"colab-df-convert\" onclick=\"convertToInteractive('df-788dbb2a-29cc-47e1-8925-b49ba8eeb948')\"\n",
              "              title=\"Convert this dataframe to an interactive table.\"\n",
              "              style=\"display:none;\">\n",
              "        \n",
              "  <svg xmlns=\"http://www.w3.org/2000/svg\" height=\"24px\"viewBox=\"0 0 24 24\"\n",
              "       width=\"24px\">\n",
              "    <path d=\"M0 0h24v24H0V0z\" fill=\"none\"/>\n",
              "    <path d=\"M18.56 5.44l.94 2.06.94-2.06 2.06-.94-2.06-.94-.94-2.06-.94 2.06-2.06.94zm-11 1L8.5 8.5l.94-2.06 2.06-.94-2.06-.94L8.5 2.5l-.94 2.06-2.06.94zm10 10l.94 2.06.94-2.06 2.06-.94-2.06-.94-.94-2.06-.94 2.06-2.06.94z\"/><path d=\"M17.41 7.96l-1.37-1.37c-.4-.4-.92-.59-1.43-.59-.52 0-1.04.2-1.43.59L10.3 9.45l-7.72 7.72c-.78.78-.78 2.05 0 2.83L4 21.41c.39.39.9.59 1.41.59.51 0 1.02-.2 1.41-.59l7.78-7.78 2.81-2.81c.8-.78.8-2.07 0-2.86zM5.41 20L4 18.59l7.72-7.72 1.47 1.35L5.41 20z\"/>\n",
              "  </svg>\n",
              "      </button>\n",
              "      \n",
              "  <style>\n",
              "    .colab-df-container {\n",
              "      display:flex;\n",
              "      flex-wrap:wrap;\n",
              "      gap: 12px;\n",
              "    }\n",
              "\n",
              "    .colab-df-convert {\n",
              "      background-color: #E8F0FE;\n",
              "      border: none;\n",
              "      border-radius: 50%;\n",
              "      cursor: pointer;\n",
              "      display: none;\n",
              "      fill: #1967D2;\n",
              "      height: 32px;\n",
              "      padding: 0 0 0 0;\n",
              "      width: 32px;\n",
              "    }\n",
              "\n",
              "    .colab-df-convert:hover {\n",
              "      background-color: #E2EBFA;\n",
              "      box-shadow: 0px 1px 2px rgba(60, 64, 67, 0.3), 0px 1px 3px 1px rgba(60, 64, 67, 0.15);\n",
              "      fill: #174EA6;\n",
              "    }\n",
              "\n",
              "    [theme=dark] .colab-df-convert {\n",
              "      background-color: #3B4455;\n",
              "      fill: #D2E3FC;\n",
              "    }\n",
              "\n",
              "    [theme=dark] .colab-df-convert:hover {\n",
              "      background-color: #434B5C;\n",
              "      box-shadow: 0px 1px 3px 1px rgba(0, 0, 0, 0.15);\n",
              "      filter: drop-shadow(0px 1px 2px rgba(0, 0, 0, 0.3));\n",
              "      fill: #FFFFFF;\n",
              "    }\n",
              "  </style>\n",
              "\n",
              "      <script>\n",
              "        const buttonEl =\n",
              "          document.querySelector('#df-788dbb2a-29cc-47e1-8925-b49ba8eeb948 button.colab-df-convert');\n",
              "        buttonEl.style.display =\n",
              "          google.colab.kernel.accessAllowed ? 'block' : 'none';\n",
              "\n",
              "        async function convertToInteractive(key) {\n",
              "          const element = document.querySelector('#df-788dbb2a-29cc-47e1-8925-b49ba8eeb948');\n",
              "          const dataTable =\n",
              "            await google.colab.kernel.invokeFunction('convertToInteractive',\n",
              "                                                     [key], {});\n",
              "          if (!dataTable) return;\n",
              "\n",
              "          const docLinkHtml = 'Like what you see? Visit the ' +\n",
              "            '<a target=\"_blank\" href=https://colab.research.google.com/notebooks/data_table.ipynb>data table notebook</a>'\n",
              "            + ' to learn more about interactive tables.';\n",
              "          element.innerHTML = '';\n",
              "          dataTable['output_type'] = 'display_data';\n",
              "          await google.colab.output.renderOutput(dataTable, element);\n",
              "          const docLink = document.createElement('div');\n",
              "          docLink.innerHTML = docLinkHtml;\n",
              "          element.appendChild(docLink);\n",
              "        }\n",
              "      </script>\n",
              "    </div>\n",
              "  </div>\n",
              "  "
            ],
            "text/plain": [
              "   customerID Churn  Gender SeniorCitizen Partner Dependents  Tenure  \\\n",
              "0  0002-ORFBO    No  Female            No     Yes        Yes       9   \n",
              "1  0003-MKNFE    No    Male            No      No         No       9   \n",
              "\n",
              "  PhoneService MultipleLines InternetService  ... OnlineBackup  \\\n",
              "0          Yes            No             DSL  ...          Yes   \n",
              "1          Yes           Yes             DSL  ...           No   \n",
              "\n",
              "  DeviceProtection TechSupport StreamingTV StreamingMovies        Contract  \\\n",
              "0               No         Yes         Yes              No        One year   \n",
              "1               No          No          No             Yes  Month-to-month   \n",
              "\n",
              "  PaperlessBilling PaymentMethod Charges_Monthly  Charges_Total  \n",
              "0              Yes  Mailed check            65.6          593.3  \n",
              "1               No  Mailed check            59.9          542.4  \n",
              "\n",
              "[2 rows x 21 columns]"
            ]
          },
          "execution_count": 6,
          "metadata": {},
          "output_type": "execute_result"
        }
      ],
      "source": [
        "dados.drop(columns='Daily_Expense', inplace=True)\n",
        "dados.head(2)"
      ]
    },
    {
      "cell_type": "code",
      "execution_count": null,
      "metadata": {
        "colab": {
          "base_uri": "https://localhost:8080/",
          "height": 300
        },
        "id": "ZPAqLUuxyiU_",
        "outputId": "99044aef-87cb-4b1e-8bf4-cdbacbee7b9d"
      },
      "outputs": [
        {
          "data": {
            "text/html": [
              "\n",
              "  <div id=\"df-ebbe5f82-6b45-4c40-b2d2-af42a1348e55\">\n",
              "    <div class=\"colab-df-container\">\n",
              "      <div>\n",
              "<style scoped>\n",
              "    .dataframe tbody tr th:only-of-type {\n",
              "        vertical-align: middle;\n",
              "    }\n",
              "\n",
              "    .dataframe tbody tr th {\n",
              "        vertical-align: top;\n",
              "    }\n",
              "\n",
              "    .dataframe thead th {\n",
              "        text-align: right;\n",
              "    }\n",
              "</style>\n",
              "<table border=\"1\" class=\"dataframe\">\n",
              "  <thead>\n",
              "    <tr style=\"text-align: right;\">\n",
              "      <th></th>\n",
              "      <th>Tenure</th>\n",
              "      <th>Charges_Monthly</th>\n",
              "      <th>Charges_Total</th>\n",
              "    </tr>\n",
              "  </thead>\n",
              "  <tbody>\n",
              "    <tr>\n",
              "      <th>count</th>\n",
              "      <td>7032.000000</td>\n",
              "      <td>7032.000000</td>\n",
              "      <td>7032.000000</td>\n",
              "    </tr>\n",
              "    <tr>\n",
              "      <th>mean</th>\n",
              "      <td>32.421786</td>\n",
              "      <td>64.798208</td>\n",
              "      <td>2283.300441</td>\n",
              "    </tr>\n",
              "    <tr>\n",
              "      <th>std</th>\n",
              "      <td>24.545260</td>\n",
              "      <td>30.085974</td>\n",
              "      <td>2266.771362</td>\n",
              "    </tr>\n",
              "    <tr>\n",
              "      <th>min</th>\n",
              "      <td>1.000000</td>\n",
              "      <td>18.250000</td>\n",
              "      <td>18.800000</td>\n",
              "    </tr>\n",
              "    <tr>\n",
              "      <th>25%</th>\n",
              "      <td>9.000000</td>\n",
              "      <td>35.587500</td>\n",
              "      <td>401.450000</td>\n",
              "    </tr>\n",
              "    <tr>\n",
              "      <th>50%</th>\n",
              "      <td>29.000000</td>\n",
              "      <td>70.350000</td>\n",
              "      <td>1397.475000</td>\n",
              "    </tr>\n",
              "    <tr>\n",
              "      <th>75%</th>\n",
              "      <td>55.000000</td>\n",
              "      <td>89.862500</td>\n",
              "      <td>3794.737500</td>\n",
              "    </tr>\n",
              "    <tr>\n",
              "      <th>max</th>\n",
              "      <td>72.000000</td>\n",
              "      <td>118.750000</td>\n",
              "      <td>8684.800000</td>\n",
              "    </tr>\n",
              "  </tbody>\n",
              "</table>\n",
              "</div>\n",
              "      <button class=\"colab-df-convert\" onclick=\"convertToInteractive('df-ebbe5f82-6b45-4c40-b2d2-af42a1348e55')\"\n",
              "              title=\"Convert this dataframe to an interactive table.\"\n",
              "              style=\"display:none;\">\n",
              "        \n",
              "  <svg xmlns=\"http://www.w3.org/2000/svg\" height=\"24px\"viewBox=\"0 0 24 24\"\n",
              "       width=\"24px\">\n",
              "    <path d=\"M0 0h24v24H0V0z\" fill=\"none\"/>\n",
              "    <path d=\"M18.56 5.44l.94 2.06.94-2.06 2.06-.94-2.06-.94-.94-2.06-.94 2.06-2.06.94zm-11 1L8.5 8.5l.94-2.06 2.06-.94-2.06-.94L8.5 2.5l-.94 2.06-2.06.94zm10 10l.94 2.06.94-2.06 2.06-.94-2.06-.94-.94-2.06-.94 2.06-2.06.94z\"/><path d=\"M17.41 7.96l-1.37-1.37c-.4-.4-.92-.59-1.43-.59-.52 0-1.04.2-1.43.59L10.3 9.45l-7.72 7.72c-.78.78-.78 2.05 0 2.83L4 21.41c.39.39.9.59 1.41.59.51 0 1.02-.2 1.41-.59l7.78-7.78 2.81-2.81c.8-.78.8-2.07 0-2.86zM5.41 20L4 18.59l7.72-7.72 1.47 1.35L5.41 20z\"/>\n",
              "  </svg>\n",
              "      </button>\n",
              "      \n",
              "  <style>\n",
              "    .colab-df-container {\n",
              "      display:flex;\n",
              "      flex-wrap:wrap;\n",
              "      gap: 12px;\n",
              "    }\n",
              "\n",
              "    .colab-df-convert {\n",
              "      background-color: #E8F0FE;\n",
              "      border: none;\n",
              "      border-radius: 50%;\n",
              "      cursor: pointer;\n",
              "      display: none;\n",
              "      fill: #1967D2;\n",
              "      height: 32px;\n",
              "      padding: 0 0 0 0;\n",
              "      width: 32px;\n",
              "    }\n",
              "\n",
              "    .colab-df-convert:hover {\n",
              "      background-color: #E2EBFA;\n",
              "      box-shadow: 0px 1px 2px rgba(60, 64, 67, 0.3), 0px 1px 3px 1px rgba(60, 64, 67, 0.15);\n",
              "      fill: #174EA6;\n",
              "    }\n",
              "\n",
              "    [theme=dark] .colab-df-convert {\n",
              "      background-color: #3B4455;\n",
              "      fill: #D2E3FC;\n",
              "    }\n",
              "\n",
              "    [theme=dark] .colab-df-convert:hover {\n",
              "      background-color: #434B5C;\n",
              "      box-shadow: 0px 1px 3px 1px rgba(0, 0, 0, 0.15);\n",
              "      filter: drop-shadow(0px 1px 2px rgba(0, 0, 0, 0.3));\n",
              "      fill: #FFFFFF;\n",
              "    }\n",
              "  </style>\n",
              "\n",
              "      <script>\n",
              "        const buttonEl =\n",
              "          document.querySelector('#df-ebbe5f82-6b45-4c40-b2d2-af42a1348e55 button.colab-df-convert');\n",
              "        buttonEl.style.display =\n",
              "          google.colab.kernel.accessAllowed ? 'block' : 'none';\n",
              "\n",
              "        async function convertToInteractive(key) {\n",
              "          const element = document.querySelector('#df-ebbe5f82-6b45-4c40-b2d2-af42a1348e55');\n",
              "          const dataTable =\n",
              "            await google.colab.kernel.invokeFunction('convertToInteractive',\n",
              "                                                     [key], {});\n",
              "          if (!dataTable) return;\n",
              "\n",
              "          const docLinkHtml = 'Like what you see? Visit the ' +\n",
              "            '<a target=\"_blank\" href=https://colab.research.google.com/notebooks/data_table.ipynb>data table notebook</a>'\n",
              "            + ' to learn more about interactive tables.';\n",
              "          element.innerHTML = '';\n",
              "          dataTable['output_type'] = 'display_data';\n",
              "          await google.colab.output.renderOutput(dataTable, element);\n",
              "          const docLink = document.createElement('div');\n",
              "          docLink.innerHTML = docLinkHtml;\n",
              "          element.appendChild(docLink);\n",
              "        }\n",
              "      </script>\n",
              "    </div>\n",
              "  </div>\n",
              "  "
            ],
            "text/plain": [
              "            Tenure  Charges_Monthly  Charges_Total\n",
              "count  7032.000000      7032.000000    7032.000000\n",
              "mean     32.421786        64.798208    2283.300441\n",
              "std      24.545260        30.085974    2266.771362\n",
              "min       1.000000        18.250000      18.800000\n",
              "25%       9.000000        35.587500     401.450000\n",
              "50%      29.000000        70.350000    1397.475000\n",
              "75%      55.000000        89.862500    3794.737500\n",
              "max      72.000000       118.750000    8684.800000"
            ]
          },
          "execution_count": 7,
          "metadata": {},
          "output_type": "execute_result"
        }
      ],
      "source": [
        "dados.describe()"
      ]
    },
    {
      "cell_type": "markdown",
      "metadata": {
        "id": "Sd2G66E7iQNi"
      },
      "source": [
        "Agora, irei reordenar as colunas para deixar as colunas tipo int64 e float64 por último e facilitar meu encoding."
      ]
    },
    {
      "cell_type": "code",
      "execution_count": null,
      "metadata": {
        "colab": {
          "base_uri": "https://localhost:8080/"
        },
        "id": "4IOtE6JMiXIR",
        "outputId": "c1d24e14-452a-4ccd-ad22-ba2088c774a1"
      },
      "outputs": [
        {
          "name": "stdout",
          "output_type": "stream",
          "text": [
            "Index(['customerID', 'Churn', 'Gender', 'SeniorCitizen', 'Partner',\n",
            "       'Dependents', 'Tenure', 'PhoneService', 'MultipleLines',\n",
            "       'InternetService', 'OnlineSecurity', 'OnlineBackup', 'DeviceProtection',\n",
            "       'TechSupport', 'StreamingTV', 'StreamingMovies', 'Contract',\n",
            "       'PaperlessBilling', 'PaymentMethod', 'Charges_Monthly',\n",
            "       'Charges_Total'],\n",
            "      dtype='object')\n"
          ]
        }
      ],
      "source": [
        "# Pegando os nomes das colunas\n",
        "columns_names = dados.columns\n",
        "print(columns_names)"
      ]
    },
    {
      "cell_type": "code",
      "execution_count": null,
      "metadata": {
        "colab": {
          "base_uri": "https://localhost:8080/"
        },
        "id": "VTxA2pWcihO7",
        "outputId": "8cb6d254-ef2b-4122-b693-c6f530a10ed1"
      },
      "outputs": [
        {
          "name": "stdout",
          "output_type": "stream",
          "text": [
            "<class 'pandas.core.frame.DataFrame'>\n",
            "Int64Index: 7032 entries, 0 to 7266\n",
            "Data columns (total 21 columns):\n",
            " #   Column            Non-Null Count  Dtype  \n",
            "---  ------            --------------  -----  \n",
            " 0   customerID        7032 non-null   object \n",
            " 1   Churn             7032 non-null   object \n",
            " 2   Gender            7032 non-null   object \n",
            " 3   SeniorCitizen     7032 non-null   object \n",
            " 4   Partner           7032 non-null   object \n",
            " 5   Dependents        7032 non-null   object \n",
            " 6   PhoneService      7032 non-null   object \n",
            " 7   MultipleLines     7032 non-null   object \n",
            " 8   InternetService   7032 non-null   object \n",
            " 9   OnlineSecurity    7032 non-null   object \n",
            " 10  OnlineBackup      7032 non-null   object \n",
            " 11  DeviceProtection  7032 non-null   object \n",
            " 12  TechSupport       7032 non-null   object \n",
            " 13  StreamingTV       7032 non-null   object \n",
            " 14  StreamingMovies   7032 non-null   object \n",
            " 15  Contract          7032 non-null   object \n",
            " 16  PaperlessBilling  7032 non-null   object \n",
            " 17  PaymentMethod     7032 non-null   object \n",
            " 18  Tenure            7032 non-null   int64  \n",
            " 19  Charges_Monthly   7032 non-null   float64\n",
            " 20  Charges_Total     7032 non-null   float64\n",
            "dtypes: float64(2), int64(1), object(18)\n",
            "memory usage: 1.2+ MB\n"
          ]
        }
      ],
      "source": [
        "# Reordenando\n",
        "dados = dados[['customerID', 'Churn', 'Gender', 'SeniorCitizen', 'Partner',\n",
        "       'Dependents', 'PhoneService', 'MultipleLines',\n",
        "       'InternetService', 'OnlineSecurity', 'OnlineBackup', 'DeviceProtection',\n",
        "       'TechSupport', 'StreamingTV', 'StreamingMovies', 'Contract',\n",
        "       'PaperlessBilling', 'PaymentMethod', 'Tenure', 'Charges_Monthly',\n",
        "       'Charges_Total']]\n",
        "dados.info()"
      ]
    },
    {
      "cell_type": "markdown",
      "metadata": {
        "id": "NPtGrwZAPrdg"
      },
      "source": [
        "Analisando a variável target **Churn** para ver o desbalanceamento.\n",
        "\n",
        "Com o gráfico abaixo podemos perceber que há uma diferença muito grande na quantidade de clientes que deixaram e permanecem na empresa, ou seja, os dados estão muito desbalanceados."
      ]
    },
    {
      "cell_type": "code",
      "execution_count": null,
      "metadata": {
        "colab": {
          "base_uri": "https://localhost:8080/",
          "height": 284
        },
        "id": "-J0mGJX0Pk4z",
        "outputId": "744446ed-4f76-4c01-cf10-0e8b20fc98d3"
      },
      "outputs": [
        {
          "data": {
            "image/png": "[encoded data removed]",
            "text/plain": [
              "<Figure size 432x288 with 1 Axes>"
            ]
          },
          "metadata": {},
          "output_type": "display_data"
        }
      ],
      "source": [
        "plot = sns.barplot(x=dados['Churn'].value_counts().index, y=dados['Churn'].value_counts(), orient='v');\n",
        "plot.set_title('Distribuição do Churn de clientes');\n",
        "plot.grid(True, axis='y');"
      ]
    },
    {
      "cell_type": "code",
      "execution_count": null,
      "metadata": {
        "colab": {
          "base_uri": "https://localhost:8080/"
        },
        "id": "Pw-knZjkQL1N",
        "outputId": "f7a297e6-42c7-4cfe-9863-e111b98cf190"
      },
      "outputs": [
        {
          "name": "stdout",
          "output_type": "stream",
          "text": [
            "26.58% dos clientes deixaram a empresa.\n",
            "73.42% dos clientes permanecem na empresa.\n"
          ]
        }
      ],
      "source": [
        "print(f'{dados[\"Churn\"].value_counts()[\"Yes\"]/len(dados)*100:.2f}% dos clientes deixaram a empresa.')\n",
        "print(f'{dados[\"Churn\"].value_counts()[\"No\"]/len(dados)*100:.2f}% dos clientes permanecem na empresa.')"
      ]
    },
    {
      "cell_type": "markdown",
      "metadata": {
        "id": "P8pn_JFvU7-U"
      },
      "source": [
        "### **Encoding dos dados**\n",
        "\n",
        "Irei trabalhar primeiro no encoding dos dados para configurar as variáveis categóricas."
      ]
    },
    {
      "cell_type": "code",
      "execution_count": null,
      "metadata": {
        "colab": {
          "base_uri": "https://localhost:8080/",
          "height": 340
        },
        "id": "qyUDC-EbU-o6",
        "outputId": "3922d289-8379-482a-de60-a1ba26a4b3cc"
      },
      "outputs": [
        {
          "data": {
            "text/html": [
              "\n",
              "  <div id=\"df-835376b4-b639-4422-8337-d23ddc8c6589\">\n",
              "    <div class=\"colab-df-container\">\n",
              "      <div>\n",
              "<style scoped>\n",
              "    .dataframe tbody tr th:only-of-type {\n",
              "        vertical-align: middle;\n",
              "    }\n",
              "\n",
              "    .dataframe tbody tr th {\n",
              "        vertical-align: top;\n",
              "    }\n",
              "\n",
              "    .dataframe thead th {\n",
              "        text-align: right;\n",
              "    }\n",
              "</style>\n",
              "<table border=\"1\" class=\"dataframe\">\n",
              "  <thead>\n",
              "    <tr style=\"text-align: right;\">\n",
              "      <th></th>\n",
              "      <th>Gender</th>\n",
              "      <th>SeniorCitizen</th>\n",
              "      <th>Partner</th>\n",
              "      <th>Dependents</th>\n",
              "      <th>PhoneService</th>\n",
              "      <th>MultipleLines</th>\n",
              "      <th>InternetService</th>\n",
              "      <th>OnlineSecurity</th>\n",
              "      <th>OnlineBackup</th>\n",
              "      <th>DeviceProtection</th>\n",
              "      <th>TechSupport</th>\n",
              "      <th>StreamingTV</th>\n",
              "      <th>StreamingMovies</th>\n",
              "      <th>Contract</th>\n",
              "      <th>PaperlessBilling</th>\n",
              "      <th>PaymentMethod</th>\n",
              "      <th>Tenure</th>\n",
              "      <th>Charges_Monthly</th>\n",
              "      <th>Charges_Total</th>\n",
              "    </tr>\n",
              "  </thead>\n",
              "  <tbody>\n",
              "    <tr>\n",
              "      <th>0</th>\n",
              "      <td>Female</td>\n",
              "      <td>No</td>\n",
              "      <td>Yes</td>\n",
              "      <td>Yes</td>\n",
              "      <td>Yes</td>\n",
              "      <td>No</td>\n",
              "      <td>DSL</td>\n",
              "      <td>No</td>\n",
              "      <td>Yes</td>\n",
              "      <td>No</td>\n",
              "      <td>Yes</td>\n",
              "      <td>Yes</td>\n",
              "      <td>No</td>\n",
              "      <td>One year</td>\n",
              "      <td>Yes</td>\n",
              "      <td>Mailed check</td>\n",
              "      <td>9</td>\n",
              "      <td>65.6</td>\n",
              "      <td>593.30</td>\n",
              "    </tr>\n",
              "    <tr>\n",
              "      <th>1</th>\n",
              "      <td>Male</td>\n",
              "      <td>No</td>\n",
              "      <td>No</td>\n",
              "      <td>No</td>\n",
              "      <td>Yes</td>\n",
              "      <td>Yes</td>\n",
              "      <td>DSL</td>\n",
              "      <td>No</td>\n",
              "      <td>No</td>\n",
              "      <td>No</td>\n",
              "      <td>No</td>\n",
              "      <td>No</td>\n",
              "      <td>Yes</td>\n",
              "      <td>Month-to-month</td>\n",
              "      <td>No</td>\n",
              "      <td>Mailed check</td>\n",
              "      <td>9</td>\n",
              "      <td>59.9</td>\n",
              "      <td>542.40</td>\n",
              "    </tr>\n",
              "    <tr>\n",
              "      <th>2</th>\n",
              "      <td>Male</td>\n",
              "      <td>No</td>\n",
              "      <td>No</td>\n",
              "      <td>No</td>\n",
              "      <td>Yes</td>\n",
              "      <td>No</td>\n",
              "      <td>Fiber optic</td>\n",
              "      <td>No</td>\n",
              "      <td>No</td>\n",
              "      <td>Yes</td>\n",
              "      <td>No</td>\n",
              "      <td>No</td>\n",
              "      <td>No</td>\n",
              "      <td>Month-to-month</td>\n",
              "      <td>Yes</td>\n",
              "      <td>Electronic check</td>\n",
              "      <td>4</td>\n",
              "      <td>73.9</td>\n",
              "      <td>280.85</td>\n",
              "    </tr>\n",
              "    <tr>\n",
              "      <th>3</th>\n",
              "      <td>Male</td>\n",
              "      <td>Yes</td>\n",
              "      <td>Yes</td>\n",
              "      <td>No</td>\n",
              "      <td>Yes</td>\n",
              "      <td>No</td>\n",
              "      <td>Fiber optic</td>\n",
              "      <td>No</td>\n",
              "      <td>Yes</td>\n",
              "      <td>Yes</td>\n",
              "      <td>No</td>\n",
              "      <td>Yes</td>\n",
              "      <td>Yes</td>\n",
              "      <td>Month-to-month</td>\n",
              "      <td>Yes</td>\n",
              "      <td>Electronic check</td>\n",
              "      <td>13</td>\n",
              "      <td>98.0</td>\n",
              "      <td>1237.85</td>\n",
              "    </tr>\n",
              "    <tr>\n",
              "      <th>4</th>\n",
              "      <td>Female</td>\n",
              "      <td>Yes</td>\n",
              "      <td>Yes</td>\n",
              "      <td>No</td>\n",
              "      <td>Yes</td>\n",
              "      <td>No</td>\n",
              "      <td>Fiber optic</td>\n",
              "      <td>No</td>\n",
              "      <td>No</td>\n",
              "      <td>No</td>\n",
              "      <td>Yes</td>\n",
              "      <td>Yes</td>\n",
              "      <td>No</td>\n",
              "      <td>Month-to-month</td>\n",
              "      <td>Yes</td>\n",
              "      <td>Mailed check</td>\n",
              "      <td>3</td>\n",
              "      <td>83.9</td>\n",
              "      <td>267.40</td>\n",
              "    </tr>\n",
              "  </tbody>\n",
              "</table>\n",
              "</div>\n",
              "      <button class=\"colab-df-convert\" onclick=\"convertToInteractive('df-835376b4-b639-4422-8337-d23ddc8c6589')\"\n",
              "              title=\"Convert this dataframe to an interactive table.\"\n",
              "              style=\"display:none;\">\n",
              "        \n",
              "  <svg xmlns=\"http://www.w3.org/2000/svg\" height=\"24px\"viewBox=\"0 0 24 24\"\n",
              "       width=\"24px\">\n",
              "    <path d=\"M0 0h24v24H0V0z\" fill=\"none\"/>\n",
              "    <path d=\"M18.56 5.44l.94 2.06.94-2.06 2.06-.94-2.06-.94-.94-2.06-.94 2.06-2.06.94zm-11 1L8.5 8.5l.94-2.06 2.06-.94-2.06-.94L8.5 2.5l-.94 2.06-2.06.94zm10 10l.94 2.06.94-2.06 2.06-.94-2.06-.94-.94-2.06-.94 2.06-2.06.94z\"/><path d=\"M17.41 7.96l-1.37-1.37c-.4-.4-.92-.59-1.43-.59-.52 0-1.04.2-1.43.59L10.3 9.45l-7.72 7.72c-.78.78-.78 2.05 0 2.83L4 21.41c.39.39.9.59 1.41.59.51 0 1.02-.2 1.41-.59l7.78-7.78 2.81-2.81c.8-.78.8-2.07 0-2.86zM5.41 20L4 18.59l7.72-7.72 1.47 1.35L5.41 20z\"/>\n",
              "  </svg>\n",
              "      </button>\n",
              "      \n",
              "  <style>\n",
              "    .colab-df-container {\n",
              "      display:flex;\n",
              "      flex-wrap:wrap;\n",
              "      gap: 12px;\n",
              "    }\n",
              "\n",
              "    .colab-df-convert {\n",
              "      background-color: #E8F0FE;\n",
              "      border: none;\n",
              "      border-radius: 50%;\n",
              "      cursor: pointer;\n",
              "      display: none;\n",
              "      fill: #1967D2;\n",
              "      height: 32px;\n",
              "      padding: 0 0 0 0;\n",
              "      width: 32px;\n",
              "    }\n",
              "\n",
              "    .colab-df-convert:hover {\n",
              "      background-color: #E2EBFA;\n",
              "      box-shadow: 0px 1px 2px rgba(60, 64, 67, 0.3), 0px 1px 3px 1px rgba(60, 64, 67, 0.15);\n",
              "      fill: #174EA6;\n",
              "    }\n",
              "\n",
              "    [theme=dark] .colab-df-convert {\n",
              "      background-color: #3B4455;\n",
              "      fill: #D2E3FC;\n",
              "    }\n",
              "\n",
              "    [theme=dark] .colab-df-convert:hover {\n",
              "      background-color: #434B5C;\n",
              "      box-shadow: 0px 1px 3px 1px rgba(0, 0, 0, 0.15);\n",
              "      filter: drop-shadow(0px 1px 2px rgba(0, 0, 0, 0.3));\n",
              "      fill: #FFFFFF;\n",
              "    }\n",
              "  </style>\n",
              "\n",
              "      <script>\n",
              "        const buttonEl =\n",
              "          document.querySelector('#df-835376b4-b639-4422-8337-d23ddc8c6589 button.colab-df-convert');\n",
              "        buttonEl.style.display =\n",
              "          google.colab.kernel.accessAllowed ? 'block' : 'none';\n",
              "\n",
              "        async function convertToInteractive(key) {\n",
              "          const element = document.querySelector('#df-835376b4-b639-4422-8337-d23ddc8c6589');\n",
              "          const dataTable =\n",
              "            await google.colab.kernel.invokeFunction('convertToInteractive',\n",
              "                                                     [key], {});\n",
              "          if (!dataTable) return;\n",
              "\n",
              "          const docLinkHtml = 'Like what you see? Visit the ' +\n",
              "            '<a target=\"_blank\" href=https://colab.research.google.com/notebooks/data_table.ipynb>data table notebook</a>'\n",
              "            + ' to learn more about interactive tables.';\n",
              "          element.innerHTML = '';\n",
              "          dataTable['output_type'] = 'display_data';\n",
              "          await google.colab.output.renderOutput(dataTable, element);\n",
              "          const docLink = document.createElement('div');\n",
              "          docLink.innerHTML = docLinkHtml;\n",
              "          element.appendChild(docLink);\n",
              "        }\n",
              "      </script>\n",
              "    </div>\n",
              "  </div>\n",
              "  "
            ],
            "text/plain": [
              "   Gender SeniorCitizen Partner Dependents PhoneService MultipleLines  \\\n",
              "0  Female            No     Yes        Yes          Yes            No   \n",
              "1    Male            No      No         No          Yes           Yes   \n",
              "2    Male            No      No         No          Yes            No   \n",
              "3    Male           Yes     Yes         No          Yes            No   \n",
              "4  Female           Yes     Yes         No          Yes            No   \n",
              "\n",
              "  InternetService OnlineSecurity OnlineBackup DeviceProtection TechSupport  \\\n",
              "0             DSL             No          Yes               No         Yes   \n",
              "1             DSL             No           No               No          No   \n",
              "2     Fiber optic             No           No              Yes          No   \n",
              "3     Fiber optic             No          Yes              Yes          No   \n",
              "4     Fiber optic             No           No               No         Yes   \n",
              "\n",
              "  StreamingTV StreamingMovies        Contract PaperlessBilling  \\\n",
              "0         Yes              No        One year              Yes   \n",
              "1          No             Yes  Month-to-month               No   \n",
              "2          No              No  Month-to-month              Yes   \n",
              "3         Yes             Yes  Month-to-month              Yes   \n",
              "4         Yes              No  Month-to-month              Yes   \n",
              "\n",
              "      PaymentMethod  Tenure  Charges_Monthly  Charges_Total  \n",
              "0      Mailed check       9             65.6         593.30  \n",
              "1      Mailed check       9             59.9         542.40  \n",
              "2  Electronic check       4             73.9         280.85  \n",
              "3  Electronic check      13             98.0        1237.85  \n",
              "4      Mailed check       3             83.9         267.40  "
            ]
          },
          "execution_count": 12,
          "metadata": {},
          "output_type": "execute_result"
        }
      ],
      "source": [
        "# Separando a entrada\n",
        "X = dados.iloc[:, 2:]\n",
        "X.head()"
      ]
    },
    {
      "cell_type": "code",
      "execution_count": null,
      "metadata": {
        "colab": {
          "base_uri": "https://localhost:8080/"
        },
        "id": "skglZgFYVU8E",
        "outputId": "dce2e847-5f07-4360-c578-f108a3b38360"
      },
      "outputs": [
        {
          "data": {
            "text/plain": [
              "0     No\n",
              "1     No\n",
              "2    Yes\n",
              "3    Yes\n",
              "4    Yes\n",
              "Name: Churn, dtype: object"
            ]
          },
          "execution_count": 13,
          "metadata": {},
          "output_type": "execute_result"
        }
      ],
      "source": [
        "# Separando o target\n",
        "y = dados.iloc[:, 1]\n",
        "y.head()"
      ]
    },
    {
      "cell_type": "markdown",
      "metadata": {
        "id": "Ry33k1YbUCXu"
      },
      "source": [
        "### **Avaliações com os dados desbalanceados**"
      ]
    },
    {
      "cell_type": "code",
      "execution_count": null,
      "metadata": {
        "id": "nMZHXVkxUUlv"
      },
      "outputs": [],
      "source": [
        "# Separando os dados em treino e teste\n",
        "X_train, X_test, y_train, y_test = train_test_split(X, y, test_size=0.15, stratify=y)"
      ]
    },
    {
      "cell_type": "markdown",
      "metadata": {
        "id": "DcxbViQFsh-M"
      },
      "source": [
        "Separei os dados com 15% para teste, pois irei usar **validação cruzada**. logo os dados de teste serão utilizados no teste final de cada análise. "
      ]
    },
    {
      "cell_type": "code",
      "execution_count": null,
      "metadata": {
        "colab": {
          "base_uri": "https://localhost:8080/"
        },
        "id": "xrYtFAMYZn9J",
        "outputId": "c8de6aef-7b85-49a4-f2be-fa67aa64e368"
      },
      "outputs": [
        {
          "name": "stdout",
          "output_type": "stream",
          "text": [
            "Shape do X_train: (5977, 19)\n",
            "Shape do y_train: (5977,)\n",
            "Shape do X_test: (1055, 19)\n",
            "Shape do y_test: (1055,)\n"
          ]
        }
      ],
      "source": [
        "print(f'Shape do X_train: {X_train.shape}')\n",
        "print(f'Shape do y_train: {y_train.shape}')\n",
        "print(f'Shape do X_test: {X_test.shape}')\n",
        "print(f'Shape do y_test: {y_test.shape}')"
      ]
    },
    {
      "cell_type": "code",
      "execution_count": null,
      "metadata": {
        "colab": {
          "base_uri": "https://localhost:8080/",
          "height": 284
        },
        "id": "VZCkB6-a9nrf",
        "outputId": "8f8d7603-c77c-4bdd-c33a-bcaa631133ee"
      },
      "outputs": [
        {
          "data": {
            "image/png": "[encoded data removed]",
            "text/plain": [
              "<Figure size 432x288 with 1 Axes>"
            ]
          },
          "metadata": {},
          "output_type": "display_data"
        }
      ],
      "source": [
        "plot = sns.barplot(x=y_train.value_counts().index, y=y_train.value_counts(), orient='v');\n",
        "plot.set_title('Distribuição do Churn de clientes nos dados de treino');\n",
        "plot.grid(True, axis='y');"
      ]
    },
    {
      "cell_type": "code",
      "execution_count": null,
      "metadata": {
        "colab": {
          "base_uri": "https://localhost:8080/",
          "height": 284
        },
        "id": "_S5f0MgS-URH",
        "outputId": "11525fe5-3ca5-488d-e0a8-1f258ffb7b4d"
      },
      "outputs": [
        {
          "data": {
            "image/png": "[encoded data removed]",
            "text/plain": [
              "<Figure size 432x288 with 1 Axes>"
            ]
          },
          "metadata": {},
          "output_type": "display_data"
        }
      ],
      "source": [
        "plot = sns.barplot(x=y_test.value_counts().index, y=y_test.value_counts(), orient='v');\n",
        "plot.set_title('Distribuição do Churn de clientes nos dados de teste');\n",
        "plot.grid(True, axis='y');"
      ]
    },
    {
      "cell_type": "markdown",
      "metadata": {
        "id": "VdwQZCAyaYgI"
      },
      "source": [
        "Agora é preciso realizar os encoding dos dados.\n",
        "\n",
        "Vou usar o [One Hoting Encoding](https://scikit-learn.org/stable/modules/generated/sklearn.preprocessing.OneHotEncoder.html#sklearn.preprocessing.OneHotEncoder) e [LabelBinarizer](https://scikit-learn.org/stable/modules/generated/sklearn.preprocessing.LabelBinarizer.html) do Sklearn, pois consigo transformar os dados categóricos em uma matriz numérica e mapear a mesma representação para os dados de teste."
      ]
    },
    {
      "cell_type": "code",
      "execution_count": null,
      "metadata": {
        "id": "2nx30gOTaWjm"
      },
      "outputs": [],
      "source": [
        "from sklearn.preprocessing import OneHotEncoder, LabelBinarizer"
      ]
    },
    {
      "cell_type": "code",
      "execution_count": null,
      "metadata": {
        "colab": {
          "base_uri": "https://localhost:8080/"
        },
        "id": "NqUUHwvXaXBi",
        "outputId": "f7672627-c9d5-40b7-d113-af72a913b8b9"
      },
      "outputs": [
        {
          "data": {
            "text/plain": [
              "OneHotEncoder(drop='if_binary', dtype=<class 'int'>, handle_unknown='ignore',\n",
              "              sparse=False)"
            ]
          },
          "execution_count": 19,
          "metadata": {},
          "output_type": "execute_result"
        }
      ],
      "source": [
        "# Criando o encoder com drop=if_binary, para reduzir a quantidade total de colunas no hot_encoder\n",
        "X_enc = OneHotEncoder(drop='if_binary', sparse=False, handle_unknown='ignore', dtype=int)\n",
        "X_enc.fit(X_train.iloc[:, :-3])"
      ]
    },
    {
      "cell_type": "code",
      "execution_count": null,
      "metadata": {
        "colab": {
          "base_uri": "https://localhost:8080/"
        },
        "id": "R8rcN4T0aXFD",
        "outputId": "7cbb490c-3451-4ed4-e7f3-411879d800c9"
      },
      "outputs": [
        {
          "data": {
            "text/plain": [
              "[array(['Female', 'Male'], dtype=object),\n",
              " array(['No', 'Yes'], dtype=object),\n",
              " array(['No', 'Yes'], dtype=object),\n",
              " array(['No', 'Yes'], dtype=object),\n",
              " array(['No', 'Yes'], dtype=object),\n",
              " array(['No', 'No phone service', 'Yes'], dtype=object),\n",
              " array(['DSL', 'Fiber optic', 'No'], dtype=object),\n",
              " array(['No', 'No internet service', 'Yes'], dtype=object),\n",
              " array(['No', 'No internet service', 'Yes'], dtype=object),\n",
              " array(['No', 'No internet service', 'Yes'], dtype=object),\n",
              " array(['No', 'No internet service', 'Yes'], dtype=object),\n",
              " array(['No', 'No internet service', 'Yes'], dtype=object),\n",
              " array(['No', 'No internet service', 'Yes'], dtype=object),\n",
              " array(['Month-to-month', 'One year', 'Two year'], dtype=object),\n",
              " array(['No', 'Yes'], dtype=object),\n",
              " array(['Bank transfer (automatic)', 'Credit card (automatic)',\n",
              "        'Electronic check', 'Mailed check'], dtype=object)]"
            ]
          },
          "execution_count": 20,
          "metadata": {},
          "output_type": "execute_result"
        }
      ],
      "source": [
        "# Categorias codificadas\n",
        "X_enc.categories_"
      ]
    },
    {
      "cell_type": "code",
      "execution_count": null,
      "metadata": {
        "colab": {
          "base_uri": "https://localhost:8080/"
        },
        "id": "3HyEySd6nZ32",
        "outputId": "88539512-4fec-45f1-a38a-99d4f2987ba0"
      },
      "outputs": [
        {
          "data": {
            "text/plain": [
              "array(['Gender_Male', 'SeniorCitizen_Yes', 'Partner_Yes',\n",
              "       'Dependents_Yes', 'PhoneService_Yes', 'MultipleLines_No',\n",
              "       'MultipleLines_No phone service', 'MultipleLines_Yes',\n",
              "       'InternetService_DSL', 'InternetService_Fiber optic',\n",
              "       'InternetService_No', 'OnlineSecurity_No',\n",
              "       'OnlineSecurity_No internet service', 'OnlineSecurity_Yes',\n",
              "       'OnlineBackup_No', 'OnlineBackup_No internet service',\n",
              "       'OnlineBackup_Yes', 'DeviceProtection_No',\n",
              "       'DeviceProtection_No internet service', 'DeviceProtection_Yes',\n",
              "       'TechSupport_No', 'TechSupport_No internet service',\n",
              "       'TechSupport_Yes', 'StreamingTV_No',\n",
              "       'StreamingTV_No internet service', 'StreamingTV_Yes',\n",
              "       'StreamingMovies_No', 'StreamingMovies_No internet service',\n",
              "       'StreamingMovies_Yes', 'Contract_Month-to-month',\n",
              "       'Contract_One year', 'Contract_Two year', 'PaperlessBilling_Yes',\n",
              "       'PaymentMethod_Bank transfer (automatic)',\n",
              "       'PaymentMethod_Credit card (automatic)',\n",
              "       'PaymentMethod_Electronic check', 'PaymentMethod_Mailed check'],\n",
              "      dtype=object)"
            ]
          },
          "execution_count": 21,
          "metadata": {},
          "output_type": "execute_result"
        }
      ],
      "source": [
        "# Nomes das novas características que serão mapeadas paras as colunas\n",
        "X_enc_names = X_enc.get_feature_names_out()\n",
        "X_enc_names"
      ]
    },
    {
      "cell_type": "code",
      "execution_count": null,
      "metadata": {
        "colab": {
          "base_uri": "https://localhost:8080/",
          "height": 522
        },
        "id": "_N_9i9IblnXb",
        "outputId": "4cebc50b-7963-478b-9d40-da93445542cd"
      },
      "outputs": [
        {
          "data": {
            "text/html": [
              "\n",
              "  <div id=\"df-6911ec41-4a4b-4a3c-ab20-aa6cc6b995ba\">\n",
              "    <div class=\"colab-df-container\">\n",
              "      <div>\n",
              "<style scoped>\n",
              "    .dataframe tbody tr th:only-of-type {\n",
              "        vertical-align: middle;\n",
              "    }\n",
              "\n",
              "    .dataframe tbody tr th {\n",
              "        vertical-align: top;\n",
              "    }\n",
              "\n",
              "    .dataframe thead th {\n",
              "        text-align: right;\n",
              "    }\n",
              "</style>\n",
              "<table border=\"1\" class=\"dataframe\">\n",
              "  <thead>\n",
              "    <tr style=\"text-align: right;\">\n",
              "      <th></th>\n",
              "      <th>Gender_Male</th>\n",
              "      <th>SeniorCitizen_Yes</th>\n",
              "      <th>Partner_Yes</th>\n",
              "      <th>Dependents_Yes</th>\n",
              "      <th>PhoneService_Yes</th>\n",
              "      <th>MultipleLines_No</th>\n",
              "      <th>MultipleLines_No phone service</th>\n",
              "      <th>MultipleLines_Yes</th>\n",
              "      <th>InternetService_DSL</th>\n",
              "      <th>InternetService_Fiber optic</th>\n",
              "      <th>...</th>\n",
              "      <th>StreamingMovies_No internet service</th>\n",
              "      <th>StreamingMovies_Yes</th>\n",
              "      <th>Contract_Month-to-month</th>\n",
              "      <th>Contract_One year</th>\n",
              "      <th>Contract_Two year</th>\n",
              "      <th>PaperlessBilling_Yes</th>\n",
              "      <th>PaymentMethod_Bank transfer (automatic)</th>\n",
              "      <th>PaymentMethod_Credit card (automatic)</th>\n",
              "      <th>PaymentMethod_Electronic check</th>\n",
              "      <th>PaymentMethod_Mailed check</th>\n",
              "    </tr>\n",
              "  </thead>\n",
              "  <tbody>\n",
              "    <tr>\n",
              "      <th>0</th>\n",
              "      <td>1</td>\n",
              "      <td>1</td>\n",
              "      <td>1</td>\n",
              "      <td>0</td>\n",
              "      <td>1</td>\n",
              "      <td>0</td>\n",
              "      <td>0</td>\n",
              "      <td>1</td>\n",
              "      <td>1</td>\n",
              "      <td>0</td>\n",
              "      <td>...</td>\n",
              "      <td>0</td>\n",
              "      <td>0</td>\n",
              "      <td>0</td>\n",
              "      <td>1</td>\n",
              "      <td>0</td>\n",
              "      <td>0</td>\n",
              "      <td>0</td>\n",
              "      <td>1</td>\n",
              "      <td>0</td>\n",
              "      <td>0</td>\n",
              "    </tr>\n",
              "    <tr>\n",
              "      <th>1</th>\n",
              "      <td>1</td>\n",
              "      <td>0</td>\n",
              "      <td>0</td>\n",
              "      <td>1</td>\n",
              "      <td>1</td>\n",
              "      <td>0</td>\n",
              "      <td>0</td>\n",
              "      <td>1</td>\n",
              "      <td>0</td>\n",
              "      <td>1</td>\n",
              "      <td>...</td>\n",
              "      <td>0</td>\n",
              "      <td>1</td>\n",
              "      <td>1</td>\n",
              "      <td>0</td>\n",
              "      <td>0</td>\n",
              "      <td>1</td>\n",
              "      <td>1</td>\n",
              "      <td>0</td>\n",
              "      <td>0</td>\n",
              "      <td>0</td>\n",
              "    </tr>\n",
              "    <tr>\n",
              "      <th>2</th>\n",
              "      <td>1</td>\n",
              "      <td>0</td>\n",
              "      <td>0</td>\n",
              "      <td>0</td>\n",
              "      <td>1</td>\n",
              "      <td>0</td>\n",
              "      <td>0</td>\n",
              "      <td>1</td>\n",
              "      <td>1</td>\n",
              "      <td>0</td>\n",
              "      <td>...</td>\n",
              "      <td>0</td>\n",
              "      <td>0</td>\n",
              "      <td>1</td>\n",
              "      <td>0</td>\n",
              "      <td>0</td>\n",
              "      <td>0</td>\n",
              "      <td>0</td>\n",
              "      <td>0</td>\n",
              "      <td>1</td>\n",
              "      <td>0</td>\n",
              "    </tr>\n",
              "    <tr>\n",
              "      <th>3</th>\n",
              "      <td>1</td>\n",
              "      <td>0</td>\n",
              "      <td>1</td>\n",
              "      <td>1</td>\n",
              "      <td>1</td>\n",
              "      <td>1</td>\n",
              "      <td>0</td>\n",
              "      <td>0</td>\n",
              "      <td>0</td>\n",
              "      <td>0</td>\n",
              "      <td>...</td>\n",
              "      <td>1</td>\n",
              "      <td>0</td>\n",
              "      <td>0</td>\n",
              "      <td>0</td>\n",
              "      <td>1</td>\n",
              "      <td>0</td>\n",
              "      <td>0</td>\n",
              "      <td>0</td>\n",
              "      <td>0</td>\n",
              "      <td>1</td>\n",
              "    </tr>\n",
              "    <tr>\n",
              "      <th>4</th>\n",
              "      <td>0</td>\n",
              "      <td>0</td>\n",
              "      <td>0</td>\n",
              "      <td>0</td>\n",
              "      <td>1</td>\n",
              "      <td>1</td>\n",
              "      <td>0</td>\n",
              "      <td>0</td>\n",
              "      <td>1</td>\n",
              "      <td>0</td>\n",
              "      <td>...</td>\n",
              "      <td>0</td>\n",
              "      <td>0</td>\n",
              "      <td>1</td>\n",
              "      <td>0</td>\n",
              "      <td>0</td>\n",
              "      <td>1</td>\n",
              "      <td>0</td>\n",
              "      <td>0</td>\n",
              "      <td>0</td>\n",
              "      <td>1</td>\n",
              "    </tr>\n",
              "    <tr>\n",
              "      <th>...</th>\n",
              "      <td>...</td>\n",
              "      <td>...</td>\n",
              "      <td>...</td>\n",
              "      <td>...</td>\n",
              "      <td>...</td>\n",
              "      <td>...</td>\n",
              "      <td>...</td>\n",
              "      <td>...</td>\n",
              "      <td>...</td>\n",
              "      <td>...</td>\n",
              "      <td>...</td>\n",
              "      <td>...</td>\n",
              "      <td>...</td>\n",
              "      <td>...</td>\n",
              "      <td>...</td>\n",
              "      <td>...</td>\n",
              "      <td>...</td>\n",
              "      <td>...</td>\n",
              "      <td>...</td>\n",
              "      <td>...</td>\n",
              "      <td>...</td>\n",
              "    </tr>\n",
              "    <tr>\n",
              "      <th>5972</th>\n",
              "      <td>1</td>\n",
              "      <td>0</td>\n",
              "      <td>0</td>\n",
              "      <td>0</td>\n",
              "      <td>1</td>\n",
              "      <td>1</td>\n",
              "      <td>0</td>\n",
              "      <td>0</td>\n",
              "      <td>0</td>\n",
              "      <td>0</td>\n",
              "      <td>...</td>\n",
              "      <td>1</td>\n",
              "      <td>0</td>\n",
              "      <td>1</td>\n",
              "      <td>0</td>\n",
              "      <td>0</td>\n",
              "      <td>1</td>\n",
              "      <td>0</td>\n",
              "      <td>0</td>\n",
              "      <td>0</td>\n",
              "      <td>1</td>\n",
              "    </tr>\n",
              "    <tr>\n",
              "      <th>5973</th>\n",
              "      <td>1</td>\n",
              "      <td>0</td>\n",
              "      <td>0</td>\n",
              "      <td>0</td>\n",
              "      <td>1</td>\n",
              "      <td>1</td>\n",
              "      <td>0</td>\n",
              "      <td>0</td>\n",
              "      <td>0</td>\n",
              "      <td>1</td>\n",
              "      <td>...</td>\n",
              "      <td>0</td>\n",
              "      <td>0</td>\n",
              "      <td>0</td>\n",
              "      <td>1</td>\n",
              "      <td>0</td>\n",
              "      <td>1</td>\n",
              "      <td>0</td>\n",
              "      <td>0</td>\n",
              "      <td>1</td>\n",
              "      <td>0</td>\n",
              "    </tr>\n",
              "    <tr>\n",
              "      <th>5974</th>\n",
              "      <td>1</td>\n",
              "      <td>1</td>\n",
              "      <td>1</td>\n",
              "      <td>0</td>\n",
              "      <td>1</td>\n",
              "      <td>1</td>\n",
              "      <td>0</td>\n",
              "      <td>0</td>\n",
              "      <td>0</td>\n",
              "      <td>1</td>\n",
              "      <td>...</td>\n",
              "      <td>0</td>\n",
              "      <td>0</td>\n",
              "      <td>1</td>\n",
              "      <td>0</td>\n",
              "      <td>0</td>\n",
              "      <td>1</td>\n",
              "      <td>0</td>\n",
              "      <td>0</td>\n",
              "      <td>1</td>\n",
              "      <td>0</td>\n",
              "    </tr>\n",
              "    <tr>\n",
              "      <th>5975</th>\n",
              "      <td>1</td>\n",
              "      <td>0</td>\n",
              "      <td>0</td>\n",
              "      <td>0</td>\n",
              "      <td>1</td>\n",
              "      <td>0</td>\n",
              "      <td>0</td>\n",
              "      <td>1</td>\n",
              "      <td>0</td>\n",
              "      <td>1</td>\n",
              "      <td>...</td>\n",
              "      <td>0</td>\n",
              "      <td>1</td>\n",
              "      <td>0</td>\n",
              "      <td>1</td>\n",
              "      <td>0</td>\n",
              "      <td>1</td>\n",
              "      <td>0</td>\n",
              "      <td>1</td>\n",
              "      <td>0</td>\n",
              "      <td>0</td>\n",
              "    </tr>\n",
              "    <tr>\n",
              "      <th>5976</th>\n",
              "      <td>0</td>\n",
              "      <td>0</td>\n",
              "      <td>0</td>\n",
              "      <td>0</td>\n",
              "      <td>0</td>\n",
              "      <td>0</td>\n",
              "      <td>1</td>\n",
              "      <td>0</td>\n",
              "      <td>1</td>\n",
              "      <td>0</td>\n",
              "      <td>...</td>\n",
              "      <td>0</td>\n",
              "      <td>1</td>\n",
              "      <td>1</td>\n",
              "      <td>0</td>\n",
              "      <td>0</td>\n",
              "      <td>1</td>\n",
              "      <td>0</td>\n",
              "      <td>1</td>\n",
              "      <td>0</td>\n",
              "      <td>0</td>\n",
              "    </tr>\n",
              "  </tbody>\n",
              "</table>\n",
              "<p>5977 rows × 37 columns</p>\n",
              "</div>\n",
              "      <button class=\"colab-df-convert\" onclick=\"convertToInteractive('df-6911ec41-4a4b-4a3c-ab20-aa6cc6b995ba')\"\n",
              "              title=\"Convert this dataframe to an interactive table.\"\n",
              "              style=\"display:none;\">\n",
              "        \n",
              "  <svg xmlns=\"http://www.w3.org/2000/svg\" height=\"24px\"viewBox=\"0 0 24 24\"\n",
              "       width=\"24px\">\n",
              "    <path d=\"M0 0h24v24H0V0z\" fill=\"none\"/>\n",
              "    <path d=\"M18.56 5.44l.94 2.06.94-2.06 2.06-.94-2.06-.94-.94-2.06-.94 2.06-2.06.94zm-11 1L8.5 8.5l.94-2.06 2.06-.94-2.06-.94L8.5 2.5l-.94 2.06-2.06.94zm10 10l.94 2.06.94-2.06 2.06-.94-2.06-.94-.94-2.06-.94 2.06-2.06.94z\"/><path d=\"M17.41 7.96l-1.37-1.37c-.4-.4-.92-.59-1.43-.59-.52 0-1.04.2-1.43.59L10.3 9.45l-7.72 7.72c-.78.78-.78 2.05 0 2.83L4 21.41c.39.39.9.59 1.41.59.51 0 1.02-.2 1.41-.59l7.78-7.78 2.81-2.81c.8-.78.8-2.07 0-2.86zM5.41 20L4 18.59l7.72-7.72 1.47 1.35L5.41 20z\"/>\n",
              "  </svg>\n",
              "      </button>\n",
              "      \n",
              "  <style>\n",
              "    .colab-df-container {\n",
              "      display:flex;\n",
              "      flex-wrap:wrap;\n",
              "      gap: 12px;\n",
              "    }\n",
              "\n",
              "    .colab-df-convert {\n",
              "      background-color: #E8F0FE;\n",
              "      border: none;\n",
              "      border-radius: 50%;\n",
              "      cursor: pointer;\n",
              "      display: none;\n",
              "      fill: #1967D2;\n",
              "      height: 32px;\n",
              "      padding: 0 0 0 0;\n",
              "      width: 32px;\n",
              "    }\n",
              "\n",
              "    .colab-df-convert:hover {\n",
              "      background-color: #E2EBFA;\n",
              "      box-shadow: 0px 1px 2px rgba(60, 64, 67, 0.3), 0px 1px 3px 1px rgba(60, 64, 67, 0.15);\n",
              "      fill: #174EA6;\n",
              "    }\n",
              "\n",
              "    [theme=dark] .colab-df-convert {\n",
              "      background-color: #3B4455;\n",
              "      fill: #D2E3FC;\n",
              "    }\n",
              "\n",
              "    [theme=dark] .colab-df-convert:hover {\n",
              "      background-color: #434B5C;\n",
              "      box-shadow: 0px 1px 3px 1px rgba(0, 0, 0, 0.15);\n",
              "      filter: drop-shadow(0px 1px 2px rgba(0, 0, 0, 0.3));\n",
              "      fill: #FFFFFF;\n",
              "    }\n",
              "  </style>\n",
              "\n",
              "      <script>\n",
              "        const buttonEl =\n",
              "          document.querySelector('#df-6911ec41-4a4b-4a3c-ab20-aa6cc6b995ba button.colab-df-convert');\n",
              "        buttonEl.style.display =\n",
              "          google.colab.kernel.accessAllowed ? 'block' : 'none';\n",
              "\n",
              "        async function convertToInteractive(key) {\n",
              "          const element = document.querySelector('#df-6911ec41-4a4b-4a3c-ab20-aa6cc6b995ba');\n",
              "          const dataTable =\n",
              "            await google.colab.kernel.invokeFunction('convertToInteractive',\n",
              "                                                     [key], {});\n",
              "          if (!dataTable) return;\n",
              "\n",
              "          const docLinkHtml = 'Like what you see? Visit the ' +\n",
              "            '<a target=\"_blank\" href=https://colab.research.google.com/notebooks/data_table.ipynb>data table notebook</a>'\n",
              "            + ' to learn more about interactive tables.';\n",
              "          element.innerHTML = '';\n",
              "          dataTable['output_type'] = 'display_data';\n",
              "          await google.colab.output.renderOutput(dataTable, element);\n",
              "          const docLink = document.createElement('div');\n",
              "          docLink.innerHTML = docLinkHtml;\n",
              "          element.appendChild(docLink);\n",
              "        }\n",
              "      </script>\n",
              "    </div>\n",
              "  </div>\n",
              "  "
            ],
            "text/plain": [
              "      Gender_Male  SeniorCitizen_Yes  Partner_Yes  Dependents_Yes  \\\n",
              "0               1                  1            1               0   \n",
              "1               1                  0            0               1   \n",
              "2               1                  0            0               0   \n",
              "3               1                  0            1               1   \n",
              "4               0                  0            0               0   \n",
              "...           ...                ...          ...             ...   \n",
              "5972            1                  0            0               0   \n",
              "5973            1                  0            0               0   \n",
              "5974            1                  1            1               0   \n",
              "5975            1                  0            0               0   \n",
              "5976            0                  0            0               0   \n",
              "\n",
              "      PhoneService_Yes  MultipleLines_No  MultipleLines_No phone service  \\\n",
              "0                    1                 0                               0   \n",
              "1                    1                 0                               0   \n",
              "2                    1                 0                               0   \n",
              "3                    1                 1                               0   \n",
              "4                    1                 1                               0   \n",
              "...                ...               ...                             ...   \n",
              "5972                 1                 1                               0   \n",
              "5973                 1                 1                               0   \n",
              "5974                 1                 1                               0   \n",
              "5975                 1                 0                               0   \n",
              "5976                 0                 0                               1   \n",
              "\n",
              "      MultipleLines_Yes  InternetService_DSL  InternetService_Fiber optic  \\\n",
              "0                     1                    1                            0   \n",
              "1                     1                    0                            1   \n",
              "2                     1                    1                            0   \n",
              "3                     0                    0                            0   \n",
              "4                     0                    1                            0   \n",
              "...                 ...                  ...                          ...   \n",
              "5972                  0                    0                            0   \n",
              "5973                  0                    0                            1   \n",
              "5974                  0                    0                            1   \n",
              "5975                  1                    0                            1   \n",
              "5976                  0                    1                            0   \n",
              "\n",
              "      ...  StreamingMovies_No internet service  StreamingMovies_Yes  \\\n",
              "0     ...                                    0                    0   \n",
              "1     ...                                    0                    1   \n",
              "2     ...                                    0                    0   \n",
              "3     ...                                    1                    0   \n",
              "4     ...                                    0                    0   \n",
              "...   ...                                  ...                  ...   \n",
              "5972  ...                                    1                    0   \n",
              "5973  ...                                    0                    0   \n",
              "5974  ...                                    0                    0   \n",
              "5975  ...                                    0                    1   \n",
              "5976  ...                                    0                    1   \n",
              "\n",
              "      Contract_Month-to-month  Contract_One year  Contract_Two year  \\\n",
              "0                           0                  1                  0   \n",
              "1                           1                  0                  0   \n",
              "2                           1                  0                  0   \n",
              "3                           0                  0                  1   \n",
              "4                           1                  0                  0   \n",
              "...                       ...                ...                ...   \n",
              "5972                        1                  0                  0   \n",
              "5973                        0                  1                  0   \n",
              "5974                        1                  0                  0   \n",
              "5975                        0                  1                  0   \n",
              "5976                        1                  0                  0   \n",
              "\n",
              "      PaperlessBilling_Yes  PaymentMethod_Bank transfer (automatic)  \\\n",
              "0                        0                                        0   \n",
              "1                        1                                        1   \n",
              "2                        0                                        0   \n",
              "3                        0                                        0   \n",
              "4                        1                                        0   \n",
              "...                    ...                                      ...   \n",
              "5972                     1                                        0   \n",
              "5973                     1                                        0   \n",
              "5974                     1                                        0   \n",
              "5975                     1                                        0   \n",
              "5976                     1                                        0   \n",
              "\n",
              "      PaymentMethod_Credit card (automatic)  PaymentMethod_Electronic check  \\\n",
              "0                                         1                               0   \n",
              "1                                         0                               0   \n",
              "2                                         0                               1   \n",
              "3                                         0                               0   \n",
              "4                                         0                               0   \n",
              "...                                     ...                             ...   \n",
              "5972                                      0                               0   \n",
              "5973                                      0                               1   \n",
              "5974                                      0                               1   \n",
              "5975                                      1                               0   \n",
              "5976                                      1                               0   \n",
              "\n",
              "      PaymentMethod_Mailed check  \n",
              "0                              0  \n",
              "1                              0  \n",
              "2                              0  \n",
              "3                              1  \n",
              "4                              1  \n",
              "...                          ...  \n",
              "5972                           1  \n",
              "5973                           0  \n",
              "5974                           0  \n",
              "5975                           0  \n",
              "5976                           0  \n",
              "\n",
              "[5977 rows x 37 columns]"
            ]
          },
          "execution_count": 22,
          "metadata": {},
          "output_type": "execute_result"
        }
      ],
      "source": [
        "# Mapeando as colunas codificadas para o X\n",
        "X_train_enc = pd.DataFrame(X_enc.transform(X_train.iloc[:, :-3]), columns=X_enc_names)\n",
        "X_train_enc"
      ]
    },
    {
      "cell_type": "code",
      "execution_count": null,
      "metadata": {
        "id": "BNz9Zr_ktqEJ"
      },
      "outputs": [],
      "source": [
        "# Adicionando as colunas numéricas\n",
        "for column in X_train.columns[-3:]:\n",
        "  X_train_enc[column] = X_train[column].to_numpy()"
      ]
    },
    {
      "cell_type": "code",
      "execution_count": null,
      "metadata": {
        "colab": {
          "base_uri": "https://localhost:8080/",
          "height": 522
        },
        "id": "Qd_pRti3q9lV",
        "outputId": "1be7282e-2828-447b-d1e1-7e4b48b2454c"
      },
      "outputs": [
        {
          "data": {
            "text/html": [
              "\n",
              "  <div id=\"df-8d97ae32-bf4b-4d98-880f-1c4eca651691\">\n",
              "    <div class=\"colab-df-container\">\n",
              "      <div>\n",
              "<style scoped>\n",
              "    .dataframe tbody tr th:only-of-type {\n",
              "        vertical-align: middle;\n",
              "    }\n",
              "\n",
              "    .dataframe tbody tr th {\n",
              "        vertical-align: top;\n",
              "    }\n",
              "\n",
              "    .dataframe thead th {\n",
              "        text-align: right;\n",
              "    }\n",
              "</style>\n",
              "<table border=\"1\" class=\"dataframe\">\n",
              "  <thead>\n",
              "    <tr style=\"text-align: right;\">\n",
              "      <th></th>\n",
              "      <th>Gender_Male</th>\n",
              "      <th>SeniorCitizen_Yes</th>\n",
              "      <th>Partner_Yes</th>\n",
              "      <th>Dependents_Yes</th>\n",
              "      <th>PhoneService_Yes</th>\n",
              "      <th>MultipleLines_No</th>\n",
              "      <th>MultipleLines_No phone service</th>\n",
              "      <th>MultipleLines_Yes</th>\n",
              "      <th>InternetService_DSL</th>\n",
              "      <th>InternetService_Fiber optic</th>\n",
              "      <th>...</th>\n",
              "      <th>Contract_One year</th>\n",
              "      <th>Contract_Two year</th>\n",
              "      <th>PaperlessBilling_Yes</th>\n",
              "      <th>PaymentMethod_Bank transfer (automatic)</th>\n",
              "      <th>PaymentMethod_Credit card (automatic)</th>\n",
              "      <th>PaymentMethod_Electronic check</th>\n",
              "      <th>PaymentMethod_Mailed check</th>\n",
              "      <th>Tenure</th>\n",
              "      <th>Charges_Monthly</th>\n",
              "      <th>Charges_Total</th>\n",
              "    </tr>\n",
              "  </thead>\n",
              "  <tbody>\n",
              "    <tr>\n",
              "      <th>0</th>\n",
              "      <td>1</td>\n",
              "      <td>1</td>\n",
              "      <td>1</td>\n",
              "      <td>0</td>\n",
              "      <td>1</td>\n",
              "      <td>0</td>\n",
              "      <td>0</td>\n",
              "      <td>1</td>\n",
              "      <td>1</td>\n",
              "      <td>0</td>\n",
              "      <td>...</td>\n",
              "      <td>1</td>\n",
              "      <td>0</td>\n",
              "      <td>0</td>\n",
              "      <td>0</td>\n",
              "      <td>1</td>\n",
              "      <td>0</td>\n",
              "      <td>0</td>\n",
              "      <td>55</td>\n",
              "      <td>60.00</td>\n",
              "      <td>3316.10</td>\n",
              "    </tr>\n",
              "    <tr>\n",
              "      <th>1</th>\n",
              "      <td>1</td>\n",
              "      <td>0</td>\n",
              "      <td>0</td>\n",
              "      <td>1</td>\n",
              "      <td>1</td>\n",
              "      <td>0</td>\n",
              "      <td>0</td>\n",
              "      <td>1</td>\n",
              "      <td>0</td>\n",
              "      <td>1</td>\n",
              "      <td>...</td>\n",
              "      <td>0</td>\n",
              "      <td>0</td>\n",
              "      <td>1</td>\n",
              "      <td>1</td>\n",
              "      <td>0</td>\n",
              "      <td>0</td>\n",
              "      <td>0</td>\n",
              "      <td>33</td>\n",
              "      <td>95.30</td>\n",
              "      <td>3275.15</td>\n",
              "    </tr>\n",
              "    <tr>\n",
              "      <th>2</th>\n",
              "      <td>1</td>\n",
              "      <td>0</td>\n",
              "      <td>0</td>\n",
              "      <td>0</td>\n",
              "      <td>1</td>\n",
              "      <td>0</td>\n",
              "      <td>0</td>\n",
              "      <td>1</td>\n",
              "      <td>1</td>\n",
              "      <td>0</td>\n",
              "      <td>...</td>\n",
              "      <td>0</td>\n",
              "      <td>0</td>\n",
              "      <td>0</td>\n",
              "      <td>0</td>\n",
              "      <td>0</td>\n",
              "      <td>1</td>\n",
              "      <td>0</td>\n",
              "      <td>1</td>\n",
              "      <td>54.35</td>\n",
              "      <td>54.35</td>\n",
              "    </tr>\n",
              "    <tr>\n",
              "      <th>3</th>\n",
              "      <td>1</td>\n",
              "      <td>0</td>\n",
              "      <td>1</td>\n",
              "      <td>1</td>\n",
              "      <td>1</td>\n",
              "      <td>1</td>\n",
              "      <td>0</td>\n",
              "      <td>0</td>\n",
              "      <td>0</td>\n",
              "      <td>0</td>\n",
              "      <td>...</td>\n",
              "      <td>0</td>\n",
              "      <td>1</td>\n",
              "      <td>0</td>\n",
              "      <td>0</td>\n",
              "      <td>0</td>\n",
              "      <td>0</td>\n",
              "      <td>1</td>\n",
              "      <td>52</td>\n",
              "      <td>19.20</td>\n",
              "      <td>1054.75</td>\n",
              "    </tr>\n",
              "    <tr>\n",
              "      <th>4</th>\n",
              "      <td>0</td>\n",
              "      <td>0</td>\n",
              "      <td>0</td>\n",
              "      <td>0</td>\n",
              "      <td>1</td>\n",
              "      <td>1</td>\n",
              "      <td>0</td>\n",
              "      <td>0</td>\n",
              "      <td>1</td>\n",
              "      <td>0</td>\n",
              "      <td>...</td>\n",
              "      <td>0</td>\n",
              "      <td>0</td>\n",
              "      <td>1</td>\n",
              "      <td>0</td>\n",
              "      <td>0</td>\n",
              "      <td>0</td>\n",
              "      <td>1</td>\n",
              "      <td>2</td>\n",
              "      <td>45.85</td>\n",
              "      <td>105.60</td>\n",
              "    </tr>\n",
              "    <tr>\n",
              "      <th>...</th>\n",
              "      <td>...</td>\n",
              "      <td>...</td>\n",
              "      <td>...</td>\n",
              "      <td>...</td>\n",
              "      <td>...</td>\n",
              "      <td>...</td>\n",
              "      <td>...</td>\n",
              "      <td>...</td>\n",
              "      <td>...</td>\n",
              "      <td>...</td>\n",
              "      <td>...</td>\n",
              "      <td>...</td>\n",
              "      <td>...</td>\n",
              "      <td>...</td>\n",
              "      <td>...</td>\n",
              "      <td>...</td>\n",
              "      <td>...</td>\n",
              "      <td>...</td>\n",
              "      <td>...</td>\n",
              "      <td>...</td>\n",
              "      <td>...</td>\n",
              "    </tr>\n",
              "    <tr>\n",
              "      <th>5972</th>\n",
              "      <td>1</td>\n",
              "      <td>0</td>\n",
              "      <td>0</td>\n",
              "      <td>0</td>\n",
              "      <td>1</td>\n",
              "      <td>1</td>\n",
              "      <td>0</td>\n",
              "      <td>0</td>\n",
              "      <td>0</td>\n",
              "      <td>0</td>\n",
              "      <td>...</td>\n",
              "      <td>0</td>\n",
              "      <td>0</td>\n",
              "      <td>1</td>\n",
              "      <td>0</td>\n",
              "      <td>0</td>\n",
              "      <td>0</td>\n",
              "      <td>1</td>\n",
              "      <td>2</td>\n",
              "      <td>19.65</td>\n",
              "      <td>38.80</td>\n",
              "    </tr>\n",
              "    <tr>\n",
              "      <th>5973</th>\n",
              "      <td>1</td>\n",
              "      <td>0</td>\n",
              "      <td>0</td>\n",
              "      <td>0</td>\n",
              "      <td>1</td>\n",
              "      <td>1</td>\n",
              "      <td>0</td>\n",
              "      <td>0</td>\n",
              "      <td>0</td>\n",
              "      <td>1</td>\n",
              "      <td>...</td>\n",
              "      <td>1</td>\n",
              "      <td>0</td>\n",
              "      <td>1</td>\n",
              "      <td>0</td>\n",
              "      <td>0</td>\n",
              "      <td>1</td>\n",
              "      <td>0</td>\n",
              "      <td>41</td>\n",
              "      <td>89.55</td>\n",
              "      <td>3729.75</td>\n",
              "    </tr>\n",
              "    <tr>\n",
              "      <th>5974</th>\n",
              "      <td>1</td>\n",
              "      <td>1</td>\n",
              "      <td>1</td>\n",
              "      <td>0</td>\n",
              "      <td>1</td>\n",
              "      <td>1</td>\n",
              "      <td>0</td>\n",
              "      <td>0</td>\n",
              "      <td>0</td>\n",
              "      <td>1</td>\n",
              "      <td>...</td>\n",
              "      <td>0</td>\n",
              "      <td>0</td>\n",
              "      <td>1</td>\n",
              "      <td>0</td>\n",
              "      <td>0</td>\n",
              "      <td>1</td>\n",
              "      <td>0</td>\n",
              "      <td>27</td>\n",
              "      <td>70.55</td>\n",
              "      <td>1943.90</td>\n",
              "    </tr>\n",
              "    <tr>\n",
              "      <th>5975</th>\n",
              "      <td>1</td>\n",
              "      <td>0</td>\n",
              "      <td>0</td>\n",
              "      <td>0</td>\n",
              "      <td>1</td>\n",
              "      <td>0</td>\n",
              "      <td>0</td>\n",
              "      <td>1</td>\n",
              "      <td>0</td>\n",
              "      <td>1</td>\n",
              "      <td>...</td>\n",
              "      <td>1</td>\n",
              "      <td>0</td>\n",
              "      <td>1</td>\n",
              "      <td>0</td>\n",
              "      <td>1</td>\n",
              "      <td>0</td>\n",
              "      <td>0</td>\n",
              "      <td>65</td>\n",
              "      <td>110.00</td>\n",
              "      <td>7138.65</td>\n",
              "    </tr>\n",
              "    <tr>\n",
              "      <th>5976</th>\n",
              "      <td>0</td>\n",
              "      <td>0</td>\n",
              "      <td>0</td>\n",
              "      <td>0</td>\n",
              "      <td>0</td>\n",
              "      <td>0</td>\n",
              "      <td>1</td>\n",
              "      <td>0</td>\n",
              "      <td>1</td>\n",
              "      <td>0</td>\n",
              "      <td>...</td>\n",
              "      <td>0</td>\n",
              "      <td>0</td>\n",
              "      <td>1</td>\n",
              "      <td>0</td>\n",
              "      <td>1</td>\n",
              "      <td>0</td>\n",
              "      <td>0</td>\n",
              "      <td>37</td>\n",
              "      <td>40.20</td>\n",
              "      <td>1478.85</td>\n",
              "    </tr>\n",
              "  </tbody>\n",
              "</table>\n",
              "<p>5977 rows × 40 columns</p>\n",
              "</div>\n",
              "      <button class=\"colab-df-convert\" onclick=\"convertToInteractive('df-8d97ae32-bf4b-4d98-880f-1c4eca651691')\"\n",
              "              title=\"Convert this dataframe to an interactive table.\"\n",
              "              style=\"display:none;\">\n",
              "        \n",
              "  <svg xmlns=\"http://www.w3.org/2000/svg\" height=\"24px\"viewBox=\"0 0 24 24\"\n",
              "       width=\"24px\">\n",
              "    <path d=\"M0 0h24v24H0V0z\" fill=\"none\"/>\n",
              "    <path d=\"M18.56 5.44l.94 2.06.94-2.06 2.06-.94-2.06-.94-.94-2.06-.94 2.06-2.06.94zm-11 1L8.5 8.5l.94-2.06 2.06-.94-2.06-.94L8.5 2.5l-.94 2.06-2.06.94zm10 10l.94 2.06.94-2.06 2.06-.94-2.06-.94-.94-2.06-.94 2.06-2.06.94z\"/><path d=\"M17.41 7.96l-1.37-1.37c-.4-.4-.92-.59-1.43-.59-.52 0-1.04.2-1.43.59L10.3 9.45l-7.72 7.72c-.78.78-.78 2.05 0 2.83L4 21.41c.39.39.9.59 1.41.59.51 0 1.02-.2 1.41-.59l7.78-7.78 2.81-2.81c.8-.78.8-2.07 0-2.86zM5.41 20L4 18.59l7.72-7.72 1.47 1.35L5.41 20z\"/>\n",
              "  </svg>\n",
              "      </button>\n",
              "      \n",
              "  <style>\n",
              "    .colab-df-container {\n",
              "      display:flex;\n",
              "      flex-wrap:wrap;\n",
              "      gap: 12px;\n",
              "    }\n",
              "\n",
              "    .colab-df-convert {\n",
              "      background-color: #E8F0FE;\n",
              "      border: none;\n",
              "      border-radius: 50%;\n",
              "      cursor: pointer;\n",
              "      display: none;\n",
              "      fill: #1967D2;\n",
              "      height: 32px;\n",
              "      padding: 0 0 0 0;\n",
              "      width: 32px;\n",
              "    }\n",
              "\n",
              "    .colab-df-convert:hover {\n",
              "      background-color: #E2EBFA;\n",
              "      box-shadow: 0px 1px 2px rgba(60, 64, 67, 0.3), 0px 1px 3px 1px rgba(60, 64, 67, 0.15);\n",
              "      fill: #174EA6;\n",
              "    }\n",
              "\n",
              "    [theme=dark] .colab-df-convert {\n",
              "      background-color: #3B4455;\n",
              "      fill: #D2E3FC;\n",
              "    }\n",
              "\n",
              "    [theme=dark] .colab-df-convert:hover {\n",
              "      background-color: #434B5C;\n",
              "      box-shadow: 0px 1px 3px 1px rgba(0, 0, 0, 0.15);\n",
              "      filter: drop-shadow(0px 1px 2px rgba(0, 0, 0, 0.3));\n",
              "      fill: #FFFFFF;\n",
              "    }\n",
              "  </style>\n",
              "\n",
              "      <script>\n",
              "        const buttonEl =\n",
              "          document.querySelector('#df-8d97ae32-bf4b-4d98-880f-1c4eca651691 button.colab-df-convert');\n",
              "        buttonEl.style.display =\n",
              "          google.colab.kernel.accessAllowed ? 'block' : 'none';\n",
              "\n",
              "        async function convertToInteractive(key) {\n",
              "          const element = document.querySelector('#df-8d97ae32-bf4b-4d98-880f-1c4eca651691');\n",
              "          const dataTable =\n",
              "            await google.colab.kernel.invokeFunction('convertToInteractive',\n",
              "                                                     [key], {});\n",
              "          if (!dataTable) return;\n",
              "\n",
              "          const docLinkHtml = 'Like what you see? Visit the ' +\n",
              "            '<a target=\"_blank\" href=https://colab.research.google.com/notebooks/data_table.ipynb>data table notebook</a>'\n",
              "            + ' to learn more about interactive tables.';\n",
              "          element.innerHTML = '';\n",
              "          dataTable['output_type'] = 'display_data';\n",
              "          await google.colab.output.renderOutput(dataTable, element);\n",
              "          const docLink = document.createElement('div');\n",
              "          docLink.innerHTML = docLinkHtml;\n",
              "          element.appendChild(docLink);\n",
              "        }\n",
              "      </script>\n",
              "    </div>\n",
              "  </div>\n",
              "  "
            ],
            "text/plain": [
              "      Gender_Male  SeniorCitizen_Yes  Partner_Yes  Dependents_Yes  \\\n",
              "0               1                  1            1               0   \n",
              "1               1                  0            0               1   \n",
              "2               1                  0            0               0   \n",
              "3               1                  0            1               1   \n",
              "4               0                  0            0               0   \n",
              "...           ...                ...          ...             ...   \n",
              "5972            1                  0            0               0   \n",
              "5973            1                  0            0               0   \n",
              "5974            1                  1            1               0   \n",
              "5975            1                  0            0               0   \n",
              "5976            0                  0            0               0   \n",
              "\n",
              "      PhoneService_Yes  MultipleLines_No  MultipleLines_No phone service  \\\n",
              "0                    1                 0                               0   \n",
              "1                    1                 0                               0   \n",
              "2                    1                 0                               0   \n",
              "3                    1                 1                               0   \n",
              "4                    1                 1                               0   \n",
              "...                ...               ...                             ...   \n",
              "5972                 1                 1                               0   \n",
              "5973                 1                 1                               0   \n",
              "5974                 1                 1                               0   \n",
              "5975                 1                 0                               0   \n",
              "5976                 0                 0                               1   \n",
              "\n",
              "      MultipleLines_Yes  InternetService_DSL  InternetService_Fiber optic  \\\n",
              "0                     1                    1                            0   \n",
              "1                     1                    0                            1   \n",
              "2                     1                    1                            0   \n",
              "3                     0                    0                            0   \n",
              "4                     0                    1                            0   \n",
              "...                 ...                  ...                          ...   \n",
              "5972                  0                    0                            0   \n",
              "5973                  0                    0                            1   \n",
              "5974                  0                    0                            1   \n",
              "5975                  1                    0                            1   \n",
              "5976                  0                    1                            0   \n",
              "\n",
              "      ...  Contract_One year  Contract_Two year  PaperlessBilling_Yes  \\\n",
              "0     ...                  1                  0                     0   \n",
              "1     ...                  0                  0                     1   \n",
              "2     ...                  0                  0                     0   \n",
              "3     ...                  0                  1                     0   \n",
              "4     ...                  0                  0                     1   \n",
              "...   ...                ...                ...                   ...   \n",
              "5972  ...                  0                  0                     1   \n",
              "5973  ...                  1                  0                     1   \n",
              "5974  ...                  0                  0                     1   \n",
              "5975  ...                  1                  0                     1   \n",
              "5976  ...                  0                  0                     1   \n",
              "\n",
              "      PaymentMethod_Bank transfer (automatic)  \\\n",
              "0                                           0   \n",
              "1                                           1   \n",
              "2                                           0   \n",
              "3                                           0   \n",
              "4                                           0   \n",
              "...                                       ...   \n",
              "5972                                        0   \n",
              "5973                                        0   \n",
              "5974                                        0   \n",
              "5975                                        0   \n",
              "5976                                        0   \n",
              "\n",
              "      PaymentMethod_Credit card (automatic)  PaymentMethod_Electronic check  \\\n",
              "0                                         1                               0   \n",
              "1                                         0                               0   \n",
              "2                                         0                               1   \n",
              "3                                         0                               0   \n",
              "4                                         0                               0   \n",
              "...                                     ...                             ...   \n",
              "5972                                      0                               0   \n",
              "5973                                      0                               1   \n",
              "5974                                      0                               1   \n",
              "5975                                      1                               0   \n",
              "5976                                      1                               0   \n",
              "\n",
              "      PaymentMethod_Mailed check  Tenure  Charges_Monthly  Charges_Total  \n",
              "0                              0      55            60.00        3316.10  \n",
              "1                              0      33            95.30        3275.15  \n",
              "2                              0       1            54.35          54.35  \n",
              "3                              1      52            19.20        1054.75  \n",
              "4                              1       2            45.85         105.60  \n",
              "...                          ...     ...              ...            ...  \n",
              "5972                           1       2            19.65          38.80  \n",
              "5973                           0      41            89.55        3729.75  \n",
              "5974                           0      27            70.55        1943.90  \n",
              "5975                           0      65           110.00        7138.65  \n",
              "5976                           0      37            40.20        1478.85  \n",
              "\n",
              "[5977 rows x 40 columns]"
            ]
          },
          "execution_count": 24,
          "metadata": {},
          "output_type": "execute_result"
        }
      ],
      "source": [
        "X_train_enc"
      ]
    },
    {
      "cell_type": "code",
      "execution_count": null,
      "metadata": {
        "colab": {
          "base_uri": "https://localhost:8080/",
          "height": 522
        },
        "id": "2EVVXMkJuq93",
        "outputId": "c569e325-c7f8-4b0d-f0fe-f1b789c02eb5"
      },
      "outputs": [
        {
          "data": {
            "text/html": [
              "\n",
              "  <div id=\"df-e429bfb0-08be-4ae6-bfdc-90d9cfe60b98\">\n",
              "    <div class=\"colab-df-container\">\n",
              "      <div>\n",
              "<style scoped>\n",
              "    .dataframe tbody tr th:only-of-type {\n",
              "        vertical-align: middle;\n",
              "    }\n",
              "\n",
              "    .dataframe tbody tr th {\n",
              "        vertical-align: top;\n",
              "    }\n",
              "\n",
              "    .dataframe thead th {\n",
              "        text-align: right;\n",
              "    }\n",
              "</style>\n",
              "<table border=\"1\" class=\"dataframe\">\n",
              "  <thead>\n",
              "    <tr style=\"text-align: right;\">\n",
              "      <th></th>\n",
              "      <th>Gender_Male</th>\n",
              "      <th>SeniorCitizen_Yes</th>\n",
              "      <th>Partner_Yes</th>\n",
              "      <th>Dependents_Yes</th>\n",
              "      <th>PhoneService_Yes</th>\n",
              "      <th>MultipleLines_No</th>\n",
              "      <th>MultipleLines_No phone service</th>\n",
              "      <th>MultipleLines_Yes</th>\n",
              "      <th>InternetService_DSL</th>\n",
              "      <th>InternetService_Fiber optic</th>\n",
              "      <th>...</th>\n",
              "      <th>Contract_One year</th>\n",
              "      <th>Contract_Two year</th>\n",
              "      <th>PaperlessBilling_Yes</th>\n",
              "      <th>PaymentMethod_Bank transfer (automatic)</th>\n",
              "      <th>PaymentMethod_Credit card (automatic)</th>\n",
              "      <th>PaymentMethod_Electronic check</th>\n",
              "      <th>PaymentMethod_Mailed check</th>\n",
              "      <th>Tenure</th>\n",
              "      <th>Charges_Monthly</th>\n",
              "      <th>Charges_Total</th>\n",
              "    </tr>\n",
              "  </thead>\n",
              "  <tbody>\n",
              "    <tr>\n",
              "      <th>0</th>\n",
              "      <td>0</td>\n",
              "      <td>0</td>\n",
              "      <td>0</td>\n",
              "      <td>0</td>\n",
              "      <td>1</td>\n",
              "      <td>0</td>\n",
              "      <td>0</td>\n",
              "      <td>1</td>\n",
              "      <td>0</td>\n",
              "      <td>1</td>\n",
              "      <td>...</td>\n",
              "      <td>0</td>\n",
              "      <td>0</td>\n",
              "      <td>0</td>\n",
              "      <td>0</td>\n",
              "      <td>0</td>\n",
              "      <td>1</td>\n",
              "      <td>0</td>\n",
              "      <td>5</td>\n",
              "      <td>75.60</td>\n",
              "      <td>402.50</td>\n",
              "    </tr>\n",
              "    <tr>\n",
              "      <th>1</th>\n",
              "      <td>0</td>\n",
              "      <td>1</td>\n",
              "      <td>1</td>\n",
              "      <td>0</td>\n",
              "      <td>1</td>\n",
              "      <td>0</td>\n",
              "      <td>0</td>\n",
              "      <td>1</td>\n",
              "      <td>0</td>\n",
              "      <td>1</td>\n",
              "      <td>...</td>\n",
              "      <td>0</td>\n",
              "      <td>0</td>\n",
              "      <td>0</td>\n",
              "      <td>1</td>\n",
              "      <td>0</td>\n",
              "      <td>0</td>\n",
              "      <td>0</td>\n",
              "      <td>50</td>\n",
              "      <td>108.75</td>\n",
              "      <td>5431.90</td>\n",
              "    </tr>\n",
              "    <tr>\n",
              "      <th>2</th>\n",
              "      <td>0</td>\n",
              "      <td>0</td>\n",
              "      <td>0</td>\n",
              "      <td>0</td>\n",
              "      <td>1</td>\n",
              "      <td>0</td>\n",
              "      <td>0</td>\n",
              "      <td>1</td>\n",
              "      <td>1</td>\n",
              "      <td>0</td>\n",
              "      <td>...</td>\n",
              "      <td>0</td>\n",
              "      <td>0</td>\n",
              "      <td>1</td>\n",
              "      <td>0</td>\n",
              "      <td>0</td>\n",
              "      <td>1</td>\n",
              "      <td>0</td>\n",
              "      <td>2</td>\n",
              "      <td>49.40</td>\n",
              "      <td>106.55</td>\n",
              "    </tr>\n",
              "    <tr>\n",
              "      <th>3</th>\n",
              "      <td>0</td>\n",
              "      <td>0</td>\n",
              "      <td>0</td>\n",
              "      <td>0</td>\n",
              "      <td>1</td>\n",
              "      <td>0</td>\n",
              "      <td>0</td>\n",
              "      <td>1</td>\n",
              "      <td>0</td>\n",
              "      <td>1</td>\n",
              "      <td>...</td>\n",
              "      <td>0</td>\n",
              "      <td>0</td>\n",
              "      <td>1</td>\n",
              "      <td>0</td>\n",
              "      <td>1</td>\n",
              "      <td>0</td>\n",
              "      <td>0</td>\n",
              "      <td>29</td>\n",
              "      <td>76.00</td>\n",
              "      <td>2215.25</td>\n",
              "    </tr>\n",
              "    <tr>\n",
              "      <th>4</th>\n",
              "      <td>0</td>\n",
              "      <td>0</td>\n",
              "      <td>0</td>\n",
              "      <td>1</td>\n",
              "      <td>1</td>\n",
              "      <td>1</td>\n",
              "      <td>0</td>\n",
              "      <td>0</td>\n",
              "      <td>0</td>\n",
              "      <td>1</td>\n",
              "      <td>...</td>\n",
              "      <td>0</td>\n",
              "      <td>0</td>\n",
              "      <td>1</td>\n",
              "      <td>1</td>\n",
              "      <td>0</td>\n",
              "      <td>0</td>\n",
              "      <td>0</td>\n",
              "      <td>4</td>\n",
              "      <td>98.10</td>\n",
              "      <td>396.30</td>\n",
              "    </tr>\n",
              "    <tr>\n",
              "      <th>...</th>\n",
              "      <td>...</td>\n",
              "      <td>...</td>\n",
              "      <td>...</td>\n",
              "      <td>...</td>\n",
              "      <td>...</td>\n",
              "      <td>...</td>\n",
              "      <td>...</td>\n",
              "      <td>...</td>\n",
              "      <td>...</td>\n",
              "      <td>...</td>\n",
              "      <td>...</td>\n",
              "      <td>...</td>\n",
              "      <td>...</td>\n",
              "      <td>...</td>\n",
              "      <td>...</td>\n",
              "      <td>...</td>\n",
              "      <td>...</td>\n",
              "      <td>...</td>\n",
              "      <td>...</td>\n",
              "      <td>...</td>\n",
              "      <td>...</td>\n",
              "    </tr>\n",
              "    <tr>\n",
              "      <th>1050</th>\n",
              "      <td>1</td>\n",
              "      <td>0</td>\n",
              "      <td>0</td>\n",
              "      <td>0</td>\n",
              "      <td>1</td>\n",
              "      <td>1</td>\n",
              "      <td>0</td>\n",
              "      <td>0</td>\n",
              "      <td>0</td>\n",
              "      <td>0</td>\n",
              "      <td>...</td>\n",
              "      <td>0</td>\n",
              "      <td>0</td>\n",
              "      <td>1</td>\n",
              "      <td>0</td>\n",
              "      <td>1</td>\n",
              "      <td>0</td>\n",
              "      <td>0</td>\n",
              "      <td>16</td>\n",
              "      <td>20.60</td>\n",
              "      <td>330.25</td>\n",
              "    </tr>\n",
              "    <tr>\n",
              "      <th>1051</th>\n",
              "      <td>1</td>\n",
              "      <td>0</td>\n",
              "      <td>1</td>\n",
              "      <td>0</td>\n",
              "      <td>1</td>\n",
              "      <td>0</td>\n",
              "      <td>0</td>\n",
              "      <td>1</td>\n",
              "      <td>1</td>\n",
              "      <td>0</td>\n",
              "      <td>...</td>\n",
              "      <td>0</td>\n",
              "      <td>1</td>\n",
              "      <td>1</td>\n",
              "      <td>1</td>\n",
              "      <td>0</td>\n",
              "      <td>0</td>\n",
              "      <td>0</td>\n",
              "      <td>61</td>\n",
              "      <td>80.80</td>\n",
              "      <td>4860.85</td>\n",
              "    </tr>\n",
              "    <tr>\n",
              "      <th>1052</th>\n",
              "      <td>1</td>\n",
              "      <td>0</td>\n",
              "      <td>0</td>\n",
              "      <td>0</td>\n",
              "      <td>1</td>\n",
              "      <td>1</td>\n",
              "      <td>0</td>\n",
              "      <td>0</td>\n",
              "      <td>1</td>\n",
              "      <td>0</td>\n",
              "      <td>...</td>\n",
              "      <td>0</td>\n",
              "      <td>0</td>\n",
              "      <td>0</td>\n",
              "      <td>0</td>\n",
              "      <td>0</td>\n",
              "      <td>1</td>\n",
              "      <td>0</td>\n",
              "      <td>2</td>\n",
              "      <td>44.35</td>\n",
              "      <td>81.25</td>\n",
              "    </tr>\n",
              "    <tr>\n",
              "      <th>1053</th>\n",
              "      <td>0</td>\n",
              "      <td>0</td>\n",
              "      <td>0</td>\n",
              "      <td>0</td>\n",
              "      <td>1</td>\n",
              "      <td>0</td>\n",
              "      <td>0</td>\n",
              "      <td>1</td>\n",
              "      <td>0</td>\n",
              "      <td>1</td>\n",
              "      <td>...</td>\n",
              "      <td>0</td>\n",
              "      <td>0</td>\n",
              "      <td>1</td>\n",
              "      <td>0</td>\n",
              "      <td>0</td>\n",
              "      <td>1</td>\n",
              "      <td>0</td>\n",
              "      <td>3</td>\n",
              "      <td>75.80</td>\n",
              "      <td>246.30</td>\n",
              "    </tr>\n",
              "    <tr>\n",
              "      <th>1054</th>\n",
              "      <td>0</td>\n",
              "      <td>0</td>\n",
              "      <td>0</td>\n",
              "      <td>0</td>\n",
              "      <td>0</td>\n",
              "      <td>0</td>\n",
              "      <td>1</td>\n",
              "      <td>0</td>\n",
              "      <td>1</td>\n",
              "      <td>0</td>\n",
              "      <td>...</td>\n",
              "      <td>1</td>\n",
              "      <td>0</td>\n",
              "      <td>1</td>\n",
              "      <td>0</td>\n",
              "      <td>1</td>\n",
              "      <td>0</td>\n",
              "      <td>0</td>\n",
              "      <td>30</td>\n",
              "      <td>40.35</td>\n",
              "      <td>1187.05</td>\n",
              "    </tr>\n",
              "  </tbody>\n",
              "</table>\n",
              "<p>1055 rows × 40 columns</p>\n",
              "</div>\n",
              "      <button class=\"colab-df-convert\" onclick=\"convertToInteractive('df-e429bfb0-08be-4ae6-bfdc-90d9cfe60b98')\"\n",
              "              title=\"Convert this dataframe to an interactive table.\"\n",
              "              style=\"display:none;\">\n",
              "        \n",
              "  <svg xmlns=\"http://www.w3.org/2000/svg\" height=\"24px\"viewBox=\"0 0 24 24\"\n",
              "       width=\"24px\">\n",
              "    <path d=\"M0 0h24v24H0V0z\" fill=\"none\"/>\n",
              "    <path d=\"M18.56 5.44l.94 2.06.94-2.06 2.06-.94-2.06-.94-.94-2.06-.94 2.06-2.06.94zm-11 1L8.5 8.5l.94-2.06 2.06-.94-2.06-.94L8.5 2.5l-.94 2.06-2.06.94zm10 10l.94 2.06.94-2.06 2.06-.94-2.06-.94-.94-2.06-.94 2.06-2.06.94z\"/><path d=\"M17.41 7.96l-1.37-1.37c-.4-.4-.92-.59-1.43-.59-.52 0-1.04.2-1.43.59L10.3 9.45l-7.72 7.72c-.78.78-.78 2.05 0 2.83L4 21.41c.39.39.9.59 1.41.59.51 0 1.02-.2 1.41-.59l7.78-7.78 2.81-2.81c.8-.78.8-2.07 0-2.86zM5.41 20L4 18.59l7.72-7.72 1.47 1.35L5.41 20z\"/>\n",
              "  </svg>\n",
              "      </button>\n",
              "      \n",
              "  <style>\n",
              "    .colab-df-container {\n",
              "      display:flex;\n",
              "      flex-wrap:wrap;\n",
              "      gap: 12px;\n",
              "    }\n",
              "\n",
              "    .colab-df-convert {\n",
              "      background-color: #E8F0FE;\n",
              "      border: none;\n",
              "      border-radius: 50%;\n",
              "      cursor: pointer;\n",
              "      display: none;\n",
              "      fill: #1967D2;\n",
              "      height: 32px;\n",
              "      padding: 0 0 0 0;\n",
              "      width: 32px;\n",
              "    }\n",
              "\n",
              "    .colab-df-convert:hover {\n",
              "      background-color: #E2EBFA;\n",
              "      box-shadow: 0px 1px 2px rgba(60, 64, 67, 0.3), 0px 1px 3px 1px rgba(60, 64, 67, 0.15);\n",
              "      fill: #174EA6;\n",
              "    }\n",
              "\n",
              "    [theme=dark] .colab-df-convert {\n",
              "      background-color: #3B4455;\n",
              "      fill: #D2E3FC;\n",
              "    }\n",
              "\n",
              "    [theme=dark] .colab-df-convert:hover {\n",
              "      background-color: #434B5C;\n",
              "      box-shadow: 0px 1px 3px 1px rgba(0, 0, 0, 0.15);\n",
              "      filter: drop-shadow(0px 1px 2px rgba(0, 0, 0, 0.3));\n",
              "      fill: #FFFFFF;\n",
              "    }\n",
              "  </style>\n",
              "\n",
              "      <script>\n",
              "        const buttonEl =\n",
              "          document.querySelector('#df-e429bfb0-08be-4ae6-bfdc-90d9cfe60b98 button.colab-df-convert');\n",
              "        buttonEl.style.display =\n",
              "          google.colab.kernel.accessAllowed ? 'block' : 'none';\n",
              "\n",
              "        async function convertToInteractive(key) {\n",
              "          const element = document.querySelector('#df-e429bfb0-08be-4ae6-bfdc-90d9cfe60b98');\n",
              "          const dataTable =\n",
              "            await google.colab.kernel.invokeFunction('convertToInteractive',\n",
              "                                                     [key], {});\n",
              "          if (!dataTable) return;\n",
              "\n",
              "          const docLinkHtml = 'Like what you see? Visit the ' +\n",
              "            '<a target=\"_blank\" href=https://colab.research.google.com/notebooks/data_table.ipynb>data table notebook</a>'\n",
              "            + ' to learn more about interactive tables.';\n",
              "          element.innerHTML = '';\n",
              "          dataTable['output_type'] = 'display_data';\n",
              "          await google.colab.output.renderOutput(dataTable, element);\n",
              "          const docLink = document.createElement('div');\n",
              "          docLink.innerHTML = docLinkHtml;\n",
              "          element.appendChild(docLink);\n",
              "        }\n",
              "      </script>\n",
              "    </div>\n",
              "  </div>\n",
              "  "
            ],
            "text/plain": [
              "      Gender_Male  SeniorCitizen_Yes  Partner_Yes  Dependents_Yes  \\\n",
              "0               0                  0            0               0   \n",
              "1               0                  1            1               0   \n",
              "2               0                  0            0               0   \n",
              "3               0                  0            0               0   \n",
              "4               0                  0            0               1   \n",
              "...           ...                ...          ...             ...   \n",
              "1050            1                  0            0               0   \n",
              "1051            1                  0            1               0   \n",
              "1052            1                  0            0               0   \n",
              "1053            0                  0            0               0   \n",
              "1054            0                  0            0               0   \n",
              "\n",
              "      PhoneService_Yes  MultipleLines_No  MultipleLines_No phone service  \\\n",
              "0                    1                 0                               0   \n",
              "1                    1                 0                               0   \n",
              "2                    1                 0                               0   \n",
              "3                    1                 0                               0   \n",
              "4                    1                 1                               0   \n",
              "...                ...               ...                             ...   \n",
              "1050                 1                 1                               0   \n",
              "1051                 1                 0                               0   \n",
              "1052                 1                 1                               0   \n",
              "1053                 1                 0                               0   \n",
              "1054                 0                 0                               1   \n",
              "\n",
              "      MultipleLines_Yes  InternetService_DSL  InternetService_Fiber optic  \\\n",
              "0                     1                    0                            1   \n",
              "1                     1                    0                            1   \n",
              "2                     1                    1                            0   \n",
              "3                     1                    0                            1   \n",
              "4                     0                    0                            1   \n",
              "...                 ...                  ...                          ...   \n",
              "1050                  0                    0                            0   \n",
              "1051                  1                    1                            0   \n",
              "1052                  0                    1                            0   \n",
              "1053                  1                    0                            1   \n",
              "1054                  0                    1                            0   \n",
              "\n",
              "      ...  Contract_One year  Contract_Two year  PaperlessBilling_Yes  \\\n",
              "0     ...                  0                  0                     0   \n",
              "1     ...                  0                  0                     0   \n",
              "2     ...                  0                  0                     1   \n",
              "3     ...                  0                  0                     1   \n",
              "4     ...                  0                  0                     1   \n",
              "...   ...                ...                ...                   ...   \n",
              "1050  ...                  0                  0                     1   \n",
              "1051  ...                  0                  1                     1   \n",
              "1052  ...                  0                  0                     0   \n",
              "1053  ...                  0                  0                     1   \n",
              "1054  ...                  1                  0                     1   \n",
              "\n",
              "      PaymentMethod_Bank transfer (automatic)  \\\n",
              "0                                           0   \n",
              "1                                           1   \n",
              "2                                           0   \n",
              "3                                           0   \n",
              "4                                           1   \n",
              "...                                       ...   \n",
              "1050                                        0   \n",
              "1051                                        1   \n",
              "1052                                        0   \n",
              "1053                                        0   \n",
              "1054                                        0   \n",
              "\n",
              "      PaymentMethod_Credit card (automatic)  PaymentMethod_Electronic check  \\\n",
              "0                                         0                               1   \n",
              "1                                         0                               0   \n",
              "2                                         0                               1   \n",
              "3                                         1                               0   \n",
              "4                                         0                               0   \n",
              "...                                     ...                             ...   \n",
              "1050                                      1                               0   \n",
              "1051                                      0                               0   \n",
              "1052                                      0                               1   \n",
              "1053                                      0                               1   \n",
              "1054                                      1                               0   \n",
              "\n",
              "      PaymentMethod_Mailed check  Tenure  Charges_Monthly  Charges_Total  \n",
              "0                              0       5            75.60         402.50  \n",
              "1                              0      50           108.75        5431.90  \n",
              "2                              0       2            49.40         106.55  \n",
              "3                              0      29            76.00        2215.25  \n",
              "4                              0       4            98.10         396.30  \n",
              "...                          ...     ...              ...            ...  \n",
              "1050                           0      16            20.60         330.25  \n",
              "1051                           0      61            80.80        4860.85  \n",
              "1052                           0       2            44.35          81.25  \n",
              "1053                           0       3            75.80         246.30  \n",
              "1054                           0      30            40.35        1187.05  \n",
              "\n",
              "[1055 rows x 40 columns]"
            ]
          },
          "execution_count": 25,
          "metadata": {},
          "output_type": "execute_result"
        }
      ],
      "source": [
        "# Realizando o processo para X_test\n",
        "X_test_enc = pd.DataFrame(X_enc.transform(X_test.iloc[:, :-3]), columns=X_enc_names)\n",
        "\n",
        "for column in X_test.columns[-3:]:\n",
        "  X_test_enc[column] = X_test[column].to_numpy()\n",
        "\n",
        "X_test_enc"
      ]
    },
    {
      "cell_type": "code",
      "execution_count": null,
      "metadata": {
        "id": "akWj-CgSWeRV"
      },
      "outputs": [],
      "source": [
        "# Criando o encoding para y: [No -> 0] [Yes -> 1]\n",
        "lb = LabelBinarizer()"
      ]
    },
    {
      "cell_type": "code",
      "execution_count": null,
      "metadata": {
        "colab": {
          "base_uri": "https://localhost:8080/"
        },
        "id": "tckgkeSVWrdW",
        "outputId": "bbcc3330-ba16-4563-ec02-a803aa514b37"
      },
      "outputs": [
        {
          "data": {
            "text/plain": [
              "array([[0],\n",
              "       [0],\n",
              "       [1],\n",
              "       ...,\n",
              "       [0],\n",
              "       [0],\n",
              "       [0]])"
            ]
          },
          "execution_count": 27,
          "metadata": {},
          "output_type": "execute_result"
        }
      ],
      "source": [
        "# Encoding do y_train\n",
        "y_train_enc = lb.fit_transform(y_train)\n",
        "y_train_enc"
      ]
    },
    {
      "cell_type": "code",
      "execution_count": null,
      "metadata": {
        "colab": {
          "base_uri": "https://localhost:8080/"
        },
        "id": "luAOjzp9bad8",
        "outputId": "71cf1cd6-87f3-4255-858c-b890ed1d4d78"
      },
      "outputs": [
        {
          "data": {
            "text/plain": [
              "array(['No', 'Yes'], dtype='<U3')"
            ]
          },
          "execution_count": 28,
          "metadata": {},
          "output_type": "execute_result"
        }
      ],
      "source": [
        "# Nomes das classes\n",
        "lb_names = lb.classes_\n",
        "lb_names"
      ]
    },
    {
      "cell_type": "code",
      "execution_count": null,
      "metadata": {
        "colab": {
          "base_uri": "https://localhost:8080/"
        },
        "id": "-Hp73JopXvCL",
        "outputId": "d4ec9399-d06d-4464-c495-c2153742eed8"
      },
      "outputs": [
        {
          "data": {
            "text/plain": [
              "array([[0],\n",
              "       [0],\n",
              "       [1],\n",
              "       ...,\n",
              "       [1],\n",
              "       [1],\n",
              "       [0]])"
            ]
          },
          "execution_count": 29,
          "metadata": {},
          "output_type": "execute_result"
        }
      ],
      "source": [
        "# Encoding do y_test\n",
        "y_test_enc = lb.transform(y_test)\n",
        "y_test_enc"
      ]
    },
    {
      "cell_type": "markdown",
      "metadata": {
        "id": "SpUQrKmETT-E"
      },
      "source": [
        "#### **Definindo um baseline**\n",
        "\n",
        "Vou criar um modelo base com o dummy classifier para ter uma base de comparação."
      ]
    },
    {
      "cell_type": "code",
      "execution_count": null,
      "metadata": {
        "id": "85dnXkzAP2LI"
      },
      "outputs": [],
      "source": [
        "from sklearn.dummy import DummyClassifier\n",
        "from sklearn.model_selection import cross_validate"
      ]
    },
    {
      "cell_type": "code",
      "execution_count": null,
      "metadata": {
        "id": "WmPiEy1nKoLj"
      },
      "outputs": [],
      "source": [
        "# Modelo dummy com estratégia de predição estratificada por classe\n",
        "dummy_churn = DummyClassifier(strategy='stratified')"
      ]
    },
    {
      "cell_type": "code",
      "execution_count": null,
      "metadata": {
        "id": "yvO53vf0WbcV"
      },
      "outputs": [],
      "source": [
        "from sklearn.pipeline import Pipeline\n",
        "from sklearn.preprocessing import MinMaxScaler\n",
        "\n",
        "pipe_dummy = Pipeline([('MinMaxScaler', MinMaxScaler()), ('dummy', dummy_churn)])"
      ]
    },
    {
      "cell_type": "code",
      "execution_count": null,
      "metadata": {
        "id": "Gla0cB4UQ8Vw"
      },
      "outputs": [],
      "source": [
        "# Realizando a validação cruzada\n",
        "dummy_churn_cv = cross_validate(pipe_dummy, X_train_enc, y_train_enc, cv=5, scoring=['accuracy', 'recall', 'precision', 'f1_weighted'], return_estimator=True)"
      ]
    },
    {
      "cell_type": "code",
      "execution_count": null,
      "metadata": {
        "colab": {
          "base_uri": "https://localhost:8080/"
        },
        "id": "K9a30NeyQ8fw",
        "outputId": "25f30dd2-8550-4a0c-b931-8e8d07b47d34"
      },
      "outputs": [
        {
          "data": {
            "text/plain": [
              "{'estimator': [Pipeline(steps=[('MinMaxScaler', MinMaxScaler()),\n",
              "                  ('dummy', DummyClassifier(strategy='stratified'))]),\n",
              "  Pipeline(steps=[('MinMaxScaler', MinMaxScaler()),\n",
              "                  ('dummy', DummyClassifier(strategy='stratified'))]),\n",
              "  Pipeline(steps=[('MinMaxScaler', MinMaxScaler()),\n",
              "                  ('dummy', DummyClassifier(strategy='stratified'))]),\n",
              "  Pipeline(steps=[('MinMaxScaler', MinMaxScaler()),\n",
              "                  ('dummy', DummyClassifier(strategy='stratified'))]),\n",
              "  Pipeline(steps=[('MinMaxScaler', MinMaxScaler()),\n",
              "                  ('dummy', DummyClassifier(strategy='stratified'))])],\n",
              " 'fit_time': array([0.03500676, 0.02280283, 0.01485753, 0.01335955, 0.01336026]),\n",
              " 'score_time': array([0.03162622, 0.01118851, 0.0103898 , 0.01090288, 0.01046443]),\n",
              " 'test_accuracy': array([0.60869565, 0.62374582, 0.59497908, 0.59832636, 0.6125523 ]),\n",
              " 'test_f1_weighted': array([0.60908589, 0.62764893, 0.59288044, 0.5970983 , 0.61116645]),\n",
              " 'test_precision': array([0.265625  , 0.30588235, 0.22801303, 0.24038462, 0.26688103]),\n",
              " 'test_recall': array([0.2672956 , 0.32704403, 0.22082019, 0.23584906, 0.26100629])}"
            ]
          },
          "execution_count": 41,
          "metadata": {},
          "output_type": "execute_result"
        }
      ],
      "source": [
        "dummy_churn_cv"
      ]
    },
    {
      "cell_type": "code",
      "execution_count": null,
      "metadata": {
        "colab": {
          "base_uri": "https://localhost:8080/"
        },
        "id": "SJZ0uHOeaEvE",
        "outputId": "b4e3ee24-2ff4-441b-a0d2-c00287d3b242"
      },
      "outputs": [
        {
          "name": "stdout",
          "output_type": "stream",
          "text": [
            "Acurácia média: 0.6077\n",
            "Precisão média: 0.2614\n",
            "Revocação média: 0.2624\n",
            "F1-Score médio: 0.6076\n"
          ]
        }
      ],
      "source": [
        "print(f'Acurácia média: {dummy_churn_cv[\"test_accuracy\"].mean():.4f}')\n",
        "print(f'Precisão média: {dummy_churn_cv[\"test_precision\"].mean():.4f}')\n",
        "print(f'Revocação média: {dummy_churn_cv[\"test_recall\"].mean():.4f}')\n",
        "print(f'F1-Score médio: {dummy_churn_cv[\"test_f1_weighted\"].mean():.4f}')"
      ]
    },
    {
      "cell_type": "markdown",
      "metadata": {
        "id": "8pD9OjPHZ6gV"
      },
      "source": [
        "Com o resultado da validação cruzada temos observações interessantes sobre o modelo. \n",
        "\n",
        "Percebemos que há uma acurácia média de 60%, com revocação e precisão muito baixa, em torno de 26% para a classe positiva. Podemos perceber também que há um desbalanço nos resultados, pois o F1-Score é de 60%.\n",
        "\n",
        "\n",
        "A seguir, irei prever os dados de testes com um dos modelos para ver se o mesmo padrão acontece e validar a análise anterior do desbalanço."
      ]
    },
    {
      "cell_type": "code",
      "execution_count": null,
      "metadata": {
        "colab": {
          "base_uri": "https://localhost:8080/"
        },
        "id": "7jn_enJXYffm",
        "outputId": "6f572e06-8af9-4da6-8562-bff444c78bbe"
      },
      "outputs": [
        {
          "data": {
            "text/plain": [
              "Pipeline(steps=[('MinMaxScaler', MinMaxScaler()),\n",
              "                ('dummy', DummyClassifier(strategy='stratified'))])"
            ]
          },
          "execution_count": 54,
          "metadata": {},
          "output_type": "execute_result"
        }
      ],
      "source": [
        "# Verificar o modelo com o pipeline\n",
        "dummy_churn_cv['estimator'][0]"
      ]
    },
    {
      "cell_type": "code",
      "execution_count": null,
      "metadata": {
        "id": "gRzj5y7FQ8s6"
      },
      "outputs": [],
      "source": [
        "# Predict do modelo dummy 0\n",
        "y_pred_cv = dummy_churn_cv['estimator'][0].predict(X_test_enc)"
      ]
    },
    {
      "cell_type": "code",
      "execution_count": null,
      "metadata": {
        "colab": {
          "base_uri": "https://localhost:8080/"
        },
        "id": "AxjxbB_SUWVq",
        "outputId": "c9b4355b-cb6e-4af3-d2d2-d372efffd479"
      },
      "outputs": [
        {
          "data": {
            "text/plain": [
              "0.6161137440758294"
            ]
          },
          "execution_count": 44,
          "metadata": {},
          "output_type": "execute_result"
        }
      ],
      "source": [
        "# Score do modelo dummy 0\n",
        "dummy_churn_cv['estimator'][0].score(X_test_enc, y_test_enc)"
      ]
    },
    {
      "cell_type": "code",
      "execution_count": null,
      "metadata": {
        "colab": {
          "base_uri": "https://localhost:8080/",
          "height": 301
        },
        "id": "w_l2LSgtUTDn",
        "outputId": "49f9a8e4-dcf4-4816-b0f9-85ea35941756"
      },
      "outputs": [
        {
          "data": {
            "image/png": "[encoded data removed]",
            "text/plain": [
              "<Figure size 432x288 with 2 Axes>"
            ]
          },
          "metadata": {},
          "output_type": "display_data"
        }
      ],
      "source": [
        "# Mostrar a matriz de confusão\n",
        "from sklearn.metrics import confusion_matrix, ConfusionMatrixDisplay\n",
        "\n",
        "cm = confusion_matrix(y_test_enc, y_pred_cv)\n",
        "\n",
        "cm_disp = ConfusionMatrixDisplay(cm, display_labels=dummy_churn_cv['estimator'][0].classes_)\n",
        "\n",
        "cm_disp.plot()\n",
        "\n",
        "plt.title('Matriz de confusão do modelo final')\n",
        "plt.grid(False)\n",
        "\n",
        "plt.show()"
      ]
    },
    {
      "cell_type": "markdown",
      "metadata": {
        "id": "Fs-gEQteMG6J"
      },
      "source": [
        "Temos **62%** de acurácia.\n",
        "\n",
        "Vamos ver o report de classificação que nos dá as métricas de **revocação**, **precisão** e **f1-score**."
      ]
    },
    {
      "cell_type": "code",
      "execution_count": null,
      "metadata": {
        "id": "BXip54_nLXeN"
      },
      "outputs": [],
      "source": [
        "from sklearn.metrics import classification_report"
      ]
    },
    {
      "cell_type": "code",
      "execution_count": null,
      "metadata": {
        "colab": {
          "base_uri": "https://localhost:8080/"
        },
        "id": "Y7mxcjcCNK_z",
        "outputId": "5058fc02-f56a-47bd-c66d-0498c9cd52c5"
      },
      "outputs": [
        {
          "name": "stdout",
          "output_type": "stream",
          "text": [
            "              precision    recall  f1-score   support\n",
            "\n",
            "           0       0.74      0.75      0.75       775\n",
            "           1       0.28      0.26      0.27       280\n",
            "\n",
            "    accuracy                           0.62      1055\n",
            "   macro avg       0.51      0.51      0.51      1055\n",
            "weighted avg       0.62      0.62      0.62      1055\n",
            "\n"
          ]
        }
      ],
      "source": [
        "predict_report = classification_report(y_test_enc, y_pred_cv, output_dict=True)\n",
        "print(classification_report(y_test_enc, y_pred_cv, output_dict=False))"
      ]
    },
    {
      "cell_type": "markdown",
      "metadata": {
        "id": "rL_cviECNqNT"
      },
      "source": [
        "É possível ver que o modelo é muito ruim em predizer a classe de positiva, **churn = Yes**, com um recall de 32%. Mas possui um recall de 75% para a classe ne gativa, **churn = No**. \n",
        "\n",
        "Como há muito mais dado da classe negativa, olhar apenas o resultado final de acurácia não nos ajuda muito, pois ele é um valor que nos engana.\n",
        "\n",
        "O padrão se parece com o resultado da validação cruzada, há um desbalanço entre os resultados. Como queremos os cliente que abandonam o plano, ou seja, a **classe positiva**, o resultado não é bom."
      ]
    },
    {
      "cell_type": "markdown",
      "metadata": {
        "id": "b2xSbhEZPAZt"
      },
      "source": [
        "#### **Criando os modelos para os dados desbalanceados**\n",
        "\n",
        "Vou constuir uma função para treino com validação cruzada e disposição de informações para o usuário. Irei avaliar as métricas de precisão, recall e f1-score macro para as duas classes.\n",
        "\n",
        "Os modelos escolhidos para avaliação são: SVC, Random Forest e Bauve Bayes."
      ]
    },
    {
      "cell_type": "code",
      "execution_count": null,
      "metadata": {
        "id": "vP-4hkqwVBYm"
      },
      "outputs": [],
      "source": [
        "def validacao_cruzada(modelo, nome, X_cv, y_cv, cv):\n",
        "\n",
        "  warnings.filterwarnings('ignore')\n",
        "\n",
        "  modelo_cv = cross_validate(modelo, X_cv, y_cv, cv=cv, scoring=['accuracy', 'recall', 'precision', 'f1_macro', 'roc_auc'], return_estimator=True)\n",
        "\n",
        "  print('*****************************************************************************')\n",
        "  print(f'*      Resultados do treino com validação cruzada para o {nome}')\n",
        "  print('*****************************************************************************')\n",
        "  print(f'* Acurácia: {modelo_cv[\"test_accuracy\"]}')\n",
        "  print(f'* Acurácia média: {modelo_cv[\"test_accuracy\"].mean():.4f}')\n",
        "  print('*-----------------------------------------------------------------------------')\n",
        "  print(f'* Precisão: {modelo_cv[\"test_precision\"]}')\n",
        "  print(f'* Precisão média: {modelo_cv[\"test_precision\"].mean():.4f}')\n",
        "  print('*-----------------------------------------------------------------------------')\n",
        "  print(f'* Revocação: {modelo_cv[\"test_recall\"]}')\n",
        "  print(f'* Revocação média: {modelo_cv[\"test_recall\"].mean():.4f}')\n",
        "  print('*-----------------------------------------------------------------------------')\n",
        "  print(f'* F1_Score: {modelo_cv[\"test_f1_macro\"]}')\n",
        "  print(f'* F1_Score médio: {modelo_cv[\"test_f1_macro\"].mean():.4f}')\n",
        "  print('*-----------------------------------------------------------------------------')\n",
        "  print(f'* ROC AUC: {modelo_cv[\"test_roc_auc\"]}')\n",
        "  print(f'* ROC AUC médio: {modelo_cv[\"test_roc_auc\"].mean():.4f}')\n",
        "  print('*****************************************************************************')\n",
        "\n",
        "  return modelo_cv"
      ]
    },
    {
      "cell_type": "code",
      "execution_count": null,
      "metadata": {
        "id": "-3MTqOfkwxV1"
      },
      "outputs": [],
      "source": [
        "def teste_melhor_modelo(modelo, nome, X_test, y_test):\n",
        "\n",
        "  warnings.filterwarnings('ignore')\n",
        "\n",
        "  pred_dict = {'0':{'precision':[], 'recall':[], 'f1-score':[]},\n",
        "               '1':{'precision':[], 'recall':[], 'f1-score':[]}}\n",
        "\n",
        "  for i in range(len(modelo['estimator'])):\n",
        "    y_pred_cv = modelo['estimator'][i].predict(X_test)\n",
        "    \n",
        "    \n",
        "    predict_report = classification_report(y_test, y_pred_cv, output_dict=True)\n",
        "\n",
        "    pred_dict['0']['f1-score'].append(predict_report['0']['f1-score'])\n",
        "    pred_dict['0']['precision'].append(predict_report['0']['precision'])\n",
        "    pred_dict['0']['recall'].append(predict_report['0']['recall'])\n",
        "    pred_dict['1']['f1-score'].append(predict_report['1']['f1-score'])\n",
        "    pred_dict['1']['precision'].append(predict_report['1']['precision'])\n",
        "    pred_dict['1']['recall'].append(predict_report['1']['recall'])\n",
        "\n",
        "    print('*****************************************************************************')\n",
        "    print(f'classification report para o modelo {nome} {i+1}:')\n",
        "    print('*****************************************************************************')\n",
        "    print(classification_report(y_test, y_pred_cv, output_dict=False))\n",
        "    print('*****************************************************************************')\n",
        "    print(' ')\n",
        "\n",
        "  return None"
      ]
    },
    {
      "cell_type": "code",
      "execution_count": null,
      "metadata": {
        "colab": {
          "base_uri": "https://localhost:8080/"
        },
        "id": "XU7QpnvIhAzk",
        "outputId": "6fab9ca3-1d5d-4f2a-916a-6da5d9fe5e80"
      },
      "outputs": [
        {
          "name": "stdout",
          "output_type": "stream",
          "text": [
            "*****************************************************************************\n",
            "*      Resultados do treino com validação cruzada para o SVC\n",
            "*****************************************************************************\n",
            "* Acurácia: [0.79347826 0.79598662 0.78912134 0.78828452 0.81506276]\n",
            "* Acurácia média: 0.7964\n",
            "*-----------------------------------------------------------------------------\n",
            "* Precisão: [0.65236052 0.65546218 0.63052209 0.65258216 0.67896679]\n",
            "* Precisão média: 0.6540\n",
            "*-----------------------------------------------------------------------------\n",
            "* Revocação: [0.47798742 0.49056604 0.49526814 0.43710692 0.57861635]\n",
            "* Revocação média: 0.4959\n",
            "*-----------------------------------------------------------------------------\n",
            "* F1_Score: [0.70877896 0.71412674 0.70830621 0.69372291 0.75103909]\n",
            "* F1_Score médio: 0.7152\n",
            "*-----------------------------------------------------------------------------\n",
            "* ROC AUC: [0.79979871 0.79377624 0.80337266 0.78682867 0.80519639]\n",
            "* ROC AUC médio: 0.7978\n",
            "*****************************************************************************\n"
          ]
        }
      ],
      "source": [
        "# Importando o SVC e criando o modelo\n",
        "from sklearn.svm import SVC\n",
        "svc = SVC()\n",
        "\n",
        "pipe_SVC = Pipeline([('MinMaxScaler', MinMaxScaler()), ('svc', svc)])\n",
        "\n",
        "# treinando o modelo com a função criada\n",
        "modelo_svc = validacao_cruzada(pipe_SVC, 'SVC', X_train_enc, y_train_enc.ravel(), 5)"
      ]
    },
    {
      "cell_type": "markdown",
      "metadata": {
        "id": "jqS7mTN8I3vu"
      },
      "source": [
        "**Pode ser verificado que o SVC não performa bem com os dados desbalanceados. A revocação e precisão da classe positiva não tão boa. O desequilíbrio nos resultados permanece entre as classes.**"
      ]
    },
    {
      "cell_type": "code",
      "execution_count": null,
      "metadata": {
        "colab": {
          "base_uri": "https://localhost:8080/"
        },
        "id": "_RenGPfHj5Zd",
        "outputId": "b2cb2a26-b88f-41a5-ba99-ec85b1639b70"
      },
      "outputs": [
        {
          "name": "stdout",
          "output_type": "stream",
          "text": [
            "*****************************************************************************\n",
            "*      Resultados do treino com validação cruzada para o RF\n",
            "*****************************************************************************\n",
            "* Acurácia: [0.78344482 0.79264214 0.78912134 0.7916318  0.79079498]\n",
            "* Acurácia média: 0.7895\n",
            "*-----------------------------------------------------------------------------\n",
            "* Precisão: [0.61389961 0.64344262 0.62948207 0.66197183 0.62878788]\n",
            "* Precisão média: 0.6355\n",
            "*-----------------------------------------------------------------------------\n",
            "* Revocação: [0.5        0.49371069 0.49842271 0.44339623 0.52201258]\n",
            "* Revocação média: 0.4915\n",
            "*-----------------------------------------------------------------------------\n",
            "* F1_Score: [0.7042134  0.71159987 0.70901424 0.69856523 0.7160862 ]\n",
            "* F1_Score médio: 0.7079\n",
            "*-----------------------------------------------------------------------------\n",
            "* ROC AUC: [0.81852516 0.82106453 0.82800026 0.81668495 0.83925869]\n",
            "* ROC AUC médio: 0.8247\n",
            "*****************************************************************************\n"
          ]
        }
      ],
      "source": [
        "# Random Forest\n",
        "from sklearn.ensemble import RandomForestClassifier\n",
        "RF = RandomForestClassifier()\n",
        "\n",
        "pipe_RF = Pipeline([('MinMaxScaler', MinMaxScaler()), ('RF', RF)])\n",
        "\n",
        "modelo_RF = validacao_cruzada(pipe_RF, 'RF', X_train_enc, y_train_enc.ravel(), 5)"
      ]
    },
    {
      "cell_type": "markdown",
      "metadata": {
        "id": "sKn2HXYkJUmM"
      },
      "source": [
        "**O Random Forest apresenta um resultado melhor com F1-Score médio de 0.7 e revocação 0.5 para a classe positiva, ou seja, ainda há um desequilíbrio nos resultados.**"
      ]
    },
    {
      "cell_type": "code",
      "execution_count": null,
      "metadata": {
        "colab": {
          "base_uri": "https://localhost:8080/"
        },
        "id": "hLyV6WRskXku",
        "outputId": "ebf45aff-7bde-496c-a04f-8b717119bfb4"
      },
      "outputs": [
        {
          "name": "stdout",
          "output_type": "stream",
          "text": [
            "*****************************************************************************\n",
            "*      Resultados do treino com validação cruzada para o NB\n",
            "*****************************************************************************\n",
            "* Acurácia: [0.70401338 0.70652174 0.67949791 0.68535565 0.68953975]\n",
            "* Acurácia média: 0.6930\n",
            "*-----------------------------------------------------------------------------\n",
            "* Precisão: [0.46864111 0.47100176 0.44463087 0.44821429 0.45732689]\n",
            "* Precisão média: 0.4580\n",
            "*-----------------------------------------------------------------------------\n",
            "* Revocação: [0.84591195 0.8427673  0.83596215 0.78930818 0.89308176]\n",
            "* Revocação média: 0.8414\n",
            "*-----------------------------------------------------------------------------\n",
            "* F1_Score: [0.68356951 0.68553076 0.66059721 0.66153837 0.67460655]\n",
            "* F1_Score médio: 0.6732\n",
            "*-----------------------------------------------------------------------------\n",
            "* ROC AUC: [0.82197963 0.82328871 0.80782428 0.79654231 0.84049755]\n",
            "* ROC AUC médio: 0.8180\n",
            "*****************************************************************************\n"
          ]
        }
      ],
      "source": [
        "# Naive Bayes GaussianNB\n",
        "\n",
        "from sklearn.naive_bayes import GaussianNB\n",
        "NB = GaussianNB()\n",
        "\n",
        "pipe_NB = Pipeline([('MinMaxScaler', MinMaxScaler()), ('NB', NB)])\n",
        "\n",
        "modelo_NB = validacao_cruzada(pipe_NB, 'NB', X_train_enc, y_train_enc.ravel(), 5)"
      ]
    },
    {
      "cell_type": "markdown",
      "metadata": {
        "id": "PN-85N3RJvpr"
      },
      "source": [
        "**O Naive Bayes aparenta ser um algoritmo melhor nessa situação, pois possui um F1-Score médio de 0.67 e revocação para a classe 0.84. Aqui pode ser percebido umam melhora na revocação mas a precisão ainda é baixa em torno de 0.46.**\n",
        "\n",
        "**Olhando apenas para o F1-Score o Random Forest parece ser um pouco mais equilibrado.**"
      ]
    },
    {
      "cell_type": "markdown",
      "metadata": {
        "id": "nDkURNA1l3M8"
      },
      "source": [
        "### **Avaliações com os dados balanceados**"
      ]
    },
    {
      "cell_type": "markdown",
      "metadata": {
        "id": "5UEmuUyo2JUf"
      },
      "source": [
        "Agora irei testar as opções de balanceamento de dados para os treinar os modelos.\n",
        "\n",
        "Com a biblioteca [imblearn](https://imbalanced-learn.org/stable/) testarei 4 opções de balanceamento, 2 opções de under sampling e 2 de over sampling:\n",
        "\n",
        "1. Random under-sampling\n",
        "2. TomekLinks\n",
        "3. Random over-sampling\n",
        "4. SMOTE"
      ]
    },
    {
      "cell_type": "markdown",
      "metadata": {
        "id": "FP_NzrSb6ETQ"
      },
      "source": [
        "#### **Balanceamento com Random Under Sampling**"
      ]
    },
    {
      "cell_type": "code",
      "execution_count": null,
      "metadata": {
        "colab": {
          "base_uri": "https://localhost:8080/"
        },
        "id": "JVG3wQSJl6VK",
        "outputId": "67d40221-5e84-4646-d429-be249fab1215"
      },
      "outputs": [
        {
          "name": "stdout",
          "output_type": "stream",
          "text": [
            "Shape do X_train com Under Sampling: (3178, 40)\n",
            "Shape do y_train com Under Sampling: (3178,)\n",
            "Valores únicos das classes: (array([0, 1]), array([1589, 1589]))\n"
          ]
        }
      ],
      "source": [
        "# Balanceamento dos dados\n",
        "from imblearn.under_sampling import RandomUnderSampler\n",
        "\n",
        "rus = RandomUnderSampler()\n",
        "\n",
        "X_train_rus, y_train_rus = rus.fit_resample(X_train_enc, y_train_enc)\n",
        "\n",
        "print(f'Shape do X_train com Under Sampling: {X_train_rus.shape}')\n",
        "print(f'Shape do y_train com Under Sampling: {y_train_rus.shape}')\n",
        "\n",
        "print(f'Valores únicos das classes: {np.unique(y_train_rus, return_counts=True)}')"
      ]
    },
    {
      "cell_type": "code",
      "execution_count": null,
      "metadata": {
        "colab": {
          "base_uri": "https://localhost:8080/"
        },
        "id": "-YxwsFGo-8pw",
        "outputId": "a373e64a-54ba-4128-f702-a5d5bd18dbf4"
      },
      "outputs": [
        {
          "name": "stdout",
          "output_type": "stream",
          "text": [
            "*****************************************************************************\n",
            "*      Resultados do treino com validação cruzada para o SVC\n",
            "*****************************************************************************\n",
            "* Acurácia: [0.75943396 0.75       0.74528302 0.73858268 0.8015748 ]\n",
            "* Acurácia média: 0.7590\n",
            "*-----------------------------------------------------------------------------\n",
            "* Precisão: [0.73913043 0.73313783 0.72543353 0.72809668 0.78571429]\n",
            "* Precisão média: 0.7423\n",
            "*-----------------------------------------------------------------------------\n",
            "* Revocação: [0.80188679 0.78616352 0.78930818 0.76025237 0.83018868]\n",
            "* Revocação média: 0.7936\n",
            "*-----------------------------------------------------------------------------\n",
            "* F1_Score: [0.75899962 0.74967262 0.74478836 0.73847307 0.801397  ]\n",
            "* F1_Score médio: 0.7587\n",
            "*-----------------------------------------------------------------------------\n",
            "* ROC AUC: [0.83512322 0.81741229 0.81001543 0.80742218 0.86631748]\n",
            "* ROC AUC médio: 0.8273\n",
            "*****************************************************************************\n"
          ]
        }
      ],
      "source": [
        "# Criação e treino do modeo SVC\n",
        "svc = SVC()\n",
        "pipe_SVC = Pipeline([('MinMaxScaler', MinMaxScaler()), ('svc', svc)])\n",
        "modelo_svc_rus = validacao_cruzada(pipe_SVC, 'SVC', X_train_rus, y_train_rus.ravel(), 5)"
      ]
    },
    {
      "cell_type": "code",
      "execution_count": null,
      "metadata": {
        "colab": {
          "base_uri": "https://localhost:8080/"
        },
        "id": "hIUZySbH_ZSb",
        "outputId": "8a97db14-1617-4d1f-b31d-ba4479d81621"
      },
      "outputs": [
        {
          "name": "stdout",
          "output_type": "stream",
          "text": [
            "*****************************************************************************\n",
            "*      Resultados do treino com validação cruzada para o RF\n",
            "*****************************************************************************\n",
            "* Acurácia: [0.75471698 0.76100629 0.75786164 0.76220472 0.78110236]\n",
            "* Acurácia média: 0.7634\n",
            "*-----------------------------------------------------------------------------\n",
            "* Precisão: [0.753125   0.75       0.73837209 0.759375   0.76876877]\n",
            "* Precisão média: 0.7539\n",
            "*-----------------------------------------------------------------------------\n",
            "* Revocação: [0.75786164 0.78301887 0.79874214 0.76656151 0.80503145]\n",
            "* Revocação média: 0.7822\n",
            "*-----------------------------------------------------------------------------\n",
            "* F1_Score: [0.75471456 0.76089043 0.75745629 0.76220237 0.7809633 ]\n",
            "* F1_Score médio: 0.7632\n",
            "*-----------------------------------------------------------------------------\n",
            "* ROC AUC: [0.83165223 0.81970155 0.82257921 0.82299169 0.86898101]\n",
            "* ROC AUC médio: 0.8332\n",
            "*****************************************************************************\n"
          ]
        }
      ],
      "source": [
        "# Criação e treino do modeo Random Forest\n",
        "RF = RandomForestClassifier()\n",
        "pipe_RF = Pipeline([('MinMaxScaler', MinMaxScaler()), ('RF', RF)])\n",
        "modelo_RF_rus = validacao_cruzada(pipe_RF, 'RF', X_train_rus, y_train_rus.ravel(), 5)"
      ]
    },
    {
      "cell_type": "code",
      "execution_count": null,
      "metadata": {
        "colab": {
          "base_uri": "https://localhost:8080/"
        },
        "id": "zyAD3-xN_t2f",
        "outputId": "14154aa5-5a10-4968-8889-c771f34e11bf"
      },
      "outputs": [
        {
          "name": "stdout",
          "output_type": "stream",
          "text": [
            "*****************************************************************************\n",
            "*      Resultados do treino com validação cruzada para o NB\n",
            "*****************************************************************************\n",
            "* Acurácia: [0.73899371 0.74842767 0.72012579 0.69291339 0.78110236]\n",
            "* Acurácia média: 0.7363\n",
            "*-----------------------------------------------------------------------------\n",
            "* Precisão: [0.6928934  0.70572917 0.67676768 0.65885417 0.72773537]\n",
            "* Precisão média: 0.6924\n",
            "*-----------------------------------------------------------------------------\n",
            "* Revocação: [0.85849057 0.85220126 0.8427673  0.79810726 0.89937107]\n",
            "* Revocação média: 0.8502\n",
            "*-----------------------------------------------------------------------------\n",
            "* F1_Score: [0.73521268 0.74568901 0.71585193 0.68955973 0.77792119]\n",
            "* F1_Score médio: 0.7328\n",
            "*-----------------------------------------------------------------------------\n",
            "* ROC AUC: [0.81408963 0.80945176 0.79826747 0.78784001 0.86178402]\n",
            "* ROC AUC médio: 0.8143\n",
            "*****************************************************************************\n"
          ]
        }
      ],
      "source": [
        "# Criação e treino do modeo Naive Bayes\n",
        "NB = GaussianNB()\n",
        "pipe_NB = Pipeline([('MinMaxScaler', MinMaxScaler()), ('NB', NB)])\n",
        "modelo_NB_rus = validacao_cruzada(pipe_NB, 'NB', X_train_rus, y_train_rus.ravel(), 5)"
      ]
    },
    {
      "cell_type": "markdown",
      "metadata": {
        "id": "beJQzC58LL01"
      },
      "source": [
        "**Com o Random Under Sampling é possível perceber um equilíbrio nos resultados e o Random Forest apresenta o melhor F1-Score e ROC_AUC macro para as duas classes. Porém, o Recall do Naive Bayes é maior para a classe positiva.**"
      ]
    },
    {
      "cell_type": "markdown",
      "metadata": {
        "id": "Q_kjdyKhASkP"
      },
      "source": [
        "#### **Balanceamento com TomekLinks**"
      ]
    },
    {
      "cell_type": "code",
      "execution_count": null,
      "metadata": {
        "colab": {
          "base_uri": "https://localhost:8080/"
        },
        "id": "7ipLT9eO_6CR",
        "outputId": "a608c809-b345-4a09-b384-62ddd80fd360"
      },
      "outputs": [
        {
          "name": "stdout",
          "output_type": "stream",
          "text": [
            "Shape do X_train com Under Sampling: (5483, 40)\n",
            "Shape do y_train com Under Sampling: (5483,)\n",
            "Valores únicos das classes: (array([0, 1]), array([3894, 1589]))\n"
          ]
        }
      ],
      "source": [
        "from imblearn.under_sampling import TomekLinks\n",
        "\n",
        "tl = TomekLinks()\n",
        "\n",
        "X_train_tl, y_train_tl = tl.fit_resample(X_train_enc, y_train_enc)\n",
        "\n",
        "print(f'Shape do X_train com Under Sampling: {X_train_tl.shape}')\n",
        "print(f'Shape do y_train com Under Sampling: {y_train_tl.shape}')\n",
        "\n",
        "print(f'Valores únicos das classes: {np.unique(y_train_tl, return_counts=True)}')"
      ]
    },
    {
      "cell_type": "code",
      "execution_count": null,
      "metadata": {
        "colab": {
          "base_uri": "https://localhost:8080/"
        },
        "id": "OLigkZKjA0RP",
        "outputId": "e96be859-83ac-4072-81a7-bc1361f93b5f"
      },
      "outputs": [
        {
          "name": "stdout",
          "output_type": "stream",
          "text": [
            "*****************************************************************************\n",
            "*      Resultados do treino com validação cruzada para o SVC\n",
            "*****************************************************************************\n",
            "* Acurácia: [0.8094804  0.80856882 0.80127621 0.79835766 0.8229927 ]\n",
            "* Acurácia média: 0.8081\n",
            "*-----------------------------------------------------------------------------\n",
            "* Precisão: [0.6996337  0.70769231 0.68382353 0.68461538 0.7       ]\n",
            "* Precisão média: 0.6952\n",
            "*-----------------------------------------------------------------------------\n",
            "* Revocação: [0.60062893 0.57861635 0.58490566 0.5615142  0.68238994]\n",
            "* Revocação média: 0.6016\n",
            "*-----------------------------------------------------------------------------\n",
            "* F1_Score: [0.75799078 0.75336385 0.74729913 0.74007115 0.78352094]\n",
            "* F1_Score médio: 0.7564\n",
            "*-----------------------------------------------------------------------------\n",
            "* ROC AUC: [0.83260268 0.82993638 0.83293571 0.82599831 0.83758145]\n",
            "* ROC AUC médio: 0.8318\n",
            "*****************************************************************************\n"
          ]
        }
      ],
      "source": [
        "svc = SVC()\n",
        "pipe_SVC = Pipeline([('MinMaxScaler', MinMaxScaler()), ('svc', svc)])\n",
        "modelo_svc_tl = validacao_cruzada(pipe_SVC, 'SVC', X_train_tl, y_train_tl.ravel(), 5)"
      ]
    },
    {
      "cell_type": "markdown",
      "metadata": {
        "id": "WYQBcRJSC21w"
      },
      "source": [
        "**Pode ser obsevado que o método TomeLinks não equilibra as classes deixando 50% - 50%.**\n",
        "\n",
        "**O resultado também apresenta um desbalanço entre as classes.**"
      ]
    },
    {
      "cell_type": "code",
      "execution_count": null,
      "metadata": {
        "colab": {
          "base_uri": "https://localhost:8080/"
        },
        "id": "4nS0CnD-Dejn",
        "outputId": "47429c27-98a6-469c-900f-4af908b7b319"
      },
      "outputs": [
        {
          "name": "stdout",
          "output_type": "stream",
          "text": [
            "*****************************************************************************\n",
            "*      Resultados do treino com validação cruzada para o RF\n",
            "*****************************************************************************\n",
            "* Acurácia: [0.80309936 0.81403829 0.80127621 0.80109489 0.81386861]\n",
            "* Acurácia média: 0.8067\n",
            "*-----------------------------------------------------------------------------\n",
            "* Precisão: [0.68085106 0.71755725 0.68518519 0.68821293 0.70212766]\n",
            "* Precisão média: 0.6948\n",
            "*-----------------------------------------------------------------------------\n",
            "* Revocação: [0.60377358 0.59119497 0.58176101 0.57097792 0.62264151]\n",
            "* Revocação média: 0.5941\n",
            "*-----------------------------------------------------------------------------\n",
            "* F1_Score: [0.75224592 0.76094091 0.74675536 0.7444511  0.76592965]\n",
            "* F1_Score médio: 0.7541\n",
            "*-----------------------------------------------------------------------------\n",
            "* ROC AUC: [0.84861458 0.85596152 0.86167559 0.85002005 0.86921796]\n",
            "* ROC AUC médio: 0.8571\n",
            "*****************************************************************************\n"
          ]
        }
      ],
      "source": [
        "RF = RandomForestClassifier()\n",
        "pipe_RF = Pipeline([('MinMaxScaler', MinMaxScaler()), ('RF', RF)])\n",
        "modelo_RF_tl = validacao_cruzada(pipe_RF, 'RF', X_train_tl, y_train_tl.ravel(), 5)"
      ]
    },
    {
      "cell_type": "code",
      "execution_count": null,
      "metadata": {
        "colab": {
          "base_uri": "https://localhost:8080/"
        },
        "id": "DUmr9bqcFu4m",
        "outputId": "4c5ed6bf-5f78-4e1f-ac58-5cad8b77b1c4"
      },
      "outputs": [
        {
          "name": "stdout",
          "output_type": "stream",
          "text": [
            "*****************************************************************************\n",
            "*      Resultados do treino com validação cruzada para o NB\n",
            "*****************************************************************************\n",
            "* Acurácia: [0.72288058 0.72926162 0.71103008 0.71624088 0.72080292]\n",
            "* Acurácia média: 0.7200\n",
            "*-----------------------------------------------------------------------------\n",
            "* Precisão: [0.51320755 0.52023121 0.50093809 0.5060241  0.51075269]\n",
            "* Precisão média: 0.5102\n",
            "*-----------------------------------------------------------------------------\n",
            "* Revocação: [0.85534591 0.8490566  0.83962264 0.79495268 0.89622642]\n",
            "* Revocação média: 0.8470\n",
            "*-----------------------------------------------------------------------------\n",
            "* F1_Score: [0.70782753 0.71314807 0.69572917 0.6962758  0.70908107]\n",
            "* F1_Score médio: 0.7044\n",
            "*-----------------------------------------------------------------------------\n",
            "* ROC AUC: [0.8394208  0.84301556 0.83126448 0.81412512 0.86093596]\n",
            "* ROC AUC médio: 0.8378\n",
            "*****************************************************************************\n"
          ]
        }
      ],
      "source": [
        "NB = GaussianNB()\n",
        "pipe_NB = Pipeline([('MinMaxScaler', MinMaxScaler()), ('NB', NB)])\n",
        "modelo_NB_tl = validacao_cruzada(pipe_NB, 'NB', X_train_tl, y_train_tl.ravel(), 5)"
      ]
    },
    {
      "cell_type": "markdown",
      "metadata": {
        "id": "51PMgKeSNYud"
      },
      "source": [
        "**Os resultados de Recall e F1-Score dos modelos não são melhores do que os resultados com balanceamento com Random Under Sampling.**"
      ]
    },
    {
      "cell_type": "markdown",
      "metadata": {
        "id": "Nuu_R6hwGD2j"
      },
      "source": [
        "#### **Balanceamento com Random Over Sampling**"
      ]
    },
    {
      "cell_type": "code",
      "execution_count": null,
      "metadata": {
        "colab": {
          "base_uri": "https://localhost:8080/"
        },
        "id": "JQ0Yo86EF3f9",
        "outputId": "94037811-dce1-4ddc-9069-e8f40526abba"
      },
      "outputs": [
        {
          "name": "stdout",
          "output_type": "stream",
          "text": [
            "Shape do X_train com Under Sampling: (8776, 40)\n",
            "Shape do y_train com Under Sampling: (8776,)\n",
            "Valores únicos das classes: (array([0, 1]), array([4388, 4388]))\n"
          ]
        }
      ],
      "source": [
        "from imblearn.over_sampling import RandomOverSampler\n",
        "\n",
        "ros = RandomOverSampler()\n",
        "\n",
        "X_train_ros, y_train_ros = ros.fit_resample(X_train_enc, y_train_enc)\n",
        "\n",
        "print(f'Shape do X_train com Under Sampling: {X_train_ros.shape}')\n",
        "print(f'Shape do y_train com Under Sampling: {y_train_ros.shape}')\n",
        "\n",
        "print(f'Valores únicos das classes: {np.unique(y_train_ros, return_counts=True)}')"
      ]
    },
    {
      "cell_type": "code",
      "execution_count": null,
      "metadata": {
        "colab": {
          "base_uri": "https://localhost:8080/"
        },
        "id": "JXBI529IGcRY",
        "outputId": "0939c159-05c7-48cb-a952-119bf163c402"
      },
      "outputs": [
        {
          "name": "stdout",
          "output_type": "stream",
          "text": [
            "*****************************************************************************\n",
            "*      Resultados do treino com validação cruzada para o SVC\n",
            "*****************************************************************************\n",
            "* Acurácia: [0.78132118 0.78461538 0.76239316 0.7988604  0.76695157]\n",
            "* Acurácia média: 0.7788\n",
            "*-----------------------------------------------------------------------------\n",
            "* Precisão: [0.7702407  0.76972973 0.73958333 0.78074866 0.74300518]\n",
            "* Precisão média: 0.7607\n",
            "*-----------------------------------------------------------------------------\n",
            "* Revocação: [0.80182232 0.81185861 0.80957811 0.83143508 0.8166287 ]\n",
            "* Revocação média: 0.8143\n",
            "*-----------------------------------------------------------------------------\n",
            "* F1_Score: [0.78122924 0.7844608  0.76187331 0.79864047 0.76636414]\n",
            "* F1_Score médio: 0.7785\n",
            "*-----------------------------------------------------------------------------\n",
            "* ROC AUC: [0.85628318 0.85435049 0.84938494 0.87136139 0.85049272]\n",
            "* ROC AUC médio: 0.8564\n",
            "*****************************************************************************\n"
          ]
        }
      ],
      "source": [
        "svc = SVC()\n",
        "pipe_SVC = Pipeline([('MinMaxScaler', MinMaxScaler()), ('svc', svc)])\n",
        "modelo_svc_ros = validacao_cruzada(pipe_SVC, 'SVC', X_train_ros, y_train_ros.ravel(), 5)"
      ]
    },
    {
      "cell_type": "code",
      "execution_count": null,
      "metadata": {
        "colab": {
          "base_uri": "https://localhost:8080/"
        },
        "id": "eJCUdChoGrKn",
        "outputId": "9d399e31-9fca-4e6f-d18b-0be7d60d7407"
      },
      "outputs": [
        {
          "name": "stdout",
          "output_type": "stream",
          "text": [
            "*****************************************************************************\n",
            "*      Resultados do treino com validação cruzada para o RF\n",
            "*****************************************************************************\n",
            "* Acurácia: [0.88724374 0.88262108 0.90769231 0.92877493 0.91623932]\n",
            "* Acurácia média: 0.9045\n",
            "*-----------------------------------------------------------------------------\n",
            "* Precisão: [0.84907598 0.8565356  0.84541063 0.87537388 0.85658537]\n",
            "* Precisão média: 0.8566\n",
            "*-----------------------------------------------------------------------------\n",
            "* Revocação: [0.94191344 0.91904219 0.9977195  1.         1.        ]\n",
            "* Revocação média: 0.9717\n",
            "*-----------------------------------------------------------------------------\n",
            "* F1_Score: [0.88690572 0.88246963 0.90694762 0.9284059  0.91563937]\n",
            "* F1_Score médio: 0.9041\n",
            "*-----------------------------------------------------------------------------\n",
            "* ROC AUC: [0.95736842 0.95417763 0.98443973 0.98684166 0.98068911]\n",
            "* ROC AUC médio: 0.9727\n",
            "*****************************************************************************\n"
          ]
        }
      ],
      "source": [
        "RF = RandomForestClassifier()\n",
        "pipe_RF = Pipeline([('MinMaxScaler', MinMaxScaler()), ('RF', RF)])\n",
        "modelo_RF_ros = validacao_cruzada(pipe_RF, 'RF', X_train_ros, y_train_ros.ravel(), 5)"
      ]
    },
    {
      "cell_type": "code",
      "execution_count": null,
      "metadata": {
        "colab": {
          "base_uri": "https://localhost:8080/"
        },
        "id": "a5myEVsYG55d",
        "outputId": "56ae627b-860d-4ed4-8310-b7ef88d4ea47"
      },
      "outputs": [
        {
          "name": "stdout",
          "output_type": "stream",
          "text": [
            "*****************************************************************************\n",
            "*      Resultados do treino com validação cruzada para o NB\n",
            "*****************************************************************************\n",
            "* Acurácia: [0.74715262 0.74472934 0.73048433 0.75726496 0.72535613]\n",
            "* Acurácia média: 0.7410\n",
            "*-----------------------------------------------------------------------------\n",
            "* Precisão: [0.70549242 0.70293283 0.68669131 0.7096475  0.68333333]\n",
            "* Precisão média: 0.6976\n",
            "*-----------------------------------------------------------------------------\n",
            "* Revocação: [0.84851936 0.84720639 0.84720639 0.87129841 0.8405467 ]\n",
            "* Revocação média: 0.8510\n",
            "*-----------------------------------------------------------------------------\n",
            "* F1_Score: [0.74452759 0.74204589 0.72679287 0.75403866 0.72163171]\n",
            "* F1_Score médio: 0.7378\n",
            "*-----------------------------------------------------------------------------\n",
            "* ROC AUC: [0.82014544 0.82341306 0.81145407 0.83261624 0.80619956]\n",
            "* ROC AUC médio: 0.8188\n",
            "*****************************************************************************\n"
          ]
        }
      ],
      "source": [
        "NB = GaussianNB()\n",
        "pipe_NB = Pipeline([('MinMaxScaler', MinMaxScaler()), ('NB', NB)])\n",
        "modelo_NB_ros = validacao_cruzada(pipe_NB, 'NB', X_train_ros, y_train_ros.ravel(), 5)"
      ]
    },
    {
      "cell_type": "markdown",
      "metadata": {
        "id": "2o66l_MYOPO6"
      },
      "source": [
        "**Os resultados com Random Over Sampling apresentam resultados interessantes e o Random Forest parece ser o mais equilibrado com F1-Score médio de 0.90 e alta revocação e precisão para a classe positiva.**\n",
        "\n",
        "**O SVC apresenta resultados abaixo do Random Forest e o Naive Bayes sofre mais na precisão da classe positiva. O F1-Score é em torno de 0.73, bem diferente do Random Forest.**"
      ]
    },
    {
      "cell_type": "markdown",
      "metadata": {
        "id": "SR0uzrQXIB5e"
      },
      "source": [
        "#### **Balanceamento com SMOTE**"
      ]
    },
    {
      "cell_type": "code",
      "execution_count": null,
      "metadata": {
        "colab": {
          "base_uri": "https://localhost:8080/"
        },
        "id": "tOQARzsrHCiE",
        "outputId": "b68d7cec-e996-4426-db0d-17669e96e569"
      },
      "outputs": [
        {
          "name": "stdout",
          "output_type": "stream",
          "text": [
            "Shape do X_train com Under Sampling: (8776, 40)\n",
            "Shape do y_train com Under Sampling: (8776,)\n",
            "Valores únicos das classes: (array([0, 1]), array([4388, 4388]))\n"
          ]
        }
      ],
      "source": [
        "from imblearn.over_sampling import SMOTE\n",
        "\n",
        "smote = SMOTE()\n",
        "\n",
        "X_train_smote, y_train_smote = smote.fit_resample(X_train_enc, y_train_enc)\n",
        "\n",
        "print(f'Shape do X_train com Under Sampling: {X_train_smote.shape}')\n",
        "print(f'Shape do y_train com Under Sampling: {y_train_smote.shape}')\n",
        "\n",
        "print(f'Valores únicos das classes: {np.unique(y_train_smote, return_counts=True)}')"
      ]
    },
    {
      "cell_type": "code",
      "execution_count": null,
      "metadata": {
        "colab": {
          "base_uri": "https://localhost:8080/"
        },
        "id": "VveG0kMQIOKs",
        "outputId": "423195da-d6e1-4e67-e797-0156b4acc5e6"
      },
      "outputs": [
        {
          "name": "stdout",
          "output_type": "stream",
          "text": [
            "*****************************************************************************\n",
            "*      Resultados do treino com validação cruzada para o SVC\n",
            "*****************************************************************************\n",
            "* Acurácia: [0.67824601 0.74358974 0.89458689 0.90940171 0.8951567 ]\n",
            "* Acurácia média: 0.8242\n",
            "*-----------------------------------------------------------------------------\n",
            "* Precisão: [0.85011186 0.86247878 0.84949495 0.87331256 0.85553279]\n",
            "* Precisão média: 0.8582\n",
            "*-----------------------------------------------------------------------------\n",
            "* Revocação: [0.43280182 0.57924743 0.95895097 0.95785877 0.95102506]\n",
            "* Revocação média: 0.7760\n",
            "*-----------------------------------------------------------------------------\n",
            "* F1_Score: [0.65762007 0.73644287 0.89415582 0.90918363 0.89482201]\n",
            "* F1_Score médio: 0.8184\n",
            "*-----------------------------------------------------------------------------\n",
            "* ROC AUC: [0.80528458 0.8404493  0.97894042 0.98236118 0.9726158 ]\n",
            "* ROC AUC médio: 0.9159\n",
            "*****************************************************************************\n"
          ]
        }
      ],
      "source": [
        "svc = SVC()\n",
        "pipe_SVC = Pipeline([('MinMaxScaler', MinMaxScaler()), ('svc', svc)])\n",
        "modelo_svc_smote = validacao_cruzada(pipe_SVC, 'SVC', X_train_smote, y_train_smote.ravel(), 5)"
      ]
    },
    {
      "cell_type": "code",
      "execution_count": null,
      "metadata": {
        "colab": {
          "base_uri": "https://localhost:8080/"
        },
        "id": "6Kejh0HpIXUd",
        "outputId": "b8d3fb10-ac03-43f0-b26b-3753ac8ebfc2"
      },
      "outputs": [
        {
          "name": "stdout",
          "output_type": "stream",
          "text": [
            "*****************************************************************************\n",
            "*      Resultados do treino com validação cruzada para o RF\n",
            "*****************************************************************************\n",
            "* Acurácia: [0.7118451  0.74529915 0.91168091 0.92136752 0.91339031]\n",
            "* Acurácia média: 0.8407\n",
            "*-----------------------------------------------------------------------------\n",
            "* Precisão: [0.84701493 0.84565916 0.86027944 0.87373737 0.86083499]\n",
            "* Precisão média: 0.8575\n",
            "*-----------------------------------------------------------------------------\n",
            "* Revocação: [0.51708428 0.59977195 0.98289624 0.98519362 0.98633257]\n",
            "* Revocação média: 0.8143\n",
            "*-----------------------------------------------------------------------------\n",
            "* F1_Score: [0.70048393 0.73976186 0.9112378  0.92104017 0.91291983]\n",
            "* F1_Score médio: 0.8371\n",
            "*-----------------------------------------------------------------------------\n",
            "* ROC AUC: [0.84517774 0.87054322 0.98341182 0.98449558 0.98103067]\n",
            "* ROC AUC médio: 0.9329\n",
            "*****************************************************************************\n"
          ]
        }
      ],
      "source": [
        "RF = RandomForestClassifier()\n",
        "pipe_RF = Pipeline([('MinMaxScaler', MinMaxScaler()), ('RF', RF)])\n",
        "modelo_RF_smote = validacao_cruzada(pipe_RF, 'RF', X_train_smote, y_train_smote.ravel(), 5)"
      ]
    },
    {
      "cell_type": "code",
      "execution_count": null,
      "metadata": {
        "colab": {
          "base_uri": "https://localhost:8080/"
        },
        "id": "PTx0Mc5EIhtw",
        "outputId": "3fa9d75c-39e2-4eae-a2d4-ee3ebf5adec7"
      },
      "outputs": [
        {
          "name": "stdout",
          "output_type": "stream",
          "text": [
            "*****************************************************************************\n",
            "*      Resultados do treino com validação cruzada para o NB\n",
            "*****************************************************************************\n",
            "* Acurácia: [0.75056948 0.76353276 0.79316239 0.8011396  0.78404558]\n",
            "* Acurácia média: 0.7785\n",
            "*-----------------------------------------------------------------------------\n",
            "* Precisão: [0.76128266 0.75273523 0.73278986 0.7507109  0.72868928]\n",
            "* Precisão média: 0.7452\n",
            "*-----------------------------------------------------------------------------\n",
            "* Revocação: [0.73006834 0.78449259 0.92246294 0.90205011 0.90546697]\n",
            "* Revocação média: 0.8489\n",
            "*-----------------------------------------------------------------------------\n",
            "* F1_Score: [0.7504646  0.76343322 0.78967457 0.79907268 0.78078616]\n",
            "* F1_Score médio: 0.7767\n",
            "*-----------------------------------------------------------------------------\n",
            "* ROC AUC: [0.8197939  0.83691815 0.88245936 0.88456194 0.86391015]\n",
            "* ROC AUC médio: 0.8575\n",
            "*****************************************************************************\n"
          ]
        }
      ],
      "source": [
        "NB = GaussianNB()\n",
        "pipe_NB = Pipeline([('MinMaxScaler', MinMaxScaler()), ('NB', NB)])\n",
        "modelo_NB_smote = validacao_cruzada(pipe_NB, 'NB', X_train_smote, y_train_smote.ravel(), 5)"
      ]
    },
    {
      "cell_type": "markdown",
      "metadata": {
        "id": "MzEjEoGTO-Y-"
      },
      "source": [
        "**Os resultado com balanceamento SMOTE segue o mesmo padrão do balanceamento com random over sampling, sendo o Random Forest o mais interessante.**\n",
        "\n",
        "**Analisando os resultados, escolherei o modelo Random Forest utilizando o balanceamento com Random Under Sampling e Random Over Sampling para avaliação de feature selection.**"
      ]
    },
    {
      "cell_type": "markdown",
      "metadata": {
        "id": "0u1piaj_VT2g"
      },
      "source": [
        "Para a próxima etapa irei aplicar feature selection para tentar reduzir o tamanho da nossa matriz de dados e ver se realmente os dados mais importantes estão de acordo com os analisados na semana 2.\n",
        "\n",
        "Da **semana 2** foram encontradas alguns atributos que podem ser importantes na definição da taxa de churn. São eles:\n",
        "1. Atributo da idade\n",
        "2. Atributo de dependentes\n",
        "3. Atributo que indica o tempo de plano do usuário\n",
        "4. Atributo de clientes com mais de uma linha telefônica\n",
        "5. Atibuto que indica o tipo de serviço (Fibra óptica)\n",
        "6. Atributo que indica clientes com streaming ou serviço de TV a cabo\n",
        "7. Atributo de pagamento (CLiente com plano mensal)\n",
        "8. Atributo do tipo de pagamento (Cheque eletrônico)\n",
        "9. Atributo que indica o gasto total do cliente\n",
        "10. Atributo que indica o Gasto mensal\n",
        "\n",
        "Como observei 10 possíveis bons atributos irei determinar, no algoritmo de seleção de features, os 15 melhores atributos como selecionáveis. Assim deixo uma margem de erro para a minha observação anterior."
      ]
    },
    {
      "cell_type": "markdown",
      "metadata": {
        "id": "g6zlpaosVbSz"
      },
      "source": [
        "### **Feature Selection**\n",
        "\n",
        "Com o feature selection analisaremos novamente o balanceamento de dados com os métodos RUS e ROS."
      ]
    },
    {
      "cell_type": "code",
      "execution_count": null,
      "metadata": {
        "id": "PbuuuvKQQDqH"
      },
      "outputs": [],
      "source": [
        "# Importando o método slectkbest e chi2 para a função de score\n",
        "from sklearn.feature_selection import SelectKBest, chi2"
      ]
    },
    {
      "cell_type": "code",
      "execution_count": null,
      "metadata": {
        "colab": {
          "base_uri": "https://localhost:8080/"
        },
        "id": "NvjJ8xVLQxdL",
        "outputId": "98555a66-ee1b-4036-e21b-eaa6fcfaf3da"
      },
      "outputs": [
        {
          "data": {
            "text/plain": [
              "SelectKBest(k=15, score_func=<function chi2 at 0x7fe6afac9440>)"
            ]
          },
          "execution_count": 73,
          "metadata": {},
          "output_type": "execute_result"
        }
      ],
      "source": [
        "# Determinando o objeto do feature selector\n",
        "k = 15\n",
        "k_best = SelectKBest(chi2, k=k)\n",
        "\n",
        "k_best.fit(X_train_enc, y_train_enc)"
      ]
    },
    {
      "cell_type": "code",
      "execution_count": null,
      "metadata": {
        "colab": {
          "base_uri": "https://localhost:8080/"
        },
        "id": "Z2W9SxITRBBG",
        "outputId": "310c7bc5-8380-433b-c064-9c221f510f8c"
      },
      "outputs": [
        {
          "name": "stdout",
          "output_type": "stream",
          "text": [
            "Os 15 melhores atributos são:\n",
            "\n",
            "['InternetService_Fiber optic' 'OnlineSecurity_No' 'OnlineBackup_No'\n",
            " 'OnlineBackup_No internet service' 'DeviceProtection_No internet service'\n",
            " 'TechSupport_No' 'TechSupport_No internet service'\n",
            " 'StreamingTV_No internet service' 'StreamingMovies_No internet service'\n",
            " 'Contract_Month-to-month' 'Contract_Two year'\n",
            " 'PaymentMethod_Electronic check' 'Tenure' 'Charges_Monthly'\n",
            " 'Charges_Total']\n"
          ]
        }
      ],
      "source": [
        "# pegando os melhores atributos e guardando os nomes para filtrar o dataset\n",
        "names_best = k_best.get_feature_names_out()\n",
        "print(f'Os {k} melhores atributos são:\\n\\n{names_best}')"
      ]
    },
    {
      "cell_type": "markdown",
      "metadata": {
        "id": "5aZbAw_aSbMX"
      },
      "source": [
        "Dos 10 atributos analisados na semana dois, 6 estão presentes na seleção automática com o algoritmo SelectKBest definido.\n",
        "\n",
        "A seguir, vamos reorganizar os dados filtrando apenas os melhores atributos."
      ]
    },
    {
      "cell_type": "code",
      "execution_count": null,
      "metadata": {
        "id": "dNl7Waq2RhjZ"
      },
      "outputs": [],
      "source": [
        "# Filtrando os dados\n",
        "X_train_enc_best = X_train_enc[names_best]\n",
        "\n",
        "X_test_enc_best = X_test_enc[names_best]"
      ]
    },
    {
      "cell_type": "code",
      "execution_count": null,
      "metadata": {
        "colab": {
          "base_uri": "https://localhost:8080/",
          "height": 522
        },
        "id": "1Ub6FGw3TUNK",
        "outputId": "faa29b29-49ac-4201-f54c-9c34b8733782"
      },
      "outputs": [
        {
          "data": {
            "text/html": [
              "\n",
              "  <div id=\"df-52175420-0e9e-4603-af4c-647f702b7761\">\n",
              "    <div class=\"colab-df-container\">\n",
              "      <div>\n",
              "<style scoped>\n",
              "    .dataframe tbody tr th:only-of-type {\n",
              "        vertical-align: middle;\n",
              "    }\n",
              "\n",
              "    .dataframe tbody tr th {\n",
              "        vertical-align: top;\n",
              "    }\n",
              "\n",
              "    .dataframe thead th {\n",
              "        text-align: right;\n",
              "    }\n",
              "</style>\n",
              "<table border=\"1\" class=\"dataframe\">\n",
              "  <thead>\n",
              "    <tr style=\"text-align: right;\">\n",
              "      <th></th>\n",
              "      <th>InternetService_Fiber optic</th>\n",
              "      <th>OnlineSecurity_No</th>\n",
              "      <th>OnlineBackup_No</th>\n",
              "      <th>OnlineBackup_No internet service</th>\n",
              "      <th>DeviceProtection_No internet service</th>\n",
              "      <th>TechSupport_No</th>\n",
              "      <th>TechSupport_No internet service</th>\n",
              "      <th>StreamingTV_No internet service</th>\n",
              "      <th>StreamingMovies_No internet service</th>\n",
              "      <th>Contract_Month-to-month</th>\n",
              "      <th>Contract_Two year</th>\n",
              "      <th>PaymentMethod_Electronic check</th>\n",
              "      <th>Tenure</th>\n",
              "      <th>Charges_Monthly</th>\n",
              "      <th>Charges_Total</th>\n",
              "    </tr>\n",
              "  </thead>\n",
              "  <tbody>\n",
              "    <tr>\n",
              "      <th>0</th>\n",
              "      <td>0</td>\n",
              "      <td>0</td>\n",
              "      <td>0</td>\n",
              "      <td>0</td>\n",
              "      <td>0</td>\n",
              "      <td>1</td>\n",
              "      <td>0</td>\n",
              "      <td>0</td>\n",
              "      <td>0</td>\n",
              "      <td>0</td>\n",
              "      <td>0</td>\n",
              "      <td>0</td>\n",
              "      <td>55</td>\n",
              "      <td>60.00</td>\n",
              "      <td>3316.10</td>\n",
              "    </tr>\n",
              "    <tr>\n",
              "      <th>1</th>\n",
              "      <td>1</td>\n",
              "      <td>0</td>\n",
              "      <td>1</td>\n",
              "      <td>0</td>\n",
              "      <td>0</td>\n",
              "      <td>1</td>\n",
              "      <td>0</td>\n",
              "      <td>0</td>\n",
              "      <td>0</td>\n",
              "      <td>1</td>\n",
              "      <td>0</td>\n",
              "      <td>0</td>\n",
              "      <td>33</td>\n",
              "      <td>95.30</td>\n",
              "      <td>3275.15</td>\n",
              "    </tr>\n",
              "    <tr>\n",
              "      <th>2</th>\n",
              "      <td>0</td>\n",
              "      <td>1</td>\n",
              "      <td>1</td>\n",
              "      <td>0</td>\n",
              "      <td>0</td>\n",
              "      <td>1</td>\n",
              "      <td>0</td>\n",
              "      <td>0</td>\n",
              "      <td>0</td>\n",
              "      <td>1</td>\n",
              "      <td>0</td>\n",
              "      <td>1</td>\n",
              "      <td>1</td>\n",
              "      <td>54.35</td>\n",
              "      <td>54.35</td>\n",
              "    </tr>\n",
              "    <tr>\n",
              "      <th>3</th>\n",
              "      <td>0</td>\n",
              "      <td>0</td>\n",
              "      <td>0</td>\n",
              "      <td>1</td>\n",
              "      <td>1</td>\n",
              "      <td>0</td>\n",
              "      <td>1</td>\n",
              "      <td>1</td>\n",
              "      <td>1</td>\n",
              "      <td>0</td>\n",
              "      <td>1</td>\n",
              "      <td>0</td>\n",
              "      <td>52</td>\n",
              "      <td>19.20</td>\n",
              "      <td>1054.75</td>\n",
              "    </tr>\n",
              "    <tr>\n",
              "      <th>4</th>\n",
              "      <td>0</td>\n",
              "      <td>1</td>\n",
              "      <td>1</td>\n",
              "      <td>0</td>\n",
              "      <td>0</td>\n",
              "      <td>1</td>\n",
              "      <td>0</td>\n",
              "      <td>0</td>\n",
              "      <td>0</td>\n",
              "      <td>1</td>\n",
              "      <td>0</td>\n",
              "      <td>0</td>\n",
              "      <td>2</td>\n",
              "      <td>45.85</td>\n",
              "      <td>105.60</td>\n",
              "    </tr>\n",
              "    <tr>\n",
              "      <th>...</th>\n",
              "      <td>...</td>\n",
              "      <td>...</td>\n",
              "      <td>...</td>\n",
              "      <td>...</td>\n",
              "      <td>...</td>\n",
              "      <td>...</td>\n",
              "      <td>...</td>\n",
              "      <td>...</td>\n",
              "      <td>...</td>\n",
              "      <td>...</td>\n",
              "      <td>...</td>\n",
              "      <td>...</td>\n",
              "      <td>...</td>\n",
              "      <td>...</td>\n",
              "      <td>...</td>\n",
              "    </tr>\n",
              "    <tr>\n",
              "      <th>5972</th>\n",
              "      <td>0</td>\n",
              "      <td>0</td>\n",
              "      <td>0</td>\n",
              "      <td>1</td>\n",
              "      <td>1</td>\n",
              "      <td>0</td>\n",
              "      <td>1</td>\n",
              "      <td>1</td>\n",
              "      <td>1</td>\n",
              "      <td>1</td>\n",
              "      <td>0</td>\n",
              "      <td>0</td>\n",
              "      <td>2</td>\n",
              "      <td>19.65</td>\n",
              "      <td>38.80</td>\n",
              "    </tr>\n",
              "    <tr>\n",
              "      <th>5973</th>\n",
              "      <td>1</td>\n",
              "      <td>1</td>\n",
              "      <td>0</td>\n",
              "      <td>0</td>\n",
              "      <td>0</td>\n",
              "      <td>0</td>\n",
              "      <td>0</td>\n",
              "      <td>0</td>\n",
              "      <td>0</td>\n",
              "      <td>0</td>\n",
              "      <td>0</td>\n",
              "      <td>1</td>\n",
              "      <td>41</td>\n",
              "      <td>89.55</td>\n",
              "      <td>3729.75</td>\n",
              "    </tr>\n",
              "    <tr>\n",
              "      <th>5974</th>\n",
              "      <td>1</td>\n",
              "      <td>1</td>\n",
              "      <td>1</td>\n",
              "      <td>0</td>\n",
              "      <td>0</td>\n",
              "      <td>1</td>\n",
              "      <td>0</td>\n",
              "      <td>0</td>\n",
              "      <td>0</td>\n",
              "      <td>1</td>\n",
              "      <td>0</td>\n",
              "      <td>1</td>\n",
              "      <td>27</td>\n",
              "      <td>70.55</td>\n",
              "      <td>1943.90</td>\n",
              "    </tr>\n",
              "    <tr>\n",
              "      <th>5975</th>\n",
              "      <td>1</td>\n",
              "      <td>0</td>\n",
              "      <td>1</td>\n",
              "      <td>0</td>\n",
              "      <td>0</td>\n",
              "      <td>0</td>\n",
              "      <td>0</td>\n",
              "      <td>0</td>\n",
              "      <td>0</td>\n",
              "      <td>0</td>\n",
              "      <td>0</td>\n",
              "      <td>0</td>\n",
              "      <td>65</td>\n",
              "      <td>110.00</td>\n",
              "      <td>7138.65</td>\n",
              "    </tr>\n",
              "    <tr>\n",
              "      <th>5976</th>\n",
              "      <td>0</td>\n",
              "      <td>1</td>\n",
              "      <td>1</td>\n",
              "      <td>0</td>\n",
              "      <td>0</td>\n",
              "      <td>1</td>\n",
              "      <td>0</td>\n",
              "      <td>0</td>\n",
              "      <td>0</td>\n",
              "      <td>1</td>\n",
              "      <td>0</td>\n",
              "      <td>0</td>\n",
              "      <td>37</td>\n",
              "      <td>40.20</td>\n",
              "      <td>1478.85</td>\n",
              "    </tr>\n",
              "  </tbody>\n",
              "</table>\n",
              "<p>5977 rows × 15 columns</p>\n",
              "</div>\n",
              "      <button class=\"colab-df-convert\" onclick=\"convertToInteractive('df-52175420-0e9e-4603-af4c-647f702b7761')\"\n",
              "              title=\"Convert this dataframe to an interactive table.\"\n",
              "              style=\"display:none;\">\n",
              "        \n",
              "  <svg xmlns=\"http://www.w3.org/2000/svg\" height=\"24px\"viewBox=\"0 0 24 24\"\n",
              "       width=\"24px\">\n",
              "    <path d=\"M0 0h24v24H0V0z\" fill=\"none\"/>\n",
              "    <path d=\"M18.56 5.44l.94 2.06.94-2.06 2.06-.94-2.06-.94-.94-2.06-.94 2.06-2.06.94zm-11 1L8.5 8.5l.94-2.06 2.06-.94-2.06-.94L8.5 2.5l-.94 2.06-2.06.94zm10 10l.94 2.06.94-2.06 2.06-.94-2.06-.94-.94-2.06-.94 2.06-2.06.94z\"/><path d=\"M17.41 7.96l-1.37-1.37c-.4-.4-.92-.59-1.43-.59-.52 0-1.04.2-1.43.59L10.3 9.45l-7.72 7.72c-.78.78-.78 2.05 0 2.83L4 21.41c.39.39.9.59 1.41.59.51 0 1.02-.2 1.41-.59l7.78-7.78 2.81-2.81c.8-.78.8-2.07 0-2.86zM5.41 20L4 18.59l7.72-7.72 1.47 1.35L5.41 20z\"/>\n",
              "  </svg>\n",
              "      </button>\n",
              "      \n",
              "  <style>\n",
              "    .colab-df-container {\n",
              "      display:flex;\n",
              "      flex-wrap:wrap;\n",
              "      gap: 12px;\n",
              "    }\n",
              "\n",
              "    .colab-df-convert {\n",
              "      background-color: #E8F0FE;\n",
              "      border: none;\n",
              "      border-radius: 50%;\n",
              "      cursor: pointer;\n",
              "      display: none;\n",
              "      fill: #1967D2;\n",
              "      height: 32px;\n",
              "      padding: 0 0 0 0;\n",
              "      width: 32px;\n",
              "    }\n",
              "\n",
              "    .colab-df-convert:hover {\n",
              "      background-color: #E2EBFA;\n",
              "      box-shadow: 0px 1px 2px rgba(60, 64, 67, 0.3), 0px 1px 3px 1px rgba(60, 64, 67, 0.15);\n",
              "      fill: #174EA6;\n",
              "    }\n",
              "\n",
              "    [theme=dark] .colab-df-convert {\n",
              "      background-color: #3B4455;\n",
              "      fill: #D2E3FC;\n",
              "    }\n",
              "\n",
              "    [theme=dark] .colab-df-convert:hover {\n",
              "      background-color: #434B5C;\n",
              "      box-shadow: 0px 1px 3px 1px rgba(0, 0, 0, 0.15);\n",
              "      filter: drop-shadow(0px 1px 2px rgba(0, 0, 0, 0.3));\n",
              "      fill: #FFFFFF;\n",
              "    }\n",
              "  </style>\n",
              "\n",
              "      <script>\n",
              "        const buttonEl =\n",
              "          document.querySelector('#df-52175420-0e9e-4603-af4c-647f702b7761 button.colab-df-convert');\n",
              "        buttonEl.style.display =\n",
              "          google.colab.kernel.accessAllowed ? 'block' : 'none';\n",
              "\n",
              "        async function convertToInteractive(key) {\n",
              "          const element = document.querySelector('#df-52175420-0e9e-4603-af4c-647f702b7761');\n",
              "          const dataTable =\n",
              "            await google.colab.kernel.invokeFunction('convertToInteractive',\n",
              "                                                     [key], {});\n",
              "          if (!dataTable) return;\n",
              "\n",
              "          const docLinkHtml = 'Like what you see? Visit the ' +\n",
              "            '<a target=\"_blank\" href=https://colab.research.google.com/notebooks/data_table.ipynb>data table notebook</a>'\n",
              "            + ' to learn more about interactive tables.';\n",
              "          element.innerHTML = '';\n",
              "          dataTable['output_type'] = 'display_data';\n",
              "          await google.colab.output.renderOutput(dataTable, element);\n",
              "          const docLink = document.createElement('div');\n",
              "          docLink.innerHTML = docLinkHtml;\n",
              "          element.appendChild(docLink);\n",
              "        }\n",
              "      </script>\n",
              "    </div>\n",
              "  </div>\n",
              "  "
            ],
            "text/plain": [
              "      InternetService_Fiber optic  OnlineSecurity_No  OnlineBackup_No  \\\n",
              "0                               0                  0                0   \n",
              "1                               1                  0                1   \n",
              "2                               0                  1                1   \n",
              "3                               0                  0                0   \n",
              "4                               0                  1                1   \n",
              "...                           ...                ...              ...   \n",
              "5972                            0                  0                0   \n",
              "5973                            1                  1                0   \n",
              "5974                            1                  1                1   \n",
              "5975                            1                  0                1   \n",
              "5976                            0                  1                1   \n",
              "\n",
              "      OnlineBackup_No internet service  DeviceProtection_No internet service  \\\n",
              "0                                    0                                     0   \n",
              "1                                    0                                     0   \n",
              "2                                    0                                     0   \n",
              "3                                    1                                     1   \n",
              "4                                    0                                     0   \n",
              "...                                ...                                   ...   \n",
              "5972                                 1                                     1   \n",
              "5973                                 0                                     0   \n",
              "5974                                 0                                     0   \n",
              "5975                                 0                                     0   \n",
              "5976                                 0                                     0   \n",
              "\n",
              "      TechSupport_No  TechSupport_No internet service  \\\n",
              "0                  1                                0   \n",
              "1                  1                                0   \n",
              "2                  1                                0   \n",
              "3                  0                                1   \n",
              "4                  1                                0   \n",
              "...              ...                              ...   \n",
              "5972               0                                1   \n",
              "5973               0                                0   \n",
              "5974               1                                0   \n",
              "5975               0                                0   \n",
              "5976               1                                0   \n",
              "\n",
              "      StreamingTV_No internet service  StreamingMovies_No internet service  \\\n",
              "0                                   0                                    0   \n",
              "1                                   0                                    0   \n",
              "2                                   0                                    0   \n",
              "3                                   1                                    1   \n",
              "4                                   0                                    0   \n",
              "...                               ...                                  ...   \n",
              "5972                                1                                    1   \n",
              "5973                                0                                    0   \n",
              "5974                                0                                    0   \n",
              "5975                                0                                    0   \n",
              "5976                                0                                    0   \n",
              "\n",
              "      Contract_Month-to-month  Contract_Two year  \\\n",
              "0                           0                  0   \n",
              "1                           1                  0   \n",
              "2                           1                  0   \n",
              "3                           0                  1   \n",
              "4                           1                  0   \n",
              "...                       ...                ...   \n",
              "5972                        1                  0   \n",
              "5973                        0                  0   \n",
              "5974                        1                  0   \n",
              "5975                        0                  0   \n",
              "5976                        1                  0   \n",
              "\n",
              "      PaymentMethod_Electronic check  Tenure  Charges_Monthly  Charges_Total  \n",
              "0                                  0      55            60.00        3316.10  \n",
              "1                                  0      33            95.30        3275.15  \n",
              "2                                  1       1            54.35          54.35  \n",
              "3                                  0      52            19.20        1054.75  \n",
              "4                                  0       2            45.85         105.60  \n",
              "...                              ...     ...              ...            ...  \n",
              "5972                               0       2            19.65          38.80  \n",
              "5973                               1      41            89.55        3729.75  \n",
              "5974                               1      27            70.55        1943.90  \n",
              "5975                               0      65           110.00        7138.65  \n",
              "5976                               0      37            40.20        1478.85  \n",
              "\n",
              "[5977 rows x 15 columns]"
            ]
          },
          "execution_count": 76,
          "metadata": {},
          "output_type": "execute_result"
        }
      ],
      "source": [
        "X_train_enc_best"
      ]
    },
    {
      "cell_type": "code",
      "execution_count": null,
      "metadata": {
        "colab": {
          "base_uri": "https://localhost:8080/"
        },
        "id": "-Ub-G3QUTxQB",
        "outputId": "2b66cd76-4ff1-47b9-a53a-e0cb29214afb"
      },
      "outputs": [
        {
          "name": "stdout",
          "output_type": "stream",
          "text": [
            "Shape do X_train com Under Sampling: (3178, 15)\n",
            "Shape do y_train com Under Sampling: (3178,)\n",
            "Valores únicos das classes: (array([0, 1]), array([1589, 1589]))\n"
          ]
        }
      ],
      "source": [
        "# Definindo o novo balanceamento para os dados filtrados com RUS\n",
        "rus_best = RandomUnderSampler()\n",
        "\n",
        "X_train_rus_best, y_train_rus_best = rus_best.fit_resample(X_train_enc_best, y_train_enc)\n",
        "\n",
        "print(f'Shape do X_train com Under Sampling: {X_train_rus_best.shape}')\n",
        "print(f'Shape do y_train com Under Sampling: {y_train_rus_best.shape}')\n",
        "\n",
        "print(f'Valores únicos das classes: {np.unique(y_train_rus_best, return_counts=True)}')"
      ]
    },
    {
      "cell_type": "code",
      "execution_count": null,
      "metadata": {
        "colab": {
          "base_uri": "https://localhost:8080/"
        },
        "id": "1fgPb4WFT-9m",
        "outputId": "40b4ccfd-b3d2-4c12-88d9-5f65897d3038"
      },
      "outputs": [
        {
          "name": "stdout",
          "output_type": "stream",
          "text": [
            "*****************************************************************************\n",
            "*      Resultados do treino com validação cruzada para o RF\n",
            "*****************************************************************************\n",
            "* Acurácia: [0.72484277 0.73113208 0.72012579 0.73543307 0.7511811 ]\n",
            "* Acurácia média: 0.7325\n",
            "*-----------------------------------------------------------------------------\n",
            "* Precisão: [0.72413793 0.72340426 0.70958084 0.72782875 0.75      ]\n",
            "* Precisão média: 0.7270\n",
            "*-----------------------------------------------------------------------------\n",
            "* Revocação: [0.72641509 0.74842767 0.74528302 0.75078864 0.75471698]\n",
            "* Revocação média: 0.7451\n",
            "*-----------------------------------------------------------------------------\n",
            "* F1_Score: [0.72484209 0.73105162 0.71994855 0.73537991 0.75117555]\n",
            "* F1_Score médio: 0.7325\n",
            "*-----------------------------------------------------------------------------\n",
            "* ROC AUC: [0.80519956 0.80004252 0.7913255  0.81144972 0.82782275]\n",
            "* ROC AUC médio: 0.8072\n",
            "*****************************************************************************\n"
          ]
        }
      ],
      "source": [
        "# Treinando novamente o modelo de RF com RUS\n",
        "RF = RandomForestClassifier()\n",
        "pipe_RF = Pipeline([('MinMaxScaler', MinMaxScaler()), ('RF', RF)])\n",
        "modelo_RF_rus_kbest = validacao_cruzada(pipe_RF, 'RF', X_train_rus_best, y_train_rus_best.ravel(), 5)"
      ]
    },
    {
      "cell_type": "code",
      "execution_count": null,
      "metadata": {
        "colab": {
          "base_uri": "https://localhost:8080/"
        },
        "id": "PjxixIlXUJYT",
        "outputId": "b0c2fbd8-c069-4d0c-e83f-16dfa9255ebb"
      },
      "outputs": [
        {
          "name": "stdout",
          "output_type": "stream",
          "text": [
            "Shape do X_train com Under Sampling: (8776, 15)\n",
            "Shape do y_train com Under Sampling: (8776,)\n"
          ]
        }
      ],
      "source": [
        "# Definindo o novo balanceamento para os dados filtrados com ROS\n",
        "\n",
        "ros_best = RandomOverSampler()\n",
        "\n",
        "X_train_ros_best, y_train_ros_best = ros_best.fit_resample(X_train_enc_best, y_train_enc)\n",
        "\n",
        "print(f'Shape do X_train com Under Sampling: {X_train_ros_best.shape}')\n",
        "print(f'Shape do y_train com Under Sampling: {y_train_ros_best.shape}')"
      ]
    },
    {
      "cell_type": "code",
      "execution_count": null,
      "metadata": {
        "colab": {
          "base_uri": "https://localhost:8080/"
        },
        "id": "bHflIBYbU0E3",
        "outputId": "09d2a1d9-5a55-40cb-937a-da2a24eb5cee"
      },
      "outputs": [
        {
          "name": "stdout",
          "output_type": "stream",
          "text": [
            "*****************************************************************************\n",
            "*      Resultados do treino com validação cruzada para o RF\n",
            "*****************************************************************************\n",
            "* Acurácia: [0.88154897 0.88547009 0.89230769 0.92478632 0.9019943 ]\n",
            "* Acurácia média: 0.8972\n",
            "*-----------------------------------------------------------------------------\n",
            "* Precisão: [0.84536082 0.85881104 0.82391714 0.873      0.83877159]\n",
            "* Precisão média: 0.8480\n",
            "*-----------------------------------------------------------------------------\n",
            "* Revocação: [0.93394077 0.92246294 0.9977195  0.99430524 0.99544419]\n",
            "* Revocação média: 0.9688\n",
            "*-----------------------------------------------------------------------------\n",
            "* F1_Score: [0.88122294 0.88531757 0.89111077 0.92441505 0.90112028]\n",
            "* F1_Score médio: 0.8966\n",
            "*-----------------------------------------------------------------------------\n",
            "* ROC AUC: [0.94275274 0.9459264  0.96375093 0.97366644 0.96346457]\n",
            "* ROC AUC médio: 0.9579\n",
            "*****************************************************************************\n"
          ]
        }
      ],
      "source": [
        "# Treinando novamente o modelo de RF com ROS\n",
        "RF = RandomForestClassifier()\n",
        "pipe_RF = Pipeline([('MinMaxScaler', MinMaxScaler()), ('RF', RF)])\n",
        "modelo_RF_ros_kbest = validacao_cruzada(pipe_RF, 'RF', X_train_ros_best, y_train_ros_best.ravel(), 5)"
      ]
    },
    {
      "cell_type": "markdown",
      "metadata": {
        "id": "Oo9mKFBvWSXt"
      },
      "source": [
        "**O modelo com balanceamento ROS apresenta melhores resultados**\n",
        "\n",
        "Irei escolher o modelo balanceado com o Over Sampling como o melhor e usá-lo na otimização final do modelo para teste.\n",
        "\n",
        "--------\n",
        "\n",
        "Espero um bom resultado! :)\n",
        "\n"
      ]
    },
    {
      "cell_type": "markdown",
      "metadata": {
        "id": "O5Ebmsg-YQai"
      },
      "source": [
        "### **Otimizando o melhor modelo**\n",
        "\n",
        "Irei usar o [GridSearchCV](https://scikit-learn.org/stable/modules/generated/sklearn.model_selection.GridSearchCV.html#sklearn.model_selection.GridSearchCV) para otimizar o modelo de Random Forest."
      ]
    },
    {
      "cell_type": "code",
      "execution_count": null,
      "metadata": {
        "id": "fwEGJPD5XqEq"
      },
      "outputs": [],
      "source": [
        "from sklearn.model_selection import GridSearchCV"
      ]
    },
    {
      "cell_type": "code",
      "execution_count": null,
      "metadata": {
        "id": "DOOX0eBZjSa6"
      },
      "outputs": [],
      "source": [
        "RL_opt = RandomForestClassifier()\n",
        "pipe_RL_opt = Pipeline([('MinMaxScaler', MinMaxScaler()), ('RF', RL_opt)])"
      ]
    },
    {
      "cell_type": "code",
      "execution_count": null,
      "metadata": {
        "id": "e1W1mNuHiEtw"
      },
      "outputs": [],
      "source": [
        "parameters = {'RF__n_estimators':[75, 100, 125],\n",
        "              'RF__criterion':['gini', 'entropy'],\n",
        "              'RF__bootstrap':[True, False],\n",
        "              'RF__min_samples_split':[2, 4, 6],\n",
        "              'RF__max_depth': [None, 5, 15, 25],\n",
        "              'RF__min_samples_leaf': [2, 4]}"
      ]
    },
    {
      "cell_type": "code",
      "execution_count": null,
      "metadata": {
        "id": "XJA_Q3FRJz5l"
      },
      "outputs": [],
      "source": [
        "RF_grid_cv = GridSearchCV(pipe_RL_opt, parameters, scoring=['accuracy', 'recall', 'precision', 'f1_macro', 'roc_auc'], cv=5, refit='recall')"
      ]
    },
    {
      "cell_type": "code",
      "execution_count": null,
      "metadata": {
        "colab": {
          "background_save": true
        },
        "id": "_-RdWObeKepd",
        "outputId": "12444796-88cc-456c-d152-b0aae2f04be5"
      },
      "outputs": [
        {
          "data": {
            "text/plain": [
              "GridSearchCV(cv=5,\n",
              "             estimator=Pipeline(steps=[('MinMaxScaler', MinMaxScaler()),\n",
              "                                       ('RF', RandomForestClassifier())]),\n",
              "             param_grid={'RF__bootstrap': [True, False],\n",
              "                         'RF__criterion': ['gini', 'entropy'],\n",
              "                         'RF__max_depth': [None, 5, 15, 25],\n",
              "                         'RF__min_samples_leaf': [2, 4],\n",
              "                         'RF__min_samples_split': [2, 4, 6],\n",
              "                         'RF__n_estimators': [75, 100, 125]},\n",
              "             refit='recall',\n",
              "             scoring=['accuracy', 'recall', 'precision', 'f1_macro', 'roc_auc'])"
            ]
          },
          "execution_count": null,
          "metadata": {},
          "output_type": "execute_result"
        }
      ],
      "source": [
        "RF_grid_cv.fit(X_train_ros_best, y_train_ros_best)"
      ]
    },
    {
      "cell_type": "code",
      "execution_count": null,
      "metadata": {
        "colab": {
          "base_uri": "https://localhost:8080/"
        },
        "id": "PG1iGD-vLLWP",
        "outputId": "b745cb9e-98da-49cf-af9c-57106710a27a"
      },
      "outputs": [
        {
          "output_type": "stream",
          "name": "stdout",
          "text": [
            "Os melhores parâmetros encontrados no grid search são:\n",
            "\n",
            "{'RF__bootstrap': False, 'RF__criterion': 'entropy', 'RF__max_depth': 15, 'RF__min_samples_leaf': 2, 'RF__min_samples_split': 2, 'RF__n_estimators': 75}\n"
          ]
        }
      ],
      "source": [
        "best_params = RF_grid_cv.best_params_\n",
        "\n",
        "print(f'Os melhores parâmetros encontrados no grid search são:\\n\\n{best_params}')"
      ]
    },
    {
      "cell_type": "markdown",
      "metadata": {
        "id": "uxdozN03dWa9"
      },
      "source": [
        "Com os melhores parâmetros encontrados acima irei treinar um modelo final com essa configuração em todo os dados de treino. Este será meu modelo final para o último teste."
      ]
    },
    {
      "cell_type": "markdown",
      "metadata": {
        "id": "FPhVXAPLeLI0"
      },
      "source": [
        "#### Treinando o último modelo otimizado e não otimizado"
      ]
    },
    {
      "cell_type": "markdown",
      "metadata": {
        "id": "CJfFzF4Xfrkz"
      },
      "source": [
        "**Não otimizado**"
      ]
    },
    {
      "cell_type": "code",
      "execution_count": null,
      "metadata": {
        "id": "RsT4nmFyf0tC",
        "colab": {
          "base_uri": "https://localhost:8080/"
        },
        "outputId": "94166b1a-e7f7-44d9-91e7-05a851285e61"
      },
      "outputs": [
        {
          "output_type": "stream",
          "name": "stdout",
          "text": [
            "Acurácia do modelo final não otimizado: 0.771563981042654\n"
          ]
        }
      ],
      "source": [
        "RF_final_nao_otimizado = RandomForestClassifier()\n",
        "\n",
        "RF_final_nao_otimizado.fit(X_train_ros_best, y_train_ros_best)\n",
        "\n",
        "score_nao_otimizado = RF_final_nao_otimizado.score(X_test_enc_best, y_test_enc)\n",
        "print(f'Acurácia do modelo final não otimizado: {score_nao_otimizado}')\n",
        "\n",
        "y_pred_final_nao_otimizado = RF_final_nao_otimizado.predict(X_test_enc_best)"
      ]
    },
    {
      "cell_type": "code",
      "source": [
        "# Mostrar a matriz de confusão\n",
        "cm_nao_otimizado = confusion_matrix(y_test_enc, y_pred_final_nao_otimizado)\n",
        "\n",
        "cm_disp = ConfusionMatrixDisplay(cm_nao_otimizado, display_labels=RF_final_nao_otimizado.classes_)\n",
        "\n",
        "cm_disp.plot()\n",
        "\n",
        "plt.title('Matriz de confusão do modelo final não otimizado')\n",
        "plt.grid(False)\n",
        "\n",
        "plt.show()"
      ],
      "metadata": {
        "colab": {
          "base_uri": "https://localhost:8080/",
          "height": 301
        },
        "id": "q3G51_Au5727",
        "outputId": "6b5cd6ca-0c36-4de2-c59d-cf9558656d4d"
      },
      "execution_count": null,
      "outputs": [
        {
          "output_type": "display_data",
          "data": {
            "text/plain": [
              "<Figure size 432x288 with 2 Axes>"
            ],
            "image/png": "[encoded data removed]"
          },
          "metadata": {}
        }
      ]
    },
    {
      "cell_type": "code",
      "source": [
        "print(classification_report(y_test_enc, y_pred_final_nao_otimizado, output_dict=False))"
      ],
      "metadata": {
        "colab": {
          "base_uri": "https://localhost:8080/"
        },
        "id": "Gp7_pdrJ6CwK",
        "outputId": "229d69e1-635e-4efe-e3f8-08ca1e333af5"
      },
      "execution_count": null,
      "outputs": [
        {
          "output_type": "stream",
          "name": "stdout",
          "text": [
            "              precision    recall  f1-score   support\n",
            "\n",
            "           0       0.85      0.84      0.84       775\n",
            "           1       0.57      0.57      0.57       280\n",
            "\n",
            "    accuracy                           0.77      1055\n",
            "   macro avg       0.71      0.71      0.71      1055\n",
            "weighted avg       0.77      0.77      0.77      1055\n",
            "\n"
          ]
        }
      ]
    },
    {
      "cell_type": "markdown",
      "metadata": {
        "id": "XM85V4ZCggKk"
      },
      "source": [
        "Temos um modelo com uma performance muito parecida com os modelos avaliados durantes as etapas de validação. O modelo final tem uma acurácia de 0.77, F1-Score de macro de 0.71, Precision de macro de 0.71 e recall macro de 0.71."
      ]
    },
    {
      "cell_type": "markdown",
      "metadata": {
        "id": "e2Wrv2lRfxlD"
      },
      "source": [
        "**Otimizado**"
      ]
    },
    {
      "cell_type": "code",
      "execution_count": null,
      "metadata": {
        "id": "DZ9MBcoidVa1"
      },
      "outputs": [],
      "source": [
        "RF_final_otimizado = RandomForestClassifier(bootstrap=False,\n",
        "                            criterion='entropy',\n",
        "                            max_depth=15,\n",
        "                            min_samples_split=2,\n",
        "                            n_estimators=75,\n",
        "                            min_samples_leaf=2)"
      ]
    },
    {
      "cell_type": "code",
      "execution_count": null,
      "metadata": {
        "colab": {
          "base_uri": "https://localhost:8080/"
        },
        "id": "GdVmsYkQdKJZ",
        "outputId": "be825670-e168-49c8-8b16-179b729c09d1"
      },
      "outputs": [
        {
          "output_type": "execute_result",
          "data": {
            "text/plain": [
              "RandomForestClassifier(bootstrap=False, criterion='entropy', max_depth=15,\n",
              "                       min_samples_leaf=2, n_estimators=75)"
            ]
          },
          "metadata": {},
          "execution_count": 115
        }
      ],
      "source": [
        "RF_final_otimizado.fit(X_train_ros_best, y_train_ros_best)"
      ]
    },
    {
      "cell_type": "code",
      "execution_count": null,
      "metadata": {
        "colab": {
          "base_uri": "https://localhost:8080/"
        },
        "id": "K-f7f_Bue_0o",
        "outputId": "0ac41c47-90c4-4130-92ab-51cf340d4746"
      },
      "outputs": [
        {
          "output_type": "execute_result",
          "data": {
            "text/plain": [
              "0.771563981042654"
            ]
          },
          "metadata": {},
          "execution_count": 116
        }
      ],
      "source": [
        "RF_final_otimizado.score(X_test_enc_best, y_test_enc)"
      ]
    },
    {
      "cell_type": "code",
      "execution_count": null,
      "metadata": {
        "id": "Ub-KYwI9e5sL"
      },
      "outputs": [],
      "source": [
        "y_pred_final = RF_final_otimizado.predict(X_test_enc_best)"
      ]
    },
    {
      "cell_type": "code",
      "execution_count": null,
      "metadata": {
        "colab": {
          "base_uri": "https://localhost:8080/",
          "height": 301
        },
        "id": "j55JBAkLypX0",
        "outputId": "eea742f4-350b-4e05-f926-23a7b3d5a72e"
      },
      "outputs": [
        {
          "output_type": "display_data",
          "data": {
            "text/plain": [
              "<Figure size 432x288 with 2 Axes>"
            ],
            "image/png": "[encoded data removed]"
          },
          "metadata": {}
        }
      ],
      "source": [
        "# Mostrar a matriz de confusão\n",
        "cm = confusion_matrix(y_test_enc, y_pred_final)\n",
        "\n",
        "cm_disp = ConfusionMatrixDisplay(cm, display_labels=RF_final_otimizado.classes_)\n",
        "\n",
        "cm_disp.plot()\n",
        "\n",
        "plt.title('Matriz de confusão do modelo final otimizado')\n",
        "plt.grid(False)\n",
        "\n",
        "plt.show()"
      ]
    },
    {
      "cell_type": "code",
      "execution_count": null,
      "metadata": {
        "colab": {
          "base_uri": "https://localhost:8080/"
        },
        "id": "TsJuE-GlfUyD",
        "outputId": "bbbebf06-6b49-4a58-c255-70b3fd7e0508"
      },
      "outputs": [
        {
          "output_type": "stream",
          "name": "stdout",
          "text": [
            "              precision    recall  f1-score   support\n",
            "\n",
            "           0       0.86      0.82      0.84       775\n",
            "           1       0.56      0.63      0.59       280\n",
            "\n",
            "    accuracy                           0.77      1055\n",
            "   macro avg       0.71      0.73      0.72      1055\n",
            "weighted avg       0.78      0.77      0.78      1055\n",
            "\n"
          ]
        }
      ],
      "source": [
        "print(classification_report(y_test_enc, y_pred_final, output_dict=False))"
      ]
    },
    {
      "cell_type": "markdown",
      "source": [
        "**O modelo otimizado teve uma mesma acurácia de 0.77, porém um recall maior de 0.72 e precision macro de 0.71. Logo irei escolher o modelo otimizado como melhor opção e salvar as suas configurações.**"
      ],
      "metadata": {
        "id": "Vpc1y0M27ElU"
      }
    },
    {
      "cell_type": "markdown",
      "metadata": {
        "id": "JmN-7mHvsy_N"
      },
      "source": [
        "-------------"
      ]
    },
    {
      "cell_type": "markdown",
      "metadata": {
        "id": "x8FWvxnTqVJe"
      },
      "source": [
        "### Parte extra para salvamento de arquivos\n",
        "\n",
        "Irei salvar o modelo final e os encodings com joblib"
      ]
    },
    {
      "cell_type": "code",
      "execution_count": null,
      "metadata": {
        "id": "t-5Fv_gGqUMq"
      },
      "outputs": [],
      "source": [
        "from joblib import dump, load"
      ]
    },
    {
      "cell_type": "code",
      "execution_count": null,
      "metadata": {
        "colab": {
          "base_uri": "https://localhost:8080/"
        },
        "id": "ygGhtC4Yff6d",
        "outputId": "6a65b048-3a64-4745-c060-b9431cb4f0fc"
      },
      "outputs": [
        {
          "output_type": "execute_result",
          "data": {
            "text/plain": [
              "['RF_final_model_Alura.joblib']"
            ]
          },
          "metadata": {},
          "execution_count": 127
        }
      ],
      "source": [
        "# Salvando o modelo final\n",
        "dump(RF_final_otimizado, 'RF_final_model_Alura.joblib') "
      ]
    },
    {
      "cell_type": "code",
      "execution_count": null,
      "metadata": {
        "colab": {
          "base_uri": "https://localhost:8080/"
        },
        "id": "kxFwbYHfqjzs",
        "outputId": "65b2f439-44c9-4ccb-9a3c-a4b334ae0c2a"
      },
      "outputs": [
        {
          "output_type": "execute_result",
          "data": {
            "text/plain": [
              "['X_enc_model_Alura.joblib']"
            ]
          },
          "metadata": {},
          "execution_count": 122
        }
      ],
      "source": [
        "# Salvando o X_encoder\n",
        "dump(X_enc, 'X_enc_model_Alura.joblib')"
      ]
    },
    {
      "cell_type": "code",
      "execution_count": null,
      "metadata": {
        "colab": {
          "base_uri": "https://localhost:8080/"
        },
        "id": "fgz9of2hsBqh",
        "outputId": "f08fda13-618d-4c2a-f536-9d44fd64e5e0"
      },
      "outputs": [
        {
          "output_type": "execute_result",
          "data": {
            "text/plain": [
              "['lb_enc_model_Alura.joblib']"
            ]
          },
          "metadata": {},
          "execution_count": 123
        }
      ],
      "source": [
        "# Salvando o y_encoder\n",
        "dump(lb, 'lb_enc_model_Alura.joblib')"
      ]
    },
    {
      "cell_type": "code",
      "execution_count": null,
      "metadata": {
        "colab": {
          "base_uri": "https://localhost:8080/"
        },
        "id": "5BEAB6qjsKa_",
        "outputId": "a6226e0b-de2a-4698-cf10-cf13c9b32624"
      },
      "outputs": [
        {
          "output_type": "execute_result",
          "data": {
            "text/plain": [
              "['k_best_model_Alura.joblib']"
            ]
          },
          "metadata": {},
          "execution_count": 124
        }
      ],
      "source": [
        "# Salvando o k_best selector\n",
        "dump(k_best, 'k_best_model_Alura.joblib')"
      ]
    },
    {
      "cell_type": "code",
      "execution_count": null,
      "metadata": {
        "id": "UAWIRbObsQS0"
      },
      "outputs": [],
      "source": [
        ""
      ]
    },
    {
      "cell_type": "code",
      "execution_count": null,
      "metadata": {
        "id": "OniaBVmpsU0O"
      },
      "outputs": [],
      "source": [
        "# Testando o carregamento do k_best selector para ver se está tudo ok para baixar os arquivos e finalizar a execução. :)\n",
        "k_best_loaded = load('/content/k_best_model_Alura.joblib')"
      ]
    },
    {
      "cell_type": "code",
      "execution_count": null,
      "metadata": {
        "colab": {
          "base_uri": "https://localhost:8080/"
        },
        "id": "283xW1lesg7J",
        "outputId": "56d1ebff-36a6-4fc5-83d1-644af2624305"
      },
      "outputs": [
        {
          "output_type": "execute_result",
          "data": {
            "text/plain": [
              "array(['InternetService_Fiber optic', 'OnlineSecurity_No',\n",
              "       'OnlineBackup_No', 'OnlineBackup_No internet service',\n",
              "       'DeviceProtection_No internet service', 'TechSupport_No',\n",
              "       'TechSupport_No internet service',\n",
              "       'StreamingTV_No internet service',\n",
              "       'StreamingMovies_No internet service', 'Contract_Month-to-month',\n",
              "       'Contract_Two year', 'PaymentMethod_Electronic check', 'Tenure',\n",
              "       'Charges_Monthly', 'Charges_Total'], dtype=object)"
            ]
          },
          "metadata": {},
          "execution_count": 126
        }
      ],
      "source": [
        "k_best_loaded.get_feature_names_out()"
      ]
    },
    {
      "cell_type": "code",
      "execution_count": null,
      "metadata": {
        "id": "03XYZcj11Yv1"
      },
      "outputs": [],
      "source": [
        ""
      ]
    }
  ],
  "metadata": {
    "colab": {
      "collapsed_sections": [],
      "name": "Challenge Alura Voz - Semana 3.ipynb",
      "provenance": []
    },
    "kernelspec": {
      "display_name": "Python 3",
      "name": "python3"
    },
    "language_info": {
      "name": "python"
    }
  },
  "nbformat": 4,
  "nbformat_minor": 0
}