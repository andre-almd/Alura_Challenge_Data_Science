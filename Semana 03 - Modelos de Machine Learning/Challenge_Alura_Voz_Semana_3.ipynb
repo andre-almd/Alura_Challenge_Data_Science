{
  "nbformat": 4,
  "nbformat_minor": 0,
  "metadata": {
    "colab": {
      "name": "Challenge Alura Voz - Semana 3.ipynb",
      "provenance": [],
      "collapsed_sections": []
    },
    "kernelspec": {
      "name": "python3",
      "display_name": "Python 3"
    },
    "language_info": {
      "name": "python"
    }
  },
  "cells": [
    {
      "cell_type": "markdown",
      "source": [
        "# **Alura Challenge - Alura Voz**\n",
        "\n",
        "Nesse notebook será realizada a criação de modelos de Machine Learning para a empresa ALura Voz."
      ],
      "metadata": {
        "id": "8u_-z7g-IRpB"
      }
    },
    {
      "cell_type": "markdown",
      "source": [
        "## **Semana 03 - Criação de modelos de Machine learning**"
      ],
      "metadata": {
        "id": "hq1YjaiaPaKc"
      }
    },
    {
      "cell_type": "code",
      "execution_count": 1,
      "metadata": {
        "id": "y8F5ck0BIO6h"
      },
      "outputs": [],
      "source": [
        "import pandas as pd\n",
        "import numpy as np\n",
        "import matplotlib.pyplot as plt\n",
        "import seaborn as sns\n",
        "\n",
        "from sklearn.model_selection import train_test_split\n",
        "\n",
        "import warnings"
      ]
    },
    {
      "cell_type": "code",
      "source": [
        "np.random.seed(42)"
      ],
      "metadata": {
        "id": "ZkGmEd4yTlWi"
      },
      "execution_count": 2,
      "outputs": []
    },
    {
      "cell_type": "code",
      "source": [
        "sns.set_theme(style=\"whitegrid\", palette='Set2')"
      ],
      "metadata": {
        "id": "OI9k-uwjPenZ"
      },
      "execution_count": 3,
      "outputs": []
    },
    {
      "cell_type": "code",
      "source": [
        "# Ler os dados com pandas do arquivo json\n",
        "dados = pd.read_json('/content/Customer-Churn-clean.json')"
      ],
      "metadata": {
        "id": "8uDPA8VpPhGb"
      },
      "execution_count": 4,
      "outputs": []
    },
    {
      "cell_type": "code",
      "source": [
        "dados.head(2)"
      ],
      "metadata": {
        "colab": {
          "base_uri": "https://localhost:8080/",
          "height": 240
        },
        "id": "dLZockcgPioC",
        "outputId": "1fe618cb-75a8-4995-df57-6b92c5e7d9a0"
      },
      "execution_count": 5,
      "outputs": [
        {
          "output_type": "execute_result",
          "data": {
            "text/plain": [
              "   customerID Churn  Gender SeniorCitizen Partner Dependents  Tenure  \\\n",
              "0  0002-ORFBO    No  Female            No     Yes        Yes       9   \n",
              "1  0003-MKNFE    No    Male            No      No         No       9   \n",
              "\n",
              "  PhoneService MultipleLines InternetService  ... DeviceProtection  \\\n",
              "0          Yes            No             DSL  ...               No   \n",
              "1          Yes           Yes             DSL  ...               No   \n",
              "\n",
              "  TechSupport StreamingTV StreamingMovies        Contract PaperlessBilling  \\\n",
              "0         Yes         Yes              No        One year              Yes   \n",
              "1          No          No             Yes  Month-to-month               No   \n",
              "\n",
              "  Daily_Expense PaymentMethod  Charges_Monthly Charges_Total  \n",
              "0          2.19  Mailed check             65.6         593.3  \n",
              "1          2.00  Mailed check             59.9         542.4  \n",
              "\n",
              "[2 rows x 22 columns]"
            ],
            "text/html": [
              "\n",
              "  <div id=\"df-386f37ae-956b-4143-b020-0147875fe07f\">\n",
              "    <div class=\"colab-df-container\">\n",
              "      <div>\n",
              "<style scoped>\n",
              "    .dataframe tbody tr th:only-of-type {\n",
              "        vertical-align: middle;\n",
              "    }\n",
              "\n",
              "    .dataframe tbody tr th {\n",
              "        vertical-align: top;\n",
              "    }\n",
              "\n",
              "    .dataframe thead th {\n",
              "        text-align: right;\n",
              "    }\n",
              "</style>\n",
              "<table border=\"1\" class=\"dataframe\">\n",
              "  <thead>\n",
              "    <tr style=\"text-align: right;\">\n",
              "      <th></th>\n",
              "      <th>customerID</th>\n",
              "      <th>Churn</th>\n",
              "      <th>Gender</th>\n",
              "      <th>SeniorCitizen</th>\n",
              "      <th>Partner</th>\n",
              "      <th>Dependents</th>\n",
              "      <th>Tenure</th>\n",
              "      <th>PhoneService</th>\n",
              "      <th>MultipleLines</th>\n",
              "      <th>InternetService</th>\n",
              "      <th>...</th>\n",
              "      <th>DeviceProtection</th>\n",
              "      <th>TechSupport</th>\n",
              "      <th>StreamingTV</th>\n",
              "      <th>StreamingMovies</th>\n",
              "      <th>Contract</th>\n",
              "      <th>PaperlessBilling</th>\n",
              "      <th>Daily_Expense</th>\n",
              "      <th>PaymentMethod</th>\n",
              "      <th>Charges_Monthly</th>\n",
              "      <th>Charges_Total</th>\n",
              "    </tr>\n",
              "  </thead>\n",
              "  <tbody>\n",
              "    <tr>\n",
              "      <th>0</th>\n",
              "      <td>0002-ORFBO</td>\n",
              "      <td>No</td>\n",
              "      <td>Female</td>\n",
              "      <td>No</td>\n",
              "      <td>Yes</td>\n",
              "      <td>Yes</td>\n",
              "      <td>9</td>\n",
              "      <td>Yes</td>\n",
              "      <td>No</td>\n",
              "      <td>DSL</td>\n",
              "      <td>...</td>\n",
              "      <td>No</td>\n",
              "      <td>Yes</td>\n",
              "      <td>Yes</td>\n",
              "      <td>No</td>\n",
              "      <td>One year</td>\n",
              "      <td>Yes</td>\n",
              "      <td>2.19</td>\n",
              "      <td>Mailed check</td>\n",
              "      <td>65.6</td>\n",
              "      <td>593.3</td>\n",
              "    </tr>\n",
              "    <tr>\n",
              "      <th>1</th>\n",
              "      <td>0003-MKNFE</td>\n",
              "      <td>No</td>\n",
              "      <td>Male</td>\n",
              "      <td>No</td>\n",
              "      <td>No</td>\n",
              "      <td>No</td>\n",
              "      <td>9</td>\n",
              "      <td>Yes</td>\n",
              "      <td>Yes</td>\n",
              "      <td>DSL</td>\n",
              "      <td>...</td>\n",
              "      <td>No</td>\n",
              "      <td>No</td>\n",
              "      <td>No</td>\n",
              "      <td>Yes</td>\n",
              "      <td>Month-to-month</td>\n",
              "      <td>No</td>\n",
              "      <td>2.00</td>\n",
              "      <td>Mailed check</td>\n",
              "      <td>59.9</td>\n",
              "      <td>542.4</td>\n",
              "    </tr>\n",
              "  </tbody>\n",
              "</table>\n",
              "<p>2 rows × 22 columns</p>\n",
              "</div>\n",
              "      <button class=\"colab-df-convert\" onclick=\"convertToInteractive('df-386f37ae-956b-4143-b020-0147875fe07f')\"\n",
              "              title=\"Convert this dataframe to an interactive table.\"\n",
              "              style=\"display:none;\">\n",
              "        \n",
              "  <svg xmlns=\"http://www.w3.org/2000/svg\" height=\"24px\"viewBox=\"0 0 24 24\"\n",
              "       width=\"24px\">\n",
              "    <path d=\"M0 0h24v24H0V0z\" fill=\"none\"/>\n",
              "    <path d=\"M18.56 5.44l.94 2.06.94-2.06 2.06-.94-2.06-.94-.94-2.06-.94 2.06-2.06.94zm-11 1L8.5 8.5l.94-2.06 2.06-.94-2.06-.94L8.5 2.5l-.94 2.06-2.06.94zm10 10l.94 2.06.94-2.06 2.06-.94-2.06-.94-.94-2.06-.94 2.06-2.06.94z\"/><path d=\"M17.41 7.96l-1.37-1.37c-.4-.4-.92-.59-1.43-.59-.52 0-1.04.2-1.43.59L10.3 9.45l-7.72 7.72c-.78.78-.78 2.05 0 2.83L4 21.41c.39.39.9.59 1.41.59.51 0 1.02-.2 1.41-.59l7.78-7.78 2.81-2.81c.8-.78.8-2.07 0-2.86zM5.41 20L4 18.59l7.72-7.72 1.47 1.35L5.41 20z\"/>\n",
              "  </svg>\n",
              "      </button>\n",
              "      \n",
              "  <style>\n",
              "    .colab-df-container {\n",
              "      display:flex;\n",
              "      flex-wrap:wrap;\n",
              "      gap: 12px;\n",
              "    }\n",
              "\n",
              "    .colab-df-convert {\n",
              "      background-color: #E8F0FE;\n",
              "      border: none;\n",
              "      border-radius: 50%;\n",
              "      cursor: pointer;\n",
              "      display: none;\n",
              "      fill: #1967D2;\n",
              "      height: 32px;\n",
              "      padding: 0 0 0 0;\n",
              "      width: 32px;\n",
              "    }\n",
              "\n",
              "    .colab-df-convert:hover {\n",
              "      background-color: #E2EBFA;\n",
              "      box-shadow: 0px 1px 2px rgba(60, 64, 67, 0.3), 0px 1px 3px 1px rgba(60, 64, 67, 0.15);\n",
              "      fill: #174EA6;\n",
              "    }\n",
              "\n",
              "    [theme=dark] .colab-df-convert {\n",
              "      background-color: #3B4455;\n",
              "      fill: #D2E3FC;\n",
              "    }\n",
              "\n",
              "    [theme=dark] .colab-df-convert:hover {\n",
              "      background-color: #434B5C;\n",
              "      box-shadow: 0px 1px 3px 1px rgba(0, 0, 0, 0.15);\n",
              "      filter: drop-shadow(0px 1px 2px rgba(0, 0, 0, 0.3));\n",
              "      fill: #FFFFFF;\n",
              "    }\n",
              "  </style>\n",
              "\n",
              "      <script>\n",
              "        const buttonEl =\n",
              "          document.querySelector('#df-386f37ae-956b-4143-b020-0147875fe07f button.colab-df-convert');\n",
              "        buttonEl.style.display =\n",
              "          google.colab.kernel.accessAllowed ? 'block' : 'none';\n",
              "\n",
              "        async function convertToInteractive(key) {\n",
              "          const element = document.querySelector('#df-386f37ae-956b-4143-b020-0147875fe07f');\n",
              "          const dataTable =\n",
              "            await google.colab.kernel.invokeFunction('convertToInteractive',\n",
              "                                                     [key], {});\n",
              "          if (!dataTable) return;\n",
              "\n",
              "          const docLinkHtml = 'Like what you see? Visit the ' +\n",
              "            '<a target=\"_blank\" href=https://colab.research.google.com/notebooks/data_table.ipynb>data table notebook</a>'\n",
              "            + ' to learn more about interactive tables.';\n",
              "          element.innerHTML = '';\n",
              "          dataTable['output_type'] = 'display_data';\n",
              "          await google.colab.output.renderOutput(dataTable, element);\n",
              "          const docLink = document.createElement('div');\n",
              "          docLink.innerHTML = docLinkHtml;\n",
              "          element.appendChild(docLink);\n",
              "        }\n",
              "      </script>\n",
              "    </div>\n",
              "  </div>\n",
              "  "
            ]
          },
          "metadata": {},
          "execution_count": 5
        }
      ]
    },
    {
      "cell_type": "markdown",
      "source": [
        "Na minha avaliação, a coluna Daily_Expense, criada na semana 1, não é interessante pois é altamente correlacionada com o gasto mensal. Logo, irei eliminá-la dos meus dados."
      ],
      "metadata": {
        "id": "xmq1Cfztb1g8"
      }
    },
    {
      "cell_type": "code",
      "source": [
        "dados.drop(columns='Daily_Expense', inplace=True)\n",
        "dados.head(2)"
      ],
      "metadata": {
        "colab": {
          "base_uri": "https://localhost:8080/",
          "height": 240
        },
        "id": "7Zggt6p_bUGn",
        "outputId": "f03d80eb-02c2-43f4-ff84-174f8f5d4084"
      },
      "execution_count": 6,
      "outputs": [
        {
          "output_type": "execute_result",
          "data": {
            "text/plain": [
              "   customerID Churn  Gender SeniorCitizen Partner Dependents  Tenure  \\\n",
              "0  0002-ORFBO    No  Female            No     Yes        Yes       9   \n",
              "1  0003-MKNFE    No    Male            No      No         No       9   \n",
              "\n",
              "  PhoneService MultipleLines InternetService  ... OnlineBackup  \\\n",
              "0          Yes            No             DSL  ...          Yes   \n",
              "1          Yes           Yes             DSL  ...           No   \n",
              "\n",
              "  DeviceProtection TechSupport StreamingTV StreamingMovies        Contract  \\\n",
              "0               No         Yes         Yes              No        One year   \n",
              "1               No          No          No             Yes  Month-to-month   \n",
              "\n",
              "  PaperlessBilling PaymentMethod Charges_Monthly  Charges_Total  \n",
              "0              Yes  Mailed check            65.6          593.3  \n",
              "1               No  Mailed check            59.9          542.4  \n",
              "\n",
              "[2 rows x 21 columns]"
            ],
            "text/html": [
              "\n",
              "  <div id=\"df-337d4b13-720a-4c43-a406-f2fd66f73d35\">\n",
              "    <div class=\"colab-df-container\">\n",
              "      <div>\n",
              "<style scoped>\n",
              "    .dataframe tbody tr th:only-of-type {\n",
              "        vertical-align: middle;\n",
              "    }\n",
              "\n",
              "    .dataframe tbody tr th {\n",
              "        vertical-align: top;\n",
              "    }\n",
              "\n",
              "    .dataframe thead th {\n",
              "        text-align: right;\n",
              "    }\n",
              "</style>\n",
              "<table border=\"1\" class=\"dataframe\">\n",
              "  <thead>\n",
              "    <tr style=\"text-align: right;\">\n",
              "      <th></th>\n",
              "      <th>customerID</th>\n",
              "      <th>Churn</th>\n",
              "      <th>Gender</th>\n",
              "      <th>SeniorCitizen</th>\n",
              "      <th>Partner</th>\n",
              "      <th>Dependents</th>\n",
              "      <th>Tenure</th>\n",
              "      <th>PhoneService</th>\n",
              "      <th>MultipleLines</th>\n",
              "      <th>InternetService</th>\n",
              "      <th>...</th>\n",
              "      <th>OnlineBackup</th>\n",
              "      <th>DeviceProtection</th>\n",
              "      <th>TechSupport</th>\n",
              "      <th>StreamingTV</th>\n",
              "      <th>StreamingMovies</th>\n",
              "      <th>Contract</th>\n",
              "      <th>PaperlessBilling</th>\n",
              "      <th>PaymentMethod</th>\n",
              "      <th>Charges_Monthly</th>\n",
              "      <th>Charges_Total</th>\n",
              "    </tr>\n",
              "  </thead>\n",
              "  <tbody>\n",
              "    <tr>\n",
              "      <th>0</th>\n",
              "      <td>0002-ORFBO</td>\n",
              "      <td>No</td>\n",
              "      <td>Female</td>\n",
              "      <td>No</td>\n",
              "      <td>Yes</td>\n",
              "      <td>Yes</td>\n",
              "      <td>9</td>\n",
              "      <td>Yes</td>\n",
              "      <td>No</td>\n",
              "      <td>DSL</td>\n",
              "      <td>...</td>\n",
              "      <td>Yes</td>\n",
              "      <td>No</td>\n",
              "      <td>Yes</td>\n",
              "      <td>Yes</td>\n",
              "      <td>No</td>\n",
              "      <td>One year</td>\n",
              "      <td>Yes</td>\n",
              "      <td>Mailed check</td>\n",
              "      <td>65.6</td>\n",
              "      <td>593.3</td>\n",
              "    </tr>\n",
              "    <tr>\n",
              "      <th>1</th>\n",
              "      <td>0003-MKNFE</td>\n",
              "      <td>No</td>\n",
              "      <td>Male</td>\n",
              "      <td>No</td>\n",
              "      <td>No</td>\n",
              "      <td>No</td>\n",
              "      <td>9</td>\n",
              "      <td>Yes</td>\n",
              "      <td>Yes</td>\n",
              "      <td>DSL</td>\n",
              "      <td>...</td>\n",
              "      <td>No</td>\n",
              "      <td>No</td>\n",
              "      <td>No</td>\n",
              "      <td>No</td>\n",
              "      <td>Yes</td>\n",
              "      <td>Month-to-month</td>\n",
              "      <td>No</td>\n",
              "      <td>Mailed check</td>\n",
              "      <td>59.9</td>\n",
              "      <td>542.4</td>\n",
              "    </tr>\n",
              "  </tbody>\n",
              "</table>\n",
              "<p>2 rows × 21 columns</p>\n",
              "</div>\n",
              "      <button class=\"colab-df-convert\" onclick=\"convertToInteractive('df-337d4b13-720a-4c43-a406-f2fd66f73d35')\"\n",
              "              title=\"Convert this dataframe to an interactive table.\"\n",
              "              style=\"display:none;\">\n",
              "        \n",
              "  <svg xmlns=\"http://www.w3.org/2000/svg\" height=\"24px\"viewBox=\"0 0 24 24\"\n",
              "       width=\"24px\">\n",
              "    <path d=\"M0 0h24v24H0V0z\" fill=\"none\"/>\n",
              "    <path d=\"M18.56 5.44l.94 2.06.94-2.06 2.06-.94-2.06-.94-.94-2.06-.94 2.06-2.06.94zm-11 1L8.5 8.5l.94-2.06 2.06-.94-2.06-.94L8.5 2.5l-.94 2.06-2.06.94zm10 10l.94 2.06.94-2.06 2.06-.94-2.06-.94-.94-2.06-.94 2.06-2.06.94z\"/><path d=\"M17.41 7.96l-1.37-1.37c-.4-.4-.92-.59-1.43-.59-.52 0-1.04.2-1.43.59L10.3 9.45l-7.72 7.72c-.78.78-.78 2.05 0 2.83L4 21.41c.39.39.9.59 1.41.59.51 0 1.02-.2 1.41-.59l7.78-7.78 2.81-2.81c.8-.78.8-2.07 0-2.86zM5.41 20L4 18.59l7.72-7.72 1.47 1.35L5.41 20z\"/>\n",
              "  </svg>\n",
              "      </button>\n",
              "      \n",
              "  <style>\n",
              "    .colab-df-container {\n",
              "      display:flex;\n",
              "      flex-wrap:wrap;\n",
              "      gap: 12px;\n",
              "    }\n",
              "\n",
              "    .colab-df-convert {\n",
              "      background-color: #E8F0FE;\n",
              "      border: none;\n",
              "      border-radius: 50%;\n",
              "      cursor: pointer;\n",
              "      display: none;\n",
              "      fill: #1967D2;\n",
              "      height: 32px;\n",
              "      padding: 0 0 0 0;\n",
              "      width: 32px;\n",
              "    }\n",
              "\n",
              "    .colab-df-convert:hover {\n",
              "      background-color: #E2EBFA;\n",
              "      box-shadow: 0px 1px 2px rgba(60, 64, 67, 0.3), 0px 1px 3px 1px rgba(60, 64, 67, 0.15);\n",
              "      fill: #174EA6;\n",
              "    }\n",
              "\n",
              "    [theme=dark] .colab-df-convert {\n",
              "      background-color: #3B4455;\n",
              "      fill: #D2E3FC;\n",
              "    }\n",
              "\n",
              "    [theme=dark] .colab-df-convert:hover {\n",
              "      background-color: #434B5C;\n",
              "      box-shadow: 0px 1px 3px 1px rgba(0, 0, 0, 0.15);\n",
              "      filter: drop-shadow(0px 1px 2px rgba(0, 0, 0, 0.3));\n",
              "      fill: #FFFFFF;\n",
              "    }\n",
              "  </style>\n",
              "\n",
              "      <script>\n",
              "        const buttonEl =\n",
              "          document.querySelector('#df-337d4b13-720a-4c43-a406-f2fd66f73d35 button.colab-df-convert');\n",
              "        buttonEl.style.display =\n",
              "          google.colab.kernel.accessAllowed ? 'block' : 'none';\n",
              "\n",
              "        async function convertToInteractive(key) {\n",
              "          const element = document.querySelector('#df-337d4b13-720a-4c43-a406-f2fd66f73d35');\n",
              "          const dataTable =\n",
              "            await google.colab.kernel.invokeFunction('convertToInteractive',\n",
              "                                                     [key], {});\n",
              "          if (!dataTable) return;\n",
              "\n",
              "          const docLinkHtml = 'Like what you see? Visit the ' +\n",
              "            '<a target=\"_blank\" href=https://colab.research.google.com/notebooks/data_table.ipynb>data table notebook</a>'\n",
              "            + ' to learn more about interactive tables.';\n",
              "          element.innerHTML = '';\n",
              "          dataTable['output_type'] = 'display_data';\n",
              "          await google.colab.output.renderOutput(dataTable, element);\n",
              "          const docLink = document.createElement('div');\n",
              "          docLink.innerHTML = docLinkHtml;\n",
              "          element.appendChild(docLink);\n",
              "        }\n",
              "      </script>\n",
              "    </div>\n",
              "  </div>\n",
              "  "
            ]
          },
          "metadata": {},
          "execution_count": 6
        }
      ]
    },
    {
      "cell_type": "code",
      "source": [
        "dados.describe()"
      ],
      "metadata": {
        "colab": {
          "base_uri": "https://localhost:8080/",
          "height": 300
        },
        "id": "ZPAqLUuxyiU_",
        "outputId": "98bd4c14-36a1-44b0-9c06-100f61646fe9"
      },
      "execution_count": 7,
      "outputs": [
        {
          "output_type": "execute_result",
          "data": {
            "text/plain": [
              "            Tenure  Charges_Monthly  Charges_Total\n",
              "count  7032.000000      7032.000000    7032.000000\n",
              "mean     32.421786        64.798208    2283.300441\n",
              "std      24.545260        30.085974    2266.771362\n",
              "min       1.000000        18.250000      18.800000\n",
              "25%       9.000000        35.587500     401.450000\n",
              "50%      29.000000        70.350000    1397.475000\n",
              "75%      55.000000        89.862500    3794.737500\n",
              "max      72.000000       118.750000    8684.800000"
            ],
            "text/html": [
              "\n",
              "  <div id=\"df-4d1dea2e-34a2-41b6-98e1-7625bcbb5800\">\n",
              "    <div class=\"colab-df-container\">\n",
              "      <div>\n",
              "<style scoped>\n",
              "    .dataframe tbody tr th:only-of-type {\n",
              "        vertical-align: middle;\n",
              "    }\n",
              "\n",
              "    .dataframe tbody tr th {\n",
              "        vertical-align: top;\n",
              "    }\n",
              "\n",
              "    .dataframe thead th {\n",
              "        text-align: right;\n",
              "    }\n",
              "</style>\n",
              "<table border=\"1\" class=\"dataframe\">\n",
              "  <thead>\n",
              "    <tr style=\"text-align: right;\">\n",
              "      <th></th>\n",
              "      <th>Tenure</th>\n",
              "      <th>Charges_Monthly</th>\n",
              "      <th>Charges_Total</th>\n",
              "    </tr>\n",
              "  </thead>\n",
              "  <tbody>\n",
              "    <tr>\n",
              "      <th>count</th>\n",
              "      <td>7032.000000</td>\n",
              "      <td>7032.000000</td>\n",
              "      <td>7032.000000</td>\n",
              "    </tr>\n",
              "    <tr>\n",
              "      <th>mean</th>\n",
              "      <td>32.421786</td>\n",
              "      <td>64.798208</td>\n",
              "      <td>2283.300441</td>\n",
              "    </tr>\n",
              "    <tr>\n",
              "      <th>std</th>\n",
              "      <td>24.545260</td>\n",
              "      <td>30.085974</td>\n",
              "      <td>2266.771362</td>\n",
              "    </tr>\n",
              "    <tr>\n",
              "      <th>min</th>\n",
              "      <td>1.000000</td>\n",
              "      <td>18.250000</td>\n",
              "      <td>18.800000</td>\n",
              "    </tr>\n",
              "    <tr>\n",
              "      <th>25%</th>\n",
              "      <td>9.000000</td>\n",
              "      <td>35.587500</td>\n",
              "      <td>401.450000</td>\n",
              "    </tr>\n",
              "    <tr>\n",
              "      <th>50%</th>\n",
              "      <td>29.000000</td>\n",
              "      <td>70.350000</td>\n",
              "      <td>1397.475000</td>\n",
              "    </tr>\n",
              "    <tr>\n",
              "      <th>75%</th>\n",
              "      <td>55.000000</td>\n",
              "      <td>89.862500</td>\n",
              "      <td>3794.737500</td>\n",
              "    </tr>\n",
              "    <tr>\n",
              "      <th>max</th>\n",
              "      <td>72.000000</td>\n",
              "      <td>118.750000</td>\n",
              "      <td>8684.800000</td>\n",
              "    </tr>\n",
              "  </tbody>\n",
              "</table>\n",
              "</div>\n",
              "      <button class=\"colab-df-convert\" onclick=\"convertToInteractive('df-4d1dea2e-34a2-41b6-98e1-7625bcbb5800')\"\n",
              "              title=\"Convert this dataframe to an interactive table.\"\n",
              "              style=\"display:none;\">\n",
              "        \n",
              "  <svg xmlns=\"http://www.w3.org/2000/svg\" height=\"24px\"viewBox=\"0 0 24 24\"\n",
              "       width=\"24px\">\n",
              "    <path d=\"M0 0h24v24H0V0z\" fill=\"none\"/>\n",
              "    <path d=\"M18.56 5.44l.94 2.06.94-2.06 2.06-.94-2.06-.94-.94-2.06-.94 2.06-2.06.94zm-11 1L8.5 8.5l.94-2.06 2.06-.94-2.06-.94L8.5 2.5l-.94 2.06-2.06.94zm10 10l.94 2.06.94-2.06 2.06-.94-2.06-.94-.94-2.06-.94 2.06-2.06.94z\"/><path d=\"M17.41 7.96l-1.37-1.37c-.4-.4-.92-.59-1.43-.59-.52 0-1.04.2-1.43.59L10.3 9.45l-7.72 7.72c-.78.78-.78 2.05 0 2.83L4 21.41c.39.39.9.59 1.41.59.51 0 1.02-.2 1.41-.59l7.78-7.78 2.81-2.81c.8-.78.8-2.07 0-2.86zM5.41 20L4 18.59l7.72-7.72 1.47 1.35L5.41 20z\"/>\n",
              "  </svg>\n",
              "      </button>\n",
              "      \n",
              "  <style>\n",
              "    .colab-df-container {\n",
              "      display:flex;\n",
              "      flex-wrap:wrap;\n",
              "      gap: 12px;\n",
              "    }\n",
              "\n",
              "    .colab-df-convert {\n",
              "      background-color: #E8F0FE;\n",
              "      border: none;\n",
              "      border-radius: 50%;\n",
              "      cursor: pointer;\n",
              "      display: none;\n",
              "      fill: #1967D2;\n",
              "      height: 32px;\n",
              "      padding: 0 0 0 0;\n",
              "      width: 32px;\n",
              "    }\n",
              "\n",
              "    .colab-df-convert:hover {\n",
              "      background-color: #E2EBFA;\n",
              "      box-shadow: 0px 1px 2px rgba(60, 64, 67, 0.3), 0px 1px 3px 1px rgba(60, 64, 67, 0.15);\n",
              "      fill: #174EA6;\n",
              "    }\n",
              "\n",
              "    [theme=dark] .colab-df-convert {\n",
              "      background-color: #3B4455;\n",
              "      fill: #D2E3FC;\n",
              "    }\n",
              "\n",
              "    [theme=dark] .colab-df-convert:hover {\n",
              "      background-color: #434B5C;\n",
              "      box-shadow: 0px 1px 3px 1px rgba(0, 0, 0, 0.15);\n",
              "      filter: drop-shadow(0px 1px 2px rgba(0, 0, 0, 0.3));\n",
              "      fill: #FFFFFF;\n",
              "    }\n",
              "  </style>\n",
              "\n",
              "      <script>\n",
              "        const buttonEl =\n",
              "          document.querySelector('#df-4d1dea2e-34a2-41b6-98e1-7625bcbb5800 button.colab-df-convert');\n",
              "        buttonEl.style.display =\n",
              "          google.colab.kernel.accessAllowed ? 'block' : 'none';\n",
              "\n",
              "        async function convertToInteractive(key) {\n",
              "          const element = document.querySelector('#df-4d1dea2e-34a2-41b6-98e1-7625bcbb5800');\n",
              "          const dataTable =\n",
              "            await google.colab.kernel.invokeFunction('convertToInteractive',\n",
              "                                                     [key], {});\n",
              "          if (!dataTable) return;\n",
              "\n",
              "          const docLinkHtml = 'Like what you see? Visit the ' +\n",
              "            '<a target=\"_blank\" href=https://colab.research.google.com/notebooks/data_table.ipynb>data table notebook</a>'\n",
              "            + ' to learn more about interactive tables.';\n",
              "          element.innerHTML = '';\n",
              "          dataTable['output_type'] = 'display_data';\n",
              "          await google.colab.output.renderOutput(dataTable, element);\n",
              "          const docLink = document.createElement('div');\n",
              "          docLink.innerHTML = docLinkHtml;\n",
              "          element.appendChild(docLink);\n",
              "        }\n",
              "      </script>\n",
              "    </div>\n",
              "  </div>\n",
              "  "
            ]
          },
          "metadata": {},
          "execution_count": 7
        }
      ]
    },
    {
      "cell_type": "markdown",
      "source": [
        "Agora, irei reordenar as colunas para deixar as colunas tipo int64 e float64 por último e facilitar meu encoding."
      ],
      "metadata": {
        "id": "Sd2G66E7iQNi"
      }
    },
    {
      "cell_type": "code",
      "source": [
        "# Pegando os nomes das colunas\n",
        "columns_names = dados.columns\n",
        "print(columns_names)"
      ],
      "metadata": {
        "colab": {
          "base_uri": "https://localhost:8080/"
        },
        "id": "4IOtE6JMiXIR",
        "outputId": "0816dba5-fd7d-4eee-a6d1-8a5f96710031"
      },
      "execution_count": 8,
      "outputs": [
        {
          "output_type": "stream",
          "name": "stdout",
          "text": [
            "Index(['customerID', 'Churn', 'Gender', 'SeniorCitizen', 'Partner',\n",
            "       'Dependents', 'Tenure', 'PhoneService', 'MultipleLines',\n",
            "       'InternetService', 'OnlineSecurity', 'OnlineBackup', 'DeviceProtection',\n",
            "       'TechSupport', 'StreamingTV', 'StreamingMovies', 'Contract',\n",
            "       'PaperlessBilling', 'PaymentMethod', 'Charges_Monthly',\n",
            "       'Charges_Total'],\n",
            "      dtype='object')\n"
          ]
        }
      ]
    },
    {
      "cell_type": "code",
      "source": [
        "# Reordenando\n",
        "dados = dados[['customerID', 'Churn', 'Gender', 'SeniorCitizen', 'Partner',\n",
        "       'Dependents', 'PhoneService', 'MultipleLines',\n",
        "       'InternetService', 'OnlineSecurity', 'OnlineBackup', 'DeviceProtection',\n",
        "       'TechSupport', 'StreamingTV', 'StreamingMovies', 'Contract',\n",
        "       'PaperlessBilling', 'PaymentMethod', 'Tenure', 'Charges_Monthly',\n",
        "       'Charges_Total']]\n",
        "dados.info()"
      ],
      "metadata": {
        "colab": {
          "base_uri": "https://localhost:8080/"
        },
        "id": "VTxA2pWcihO7",
        "outputId": "94d0f81a-d5b5-41fb-ad40-390758819a23"
      },
      "execution_count": 9,
      "outputs": [
        {
          "output_type": "stream",
          "name": "stdout",
          "text": [
            "<class 'pandas.core.frame.DataFrame'>\n",
            "Int64Index: 7032 entries, 0 to 7266\n",
            "Data columns (total 21 columns):\n",
            " #   Column            Non-Null Count  Dtype  \n",
            "---  ------            --------------  -----  \n",
            " 0   customerID        7032 non-null   object \n",
            " 1   Churn             7032 non-null   object \n",
            " 2   Gender            7032 non-null   object \n",
            " 3   SeniorCitizen     7032 non-null   object \n",
            " 4   Partner           7032 non-null   object \n",
            " 5   Dependents        7032 non-null   object \n",
            " 6   PhoneService      7032 non-null   object \n",
            " 7   MultipleLines     7032 non-null   object \n",
            " 8   InternetService   7032 non-null   object \n",
            " 9   OnlineSecurity    7032 non-null   object \n",
            " 10  OnlineBackup      7032 non-null   object \n",
            " 11  DeviceProtection  7032 non-null   object \n",
            " 12  TechSupport       7032 non-null   object \n",
            " 13  StreamingTV       7032 non-null   object \n",
            " 14  StreamingMovies   7032 non-null   object \n",
            " 15  Contract          7032 non-null   object \n",
            " 16  PaperlessBilling  7032 non-null   object \n",
            " 17  PaymentMethod     7032 non-null   object \n",
            " 18  Tenure            7032 non-null   int64  \n",
            " 19  Charges_Monthly   7032 non-null   float64\n",
            " 20  Charges_Total     7032 non-null   float64\n",
            "dtypes: float64(2), int64(1), object(18)\n",
            "memory usage: 1.2+ MB\n"
          ]
        }
      ]
    },
    {
      "cell_type": "markdown",
      "source": [
        "Analisando a variável target **Churn** para ver o desbalanceamento.\n",
        "\n",
        "Com o gráfico abaixo podemos perceber que há uma diferença muito grande na quantidade de clientes que deixaram e permanecem na empresa, ou seja, os dados estão muito desbalanceados."
      ],
      "metadata": {
        "id": "NPtGrwZAPrdg"
      }
    },
    {
      "cell_type": "code",
      "source": [
        "plot = sns.barplot(x=dados['Churn'].value_counts().index, y=dados['Churn'].value_counts(), orient='v');\n",
        "plot.set_title('Distribuição do Churn de clientes');\n",
        "plot.grid(True, axis='y');"
      ],
      "metadata": {
        "colab": {
          "base_uri": "https://localhost:8080/",
          "height": 284
        },
        "id": "-J0mGJX0Pk4z",
        "outputId": "b5096cfb-7bf4-4d55-ea99-155ac8c1e42a"
      },
      "execution_count": 10,
      "outputs": [
        {
          "output_type": "display_data",
          "data": {
            "text/plain": [
              "<Figure size 432x288 with 1 Axes>"
            ],
            "image/png": "[encoded data removed]"
          },
          "metadata": {}
        }
      ]
    },
    {
      "cell_type": "code",
      "source": [
        "print(f'{dados[\"Churn\"].value_counts()[\"Yes\"]/len(dados)*100:.2f}% dos clientes deixaram a empresa.')\n",
        "print(f'{dados[\"Churn\"].value_counts()[\"No\"]/len(dados)*100:.2f}% dos clientes permanecem na empresa.')"
      ],
      "metadata": {
        "colab": {
          "base_uri": "https://localhost:8080/"
        },
        "id": "Pw-knZjkQL1N",
        "outputId": "c0a991be-5b99-4bb2-8ee3-40ec29b0a440"
      },
      "execution_count": 11,
      "outputs": [
        {
          "output_type": "stream",
          "name": "stdout",
          "text": [
            "26.58% dos clientes deixaram a empresa.\n",
            "73.42% dos clientes permanecem na empresa.\n"
          ]
        }
      ]
    },
    {
      "cell_type": "markdown",
      "source": [
        "### **Encoding dos dados**\n",
        "\n",
        "Irei trabalhar primeiro no encoding dos dados para configurar as variáveis categóricas."
      ],
      "metadata": {
        "id": "P8pn_JFvU7-U"
      }
    },
    {
      "cell_type": "code",
      "source": [
        "# Separando a entrada\n",
        "X = dados.iloc[:, 2:]\n",
        "X.head()"
      ],
      "metadata": {
        "colab": {
          "base_uri": "https://localhost:8080/",
          "height": 340
        },
        "id": "qyUDC-EbU-o6",
        "outputId": "e481baed-8641-41cc-dd4d-e336405c6f10"
      },
      "execution_count": 12,
      "outputs": [
        {
          "output_type": "execute_result",
          "data": {
            "text/plain": [
              "   Gender SeniorCitizen Partner Dependents PhoneService MultipleLines  \\\n",
              "0  Female            No     Yes        Yes          Yes            No   \n",
              "1    Male            No      No         No          Yes           Yes   \n",
              "2    Male            No      No         No          Yes            No   \n",
              "3    Male           Yes     Yes         No          Yes            No   \n",
              "4  Female           Yes     Yes         No          Yes            No   \n",
              "\n",
              "  InternetService OnlineSecurity OnlineBackup DeviceProtection TechSupport  \\\n",
              "0             DSL             No          Yes               No         Yes   \n",
              "1             DSL             No           No               No          No   \n",
              "2     Fiber optic             No           No              Yes          No   \n",
              "3     Fiber optic             No          Yes              Yes          No   \n",
              "4     Fiber optic             No           No               No         Yes   \n",
              "\n",
              "  StreamingTV StreamingMovies        Contract PaperlessBilling  \\\n",
              "0         Yes              No        One year              Yes   \n",
              "1          No             Yes  Month-to-month               No   \n",
              "2          No              No  Month-to-month              Yes   \n",
              "3         Yes             Yes  Month-to-month              Yes   \n",
              "4         Yes              No  Month-to-month              Yes   \n",
              "\n",
              "      PaymentMethod  Tenure  Charges_Monthly  Charges_Total  \n",
              "0      Mailed check       9             65.6         593.30  \n",
              "1      Mailed check       9             59.9         542.40  \n",
              "2  Electronic check       4             73.9         280.85  \n",
              "3  Electronic check      13             98.0        1237.85  \n",
              "4      Mailed check       3             83.9         267.40  "
            ],
            "text/html": [
              "\n",
              "  <div id=\"df-89b8e58a-2c6e-48a5-96bc-d9f8b59cec86\">\n",
              "    <div class=\"colab-df-container\">\n",
              "      <div>\n",
              "<style scoped>\n",
              "    .dataframe tbody tr th:only-of-type {\n",
              "        vertical-align: middle;\n",
              "    }\n",
              "\n",
              "    .dataframe tbody tr th {\n",
              "        vertical-align: top;\n",
              "    }\n",
              "\n",
              "    .dataframe thead th {\n",
              "        text-align: right;\n",
              "    }\n",
              "</style>\n",
              "<table border=\"1\" class=\"dataframe\">\n",
              "  <thead>\n",
              "    <tr style=\"text-align: right;\">\n",
              "      <th></th>\n",
              "      <th>Gender</th>\n",
              "      <th>SeniorCitizen</th>\n",
              "      <th>Partner</th>\n",
              "      <th>Dependents</th>\n",
              "      <th>PhoneService</th>\n",
              "      <th>MultipleLines</th>\n",
              "      <th>InternetService</th>\n",
              "      <th>OnlineSecurity</th>\n",
              "      <th>OnlineBackup</th>\n",
              "      <th>DeviceProtection</th>\n",
              "      <th>TechSupport</th>\n",
              "      <th>StreamingTV</th>\n",
              "      <th>StreamingMovies</th>\n",
              "      <th>Contract</th>\n",
              "      <th>PaperlessBilling</th>\n",
              "      <th>PaymentMethod</th>\n",
              "      <th>Tenure</th>\n",
              "      <th>Charges_Monthly</th>\n",
              "      <th>Charges_Total</th>\n",
              "    </tr>\n",
              "  </thead>\n",
              "  <tbody>\n",
              "    <tr>\n",
              "      <th>0</th>\n",
              "      <td>Female</td>\n",
              "      <td>No</td>\n",
              "      <td>Yes</td>\n",
              "      <td>Yes</td>\n",
              "      <td>Yes</td>\n",
              "      <td>No</td>\n",
              "      <td>DSL</td>\n",
              "      <td>No</td>\n",
              "      <td>Yes</td>\n",
              "      <td>No</td>\n",
              "      <td>Yes</td>\n",
              "      <td>Yes</td>\n",
              "      <td>No</td>\n",
              "      <td>One year</td>\n",
              "      <td>Yes</td>\n",
              "      <td>Mailed check</td>\n",
              "      <td>9</td>\n",
              "      <td>65.6</td>\n",
              "      <td>593.30</td>\n",
              "    </tr>\n",
              "    <tr>\n",
              "      <th>1</th>\n",
              "      <td>Male</td>\n",
              "      <td>No</td>\n",
              "      <td>No</td>\n",
              "      <td>No</td>\n",
              "      <td>Yes</td>\n",
              "      <td>Yes</td>\n",
              "      <td>DSL</td>\n",
              "      <td>No</td>\n",
              "      <td>No</td>\n",
              "      <td>No</td>\n",
              "      <td>No</td>\n",
              "      <td>No</td>\n",
              "      <td>Yes</td>\n",
              "      <td>Month-to-month</td>\n",
              "      <td>No</td>\n",
              "      <td>Mailed check</td>\n",
              "      <td>9</td>\n",
              "      <td>59.9</td>\n",
              "      <td>542.40</td>\n",
              "    </tr>\n",
              "    <tr>\n",
              "      <th>2</th>\n",
              "      <td>Male</td>\n",
              "      <td>No</td>\n",
              "      <td>No</td>\n",
              "      <td>No</td>\n",
              "      <td>Yes</td>\n",
              "      <td>No</td>\n",
              "      <td>Fiber optic</td>\n",
              "      <td>No</td>\n",
              "      <td>No</td>\n",
              "      <td>Yes</td>\n",
              "      <td>No</td>\n",
              "      <td>No</td>\n",
              "      <td>No</td>\n",
              "      <td>Month-to-month</td>\n",
              "      <td>Yes</td>\n",
              "      <td>Electronic check</td>\n",
              "      <td>4</td>\n",
              "      <td>73.9</td>\n",
              "      <td>280.85</td>\n",
              "    </tr>\n",
              "    <tr>\n",
              "      <th>3</th>\n",
              "      <td>Male</td>\n",
              "      <td>Yes</td>\n",
              "      <td>Yes</td>\n",
              "      <td>No</td>\n",
              "      <td>Yes</td>\n",
              "      <td>No</td>\n",
              "      <td>Fiber optic</td>\n",
              "      <td>No</td>\n",
              "      <td>Yes</td>\n",
              "      <td>Yes</td>\n",
              "      <td>No</td>\n",
              "      <td>Yes</td>\n",
              "      <td>Yes</td>\n",
              "      <td>Month-to-month</td>\n",
              "      <td>Yes</td>\n",
              "      <td>Electronic check</td>\n",
              "      <td>13</td>\n",
              "      <td>98.0</td>\n",
              "      <td>1237.85</td>\n",
              "    </tr>\n",
              "    <tr>\n",
              "      <th>4</th>\n",
              "      <td>Female</td>\n",
              "      <td>Yes</td>\n",
              "      <td>Yes</td>\n",
              "      <td>No</td>\n",
              "      <td>Yes</td>\n",
              "      <td>No</td>\n",
              "      <td>Fiber optic</td>\n",
              "      <td>No</td>\n",
              "      <td>No</td>\n",
              "      <td>No</td>\n",
              "      <td>Yes</td>\n",
              "      <td>Yes</td>\n",
              "      <td>No</td>\n",
              "      <td>Month-to-month</td>\n",
              "      <td>Yes</td>\n",
              "      <td>Mailed check</td>\n",
              "      <td>3</td>\n",
              "      <td>83.9</td>\n",
              "      <td>267.40</td>\n",
              "    </tr>\n",
              "  </tbody>\n",
              "</table>\n",
              "</div>\n",
              "      <button class=\"colab-df-convert\" onclick=\"convertToInteractive('df-89b8e58a-2c6e-48a5-96bc-d9f8b59cec86')\"\n",
              "              title=\"Convert this dataframe to an interactive table.\"\n",
              "              style=\"display:none;\">\n",
              "        \n",
              "  <svg xmlns=\"http://www.w3.org/2000/svg\" height=\"24px\"viewBox=\"0 0 24 24\"\n",
              "       width=\"24px\">\n",
              "    <path d=\"M0 0h24v24H0V0z\" fill=\"none\"/>\n",
              "    <path d=\"M18.56 5.44l.94 2.06.94-2.06 2.06-.94-2.06-.94-.94-2.06-.94 2.06-2.06.94zm-11 1L8.5 8.5l.94-2.06 2.06-.94-2.06-.94L8.5 2.5l-.94 2.06-2.06.94zm10 10l.94 2.06.94-2.06 2.06-.94-2.06-.94-.94-2.06-.94 2.06-2.06.94z\"/><path d=\"M17.41 7.96l-1.37-1.37c-.4-.4-.92-.59-1.43-.59-.52 0-1.04.2-1.43.59L10.3 9.45l-7.72 7.72c-.78.78-.78 2.05 0 2.83L4 21.41c.39.39.9.59 1.41.59.51 0 1.02-.2 1.41-.59l7.78-7.78 2.81-2.81c.8-.78.8-2.07 0-2.86zM5.41 20L4 18.59l7.72-7.72 1.47 1.35L5.41 20z\"/>\n",
              "  </svg>\n",
              "      </button>\n",
              "      \n",
              "  <style>\n",
              "    .colab-df-container {\n",
              "      display:flex;\n",
              "      flex-wrap:wrap;\n",
              "      gap: 12px;\n",
              "    }\n",
              "\n",
              "    .colab-df-convert {\n",
              "      background-color: #E8F0FE;\n",
              "      border: none;\n",
              "      border-radius: 50%;\n",
              "      cursor: pointer;\n",
              "      display: none;\n",
              "      fill: #1967D2;\n",
              "      height: 32px;\n",
              "      padding: 0 0 0 0;\n",
              "      width: 32px;\n",
              "    }\n",
              "\n",
              "    .colab-df-convert:hover {\n",
              "      background-color: #E2EBFA;\n",
              "      box-shadow: 0px 1px 2px rgba(60, 64, 67, 0.3), 0px 1px 3px 1px rgba(60, 64, 67, 0.15);\n",
              "      fill: #174EA6;\n",
              "    }\n",
              "\n",
              "    [theme=dark] .colab-df-convert {\n",
              "      background-color: #3B4455;\n",
              "      fill: #D2E3FC;\n",
              "    }\n",
              "\n",
              "    [theme=dark] .colab-df-convert:hover {\n",
              "      background-color: #434B5C;\n",
              "      box-shadow: 0px 1px 3px 1px rgba(0, 0, 0, 0.15);\n",
              "      filter: drop-shadow(0px 1px 2px rgba(0, 0, 0, 0.3));\n",
              "      fill: #FFFFFF;\n",
              "    }\n",
              "  </style>\n",
              "\n",
              "      <script>\n",
              "        const buttonEl =\n",
              "          document.querySelector('#df-89b8e58a-2c6e-48a5-96bc-d9f8b59cec86 button.colab-df-convert');\n",
              "        buttonEl.style.display =\n",
              "          google.colab.kernel.accessAllowed ? 'block' : 'none';\n",
              "\n",
              "        async function convertToInteractive(key) {\n",
              "          const element = document.querySelector('#df-89b8e58a-2c6e-48a5-96bc-d9f8b59cec86');\n",
              "          const dataTable =\n",
              "            await google.colab.kernel.invokeFunction('convertToInteractive',\n",
              "                                                     [key], {});\n",
              "          if (!dataTable) return;\n",
              "\n",
              "          const docLinkHtml = 'Like what you see? Visit the ' +\n",
              "            '<a target=\"_blank\" href=https://colab.research.google.com/notebooks/data_table.ipynb>data table notebook</a>'\n",
              "            + ' to learn more about interactive tables.';\n",
              "          element.innerHTML = '';\n",
              "          dataTable['output_type'] = 'display_data';\n",
              "          await google.colab.output.renderOutput(dataTable, element);\n",
              "          const docLink = document.createElement('div');\n",
              "          docLink.innerHTML = docLinkHtml;\n",
              "          element.appendChild(docLink);\n",
              "        }\n",
              "      </script>\n",
              "    </div>\n",
              "  </div>\n",
              "  "
            ]
          },
          "metadata": {},
          "execution_count": 12
        }
      ]
    },
    {
      "cell_type": "code",
      "source": [
        "# Separando o target\n",
        "y = dados.iloc[:, 1]\n",
        "y.head()"
      ],
      "metadata": {
        "colab": {
          "base_uri": "https://localhost:8080/"
        },
        "id": "skglZgFYVU8E",
        "outputId": "376b7304-fefa-4a4c-cf9e-f71403364b06"
      },
      "execution_count": 13,
      "outputs": [
        {
          "output_type": "execute_result",
          "data": {
            "text/plain": [
              "0     No\n",
              "1     No\n",
              "2    Yes\n",
              "3    Yes\n",
              "4    Yes\n",
              "Name: Churn, dtype: object"
            ]
          },
          "metadata": {},
          "execution_count": 13
        }
      ]
    },
    {
      "cell_type": "markdown",
      "source": [
        "### **Avaliações com os dados desbalanceados**"
      ],
      "metadata": {
        "id": "Ry33k1YbUCXu"
      }
    },
    {
      "cell_type": "code",
      "source": [
        "# Separando os dados em treino e teste\n",
        "X_train, X_test, y_train, y_test = train_test_split(X, y, test_size=0.15, stratify=y)"
      ],
      "metadata": {
        "id": "nMZHXVkxUUlv"
      },
      "execution_count": 14,
      "outputs": []
    },
    {
      "cell_type": "markdown",
      "source": [
        "Separei os dados com 15% para teste, pois irei usar **validação cruzada**. logo os dados de teste serão utilizados no teste final de cada análise. "
      ],
      "metadata": {
        "id": "DcxbViQFsh-M"
      }
    },
    {
      "cell_type": "code",
      "source": [
        "print(f'Shape do X_train: {X_train.shape}')\n",
        "print(f'Shape do y_train: {y_train.shape}')\n",
        "print(f'Shape do X_test: {X_test.shape}')\n",
        "print(f'Shape do y_test: {y_test.shape}')"
      ],
      "metadata": {
        "colab": {
          "base_uri": "https://localhost:8080/"
        },
        "id": "xrYtFAMYZn9J",
        "outputId": "c250de54-8686-4a8d-9068-cd0fae6e7e93"
      },
      "execution_count": 15,
      "outputs": [
        {
          "output_type": "stream",
          "name": "stdout",
          "text": [
            "Shape do X_train: (5977, 19)\n",
            "Shape do y_train: (5977,)\n",
            "Shape do X_test: (1055, 19)\n",
            "Shape do y_test: (1055,)\n"
          ]
        }
      ]
    },
    {
      "cell_type": "code",
      "source": [
        "plot = sns.barplot(x=y_train.value_counts().index, y=y_train.value_counts(), orient='v');\n",
        "plot.set_title('Distribuição do Churn de clientes nos dados de treino');\n",
        "plot.grid(True, axis='y');"
      ],
      "metadata": {
        "colab": {
          "base_uri": "https://localhost:8080/",
          "height": 284
        },
        "id": "VZCkB6-a9nrf",
        "outputId": "5011dde3-9494-4e48-9e9b-65e9b7012cbd"
      },
      "execution_count": 16,
      "outputs": [
        {
          "output_type": "display_data",
          "data": {
            "text/plain": [
              "<Figure size 432x288 with 1 Axes>"
            ],
            "image/png": "[encoded data removed]"
          },
          "metadata": {}
        }
      ]
    },
    {
      "cell_type": "code",
      "source": [
        "plot = sns.barplot(x=y_test.value_counts().index, y=y_test.value_counts(), orient='v');\n",
        "plot.set_title('Distribuição do Churn de clientes nos dados de teste');\n",
        "plot.grid(True, axis='y');"
      ],
      "metadata": {
        "colab": {
          "base_uri": "https://localhost:8080/",
          "height": 284
        },
        "id": "_S5f0MgS-URH",
        "outputId": "36f22ba3-407c-4d2e-c1a2-a167d8e3a14b"
      },
      "execution_count": 17,
      "outputs": [
        {
          "output_type": "display_data",
          "data": {
            "text/plain": [
              "<Figure size 432x288 with 1 Axes>"
            ],
            "image/png": "[encoded data removed]"
          },
          "metadata": {}
        }
      ]
    },
    {
      "cell_type": "markdown",
      "source": [
        "Agora é preciso realizar os encoding dos dados.\n",
        "\n",
        "Vou usar o [One Hoting Encoding](https://scikit-learn.org/stable/modules/generated/sklearn.preprocessing.OneHotEncoder.html#sklearn.preprocessing.OneHotEncoder) e [LabelBinarizer](https://scikit-learn.org/stable/modules/generated/sklearn.preprocessing.LabelBinarizer.html) do Sklearn, pois consigo transformar os dados categóricos em uma matriz numérica e mapear a mesma representação para os dados de teste."
      ],
      "metadata": {
        "id": "VdwQZCAyaYgI"
      }
    },
    {
      "cell_type": "code",
      "source": [
        "from sklearn.preprocessing import OneHotEncoder, LabelBinarizer"
      ],
      "metadata": {
        "id": "2nx30gOTaWjm"
      },
      "execution_count": 18,
      "outputs": []
    },
    {
      "cell_type": "code",
      "source": [
        "# Criando o encoder com drop=if_binary, para reduzir a quantidade total de colunas no hot_encoder\n",
        "X_enc = OneHotEncoder(drop='if_binary', sparse=False, handle_unknown='ignore', dtype=int)\n",
        "X_enc.fit(X_train.iloc[:, :-3])"
      ],
      "metadata": {
        "colab": {
          "base_uri": "https://localhost:8080/"
        },
        "id": "NqUUHwvXaXBi",
        "outputId": "cb20fcf2-6100-4695-fdc9-922aea92ae3d"
      },
      "execution_count": 19,
      "outputs": [
        {
          "output_type": "execute_result",
          "data": {
            "text/plain": [
              "OneHotEncoder(drop='if_binary', dtype=<class 'int'>, handle_unknown='ignore',\n",
              "              sparse=False)"
            ]
          },
          "metadata": {},
          "execution_count": 19
        }
      ]
    },
    {
      "cell_type": "code",
      "source": [
        "# Categorias codificadas\n",
        "X_enc.categories_"
      ],
      "metadata": {
        "colab": {
          "base_uri": "https://localhost:8080/"
        },
        "id": "R8rcN4T0aXFD",
        "outputId": "413bf14b-8705-4794-8310-26730e50390c"
      },
      "execution_count": 20,
      "outputs": [
        {
          "output_type": "execute_result",
          "data": {
            "text/plain": [
              "[array(['Female', 'Male'], dtype=object),\n",
              " array(['No', 'Yes'], dtype=object),\n",
              " array(['No', 'Yes'], dtype=object),\n",
              " array(['No', 'Yes'], dtype=object),\n",
              " array(['No', 'Yes'], dtype=object),\n",
              " array(['No', 'No phone service', 'Yes'], dtype=object),\n",
              " array(['DSL', 'Fiber optic', 'No'], dtype=object),\n",
              " array(['No', 'No internet service', 'Yes'], dtype=object),\n",
              " array(['No', 'No internet service', 'Yes'], dtype=object),\n",
              " array(['No', 'No internet service', 'Yes'], dtype=object),\n",
              " array(['No', 'No internet service', 'Yes'], dtype=object),\n",
              " array(['No', 'No internet service', 'Yes'], dtype=object),\n",
              " array(['No', 'No internet service', 'Yes'], dtype=object),\n",
              " array(['Month-to-month', 'One year', 'Two year'], dtype=object),\n",
              " array(['No', 'Yes'], dtype=object),\n",
              " array(['Bank transfer (automatic)', 'Credit card (automatic)',\n",
              "        'Electronic check', 'Mailed check'], dtype=object)]"
            ]
          },
          "metadata": {},
          "execution_count": 20
        }
      ]
    },
    {
      "cell_type": "code",
      "source": [
        "# Nomes das novas características que serão mapeadas paras as colunas\n",
        "X_enc_names = X_enc.get_feature_names_out()\n",
        "X_enc_names"
      ],
      "metadata": {
        "colab": {
          "base_uri": "https://localhost:8080/"
        },
        "id": "3HyEySd6nZ32",
        "outputId": "d1b76da4-4965-4482-8664-7a8e9e4de3f8"
      },
      "execution_count": 21,
      "outputs": [
        {
          "output_type": "execute_result",
          "data": {
            "text/plain": [
              "array(['Gender_Male', 'SeniorCitizen_Yes', 'Partner_Yes',\n",
              "       'Dependents_Yes', 'PhoneService_Yes', 'MultipleLines_No',\n",
              "       'MultipleLines_No phone service', 'MultipleLines_Yes',\n",
              "       'InternetService_DSL', 'InternetService_Fiber optic',\n",
              "       'InternetService_No', 'OnlineSecurity_No',\n",
              "       'OnlineSecurity_No internet service', 'OnlineSecurity_Yes',\n",
              "       'OnlineBackup_No', 'OnlineBackup_No internet service',\n",
              "       'OnlineBackup_Yes', 'DeviceProtection_No',\n",
              "       'DeviceProtection_No internet service', 'DeviceProtection_Yes',\n",
              "       'TechSupport_No', 'TechSupport_No internet service',\n",
              "       'TechSupport_Yes', 'StreamingTV_No',\n",
              "       'StreamingTV_No internet service', 'StreamingTV_Yes',\n",
              "       'StreamingMovies_No', 'StreamingMovies_No internet service',\n",
              "       'StreamingMovies_Yes', 'Contract_Month-to-month',\n",
              "       'Contract_One year', 'Contract_Two year', 'PaperlessBilling_Yes',\n",
              "       'PaymentMethod_Bank transfer (automatic)',\n",
              "       'PaymentMethod_Credit card (automatic)',\n",
              "       'PaymentMethod_Electronic check', 'PaymentMethod_Mailed check'],\n",
              "      dtype=object)"
            ]
          },
          "metadata": {},
          "execution_count": 21
        }
      ]
    },
    {
      "cell_type": "code",
      "source": [
        "# Mapeando as colunas codificadas para o X\n",
        "X_train_enc = pd.DataFrame(X_enc.transform(X_train.iloc[:, :-3]), columns=X_enc_names)\n",
        "X_train_enc"
      ],
      "metadata": {
        "colab": {
          "base_uri": "https://localhost:8080/",
          "height": 522
        },
        "id": "_N_9i9IblnXb",
        "outputId": "d4ca729b-2df5-475e-9315-57701bf90cab"
      },
      "execution_count": 22,
      "outputs": [
        {
          "output_type": "execute_result",
          "data": {
            "text/plain": [
              "      Gender_Male  SeniorCitizen_Yes  Partner_Yes  Dependents_Yes  \\\n",
              "0               1                  0            0               0   \n",
              "1               1                  0            1               1   \n",
              "2               1                  0            0               0   \n",
              "3               1                  0            0               0   \n",
              "4               0                  0            1               0   \n",
              "...           ...                ...          ...             ...   \n",
              "5972            1                  0            1               1   \n",
              "5973            1                  0            0               0   \n",
              "5974            1                  0            1               1   \n",
              "5975            0                  0            1               0   \n",
              "5976            1                  0            0               0   \n",
              "\n",
              "      PhoneService_Yes  MultipleLines_No  MultipleLines_No phone service  \\\n",
              "0                    1                 1                               0   \n",
              "1                    1                 0                               0   \n",
              "2                    1                 1                               0   \n",
              "3                    1                 0                               0   \n",
              "4                    1                 1                               0   \n",
              "...                ...               ...                             ...   \n",
              "5972                 1                 1                               0   \n",
              "5973                 1                 0                               0   \n",
              "5974                 1                 1                               0   \n",
              "5975                 1                 1                               0   \n",
              "5976                 1                 1                               0   \n",
              "\n",
              "      MultipleLines_Yes  InternetService_DSL  InternetService_Fiber optic  \\\n",
              "0                     0                    0                            1   \n",
              "1                     1                    0                            0   \n",
              "2                     0                    1                            0   \n",
              "3                     1                    0                            1   \n",
              "4                     0                    0                            0   \n",
              "...                 ...                  ...                          ...   \n",
              "5972                  0                    1                            0   \n",
              "5973                  1                    1                            0   \n",
              "5974                  0                    0                            0   \n",
              "5975                  0                    1                            0   \n",
              "5976                  0                    0                            1   \n",
              "\n",
              "      ...  StreamingMovies_No internet service  StreamingMovies_Yes  \\\n",
              "0     ...                                    0                    1   \n",
              "1     ...                                    1                    0   \n",
              "2     ...                                    0                    0   \n",
              "3     ...                                    0                    1   \n",
              "4     ...                                    1                    0   \n",
              "...   ...                                  ...                  ...   \n",
              "5972  ...                                    0                    0   \n",
              "5973  ...                                    0                    1   \n",
              "5974  ...                                    1                    0   \n",
              "5975  ...                                    0                    0   \n",
              "5976  ...                                    0                    1   \n",
              "\n",
              "      Contract_Month-to-month  Contract_One year  Contract_Two year  \\\n",
              "0                           1                  0                  0   \n",
              "1                           0                  0                  1   \n",
              "2                           1                  0                  0   \n",
              "3                           1                  0                  0   \n",
              "4                           1                  0                  0   \n",
              "...                       ...                ...                ...   \n",
              "5972                        1                  0                  0   \n",
              "5973                        0                  0                  1   \n",
              "5974                        0                  1                  0   \n",
              "5975                        1                  0                  0   \n",
              "5976                        1                  0                  0   \n",
              "\n",
              "      PaperlessBilling_Yes  PaymentMethod_Bank transfer (automatic)  \\\n",
              "0                        0                                        0   \n",
              "1                        0                                        0   \n",
              "2                        1                                        0   \n",
              "3                        0                                        0   \n",
              "4                        0                                        1   \n",
              "...                    ...                                      ...   \n",
              "5972                     1                                        0   \n",
              "5973                     1                                        0   \n",
              "5974                     0                                        0   \n",
              "5975                     1                                        1   \n",
              "5976                     1                                        0   \n",
              "\n",
              "      PaymentMethod_Credit card (automatic)  PaymentMethod_Electronic check  \\\n",
              "0                                         0                               1   \n",
              "1                                         1                               0   \n",
              "2                                         0                               1   \n",
              "3                                         0                               0   \n",
              "4                                         0                               0   \n",
              "...                                     ...                             ...   \n",
              "5972                                      0                               0   \n",
              "5973                                      1                               0   \n",
              "5974                                      0                               0   \n",
              "5975                                      0                               0   \n",
              "5976                                      0                               1   \n",
              "\n",
              "      PaymentMethod_Mailed check  \n",
              "0                              0  \n",
              "1                              0  \n",
              "2                              0  \n",
              "3                              1  \n",
              "4                              0  \n",
              "...                          ...  \n",
              "5972                           1  \n",
              "5973                           0  \n",
              "5974                           1  \n",
              "5975                           0  \n",
              "5976                           0  \n",
              "\n",
              "[5977 rows x 37 columns]"
            ],
            "text/html": [
              "\n",
              "  <div id=\"df-557cd930-9b57-4189-9026-8e4dbb4f7bc8\">\n",
              "    <div class=\"colab-df-container\">\n",
              "      <div>\n",
              "<style scoped>\n",
              "    .dataframe tbody tr th:only-of-type {\n",
              "        vertical-align: middle;\n",
              "    }\n",
              "\n",
              "    .dataframe tbody tr th {\n",
              "        vertical-align: top;\n",
              "    }\n",
              "\n",
              "    .dataframe thead th {\n",
              "        text-align: right;\n",
              "    }\n",
              "</style>\n",
              "<table border=\"1\" class=\"dataframe\">\n",
              "  <thead>\n",
              "    <tr style=\"text-align: right;\">\n",
              "      <th></th>\n",
              "      <th>Gender_Male</th>\n",
              "      <th>SeniorCitizen_Yes</th>\n",
              "      <th>Partner_Yes</th>\n",
              "      <th>Dependents_Yes</th>\n",
              "      <th>PhoneService_Yes</th>\n",
              "      <th>MultipleLines_No</th>\n",
              "      <th>MultipleLines_No phone service</th>\n",
              "      <th>MultipleLines_Yes</th>\n",
              "      <th>InternetService_DSL</th>\n",
              "      <th>InternetService_Fiber optic</th>\n",
              "      <th>...</th>\n",
              "      <th>StreamingMovies_No internet service</th>\n",
              "      <th>StreamingMovies_Yes</th>\n",
              "      <th>Contract_Month-to-month</th>\n",
              "      <th>Contract_One year</th>\n",
              "      <th>Contract_Two year</th>\n",
              "      <th>PaperlessBilling_Yes</th>\n",
              "      <th>PaymentMethod_Bank transfer (automatic)</th>\n",
              "      <th>PaymentMethod_Credit card (automatic)</th>\n",
              "      <th>PaymentMethod_Electronic check</th>\n",
              "      <th>PaymentMethod_Mailed check</th>\n",
              "    </tr>\n",
              "  </thead>\n",
              "  <tbody>\n",
              "    <tr>\n",
              "      <th>0</th>\n",
              "      <td>1</td>\n",
              "      <td>0</td>\n",
              "      <td>0</td>\n",
              "      <td>0</td>\n",
              "      <td>1</td>\n",
              "      <td>1</td>\n",
              "      <td>0</td>\n",
              "      <td>0</td>\n",
              "      <td>0</td>\n",
              "      <td>1</td>\n",
              "      <td>...</td>\n",
              "      <td>0</td>\n",
              "      <td>1</td>\n",
              "      <td>1</td>\n",
              "      <td>0</td>\n",
              "      <td>0</td>\n",
              "      <td>0</td>\n",
              "      <td>0</td>\n",
              "      <td>0</td>\n",
              "      <td>1</td>\n",
              "      <td>0</td>\n",
              "    </tr>\n",
              "    <tr>\n",
              "      <th>1</th>\n",
              "      <td>1</td>\n",
              "      <td>0</td>\n",
              "      <td>1</td>\n",
              "      <td>1</td>\n",
              "      <td>1</td>\n",
              "      <td>0</td>\n",
              "      <td>0</td>\n",
              "      <td>1</td>\n",
              "      <td>0</td>\n",
              "      <td>0</td>\n",
              "      <td>...</td>\n",
              "      <td>1</td>\n",
              "      <td>0</td>\n",
              "      <td>0</td>\n",
              "      <td>0</td>\n",
              "      <td>1</td>\n",
              "      <td>0</td>\n",
              "      <td>0</td>\n",
              "      <td>1</td>\n",
              "      <td>0</td>\n",
              "      <td>0</td>\n",
              "    </tr>\n",
              "    <tr>\n",
              "      <th>2</th>\n",
              "      <td>1</td>\n",
              "      <td>0</td>\n",
              "      <td>0</td>\n",
              "      <td>0</td>\n",
              "      <td>1</td>\n",
              "      <td>1</td>\n",
              "      <td>0</td>\n",
              "      <td>0</td>\n",
              "      <td>1</td>\n",
              "      <td>0</td>\n",
              "      <td>...</td>\n",
              "      <td>0</td>\n",
              "      <td>0</td>\n",
              "      <td>1</td>\n",
              "      <td>0</td>\n",
              "      <td>0</td>\n",
              "      <td>1</td>\n",
              "      <td>0</td>\n",
              "      <td>0</td>\n",
              "      <td>1</td>\n",
              "      <td>0</td>\n",
              "    </tr>\n",
              "    <tr>\n",
              "      <th>3</th>\n",
              "      <td>1</td>\n",
              "      <td>0</td>\n",
              "      <td>0</td>\n",
              "      <td>0</td>\n",
              "      <td>1</td>\n",
              "      <td>0</td>\n",
              "      <td>0</td>\n",
              "      <td>1</td>\n",
              "      <td>0</td>\n",
              "      <td>1</td>\n",
              "      <td>...</td>\n",
              "      <td>0</td>\n",
              "      <td>1</td>\n",
              "      <td>1</td>\n",
              "      <td>0</td>\n",
              "      <td>0</td>\n",
              "      <td>0</td>\n",
              "      <td>0</td>\n",
              "      <td>0</td>\n",
              "      <td>0</td>\n",
              "      <td>1</td>\n",
              "    </tr>\n",
              "    <tr>\n",
              "      <th>4</th>\n",
              "      <td>0</td>\n",
              "      <td>0</td>\n",
              "      <td>1</td>\n",
              "      <td>0</td>\n",
              "      <td>1</td>\n",
              "      <td>1</td>\n",
              "      <td>0</td>\n",
              "      <td>0</td>\n",
              "      <td>0</td>\n",
              "      <td>0</td>\n",
              "      <td>...</td>\n",
              "      <td>1</td>\n",
              "      <td>0</td>\n",
              "      <td>1</td>\n",
              "      <td>0</td>\n",
              "      <td>0</td>\n",
              "      <td>0</td>\n",
              "      <td>1</td>\n",
              "      <td>0</td>\n",
              "      <td>0</td>\n",
              "      <td>0</td>\n",
              "    </tr>\n",
              "    <tr>\n",
              "      <th>...</th>\n",
              "      <td>...</td>\n",
              "      <td>...</td>\n",
              "      <td>...</td>\n",
              "      <td>...</td>\n",
              "      <td>...</td>\n",
              "      <td>...</td>\n",
              "      <td>...</td>\n",
              "      <td>...</td>\n",
              "      <td>...</td>\n",
              "      <td>...</td>\n",
              "      <td>...</td>\n",
              "      <td>...</td>\n",
              "      <td>...</td>\n",
              "      <td>...</td>\n",
              "      <td>...</td>\n",
              "      <td>...</td>\n",
              "      <td>...</td>\n",
              "      <td>...</td>\n",
              "      <td>...</td>\n",
              "      <td>...</td>\n",
              "      <td>...</td>\n",
              "    </tr>\n",
              "    <tr>\n",
              "      <th>5972</th>\n",
              "      <td>1</td>\n",
              "      <td>0</td>\n",
              "      <td>1</td>\n",
              "      <td>1</td>\n",
              "      <td>1</td>\n",
              "      <td>1</td>\n",
              "      <td>0</td>\n",
              "      <td>0</td>\n",
              "      <td>1</td>\n",
              "      <td>0</td>\n",
              "      <td>...</td>\n",
              "      <td>0</td>\n",
              "      <td>0</td>\n",
              "      <td>1</td>\n",
              "      <td>0</td>\n",
              "      <td>0</td>\n",
              "      <td>1</td>\n",
              "      <td>0</td>\n",
              "      <td>0</td>\n",
              "      <td>0</td>\n",
              "      <td>1</td>\n",
              "    </tr>\n",
              "    <tr>\n",
              "      <th>5973</th>\n",
              "      <td>1</td>\n",
              "      <td>0</td>\n",
              "      <td>0</td>\n",
              "      <td>0</td>\n",
              "      <td>1</td>\n",
              "      <td>0</td>\n",
              "      <td>0</td>\n",
              "      <td>1</td>\n",
              "      <td>1</td>\n",
              "      <td>0</td>\n",
              "      <td>...</td>\n",
              "      <td>0</td>\n",
              "      <td>1</td>\n",
              "      <td>0</td>\n",
              "      <td>0</td>\n",
              "      <td>1</td>\n",
              "      <td>1</td>\n",
              "      <td>0</td>\n",
              "      <td>1</td>\n",
              "      <td>0</td>\n",
              "      <td>0</td>\n",
              "    </tr>\n",
              "    <tr>\n",
              "      <th>5974</th>\n",
              "      <td>1</td>\n",
              "      <td>0</td>\n",
              "      <td>1</td>\n",
              "      <td>1</td>\n",
              "      <td>1</td>\n",
              "      <td>1</td>\n",
              "      <td>0</td>\n",
              "      <td>0</td>\n",
              "      <td>0</td>\n",
              "      <td>0</td>\n",
              "      <td>...</td>\n",
              "      <td>1</td>\n",
              "      <td>0</td>\n",
              "      <td>0</td>\n",
              "      <td>1</td>\n",
              "      <td>0</td>\n",
              "      <td>0</td>\n",
              "      <td>0</td>\n",
              "      <td>0</td>\n",
              "      <td>0</td>\n",
              "      <td>1</td>\n",
              "    </tr>\n",
              "    <tr>\n",
              "      <th>5975</th>\n",
              "      <td>0</td>\n",
              "      <td>0</td>\n",
              "      <td>1</td>\n",
              "      <td>0</td>\n",
              "      <td>1</td>\n",
              "      <td>1</td>\n",
              "      <td>0</td>\n",
              "      <td>0</td>\n",
              "      <td>1</td>\n",
              "      <td>0</td>\n",
              "      <td>...</td>\n",
              "      <td>0</td>\n",
              "      <td>0</td>\n",
              "      <td>1</td>\n",
              "      <td>0</td>\n",
              "      <td>0</td>\n",
              "      <td>1</td>\n",
              "      <td>1</td>\n",
              "      <td>0</td>\n",
              "      <td>0</td>\n",
              "      <td>0</td>\n",
              "    </tr>\n",
              "    <tr>\n",
              "      <th>5976</th>\n",
              "      <td>1</td>\n",
              "      <td>0</td>\n",
              "      <td>0</td>\n",
              "      <td>0</td>\n",
              "      <td>1</td>\n",
              "      <td>1</td>\n",
              "      <td>0</td>\n",
              "      <td>0</td>\n",
              "      <td>0</td>\n",
              "      <td>1</td>\n",
              "      <td>...</td>\n",
              "      <td>0</td>\n",
              "      <td>1</td>\n",
              "      <td>1</td>\n",
              "      <td>0</td>\n",
              "      <td>0</td>\n",
              "      <td>1</td>\n",
              "      <td>0</td>\n",
              "      <td>0</td>\n",
              "      <td>1</td>\n",
              "      <td>0</td>\n",
              "    </tr>\n",
              "  </tbody>\n",
              "</table>\n",
              "<p>5977 rows × 37 columns</p>\n",
              "</div>\n",
              "      <button class=\"colab-df-convert\" onclick=\"convertToInteractive('df-557cd930-9b57-4189-9026-8e4dbb4f7bc8')\"\n",
              "              title=\"Convert this dataframe to an interactive table.\"\n",
              "              style=\"display:none;\">\n",
              "        \n",
              "  <svg xmlns=\"http://www.w3.org/2000/svg\" height=\"24px\"viewBox=\"0 0 24 24\"\n",
              "       width=\"24px\">\n",
              "    <path d=\"M0 0h24v24H0V0z\" fill=\"none\"/>\n",
              "    <path d=\"M18.56 5.44l.94 2.06.94-2.06 2.06-.94-2.06-.94-.94-2.06-.94 2.06-2.06.94zm-11 1L8.5 8.5l.94-2.06 2.06-.94-2.06-.94L8.5 2.5l-.94 2.06-2.06.94zm10 10l.94 2.06.94-2.06 2.06-.94-2.06-.94-.94-2.06-.94 2.06-2.06.94z\"/><path d=\"M17.41 7.96l-1.37-1.37c-.4-.4-.92-.59-1.43-.59-.52 0-1.04.2-1.43.59L10.3 9.45l-7.72 7.72c-.78.78-.78 2.05 0 2.83L4 21.41c.39.39.9.59 1.41.59.51 0 1.02-.2 1.41-.59l7.78-7.78 2.81-2.81c.8-.78.8-2.07 0-2.86zM5.41 20L4 18.59l7.72-7.72 1.47 1.35L5.41 20z\"/>\n",
              "  </svg>\n",
              "      </button>\n",
              "      \n",
              "  <style>\n",
              "    .colab-df-container {\n",
              "      display:flex;\n",
              "      flex-wrap:wrap;\n",
              "      gap: 12px;\n",
              "    }\n",
              "\n",
              "    .colab-df-convert {\n",
              "      background-color: #E8F0FE;\n",
              "      border: none;\n",
              "      border-radius: 50%;\n",
              "      cursor: pointer;\n",
              "      display: none;\n",
              "      fill: #1967D2;\n",
              "      height: 32px;\n",
              "      padding: 0 0 0 0;\n",
              "      width: 32px;\n",
              "    }\n",
              "\n",
              "    .colab-df-convert:hover {\n",
              "      background-color: #E2EBFA;\n",
              "      box-shadow: 0px 1px 2px rgba(60, 64, 67, 0.3), 0px 1px 3px 1px rgba(60, 64, 67, 0.15);\n",
              "      fill: #174EA6;\n",
              "    }\n",
              "\n",
              "    [theme=dark] .colab-df-convert {\n",
              "      background-color: #3B4455;\n",
              "      fill: #D2E3FC;\n",
              "    }\n",
              "\n",
              "    [theme=dark] .colab-df-convert:hover {\n",
              "      background-color: #434B5C;\n",
              "      box-shadow: 0px 1px 3px 1px rgba(0, 0, 0, 0.15);\n",
              "      filter: drop-shadow(0px 1px 2px rgba(0, 0, 0, 0.3));\n",
              "      fill: #FFFFFF;\n",
              "    }\n",
              "  </style>\n",
              "\n",
              "      <script>\n",
              "        const buttonEl =\n",
              "          document.querySelector('#df-557cd930-9b57-4189-9026-8e4dbb4f7bc8 button.colab-df-convert');\n",
              "        buttonEl.style.display =\n",
              "          google.colab.kernel.accessAllowed ? 'block' : 'none';\n",
              "\n",
              "        async function convertToInteractive(key) {\n",
              "          const element = document.querySelector('#df-557cd930-9b57-4189-9026-8e4dbb4f7bc8');\n",
              "          const dataTable =\n",
              "            await google.colab.kernel.invokeFunction('convertToInteractive',\n",
              "                                                     [key], {});\n",
              "          if (!dataTable) return;\n",
              "\n",
              "          const docLinkHtml = 'Like what you see? Visit the ' +\n",
              "            '<a target=\"_blank\" href=https://colab.research.google.com/notebooks/data_table.ipynb>data table notebook</a>'\n",
              "            + ' to learn more about interactive tables.';\n",
              "          element.innerHTML = '';\n",
              "          dataTable['output_type'] = 'display_data';\n",
              "          await google.colab.output.renderOutput(dataTable, element);\n",
              "          const docLink = document.createElement('div');\n",
              "          docLink.innerHTML = docLinkHtml;\n",
              "          element.appendChild(docLink);\n",
              "        }\n",
              "      </script>\n",
              "    </div>\n",
              "  </div>\n",
              "  "
            ]
          },
          "metadata": {},
          "execution_count": 22
        }
      ]
    },
    {
      "cell_type": "code",
      "source": [
        "# Adicionando as colunas numéricas\n",
        "for column in X_train.columns[-3:]:\n",
        "  X_train_enc[column] = X_train[column].to_numpy()"
      ],
      "metadata": {
        "id": "BNz9Zr_ktqEJ"
      },
      "execution_count": 23,
      "outputs": []
    },
    {
      "cell_type": "code",
      "source": [
        "X_train_enc"
      ],
      "metadata": {
        "colab": {
          "base_uri": "https://localhost:8080/",
          "height": 522
        },
        "id": "Qd_pRti3q9lV",
        "outputId": "a0a55aec-efa5-43e1-b524-f8dc6c75f45b"
      },
      "execution_count": 24,
      "outputs": [
        {
          "output_type": "execute_result",
          "data": {
            "text/plain": [
              "      Gender_Male  SeniorCitizen_Yes  Partner_Yes  Dependents_Yes  \\\n",
              "0               1                  0            0               0   \n",
              "1               1                  0            1               1   \n",
              "2               1                  0            0               0   \n",
              "3               1                  0            0               0   \n",
              "4               0                  0            1               0   \n",
              "...           ...                ...          ...             ...   \n",
              "5972            1                  0            1               1   \n",
              "5973            1                  0            0               0   \n",
              "5974            1                  0            1               1   \n",
              "5975            0                  0            1               0   \n",
              "5976            1                  0            0               0   \n",
              "\n",
              "      PhoneService_Yes  MultipleLines_No  MultipleLines_No phone service  \\\n",
              "0                    1                 1                               0   \n",
              "1                    1                 0                               0   \n",
              "2                    1                 1                               0   \n",
              "3                    1                 0                               0   \n",
              "4                    1                 1                               0   \n",
              "...                ...               ...                             ...   \n",
              "5972                 1                 1                               0   \n",
              "5973                 1                 0                               0   \n",
              "5974                 1                 1                               0   \n",
              "5975                 1                 1                               0   \n",
              "5976                 1                 1                               0   \n",
              "\n",
              "      MultipleLines_Yes  InternetService_DSL  InternetService_Fiber optic  \\\n",
              "0                     0                    0                            1   \n",
              "1                     1                    0                            0   \n",
              "2                     0                    1                            0   \n",
              "3                     1                    0                            1   \n",
              "4                     0                    0                            0   \n",
              "...                 ...                  ...                          ...   \n",
              "5972                  0                    1                            0   \n",
              "5973                  1                    1                            0   \n",
              "5974                  0                    0                            0   \n",
              "5975                  0                    1                            0   \n",
              "5976                  0                    0                            1   \n",
              "\n",
              "      ...  Contract_One year  Contract_Two year  PaperlessBilling_Yes  \\\n",
              "0     ...                  0                  0                     0   \n",
              "1     ...                  0                  1                     0   \n",
              "2     ...                  0                  0                     1   \n",
              "3     ...                  0                  0                     0   \n",
              "4     ...                  0                  0                     0   \n",
              "...   ...                ...                ...                   ...   \n",
              "5972  ...                  0                  0                     1   \n",
              "5973  ...                  0                  1                     1   \n",
              "5974  ...                  1                  0                     0   \n",
              "5975  ...                  0                  0                     1   \n",
              "5976  ...                  0                  0                     1   \n",
              "\n",
              "      PaymentMethod_Bank transfer (automatic)  \\\n",
              "0                                           0   \n",
              "1                                           0   \n",
              "2                                           0   \n",
              "3                                           0   \n",
              "4                                           1   \n",
              "...                                       ...   \n",
              "5972                                        0   \n",
              "5973                                        0   \n",
              "5974                                        0   \n",
              "5975                                        1   \n",
              "5976                                        0   \n",
              "\n",
              "      PaymentMethod_Credit card (automatic)  PaymentMethod_Electronic check  \\\n",
              "0                                         0                               1   \n",
              "1                                         1                               0   \n",
              "2                                         0                               1   \n",
              "3                                         0                               0   \n",
              "4                                         0                               0   \n",
              "...                                     ...                             ...   \n",
              "5972                                      0                               0   \n",
              "5973                                      1                               0   \n",
              "5974                                      0                               0   \n",
              "5975                                      0                               0   \n",
              "5976                                      0                               1   \n",
              "\n",
              "      PaymentMethod_Mailed check  Tenure  Charges_Monthly  Charges_Total  \n",
              "0                              0       3            84.30         235.05  \n",
              "1                              0      72            24.10        1734.65  \n",
              "2                              0       3            49.15         169.05  \n",
              "3                              1       7            95.00         655.50  \n",
              "4                              0      20            19.25         375.25  \n",
              "...                          ...     ...              ...            ...  \n",
              "5972                           1       1            45.85          45.85  \n",
              "5973                           0      69            81.50        5553.25  \n",
              "5974                           1      23            19.65         436.90  \n",
              "5975                           0       7            50.30         355.10  \n",
              "5976                           0      24            96.00        2122.45  \n",
              "\n",
              "[5977 rows x 40 columns]"
            ],
            "text/html": [
              "\n",
              "  <div id=\"df-c494b713-1bd0-4ace-ae6c-b47b0c744db0\">\n",
              "    <div class=\"colab-df-container\">\n",
              "      <div>\n",
              "<style scoped>\n",
              "    .dataframe tbody tr th:only-of-type {\n",
              "        vertical-align: middle;\n",
              "    }\n",
              "\n",
              "    .dataframe tbody tr th {\n",
              "        vertical-align: top;\n",
              "    }\n",
              "\n",
              "    .dataframe thead th {\n",
              "        text-align: right;\n",
              "    }\n",
              "</style>\n",
              "<table border=\"1\" class=\"dataframe\">\n",
              "  <thead>\n",
              "    <tr style=\"text-align: right;\">\n",
              "      <th></th>\n",
              "      <th>Gender_Male</th>\n",
              "      <th>SeniorCitizen_Yes</th>\n",
              "      <th>Partner_Yes</th>\n",
              "      <th>Dependents_Yes</th>\n",
              "      <th>PhoneService_Yes</th>\n",
              "      <th>MultipleLines_No</th>\n",
              "      <th>MultipleLines_No phone service</th>\n",
              "      <th>MultipleLines_Yes</th>\n",
              "      <th>InternetService_DSL</th>\n",
              "      <th>InternetService_Fiber optic</th>\n",
              "      <th>...</th>\n",
              "      <th>Contract_One year</th>\n",
              "      <th>Contract_Two year</th>\n",
              "      <th>PaperlessBilling_Yes</th>\n",
              "      <th>PaymentMethod_Bank transfer (automatic)</th>\n",
              "      <th>PaymentMethod_Credit card (automatic)</th>\n",
              "      <th>PaymentMethod_Electronic check</th>\n",
              "      <th>PaymentMethod_Mailed check</th>\n",
              "      <th>Tenure</th>\n",
              "      <th>Charges_Monthly</th>\n",
              "      <th>Charges_Total</th>\n",
              "    </tr>\n",
              "  </thead>\n",
              "  <tbody>\n",
              "    <tr>\n",
              "      <th>0</th>\n",
              "      <td>1</td>\n",
              "      <td>0</td>\n",
              "      <td>0</td>\n",
              "      <td>0</td>\n",
              "      <td>1</td>\n",
              "      <td>1</td>\n",
              "      <td>0</td>\n",
              "      <td>0</td>\n",
              "      <td>0</td>\n",
              "      <td>1</td>\n",
              "      <td>...</td>\n",
              "      <td>0</td>\n",
              "      <td>0</td>\n",
              "      <td>0</td>\n",
              "      <td>0</td>\n",
              "      <td>0</td>\n",
              "      <td>1</td>\n",
              "      <td>0</td>\n",
              "      <td>3</td>\n",
              "      <td>84.30</td>\n",
              "      <td>235.05</td>\n",
              "    </tr>\n",
              "    <tr>\n",
              "      <th>1</th>\n",
              "      <td>1</td>\n",
              "      <td>0</td>\n",
              "      <td>1</td>\n",
              "      <td>1</td>\n",
              "      <td>1</td>\n",
              "      <td>0</td>\n",
              "      <td>0</td>\n",
              "      <td>1</td>\n",
              "      <td>0</td>\n",
              "      <td>0</td>\n",
              "      <td>...</td>\n",
              "      <td>0</td>\n",
              "      <td>1</td>\n",
              "      <td>0</td>\n",
              "      <td>0</td>\n",
              "      <td>1</td>\n",
              "      <td>0</td>\n",
              "      <td>0</td>\n",
              "      <td>72</td>\n",
              "      <td>24.10</td>\n",
              "      <td>1734.65</td>\n",
              "    </tr>\n",
              "    <tr>\n",
              "      <th>2</th>\n",
              "      <td>1</td>\n",
              "      <td>0</td>\n",
              "      <td>0</td>\n",
              "      <td>0</td>\n",
              "      <td>1</td>\n",
              "      <td>1</td>\n",
              "      <td>0</td>\n",
              "      <td>0</td>\n",
              "      <td>1</td>\n",
              "      <td>0</td>\n",
              "      <td>...</td>\n",
              "      <td>0</td>\n",
              "      <td>0</td>\n",
              "      <td>1</td>\n",
              "      <td>0</td>\n",
              "      <td>0</td>\n",
              "      <td>1</td>\n",
              "      <td>0</td>\n",
              "      <td>3</td>\n",
              "      <td>49.15</td>\n",
              "      <td>169.05</td>\n",
              "    </tr>\n",
              "    <tr>\n",
              "      <th>3</th>\n",
              "      <td>1</td>\n",
              "      <td>0</td>\n",
              "      <td>0</td>\n",
              "      <td>0</td>\n",
              "      <td>1</td>\n",
              "      <td>0</td>\n",
              "      <td>0</td>\n",
              "      <td>1</td>\n",
              "      <td>0</td>\n",
              "      <td>1</td>\n",
              "      <td>...</td>\n",
              "      <td>0</td>\n",
              "      <td>0</td>\n",
              "      <td>0</td>\n",
              "      <td>0</td>\n",
              "      <td>0</td>\n",
              "      <td>0</td>\n",
              "      <td>1</td>\n",
              "      <td>7</td>\n",
              "      <td>95.00</td>\n",
              "      <td>655.50</td>\n",
              "    </tr>\n",
              "    <tr>\n",
              "      <th>4</th>\n",
              "      <td>0</td>\n",
              "      <td>0</td>\n",
              "      <td>1</td>\n",
              "      <td>0</td>\n",
              "      <td>1</td>\n",
              "      <td>1</td>\n",
              "      <td>0</td>\n",
              "      <td>0</td>\n",
              "      <td>0</td>\n",
              "      <td>0</td>\n",
              "      <td>...</td>\n",
              "      <td>0</td>\n",
              "      <td>0</td>\n",
              "      <td>0</td>\n",
              "      <td>1</td>\n",
              "      <td>0</td>\n",
              "      <td>0</td>\n",
              "      <td>0</td>\n",
              "      <td>20</td>\n",
              "      <td>19.25</td>\n",
              "      <td>375.25</td>\n",
              "    </tr>\n",
              "    <tr>\n",
              "      <th>...</th>\n",
              "      <td>...</td>\n",
              "      <td>...</td>\n",
              "      <td>...</td>\n",
              "      <td>...</td>\n",
              "      <td>...</td>\n",
              "      <td>...</td>\n",
              "      <td>...</td>\n",
              "      <td>...</td>\n",
              "      <td>...</td>\n",
              "      <td>...</td>\n",
              "      <td>...</td>\n",
              "      <td>...</td>\n",
              "      <td>...</td>\n",
              "      <td>...</td>\n",
              "      <td>...</td>\n",
              "      <td>...</td>\n",
              "      <td>...</td>\n",
              "      <td>...</td>\n",
              "      <td>...</td>\n",
              "      <td>...</td>\n",
              "      <td>...</td>\n",
              "    </tr>\n",
              "    <tr>\n",
              "      <th>5972</th>\n",
              "      <td>1</td>\n",
              "      <td>0</td>\n",
              "      <td>1</td>\n",
              "      <td>1</td>\n",
              "      <td>1</td>\n",
              "      <td>1</td>\n",
              "      <td>0</td>\n",
              "      <td>0</td>\n",
              "      <td>1</td>\n",
              "      <td>0</td>\n",
              "      <td>...</td>\n",
              "      <td>0</td>\n",
              "      <td>0</td>\n",
              "      <td>1</td>\n",
              "      <td>0</td>\n",
              "      <td>0</td>\n",
              "      <td>0</td>\n",
              "      <td>1</td>\n",
              "      <td>1</td>\n",
              "      <td>45.85</td>\n",
              "      <td>45.85</td>\n",
              "    </tr>\n",
              "    <tr>\n",
              "      <th>5973</th>\n",
              "      <td>1</td>\n",
              "      <td>0</td>\n",
              "      <td>0</td>\n",
              "      <td>0</td>\n",
              "      <td>1</td>\n",
              "      <td>0</td>\n",
              "      <td>0</td>\n",
              "      <td>1</td>\n",
              "      <td>1</td>\n",
              "      <td>0</td>\n",
              "      <td>...</td>\n",
              "      <td>0</td>\n",
              "      <td>1</td>\n",
              "      <td>1</td>\n",
              "      <td>0</td>\n",
              "      <td>1</td>\n",
              "      <td>0</td>\n",
              "      <td>0</td>\n",
              "      <td>69</td>\n",
              "      <td>81.50</td>\n",
              "      <td>5553.25</td>\n",
              "    </tr>\n",
              "    <tr>\n",
              "      <th>5974</th>\n",
              "      <td>1</td>\n",
              "      <td>0</td>\n",
              "      <td>1</td>\n",
              "      <td>1</td>\n",
              "      <td>1</td>\n",
              "      <td>1</td>\n",
              "      <td>0</td>\n",
              "      <td>0</td>\n",
              "      <td>0</td>\n",
              "      <td>0</td>\n",
              "      <td>...</td>\n",
              "      <td>1</td>\n",
              "      <td>0</td>\n",
              "      <td>0</td>\n",
              "      <td>0</td>\n",
              "      <td>0</td>\n",
              "      <td>0</td>\n",
              "      <td>1</td>\n",
              "      <td>23</td>\n",
              "      <td>19.65</td>\n",
              "      <td>436.90</td>\n",
              "    </tr>\n",
              "    <tr>\n",
              "      <th>5975</th>\n",
              "      <td>0</td>\n",
              "      <td>0</td>\n",
              "      <td>1</td>\n",
              "      <td>0</td>\n",
              "      <td>1</td>\n",
              "      <td>1</td>\n",
              "      <td>0</td>\n",
              "      <td>0</td>\n",
              "      <td>1</td>\n",
              "      <td>0</td>\n",
              "      <td>...</td>\n",
              "      <td>0</td>\n",
              "      <td>0</td>\n",
              "      <td>1</td>\n",
              "      <td>1</td>\n",
              "      <td>0</td>\n",
              "      <td>0</td>\n",
              "      <td>0</td>\n",
              "      <td>7</td>\n",
              "      <td>50.30</td>\n",
              "      <td>355.10</td>\n",
              "    </tr>\n",
              "    <tr>\n",
              "      <th>5976</th>\n",
              "      <td>1</td>\n",
              "      <td>0</td>\n",
              "      <td>0</td>\n",
              "      <td>0</td>\n",
              "      <td>1</td>\n",
              "      <td>1</td>\n",
              "      <td>0</td>\n",
              "      <td>0</td>\n",
              "      <td>0</td>\n",
              "      <td>1</td>\n",
              "      <td>...</td>\n",
              "      <td>0</td>\n",
              "      <td>0</td>\n",
              "      <td>1</td>\n",
              "      <td>0</td>\n",
              "      <td>0</td>\n",
              "      <td>1</td>\n",
              "      <td>0</td>\n",
              "      <td>24</td>\n",
              "      <td>96.00</td>\n",
              "      <td>2122.45</td>\n",
              "    </tr>\n",
              "  </tbody>\n",
              "</table>\n",
              "<p>5977 rows × 40 columns</p>\n",
              "</div>\n",
              "      <button class=\"colab-df-convert\" onclick=\"convertToInteractive('df-c494b713-1bd0-4ace-ae6c-b47b0c744db0')\"\n",
              "              title=\"Convert this dataframe to an interactive table.\"\n",
              "              style=\"display:none;\">\n",
              "        \n",
              "  <svg xmlns=\"http://www.w3.org/2000/svg\" height=\"24px\"viewBox=\"0 0 24 24\"\n",
              "       width=\"24px\">\n",
              "    <path d=\"M0 0h24v24H0V0z\" fill=\"none\"/>\n",
              "    <path d=\"M18.56 5.44l.94 2.06.94-2.06 2.06-.94-2.06-.94-.94-2.06-.94 2.06-2.06.94zm-11 1L8.5 8.5l.94-2.06 2.06-.94-2.06-.94L8.5 2.5l-.94 2.06-2.06.94zm10 10l.94 2.06.94-2.06 2.06-.94-2.06-.94-.94-2.06-.94 2.06-2.06.94z\"/><path d=\"M17.41 7.96l-1.37-1.37c-.4-.4-.92-.59-1.43-.59-.52 0-1.04.2-1.43.59L10.3 9.45l-7.72 7.72c-.78.78-.78 2.05 0 2.83L4 21.41c.39.39.9.59 1.41.59.51 0 1.02-.2 1.41-.59l7.78-7.78 2.81-2.81c.8-.78.8-2.07 0-2.86zM5.41 20L4 18.59l7.72-7.72 1.47 1.35L5.41 20z\"/>\n",
              "  </svg>\n",
              "      </button>\n",
              "      \n",
              "  <style>\n",
              "    .colab-df-container {\n",
              "      display:flex;\n",
              "      flex-wrap:wrap;\n",
              "      gap: 12px;\n",
              "    }\n",
              "\n",
              "    .colab-df-convert {\n",
              "      background-color: #E8F0FE;\n",
              "      border: none;\n",
              "      border-radius: 50%;\n",
              "      cursor: pointer;\n",
              "      display: none;\n",
              "      fill: #1967D2;\n",
              "      height: 32px;\n",
              "      padding: 0 0 0 0;\n",
              "      width: 32px;\n",
              "    }\n",
              "\n",
              "    .colab-df-convert:hover {\n",
              "      background-color: #E2EBFA;\n",
              "      box-shadow: 0px 1px 2px rgba(60, 64, 67, 0.3), 0px 1px 3px 1px rgba(60, 64, 67, 0.15);\n",
              "      fill: #174EA6;\n",
              "    }\n",
              "\n",
              "    [theme=dark] .colab-df-convert {\n",
              "      background-color: #3B4455;\n",
              "      fill: #D2E3FC;\n",
              "    }\n",
              "\n",
              "    [theme=dark] .colab-df-convert:hover {\n",
              "      background-color: #434B5C;\n",
              "      box-shadow: 0px 1px 3px 1px rgba(0, 0, 0, 0.15);\n",
              "      filter: drop-shadow(0px 1px 2px rgba(0, 0, 0, 0.3));\n",
              "      fill: #FFFFFF;\n",
              "    }\n",
              "  </style>\n",
              "\n",
              "      <script>\n",
              "        const buttonEl =\n",
              "          document.querySelector('#df-c494b713-1bd0-4ace-ae6c-b47b0c744db0 button.colab-df-convert');\n",
              "        buttonEl.style.display =\n",
              "          google.colab.kernel.accessAllowed ? 'block' : 'none';\n",
              "\n",
              "        async function convertToInteractive(key) {\n",
              "          const element = document.querySelector('#df-c494b713-1bd0-4ace-ae6c-b47b0c744db0');\n",
              "          const dataTable =\n",
              "            await google.colab.kernel.invokeFunction('convertToInteractive',\n",
              "                                                     [key], {});\n",
              "          if (!dataTable) return;\n",
              "\n",
              "          const docLinkHtml = 'Like what you see? Visit the ' +\n",
              "            '<a target=\"_blank\" href=https://colab.research.google.com/notebooks/data_table.ipynb>data table notebook</a>'\n",
              "            + ' to learn more about interactive tables.';\n",
              "          element.innerHTML = '';\n",
              "          dataTable['output_type'] = 'display_data';\n",
              "          await google.colab.output.renderOutput(dataTable, element);\n",
              "          const docLink = document.createElement('div');\n",
              "          docLink.innerHTML = docLinkHtml;\n",
              "          element.appendChild(docLink);\n",
              "        }\n",
              "      </script>\n",
              "    </div>\n",
              "  </div>\n",
              "  "
            ]
          },
          "metadata": {},
          "execution_count": 24
        }
      ]
    },
    {
      "cell_type": "code",
      "source": [
        "# Realizando o processo para X_test\n",
        "X_test_enc = pd.DataFrame(X_enc.transform(X_test.iloc[:, :-3]), columns=X_enc_names)\n",
        "\n",
        "for column in X_test.columns[-3:]:\n",
        "  X_test_enc[column] = X_test[column].to_numpy()\n",
        "\n",
        "X_test_enc"
      ],
      "metadata": {
        "colab": {
          "base_uri": "https://localhost:8080/",
          "height": 522
        },
        "id": "2EVVXMkJuq93",
        "outputId": "100def96-d716-4b15-fed1-82dfbed835ac"
      },
      "execution_count": 25,
      "outputs": [
        {
          "output_type": "execute_result",
          "data": {
            "text/plain": [
              "      Gender_Male  SeniorCitizen_Yes  Partner_Yes  Dependents_Yes  \\\n",
              "0               1                  0            0               0   \n",
              "1               0                  0            1               0   \n",
              "2               1                  1            1               0   \n",
              "3               1                  0            0               1   \n",
              "4               0                  0            1               0   \n",
              "...           ...                ...          ...             ...   \n",
              "1050            1                  0            1               1   \n",
              "1051            1                  0            0               0   \n",
              "1052            1                  0            0               0   \n",
              "1053            1                  0            1               0   \n",
              "1054            1                  0            0               0   \n",
              "\n",
              "      PhoneService_Yes  MultipleLines_No  MultipleLines_No phone service  \\\n",
              "0                    1                 1                               0   \n",
              "1                    1                 0                               0   \n",
              "2                    1                 0                               0   \n",
              "3                    1                 1                               0   \n",
              "4                    1                 1                               0   \n",
              "...                ...               ...                             ...   \n",
              "1050                 1                 1                               0   \n",
              "1051                 1                 0                               0   \n",
              "1052                 0                 0                               1   \n",
              "1053                 1                 1                               0   \n",
              "1054                 1                 1                               0   \n",
              "\n",
              "      MultipleLines_Yes  InternetService_DSL  InternetService_Fiber optic  \\\n",
              "0                     0                    0                            1   \n",
              "1                     1                    0                            1   \n",
              "2                     1                    0                            1   \n",
              "3                     0                    1                            0   \n",
              "4                     0                    1                            0   \n",
              "...                 ...                  ...                          ...   \n",
              "1050                  0                    0                            0   \n",
              "1051                  1                    1                            0   \n",
              "1052                  0                    1                            0   \n",
              "1053                  0                    1                            0   \n",
              "1054                  0                    0                            0   \n",
              "\n",
              "      ...  Contract_One year  Contract_Two year  PaperlessBilling_Yes  \\\n",
              "0     ...                  0                  0                     1   \n",
              "1     ...                  0                  1                     1   \n",
              "2     ...                  0                  0                     1   \n",
              "3     ...                  0                  1                     1   \n",
              "4     ...                  0                  0                     1   \n",
              "...   ...                ...                ...                   ...   \n",
              "1050  ...                  0                  1                     1   \n",
              "1051  ...                  1                  0                     1   \n",
              "1052  ...                  1                  0                     0   \n",
              "1053  ...                  0                  0                     0   \n",
              "1054  ...                  0                  0                     1   \n",
              "\n",
              "      PaymentMethod_Bank transfer (automatic)  \\\n",
              "0                                           0   \n",
              "1                                           1   \n",
              "2                                           1   \n",
              "3                                           0   \n",
              "4                                           1   \n",
              "...                                       ...   \n",
              "1050                                        1   \n",
              "1051                                        0   \n",
              "1052                                        0   \n",
              "1053                                        0   \n",
              "1054                                        0   \n",
              "\n",
              "      PaymentMethod_Credit card (automatic)  PaymentMethod_Electronic check  \\\n",
              "0                                         0                               1   \n",
              "1                                         0                               0   \n",
              "2                                         0                               0   \n",
              "3                                         1                               0   \n",
              "4                                         0                               0   \n",
              "...                                     ...                             ...   \n",
              "1050                                      0                               0   \n",
              "1051                                      1                               0   \n",
              "1052                                      1                               0   \n",
              "1053                                      1                               0   \n",
              "1054                                      0                               0   \n",
              "\n",
              "      PaymentMethod_Mailed check  Tenure  Charges_Monthly  Charges_Total  \n",
              "0                              0       1            74.35          74.35  \n",
              "1                              0      72            94.25        6849.75  \n",
              "2                              0      57            95.25        5427.05  \n",
              "3                              0      71            76.90        5522.70  \n",
              "4                              0      47            58.60        2723.40  \n",
              "...                          ...     ...              ...            ...  \n",
              "1050                           0      60            20.95        1270.55  \n",
              "1051                           0      18            82.00        1425.45  \n",
              "1052                           0      40            36.00        1382.90  \n",
              "1053                           0       1            44.70          44.70  \n",
              "1054                           1       1            19.30          19.30  \n",
              "\n",
              "[1055 rows x 40 columns]"
            ],
            "text/html": [
              "\n",
              "  <div id=\"df-eb1cdf7b-9e4e-4079-bb26-c64f0a8fa249\">\n",
              "    <div class=\"colab-df-container\">\n",
              "      <div>\n",
              "<style scoped>\n",
              "    .dataframe tbody tr th:only-of-type {\n",
              "        vertical-align: middle;\n",
              "    }\n",
              "\n",
              "    .dataframe tbody tr th {\n",
              "        vertical-align: top;\n",
              "    }\n",
              "\n",
              "    .dataframe thead th {\n",
              "        text-align: right;\n",
              "    }\n",
              "</style>\n",
              "<table border=\"1\" class=\"dataframe\">\n",
              "  <thead>\n",
              "    <tr style=\"text-align: right;\">\n",
              "      <th></th>\n",
              "      <th>Gender_Male</th>\n",
              "      <th>SeniorCitizen_Yes</th>\n",
              "      <th>Partner_Yes</th>\n",
              "      <th>Dependents_Yes</th>\n",
              "      <th>PhoneService_Yes</th>\n",
              "      <th>MultipleLines_No</th>\n",
              "      <th>MultipleLines_No phone service</th>\n",
              "      <th>MultipleLines_Yes</th>\n",
              "      <th>InternetService_DSL</th>\n",
              "      <th>InternetService_Fiber optic</th>\n",
              "      <th>...</th>\n",
              "      <th>Contract_One year</th>\n",
              "      <th>Contract_Two year</th>\n",
              "      <th>PaperlessBilling_Yes</th>\n",
              "      <th>PaymentMethod_Bank transfer (automatic)</th>\n",
              "      <th>PaymentMethod_Credit card (automatic)</th>\n",
              "      <th>PaymentMethod_Electronic check</th>\n",
              "      <th>PaymentMethod_Mailed check</th>\n",
              "      <th>Tenure</th>\n",
              "      <th>Charges_Monthly</th>\n",
              "      <th>Charges_Total</th>\n",
              "    </tr>\n",
              "  </thead>\n",
              "  <tbody>\n",
              "    <tr>\n",
              "      <th>0</th>\n",
              "      <td>1</td>\n",
              "      <td>0</td>\n",
              "      <td>0</td>\n",
              "      <td>0</td>\n",
              "      <td>1</td>\n",
              "      <td>1</td>\n",
              "      <td>0</td>\n",
              "      <td>0</td>\n",
              "      <td>0</td>\n",
              "      <td>1</td>\n",
              "      <td>...</td>\n",
              "      <td>0</td>\n",
              "      <td>0</td>\n",
              "      <td>1</td>\n",
              "      <td>0</td>\n",
              "      <td>0</td>\n",
              "      <td>1</td>\n",
              "      <td>0</td>\n",
              "      <td>1</td>\n",
              "      <td>74.35</td>\n",
              "      <td>74.35</td>\n",
              "    </tr>\n",
              "    <tr>\n",
              "      <th>1</th>\n",
              "      <td>0</td>\n",
              "      <td>0</td>\n",
              "      <td>1</td>\n",
              "      <td>0</td>\n",
              "      <td>1</td>\n",
              "      <td>0</td>\n",
              "      <td>0</td>\n",
              "      <td>1</td>\n",
              "      <td>0</td>\n",
              "      <td>1</td>\n",
              "      <td>...</td>\n",
              "      <td>0</td>\n",
              "      <td>1</td>\n",
              "      <td>1</td>\n",
              "      <td>1</td>\n",
              "      <td>0</td>\n",
              "      <td>0</td>\n",
              "      <td>0</td>\n",
              "      <td>72</td>\n",
              "      <td>94.25</td>\n",
              "      <td>6849.75</td>\n",
              "    </tr>\n",
              "    <tr>\n",
              "      <th>2</th>\n",
              "      <td>1</td>\n",
              "      <td>1</td>\n",
              "      <td>1</td>\n",
              "      <td>0</td>\n",
              "      <td>1</td>\n",
              "      <td>0</td>\n",
              "      <td>0</td>\n",
              "      <td>1</td>\n",
              "      <td>0</td>\n",
              "      <td>1</td>\n",
              "      <td>...</td>\n",
              "      <td>0</td>\n",
              "      <td>0</td>\n",
              "      <td>1</td>\n",
              "      <td>1</td>\n",
              "      <td>0</td>\n",
              "      <td>0</td>\n",
              "      <td>0</td>\n",
              "      <td>57</td>\n",
              "      <td>95.25</td>\n",
              "      <td>5427.05</td>\n",
              "    </tr>\n",
              "    <tr>\n",
              "      <th>3</th>\n",
              "      <td>1</td>\n",
              "      <td>0</td>\n",
              "      <td>0</td>\n",
              "      <td>1</td>\n",
              "      <td>1</td>\n",
              "      <td>1</td>\n",
              "      <td>0</td>\n",
              "      <td>0</td>\n",
              "      <td>1</td>\n",
              "      <td>0</td>\n",
              "      <td>...</td>\n",
              "      <td>0</td>\n",
              "      <td>1</td>\n",
              "      <td>1</td>\n",
              "      <td>0</td>\n",
              "      <td>1</td>\n",
              "      <td>0</td>\n",
              "      <td>0</td>\n",
              "      <td>71</td>\n",
              "      <td>76.90</td>\n",
              "      <td>5522.70</td>\n",
              "    </tr>\n",
              "    <tr>\n",
              "      <th>4</th>\n",
              "      <td>0</td>\n",
              "      <td>0</td>\n",
              "      <td>1</td>\n",
              "      <td>0</td>\n",
              "      <td>1</td>\n",
              "      <td>1</td>\n",
              "      <td>0</td>\n",
              "      <td>0</td>\n",
              "      <td>1</td>\n",
              "      <td>0</td>\n",
              "      <td>...</td>\n",
              "      <td>0</td>\n",
              "      <td>0</td>\n",
              "      <td>1</td>\n",
              "      <td>1</td>\n",
              "      <td>0</td>\n",
              "      <td>0</td>\n",
              "      <td>0</td>\n",
              "      <td>47</td>\n",
              "      <td>58.60</td>\n",
              "      <td>2723.40</td>\n",
              "    </tr>\n",
              "    <tr>\n",
              "      <th>...</th>\n",
              "      <td>...</td>\n",
              "      <td>...</td>\n",
              "      <td>...</td>\n",
              "      <td>...</td>\n",
              "      <td>...</td>\n",
              "      <td>...</td>\n",
              "      <td>...</td>\n",
              "      <td>...</td>\n",
              "      <td>...</td>\n",
              "      <td>...</td>\n",
              "      <td>...</td>\n",
              "      <td>...</td>\n",
              "      <td>...</td>\n",
              "      <td>...</td>\n",
              "      <td>...</td>\n",
              "      <td>...</td>\n",
              "      <td>...</td>\n",
              "      <td>...</td>\n",
              "      <td>...</td>\n",
              "      <td>...</td>\n",
              "      <td>...</td>\n",
              "    </tr>\n",
              "    <tr>\n",
              "      <th>1050</th>\n",
              "      <td>1</td>\n",
              "      <td>0</td>\n",
              "      <td>1</td>\n",
              "      <td>1</td>\n",
              "      <td>1</td>\n",
              "      <td>1</td>\n",
              "      <td>0</td>\n",
              "      <td>0</td>\n",
              "      <td>0</td>\n",
              "      <td>0</td>\n",
              "      <td>...</td>\n",
              "      <td>0</td>\n",
              "      <td>1</td>\n",
              "      <td>1</td>\n",
              "      <td>1</td>\n",
              "      <td>0</td>\n",
              "      <td>0</td>\n",
              "      <td>0</td>\n",
              "      <td>60</td>\n",
              "      <td>20.95</td>\n",
              "      <td>1270.55</td>\n",
              "    </tr>\n",
              "    <tr>\n",
              "      <th>1051</th>\n",
              "      <td>1</td>\n",
              "      <td>0</td>\n",
              "      <td>0</td>\n",
              "      <td>0</td>\n",
              "      <td>1</td>\n",
              "      <td>0</td>\n",
              "      <td>0</td>\n",
              "      <td>1</td>\n",
              "      <td>1</td>\n",
              "      <td>0</td>\n",
              "      <td>...</td>\n",
              "      <td>1</td>\n",
              "      <td>0</td>\n",
              "      <td>1</td>\n",
              "      <td>0</td>\n",
              "      <td>1</td>\n",
              "      <td>0</td>\n",
              "      <td>0</td>\n",
              "      <td>18</td>\n",
              "      <td>82.00</td>\n",
              "      <td>1425.45</td>\n",
              "    </tr>\n",
              "    <tr>\n",
              "      <th>1052</th>\n",
              "      <td>1</td>\n",
              "      <td>0</td>\n",
              "      <td>0</td>\n",
              "      <td>0</td>\n",
              "      <td>0</td>\n",
              "      <td>0</td>\n",
              "      <td>1</td>\n",
              "      <td>0</td>\n",
              "      <td>1</td>\n",
              "      <td>0</td>\n",
              "      <td>...</td>\n",
              "      <td>1</td>\n",
              "      <td>0</td>\n",
              "      <td>0</td>\n",
              "      <td>0</td>\n",
              "      <td>1</td>\n",
              "      <td>0</td>\n",
              "      <td>0</td>\n",
              "      <td>40</td>\n",
              "      <td>36.00</td>\n",
              "      <td>1382.90</td>\n",
              "    </tr>\n",
              "    <tr>\n",
              "      <th>1053</th>\n",
              "      <td>1</td>\n",
              "      <td>0</td>\n",
              "      <td>1</td>\n",
              "      <td>0</td>\n",
              "      <td>1</td>\n",
              "      <td>1</td>\n",
              "      <td>0</td>\n",
              "      <td>0</td>\n",
              "      <td>1</td>\n",
              "      <td>0</td>\n",
              "      <td>...</td>\n",
              "      <td>0</td>\n",
              "      <td>0</td>\n",
              "      <td>0</td>\n",
              "      <td>0</td>\n",
              "      <td>1</td>\n",
              "      <td>0</td>\n",
              "      <td>0</td>\n",
              "      <td>1</td>\n",
              "      <td>44.70</td>\n",
              "      <td>44.70</td>\n",
              "    </tr>\n",
              "    <tr>\n",
              "      <th>1054</th>\n",
              "      <td>1</td>\n",
              "      <td>0</td>\n",
              "      <td>0</td>\n",
              "      <td>0</td>\n",
              "      <td>1</td>\n",
              "      <td>1</td>\n",
              "      <td>0</td>\n",
              "      <td>0</td>\n",
              "      <td>0</td>\n",
              "      <td>0</td>\n",
              "      <td>...</td>\n",
              "      <td>0</td>\n",
              "      <td>0</td>\n",
              "      <td>1</td>\n",
              "      <td>0</td>\n",
              "      <td>0</td>\n",
              "      <td>0</td>\n",
              "      <td>1</td>\n",
              "      <td>1</td>\n",
              "      <td>19.30</td>\n",
              "      <td>19.30</td>\n",
              "    </tr>\n",
              "  </tbody>\n",
              "</table>\n",
              "<p>1055 rows × 40 columns</p>\n",
              "</div>\n",
              "      <button class=\"colab-df-convert\" onclick=\"convertToInteractive('df-eb1cdf7b-9e4e-4079-bb26-c64f0a8fa249')\"\n",
              "              title=\"Convert this dataframe to an interactive table.\"\n",
              "              style=\"display:none;\">\n",
              "        \n",
              "  <svg xmlns=\"http://www.w3.org/2000/svg\" height=\"24px\"viewBox=\"0 0 24 24\"\n",
              "       width=\"24px\">\n",
              "    <path d=\"M0 0h24v24H0V0z\" fill=\"none\"/>\n",
              "    <path d=\"M18.56 5.44l.94 2.06.94-2.06 2.06-.94-2.06-.94-.94-2.06-.94 2.06-2.06.94zm-11 1L8.5 8.5l.94-2.06 2.06-.94-2.06-.94L8.5 2.5l-.94 2.06-2.06.94zm10 10l.94 2.06.94-2.06 2.06-.94-2.06-.94-.94-2.06-.94 2.06-2.06.94z\"/><path d=\"M17.41 7.96l-1.37-1.37c-.4-.4-.92-.59-1.43-.59-.52 0-1.04.2-1.43.59L10.3 9.45l-7.72 7.72c-.78.78-.78 2.05 0 2.83L4 21.41c.39.39.9.59 1.41.59.51 0 1.02-.2 1.41-.59l7.78-7.78 2.81-2.81c.8-.78.8-2.07 0-2.86zM5.41 20L4 18.59l7.72-7.72 1.47 1.35L5.41 20z\"/>\n",
              "  </svg>\n",
              "      </button>\n",
              "      \n",
              "  <style>\n",
              "    .colab-df-container {\n",
              "      display:flex;\n",
              "      flex-wrap:wrap;\n",
              "      gap: 12px;\n",
              "    }\n",
              "\n",
              "    .colab-df-convert {\n",
              "      background-color: #E8F0FE;\n",
              "      border: none;\n",
              "      border-radius: 50%;\n",
              "      cursor: pointer;\n",
              "      display: none;\n",
              "      fill: #1967D2;\n",
              "      height: 32px;\n",
              "      padding: 0 0 0 0;\n",
              "      width: 32px;\n",
              "    }\n",
              "\n",
              "    .colab-df-convert:hover {\n",
              "      background-color: #E2EBFA;\n",
              "      box-shadow: 0px 1px 2px rgba(60, 64, 67, 0.3), 0px 1px 3px 1px rgba(60, 64, 67, 0.15);\n",
              "      fill: #174EA6;\n",
              "    }\n",
              "\n",
              "    [theme=dark] .colab-df-convert {\n",
              "      background-color: #3B4455;\n",
              "      fill: #D2E3FC;\n",
              "    }\n",
              "\n",
              "    [theme=dark] .colab-df-convert:hover {\n",
              "      background-color: #434B5C;\n",
              "      box-shadow: 0px 1px 3px 1px rgba(0, 0, 0, 0.15);\n",
              "      filter: drop-shadow(0px 1px 2px rgba(0, 0, 0, 0.3));\n",
              "      fill: #FFFFFF;\n",
              "    }\n",
              "  </style>\n",
              "\n",
              "      <script>\n",
              "        const buttonEl =\n",
              "          document.querySelector('#df-eb1cdf7b-9e4e-4079-bb26-c64f0a8fa249 button.colab-df-convert');\n",
              "        buttonEl.style.display =\n",
              "          google.colab.kernel.accessAllowed ? 'block' : 'none';\n",
              "\n",
              "        async function convertToInteractive(key) {\n",
              "          const element = document.querySelector('#df-eb1cdf7b-9e4e-4079-bb26-c64f0a8fa249');\n",
              "          const dataTable =\n",
              "            await google.colab.kernel.invokeFunction('convertToInteractive',\n",
              "                                                     [key], {});\n",
              "          if (!dataTable) return;\n",
              "\n",
              "          const docLinkHtml = 'Like what you see? Visit the ' +\n",
              "            '<a target=\"_blank\" href=https://colab.research.google.com/notebooks/data_table.ipynb>data table notebook</a>'\n",
              "            + ' to learn more about interactive tables.';\n",
              "          element.innerHTML = '';\n",
              "          dataTable['output_type'] = 'display_data';\n",
              "          await google.colab.output.renderOutput(dataTable, element);\n",
              "          const docLink = document.createElement('div');\n",
              "          docLink.innerHTML = docLinkHtml;\n",
              "          element.appendChild(docLink);\n",
              "        }\n",
              "      </script>\n",
              "    </div>\n",
              "  </div>\n",
              "  "
            ]
          },
          "metadata": {},
          "execution_count": 25
        }
      ]
    },
    {
      "cell_type": "code",
      "source": [
        "# Criando o encoding para y: [No -> 0] [Yes -> 1]\n",
        "lb = LabelBinarizer()"
      ],
      "metadata": {
        "id": "akWj-CgSWeRV"
      },
      "execution_count": 26,
      "outputs": []
    },
    {
      "cell_type": "code",
      "source": [
        "# Encoding do y_train\n",
        "y_train_enc = lb.fit_transform(y_train)\n",
        "y_train_enc"
      ],
      "metadata": {
        "colab": {
          "base_uri": "https://localhost:8080/"
        },
        "id": "tckgkeSVWrdW",
        "outputId": "ec18c980-c6f3-4fce-8398-0d90af8f9285"
      },
      "execution_count": 27,
      "outputs": [
        {
          "output_type": "execute_result",
          "data": {
            "text/plain": [
              "array([[0],\n",
              "       [0],\n",
              "       [1],\n",
              "       ...,\n",
              "       [0],\n",
              "       [0],\n",
              "       [1]])"
            ]
          },
          "metadata": {},
          "execution_count": 27
        }
      ]
    },
    {
      "cell_type": "code",
      "source": [
        "# Nomes das classes\n",
        "lb_names = lb.classes_\n",
        "lb_names"
      ],
      "metadata": {
        "colab": {
          "base_uri": "https://localhost:8080/"
        },
        "id": "luAOjzp9bad8",
        "outputId": "06b66fca-7ff9-4e9e-e893-f123cba97c17"
      },
      "execution_count": 28,
      "outputs": [
        {
          "output_type": "execute_result",
          "data": {
            "text/plain": [
              "array(['No', 'Yes'], dtype='<U3')"
            ]
          },
          "metadata": {},
          "execution_count": 28
        }
      ]
    },
    {
      "cell_type": "code",
      "source": [
        "# Encoding do y_test\n",
        "y_test_enc = lb.transform(y_test)\n",
        "y_test_enc"
      ],
      "metadata": {
        "colab": {
          "base_uri": "https://localhost:8080/"
        },
        "id": "-Hp73JopXvCL",
        "outputId": "2df9725c-be3d-4d60-de56-e0efb23695f1"
      },
      "execution_count": 29,
      "outputs": [
        {
          "output_type": "execute_result",
          "data": {
            "text/plain": [
              "array([[1],\n",
              "       [0],\n",
              "       [1],\n",
              "       ...,\n",
              "       [0],\n",
              "       [1],\n",
              "       [1]])"
            ]
          },
          "metadata": {},
          "execution_count": 29
        }
      ]
    },
    {
      "cell_type": "markdown",
      "source": [
        "#### **Definindo um baseline**\n",
        "\n",
        "Vou criar um modelo base com o dummy classifier para ter uma base de comparação."
      ],
      "metadata": {
        "id": "SpUQrKmETT-E"
      }
    },
    {
      "cell_type": "code",
      "source": [
        "from sklearn.dummy import DummyClassifier\n",
        "from sklearn.model_selection import cross_validate"
      ],
      "metadata": {
        "id": "85dnXkzAP2LI"
      },
      "execution_count": 30,
      "outputs": []
    },
    {
      "cell_type": "code",
      "source": [
        "# Modelo dummy com estratégia de predição estratificada por classe\n",
        "dummy_churn = DummyClassifier(strategy='stratified')"
      ],
      "metadata": {
        "id": "WmPiEy1nKoLj"
      },
      "execution_count": 31,
      "outputs": []
    },
    {
      "cell_type": "code",
      "source": [
        "# Realizando a validação cruzada\n",
        "dummy_churn_cv = cross_validate(dummy_churn, X_train_enc, y_train_enc, cv=5, scoring=['accuracy', 'recall', 'precision', 'f1_weighted'], return_estimator=True)"
      ],
      "metadata": {
        "id": "Gla0cB4UQ8Vw"
      },
      "execution_count": 32,
      "outputs": []
    },
    {
      "cell_type": "code",
      "source": [
        "dummy_churn_cv"
      ],
      "metadata": {
        "colab": {
          "base_uri": "https://localhost:8080/"
        },
        "id": "K9a30NeyQ8fw",
        "outputId": "c5a575fa-3caa-4f8f-8d83-60fe6f0416fe"
      },
      "execution_count": 33,
      "outputs": [
        {
          "output_type": "execute_result",
          "data": {
            "text/plain": [
              "{'estimator': [DummyClassifier(strategy='stratified'),\n",
              "  DummyClassifier(strategy='stratified'),\n",
              "  DummyClassifier(strategy='stratified'),\n",
              "  DummyClassifier(strategy='stratified'),\n",
              "  DummyClassifier(strategy='stratified')],\n",
              " 'fit_time': array([0.00493169, 0.00342155, 0.00222659, 0.0114615 , 0.00222278]),\n",
              " 'score_time': array([0.02453494, 0.0226922 , 0.0130887 , 0.02291584, 0.01246548]),\n",
              " 'test_accuracy': array([0.60953177, 0.58946488, 0.61841004, 0.61087866, 0.5958159 ]),\n",
              " 'test_f1_weighted': array([0.6108758 , 0.59317391, 0.61643281, 0.61576018, 0.59681454]),\n",
              " 'test_precision': array([0.27076923, 0.24332344, 0.27361564, 0.28695652, 0.24458204]),\n",
              " 'test_recall': array([0.27672956, 0.25786164, 0.26498423, 0.31132075, 0.24842767])}"
            ]
          },
          "metadata": {},
          "execution_count": 33
        }
      ]
    },
    {
      "cell_type": "code",
      "source": [
        "print(f'Acurácia média: {dummy_churn_cv[\"test_accuracy\"].mean():.4f}')\n",
        "print(f'Precisão média: {dummy_churn_cv[\"test_precision\"].mean():.4f}')\n",
        "print(f'Revocação média: {dummy_churn_cv[\"test_recall\"].mean():.4f}')\n",
        "print(f'F1-Score médio: {dummy_churn_cv[\"test_f1_weighted\"].mean():.4f}')"
      ],
      "metadata": {
        "colab": {
          "base_uri": "https://localhost:8080/"
        },
        "id": "SJZ0uHOeaEvE",
        "outputId": "3a0ac6f5-94f7-4c4d-b371-28d7c4158ad7"
      },
      "execution_count": 34,
      "outputs": [
        {
          "output_type": "stream",
          "name": "stdout",
          "text": [
            "Acurácia média: 0.6048\n",
            "Precisão média: 0.2638\n",
            "Revocação média: 0.2719\n",
            "F1-Score médio: 0.6066\n"
          ]
        }
      ]
    },
    {
      "cell_type": "markdown",
      "source": [
        "Com o resultado da validação cruzada temos observações interessantes sobre o modelo. \n",
        "\n",
        "Percebemos que há uma acurácia média de 60%, com revocação e precisão muito baixa, em torno de 25% para a classe positiva. Podemos perceber também que há um desbalanço nos resultados, pois o F1-Score é de 60%.\n",
        "\n",
        "\n",
        "A seguir, irei prever os dados de testes com um dos modelos para ver se o mesmo padrão acontece e validar a análise anterior do desbalanço."
      ],
      "metadata": {
        "id": "8pD9OjPHZ6gV"
      }
    },
    {
      "cell_type": "code",
      "source": [
        "# Predict do modelo dummy 0\n",
        "y_pred_cv = dummy_churn_cv['estimator'][0].predict(X_test_enc)"
      ],
      "metadata": {
        "id": "gRzj5y7FQ8s6"
      },
      "execution_count": 35,
      "outputs": []
    },
    {
      "cell_type": "code",
      "source": [
        "# Score do modelo dummy 0\n",
        "dummy_churn_cv['estimator'][0].score(X_test_enc, y_test_enc)"
      ],
      "metadata": {
        "colab": {
          "base_uri": "https://localhost:8080/"
        },
        "id": "AxjxbB_SUWVq",
        "outputId": "adf27a8e-4135-4435-db28-26f752ac9c4f"
      },
      "execution_count": 36,
      "outputs": [
        {
          "output_type": "execute_result",
          "data": {
            "text/plain": [
              "0.6227488151658768"
            ]
          },
          "metadata": {},
          "execution_count": 36
        }
      ]
    },
    {
      "cell_type": "markdown",
      "source": [
        "Temos **62%** de acurácia.\n",
        "\n",
        "Vamos ver o report de classificação que nos dá as métricas de **revocação**, **precisão** e **f1-score**."
      ],
      "metadata": {
        "id": "Fs-gEQteMG6J"
      }
    },
    {
      "cell_type": "code",
      "source": [
        "from sklearn.metrics import classification_report"
      ],
      "metadata": {
        "id": "BXip54_nLXeN"
      },
      "execution_count": 37,
      "outputs": []
    },
    {
      "cell_type": "code",
      "source": [
        "predict_report = classification_report(y_test_enc, y_pred_cv, output_dict=True)\n",
        "print(classification_report(y_test_enc, y_pred_cv, output_dict=False))"
      ],
      "metadata": {
        "colab": {
          "base_uri": "https://localhost:8080/"
        },
        "id": "Y7mxcjcCNK_z",
        "outputId": "d6e7edbc-a1a5-41dc-b4f5-14e843a84096"
      },
      "execution_count": 38,
      "outputs": [
        {
          "output_type": "stream",
          "name": "stdout",
          "text": [
            "              precision    recall  f1-score   support\n",
            "\n",
            "           0       0.75      0.75      0.75       775\n",
            "           1       0.31      0.32      0.32       280\n",
            "\n",
            "    accuracy                           0.64      1055\n",
            "   macro avg       0.53      0.53      0.53      1055\n",
            "weighted avg       0.64      0.64      0.64      1055\n",
            "\n"
          ]
        }
      ]
    },
    {
      "cell_type": "markdown",
      "source": [
        "É possível ver que o modelo é muito ruim em predizer a classe de positiva, **churn = Yes**, com um recall de 32%. Mas possui um recall de 75% para a classe ne gativa, **churn = No**. \n",
        "\n",
        "Como há muito mais dado da classe negativa, olhar apenas o resultado final de acurácia não nos ajuda muito, pois ele é um valor que nos engana.\n",
        "\n",
        "O padrão se parece com o resultado da validação cruzada, há um desbalanço entre os resultados. Como queremos os cliente que abandonam o plano, ou seja, a **classe positiva**, o resultado não é bom."
      ],
      "metadata": {
        "id": "rL_cviECNqNT"
      }
    },
    {
      "cell_type": "markdown",
      "source": [
        "#### **Criando os modelos para os dados desbalanceados**\n",
        "\n",
        "Vou constuir uma função para treino com validação cruzada e disposição de informações para o usuário. Irei avaliar as métricas de precisão, recall e f1-score macro para as duas classes.\n",
        "\n",
        "Os modelos escolhidos para avaliação são: SVC, Random Forest e Bauve Bayes."
      ],
      "metadata": {
        "id": "b2xSbhEZPAZt"
      }
    },
    {
      "cell_type": "code",
      "source": [
        "def validacao_cruzada(modelo, nome, X_cv, y_cv, cv):\n",
        "\n",
        "  warnings.filterwarnings('ignore')\n",
        "\n",
        "  modelo_cv = cross_validate(modelo, X_cv, y_cv, cv=cv, scoring=['accuracy', 'recall', 'precision', 'f1_macro', 'roc_auc'], return_estimator=True)\n",
        "\n",
        "  print('*****************************************************************************')\n",
        "  print(f'*      Resultados do treino com validação cruzada para o {nome}')\n",
        "  print('*****************************************************************************')\n",
        "  print(f'* Acurácia: {modelo_cv[\"test_accuracy\"]}')\n",
        "  print(f'* Acurácia média: {modelo_cv[\"test_accuracy\"].mean():.4f}')\n",
        "  print('*-----------------------------------------------------------------------------')\n",
        "  print(f'* Precisão: {modelo_cv[\"test_precision\"]}')\n",
        "  print(f'* Precisão média: {modelo_cv[\"test_precision\"].mean():.4f}')\n",
        "  print('*-----------------------------------------------------------------------------')\n",
        "  print(f'* Revocação: {modelo_cv[\"test_recall\"]}')\n",
        "  print(f'* Revocação média: {modelo_cv[\"test_recall\"].mean():.4f}')\n",
        "  print('*-----------------------------------------------------------------------------')\n",
        "  print(f'* F1_Score: {modelo_cv[\"test_f1_macro\"]}')\n",
        "  print(f'* F1_Score médio: {modelo_cv[\"test_f1_macro\"].mean():.4f}')\n",
        "  print('*-----------------------------------------------------------------------------')\n",
        "  print(f'* ROC AUC: {modelo_cv[\"test_roc_auc\"]}')\n",
        "  print(f'* ROC AUC médio: {modelo_cv[\"test_roc_auc\"].mean():.4f}')\n",
        "  print('*****************************************************************************')\n",
        "\n",
        "  return modelo_cv"
      ],
      "metadata": {
        "id": "vP-4hkqwVBYm"
      },
      "execution_count": 39,
      "outputs": []
    },
    {
      "cell_type": "code",
      "source": [
        "def teste_melhor_modelo(modelo, nome, X_test, y_test):\n",
        "\n",
        "  warnings.filterwarnings('ignore')\n",
        "\n",
        "  pred_dict = {'0':{'precision':[], 'recall':[], 'f1-score':[]},\n",
        "               '1':{'precision':[], 'recall':[], 'f1-score':[]}}\n",
        "\n",
        "  for i in range(len(modelo['estimator'])):\n",
        "    y_pred_cv = modelo['estimator'][i].predict(X_test)\n",
        "    \n",
        "    \n",
        "    predict_report = classification_report(y_test, y_pred_cv, output_dict=True)\n",
        "\n",
        "    pred_dict['0']['f1-score'].append(predict_report['0']['f1-score'])\n",
        "    pred_dict['0']['precision'].append(predict_report['0']['precision'])\n",
        "    pred_dict['0']['recall'].append(predict_report['0']['recall'])\n",
        "    pred_dict['1']['f1-score'].append(predict_report['1']['f1-score'])\n",
        "    pred_dict['1']['precision'].append(predict_report['1']['precision'])\n",
        "    pred_dict['1']['recall'].append(predict_report['1']['recall'])\n",
        "\n",
        "    print('*****************************************************************************')\n",
        "    print(f'classification report para o modelo {nome} {i+1}:')\n",
        "    print('*****************************************************************************')\n",
        "    print(classification_report(y_test, y_pred_cv, output_dict=False))\n",
        "    print('*****************************************************************************')\n",
        "    print(' ')\n",
        "\n",
        "  return None"
      ],
      "metadata": {
        "id": "-3MTqOfkwxV1"
      },
      "execution_count": 40,
      "outputs": []
    },
    {
      "cell_type": "code",
      "source": [
        "# Importando o SVC e criando o modelo\n",
        "from sklearn.svm import SVC\n",
        "\n",
        "svc = SVC()"
      ],
      "metadata": {
        "id": "AKUYRwNfg6d6"
      },
      "execution_count": 41,
      "outputs": []
    },
    {
      "cell_type": "code",
      "source": [
        "# treinando o modelo com a função criada\n",
        "modelo_svc = validacao_cruzada(svc, 'SVC', X_train_enc, y_train_enc.ravel(), 5)"
      ],
      "metadata": {
        "colab": {
          "base_uri": "https://localhost:8080/"
        },
        "id": "XU7QpnvIhAzk",
        "outputId": "d8a7b401-24e2-48df-9f48-15b96a46fc86"
      },
      "execution_count": 42,
      "outputs": [
        {
          "output_type": "stream",
          "name": "stdout",
          "text": [
            "*****************************************************************************\n",
            "*      Resultados do treino com validação cruzada para o SVC\n",
            "*****************************************************************************\n",
            "* Acurácia: [0.73411371 0.73411371 0.73472803 0.73389121 0.73389121]\n",
            "* Acurácia média: 0.7341\n",
            "*-----------------------------------------------------------------------------\n",
            "* Precisão: [0. 0. 0. 0. 0.]\n",
            "* Precisão média: 0.0000\n",
            "*-----------------------------------------------------------------------------\n",
            "* Revocação: [0. 0. 0. 0. 0.]\n",
            "* Revocação média: 0.0000\n",
            "*-----------------------------------------------------------------------------\n",
            "* F1_Score: [0.42333655 0.42333655 0.42354076 0.42326255 0.42326255]\n",
            "* F1_Score médio: 0.4233\n",
            "*-----------------------------------------------------------------------------\n",
            "* ROC AUC: [0.7995874  0.79271429 0.78172539 0.79119784 0.79375444]\n",
            "* ROC AUC médio: 0.7918\n",
            "*****************************************************************************\n"
          ]
        }
      ]
    },
    {
      "cell_type": "markdown",
      "source": [
        "**Pode ser verificado que o SVC não performa bem com os dados desbalanceados. A revocação e precisão da classe positiva é ruim. O desequilíbrio nos resultados permanece entre as classes.**"
      ],
      "metadata": {
        "id": "jqS7mTN8I3vu"
      }
    },
    {
      "cell_type": "code",
      "source": [
        "# Random Forest\n",
        "\n",
        "from sklearn.ensemble import RandomForestClassifier\n",
        "\n",
        "RF = RandomForestClassifier()"
      ],
      "metadata": {
        "id": "PzA6v7Ahj3H7"
      },
      "execution_count": 43,
      "outputs": []
    },
    {
      "cell_type": "code",
      "source": [
        "modelo_RF = validacao_cruzada(RF, 'RF', X_train_enc, y_train_enc.ravel(), 5)"
      ],
      "metadata": {
        "colab": {
          "base_uri": "https://localhost:8080/"
        },
        "id": "_RenGPfHj5Zd",
        "outputId": "257555b7-5306-4741-faa8-e21c9920b731"
      },
      "execution_count": 44,
      "outputs": [
        {
          "output_type": "stream",
          "name": "stdout",
          "text": [
            "*****************************************************************************\n",
            "*      Resultados do treino com validação cruzada para o RF\n",
            "*****************************************************************************\n",
            "* Acurácia: [0.78344482 0.77591973 0.79414226 0.7832636  0.79665272]\n",
            "* Acurácia média: 0.7867\n",
            "*-----------------------------------------------------------------------------\n",
            "* Precisão: [0.62447257 0.60869565 0.63498099 0.61389961 0.64258555]\n",
            "* Precisão média: 0.6249\n",
            "*-----------------------------------------------------------------------------\n",
            "* Revocação: [0.46540881 0.44025157 0.52681388 0.5        0.53144654]\n",
            "* Revocação média: 0.4928\n",
            "*-----------------------------------------------------------------------------\n",
            "* F1_Score: [0.69617129 0.68280634 0.71997523 0.70413469 0.72371362]\n",
            "* F1_Score médio: 0.7054\n",
            "*-----------------------------------------------------------------------------\n",
            "* ROC AUC: [0.81275877 0.81554347 0.82445046 0.82073679 0.83245125]\n",
            "* ROC AUC médio: 0.8212\n",
            "*****************************************************************************\n"
          ]
        }
      ]
    },
    {
      "cell_type": "markdown",
      "source": [
        "**O Random Forest apresenta um resultado melhor com F1-Score médio de 0.7 e revocação 0.5 para a classe positiva, ou seja, ainda há um desequilíbrio nos resultados, mas é melhor do que o SVC.**"
      ],
      "metadata": {
        "id": "sKn2HXYkJUmM"
      }
    },
    {
      "cell_type": "code",
      "source": [
        "# Naive Bayes GaussianNB\n",
        "\n",
        "from sklearn.naive_bayes import GaussianNB\n",
        "\n",
        "NB = GaussianNB()"
      ],
      "metadata": {
        "id": "hLyV6WRskXku"
      },
      "execution_count": 45,
      "outputs": []
    },
    {
      "cell_type": "code",
      "source": [
        "modelo_NB = validacao_cruzada(NB, 'NB', X_train_enc, y_train_enc.ravel(), 5)"
      ],
      "metadata": {
        "colab": {
          "base_uri": "https://localhost:8080/"
        },
        "id": "yvcObHQ-kbeS",
        "outputId": "3120c209-c0af-4e4a-fd85-809701436435"
      },
      "execution_count": 46,
      "outputs": [
        {
          "output_type": "stream",
          "name": "stdout",
          "text": [
            "*****************************************************************************\n",
            "*      Resultados do treino com validação cruzada para o NB\n",
            "*****************************************************************************\n",
            "* Acurácia: [0.67307692 0.69314381 0.68702929 0.71882845 0.70962343]\n",
            "* Acurácia média: 0.6963\n",
            "*-----------------------------------------------------------------------------\n",
            "* Precisão: [0.44045677 0.45663717 0.45193929 0.484375   0.47487002]\n",
            "* Precisão média: 0.4617\n",
            "*-----------------------------------------------------------------------------\n",
            "* Revocação: [0.8490566  0.81132075 0.84542587 0.87735849 0.86163522]\n",
            "* Revocação média: 0.8490\n",
            "*-----------------------------------------------------------------------------\n",
            "* F1_Score: [0.65619828 0.67058202 0.66815414 0.69978107 0.69009174]\n",
            "* F1_Score médio: 0.6770\n",
            "*-----------------------------------------------------------------------------\n",
            "* ROC AUC: [0.79925789 0.80258521 0.82526426 0.85176739 0.82681096]\n",
            "* ROC AUC médio: 0.8211\n",
            "*****************************************************************************\n"
          ]
        }
      ]
    },
    {
      "cell_type": "markdown",
      "source": [
        "**O Naive Bayes aparenta ser um algoritmo melhor nessa situação, pois possui um F1-Score médio de 0.67 e revocação para a classe 0.84. Aqui pode ser percebido umam melhora na revocação mas a precisão caiu para algo em torno de 0.46.**\n",
        "\n",
        "**Olhando para o F1-Score o Random Forest parece ser um pouco mais equilibrado.**"
      ],
      "metadata": {
        "id": "PN-85N3RJvpr"
      }
    },
    {
      "cell_type": "markdown",
      "source": [
        "### **Avaliações com os dados balanceados**"
      ],
      "metadata": {
        "id": "nDkURNA1l3M8"
      }
    },
    {
      "cell_type": "markdown",
      "source": [
        "Agora irei testar as opções de balanceamento de dados para os treinar os modelos.\n",
        "\n",
        "Com a biblioteca [imblearn](https://imbalanced-learn.org/stable/) testarei 4 opções de balanceamento, 2 opções de under sampling e 2 de over sampling:\n",
        "\n",
        "1. Random under-sampling\n",
        "2. TomekLinks\n",
        "3. Random over-sampling\n",
        "4. SMOTE"
      ],
      "metadata": {
        "id": "5UEmuUyo2JUf"
      }
    },
    {
      "cell_type": "markdown",
      "source": [
        "#### **Balanceamento com Random Under Sampling**"
      ],
      "metadata": {
        "id": "FP_NzrSb6ETQ"
      }
    },
    {
      "cell_type": "code",
      "source": [
        "from imblearn.under_sampling import RandomUnderSampler\n",
        "\n",
        "rus = RandomUnderSampler()\n",
        "\n",
        "X_train_rus, y_train_rus = rus.fit_resample(X_train_enc, y_train_enc)\n",
        "\n",
        "print(f'Shape do X_train com Under Sampling: {X_train_rus.shape}')\n",
        "print(f'Shape do y_train com Under Sampling: {y_train_rus.shape}')\n",
        "\n",
        "print(f'Valores únicos das classes: {np.unique(y_train_rus, return_counts=True)}')"
      ],
      "metadata": {
        "id": "JVG3wQSJl6VK",
        "colab": {
          "base_uri": "https://localhost:8080/"
        },
        "outputId": "66bbfd83-8a27-457a-e8be-c79b7f72e1df"
      },
      "execution_count": 47,
      "outputs": [
        {
          "output_type": "stream",
          "name": "stdout",
          "text": [
            "Shape do X_train com Under Sampling: (3178, 40)\n",
            "Shape do y_train com Under Sampling: (3178,)\n",
            "Valores únicos das classes: (array([0, 1]), array([1589, 1589]))\n"
          ]
        }
      ]
    },
    {
      "cell_type": "code",
      "source": [
        "svc = SVC()\n",
        "modelo_svc_rus = validacao_cruzada(svc, 'SVC', X_train_rus, y_train_rus.ravel(), 5)"
      ],
      "metadata": {
        "colab": {
          "base_uri": "https://localhost:8080/"
        },
        "id": "-YxwsFGo-8pw",
        "outputId": "251586b0-9f6f-48e2-aedf-2927592ba1bd"
      },
      "execution_count": 48,
      "outputs": [
        {
          "output_type": "stream",
          "name": "stdout",
          "text": [
            "*****************************************************************************\n",
            "*      Resultados do treino com validação cruzada para o SVC\n",
            "*****************************************************************************\n",
            "* Acurácia: [0.63836478 0.63836478 0.62735849 0.59212598 0.64566929]\n",
            "* Acurácia média: 0.6284\n",
            "*-----------------------------------------------------------------------------\n",
            "* Precisão: [0.68032787 0.6641791  0.65517241 0.61068702 0.66666667]\n",
            "* Precisão média: 0.6554\n",
            "*-----------------------------------------------------------------------------\n",
            "* Revocação: [0.52201258 0.55974843 0.53773585 0.50473186 0.58490566]\n",
            "* Revocação média: 0.5418\n",
            "*-----------------------------------------------------------------------------\n",
            "* F1_Score: [0.63340183 0.63611578 0.62434112 0.58892896 0.64439583]\n",
            "* F1_Score médio: 0.6254\n",
            "*-----------------------------------------------------------------------------\n",
            "* ROC AUC: [0.70907994 0.69588822 0.70357185 0.66517866 0.70829117]\n",
            "* ROC AUC médio: 0.6964\n",
            "*****************************************************************************\n"
          ]
        }
      ]
    },
    {
      "cell_type": "code",
      "source": [
        "RF = RandomForestClassifier()\n",
        "modelo_RF_rus = validacao_cruzada(RF, 'RF', X_train_rus, y_train_rus.ravel(), 5)"
      ],
      "metadata": {
        "colab": {
          "base_uri": "https://localhost:8080/"
        },
        "id": "hIUZySbH_ZSb",
        "outputId": "e23a45a1-1644-47bc-a292-4fc3ea8c78c2"
      },
      "execution_count": 49,
      "outputs": [
        {
          "output_type": "stream",
          "name": "stdout",
          "text": [
            "*****************************************************************************\n",
            "*      Resultados do treino com validação cruzada para o RF\n",
            "*****************************************************************************\n",
            "* Acurácia: [0.74528302 0.72641509 0.74371069 0.77322835 0.7496063 ]\n",
            "* Acurácia média: 0.7476\n",
            "*-----------------------------------------------------------------------------\n",
            "* Precisão: [0.73780488 0.71556886 0.73134328 0.77115987 0.73873874]\n",
            "* Precisão média: 0.7389\n",
            "*-----------------------------------------------------------------------------\n",
            "* Revocação: [0.76100629 0.75157233 0.77044025 0.77602524 0.77358491]\n",
            "* Revocação média: 0.7665\n",
            "*-----------------------------------------------------------------------------\n",
            "* F1_Score: [0.74522003 0.72624184 0.74352745 0.77322778 0.74944723]\n",
            "* F1_Score médio: 0.7475\n",
            "*-----------------------------------------------------------------------------\n",
            "* ROC AUC: [0.82160516 0.81462857 0.82208477 0.82729203 0.83351189]\n",
            "* ROC AUC médio: 0.8238\n",
            "*****************************************************************************\n"
          ]
        }
      ]
    },
    {
      "cell_type": "code",
      "source": [
        "NB = GaussianNB()\n",
        "modelo_NB_rus = validacao_cruzada(NB, 'NB', X_train_rus, y_train_rus.ravel(), 5)"
      ],
      "metadata": {
        "colab": {
          "base_uri": "https://localhost:8080/"
        },
        "id": "zyAD3-xN_t2f",
        "outputId": "3e754c3a-b8c0-480e-9008-f7c60ef66b81"
      },
      "execution_count": 50,
      "outputs": [
        {
          "output_type": "stream",
          "name": "stdout",
          "text": [
            "*****************************************************************************\n",
            "*      Resultados do treino com validação cruzada para o NB\n",
            "*****************************************************************************\n",
            "* Acurácia: [0.72955975 0.71383648 0.72169811 0.78110236 0.7480315 ]\n",
            "* Acurácia média: 0.7388\n",
            "*-----------------------------------------------------------------------------\n",
            "* Precisão: [0.68341709 0.67435897 0.67237164 0.73177083 0.70050761]\n",
            "* Precisão média: 0.6925\n",
            "*-----------------------------------------------------------------------------\n",
            "* Revocação: [0.85534591 0.82704403 0.86477987 0.88643533 0.86792453]\n",
            "* Revocação média: 0.8603\n",
            "*-----------------------------------------------------------------------------\n",
            "* F1_Score: [0.72521201 0.71012141 0.71588153 0.77871181 0.74427127]\n",
            "* F1_Score médio: 0.7348\n",
            "*-----------------------------------------------------------------------------\n",
            "* ROC AUC: [0.81187453 0.78989162 0.80314268 0.86121858 0.81913775]\n",
            "* ROC AUC médio: 0.8171\n",
            "*****************************************************************************\n"
          ]
        }
      ]
    },
    {
      "cell_type": "markdown",
      "source": [
        "**Com o Random Under Sampling é possível perceber um equilíbrio nos resultados e o Random Forest apresenta o melhor F1-Score e ROC_AUC macro para as duas classes. Porém, o Recall do Naive Bayes é maior para a classe positiva.**"
      ],
      "metadata": {
        "id": "beJQzC58LL01"
      }
    },
    {
      "cell_type": "markdown",
      "source": [
        "#### **Balanceamento com TomekLinks**"
      ],
      "metadata": {
        "id": "Q_kjdyKhASkP"
      }
    },
    {
      "cell_type": "code",
      "source": [
        "from imblearn.under_sampling import TomekLinks\n",
        "\n",
        "tl = TomekLinks()\n",
        "\n",
        "X_train_tl, y_train_tl = tl.fit_resample(X_train_enc, y_train_enc)\n",
        "\n",
        "print(f'Shape do X_train com Under Sampling: {X_train_tl.shape}')\n",
        "print(f'Shape do y_train com Under Sampling: {y_train_tl.shape}')\n",
        "\n",
        "print(f'Valores únicos das classes: {np.unique(y_train_tl, return_counts=True)}')"
      ],
      "metadata": {
        "colab": {
          "base_uri": "https://localhost:8080/"
        },
        "id": "7ipLT9eO_6CR",
        "outputId": "e378aed8-cd72-44d6-b3d0-041572888cd9"
      },
      "execution_count": 51,
      "outputs": [
        {
          "output_type": "stream",
          "name": "stdout",
          "text": [
            "Shape do X_train com Under Sampling: (5485, 40)\n",
            "Shape do y_train com Under Sampling: (5485,)\n",
            "Valores únicos das classes: (array([0, 1]), array([3896, 1589]))\n"
          ]
        }
      ]
    },
    {
      "cell_type": "code",
      "source": [
        "svc = SVC()\n",
        "\n",
        "modelo_svc_tl = validacao_cruzada(svc, 'SVC', X_train_tl, y_train_tl.ravel(), 5)"
      ],
      "metadata": {
        "colab": {
          "base_uri": "https://localhost:8080/"
        },
        "id": "OLigkZKjA0RP",
        "outputId": "b7036f33-3cb0-40b1-8e5f-8e57669fe6a4"
      },
      "execution_count": 52,
      "outputs": [
        {
          "output_type": "stream",
          "name": "stdout",
          "text": [
            "*****************************************************************************\n",
            "*      Resultados do treino com validação cruzada para o SVC\n",
            "*****************************************************************************\n",
            "* Acurácia: [0.71103008 0.71011851 0.71011851 0.71011851 0.71011851]\n",
            "* Acurácia média: 0.7103\n",
            "*-----------------------------------------------------------------------------\n",
            "* Precisão: [0. 0. 0. 0. 0.]\n",
            "* Precisão média: 0.0000\n",
            "*-----------------------------------------------------------------------------\n",
            "* Revocação: [0. 0. 0. 0. 0.]\n",
            "* Revocação média: 0.0000\n",
            "*-----------------------------------------------------------------------------\n",
            "* F1_Score: [0.41555674 0.4152452  0.4152452  0.4152452  0.4152452 ]\n",
            "* F1_Score médio: 0.4153\n",
            "*-----------------------------------------------------------------------------\n",
            "* ROC AUC: [0.82275338 0.82413754 0.80462979 0.8125439  0.8029081 ]\n",
            "* ROC AUC médio: 0.8134\n",
            "*****************************************************************************\n"
          ]
        }
      ]
    },
    {
      "cell_type": "markdown",
      "source": [
        "**Pode ser obsevado que o método TomeLinks não equilibra as classes deixando 50% - 50%.**\n",
        "\n",
        "**Logo, o resultado não é bom.**"
      ],
      "metadata": {
        "id": "WYQBcRJSC21w"
      }
    },
    {
      "cell_type": "code",
      "source": [
        "RF = RandomForestClassifier()\n",
        "\n",
        "modelo_RF_tl = validacao_cruzada(RF, 'RF', X_train_tl, y_train_tl.ravel(), 5)"
      ],
      "metadata": {
        "colab": {
          "base_uri": "https://localhost:8080/"
        },
        "id": "4nS0CnD-Dejn",
        "outputId": "d88f2f11-6f7d-4472-fbaa-4aae1cef4ccd"
      },
      "execution_count": 53,
      "outputs": [
        {
          "output_type": "stream",
          "name": "stdout",
          "text": [
            "*****************************************************************************\n",
            "*      Resultados do treino com validação cruzada para o RF\n",
            "*****************************************************************************\n",
            "* Acurácia: [0.80218778 0.78304467 0.81221513 0.80856882 0.80401094]\n",
            "* Acurácia média: 0.8020\n",
            "*-----------------------------------------------------------------------------\n",
            "* Precisão: [0.69379845 0.65873016 0.70289855 0.7        0.6900369 ]\n",
            "* Precisão média: 0.6891\n",
            "*-----------------------------------------------------------------------------\n",
            "* Revocação: [0.56466877 0.52201258 0.61006289 0.59433962 0.58805031]\n",
            "* Revocação média: 0.5758\n",
            "*-----------------------------------------------------------------------------\n",
            "* F1_Score: [0.74428767 0.71795221 0.76222433 0.75604875 0.75050907]\n",
            "* F1_Score médio: 0.7462\n",
            "*-----------------------------------------------------------------------------\n",
            "* ROC AUC: [0.84713662 0.84408127 0.85453452 0.85585657 0.86140714]\n",
            "* ROC AUC médio: 0.8526\n",
            "*****************************************************************************\n"
          ]
        }
      ]
    },
    {
      "cell_type": "code",
      "source": [
        "NB = GaussianNB()\n",
        "\n",
        "modelo_NB_tl = validacao_cruzada(NB, 'NB', X_train_tl, y_train_tl.ravel(), 5)"
      ],
      "metadata": {
        "colab": {
          "base_uri": "https://localhost:8080/"
        },
        "id": "DUmr9bqcFu4m",
        "outputId": "92c9894d-d71d-42e4-a062-9bf152049f84"
      },
      "execution_count": 54,
      "outputs": [
        {
          "output_type": "stream",
          "name": "stdout",
          "text": [
            "*****************************************************************************\n",
            "*      Resultados do treino com validação cruzada para o NB\n",
            "*****************************************************************************\n",
            "* Acurácia: [0.70191431 0.71558797 0.71467639 0.75205105 0.73199635]\n",
            "* Acurácia média: 0.7232\n",
            "*-----------------------------------------------------------------------------\n",
            "* Precisão: [0.49090909 0.50581395 0.5047081  0.54474708 0.52290076]\n",
            "* Precisão média: 0.5138\n",
            "*-----------------------------------------------------------------------------\n",
            "* Revocação: [0.85173502 0.82075472 0.8427673  0.88050314 0.86163522]\n",
            "* Revocação média: 0.8515\n",
            "*-----------------------------------------------------------------------------\n",
            "* F1_Score: [0.68820844 0.69824376 0.69930861 0.7366853  0.71668787]\n",
            "* F1_Score médio: 0.7078\n",
            "*-----------------------------------------------------------------------------\n",
            "* ROC AUC: [0.82626385 0.82289018 0.84322951 0.87289785 0.84282381]\n",
            "* ROC AUC médio: 0.8416\n",
            "*****************************************************************************\n"
          ]
        }
      ]
    },
    {
      "cell_type": "markdown",
      "source": [
        "**Os resultados de Recall e F1-Score dos modelos não são melhores do que os resultados com balanceamento com Random Under Sampling.**"
      ],
      "metadata": {
        "id": "51PMgKeSNYud"
      }
    },
    {
      "cell_type": "markdown",
      "source": [
        "#### **Balanceamento com Random Over Sampling**"
      ],
      "metadata": {
        "id": "Nuu_R6hwGD2j"
      }
    },
    {
      "cell_type": "code",
      "source": [
        "from imblearn.over_sampling import RandomOverSampler\n",
        "\n",
        "ros = RandomOverSampler()\n",
        "\n",
        "X_train_ros, y_train_ros = ros.fit_resample(X_train_enc, y_train_enc)\n",
        "\n",
        "print(f'Shape do X_train com Under Sampling: {X_train_ros.shape}')\n",
        "print(f'Shape do y_train com Under Sampling: {y_train_ros.shape}')\n",
        "\n",
        "print(f'Valores únicos das classes: {np.unique(y_train_ros, return_counts=True)}')"
      ],
      "metadata": {
        "colab": {
          "base_uri": "https://localhost:8080/"
        },
        "id": "JQ0Yo86EF3f9",
        "outputId": "57f06474-5bd1-49fd-97ae-3c96ffd4fd4f"
      },
      "execution_count": 55,
      "outputs": [
        {
          "output_type": "stream",
          "name": "stdout",
          "text": [
            "Shape do X_train com Under Sampling: (8776, 40)\n",
            "Shape do y_train com Under Sampling: (8776,)\n",
            "Valores únicos das classes: (array([0, 1]), array([4388, 4388]))\n"
          ]
        }
      ]
    },
    {
      "cell_type": "code",
      "source": [
        "svc = SVC()\n",
        "\n",
        "modelo_svc_ros = validacao_cruzada(svc, 'SVC', X_train_ros, y_train_ros.ravel(), 5)"
      ],
      "metadata": {
        "colab": {
          "base_uri": "https://localhost:8080/"
        },
        "id": "JXBI529IGcRY",
        "outputId": "4e173fd9-8d6a-4a2a-dff0-3744702406a8"
      },
      "execution_count": 56,
      "outputs": [
        {
          "output_type": "stream",
          "name": "stdout",
          "text": [
            "*****************************************************************************\n",
            "*      Resultados do treino com validação cruzada para o SVC\n",
            "*****************************************************************************\n",
            "* Acurácia: [0.65660592 0.66153846 0.64387464 0.65071225 0.61310541]\n",
            "* Acurácia média: 0.6452\n",
            "*-----------------------------------------------------------------------------\n",
            "* Precisão: [0.68115942 0.68258065 0.66755319 0.67411301 0.63109354]\n",
            "* Precisão média: 0.6673\n",
            "*-----------------------------------------------------------------------------\n",
            "* Revocação: [0.58883827 0.6031927  0.57240593 0.58428246 0.54555809]\n",
            "* Revocação média: 0.5789\n",
            "*-----------------------------------------------------------------------------\n",
            "* F1_Score: [0.65502162 0.66036862 0.64202948 0.64917959 0.61134842]\n",
            "* F1_Score médio: 0.6436\n",
            "*-----------------------------------------------------------------------------\n",
            "* ROC AUC: [0.73723219 0.74446173 0.72087815 0.73287806 0.69983546]\n",
            "* ROC AUC médio: 0.7271\n",
            "*****************************************************************************\n"
          ]
        }
      ]
    },
    {
      "cell_type": "code",
      "source": [
        "RF = RandomForestClassifier()\n",
        "\n",
        "modelo_RF_ros = validacao_cruzada(RF, 'RF', X_train_ros, y_train_ros.ravel(), 5)"
      ],
      "metadata": {
        "colab": {
          "base_uri": "https://localhost:8080/"
        },
        "id": "eJCUdChoGrKn",
        "outputId": "0e47658f-66cc-4f9b-b0e8-0e4ea41ad756"
      },
      "execution_count": 57,
      "outputs": [
        {
          "output_type": "stream",
          "name": "stdout",
          "text": [
            "*****************************************************************************\n",
            "*      Resultados do treino com validação cruzada para o RF\n",
            "*****************************************************************************\n",
            "* Acurácia: [0.89749431 0.89059829 0.91282051 0.91111111 0.92079772]\n",
            "* Acurácia média: 0.9066\n",
            "*-----------------------------------------------------------------------------\n",
            "* Precisão: [0.85758197 0.85639958 0.85145631 0.85185185 0.8633235 ]\n",
            "* Precisão média: 0.8561\n",
            "*-----------------------------------------------------------------------------\n",
            "* Revocação: [0.95330296 0.93842645 1.         0.99544419 1.        ]\n",
            "* Revocação média: 0.9774\n",
            "*-----------------------------------------------------------------------------\n",
            "* F1_Score: [0.89717404 0.89035305 0.91216162 0.91046574 0.92029048]\n",
            "* F1_Score médio: 0.9061\n",
            "*-----------------------------------------------------------------------------\n",
            "* ROC AUC: [0.96024823 0.9636847  0.98363519 0.98240923 0.98743192]\n",
            "* ROC AUC médio: 0.9755\n",
            "*****************************************************************************\n"
          ]
        }
      ]
    },
    {
      "cell_type": "code",
      "source": [
        "NB = GaussianNB()\n",
        "\n",
        "modelo_NB_ros = validacao_cruzada(NB, 'NB', X_train_ros, y_train_ros.ravel(), 5)"
      ],
      "metadata": {
        "colab": {
          "base_uri": "https://localhost:8080/"
        },
        "id": "a5myEVsYG55d",
        "outputId": "cb19f57c-c826-4f52-badc-348643aef357"
      },
      "execution_count": 58,
      "outputs": [
        {
          "output_type": "stream",
          "name": "stdout",
          "text": [
            "*****************************************************************************\n",
            "*      Resultados do treino com validação cruzada para o NB\n",
            "*****************************************************************************\n",
            "* Acurácia: [0.71810934 0.74700855 0.72934473 0.74415954 0.74700855]\n",
            "* Acurácia média: 0.7371\n",
            "*-----------------------------------------------------------------------------\n",
            "* Precisão: [0.67174888 0.69807868 0.68715084 0.70140845 0.70471698]\n",
            "* Precisão média: 0.6926\n",
            "*-----------------------------------------------------------------------------\n",
            "* Revocação: [0.85307517 0.8700114  0.84150513 0.85079727 0.85079727]\n",
            "* Revocação média: 0.8532\n",
            "*-----------------------------------------------------------------------------\n",
            "* F1_Score: [0.71287921 0.7431538  0.72592631 0.74118964 0.74422754]\n",
            "* F1_Score médio: 0.7335\n",
            "*-----------------------------------------------------------------------------\n",
            "* ROC AUC: [0.80183984 0.82646629 0.81858128 0.81805272 0.82721239]\n",
            "* ROC AUC médio: 0.8184\n",
            "*****************************************************************************\n"
          ]
        }
      ]
    },
    {
      "cell_type": "markdown",
      "source": [
        "**Os resultados com Random Over Sampling apresentam resultados interessantes e o Random Forest parece ser o mais equilibrado com F1-Score médio de 0.90 e alta revocação e precisão para a classe positiva.**\n",
        "\n",
        "**O SVC apresenta resultados muito mais abaixo e o Naive Bayes sofre mais na precisão da classe positiva. O F1-Score é em torno de 0.73, bem diferente do Random Forest.**"
      ],
      "metadata": {
        "id": "2o66l_MYOPO6"
      }
    },
    {
      "cell_type": "markdown",
      "source": [
        "#### **Balanceamento com SMOTE**"
      ],
      "metadata": {
        "id": "SR0uzrQXIB5e"
      }
    },
    {
      "cell_type": "code",
      "source": [
        "from imblearn.over_sampling import SMOTE\n",
        "\n",
        "smote = SMOTE()\n",
        "\n",
        "X_train_smote, y_train_smote = smote.fit_resample(X_train_enc, y_train_enc)\n",
        "\n",
        "print(f'Shape do X_train com Under Sampling: {X_train_smote.shape}')\n",
        "print(f'Shape do y_train com Under Sampling: {y_train_smote.shape}')\n",
        "\n",
        "print(f'Valores únicos das classes: {np.unique(y_train_smote, return_counts=True)}')"
      ],
      "metadata": {
        "colab": {
          "base_uri": "https://localhost:8080/"
        },
        "id": "tOQARzsrHCiE",
        "outputId": "fabd43d6-7dbc-4038-faf3-ed8908134cae"
      },
      "execution_count": 59,
      "outputs": [
        {
          "output_type": "stream",
          "name": "stdout",
          "text": [
            "Shape do X_train com Under Sampling: (8776, 40)\n",
            "Shape do y_train com Under Sampling: (8776,)\n",
            "Valores únicos das classes: (array([0, 1]), array([4388, 4388]))\n"
          ]
        }
      ]
    },
    {
      "cell_type": "code",
      "source": [
        "svc = SVC()\n",
        "\n",
        "modelo_svc_smote = validacao_cruzada(svc, 'SVC', X_train_smote, y_train_smote.ravel(), 5)"
      ],
      "metadata": {
        "colab": {
          "base_uri": "https://localhost:8080/"
        },
        "id": "VveG0kMQIOKs",
        "outputId": "a875466b-eed9-4e39-d8fe-fe57453649d6"
      },
      "execution_count": 60,
      "outputs": [
        {
          "output_type": "stream",
          "name": "stdout",
          "text": [
            "*****************************************************************************\n",
            "*      Resultados do treino com validação cruzada para o SVC\n",
            "*****************************************************************************\n",
            "* Acurácia: [0.65546697 0.66153846 0.65527066 0.65014245 0.63418803]\n",
            "* Acurácia média: 0.6513\n",
            "*-----------------------------------------------------------------------------\n",
            "* Precisão: [0.68175766 0.68496732 0.67847769 0.67277487 0.6489899 ]\n",
            "* Precisão média: 0.6734\n",
            "*-----------------------------------------------------------------------------\n",
            "* Revocação: [0.58314351 0.59749145 0.58950969 0.58542141 0.58542141]\n",
            "* Revocação média: 0.5882\n",
            "*-----------------------------------------------------------------------------\n",
            "* F1_Score: [0.65365535 0.66012944 0.65375799 0.64868599 0.63332791]\n",
            "* F1_Score médio: 0.6499\n",
            "*-----------------------------------------------------------------------------\n",
            "* ROC AUC: [0.73954382 0.74555913 0.73805269 0.74299031 0.72576837]\n",
            "* ROC AUC médio: 0.7384\n",
            "*****************************************************************************\n"
          ]
        }
      ]
    },
    {
      "cell_type": "code",
      "source": [
        "RF = RandomForestClassifier()\n",
        "\n",
        "modelo_RF_smote = validacao_cruzada(RF, 'RF', X_train_smote, y_train_smote.ravel(), 5)"
      ],
      "metadata": {
        "colab": {
          "base_uri": "https://localhost:8080/"
        },
        "id": "6Kejh0HpIXUd",
        "outputId": "ada1235a-d3a0-440b-c1d5-ae04867e221f"
      },
      "execution_count": 61,
      "outputs": [
        {
          "output_type": "stream",
          "name": "stdout",
          "text": [
            "*****************************************************************************\n",
            "*      Resultados do treino com validação cruzada para o RF\n",
            "*****************************************************************************\n",
            "* Acurácia: [0.69646925 0.76923077 0.91168091 0.92136752 0.91908832]\n",
            "* Acurácia média: 0.8436\n",
            "*-----------------------------------------------------------------------------\n",
            "* Precisão: [0.8388998  0.86085627 0.861      0.86706349 0.87022133]\n",
            "* Precisão média: 0.8596\n",
            "*-----------------------------------------------------------------------------\n",
            "* Revocação: [0.48633257 0.64196123 0.98175599 0.99544419 0.98519362]\n",
            "* Revocação média: 0.8181\n",
            "*-----------------------------------------------------------------------------\n",
            "* F1_Score: [0.68244692 0.7654091  0.91125204 0.92092695 0.91872711]\n",
            "* F1_Score médio: 0.8398\n",
            "*-----------------------------------------------------------------------------\n",
            "* ROC AUC: [0.83292882 0.87884055 0.98369298 0.98473518 0.98629231]\n",
            "* ROC AUC médio: 0.9333\n",
            "*****************************************************************************\n"
          ]
        }
      ]
    },
    {
      "cell_type": "code",
      "source": [
        "NB = GaussianNB()\n",
        "\n",
        "modelo_NB_smote = validacao_cruzada(NB, 'NB', X_train_smote, y_train_smote.ravel(), 5)"
      ],
      "metadata": {
        "colab": {
          "base_uri": "https://localhost:8080/"
        },
        "id": "PTx0Mc5EIhtw",
        "outputId": "332e3ddc-9d39-4483-e359-90cffab59192"
      },
      "execution_count": 62,
      "outputs": [
        {
          "output_type": "stream",
          "name": "stdout",
          "text": [
            "*****************************************************************************\n",
            "*      Resultados do treino com validação cruzada para o NB\n",
            "*****************************************************************************\n",
            "* Acurácia: [0.73405467 0.77037037 0.80911681 0.80968661 0.8034188 ]\n",
            "* Acurácia média: 0.7853\n",
            "*-----------------------------------------------------------------------------\n",
            "* Precisão: [0.72508215 0.75       0.75       0.75468165 0.74698795]\n",
            "* Precisão média: 0.7454\n",
            "*-----------------------------------------------------------------------------\n",
            "* Revocação: [0.75398633 0.81071836 0.92702395 0.91799544 0.91799544]\n",
            "* Revocação média: 0.8655\n",
            "*-----------------------------------------------------------------------------\n",
            "* F1_Score: [0.73394898 0.77000447 0.80645012 0.80740545 0.80077954]\n",
            "* F1_Score médio: 0.7837\n",
            "*-----------------------------------------------------------------------------\n",
            "* ROC AUC: [0.8032966  0.83949606 0.886984   0.88649309 0.88303728]\n",
            "* ROC AUC médio: 0.8599\n",
            "*****************************************************************************\n"
          ]
        }
      ]
    },
    {
      "cell_type": "markdown",
      "source": [
        "**Os resultado com balanceamento SMOTE segue o mesmo padrão do balanceamento com random over sampling, sendo o Random Forest o mais interessante.**\n",
        "\n",
        "**Analisando os resultados, escolherei o modelo Random Forest utilizando o balanceamento com Random Under Sampling e Random Over Sampling para avaliação de feature selection.**"
      ],
      "metadata": {
        "id": "MzEjEoGTO-Y-"
      }
    },
    {
      "cell_type": "markdown",
      "source": [
        "Para a próxima etapa irei aplicar feature selection para tentar reduzir o tamanho da nossa matriz de dados e ver se realmente os dados mais importantes estão de acordo com os analisados na semana 2.\n",
        "\n",
        "Da **semana 2** foram encontradas alguns atributos que podem ser importantes na definição da taxa de churn. São eles:\n",
        "1. Atributo da idade\n",
        "2. Atributo de dependentes\n",
        "3. Atributo que indica o tempo de plano do usuário\n",
        "4. Atributo de clientes com mais de uma linha telefônica\n",
        "5. Atibuto que indica o tipo de serviço (Fibra óptica)\n",
        "6. Atributo que indica clientes com streaming ou serviço de TV a cabo\n",
        "7. Atributo de pagamento (CLiente com plano mensal)\n",
        "8. Atributo do tipo de pagamento (Cheque eletrônico)\n",
        "9. Atributo que indica o gasto total do cliente\n",
        "10. Atributo que indica o Gasto mensal\n",
        "\n",
        "Como observei 10 possíveis bons atributos irei determinar, no algoritmo de seleção de features, os 15 melhores atributos como selecionáveis. Assim deixo uma margem de erro para a minha observação anterior."
      ],
      "metadata": {
        "id": "0u1piaj_VT2g"
      }
    },
    {
      "cell_type": "markdown",
      "source": [
        "### **Feature Selection**\n",
        "\n",
        "Com o feature selection analisaremos novamente o balanceamento de dados com os métodos RUS e ROS."
      ],
      "metadata": {
        "id": "g6zlpaosVbSz"
      }
    },
    {
      "cell_type": "code",
      "source": [
        "# Importando o método slectkbest e chi2 para a função de score\n",
        "from sklearn.feature_selection import SelectKBest, chi2"
      ],
      "metadata": {
        "id": "PbuuuvKQQDqH"
      },
      "execution_count": 63,
      "outputs": []
    },
    {
      "cell_type": "code",
      "source": [
        "# Determinando o objeto do feature selector\n",
        "k = 15\n",
        "k_best = SelectKBest(chi2, k=k)\n",
        "\n",
        "k_best.fit(X_train_enc, y_train_enc)"
      ],
      "metadata": {
        "colab": {
          "base_uri": "https://localhost:8080/"
        },
        "id": "NvjJ8xVLQxdL",
        "outputId": "01c58e0d-658c-4066-c1cd-aab243494908"
      },
      "execution_count": 64,
      "outputs": [
        {
          "output_type": "execute_result",
          "data": {
            "text/plain": [
              "SelectKBest(k=15, score_func=<function chi2 at 0x7f958ba40320>)"
            ]
          },
          "metadata": {},
          "execution_count": 64
        }
      ]
    },
    {
      "cell_type": "code",
      "source": [
        "# pegando os melhores atributos e guardando os nomes para filtrar o dataset\n",
        "names_best = k_best.get_feature_names_out()\n",
        "print(f'Os {k} melhores atributos são:\\n\\n{names_best}')"
      ],
      "metadata": {
        "colab": {
          "base_uri": "https://localhost:8080/"
        },
        "id": "Z2W9SxITRBBG",
        "outputId": "bd158669-33eb-4364-b653-fd8b7e2490f6"
      },
      "execution_count": 65,
      "outputs": [
        {
          "output_type": "stream",
          "name": "stdout",
          "text": [
            "Os 15 melhores atributos são:\n",
            "\n",
            "['InternetService_Fiber optic' 'OnlineSecurity_No'\n",
            " 'OnlineSecurity_No internet service' 'OnlineBackup_No internet service'\n",
            " 'DeviceProtection_No internet service' 'TechSupport_No'\n",
            " 'TechSupport_No internet service' 'StreamingTV_No internet service'\n",
            " 'StreamingMovies_No internet service' 'Contract_Month-to-month'\n",
            " 'Contract_Two year' 'PaymentMethod_Electronic check' 'Tenure'\n",
            " 'Charges_Monthly' 'Charges_Total']\n"
          ]
        }
      ]
    },
    {
      "cell_type": "markdown",
      "source": [
        "Dos 10 atributos analisados na semana dois, 6 estão presentes na seleção automática com o algoritmo SelectKBest definido.\n",
        "\n",
        "A seguir, vamos reorganizar os dados filtrando apenas os melhores atributos."
      ],
      "metadata": {
        "id": "5aZbAw_aSbMX"
      }
    },
    {
      "cell_type": "code",
      "source": [
        "# Filtrando os dados\n",
        "X_train_enc_best = X_train_enc[names_best]\n",
        "\n",
        "X_test_enc_best = X_test_enc[names_best]"
      ],
      "metadata": {
        "id": "dNl7Waq2RhjZ"
      },
      "execution_count": 66,
      "outputs": []
    },
    {
      "cell_type": "code",
      "source": [
        "X_train_enc_best"
      ],
      "metadata": {
        "colab": {
          "base_uri": "https://localhost:8080/",
          "height": 522
        },
        "id": "1Ub6FGw3TUNK",
        "outputId": "7bcb503e-d6e5-4e76-a6e6-5a26ed1e8a41"
      },
      "execution_count": 67,
      "outputs": [
        {
          "output_type": "execute_result",
          "data": {
            "text/plain": [
              "      InternetService_Fiber optic  OnlineSecurity_No  \\\n",
              "0                               1                  1   \n",
              "1                               0                  0   \n",
              "2                               0                  1   \n",
              "3                               1                  1   \n",
              "4                               0                  0   \n",
              "...                           ...                ...   \n",
              "5972                            0                  1   \n",
              "5973                            0                  0   \n",
              "5974                            0                  0   \n",
              "5975                            0                  0   \n",
              "5976                            1                  1   \n",
              "\n",
              "      OnlineSecurity_No internet service  OnlineBackup_No internet service  \\\n",
              "0                                      0                                 0   \n",
              "1                                      1                                 1   \n",
              "2                                      0                                 0   \n",
              "3                                      0                                 0   \n",
              "4                                      1                                 1   \n",
              "...                                  ...                               ...   \n",
              "5972                                   0                                 0   \n",
              "5973                                   0                                 0   \n",
              "5974                                   1                                 1   \n",
              "5975                                   0                                 0   \n",
              "5976                                   0                                 0   \n",
              "\n",
              "      DeviceProtection_No internet service  TechSupport_No  \\\n",
              "0                                        0               1   \n",
              "1                                        1               0   \n",
              "2                                        0               1   \n",
              "3                                        0               1   \n",
              "4                                        1               0   \n",
              "...                                    ...             ...   \n",
              "5972                                     0               1   \n",
              "5973                                     0               0   \n",
              "5974                                     1               0   \n",
              "5975                                     0               1   \n",
              "5976                                     0               0   \n",
              "\n",
              "      TechSupport_No internet service  StreamingTV_No internet service  \\\n",
              "0                                   0                                0   \n",
              "1                                   1                                1   \n",
              "2                                   0                                0   \n",
              "3                                   0                                0   \n",
              "4                                   1                                1   \n",
              "...                               ...                              ...   \n",
              "5972                                0                                0   \n",
              "5973                                0                                0   \n",
              "5974                                1                                1   \n",
              "5975                                0                                0   \n",
              "5976                                0                                0   \n",
              "\n",
              "      StreamingMovies_No internet service  Contract_Month-to-month  \\\n",
              "0                                       0                        1   \n",
              "1                                       1                        0   \n",
              "2                                       0                        1   \n",
              "3                                       0                        1   \n",
              "4                                       1                        1   \n",
              "...                                   ...                      ...   \n",
              "5972                                    0                        1   \n",
              "5973                                    0                        0   \n",
              "5974                                    1                        0   \n",
              "5975                                    0                        1   \n",
              "5976                                    0                        1   \n",
              "\n",
              "      Contract_Two year  PaymentMethod_Electronic check  Tenure  \\\n",
              "0                     0                               1       3   \n",
              "1                     1                               0      72   \n",
              "2                     0                               1       3   \n",
              "3                     0                               0       7   \n",
              "4                     0                               0      20   \n",
              "...                 ...                             ...     ...   \n",
              "5972                  0                               0       1   \n",
              "5973                  1                               0      69   \n",
              "5974                  0                               0      23   \n",
              "5975                  0                               0       7   \n",
              "5976                  0                               1      24   \n",
              "\n",
              "      Charges_Monthly  Charges_Total  \n",
              "0               84.30         235.05  \n",
              "1               24.10        1734.65  \n",
              "2               49.15         169.05  \n",
              "3               95.00         655.50  \n",
              "4               19.25         375.25  \n",
              "...               ...            ...  \n",
              "5972            45.85          45.85  \n",
              "5973            81.50        5553.25  \n",
              "5974            19.65         436.90  \n",
              "5975            50.30         355.10  \n",
              "5976            96.00        2122.45  \n",
              "\n",
              "[5977 rows x 15 columns]"
            ],
            "text/html": [
              "\n",
              "  <div id=\"df-eece95f0-6586-4f31-9255-36ce7b502ddc\">\n",
              "    <div class=\"colab-df-container\">\n",
              "      <div>\n",
              "<style scoped>\n",
              "    .dataframe tbody tr th:only-of-type {\n",
              "        vertical-align: middle;\n",
              "    }\n",
              "\n",
              "    .dataframe tbody tr th {\n",
              "        vertical-align: top;\n",
              "    }\n",
              "\n",
              "    .dataframe thead th {\n",
              "        text-align: right;\n",
              "    }\n",
              "</style>\n",
              "<table border=\"1\" class=\"dataframe\">\n",
              "  <thead>\n",
              "    <tr style=\"text-align: right;\">\n",
              "      <th></th>\n",
              "      <th>InternetService_Fiber optic</th>\n",
              "      <th>OnlineSecurity_No</th>\n",
              "      <th>OnlineSecurity_No internet service</th>\n",
              "      <th>OnlineBackup_No internet service</th>\n",
              "      <th>DeviceProtection_No internet service</th>\n",
              "      <th>TechSupport_No</th>\n",
              "      <th>TechSupport_No internet service</th>\n",
              "      <th>StreamingTV_No internet service</th>\n",
              "      <th>StreamingMovies_No internet service</th>\n",
              "      <th>Contract_Month-to-month</th>\n",
              "      <th>Contract_Two year</th>\n",
              "      <th>PaymentMethod_Electronic check</th>\n",
              "      <th>Tenure</th>\n",
              "      <th>Charges_Monthly</th>\n",
              "      <th>Charges_Total</th>\n",
              "    </tr>\n",
              "  </thead>\n",
              "  <tbody>\n",
              "    <tr>\n",
              "      <th>0</th>\n",
              "      <td>1</td>\n",
              "      <td>1</td>\n",
              "      <td>0</td>\n",
              "      <td>0</td>\n",
              "      <td>0</td>\n",
              "      <td>1</td>\n",
              "      <td>0</td>\n",
              "      <td>0</td>\n",
              "      <td>0</td>\n",
              "      <td>1</td>\n",
              "      <td>0</td>\n",
              "      <td>1</td>\n",
              "      <td>3</td>\n",
              "      <td>84.30</td>\n",
              "      <td>235.05</td>\n",
              "    </tr>\n",
              "    <tr>\n",
              "      <th>1</th>\n",
              "      <td>0</td>\n",
              "      <td>0</td>\n",
              "      <td>1</td>\n",
              "      <td>1</td>\n",
              "      <td>1</td>\n",
              "      <td>0</td>\n",
              "      <td>1</td>\n",
              "      <td>1</td>\n",
              "      <td>1</td>\n",
              "      <td>0</td>\n",
              "      <td>1</td>\n",
              "      <td>0</td>\n",
              "      <td>72</td>\n",
              "      <td>24.10</td>\n",
              "      <td>1734.65</td>\n",
              "    </tr>\n",
              "    <tr>\n",
              "      <th>2</th>\n",
              "      <td>0</td>\n",
              "      <td>1</td>\n",
              "      <td>0</td>\n",
              "      <td>0</td>\n",
              "      <td>0</td>\n",
              "      <td>1</td>\n",
              "      <td>0</td>\n",
              "      <td>0</td>\n",
              "      <td>0</td>\n",
              "      <td>1</td>\n",
              "      <td>0</td>\n",
              "      <td>1</td>\n",
              "      <td>3</td>\n",
              "      <td>49.15</td>\n",
              "      <td>169.05</td>\n",
              "    </tr>\n",
              "    <tr>\n",
              "      <th>3</th>\n",
              "      <td>1</td>\n",
              "      <td>1</td>\n",
              "      <td>0</td>\n",
              "      <td>0</td>\n",
              "      <td>0</td>\n",
              "      <td>1</td>\n",
              "      <td>0</td>\n",
              "      <td>0</td>\n",
              "      <td>0</td>\n",
              "      <td>1</td>\n",
              "      <td>0</td>\n",
              "      <td>0</td>\n",
              "      <td>7</td>\n",
              "      <td>95.00</td>\n",
              "      <td>655.50</td>\n",
              "    </tr>\n",
              "    <tr>\n",
              "      <th>4</th>\n",
              "      <td>0</td>\n",
              "      <td>0</td>\n",
              "      <td>1</td>\n",
              "      <td>1</td>\n",
              "      <td>1</td>\n",
              "      <td>0</td>\n",
              "      <td>1</td>\n",
              "      <td>1</td>\n",
              "      <td>1</td>\n",
              "      <td>1</td>\n",
              "      <td>0</td>\n",
              "      <td>0</td>\n",
              "      <td>20</td>\n",
              "      <td>19.25</td>\n",
              "      <td>375.25</td>\n",
              "    </tr>\n",
              "    <tr>\n",
              "      <th>...</th>\n",
              "      <td>...</td>\n",
              "      <td>...</td>\n",
              "      <td>...</td>\n",
              "      <td>...</td>\n",
              "      <td>...</td>\n",
              "      <td>...</td>\n",
              "      <td>...</td>\n",
              "      <td>...</td>\n",
              "      <td>...</td>\n",
              "      <td>...</td>\n",
              "      <td>...</td>\n",
              "      <td>...</td>\n",
              "      <td>...</td>\n",
              "      <td>...</td>\n",
              "      <td>...</td>\n",
              "    </tr>\n",
              "    <tr>\n",
              "      <th>5972</th>\n",
              "      <td>0</td>\n",
              "      <td>1</td>\n",
              "      <td>0</td>\n",
              "      <td>0</td>\n",
              "      <td>0</td>\n",
              "      <td>1</td>\n",
              "      <td>0</td>\n",
              "      <td>0</td>\n",
              "      <td>0</td>\n",
              "      <td>1</td>\n",
              "      <td>0</td>\n",
              "      <td>0</td>\n",
              "      <td>1</td>\n",
              "      <td>45.85</td>\n",
              "      <td>45.85</td>\n",
              "    </tr>\n",
              "    <tr>\n",
              "      <th>5973</th>\n",
              "      <td>0</td>\n",
              "      <td>0</td>\n",
              "      <td>0</td>\n",
              "      <td>0</td>\n",
              "      <td>0</td>\n",
              "      <td>0</td>\n",
              "      <td>0</td>\n",
              "      <td>0</td>\n",
              "      <td>0</td>\n",
              "      <td>0</td>\n",
              "      <td>1</td>\n",
              "      <td>0</td>\n",
              "      <td>69</td>\n",
              "      <td>81.50</td>\n",
              "      <td>5553.25</td>\n",
              "    </tr>\n",
              "    <tr>\n",
              "      <th>5974</th>\n",
              "      <td>0</td>\n",
              "      <td>0</td>\n",
              "      <td>1</td>\n",
              "      <td>1</td>\n",
              "      <td>1</td>\n",
              "      <td>0</td>\n",
              "      <td>1</td>\n",
              "      <td>1</td>\n",
              "      <td>1</td>\n",
              "      <td>0</td>\n",
              "      <td>0</td>\n",
              "      <td>0</td>\n",
              "      <td>23</td>\n",
              "      <td>19.65</td>\n",
              "      <td>436.90</td>\n",
              "    </tr>\n",
              "    <tr>\n",
              "      <th>5975</th>\n",
              "      <td>0</td>\n",
              "      <td>0</td>\n",
              "      <td>0</td>\n",
              "      <td>0</td>\n",
              "      <td>0</td>\n",
              "      <td>1</td>\n",
              "      <td>0</td>\n",
              "      <td>0</td>\n",
              "      <td>0</td>\n",
              "      <td>1</td>\n",
              "      <td>0</td>\n",
              "      <td>0</td>\n",
              "      <td>7</td>\n",
              "      <td>50.30</td>\n",
              "      <td>355.10</td>\n",
              "    </tr>\n",
              "    <tr>\n",
              "      <th>5976</th>\n",
              "      <td>1</td>\n",
              "      <td>1</td>\n",
              "      <td>0</td>\n",
              "      <td>0</td>\n",
              "      <td>0</td>\n",
              "      <td>0</td>\n",
              "      <td>0</td>\n",
              "      <td>0</td>\n",
              "      <td>0</td>\n",
              "      <td>1</td>\n",
              "      <td>0</td>\n",
              "      <td>1</td>\n",
              "      <td>24</td>\n",
              "      <td>96.00</td>\n",
              "      <td>2122.45</td>\n",
              "    </tr>\n",
              "  </tbody>\n",
              "</table>\n",
              "<p>5977 rows × 15 columns</p>\n",
              "</div>\n",
              "      <button class=\"colab-df-convert\" onclick=\"convertToInteractive('df-eece95f0-6586-4f31-9255-36ce7b502ddc')\"\n",
              "              title=\"Convert this dataframe to an interactive table.\"\n",
              "              style=\"display:none;\">\n",
              "        \n",
              "  <svg xmlns=\"http://www.w3.org/2000/svg\" height=\"24px\"viewBox=\"0 0 24 24\"\n",
              "       width=\"24px\">\n",
              "    <path d=\"M0 0h24v24H0V0z\" fill=\"none\"/>\n",
              "    <path d=\"M18.56 5.44l.94 2.06.94-2.06 2.06-.94-2.06-.94-.94-2.06-.94 2.06-2.06.94zm-11 1L8.5 8.5l.94-2.06 2.06-.94-2.06-.94L8.5 2.5l-.94 2.06-2.06.94zm10 10l.94 2.06.94-2.06 2.06-.94-2.06-.94-.94-2.06-.94 2.06-2.06.94z\"/><path d=\"M17.41 7.96l-1.37-1.37c-.4-.4-.92-.59-1.43-.59-.52 0-1.04.2-1.43.59L10.3 9.45l-7.72 7.72c-.78.78-.78 2.05 0 2.83L4 21.41c.39.39.9.59 1.41.59.51 0 1.02-.2 1.41-.59l7.78-7.78 2.81-2.81c.8-.78.8-2.07 0-2.86zM5.41 20L4 18.59l7.72-7.72 1.47 1.35L5.41 20z\"/>\n",
              "  </svg>\n",
              "      </button>\n",
              "      \n",
              "  <style>\n",
              "    .colab-df-container {\n",
              "      display:flex;\n",
              "      flex-wrap:wrap;\n",
              "      gap: 12px;\n",
              "    }\n",
              "\n",
              "    .colab-df-convert {\n",
              "      background-color: #E8F0FE;\n",
              "      border: none;\n",
              "      border-radius: 50%;\n",
              "      cursor: pointer;\n",
              "      display: none;\n",
              "      fill: #1967D2;\n",
              "      height: 32px;\n",
              "      padding: 0 0 0 0;\n",
              "      width: 32px;\n",
              "    }\n",
              "\n",
              "    .colab-df-convert:hover {\n",
              "      background-color: #E2EBFA;\n",
              "      box-shadow: 0px 1px 2px rgba(60, 64, 67, 0.3), 0px 1px 3px 1px rgba(60, 64, 67, 0.15);\n",
              "      fill: #174EA6;\n",
              "    }\n",
              "\n",
              "    [theme=dark] .colab-df-convert {\n",
              "      background-color: #3B4455;\n",
              "      fill: #D2E3FC;\n",
              "    }\n",
              "\n",
              "    [theme=dark] .colab-df-convert:hover {\n",
              "      background-color: #434B5C;\n",
              "      box-shadow: 0px 1px 3px 1px rgba(0, 0, 0, 0.15);\n",
              "      filter: drop-shadow(0px 1px 2px rgba(0, 0, 0, 0.3));\n",
              "      fill: #FFFFFF;\n",
              "    }\n",
              "  </style>\n",
              "\n",
              "      <script>\n",
              "        const buttonEl =\n",
              "          document.querySelector('#df-eece95f0-6586-4f31-9255-36ce7b502ddc button.colab-df-convert');\n",
              "        buttonEl.style.display =\n",
              "          google.colab.kernel.accessAllowed ? 'block' : 'none';\n",
              "\n",
              "        async function convertToInteractive(key) {\n",
              "          const element = document.querySelector('#df-eece95f0-6586-4f31-9255-36ce7b502ddc');\n",
              "          const dataTable =\n",
              "            await google.colab.kernel.invokeFunction('convertToInteractive',\n",
              "                                                     [key], {});\n",
              "          if (!dataTable) return;\n",
              "\n",
              "          const docLinkHtml = 'Like what you see? Visit the ' +\n",
              "            '<a target=\"_blank\" href=https://colab.research.google.com/notebooks/data_table.ipynb>data table notebook</a>'\n",
              "            + ' to learn more about interactive tables.';\n",
              "          element.innerHTML = '';\n",
              "          dataTable['output_type'] = 'display_data';\n",
              "          await google.colab.output.renderOutput(dataTable, element);\n",
              "          const docLink = document.createElement('div');\n",
              "          docLink.innerHTML = docLinkHtml;\n",
              "          element.appendChild(docLink);\n",
              "        }\n",
              "      </script>\n",
              "    </div>\n",
              "  </div>\n",
              "  "
            ]
          },
          "metadata": {},
          "execution_count": 67
        }
      ]
    },
    {
      "cell_type": "code",
      "source": [
        "# Definindo o novo balanceamento para os dados filtrados com RUS\n",
        "rus_best = RandomUnderSampler()\n",
        "\n",
        "X_train_rus_best, y_train_rus_best = rus_best.fit_resample(X_train_enc_best, y_train_enc)\n",
        "\n",
        "print(f'Shape do X_train com Under Sampling: {X_train_rus_best.shape}')\n",
        "print(f'Shape do y_train com Under Sampling: {y_train_rus_best.shape}')\n",
        "\n",
        "print(f'Valores únicos das classes: {np.unique(y_train_rus_best, return_counts=True)}')"
      ],
      "metadata": {
        "colab": {
          "base_uri": "https://localhost:8080/"
        },
        "id": "-Ub-G3QUTxQB",
        "outputId": "7ae6c501-9ea1-4869-e60f-66679673c614"
      },
      "execution_count": 68,
      "outputs": [
        {
          "output_type": "stream",
          "name": "stdout",
          "text": [
            "Shape do X_train com Under Sampling: (3178, 15)\n",
            "Shape do y_train com Under Sampling: (3178,)\n",
            "Valores únicos das classes: (array([0, 1]), array([1589, 1589]))\n"
          ]
        }
      ]
    },
    {
      "cell_type": "code",
      "source": [
        "# Treinando novamente o modelo de RF com RUS\n",
        "RF = RandomForestClassifier()\n",
        "modelo_RF_rus_kbest = validacao_cruzada(RF, 'RF', X_train_rus_best, y_train_rus_best.ravel(), 5)"
      ],
      "metadata": {
        "colab": {
          "base_uri": "https://localhost:8080/"
        },
        "id": "1fgPb4WFT-9m",
        "outputId": "d21cac96-c1d3-403e-8772-0b6f033db571"
      },
      "execution_count": 69,
      "outputs": [
        {
          "output_type": "stream",
          "name": "stdout",
          "text": [
            "*****************************************************************************\n",
            "*      Resultados do treino com validação cruzada para o RF\n",
            "*****************************************************************************\n",
            "* Acurácia: [0.72798742 0.72798742 0.75314465 0.73070866 0.74488189]\n",
            "* Acurácia média: 0.7369\n",
            "*-----------------------------------------------------------------------------\n",
            "* Precisão: [0.72036474 0.74086379 0.74769231 0.70977011 0.73780488]\n",
            "* Precisão média: 0.7313\n",
            "*-----------------------------------------------------------------------------\n",
            "* Revocação: [0.74528302 0.70125786 0.76415094 0.77917981 0.76100629]\n",
            "* Revocação média: 0.7502\n",
            "*-----------------------------------------------------------------------------\n",
            "* F1_Score: [0.72790603 0.72779294 0.75311475 0.73010626 0.74480531]\n",
            "* F1_Score médio: 0.7367\n",
            "*-----------------------------------------------------------------------------\n",
            "* ROC AUC: [0.80355306 0.82490803 0.83414916 0.80480825 0.81591374]\n",
            "* ROC AUC médio: 0.8167\n",
            "*****************************************************************************\n"
          ]
        }
      ]
    },
    {
      "cell_type": "code",
      "source": [
        "# Definindo o novo balanceamento para os dados filtrados com ROS\n",
        "\n",
        "ros_best = RandomOverSampler()\n",
        "\n",
        "X_train_ros_best, y_train_ros_best = ros_best.fit_resample(X_train_enc_best, y_train_enc)\n",
        "\n",
        "print(f'Shape do X_train com Under Sampling: {X_train_ros_best.shape}')\n",
        "print(f'Shape do y_train com Under Sampling: {y_train_ros_best.shape}')"
      ],
      "metadata": {
        "colab": {
          "base_uri": "https://localhost:8080/"
        },
        "id": "PjxixIlXUJYT",
        "outputId": "38b0280a-dac5-4397-872c-9271ffbce77a"
      },
      "execution_count": 70,
      "outputs": [
        {
          "output_type": "stream",
          "name": "stdout",
          "text": [
            "Shape do X_train com Under Sampling: (8776, 15)\n",
            "Shape do y_train com Under Sampling: (8776,)\n"
          ]
        }
      ]
    },
    {
      "cell_type": "code",
      "source": [
        "# Treinando novamente o modelo de RF com ROS\n",
        "RF = RandomForestClassifier()\n",
        "modelo_RF_ros_kbest = validacao_cruzada(RF, 'RF', X_train_ros_best, y_train_ros_best.ravel(), 5)"
      ],
      "metadata": {
        "colab": {
          "base_uri": "https://localhost:8080/"
        },
        "id": "bHflIBYbU0E3",
        "outputId": "a7d3dae5-3ecf-4dbc-948f-d3cc19f6d53a"
      },
      "execution_count": 71,
      "outputs": [
        {
          "output_type": "stream",
          "name": "stdout",
          "text": [
            "*****************************************************************************\n",
            "*      Resultados do treino com validação cruzada para o RF\n",
            "*****************************************************************************\n",
            "* Acurácia: [0.87471526 0.87407407 0.90826211 0.90769231 0.9042735 ]\n",
            "* Acurácia média: 0.8938\n",
            "*-----------------------------------------------------------------------------\n",
            "* Precisão: [0.83299595 0.84024896 0.84689922 0.84892788 0.84134615]\n",
            "* Precisão média: 0.8421\n",
            "*-----------------------------------------------------------------------------\n",
            "* Revocação: [0.93735763 0.92360319 0.99657925 0.99202733 0.99658314]\n",
            "* Revocação média: 0.9692\n",
            "*-----------------------------------------------------------------------------\n",
            "* F1_Score: [0.8742217  0.87377096 0.90755025 0.90702212 0.90344056]\n",
            "* F1_Score médio: 0.8932\n",
            "*-----------------------------------------------------------------------------\n",
            "* ROC AUC: [0.93913222 0.94126215 0.97016582 0.96631065 0.96922492]\n",
            "* ROC AUC médio: 0.9572\n",
            "*****************************************************************************\n"
          ]
        }
      ]
    },
    {
      "cell_type": "markdown",
      "source": [
        "**O modelo com balanceamento ROS apresenta melhores resultados**\n",
        "\n",
        "Irei escolher o modelo balanceado com o Over Sampling como o melhor e usá-lo na otimização final do modelo para teste.\n",
        "\n",
        "--------\n",
        "\n",
        "Espero um bom resultado! :)\n",
        "\n"
      ],
      "metadata": {
        "id": "Oo9mKFBvWSXt"
      }
    },
    {
      "cell_type": "markdown",
      "source": [
        "### **Otimizando o melhor modelo**\n",
        "\n",
        "Irei usar o [GridSearchCV](https://scikit-learn.org/stable/modules/generated/sklearn.model_selection.GridSearchCV.html#sklearn.model_selection.GridSearchCV) para otimizar o modelo de Random Forest."
      ],
      "metadata": {
        "id": "O5Ebmsg-YQai"
      }
    },
    {
      "cell_type": "code",
      "source": [
        "from sklearn.model_selection import GridSearchCV"
      ],
      "metadata": {
        "id": "fwEGJPD5XqEq"
      },
      "execution_count": 72,
      "outputs": []
    },
    {
      "cell_type": "code",
      "source": [
        "parameters = {'n_estimators':[75, 100, 125],\n",
        "              'criterion':['gini', 'entropy'],\n",
        "              'bootstrap':[True, False],\n",
        "              'random_state':[42],\n",
        "              'min_samples_split':[2, 4, 6],\n",
        "              'max_depth': [None, 5, 15, 25]}"
      ],
      "metadata": {
        "id": "e1W1mNuHiEtw"
      },
      "execution_count": 73,
      "outputs": []
    },
    {
      "cell_type": "code",
      "source": [
        "RL_opt = RandomForestClassifier()"
      ],
      "metadata": {
        "id": "DOOX0eBZjSa6"
      },
      "execution_count": 74,
      "outputs": []
    },
    {
      "cell_type": "code",
      "source": [
        "RF_grid_cv = GridSearchCV(RL_opt, parameters, scoring=['accuracy', 'recall', 'precision', 'f1_macro', 'roc_auc'], cv=5, refit='recall')"
      ],
      "metadata": {
        "id": "XJA_Q3FRJz5l"
      },
      "execution_count": 75,
      "outputs": []
    },
    {
      "cell_type": "code",
      "source": [
        "RF_grid_cv.fit(X_train_ros_best, y_train_ros_best)"
      ],
      "metadata": {
        "colab": {
          "base_uri": "https://localhost:8080/"
        },
        "id": "_-RdWObeKepd",
        "outputId": "59f9e721-05fb-4cd1-dcb8-20a362ca798b"
      },
      "execution_count": 76,
      "outputs": [
        {
          "output_type": "execute_result",
          "data": {
            "text/plain": [
              "GridSearchCV(cv=5, estimator=RandomForestClassifier(),\n",
              "             param_grid={'bootstrap': [True, False],\n",
              "                         'criterion': ['gini', 'entropy'],\n",
              "                         'max_depth': [None, 5, 15, 25],\n",
              "                         'min_samples_split': [2, 4, 6],\n",
              "                         'n_estimators': [75, 100, 125], 'random_state': [42]},\n",
              "             refit='recall',\n",
              "             scoring=['accuracy', 'recall', 'precision', 'f1_macro', 'roc_auc'])"
            ]
          },
          "metadata": {},
          "execution_count": 76
        }
      ]
    },
    {
      "cell_type": "code",
      "source": [
        "best_params = RF_grid_cv.best_params_\n",
        "\n",
        "print(f'Os melhores parâmetros encontrados no grid search são:\\n\\n{best_params}')"
      ],
      "metadata": {
        "colab": {
          "base_uri": "https://localhost:8080/"
        },
        "id": "PG1iGD-vLLWP",
        "outputId": "01853b60-bc64-4ce7-cc04-91728baef791"
      },
      "execution_count": 77,
      "outputs": [
        {
          "output_type": "stream",
          "name": "stdout",
          "text": [
            "Os melhores parâmetros encontrados no grid search são:\n",
            "\n",
            "{'bootstrap': True, 'criterion': 'gini', 'max_depth': 15, 'min_samples_split': 2, 'n_estimators': 125, 'random_state': 42}\n"
          ]
        }
      ]
    },
    {
      "cell_type": "markdown",
      "source": [
        "Com os melhores parâmetros encontrados acima irei treinar um modelo final com essa configuração em todo os dados de treino. Este será meu modelo final para o último teste."
      ],
      "metadata": {
        "id": "uxdozN03dWa9"
      }
    },
    {
      "cell_type": "markdown",
      "source": [
        "#### Treinando o último modelo"
      ],
      "metadata": {
        "id": "FPhVXAPLeLI0"
      }
    },
    {
      "cell_type": "code",
      "source": [
        "RF_final = RandomForestClassifier(bootstrap=True,\n",
        "                            criterion='gini',\n",
        "                            max_depth=15,\n",
        "                            min_samples_split=2,\n",
        "                            n_estimators=125,\n",
        "                            random_state=42)"
      ],
      "metadata": {
        "id": "DZ9MBcoidVa1"
      },
      "execution_count": 78,
      "outputs": []
    },
    {
      "cell_type": "code",
      "source": [
        "RF_final.fit(X_train_ros_best, y_train_ros_best)"
      ],
      "metadata": {
        "colab": {
          "base_uri": "https://localhost:8080/"
        },
        "id": "GdVmsYkQdKJZ",
        "outputId": "812a546a-7b9e-4464-a0c1-1f01454602b9"
      },
      "execution_count": 79,
      "outputs": [
        {
          "output_type": "execute_result",
          "data": {
            "text/plain": [
              "RandomForestClassifier(max_depth=15, n_estimators=125, random_state=42)"
            ]
          },
          "metadata": {},
          "execution_count": 79
        }
      ]
    },
    {
      "cell_type": "code",
      "source": [
        "RF_final.score(X_test_enc_best, y_test_enc)"
      ],
      "metadata": {
        "colab": {
          "base_uri": "https://localhost:8080/"
        },
        "id": "K-f7f_Bue_0o",
        "outputId": "5794a534-bbcd-4787-ef07-779eec369eaf"
      },
      "execution_count": 80,
      "outputs": [
        {
          "output_type": "execute_result",
          "data": {
            "text/plain": [
              "0.7554502369668247"
            ]
          },
          "metadata": {},
          "execution_count": 80
        }
      ]
    },
    {
      "cell_type": "code",
      "source": [
        "y_pred_final = RF_final.predict(X_test_enc_best)"
      ],
      "metadata": {
        "id": "Ub-KYwI9e5sL"
      },
      "execution_count": 81,
      "outputs": []
    },
    {
      "cell_type": "code",
      "source": [
        "# Mostrar a matriz de confusão\n",
        "from sklearn.metrics import confusion_matrix, ConfusionMatrixDisplay\n",
        "\n",
        "cm = confusion_matrix(y_test_enc, y_pred_final)\n",
        "\n",
        "cm_disp = ConfusionMatrixDisplay(cm, display_labels=RF_final.classes_)\n",
        "\n",
        "cm_disp.plot()\n",
        "\n",
        "plt.title('Matriz de confusão do modelo final')\n",
        "plt.grid(False)\n",
        "\n",
        "plt.show()"
      ],
      "metadata": {
        "colab": {
          "base_uri": "https://localhost:8080/",
          "height": 301
        },
        "id": "j55JBAkLypX0",
        "outputId": "5730205e-8c9c-423e-cbce-f46ddc87ed89"
      },
      "execution_count": 104,
      "outputs": [
        {
          "output_type": "display_data",
          "data": {
            "text/plain": [
              "<Figure size 432x288 with 2 Axes>"
            ],
            "image/png": "[encoded data removed]"
          },
          "metadata": {}
        }
      ]
    },
    {
      "cell_type": "code",
      "source": [
        "print(classification_report(y_test_enc, y_pred_final, output_dict=False))"
      ],
      "metadata": {
        "colab": {
          "base_uri": "https://localhost:8080/"
        },
        "id": "TsJuE-GlfUyD",
        "outputId": "14ecb295-7db4-4a99-c84f-64568d34ae98"
      },
      "execution_count": 93,
      "outputs": [
        {
          "output_type": "stream",
          "name": "stdout",
          "text": [
            "              precision    recall  f1-score   support\n",
            "\n",
            "           0       0.86      0.80      0.83       775\n",
            "           1       0.53      0.62      0.58       280\n",
            "\n",
            "    accuracy                           0.76      1055\n",
            "   macro avg       0.69      0.71      0.70      1055\n",
            "weighted avg       0.77      0.76      0.76      1055\n",
            "\n"
          ]
        }
      ]
    },
    {
      "cell_type": "markdown",
      "source": [
        "Ao final, temos um modelo com uma performance muito parecida com os modelos avaliados durantes as etapas de validação. O modelo final tem uma acurácia de 0.76, F1-Score de macro de 0.71, Precision de macro de 0.69 e recall macro de 0.71."
      ],
      "metadata": {
        "id": "XM85V4ZCggKk"
      }
    },
    {
      "cell_type": "markdown",
      "source": [
        "-------------"
      ],
      "metadata": {
        "id": "JmN-7mHvsy_N"
      }
    },
    {
      "cell_type": "markdown",
      "source": [
        "### Parte extra para salvamento de arquivos\n",
        "\n",
        "Irei salvar o modelo final e os encodings com joblib"
      ],
      "metadata": {
        "id": "x8FWvxnTqVJe"
      }
    },
    {
      "cell_type": "code",
      "source": [
        "from joblib import dump, load"
      ],
      "metadata": {
        "id": "t-5Fv_gGqUMq"
      },
      "execution_count": 94,
      "outputs": []
    },
    {
      "cell_type": "code",
      "source": [
        "# Salvando o modelo final\n",
        "dump(RF_final, 'RF_final_model_Alura.joblib') "
      ],
      "metadata": {
        "colab": {
          "base_uri": "https://localhost:8080/"
        },
        "id": "ygGhtC4Yff6d",
        "outputId": "a5e75416-a43c-4a85-e352-70588aa33070"
      },
      "execution_count": 95,
      "outputs": [
        {
          "output_type": "execute_result",
          "data": {
            "text/plain": [
              "['RF_final_model_Alura.joblib']"
            ]
          },
          "metadata": {},
          "execution_count": 95
        }
      ]
    },
    {
      "cell_type": "code",
      "source": [
        "# Salvando o X_encoder\n",
        "dump(X_enc, 'X_enc_model_Alura.joblib')"
      ],
      "metadata": {
        "colab": {
          "base_uri": "https://localhost:8080/"
        },
        "id": "kxFwbYHfqjzs",
        "outputId": "b32973a8-979f-41ba-8beb-7eb848f2bd8a"
      },
      "execution_count": 96,
      "outputs": [
        {
          "output_type": "execute_result",
          "data": {
            "text/plain": [
              "['X_enc_model_Alura.joblib']"
            ]
          },
          "metadata": {},
          "execution_count": 96
        }
      ]
    },
    {
      "cell_type": "code",
      "source": [
        "# Salvando o y_encoder\n",
        "dump(lb, 'lb_enc_model_Alura.joblib')"
      ],
      "metadata": {
        "colab": {
          "base_uri": "https://localhost:8080/"
        },
        "id": "fgz9of2hsBqh",
        "outputId": "93ccc9ea-1bba-4a3c-f4f1-805bea54b08d"
      },
      "execution_count": 97,
      "outputs": [
        {
          "output_type": "execute_result",
          "data": {
            "text/plain": [
              "['lb_enc_model_Alura.joblib']"
            ]
          },
          "metadata": {},
          "execution_count": 97
        }
      ]
    },
    {
      "cell_type": "code",
      "source": [
        "# Salvando o k_best selector\n",
        "dump(k_best, 'k_best_model_Alura.joblib')"
      ],
      "metadata": {
        "colab": {
          "base_uri": "https://localhost:8080/"
        },
        "id": "5BEAB6qjsKa_",
        "outputId": "fad67ca7-ae29-40e7-d57f-2d58f0081f5d"
      },
      "execution_count": 98,
      "outputs": [
        {
          "output_type": "execute_result",
          "data": {
            "text/plain": [
              "['k_best_model_Alura.joblib']"
            ]
          },
          "metadata": {},
          "execution_count": 98
        }
      ]
    },
    {
      "cell_type": "code",
      "source": [
        ""
      ],
      "metadata": {
        "id": "UAWIRbObsQS0"
      },
      "execution_count": 98,
      "outputs": []
    },
    {
      "cell_type": "code",
      "source": [
        "# Testando o carregamento do k_best selector para ver se está tudo ok para baixar os arquivos e finalizar a execução. :)\n",
        "k_best_loaded = load('/content/k_best_model_Alura.joblib')"
      ],
      "metadata": {
        "id": "OniaBVmpsU0O"
      },
      "execution_count": 99,
      "outputs": []
    },
    {
      "cell_type": "code",
      "source": [
        "k_best_loaded.get_feature_names_out()"
      ],
      "metadata": {
        "colab": {
          "base_uri": "https://localhost:8080/"
        },
        "id": "283xW1lesg7J",
        "outputId": "a6b08bd6-3fd5-4d73-f778-f5cecd9989b5"
      },
      "execution_count": 105,
      "outputs": [
        {
          "output_type": "execute_result",
          "data": {
            "text/plain": [
              "array(['InternetService_Fiber optic', 'OnlineSecurity_No',\n",
              "       'OnlineSecurity_No internet service',\n",
              "       'OnlineBackup_No internet service',\n",
              "       'DeviceProtection_No internet service', 'TechSupport_No',\n",
              "       'TechSupport_No internet service',\n",
              "       'StreamingTV_No internet service',\n",
              "       'StreamingMovies_No internet service', 'Contract_Month-to-month',\n",
              "       'Contract_Two year', 'PaymentMethod_Electronic check', 'Tenure',\n",
              "       'Charges_Monthly', 'Charges_Total'], dtype=object)"
            ]
          },
          "metadata": {},
          "execution_count": 105
        }
      ]
    },
    {
      "cell_type": "code",
      "source": [
        ""
      ],
      "metadata": {
        "id": "03XYZcj11Yv1"
      },
      "execution_count": null,
      "outputs": []
    }
  ]
}