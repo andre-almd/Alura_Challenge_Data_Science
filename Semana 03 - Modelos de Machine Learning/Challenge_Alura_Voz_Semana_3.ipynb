{
  "nbformat": 4,
  "nbformat_minor": 0,
  "metadata": {
    "colab": {
      "name": "Challenge Alura Voz - Semana 3.ipynb",
      "provenance": [],
      "collapsed_sections": []
    },
    "kernelspec": {
      "name": "python3",
      "display_name": "Python 3"
    },
    "language_info": {
      "name": "python"
    }
  },
  "cells": [
    {
      "cell_type": "markdown",
      "source": [
        "# **Alura Challenge - Alura Voz**\n",
        "\n",
        "Nesse notebook será realizada a criação de modelos de Machine Learning para a empresa ALura Voz."
      ],
      "metadata": {
        "id": "8u_-z7g-IRpB"
      }
    },
    {
      "cell_type": "markdown",
      "source": [
        "## **Semana 03 - Criação de modelos de Machine learning**"
      ],
      "metadata": {
        "id": "hq1YjaiaPaKc"
      }
    },
    {
      "cell_type": "code",
      "execution_count": 136,
      "metadata": {
        "id": "y8F5ck0BIO6h"
      },
      "outputs": [],
      "source": [
        "import pandas as pd\n",
        "import numpy as np\n",
        "import matplotlib.pyplot as plt\n",
        "import seaborn as sns\n",
        "\n",
        "from sklearn.model_selection import train_test_split\n",
        "\n",
        "import warnings"
      ]
    },
    {
      "cell_type": "code",
      "source": [
        "np.random.seed(42)"
      ],
      "metadata": {
        "id": "ZkGmEd4yTlWi"
      },
      "execution_count": 137,
      "outputs": []
    },
    {
      "cell_type": "code",
      "source": [
        "sns.set_theme(style=\"whitegrid\", palette='Set2')"
      ],
      "metadata": {
        "id": "OI9k-uwjPenZ"
      },
      "execution_count": 138,
      "outputs": []
    },
    {
      "cell_type": "code",
      "source": [
        "# Ler os dados com pandas do arquivo json\n",
        "dados = pd.read_json('/content/Customer-Churn-clean.json')"
      ],
      "metadata": {
        "id": "8uDPA8VpPhGb"
      },
      "execution_count": 139,
      "outputs": []
    },
    {
      "cell_type": "code",
      "source": [
        "dados.head(2)"
      ],
      "metadata": {
        "colab": {
          "base_uri": "https://localhost:8080/",
          "height": 240
        },
        "id": "dLZockcgPioC",
        "outputId": "f46b7aa9-73f0-433b-9728-1f13ea664bf9"
      },
      "execution_count": 140,
      "outputs": [
        {
          "output_type": "execute_result",
          "data": {
            "text/plain": [
              "   customerID Churn  Gender SeniorCitizen Partner Dependents  Tenure  \\\n",
              "0  0002-ORFBO    No  Female            No     Yes        Yes       9   \n",
              "1  0003-MKNFE    No    Male            No      No         No       9   \n",
              "\n",
              "  PhoneService MultipleLines InternetService  ... DeviceProtection  \\\n",
              "0          Yes            No             DSL  ...               No   \n",
              "1          Yes           Yes             DSL  ...               No   \n",
              "\n",
              "  TechSupport StreamingTV StreamingMovies        Contract PaperlessBilling  \\\n",
              "0         Yes         Yes              No        One year              Yes   \n",
              "1          No          No             Yes  Month-to-month               No   \n",
              "\n",
              "  Daily_Expense PaymentMethod  Charges_Monthly Charges_Total  \n",
              "0          2.19  Mailed check             65.6         593.3  \n",
              "1          2.00  Mailed check             59.9         542.4  \n",
              "\n",
              "[2 rows x 22 columns]"
            ],
            "text/html": [
              "\n",
              "  <div id=\"df-1ce9a06b-87c3-456c-8b5a-a679400e8059\">\n",
              "    <div class=\"colab-df-container\">\n",
              "      <div>\n",
              "<style scoped>\n",
              "    .dataframe tbody tr th:only-of-type {\n",
              "        vertical-align: middle;\n",
              "    }\n",
              "\n",
              "    .dataframe tbody tr th {\n",
              "        vertical-align: top;\n",
              "    }\n",
              "\n",
              "    .dataframe thead th {\n",
              "        text-align: right;\n",
              "    }\n",
              "</style>\n",
              "<table border=\"1\" class=\"dataframe\">\n",
              "  <thead>\n",
              "    <tr style=\"text-align: right;\">\n",
              "      <th></th>\n",
              "      <th>customerID</th>\n",
              "      <th>Churn</th>\n",
              "      <th>Gender</th>\n",
              "      <th>SeniorCitizen</th>\n",
              "      <th>Partner</th>\n",
              "      <th>Dependents</th>\n",
              "      <th>Tenure</th>\n",
              "      <th>PhoneService</th>\n",
              "      <th>MultipleLines</th>\n",
              "      <th>InternetService</th>\n",
              "      <th>...</th>\n",
              "      <th>DeviceProtection</th>\n",
              "      <th>TechSupport</th>\n",
              "      <th>StreamingTV</th>\n",
              "      <th>StreamingMovies</th>\n",
              "      <th>Contract</th>\n",
              "      <th>PaperlessBilling</th>\n",
              "      <th>Daily_Expense</th>\n",
              "      <th>PaymentMethod</th>\n",
              "      <th>Charges_Monthly</th>\n",
              "      <th>Charges_Total</th>\n",
              "    </tr>\n",
              "  </thead>\n",
              "  <tbody>\n",
              "    <tr>\n",
              "      <th>0</th>\n",
              "      <td>0002-ORFBO</td>\n",
              "      <td>No</td>\n",
              "      <td>Female</td>\n",
              "      <td>No</td>\n",
              "      <td>Yes</td>\n",
              "      <td>Yes</td>\n",
              "      <td>9</td>\n",
              "      <td>Yes</td>\n",
              "      <td>No</td>\n",
              "      <td>DSL</td>\n",
              "      <td>...</td>\n",
              "      <td>No</td>\n",
              "      <td>Yes</td>\n",
              "      <td>Yes</td>\n",
              "      <td>No</td>\n",
              "      <td>One year</td>\n",
              "      <td>Yes</td>\n",
              "      <td>2.19</td>\n",
              "      <td>Mailed check</td>\n",
              "      <td>65.6</td>\n",
              "      <td>593.3</td>\n",
              "    </tr>\n",
              "    <tr>\n",
              "      <th>1</th>\n",
              "      <td>0003-MKNFE</td>\n",
              "      <td>No</td>\n",
              "      <td>Male</td>\n",
              "      <td>No</td>\n",
              "      <td>No</td>\n",
              "      <td>No</td>\n",
              "      <td>9</td>\n",
              "      <td>Yes</td>\n",
              "      <td>Yes</td>\n",
              "      <td>DSL</td>\n",
              "      <td>...</td>\n",
              "      <td>No</td>\n",
              "      <td>No</td>\n",
              "      <td>No</td>\n",
              "      <td>Yes</td>\n",
              "      <td>Month-to-month</td>\n",
              "      <td>No</td>\n",
              "      <td>2.00</td>\n",
              "      <td>Mailed check</td>\n",
              "      <td>59.9</td>\n",
              "      <td>542.4</td>\n",
              "    </tr>\n",
              "  </tbody>\n",
              "</table>\n",
              "<p>2 rows × 22 columns</p>\n",
              "</div>\n",
              "      <button class=\"colab-df-convert\" onclick=\"convertToInteractive('df-1ce9a06b-87c3-456c-8b5a-a679400e8059')\"\n",
              "              title=\"Convert this dataframe to an interactive table.\"\n",
              "              style=\"display:none;\">\n",
              "        \n",
              "  <svg xmlns=\"http://www.w3.org/2000/svg\" height=\"24px\"viewBox=\"0 0 24 24\"\n",
              "       width=\"24px\">\n",
              "    <path d=\"M0 0h24v24H0V0z\" fill=\"none\"/>\n",
              "    <path d=\"M18.56 5.44l.94 2.06.94-2.06 2.06-.94-2.06-.94-.94-2.06-.94 2.06-2.06.94zm-11 1L8.5 8.5l.94-2.06 2.06-.94-2.06-.94L8.5 2.5l-.94 2.06-2.06.94zm10 10l.94 2.06.94-2.06 2.06-.94-2.06-.94-.94-2.06-.94 2.06-2.06.94z\"/><path d=\"M17.41 7.96l-1.37-1.37c-.4-.4-.92-.59-1.43-.59-.52 0-1.04.2-1.43.59L10.3 9.45l-7.72 7.72c-.78.78-.78 2.05 0 2.83L4 21.41c.39.39.9.59 1.41.59.51 0 1.02-.2 1.41-.59l7.78-7.78 2.81-2.81c.8-.78.8-2.07 0-2.86zM5.41 20L4 18.59l7.72-7.72 1.47 1.35L5.41 20z\"/>\n",
              "  </svg>\n",
              "      </button>\n",
              "      \n",
              "  <style>\n",
              "    .colab-df-container {\n",
              "      display:flex;\n",
              "      flex-wrap:wrap;\n",
              "      gap: 12px;\n",
              "    }\n",
              "\n",
              "    .colab-df-convert {\n",
              "      background-color: #E8F0FE;\n",
              "      border: none;\n",
              "      border-radius: 50%;\n",
              "      cursor: pointer;\n",
              "      display: none;\n",
              "      fill: #1967D2;\n",
              "      height: 32px;\n",
              "      padding: 0 0 0 0;\n",
              "      width: 32px;\n",
              "    }\n",
              "\n",
              "    .colab-df-convert:hover {\n",
              "      background-color: #E2EBFA;\n",
              "      box-shadow: 0px 1px 2px rgba(60, 64, 67, 0.3), 0px 1px 3px 1px rgba(60, 64, 67, 0.15);\n",
              "      fill: #174EA6;\n",
              "    }\n",
              "\n",
              "    [theme=dark] .colab-df-convert {\n",
              "      background-color: #3B4455;\n",
              "      fill: #D2E3FC;\n",
              "    }\n",
              "\n",
              "    [theme=dark] .colab-df-convert:hover {\n",
              "      background-color: #434B5C;\n",
              "      box-shadow: 0px 1px 3px 1px rgba(0, 0, 0, 0.15);\n",
              "      filter: drop-shadow(0px 1px 2px rgba(0, 0, 0, 0.3));\n",
              "      fill: #FFFFFF;\n",
              "    }\n",
              "  </style>\n",
              "\n",
              "      <script>\n",
              "        const buttonEl =\n",
              "          document.querySelector('#df-1ce9a06b-87c3-456c-8b5a-a679400e8059 button.colab-df-convert');\n",
              "        buttonEl.style.display =\n",
              "          google.colab.kernel.accessAllowed ? 'block' : 'none';\n",
              "\n",
              "        async function convertToInteractive(key) {\n",
              "          const element = document.querySelector('#df-1ce9a06b-87c3-456c-8b5a-a679400e8059');\n",
              "          const dataTable =\n",
              "            await google.colab.kernel.invokeFunction('convertToInteractive',\n",
              "                                                     [key], {});\n",
              "          if (!dataTable) return;\n",
              "\n",
              "          const docLinkHtml = 'Like what you see? Visit the ' +\n",
              "            '<a target=\"_blank\" href=https://colab.research.google.com/notebooks/data_table.ipynb>data table notebook</a>'\n",
              "            + ' to learn more about interactive tables.';\n",
              "          element.innerHTML = '';\n",
              "          dataTable['output_type'] = 'display_data';\n",
              "          await google.colab.output.renderOutput(dataTable, element);\n",
              "          const docLink = document.createElement('div');\n",
              "          docLink.innerHTML = docLinkHtml;\n",
              "          element.appendChild(docLink);\n",
              "        }\n",
              "      </script>\n",
              "    </div>\n",
              "  </div>\n",
              "  "
            ]
          },
          "metadata": {},
          "execution_count": 140
        }
      ]
    },
    {
      "cell_type": "markdown",
      "source": [
        "Na minha avaliação, a coluna Daily_Expense, criada na semana 1, não é interessante pois é altamente correlacionada com o gasto mensal. Logo, irei eliminá-la dos meus dados."
      ],
      "metadata": {
        "id": "xmq1Cfztb1g8"
      }
    },
    {
      "cell_type": "code",
      "source": [
        "dados.drop(columns='Daily_Expense', inplace=True)\n",
        "dados.head(2)"
      ],
      "metadata": {
        "colab": {
          "base_uri": "https://localhost:8080/",
          "height": 240
        },
        "id": "7Zggt6p_bUGn",
        "outputId": "c6bbc52e-bd9f-4458-f178-e4b3af982206"
      },
      "execution_count": 141,
      "outputs": [
        {
          "output_type": "execute_result",
          "data": {
            "text/plain": [
              "   customerID Churn  Gender SeniorCitizen Partner Dependents  Tenure  \\\n",
              "0  0002-ORFBO    No  Female            No     Yes        Yes       9   \n",
              "1  0003-MKNFE    No    Male            No      No         No       9   \n",
              "\n",
              "  PhoneService MultipleLines InternetService  ... OnlineBackup  \\\n",
              "0          Yes            No             DSL  ...          Yes   \n",
              "1          Yes           Yes             DSL  ...           No   \n",
              "\n",
              "  DeviceProtection TechSupport StreamingTV StreamingMovies        Contract  \\\n",
              "0               No         Yes         Yes              No        One year   \n",
              "1               No          No          No             Yes  Month-to-month   \n",
              "\n",
              "  PaperlessBilling PaymentMethod Charges_Monthly  Charges_Total  \n",
              "0              Yes  Mailed check            65.6          593.3  \n",
              "1               No  Mailed check            59.9          542.4  \n",
              "\n",
              "[2 rows x 21 columns]"
            ],
            "text/html": [
              "\n",
              "  <div id=\"df-20ecae6d-3028-4866-a125-0ce9c1744eab\">\n",
              "    <div class=\"colab-df-container\">\n",
              "      <div>\n",
              "<style scoped>\n",
              "    .dataframe tbody tr th:only-of-type {\n",
              "        vertical-align: middle;\n",
              "    }\n",
              "\n",
              "    .dataframe tbody tr th {\n",
              "        vertical-align: top;\n",
              "    }\n",
              "\n",
              "    .dataframe thead th {\n",
              "        text-align: right;\n",
              "    }\n",
              "</style>\n",
              "<table border=\"1\" class=\"dataframe\">\n",
              "  <thead>\n",
              "    <tr style=\"text-align: right;\">\n",
              "      <th></th>\n",
              "      <th>customerID</th>\n",
              "      <th>Churn</th>\n",
              "      <th>Gender</th>\n",
              "      <th>SeniorCitizen</th>\n",
              "      <th>Partner</th>\n",
              "      <th>Dependents</th>\n",
              "      <th>Tenure</th>\n",
              "      <th>PhoneService</th>\n",
              "      <th>MultipleLines</th>\n",
              "      <th>InternetService</th>\n",
              "      <th>...</th>\n",
              "      <th>OnlineBackup</th>\n",
              "      <th>DeviceProtection</th>\n",
              "      <th>TechSupport</th>\n",
              "      <th>StreamingTV</th>\n",
              "      <th>StreamingMovies</th>\n",
              "      <th>Contract</th>\n",
              "      <th>PaperlessBilling</th>\n",
              "      <th>PaymentMethod</th>\n",
              "      <th>Charges_Monthly</th>\n",
              "      <th>Charges_Total</th>\n",
              "    </tr>\n",
              "  </thead>\n",
              "  <tbody>\n",
              "    <tr>\n",
              "      <th>0</th>\n",
              "      <td>0002-ORFBO</td>\n",
              "      <td>No</td>\n",
              "      <td>Female</td>\n",
              "      <td>No</td>\n",
              "      <td>Yes</td>\n",
              "      <td>Yes</td>\n",
              "      <td>9</td>\n",
              "      <td>Yes</td>\n",
              "      <td>No</td>\n",
              "      <td>DSL</td>\n",
              "      <td>...</td>\n",
              "      <td>Yes</td>\n",
              "      <td>No</td>\n",
              "      <td>Yes</td>\n",
              "      <td>Yes</td>\n",
              "      <td>No</td>\n",
              "      <td>One year</td>\n",
              "      <td>Yes</td>\n",
              "      <td>Mailed check</td>\n",
              "      <td>65.6</td>\n",
              "      <td>593.3</td>\n",
              "    </tr>\n",
              "    <tr>\n",
              "      <th>1</th>\n",
              "      <td>0003-MKNFE</td>\n",
              "      <td>No</td>\n",
              "      <td>Male</td>\n",
              "      <td>No</td>\n",
              "      <td>No</td>\n",
              "      <td>No</td>\n",
              "      <td>9</td>\n",
              "      <td>Yes</td>\n",
              "      <td>Yes</td>\n",
              "      <td>DSL</td>\n",
              "      <td>...</td>\n",
              "      <td>No</td>\n",
              "      <td>No</td>\n",
              "      <td>No</td>\n",
              "      <td>No</td>\n",
              "      <td>Yes</td>\n",
              "      <td>Month-to-month</td>\n",
              "      <td>No</td>\n",
              "      <td>Mailed check</td>\n",
              "      <td>59.9</td>\n",
              "      <td>542.4</td>\n",
              "    </tr>\n",
              "  </tbody>\n",
              "</table>\n",
              "<p>2 rows × 21 columns</p>\n",
              "</div>\n",
              "      <button class=\"colab-df-convert\" onclick=\"convertToInteractive('df-20ecae6d-3028-4866-a125-0ce9c1744eab')\"\n",
              "              title=\"Convert this dataframe to an interactive table.\"\n",
              "              style=\"display:none;\">\n",
              "        \n",
              "  <svg xmlns=\"http://www.w3.org/2000/svg\" height=\"24px\"viewBox=\"0 0 24 24\"\n",
              "       width=\"24px\">\n",
              "    <path d=\"M0 0h24v24H0V0z\" fill=\"none\"/>\n",
              "    <path d=\"M18.56 5.44l.94 2.06.94-2.06 2.06-.94-2.06-.94-.94-2.06-.94 2.06-2.06.94zm-11 1L8.5 8.5l.94-2.06 2.06-.94-2.06-.94L8.5 2.5l-.94 2.06-2.06.94zm10 10l.94 2.06.94-2.06 2.06-.94-2.06-.94-.94-2.06-.94 2.06-2.06.94z\"/><path d=\"M17.41 7.96l-1.37-1.37c-.4-.4-.92-.59-1.43-.59-.52 0-1.04.2-1.43.59L10.3 9.45l-7.72 7.72c-.78.78-.78 2.05 0 2.83L4 21.41c.39.39.9.59 1.41.59.51 0 1.02-.2 1.41-.59l7.78-7.78 2.81-2.81c.8-.78.8-2.07 0-2.86zM5.41 20L4 18.59l7.72-7.72 1.47 1.35L5.41 20z\"/>\n",
              "  </svg>\n",
              "      </button>\n",
              "      \n",
              "  <style>\n",
              "    .colab-df-container {\n",
              "      display:flex;\n",
              "      flex-wrap:wrap;\n",
              "      gap: 12px;\n",
              "    }\n",
              "\n",
              "    .colab-df-convert {\n",
              "      background-color: #E8F0FE;\n",
              "      border: none;\n",
              "      border-radius: 50%;\n",
              "      cursor: pointer;\n",
              "      display: none;\n",
              "      fill: #1967D2;\n",
              "      height: 32px;\n",
              "      padding: 0 0 0 0;\n",
              "      width: 32px;\n",
              "    }\n",
              "\n",
              "    .colab-df-convert:hover {\n",
              "      background-color: #E2EBFA;\n",
              "      box-shadow: 0px 1px 2px rgba(60, 64, 67, 0.3), 0px 1px 3px 1px rgba(60, 64, 67, 0.15);\n",
              "      fill: #174EA6;\n",
              "    }\n",
              "\n",
              "    [theme=dark] .colab-df-convert {\n",
              "      background-color: #3B4455;\n",
              "      fill: #D2E3FC;\n",
              "    }\n",
              "\n",
              "    [theme=dark] .colab-df-convert:hover {\n",
              "      background-color: #434B5C;\n",
              "      box-shadow: 0px 1px 3px 1px rgba(0, 0, 0, 0.15);\n",
              "      filter: drop-shadow(0px 1px 2px rgba(0, 0, 0, 0.3));\n",
              "      fill: #FFFFFF;\n",
              "    }\n",
              "  </style>\n",
              "\n",
              "      <script>\n",
              "        const buttonEl =\n",
              "          document.querySelector('#df-20ecae6d-3028-4866-a125-0ce9c1744eab button.colab-df-convert');\n",
              "        buttonEl.style.display =\n",
              "          google.colab.kernel.accessAllowed ? 'block' : 'none';\n",
              "\n",
              "        async function convertToInteractive(key) {\n",
              "          const element = document.querySelector('#df-20ecae6d-3028-4866-a125-0ce9c1744eab');\n",
              "          const dataTable =\n",
              "            await google.colab.kernel.invokeFunction('convertToInteractive',\n",
              "                                                     [key], {});\n",
              "          if (!dataTable) return;\n",
              "\n",
              "          const docLinkHtml = 'Like what you see? Visit the ' +\n",
              "            '<a target=\"_blank\" href=https://colab.research.google.com/notebooks/data_table.ipynb>data table notebook</a>'\n",
              "            + ' to learn more about interactive tables.';\n",
              "          element.innerHTML = '';\n",
              "          dataTable['output_type'] = 'display_data';\n",
              "          await google.colab.output.renderOutput(dataTable, element);\n",
              "          const docLink = document.createElement('div');\n",
              "          docLink.innerHTML = docLinkHtml;\n",
              "          element.appendChild(docLink);\n",
              "        }\n",
              "      </script>\n",
              "    </div>\n",
              "  </div>\n",
              "  "
            ]
          },
          "metadata": {},
          "execution_count": 141
        }
      ]
    },
    {
      "cell_type": "code",
      "source": [
        "dados.describe()"
      ],
      "metadata": {
        "colab": {
          "base_uri": "https://localhost:8080/",
          "height": 300
        },
        "id": "ZPAqLUuxyiU_",
        "outputId": "92c89984-ee87-43e1-bd6b-9dc622c4a4b2"
      },
      "execution_count": 142,
      "outputs": [
        {
          "output_type": "execute_result",
          "data": {
            "text/plain": [
              "            Tenure  Charges_Monthly  Charges_Total\n",
              "count  7032.000000      7032.000000    7032.000000\n",
              "mean     32.421786        64.798208    2283.300441\n",
              "std      24.545260        30.085974    2266.771362\n",
              "min       1.000000        18.250000      18.800000\n",
              "25%       9.000000        35.587500     401.450000\n",
              "50%      29.000000        70.350000    1397.475000\n",
              "75%      55.000000        89.862500    3794.737500\n",
              "max      72.000000       118.750000    8684.800000"
            ],
            "text/html": [
              "\n",
              "  <div id=\"df-1c0cc6f6-2b91-4c57-82ab-56d1b3c20e74\">\n",
              "    <div class=\"colab-df-container\">\n",
              "      <div>\n",
              "<style scoped>\n",
              "    .dataframe tbody tr th:only-of-type {\n",
              "        vertical-align: middle;\n",
              "    }\n",
              "\n",
              "    .dataframe tbody tr th {\n",
              "        vertical-align: top;\n",
              "    }\n",
              "\n",
              "    .dataframe thead th {\n",
              "        text-align: right;\n",
              "    }\n",
              "</style>\n",
              "<table border=\"1\" class=\"dataframe\">\n",
              "  <thead>\n",
              "    <tr style=\"text-align: right;\">\n",
              "      <th></th>\n",
              "      <th>Tenure</th>\n",
              "      <th>Charges_Monthly</th>\n",
              "      <th>Charges_Total</th>\n",
              "    </tr>\n",
              "  </thead>\n",
              "  <tbody>\n",
              "    <tr>\n",
              "      <th>count</th>\n",
              "      <td>7032.000000</td>\n",
              "      <td>7032.000000</td>\n",
              "      <td>7032.000000</td>\n",
              "    </tr>\n",
              "    <tr>\n",
              "      <th>mean</th>\n",
              "      <td>32.421786</td>\n",
              "      <td>64.798208</td>\n",
              "      <td>2283.300441</td>\n",
              "    </tr>\n",
              "    <tr>\n",
              "      <th>std</th>\n",
              "      <td>24.545260</td>\n",
              "      <td>30.085974</td>\n",
              "      <td>2266.771362</td>\n",
              "    </tr>\n",
              "    <tr>\n",
              "      <th>min</th>\n",
              "      <td>1.000000</td>\n",
              "      <td>18.250000</td>\n",
              "      <td>18.800000</td>\n",
              "    </tr>\n",
              "    <tr>\n",
              "      <th>25%</th>\n",
              "      <td>9.000000</td>\n",
              "      <td>35.587500</td>\n",
              "      <td>401.450000</td>\n",
              "    </tr>\n",
              "    <tr>\n",
              "      <th>50%</th>\n",
              "      <td>29.000000</td>\n",
              "      <td>70.350000</td>\n",
              "      <td>1397.475000</td>\n",
              "    </tr>\n",
              "    <tr>\n",
              "      <th>75%</th>\n",
              "      <td>55.000000</td>\n",
              "      <td>89.862500</td>\n",
              "      <td>3794.737500</td>\n",
              "    </tr>\n",
              "    <tr>\n",
              "      <th>max</th>\n",
              "      <td>72.000000</td>\n",
              "      <td>118.750000</td>\n",
              "      <td>8684.800000</td>\n",
              "    </tr>\n",
              "  </tbody>\n",
              "</table>\n",
              "</div>\n",
              "      <button class=\"colab-df-convert\" onclick=\"convertToInteractive('df-1c0cc6f6-2b91-4c57-82ab-56d1b3c20e74')\"\n",
              "              title=\"Convert this dataframe to an interactive table.\"\n",
              "              style=\"display:none;\">\n",
              "        \n",
              "  <svg xmlns=\"http://www.w3.org/2000/svg\" height=\"24px\"viewBox=\"0 0 24 24\"\n",
              "       width=\"24px\">\n",
              "    <path d=\"M0 0h24v24H0V0z\" fill=\"none\"/>\n",
              "    <path d=\"M18.56 5.44l.94 2.06.94-2.06 2.06-.94-2.06-.94-.94-2.06-.94 2.06-2.06.94zm-11 1L8.5 8.5l.94-2.06 2.06-.94-2.06-.94L8.5 2.5l-.94 2.06-2.06.94zm10 10l.94 2.06.94-2.06 2.06-.94-2.06-.94-.94-2.06-.94 2.06-2.06.94z\"/><path d=\"M17.41 7.96l-1.37-1.37c-.4-.4-.92-.59-1.43-.59-.52 0-1.04.2-1.43.59L10.3 9.45l-7.72 7.72c-.78.78-.78 2.05 0 2.83L4 21.41c.39.39.9.59 1.41.59.51 0 1.02-.2 1.41-.59l7.78-7.78 2.81-2.81c.8-.78.8-2.07 0-2.86zM5.41 20L4 18.59l7.72-7.72 1.47 1.35L5.41 20z\"/>\n",
              "  </svg>\n",
              "      </button>\n",
              "      \n",
              "  <style>\n",
              "    .colab-df-container {\n",
              "      display:flex;\n",
              "      flex-wrap:wrap;\n",
              "      gap: 12px;\n",
              "    }\n",
              "\n",
              "    .colab-df-convert {\n",
              "      background-color: #E8F0FE;\n",
              "      border: none;\n",
              "      border-radius: 50%;\n",
              "      cursor: pointer;\n",
              "      display: none;\n",
              "      fill: #1967D2;\n",
              "      height: 32px;\n",
              "      padding: 0 0 0 0;\n",
              "      width: 32px;\n",
              "    }\n",
              "\n",
              "    .colab-df-convert:hover {\n",
              "      background-color: #E2EBFA;\n",
              "      box-shadow: 0px 1px 2px rgba(60, 64, 67, 0.3), 0px 1px 3px 1px rgba(60, 64, 67, 0.15);\n",
              "      fill: #174EA6;\n",
              "    }\n",
              "\n",
              "    [theme=dark] .colab-df-convert {\n",
              "      background-color: #3B4455;\n",
              "      fill: #D2E3FC;\n",
              "    }\n",
              "\n",
              "    [theme=dark] .colab-df-convert:hover {\n",
              "      background-color: #434B5C;\n",
              "      box-shadow: 0px 1px 3px 1px rgba(0, 0, 0, 0.15);\n",
              "      filter: drop-shadow(0px 1px 2px rgba(0, 0, 0, 0.3));\n",
              "      fill: #FFFFFF;\n",
              "    }\n",
              "  </style>\n",
              "\n",
              "      <script>\n",
              "        const buttonEl =\n",
              "          document.querySelector('#df-1c0cc6f6-2b91-4c57-82ab-56d1b3c20e74 button.colab-df-convert');\n",
              "        buttonEl.style.display =\n",
              "          google.colab.kernel.accessAllowed ? 'block' : 'none';\n",
              "\n",
              "        async function convertToInteractive(key) {\n",
              "          const element = document.querySelector('#df-1c0cc6f6-2b91-4c57-82ab-56d1b3c20e74');\n",
              "          const dataTable =\n",
              "            await google.colab.kernel.invokeFunction('convertToInteractive',\n",
              "                                                     [key], {});\n",
              "          if (!dataTable) return;\n",
              "\n",
              "          const docLinkHtml = 'Like what you see? Visit the ' +\n",
              "            '<a target=\"_blank\" href=https://colab.research.google.com/notebooks/data_table.ipynb>data table notebook</a>'\n",
              "            + ' to learn more about interactive tables.';\n",
              "          element.innerHTML = '';\n",
              "          dataTable['output_type'] = 'display_data';\n",
              "          await google.colab.output.renderOutput(dataTable, element);\n",
              "          const docLink = document.createElement('div');\n",
              "          docLink.innerHTML = docLinkHtml;\n",
              "          element.appendChild(docLink);\n",
              "        }\n",
              "      </script>\n",
              "    </div>\n",
              "  </div>\n",
              "  "
            ]
          },
          "metadata": {},
          "execution_count": 142
        }
      ]
    },
    {
      "cell_type": "markdown",
      "source": [
        "Agora, irei reordenar as colunas para deixar as colunas tipo int64 e float64 por último e facilitar meu encoding."
      ],
      "metadata": {
        "id": "Sd2G66E7iQNi"
      }
    },
    {
      "cell_type": "code",
      "source": [
        "# Pegando os nomes das colunas\n",
        "columns_names = dados.columns\n",
        "print(columns_names)"
      ],
      "metadata": {
        "colab": {
          "base_uri": "https://localhost:8080/"
        },
        "id": "4IOtE6JMiXIR",
        "outputId": "8e182586-f429-419d-c0df-461146f19f01"
      },
      "execution_count": 143,
      "outputs": [
        {
          "output_type": "stream",
          "name": "stdout",
          "text": [
            "Index(['customerID', 'Churn', 'Gender', 'SeniorCitizen', 'Partner',\n",
            "       'Dependents', 'Tenure', 'PhoneService', 'MultipleLines',\n",
            "       'InternetService', 'OnlineSecurity', 'OnlineBackup', 'DeviceProtection',\n",
            "       'TechSupport', 'StreamingTV', 'StreamingMovies', 'Contract',\n",
            "       'PaperlessBilling', 'PaymentMethod', 'Charges_Monthly',\n",
            "       'Charges_Total'],\n",
            "      dtype='object')\n"
          ]
        }
      ]
    },
    {
      "cell_type": "code",
      "source": [
        "# Reordenando\n",
        "dados = dados[['customerID', 'Churn', 'Gender', 'SeniorCitizen', 'Partner',\n",
        "       'Dependents', 'PhoneService', 'MultipleLines',\n",
        "       'InternetService', 'OnlineSecurity', 'OnlineBackup', 'DeviceProtection',\n",
        "       'TechSupport', 'StreamingTV', 'StreamingMovies', 'Contract',\n",
        "       'PaperlessBilling', 'PaymentMethod', 'Tenure', 'Charges_Monthly',\n",
        "       'Charges_Total']]\n",
        "dados.info()"
      ],
      "metadata": {
        "colab": {
          "base_uri": "https://localhost:8080/"
        },
        "id": "VTxA2pWcihO7",
        "outputId": "4664afa0-0503-44e5-d232-bfe397717805"
      },
      "execution_count": 144,
      "outputs": [
        {
          "output_type": "stream",
          "name": "stdout",
          "text": [
            "<class 'pandas.core.frame.DataFrame'>\n",
            "Int64Index: 7032 entries, 0 to 7266\n",
            "Data columns (total 21 columns):\n",
            " #   Column            Non-Null Count  Dtype  \n",
            "---  ------            --------------  -----  \n",
            " 0   customerID        7032 non-null   object \n",
            " 1   Churn             7032 non-null   object \n",
            " 2   Gender            7032 non-null   object \n",
            " 3   SeniorCitizen     7032 non-null   object \n",
            " 4   Partner           7032 non-null   object \n",
            " 5   Dependents        7032 non-null   object \n",
            " 6   PhoneService      7032 non-null   object \n",
            " 7   MultipleLines     7032 non-null   object \n",
            " 8   InternetService   7032 non-null   object \n",
            " 9   OnlineSecurity    7032 non-null   object \n",
            " 10  OnlineBackup      7032 non-null   object \n",
            " 11  DeviceProtection  7032 non-null   object \n",
            " 12  TechSupport       7032 non-null   object \n",
            " 13  StreamingTV       7032 non-null   object \n",
            " 14  StreamingMovies   7032 non-null   object \n",
            " 15  Contract          7032 non-null   object \n",
            " 16  PaperlessBilling  7032 non-null   object \n",
            " 17  PaymentMethod     7032 non-null   object \n",
            " 18  Tenure            7032 non-null   int64  \n",
            " 19  Charges_Monthly   7032 non-null   float64\n",
            " 20  Charges_Total     7032 non-null   float64\n",
            "dtypes: float64(2), int64(1), object(18)\n",
            "memory usage: 1.2+ MB\n"
          ]
        }
      ]
    },
    {
      "cell_type": "markdown",
      "source": [
        "Analisando a variável target **Churn** para ver o desbalanceamento.\n",
        "\n",
        "Com o gráfico abaixo podemos perceber que há uma diferença muito grande na quantidade de clientes que deixaram e permanecem na empresa, ou seja, os dados estão muito desbalanceados."
      ],
      "metadata": {
        "id": "NPtGrwZAPrdg"
      }
    },
    {
      "cell_type": "code",
      "source": [
        "plot = sns.barplot(x=dados['Churn'].value_counts().index, y=dados['Churn'].value_counts(), orient='v');\n",
        "plot.set_title('Distribuição do Churn de clientes');\n",
        "plot.grid(True, axis='y');"
      ],
      "metadata": {
        "colab": {
          "base_uri": "https://localhost:8080/",
          "height": 284
        },
        "id": "-J0mGJX0Pk4z",
        "outputId": "1a782f3f-2386-4a0d-b635-7d1953ba3185"
      },
      "execution_count": 145,
      "outputs": [
        {
          "output_type": "display_data",
          "data": {
            "text/plain": [
              "<Figure size 432x288 with 1 Axes>"
            ],
            "image/png": "[encoded data removed]"
          },
          "metadata": {}
        }
      ]
    },
    {
      "cell_type": "code",
      "source": [
        "print(f'{dados[\"Churn\"].value_counts()[\"Yes\"]/len(dados)*100:.2f}% dos clientes deixaram a empresa.')\n",
        "print(f'{dados[\"Churn\"].value_counts()[\"No\"]/len(dados)*100:.2f}% dos clientes permanecem na empresa.')"
      ],
      "metadata": {
        "colab": {
          "base_uri": "https://localhost:8080/"
        },
        "id": "Pw-knZjkQL1N",
        "outputId": "090740b1-9201-4173-bc14-243fe2a2e40b"
      },
      "execution_count": 146,
      "outputs": [
        {
          "output_type": "stream",
          "name": "stdout",
          "text": [
            "26.58% dos clientes deixaram a empresa.\n",
            "73.42% dos clientes permanecem na empresa.\n"
          ]
        }
      ]
    },
    {
      "cell_type": "markdown",
      "source": [
        "### **Encoding dos dados**\n",
        "\n",
        "Irei trabalhar primeiro no encoding dos dados para configurar as variáveis categóricas."
      ],
      "metadata": {
        "id": "P8pn_JFvU7-U"
      }
    },
    {
      "cell_type": "code",
      "source": [
        "# Separando a entrada\n",
        "X = dados.iloc[:, 2:]\n",
        "X.head()"
      ],
      "metadata": {
        "colab": {
          "base_uri": "https://localhost:8080/",
          "height": 340
        },
        "id": "qyUDC-EbU-o6",
        "outputId": "527a0d35-150d-4d05-e2f0-1e143c41e31e"
      },
      "execution_count": 147,
      "outputs": [
        {
          "output_type": "execute_result",
          "data": {
            "text/plain": [
              "   Gender SeniorCitizen Partner Dependents PhoneService MultipleLines  \\\n",
              "0  Female            No     Yes        Yes          Yes            No   \n",
              "1    Male            No      No         No          Yes           Yes   \n",
              "2    Male            No      No         No          Yes            No   \n",
              "3    Male           Yes     Yes         No          Yes            No   \n",
              "4  Female           Yes     Yes         No          Yes            No   \n",
              "\n",
              "  InternetService OnlineSecurity OnlineBackup DeviceProtection TechSupport  \\\n",
              "0             DSL             No          Yes               No         Yes   \n",
              "1             DSL             No           No               No          No   \n",
              "2     Fiber optic             No           No              Yes          No   \n",
              "3     Fiber optic             No          Yes              Yes          No   \n",
              "4     Fiber optic             No           No               No         Yes   \n",
              "\n",
              "  StreamingTV StreamingMovies        Contract PaperlessBilling  \\\n",
              "0         Yes              No        One year              Yes   \n",
              "1          No             Yes  Month-to-month               No   \n",
              "2          No              No  Month-to-month              Yes   \n",
              "3         Yes             Yes  Month-to-month              Yes   \n",
              "4         Yes              No  Month-to-month              Yes   \n",
              "\n",
              "      PaymentMethod  Tenure  Charges_Monthly  Charges_Total  \n",
              "0      Mailed check       9             65.6         593.30  \n",
              "1      Mailed check       9             59.9         542.40  \n",
              "2  Electronic check       4             73.9         280.85  \n",
              "3  Electronic check      13             98.0        1237.85  \n",
              "4      Mailed check       3             83.9         267.40  "
            ],
            "text/html": [
              "\n",
              "  <div id=\"df-a2652a82-d64e-460a-b2f0-f60edb58d242\">\n",
              "    <div class=\"colab-df-container\">\n",
              "      <div>\n",
              "<style scoped>\n",
              "    .dataframe tbody tr th:only-of-type {\n",
              "        vertical-align: middle;\n",
              "    }\n",
              "\n",
              "    .dataframe tbody tr th {\n",
              "        vertical-align: top;\n",
              "    }\n",
              "\n",
              "    .dataframe thead th {\n",
              "        text-align: right;\n",
              "    }\n",
              "</style>\n",
              "<table border=\"1\" class=\"dataframe\">\n",
              "  <thead>\n",
              "    <tr style=\"text-align: right;\">\n",
              "      <th></th>\n",
              "      <th>Gender</th>\n",
              "      <th>SeniorCitizen</th>\n",
              "      <th>Partner</th>\n",
              "      <th>Dependents</th>\n",
              "      <th>PhoneService</th>\n",
              "      <th>MultipleLines</th>\n",
              "      <th>InternetService</th>\n",
              "      <th>OnlineSecurity</th>\n",
              "      <th>OnlineBackup</th>\n",
              "      <th>DeviceProtection</th>\n",
              "      <th>TechSupport</th>\n",
              "      <th>StreamingTV</th>\n",
              "      <th>StreamingMovies</th>\n",
              "      <th>Contract</th>\n",
              "      <th>PaperlessBilling</th>\n",
              "      <th>PaymentMethod</th>\n",
              "      <th>Tenure</th>\n",
              "      <th>Charges_Monthly</th>\n",
              "      <th>Charges_Total</th>\n",
              "    </tr>\n",
              "  </thead>\n",
              "  <tbody>\n",
              "    <tr>\n",
              "      <th>0</th>\n",
              "      <td>Female</td>\n",
              "      <td>No</td>\n",
              "      <td>Yes</td>\n",
              "      <td>Yes</td>\n",
              "      <td>Yes</td>\n",
              "      <td>No</td>\n",
              "      <td>DSL</td>\n",
              "      <td>No</td>\n",
              "      <td>Yes</td>\n",
              "      <td>No</td>\n",
              "      <td>Yes</td>\n",
              "      <td>Yes</td>\n",
              "      <td>No</td>\n",
              "      <td>One year</td>\n",
              "      <td>Yes</td>\n",
              "      <td>Mailed check</td>\n",
              "      <td>9</td>\n",
              "      <td>65.6</td>\n",
              "      <td>593.30</td>\n",
              "    </tr>\n",
              "    <tr>\n",
              "      <th>1</th>\n",
              "      <td>Male</td>\n",
              "      <td>No</td>\n",
              "      <td>No</td>\n",
              "      <td>No</td>\n",
              "      <td>Yes</td>\n",
              "      <td>Yes</td>\n",
              "      <td>DSL</td>\n",
              "      <td>No</td>\n",
              "      <td>No</td>\n",
              "      <td>No</td>\n",
              "      <td>No</td>\n",
              "      <td>No</td>\n",
              "      <td>Yes</td>\n",
              "      <td>Month-to-month</td>\n",
              "      <td>No</td>\n",
              "      <td>Mailed check</td>\n",
              "      <td>9</td>\n",
              "      <td>59.9</td>\n",
              "      <td>542.40</td>\n",
              "    </tr>\n",
              "    <tr>\n",
              "      <th>2</th>\n",
              "      <td>Male</td>\n",
              "      <td>No</td>\n",
              "      <td>No</td>\n",
              "      <td>No</td>\n",
              "      <td>Yes</td>\n",
              "      <td>No</td>\n",
              "      <td>Fiber optic</td>\n",
              "      <td>No</td>\n",
              "      <td>No</td>\n",
              "      <td>Yes</td>\n",
              "      <td>No</td>\n",
              "      <td>No</td>\n",
              "      <td>No</td>\n",
              "      <td>Month-to-month</td>\n",
              "      <td>Yes</td>\n",
              "      <td>Electronic check</td>\n",
              "      <td>4</td>\n",
              "      <td>73.9</td>\n",
              "      <td>280.85</td>\n",
              "    </tr>\n",
              "    <tr>\n",
              "      <th>3</th>\n",
              "      <td>Male</td>\n",
              "      <td>Yes</td>\n",
              "      <td>Yes</td>\n",
              "      <td>No</td>\n",
              "      <td>Yes</td>\n",
              "      <td>No</td>\n",
              "      <td>Fiber optic</td>\n",
              "      <td>No</td>\n",
              "      <td>Yes</td>\n",
              "      <td>Yes</td>\n",
              "      <td>No</td>\n",
              "      <td>Yes</td>\n",
              "      <td>Yes</td>\n",
              "      <td>Month-to-month</td>\n",
              "      <td>Yes</td>\n",
              "      <td>Electronic check</td>\n",
              "      <td>13</td>\n",
              "      <td>98.0</td>\n",
              "      <td>1237.85</td>\n",
              "    </tr>\n",
              "    <tr>\n",
              "      <th>4</th>\n",
              "      <td>Female</td>\n",
              "      <td>Yes</td>\n",
              "      <td>Yes</td>\n",
              "      <td>No</td>\n",
              "      <td>Yes</td>\n",
              "      <td>No</td>\n",
              "      <td>Fiber optic</td>\n",
              "      <td>No</td>\n",
              "      <td>No</td>\n",
              "      <td>No</td>\n",
              "      <td>Yes</td>\n",
              "      <td>Yes</td>\n",
              "      <td>No</td>\n",
              "      <td>Month-to-month</td>\n",
              "      <td>Yes</td>\n",
              "      <td>Mailed check</td>\n",
              "      <td>3</td>\n",
              "      <td>83.9</td>\n",
              "      <td>267.40</td>\n",
              "    </tr>\n",
              "  </tbody>\n",
              "</table>\n",
              "</div>\n",
              "      <button class=\"colab-df-convert\" onclick=\"convertToInteractive('df-a2652a82-d64e-460a-b2f0-f60edb58d242')\"\n",
              "              title=\"Convert this dataframe to an interactive table.\"\n",
              "              style=\"display:none;\">\n",
              "        \n",
              "  <svg xmlns=\"http://www.w3.org/2000/svg\" height=\"24px\"viewBox=\"0 0 24 24\"\n",
              "       width=\"24px\">\n",
              "    <path d=\"M0 0h24v24H0V0z\" fill=\"none\"/>\n",
              "    <path d=\"M18.56 5.44l.94 2.06.94-2.06 2.06-.94-2.06-.94-.94-2.06-.94 2.06-2.06.94zm-11 1L8.5 8.5l.94-2.06 2.06-.94-2.06-.94L8.5 2.5l-.94 2.06-2.06.94zm10 10l.94 2.06.94-2.06 2.06-.94-2.06-.94-.94-2.06-.94 2.06-2.06.94z\"/><path d=\"M17.41 7.96l-1.37-1.37c-.4-.4-.92-.59-1.43-.59-.52 0-1.04.2-1.43.59L10.3 9.45l-7.72 7.72c-.78.78-.78 2.05 0 2.83L4 21.41c.39.39.9.59 1.41.59.51 0 1.02-.2 1.41-.59l7.78-7.78 2.81-2.81c.8-.78.8-2.07 0-2.86zM5.41 20L4 18.59l7.72-7.72 1.47 1.35L5.41 20z\"/>\n",
              "  </svg>\n",
              "      </button>\n",
              "      \n",
              "  <style>\n",
              "    .colab-df-container {\n",
              "      display:flex;\n",
              "      flex-wrap:wrap;\n",
              "      gap: 12px;\n",
              "    }\n",
              "\n",
              "    .colab-df-convert {\n",
              "      background-color: #E8F0FE;\n",
              "      border: none;\n",
              "      border-radius: 50%;\n",
              "      cursor: pointer;\n",
              "      display: none;\n",
              "      fill: #1967D2;\n",
              "      height: 32px;\n",
              "      padding: 0 0 0 0;\n",
              "      width: 32px;\n",
              "    }\n",
              "\n",
              "    .colab-df-convert:hover {\n",
              "      background-color: #E2EBFA;\n",
              "      box-shadow: 0px 1px 2px rgba(60, 64, 67, 0.3), 0px 1px 3px 1px rgba(60, 64, 67, 0.15);\n",
              "      fill: #174EA6;\n",
              "    }\n",
              "\n",
              "    [theme=dark] .colab-df-convert {\n",
              "      background-color: #3B4455;\n",
              "      fill: #D2E3FC;\n",
              "    }\n",
              "\n",
              "    [theme=dark] .colab-df-convert:hover {\n",
              "      background-color: #434B5C;\n",
              "      box-shadow: 0px 1px 3px 1px rgba(0, 0, 0, 0.15);\n",
              "      filter: drop-shadow(0px 1px 2px rgba(0, 0, 0, 0.3));\n",
              "      fill: #FFFFFF;\n",
              "    }\n",
              "  </style>\n",
              "\n",
              "      <script>\n",
              "        const buttonEl =\n",
              "          document.querySelector('#df-a2652a82-d64e-460a-b2f0-f60edb58d242 button.colab-df-convert');\n",
              "        buttonEl.style.display =\n",
              "          google.colab.kernel.accessAllowed ? 'block' : 'none';\n",
              "\n",
              "        async function convertToInteractive(key) {\n",
              "          const element = document.querySelector('#df-a2652a82-d64e-460a-b2f0-f60edb58d242');\n",
              "          const dataTable =\n",
              "            await google.colab.kernel.invokeFunction('convertToInteractive',\n",
              "                                                     [key], {});\n",
              "          if (!dataTable) return;\n",
              "\n",
              "          const docLinkHtml = 'Like what you see? Visit the ' +\n",
              "            '<a target=\"_blank\" href=https://colab.research.google.com/notebooks/data_table.ipynb>data table notebook</a>'\n",
              "            + ' to learn more about interactive tables.';\n",
              "          element.innerHTML = '';\n",
              "          dataTable['output_type'] = 'display_data';\n",
              "          await google.colab.output.renderOutput(dataTable, element);\n",
              "          const docLink = document.createElement('div');\n",
              "          docLink.innerHTML = docLinkHtml;\n",
              "          element.appendChild(docLink);\n",
              "        }\n",
              "      </script>\n",
              "    </div>\n",
              "  </div>\n",
              "  "
            ]
          },
          "metadata": {},
          "execution_count": 147
        }
      ]
    },
    {
      "cell_type": "code",
      "source": [
        "# Separando o target\n",
        "y = dados.iloc[:, 1]\n",
        "y.head()"
      ],
      "metadata": {
        "colab": {
          "base_uri": "https://localhost:8080/"
        },
        "id": "skglZgFYVU8E",
        "outputId": "60f4689f-2d17-4f9c-cc85-14a68e83a2b6"
      },
      "execution_count": 148,
      "outputs": [
        {
          "output_type": "execute_result",
          "data": {
            "text/plain": [
              "0     No\n",
              "1     No\n",
              "2    Yes\n",
              "3    Yes\n",
              "4    Yes\n",
              "Name: Churn, dtype: object"
            ]
          },
          "metadata": {},
          "execution_count": 148
        }
      ]
    },
    {
      "cell_type": "markdown",
      "source": [
        "### **Avaliações com os dados desbalanceados**"
      ],
      "metadata": {
        "id": "Ry33k1YbUCXu"
      }
    },
    {
      "cell_type": "code",
      "source": [
        "# Separando os dados em treino e teste\n",
        "X_train, X_test, y_train, y_test = train_test_split(X, y, test_size=0.15, stratify=y)"
      ],
      "metadata": {
        "id": "nMZHXVkxUUlv"
      },
      "execution_count": 149,
      "outputs": []
    },
    {
      "cell_type": "markdown",
      "source": [
        "Separei os dados com 15% para teste, pois irei usar **validação cruzada**. logo os dados de teste serão utilizados no teste final de cada análise. "
      ],
      "metadata": {
        "id": "DcxbViQFsh-M"
      }
    },
    {
      "cell_type": "code",
      "source": [
        "print(f'Shape do X_train: {X_train.shape}')\n",
        "print(f'Shape do y_train: {y_train.shape}')\n",
        "print(f'Shape do X_test: {X_test.shape}')\n",
        "print(f'Shape do y_test: {y_test.shape}')"
      ],
      "metadata": {
        "colab": {
          "base_uri": "https://localhost:8080/"
        },
        "id": "xrYtFAMYZn9J",
        "outputId": "702a0899-c894-4908-c72f-ed1d0ab2a029"
      },
      "execution_count": 150,
      "outputs": [
        {
          "output_type": "stream",
          "name": "stdout",
          "text": [
            "Shape do X_train: (5977, 19)\n",
            "Shape do y_train: (5977,)\n",
            "Shape do X_test: (1055, 19)\n",
            "Shape do y_test: (1055,)\n"
          ]
        }
      ]
    },
    {
      "cell_type": "code",
      "source": [
        "plot = sns.barplot(x=y_train.value_counts().index, y=y_train.value_counts(), orient='v');\n",
        "plot.set_title('Distribuição do Churn de clientes nos dados de treino');\n",
        "plot.grid(True, axis='y');"
      ],
      "metadata": {
        "colab": {
          "base_uri": "https://localhost:8080/",
          "height": 284
        },
        "id": "VZCkB6-a9nrf",
        "outputId": "a2a240b6-e72d-4110-af3d-c5492e2110b9"
      },
      "execution_count": 151,
      "outputs": [
        {
          "output_type": "display_data",
          "data": {
            "text/plain": [
              "<Figure size 432x288 with 1 Axes>"
            ],
            "image/png": "[encoded data removed]"
          },
          "metadata": {}
        }
      ]
    },
    {
      "cell_type": "code",
      "source": [
        "plot = sns.barplot(x=y_test.value_counts().index, y=y_test.value_counts(), orient='v');\n",
        "plot.set_title('Distribuição do Churn de clientes nos dados de teste');\n",
        "plot.grid(True, axis='y');"
      ],
      "metadata": {
        "colab": {
          "base_uri": "https://localhost:8080/",
          "height": 284
        },
        "id": "_S5f0MgS-URH",
        "outputId": "3c7a6f74-cd75-4f2c-a0b5-a9240880379e"
      },
      "execution_count": 152,
      "outputs": [
        {
          "output_type": "display_data",
          "data": {
            "text/plain": [
              "<Figure size 432x288 with 1 Axes>"
            ],
            "image/png": "[encoded data removed]"
          },
          "metadata": {}
        }
      ]
    },
    {
      "cell_type": "markdown",
      "source": [
        "Agora é preciso realizar os encoding dos dados.\n",
        "\n",
        "Vou usar o [One Hoting Encoding](https://scikit-learn.org/stable/modules/generated/sklearn.preprocessing.OneHotEncoder.html#sklearn.preprocessing.OneHotEncoder) e [LabelBinarizer](https://scikit-learn.org/stable/modules/generated/sklearn.preprocessing.LabelBinarizer.html) do Sklearn, pois consigo transformar os dados categóricos em uma matriz numérica e mapear a mesma representação para os dados de teste."
      ],
      "metadata": {
        "id": "VdwQZCAyaYgI"
      }
    },
    {
      "cell_type": "code",
      "source": [
        "from sklearn.preprocessing import OneHotEncoder, LabelBinarizer"
      ],
      "metadata": {
        "id": "2nx30gOTaWjm"
      },
      "execution_count": 153,
      "outputs": []
    },
    {
      "cell_type": "code",
      "source": [
        "# Criando o encoder com drop=if_binary, para reduzir a quantidade total de colunas no hot_encoder\n",
        "X_enc = OneHotEncoder(drop='if_binary', sparse=False, handle_unknown='ignore', dtype=int)\n",
        "X_enc.fit(X_train.iloc[:, :-3])"
      ],
      "metadata": {
        "colab": {
          "base_uri": "https://localhost:8080/"
        },
        "id": "NqUUHwvXaXBi",
        "outputId": "6c98e77d-43f8-4115-a635-c42fa389bef1"
      },
      "execution_count": 154,
      "outputs": [
        {
          "output_type": "execute_result",
          "data": {
            "text/plain": [
              "OneHotEncoder(drop='if_binary', dtype=<class 'int'>, handle_unknown='ignore',\n",
              "              sparse=False)"
            ]
          },
          "metadata": {},
          "execution_count": 154
        }
      ]
    },
    {
      "cell_type": "code",
      "source": [
        "# Categorias codificadas\n",
        "X_enc.categories_"
      ],
      "metadata": {
        "colab": {
          "base_uri": "https://localhost:8080/"
        },
        "id": "R8rcN4T0aXFD",
        "outputId": "431d0e9c-b9d3-440b-96b3-e4543ecb453e"
      },
      "execution_count": 155,
      "outputs": [
        {
          "output_type": "execute_result",
          "data": {
            "text/plain": [
              "[array(['Female', 'Male'], dtype=object),\n",
              " array(['No', 'Yes'], dtype=object),\n",
              " array(['No', 'Yes'], dtype=object),\n",
              " array(['No', 'Yes'], dtype=object),\n",
              " array(['No', 'Yes'], dtype=object),\n",
              " array(['No', 'No phone service', 'Yes'], dtype=object),\n",
              " array(['DSL', 'Fiber optic', 'No'], dtype=object),\n",
              " array(['No', 'No internet service', 'Yes'], dtype=object),\n",
              " array(['No', 'No internet service', 'Yes'], dtype=object),\n",
              " array(['No', 'No internet service', 'Yes'], dtype=object),\n",
              " array(['No', 'No internet service', 'Yes'], dtype=object),\n",
              " array(['No', 'No internet service', 'Yes'], dtype=object),\n",
              " array(['No', 'No internet service', 'Yes'], dtype=object),\n",
              " array(['Month-to-month', 'One year', 'Two year'], dtype=object),\n",
              " array(['No', 'Yes'], dtype=object),\n",
              " array(['Bank transfer (automatic)', 'Credit card (automatic)',\n",
              "        'Electronic check', 'Mailed check'], dtype=object)]"
            ]
          },
          "metadata": {},
          "execution_count": 155
        }
      ]
    },
    {
      "cell_type": "code",
      "source": [
        "# Nomes das novas características que serão mapeadas paras as colunas\n",
        "X_enc_names = X_enc.get_feature_names_out()\n",
        "X_enc_names"
      ],
      "metadata": {
        "colab": {
          "base_uri": "https://localhost:8080/"
        },
        "id": "3HyEySd6nZ32",
        "outputId": "6b783d29-7cd9-41cf-fd5c-d549ec979225"
      },
      "execution_count": 156,
      "outputs": [
        {
          "output_type": "execute_result",
          "data": {
            "text/plain": [
              "array(['Gender_Male', 'SeniorCitizen_Yes', 'Partner_Yes',\n",
              "       'Dependents_Yes', 'PhoneService_Yes', 'MultipleLines_No',\n",
              "       'MultipleLines_No phone service', 'MultipleLines_Yes',\n",
              "       'InternetService_DSL', 'InternetService_Fiber optic',\n",
              "       'InternetService_No', 'OnlineSecurity_No',\n",
              "       'OnlineSecurity_No internet service', 'OnlineSecurity_Yes',\n",
              "       'OnlineBackup_No', 'OnlineBackup_No internet service',\n",
              "       'OnlineBackup_Yes', 'DeviceProtection_No',\n",
              "       'DeviceProtection_No internet service', 'DeviceProtection_Yes',\n",
              "       'TechSupport_No', 'TechSupport_No internet service',\n",
              "       'TechSupport_Yes', 'StreamingTV_No',\n",
              "       'StreamingTV_No internet service', 'StreamingTV_Yes',\n",
              "       'StreamingMovies_No', 'StreamingMovies_No internet service',\n",
              "       'StreamingMovies_Yes', 'Contract_Month-to-month',\n",
              "       'Contract_One year', 'Contract_Two year', 'PaperlessBilling_Yes',\n",
              "       'PaymentMethod_Bank transfer (automatic)',\n",
              "       'PaymentMethod_Credit card (automatic)',\n",
              "       'PaymentMethod_Electronic check', 'PaymentMethod_Mailed check'],\n",
              "      dtype=object)"
            ]
          },
          "metadata": {},
          "execution_count": 156
        }
      ]
    },
    {
      "cell_type": "code",
      "source": [
        "# Mapeando as colunas codificadas para o X\n",
        "X_train_enc = pd.DataFrame(X_enc.transform(X_train.iloc[:, :-3]), columns=X_enc_names)\n",
        "X_train_enc"
      ],
      "metadata": {
        "colab": {
          "base_uri": "https://localhost:8080/",
          "height": 522
        },
        "id": "_N_9i9IblnXb",
        "outputId": "a811ca6c-c803-4577-c454-c1d9b58cf297"
      },
      "execution_count": 157,
      "outputs": [
        {
          "output_type": "execute_result",
          "data": {
            "text/plain": [
              "      Gender_Male  SeniorCitizen_Yes  Partner_Yes  Dependents_Yes  \\\n",
              "0               1                  0            0               0   \n",
              "1               1                  0            1               1   \n",
              "2               1                  0            0               0   \n",
              "3               1                  0            0               0   \n",
              "4               0                  0            1               0   \n",
              "...           ...                ...          ...             ...   \n",
              "5972            1                  0            1               1   \n",
              "5973            1                  0            0               0   \n",
              "5974            1                  0            1               1   \n",
              "5975            0                  0            1               0   \n",
              "5976            1                  0            0               0   \n",
              "\n",
              "      PhoneService_Yes  MultipleLines_No  MultipleLines_No phone service  \\\n",
              "0                    1                 1                               0   \n",
              "1                    1                 0                               0   \n",
              "2                    1                 1                               0   \n",
              "3                    1                 0                               0   \n",
              "4                    1                 1                               0   \n",
              "...                ...               ...                             ...   \n",
              "5972                 1                 1                               0   \n",
              "5973                 1                 0                               0   \n",
              "5974                 1                 1                               0   \n",
              "5975                 1                 1                               0   \n",
              "5976                 1                 1                               0   \n",
              "\n",
              "      MultipleLines_Yes  InternetService_DSL  InternetService_Fiber optic  \\\n",
              "0                     0                    0                            1   \n",
              "1                     1                    0                            0   \n",
              "2                     0                    1                            0   \n",
              "3                     1                    0                            1   \n",
              "4                     0                    0                            0   \n",
              "...                 ...                  ...                          ...   \n",
              "5972                  0                    1                            0   \n",
              "5973                  1                    1                            0   \n",
              "5974                  0                    0                            0   \n",
              "5975                  0                    1                            0   \n",
              "5976                  0                    0                            1   \n",
              "\n",
              "      ...  StreamingMovies_No internet service  StreamingMovies_Yes  \\\n",
              "0     ...                                    0                    1   \n",
              "1     ...                                    1                    0   \n",
              "2     ...                                    0                    0   \n",
              "3     ...                                    0                    1   \n",
              "4     ...                                    1                    0   \n",
              "...   ...                                  ...                  ...   \n",
              "5972  ...                                    0                    0   \n",
              "5973  ...                                    0                    1   \n",
              "5974  ...                                    1                    0   \n",
              "5975  ...                                    0                    0   \n",
              "5976  ...                                    0                    1   \n",
              "\n",
              "      Contract_Month-to-month  Contract_One year  Contract_Two year  \\\n",
              "0                           1                  0                  0   \n",
              "1                           0                  0                  1   \n",
              "2                           1                  0                  0   \n",
              "3                           1                  0                  0   \n",
              "4                           1                  0                  0   \n",
              "...                       ...                ...                ...   \n",
              "5972                        1                  0                  0   \n",
              "5973                        0                  0                  1   \n",
              "5974                        0                  1                  0   \n",
              "5975                        1                  0                  0   \n",
              "5976                        1                  0                  0   \n",
              "\n",
              "      PaperlessBilling_Yes  PaymentMethod_Bank transfer (automatic)  \\\n",
              "0                        0                                        0   \n",
              "1                        0                                        0   \n",
              "2                        1                                        0   \n",
              "3                        0                                        0   \n",
              "4                        0                                        1   \n",
              "...                    ...                                      ...   \n",
              "5972                     1                                        0   \n",
              "5973                     1                                        0   \n",
              "5974                     0                                        0   \n",
              "5975                     1                                        1   \n",
              "5976                     1                                        0   \n",
              "\n",
              "      PaymentMethod_Credit card (automatic)  PaymentMethod_Electronic check  \\\n",
              "0                                         0                               1   \n",
              "1                                         1                               0   \n",
              "2                                         0                               1   \n",
              "3                                         0                               0   \n",
              "4                                         0                               0   \n",
              "...                                     ...                             ...   \n",
              "5972                                      0                               0   \n",
              "5973                                      1                               0   \n",
              "5974                                      0                               0   \n",
              "5975                                      0                               0   \n",
              "5976                                      0                               1   \n",
              "\n",
              "      PaymentMethod_Mailed check  \n",
              "0                              0  \n",
              "1                              0  \n",
              "2                              0  \n",
              "3                              1  \n",
              "4                              0  \n",
              "...                          ...  \n",
              "5972                           1  \n",
              "5973                           0  \n",
              "5974                           1  \n",
              "5975                           0  \n",
              "5976                           0  \n",
              "\n",
              "[5977 rows x 37 columns]"
            ],
            "text/html": [
              "\n",
              "  <div id=\"df-468681a2-c193-4502-a676-0fab97776da4\">\n",
              "    <div class=\"colab-df-container\">\n",
              "      <div>\n",
              "<style scoped>\n",
              "    .dataframe tbody tr th:only-of-type {\n",
              "        vertical-align: middle;\n",
              "    }\n",
              "\n",
              "    .dataframe tbody tr th {\n",
              "        vertical-align: top;\n",
              "    }\n",
              "\n",
              "    .dataframe thead th {\n",
              "        text-align: right;\n",
              "    }\n",
              "</style>\n",
              "<table border=\"1\" class=\"dataframe\">\n",
              "  <thead>\n",
              "    <tr style=\"text-align: right;\">\n",
              "      <th></th>\n",
              "      <th>Gender_Male</th>\n",
              "      <th>SeniorCitizen_Yes</th>\n",
              "      <th>Partner_Yes</th>\n",
              "      <th>Dependents_Yes</th>\n",
              "      <th>PhoneService_Yes</th>\n",
              "      <th>MultipleLines_No</th>\n",
              "      <th>MultipleLines_No phone service</th>\n",
              "      <th>MultipleLines_Yes</th>\n",
              "      <th>InternetService_DSL</th>\n",
              "      <th>InternetService_Fiber optic</th>\n",
              "      <th>...</th>\n",
              "      <th>StreamingMovies_No internet service</th>\n",
              "      <th>StreamingMovies_Yes</th>\n",
              "      <th>Contract_Month-to-month</th>\n",
              "      <th>Contract_One year</th>\n",
              "      <th>Contract_Two year</th>\n",
              "      <th>PaperlessBilling_Yes</th>\n",
              "      <th>PaymentMethod_Bank transfer (automatic)</th>\n",
              "      <th>PaymentMethod_Credit card (automatic)</th>\n",
              "      <th>PaymentMethod_Electronic check</th>\n",
              "      <th>PaymentMethod_Mailed check</th>\n",
              "    </tr>\n",
              "  </thead>\n",
              "  <tbody>\n",
              "    <tr>\n",
              "      <th>0</th>\n",
              "      <td>1</td>\n",
              "      <td>0</td>\n",
              "      <td>0</td>\n",
              "      <td>0</td>\n",
              "      <td>1</td>\n",
              "      <td>1</td>\n",
              "      <td>0</td>\n",
              "      <td>0</td>\n",
              "      <td>0</td>\n",
              "      <td>1</td>\n",
              "      <td>...</td>\n",
              "      <td>0</td>\n",
              "      <td>1</td>\n",
              "      <td>1</td>\n",
              "      <td>0</td>\n",
              "      <td>0</td>\n",
              "      <td>0</td>\n",
              "      <td>0</td>\n",
              "      <td>0</td>\n",
              "      <td>1</td>\n",
              "      <td>0</td>\n",
              "    </tr>\n",
              "    <tr>\n",
              "      <th>1</th>\n",
              "      <td>1</td>\n",
              "      <td>0</td>\n",
              "      <td>1</td>\n",
              "      <td>1</td>\n",
              "      <td>1</td>\n",
              "      <td>0</td>\n",
              "      <td>0</td>\n",
              "      <td>1</td>\n",
              "      <td>0</td>\n",
              "      <td>0</td>\n",
              "      <td>...</td>\n",
              "      <td>1</td>\n",
              "      <td>0</td>\n",
              "      <td>0</td>\n",
              "      <td>0</td>\n",
              "      <td>1</td>\n",
              "      <td>0</td>\n",
              "      <td>0</td>\n",
              "      <td>1</td>\n",
              "      <td>0</td>\n",
              "      <td>0</td>\n",
              "    </tr>\n",
              "    <tr>\n",
              "      <th>2</th>\n",
              "      <td>1</td>\n",
              "      <td>0</td>\n",
              "      <td>0</td>\n",
              "      <td>0</td>\n",
              "      <td>1</td>\n",
              "      <td>1</td>\n",
              "      <td>0</td>\n",
              "      <td>0</td>\n",
              "      <td>1</td>\n",
              "      <td>0</td>\n",
              "      <td>...</td>\n",
              "      <td>0</td>\n",
              "      <td>0</td>\n",
              "      <td>1</td>\n",
              "      <td>0</td>\n",
              "      <td>0</td>\n",
              "      <td>1</td>\n",
              "      <td>0</td>\n",
              "      <td>0</td>\n",
              "      <td>1</td>\n",
              "      <td>0</td>\n",
              "    </tr>\n",
              "    <tr>\n",
              "      <th>3</th>\n",
              "      <td>1</td>\n",
              "      <td>0</td>\n",
              "      <td>0</td>\n",
              "      <td>0</td>\n",
              "      <td>1</td>\n",
              "      <td>0</td>\n",
              "      <td>0</td>\n",
              "      <td>1</td>\n",
              "      <td>0</td>\n",
              "      <td>1</td>\n",
              "      <td>...</td>\n",
              "      <td>0</td>\n",
              "      <td>1</td>\n",
              "      <td>1</td>\n",
              "      <td>0</td>\n",
              "      <td>0</td>\n",
              "      <td>0</td>\n",
              "      <td>0</td>\n",
              "      <td>0</td>\n",
              "      <td>0</td>\n",
              "      <td>1</td>\n",
              "    </tr>\n",
              "    <tr>\n",
              "      <th>4</th>\n",
              "      <td>0</td>\n",
              "      <td>0</td>\n",
              "      <td>1</td>\n",
              "      <td>0</td>\n",
              "      <td>1</td>\n",
              "      <td>1</td>\n",
              "      <td>0</td>\n",
              "      <td>0</td>\n",
              "      <td>0</td>\n",
              "      <td>0</td>\n",
              "      <td>...</td>\n",
              "      <td>1</td>\n",
              "      <td>0</td>\n",
              "      <td>1</td>\n",
              "      <td>0</td>\n",
              "      <td>0</td>\n",
              "      <td>0</td>\n",
              "      <td>1</td>\n",
              "      <td>0</td>\n",
              "      <td>0</td>\n",
              "      <td>0</td>\n",
              "    </tr>\n",
              "    <tr>\n",
              "      <th>...</th>\n",
              "      <td>...</td>\n",
              "      <td>...</td>\n",
              "      <td>...</td>\n",
              "      <td>...</td>\n",
              "      <td>...</td>\n",
              "      <td>...</td>\n",
              "      <td>...</td>\n",
              "      <td>...</td>\n",
              "      <td>...</td>\n",
              "      <td>...</td>\n",
              "      <td>...</td>\n",
              "      <td>...</td>\n",
              "      <td>...</td>\n",
              "      <td>...</td>\n",
              "      <td>...</td>\n",
              "      <td>...</td>\n",
              "      <td>...</td>\n",
              "      <td>...</td>\n",
              "      <td>...</td>\n",
              "      <td>...</td>\n",
              "      <td>...</td>\n",
              "    </tr>\n",
              "    <tr>\n",
              "      <th>5972</th>\n",
              "      <td>1</td>\n",
              "      <td>0</td>\n",
              "      <td>1</td>\n",
              "      <td>1</td>\n",
              "      <td>1</td>\n",
              "      <td>1</td>\n",
              "      <td>0</td>\n",
              "      <td>0</td>\n",
              "      <td>1</td>\n",
              "      <td>0</td>\n",
              "      <td>...</td>\n",
              "      <td>0</td>\n",
              "      <td>0</td>\n",
              "      <td>1</td>\n",
              "      <td>0</td>\n",
              "      <td>0</td>\n",
              "      <td>1</td>\n",
              "      <td>0</td>\n",
              "      <td>0</td>\n",
              "      <td>0</td>\n",
              "      <td>1</td>\n",
              "    </tr>\n",
              "    <tr>\n",
              "      <th>5973</th>\n",
              "      <td>1</td>\n",
              "      <td>0</td>\n",
              "      <td>0</td>\n",
              "      <td>0</td>\n",
              "      <td>1</td>\n",
              "      <td>0</td>\n",
              "      <td>0</td>\n",
              "      <td>1</td>\n",
              "      <td>1</td>\n",
              "      <td>0</td>\n",
              "      <td>...</td>\n",
              "      <td>0</td>\n",
              "      <td>1</td>\n",
              "      <td>0</td>\n",
              "      <td>0</td>\n",
              "      <td>1</td>\n",
              "      <td>1</td>\n",
              "      <td>0</td>\n",
              "      <td>1</td>\n",
              "      <td>0</td>\n",
              "      <td>0</td>\n",
              "    </tr>\n",
              "    <tr>\n",
              "      <th>5974</th>\n",
              "      <td>1</td>\n",
              "      <td>0</td>\n",
              "      <td>1</td>\n",
              "      <td>1</td>\n",
              "      <td>1</td>\n",
              "      <td>1</td>\n",
              "      <td>0</td>\n",
              "      <td>0</td>\n",
              "      <td>0</td>\n",
              "      <td>0</td>\n",
              "      <td>...</td>\n",
              "      <td>1</td>\n",
              "      <td>0</td>\n",
              "      <td>0</td>\n",
              "      <td>1</td>\n",
              "      <td>0</td>\n",
              "      <td>0</td>\n",
              "      <td>0</td>\n",
              "      <td>0</td>\n",
              "      <td>0</td>\n",
              "      <td>1</td>\n",
              "    </tr>\n",
              "    <tr>\n",
              "      <th>5975</th>\n",
              "      <td>0</td>\n",
              "      <td>0</td>\n",
              "      <td>1</td>\n",
              "      <td>0</td>\n",
              "      <td>1</td>\n",
              "      <td>1</td>\n",
              "      <td>0</td>\n",
              "      <td>0</td>\n",
              "      <td>1</td>\n",
              "      <td>0</td>\n",
              "      <td>...</td>\n",
              "      <td>0</td>\n",
              "      <td>0</td>\n",
              "      <td>1</td>\n",
              "      <td>0</td>\n",
              "      <td>0</td>\n",
              "      <td>1</td>\n",
              "      <td>1</td>\n",
              "      <td>0</td>\n",
              "      <td>0</td>\n",
              "      <td>0</td>\n",
              "    </tr>\n",
              "    <tr>\n",
              "      <th>5976</th>\n",
              "      <td>1</td>\n",
              "      <td>0</td>\n",
              "      <td>0</td>\n",
              "      <td>0</td>\n",
              "      <td>1</td>\n",
              "      <td>1</td>\n",
              "      <td>0</td>\n",
              "      <td>0</td>\n",
              "      <td>0</td>\n",
              "      <td>1</td>\n",
              "      <td>...</td>\n",
              "      <td>0</td>\n",
              "      <td>1</td>\n",
              "      <td>1</td>\n",
              "      <td>0</td>\n",
              "      <td>0</td>\n",
              "      <td>1</td>\n",
              "      <td>0</td>\n",
              "      <td>0</td>\n",
              "      <td>1</td>\n",
              "      <td>0</td>\n",
              "    </tr>\n",
              "  </tbody>\n",
              "</table>\n",
              "<p>5977 rows × 37 columns</p>\n",
              "</div>\n",
              "      <button class=\"colab-df-convert\" onclick=\"convertToInteractive('df-468681a2-c193-4502-a676-0fab97776da4')\"\n",
              "              title=\"Convert this dataframe to an interactive table.\"\n",
              "              style=\"display:none;\">\n",
              "        \n",
              "  <svg xmlns=\"http://www.w3.org/2000/svg\" height=\"24px\"viewBox=\"0 0 24 24\"\n",
              "       width=\"24px\">\n",
              "    <path d=\"M0 0h24v24H0V0z\" fill=\"none\"/>\n",
              "    <path d=\"M18.56 5.44l.94 2.06.94-2.06 2.06-.94-2.06-.94-.94-2.06-.94 2.06-2.06.94zm-11 1L8.5 8.5l.94-2.06 2.06-.94-2.06-.94L8.5 2.5l-.94 2.06-2.06.94zm10 10l.94 2.06.94-2.06 2.06-.94-2.06-.94-.94-2.06-.94 2.06-2.06.94z\"/><path d=\"M17.41 7.96l-1.37-1.37c-.4-.4-.92-.59-1.43-.59-.52 0-1.04.2-1.43.59L10.3 9.45l-7.72 7.72c-.78.78-.78 2.05 0 2.83L4 21.41c.39.39.9.59 1.41.59.51 0 1.02-.2 1.41-.59l7.78-7.78 2.81-2.81c.8-.78.8-2.07 0-2.86zM5.41 20L4 18.59l7.72-7.72 1.47 1.35L5.41 20z\"/>\n",
              "  </svg>\n",
              "      </button>\n",
              "      \n",
              "  <style>\n",
              "    .colab-df-container {\n",
              "      display:flex;\n",
              "      flex-wrap:wrap;\n",
              "      gap: 12px;\n",
              "    }\n",
              "\n",
              "    .colab-df-convert {\n",
              "      background-color: #E8F0FE;\n",
              "      border: none;\n",
              "      border-radius: 50%;\n",
              "      cursor: pointer;\n",
              "      display: none;\n",
              "      fill: #1967D2;\n",
              "      height: 32px;\n",
              "      padding: 0 0 0 0;\n",
              "      width: 32px;\n",
              "    }\n",
              "\n",
              "    .colab-df-convert:hover {\n",
              "      background-color: #E2EBFA;\n",
              "      box-shadow: 0px 1px 2px rgba(60, 64, 67, 0.3), 0px 1px 3px 1px rgba(60, 64, 67, 0.15);\n",
              "      fill: #174EA6;\n",
              "    }\n",
              "\n",
              "    [theme=dark] .colab-df-convert {\n",
              "      background-color: #3B4455;\n",
              "      fill: #D2E3FC;\n",
              "    }\n",
              "\n",
              "    [theme=dark] .colab-df-convert:hover {\n",
              "      background-color: #434B5C;\n",
              "      box-shadow: 0px 1px 3px 1px rgba(0, 0, 0, 0.15);\n",
              "      filter: drop-shadow(0px 1px 2px rgba(0, 0, 0, 0.3));\n",
              "      fill: #FFFFFF;\n",
              "    }\n",
              "  </style>\n",
              "\n",
              "      <script>\n",
              "        const buttonEl =\n",
              "          document.querySelector('#df-468681a2-c193-4502-a676-0fab97776da4 button.colab-df-convert');\n",
              "        buttonEl.style.display =\n",
              "          google.colab.kernel.accessAllowed ? 'block' : 'none';\n",
              "\n",
              "        async function convertToInteractive(key) {\n",
              "          const element = document.querySelector('#df-468681a2-c193-4502-a676-0fab97776da4');\n",
              "          const dataTable =\n",
              "            await google.colab.kernel.invokeFunction('convertToInteractive',\n",
              "                                                     [key], {});\n",
              "          if (!dataTable) return;\n",
              "\n",
              "          const docLinkHtml = 'Like what you see? Visit the ' +\n",
              "            '<a target=\"_blank\" href=https://colab.research.google.com/notebooks/data_table.ipynb>data table notebook</a>'\n",
              "            + ' to learn more about interactive tables.';\n",
              "          element.innerHTML = '';\n",
              "          dataTable['output_type'] = 'display_data';\n",
              "          await google.colab.output.renderOutput(dataTable, element);\n",
              "          const docLink = document.createElement('div');\n",
              "          docLink.innerHTML = docLinkHtml;\n",
              "          element.appendChild(docLink);\n",
              "        }\n",
              "      </script>\n",
              "    </div>\n",
              "  </div>\n",
              "  "
            ]
          },
          "metadata": {},
          "execution_count": 157
        }
      ]
    },
    {
      "cell_type": "code",
      "source": [
        "# Adicionando as colunas numéricas\n",
        "for column in X_train.columns[-3:]:\n",
        "  X_train_enc[column] = X_train[column].to_numpy()"
      ],
      "metadata": {
        "id": "BNz9Zr_ktqEJ"
      },
      "execution_count": 158,
      "outputs": []
    },
    {
      "cell_type": "code",
      "source": [
        "X_train_enc"
      ],
      "metadata": {
        "colab": {
          "base_uri": "https://localhost:8080/",
          "height": 522
        },
        "id": "Qd_pRti3q9lV",
        "outputId": "917f7e87-8317-4abb-9ac8-c8c14caeab70"
      },
      "execution_count": 159,
      "outputs": [
        {
          "output_type": "execute_result",
          "data": {
            "text/plain": [
              "      Gender_Male  SeniorCitizen_Yes  Partner_Yes  Dependents_Yes  \\\n",
              "0               1                  0            0               0   \n",
              "1               1                  0            1               1   \n",
              "2               1                  0            0               0   \n",
              "3               1                  0            0               0   \n",
              "4               0                  0            1               0   \n",
              "...           ...                ...          ...             ...   \n",
              "5972            1                  0            1               1   \n",
              "5973            1                  0            0               0   \n",
              "5974            1                  0            1               1   \n",
              "5975            0                  0            1               0   \n",
              "5976            1                  0            0               0   \n",
              "\n",
              "      PhoneService_Yes  MultipleLines_No  MultipleLines_No phone service  \\\n",
              "0                    1                 1                               0   \n",
              "1                    1                 0                               0   \n",
              "2                    1                 1                               0   \n",
              "3                    1                 0                               0   \n",
              "4                    1                 1                               0   \n",
              "...                ...               ...                             ...   \n",
              "5972                 1                 1                               0   \n",
              "5973                 1                 0                               0   \n",
              "5974                 1                 1                               0   \n",
              "5975                 1                 1                               0   \n",
              "5976                 1                 1                               0   \n",
              "\n",
              "      MultipleLines_Yes  InternetService_DSL  InternetService_Fiber optic  \\\n",
              "0                     0                    0                            1   \n",
              "1                     1                    0                            0   \n",
              "2                     0                    1                            0   \n",
              "3                     1                    0                            1   \n",
              "4                     0                    0                            0   \n",
              "...                 ...                  ...                          ...   \n",
              "5972                  0                    1                            0   \n",
              "5973                  1                    1                            0   \n",
              "5974                  0                    0                            0   \n",
              "5975                  0                    1                            0   \n",
              "5976                  0                    0                            1   \n",
              "\n",
              "      ...  Contract_One year  Contract_Two year  PaperlessBilling_Yes  \\\n",
              "0     ...                  0                  0                     0   \n",
              "1     ...                  0                  1                     0   \n",
              "2     ...                  0                  0                     1   \n",
              "3     ...                  0                  0                     0   \n",
              "4     ...                  0                  0                     0   \n",
              "...   ...                ...                ...                   ...   \n",
              "5972  ...                  0                  0                     1   \n",
              "5973  ...                  0                  1                     1   \n",
              "5974  ...                  1                  0                     0   \n",
              "5975  ...                  0                  0                     1   \n",
              "5976  ...                  0                  0                     1   \n",
              "\n",
              "      PaymentMethod_Bank transfer (automatic)  \\\n",
              "0                                           0   \n",
              "1                                           0   \n",
              "2                                           0   \n",
              "3                                           0   \n",
              "4                                           1   \n",
              "...                                       ...   \n",
              "5972                                        0   \n",
              "5973                                        0   \n",
              "5974                                        0   \n",
              "5975                                        1   \n",
              "5976                                        0   \n",
              "\n",
              "      PaymentMethod_Credit card (automatic)  PaymentMethod_Electronic check  \\\n",
              "0                                         0                               1   \n",
              "1                                         1                               0   \n",
              "2                                         0                               1   \n",
              "3                                         0                               0   \n",
              "4                                         0                               0   \n",
              "...                                     ...                             ...   \n",
              "5972                                      0                               0   \n",
              "5973                                      1                               0   \n",
              "5974                                      0                               0   \n",
              "5975                                      0                               0   \n",
              "5976                                      0                               1   \n",
              "\n",
              "      PaymentMethod_Mailed check  Tenure  Charges_Monthly  Charges_Total  \n",
              "0                              0       3            84.30         235.05  \n",
              "1                              0      72            24.10        1734.65  \n",
              "2                              0       3            49.15         169.05  \n",
              "3                              1       7            95.00         655.50  \n",
              "4                              0      20            19.25         375.25  \n",
              "...                          ...     ...              ...            ...  \n",
              "5972                           1       1            45.85          45.85  \n",
              "5973                           0      69            81.50        5553.25  \n",
              "5974                           1      23            19.65         436.90  \n",
              "5975                           0       7            50.30         355.10  \n",
              "5976                           0      24            96.00        2122.45  \n",
              "\n",
              "[5977 rows x 40 columns]"
            ],
            "text/html": [
              "\n",
              "  <div id=\"df-6399dfca-473f-4eeb-9475-625e0f6156ab\">\n",
              "    <div class=\"colab-df-container\">\n",
              "      <div>\n",
              "<style scoped>\n",
              "    .dataframe tbody tr th:only-of-type {\n",
              "        vertical-align: middle;\n",
              "    }\n",
              "\n",
              "    .dataframe tbody tr th {\n",
              "        vertical-align: top;\n",
              "    }\n",
              "\n",
              "    .dataframe thead th {\n",
              "        text-align: right;\n",
              "    }\n",
              "</style>\n",
              "<table border=\"1\" class=\"dataframe\">\n",
              "  <thead>\n",
              "    <tr style=\"text-align: right;\">\n",
              "      <th></th>\n",
              "      <th>Gender_Male</th>\n",
              "      <th>SeniorCitizen_Yes</th>\n",
              "      <th>Partner_Yes</th>\n",
              "      <th>Dependents_Yes</th>\n",
              "      <th>PhoneService_Yes</th>\n",
              "      <th>MultipleLines_No</th>\n",
              "      <th>MultipleLines_No phone service</th>\n",
              "      <th>MultipleLines_Yes</th>\n",
              "      <th>InternetService_DSL</th>\n",
              "      <th>InternetService_Fiber optic</th>\n",
              "      <th>...</th>\n",
              "      <th>Contract_One year</th>\n",
              "      <th>Contract_Two year</th>\n",
              "      <th>PaperlessBilling_Yes</th>\n",
              "      <th>PaymentMethod_Bank transfer (automatic)</th>\n",
              "      <th>PaymentMethod_Credit card (automatic)</th>\n",
              "      <th>PaymentMethod_Electronic check</th>\n",
              "      <th>PaymentMethod_Mailed check</th>\n",
              "      <th>Tenure</th>\n",
              "      <th>Charges_Monthly</th>\n",
              "      <th>Charges_Total</th>\n",
              "    </tr>\n",
              "  </thead>\n",
              "  <tbody>\n",
              "    <tr>\n",
              "      <th>0</th>\n",
              "      <td>1</td>\n",
              "      <td>0</td>\n",
              "      <td>0</td>\n",
              "      <td>0</td>\n",
              "      <td>1</td>\n",
              "      <td>1</td>\n",
              "      <td>0</td>\n",
              "      <td>0</td>\n",
              "      <td>0</td>\n",
              "      <td>1</td>\n",
              "      <td>...</td>\n",
              "      <td>0</td>\n",
              "      <td>0</td>\n",
              "      <td>0</td>\n",
              "      <td>0</td>\n",
              "      <td>0</td>\n",
              "      <td>1</td>\n",
              "      <td>0</td>\n",
              "      <td>3</td>\n",
              "      <td>84.30</td>\n",
              "      <td>235.05</td>\n",
              "    </tr>\n",
              "    <tr>\n",
              "      <th>1</th>\n",
              "      <td>1</td>\n",
              "      <td>0</td>\n",
              "      <td>1</td>\n",
              "      <td>1</td>\n",
              "      <td>1</td>\n",
              "      <td>0</td>\n",
              "      <td>0</td>\n",
              "      <td>1</td>\n",
              "      <td>0</td>\n",
              "      <td>0</td>\n",
              "      <td>...</td>\n",
              "      <td>0</td>\n",
              "      <td>1</td>\n",
              "      <td>0</td>\n",
              "      <td>0</td>\n",
              "      <td>1</td>\n",
              "      <td>0</td>\n",
              "      <td>0</td>\n",
              "      <td>72</td>\n",
              "      <td>24.10</td>\n",
              "      <td>1734.65</td>\n",
              "    </tr>\n",
              "    <tr>\n",
              "      <th>2</th>\n",
              "      <td>1</td>\n",
              "      <td>0</td>\n",
              "      <td>0</td>\n",
              "      <td>0</td>\n",
              "      <td>1</td>\n",
              "      <td>1</td>\n",
              "      <td>0</td>\n",
              "      <td>0</td>\n",
              "      <td>1</td>\n",
              "      <td>0</td>\n",
              "      <td>...</td>\n",
              "      <td>0</td>\n",
              "      <td>0</td>\n",
              "      <td>1</td>\n",
              "      <td>0</td>\n",
              "      <td>0</td>\n",
              "      <td>1</td>\n",
              "      <td>0</td>\n",
              "      <td>3</td>\n",
              "      <td>49.15</td>\n",
              "      <td>169.05</td>\n",
              "    </tr>\n",
              "    <tr>\n",
              "      <th>3</th>\n",
              "      <td>1</td>\n",
              "      <td>0</td>\n",
              "      <td>0</td>\n",
              "      <td>0</td>\n",
              "      <td>1</td>\n",
              "      <td>0</td>\n",
              "      <td>0</td>\n",
              "      <td>1</td>\n",
              "      <td>0</td>\n",
              "      <td>1</td>\n",
              "      <td>...</td>\n",
              "      <td>0</td>\n",
              "      <td>0</td>\n",
              "      <td>0</td>\n",
              "      <td>0</td>\n",
              "      <td>0</td>\n",
              "      <td>0</td>\n",
              "      <td>1</td>\n",
              "      <td>7</td>\n",
              "      <td>95.00</td>\n",
              "      <td>655.50</td>\n",
              "    </tr>\n",
              "    <tr>\n",
              "      <th>4</th>\n",
              "      <td>0</td>\n",
              "      <td>0</td>\n",
              "      <td>1</td>\n",
              "      <td>0</td>\n",
              "      <td>1</td>\n",
              "      <td>1</td>\n",
              "      <td>0</td>\n",
              "      <td>0</td>\n",
              "      <td>0</td>\n",
              "      <td>0</td>\n",
              "      <td>...</td>\n",
              "      <td>0</td>\n",
              "      <td>0</td>\n",
              "      <td>0</td>\n",
              "      <td>1</td>\n",
              "      <td>0</td>\n",
              "      <td>0</td>\n",
              "      <td>0</td>\n",
              "      <td>20</td>\n",
              "      <td>19.25</td>\n",
              "      <td>375.25</td>\n",
              "    </tr>\n",
              "    <tr>\n",
              "      <th>...</th>\n",
              "      <td>...</td>\n",
              "      <td>...</td>\n",
              "      <td>...</td>\n",
              "      <td>...</td>\n",
              "      <td>...</td>\n",
              "      <td>...</td>\n",
              "      <td>...</td>\n",
              "      <td>...</td>\n",
              "      <td>...</td>\n",
              "      <td>...</td>\n",
              "      <td>...</td>\n",
              "      <td>...</td>\n",
              "      <td>...</td>\n",
              "      <td>...</td>\n",
              "      <td>...</td>\n",
              "      <td>...</td>\n",
              "      <td>...</td>\n",
              "      <td>...</td>\n",
              "      <td>...</td>\n",
              "      <td>...</td>\n",
              "      <td>...</td>\n",
              "    </tr>\n",
              "    <tr>\n",
              "      <th>5972</th>\n",
              "      <td>1</td>\n",
              "      <td>0</td>\n",
              "      <td>1</td>\n",
              "      <td>1</td>\n",
              "      <td>1</td>\n",
              "      <td>1</td>\n",
              "      <td>0</td>\n",
              "      <td>0</td>\n",
              "      <td>1</td>\n",
              "      <td>0</td>\n",
              "      <td>...</td>\n",
              "      <td>0</td>\n",
              "      <td>0</td>\n",
              "      <td>1</td>\n",
              "      <td>0</td>\n",
              "      <td>0</td>\n",
              "      <td>0</td>\n",
              "      <td>1</td>\n",
              "      <td>1</td>\n",
              "      <td>45.85</td>\n",
              "      <td>45.85</td>\n",
              "    </tr>\n",
              "    <tr>\n",
              "      <th>5973</th>\n",
              "      <td>1</td>\n",
              "      <td>0</td>\n",
              "      <td>0</td>\n",
              "      <td>0</td>\n",
              "      <td>1</td>\n",
              "      <td>0</td>\n",
              "      <td>0</td>\n",
              "      <td>1</td>\n",
              "      <td>1</td>\n",
              "      <td>0</td>\n",
              "      <td>...</td>\n",
              "      <td>0</td>\n",
              "      <td>1</td>\n",
              "      <td>1</td>\n",
              "      <td>0</td>\n",
              "      <td>1</td>\n",
              "      <td>0</td>\n",
              "      <td>0</td>\n",
              "      <td>69</td>\n",
              "      <td>81.50</td>\n",
              "      <td>5553.25</td>\n",
              "    </tr>\n",
              "    <tr>\n",
              "      <th>5974</th>\n",
              "      <td>1</td>\n",
              "      <td>0</td>\n",
              "      <td>1</td>\n",
              "      <td>1</td>\n",
              "      <td>1</td>\n",
              "      <td>1</td>\n",
              "      <td>0</td>\n",
              "      <td>0</td>\n",
              "      <td>0</td>\n",
              "      <td>0</td>\n",
              "      <td>...</td>\n",
              "      <td>1</td>\n",
              "      <td>0</td>\n",
              "      <td>0</td>\n",
              "      <td>0</td>\n",
              "      <td>0</td>\n",
              "      <td>0</td>\n",
              "      <td>1</td>\n",
              "      <td>23</td>\n",
              "      <td>19.65</td>\n",
              "      <td>436.90</td>\n",
              "    </tr>\n",
              "    <tr>\n",
              "      <th>5975</th>\n",
              "      <td>0</td>\n",
              "      <td>0</td>\n",
              "      <td>1</td>\n",
              "      <td>0</td>\n",
              "      <td>1</td>\n",
              "      <td>1</td>\n",
              "      <td>0</td>\n",
              "      <td>0</td>\n",
              "      <td>1</td>\n",
              "      <td>0</td>\n",
              "      <td>...</td>\n",
              "      <td>0</td>\n",
              "      <td>0</td>\n",
              "      <td>1</td>\n",
              "      <td>1</td>\n",
              "      <td>0</td>\n",
              "      <td>0</td>\n",
              "      <td>0</td>\n",
              "      <td>7</td>\n",
              "      <td>50.30</td>\n",
              "      <td>355.10</td>\n",
              "    </tr>\n",
              "    <tr>\n",
              "      <th>5976</th>\n",
              "      <td>1</td>\n",
              "      <td>0</td>\n",
              "      <td>0</td>\n",
              "      <td>0</td>\n",
              "      <td>1</td>\n",
              "      <td>1</td>\n",
              "      <td>0</td>\n",
              "      <td>0</td>\n",
              "      <td>0</td>\n",
              "      <td>1</td>\n",
              "      <td>...</td>\n",
              "      <td>0</td>\n",
              "      <td>0</td>\n",
              "      <td>1</td>\n",
              "      <td>0</td>\n",
              "      <td>0</td>\n",
              "      <td>1</td>\n",
              "      <td>0</td>\n",
              "      <td>24</td>\n",
              "      <td>96.00</td>\n",
              "      <td>2122.45</td>\n",
              "    </tr>\n",
              "  </tbody>\n",
              "</table>\n",
              "<p>5977 rows × 40 columns</p>\n",
              "</div>\n",
              "      <button class=\"colab-df-convert\" onclick=\"convertToInteractive('df-6399dfca-473f-4eeb-9475-625e0f6156ab')\"\n",
              "              title=\"Convert this dataframe to an interactive table.\"\n",
              "              style=\"display:none;\">\n",
              "        \n",
              "  <svg xmlns=\"http://www.w3.org/2000/svg\" height=\"24px\"viewBox=\"0 0 24 24\"\n",
              "       width=\"24px\">\n",
              "    <path d=\"M0 0h24v24H0V0z\" fill=\"none\"/>\n",
              "    <path d=\"M18.56 5.44l.94 2.06.94-2.06 2.06-.94-2.06-.94-.94-2.06-.94 2.06-2.06.94zm-11 1L8.5 8.5l.94-2.06 2.06-.94-2.06-.94L8.5 2.5l-.94 2.06-2.06.94zm10 10l.94 2.06.94-2.06 2.06-.94-2.06-.94-.94-2.06-.94 2.06-2.06.94z\"/><path d=\"M17.41 7.96l-1.37-1.37c-.4-.4-.92-.59-1.43-.59-.52 0-1.04.2-1.43.59L10.3 9.45l-7.72 7.72c-.78.78-.78 2.05 0 2.83L4 21.41c.39.39.9.59 1.41.59.51 0 1.02-.2 1.41-.59l7.78-7.78 2.81-2.81c.8-.78.8-2.07 0-2.86zM5.41 20L4 18.59l7.72-7.72 1.47 1.35L5.41 20z\"/>\n",
              "  </svg>\n",
              "      </button>\n",
              "      \n",
              "  <style>\n",
              "    .colab-df-container {\n",
              "      display:flex;\n",
              "      flex-wrap:wrap;\n",
              "      gap: 12px;\n",
              "    }\n",
              "\n",
              "    .colab-df-convert {\n",
              "      background-color: #E8F0FE;\n",
              "      border: none;\n",
              "      border-radius: 50%;\n",
              "      cursor: pointer;\n",
              "      display: none;\n",
              "      fill: #1967D2;\n",
              "      height: 32px;\n",
              "      padding: 0 0 0 0;\n",
              "      width: 32px;\n",
              "    }\n",
              "\n",
              "    .colab-df-convert:hover {\n",
              "      background-color: #E2EBFA;\n",
              "      box-shadow: 0px 1px 2px rgba(60, 64, 67, 0.3), 0px 1px 3px 1px rgba(60, 64, 67, 0.15);\n",
              "      fill: #174EA6;\n",
              "    }\n",
              "\n",
              "    [theme=dark] .colab-df-convert {\n",
              "      background-color: #3B4455;\n",
              "      fill: #D2E3FC;\n",
              "    }\n",
              "\n",
              "    [theme=dark] .colab-df-convert:hover {\n",
              "      background-color: #434B5C;\n",
              "      box-shadow: 0px 1px 3px 1px rgba(0, 0, 0, 0.15);\n",
              "      filter: drop-shadow(0px 1px 2px rgba(0, 0, 0, 0.3));\n",
              "      fill: #FFFFFF;\n",
              "    }\n",
              "  </style>\n",
              "\n",
              "      <script>\n",
              "        const buttonEl =\n",
              "          document.querySelector('#df-6399dfca-473f-4eeb-9475-625e0f6156ab button.colab-df-convert');\n",
              "        buttonEl.style.display =\n",
              "          google.colab.kernel.accessAllowed ? 'block' : 'none';\n",
              "\n",
              "        async function convertToInteractive(key) {\n",
              "          const element = document.querySelector('#df-6399dfca-473f-4eeb-9475-625e0f6156ab');\n",
              "          const dataTable =\n",
              "            await google.colab.kernel.invokeFunction('convertToInteractive',\n",
              "                                                     [key], {});\n",
              "          if (!dataTable) return;\n",
              "\n",
              "          const docLinkHtml = 'Like what you see? Visit the ' +\n",
              "            '<a target=\"_blank\" href=https://colab.research.google.com/notebooks/data_table.ipynb>data table notebook</a>'\n",
              "            + ' to learn more about interactive tables.';\n",
              "          element.innerHTML = '';\n",
              "          dataTable['output_type'] = 'display_data';\n",
              "          await google.colab.output.renderOutput(dataTable, element);\n",
              "          const docLink = document.createElement('div');\n",
              "          docLink.innerHTML = docLinkHtml;\n",
              "          element.appendChild(docLink);\n",
              "        }\n",
              "      </script>\n",
              "    </div>\n",
              "  </div>\n",
              "  "
            ]
          },
          "metadata": {},
          "execution_count": 159
        }
      ]
    },
    {
      "cell_type": "code",
      "source": [
        "# Realizando o processo para X_test\n",
        "X_test_enc = pd.DataFrame(X_enc.transform(X_test.iloc[:, :-3]), columns=X_enc_names)\n",
        "\n",
        "for column in X_test.columns[-3:]:\n",
        "  X_test_enc[column] = X_test[column].to_numpy()\n",
        "\n",
        "X_test_enc"
      ],
      "metadata": {
        "colab": {
          "base_uri": "https://localhost:8080/",
          "height": 522
        },
        "id": "2EVVXMkJuq93",
        "outputId": "fa9c4a9f-7ea4-4008-aa3a-0249e150a671"
      },
      "execution_count": 160,
      "outputs": [
        {
          "output_type": "execute_result",
          "data": {
            "text/plain": [
              "      Gender_Male  SeniorCitizen_Yes  Partner_Yes  Dependents_Yes  \\\n",
              "0               1                  0            0               0   \n",
              "1               0                  0            1               0   \n",
              "2               1                  1            1               0   \n",
              "3               1                  0            0               1   \n",
              "4               0                  0            1               0   \n",
              "...           ...                ...          ...             ...   \n",
              "1050            1                  0            1               1   \n",
              "1051            1                  0            0               0   \n",
              "1052            1                  0            0               0   \n",
              "1053            1                  0            1               0   \n",
              "1054            1                  0            0               0   \n",
              "\n",
              "      PhoneService_Yes  MultipleLines_No  MultipleLines_No phone service  \\\n",
              "0                    1                 1                               0   \n",
              "1                    1                 0                               0   \n",
              "2                    1                 0                               0   \n",
              "3                    1                 1                               0   \n",
              "4                    1                 1                               0   \n",
              "...                ...               ...                             ...   \n",
              "1050                 1                 1                               0   \n",
              "1051                 1                 0                               0   \n",
              "1052                 0                 0                               1   \n",
              "1053                 1                 1                               0   \n",
              "1054                 1                 1                               0   \n",
              "\n",
              "      MultipleLines_Yes  InternetService_DSL  InternetService_Fiber optic  \\\n",
              "0                     0                    0                            1   \n",
              "1                     1                    0                            1   \n",
              "2                     1                    0                            1   \n",
              "3                     0                    1                            0   \n",
              "4                     0                    1                            0   \n",
              "...                 ...                  ...                          ...   \n",
              "1050                  0                    0                            0   \n",
              "1051                  1                    1                            0   \n",
              "1052                  0                    1                            0   \n",
              "1053                  0                    1                            0   \n",
              "1054                  0                    0                            0   \n",
              "\n",
              "      ...  Contract_One year  Contract_Two year  PaperlessBilling_Yes  \\\n",
              "0     ...                  0                  0                     1   \n",
              "1     ...                  0                  1                     1   \n",
              "2     ...                  0                  0                     1   \n",
              "3     ...                  0                  1                     1   \n",
              "4     ...                  0                  0                     1   \n",
              "...   ...                ...                ...                   ...   \n",
              "1050  ...                  0                  1                     1   \n",
              "1051  ...                  1                  0                     1   \n",
              "1052  ...                  1                  0                     0   \n",
              "1053  ...                  0                  0                     0   \n",
              "1054  ...                  0                  0                     1   \n",
              "\n",
              "      PaymentMethod_Bank transfer (automatic)  \\\n",
              "0                                           0   \n",
              "1                                           1   \n",
              "2                                           1   \n",
              "3                                           0   \n",
              "4                                           1   \n",
              "...                                       ...   \n",
              "1050                                        1   \n",
              "1051                                        0   \n",
              "1052                                        0   \n",
              "1053                                        0   \n",
              "1054                                        0   \n",
              "\n",
              "      PaymentMethod_Credit card (automatic)  PaymentMethod_Electronic check  \\\n",
              "0                                         0                               1   \n",
              "1                                         0                               0   \n",
              "2                                         0                               0   \n",
              "3                                         1                               0   \n",
              "4                                         0                               0   \n",
              "...                                     ...                             ...   \n",
              "1050                                      0                               0   \n",
              "1051                                      1                               0   \n",
              "1052                                      1                               0   \n",
              "1053                                      1                               0   \n",
              "1054                                      0                               0   \n",
              "\n",
              "      PaymentMethod_Mailed check  Tenure  Charges_Monthly  Charges_Total  \n",
              "0                              0       1            74.35          74.35  \n",
              "1                              0      72            94.25        6849.75  \n",
              "2                              0      57            95.25        5427.05  \n",
              "3                              0      71            76.90        5522.70  \n",
              "4                              0      47            58.60        2723.40  \n",
              "...                          ...     ...              ...            ...  \n",
              "1050                           0      60            20.95        1270.55  \n",
              "1051                           0      18            82.00        1425.45  \n",
              "1052                           0      40            36.00        1382.90  \n",
              "1053                           0       1            44.70          44.70  \n",
              "1054                           1       1            19.30          19.30  \n",
              "\n",
              "[1055 rows x 40 columns]"
            ],
            "text/html": [
              "\n",
              "  <div id=\"df-03138707-3cf5-470a-b550-ee4c96aabcc6\">\n",
              "    <div class=\"colab-df-container\">\n",
              "      <div>\n",
              "<style scoped>\n",
              "    .dataframe tbody tr th:only-of-type {\n",
              "        vertical-align: middle;\n",
              "    }\n",
              "\n",
              "    .dataframe tbody tr th {\n",
              "        vertical-align: top;\n",
              "    }\n",
              "\n",
              "    .dataframe thead th {\n",
              "        text-align: right;\n",
              "    }\n",
              "</style>\n",
              "<table border=\"1\" class=\"dataframe\">\n",
              "  <thead>\n",
              "    <tr style=\"text-align: right;\">\n",
              "      <th></th>\n",
              "      <th>Gender_Male</th>\n",
              "      <th>SeniorCitizen_Yes</th>\n",
              "      <th>Partner_Yes</th>\n",
              "      <th>Dependents_Yes</th>\n",
              "      <th>PhoneService_Yes</th>\n",
              "      <th>MultipleLines_No</th>\n",
              "      <th>MultipleLines_No phone service</th>\n",
              "      <th>MultipleLines_Yes</th>\n",
              "      <th>InternetService_DSL</th>\n",
              "      <th>InternetService_Fiber optic</th>\n",
              "      <th>...</th>\n",
              "      <th>Contract_One year</th>\n",
              "      <th>Contract_Two year</th>\n",
              "      <th>PaperlessBilling_Yes</th>\n",
              "      <th>PaymentMethod_Bank transfer (automatic)</th>\n",
              "      <th>PaymentMethod_Credit card (automatic)</th>\n",
              "      <th>PaymentMethod_Electronic check</th>\n",
              "      <th>PaymentMethod_Mailed check</th>\n",
              "      <th>Tenure</th>\n",
              "      <th>Charges_Monthly</th>\n",
              "      <th>Charges_Total</th>\n",
              "    </tr>\n",
              "  </thead>\n",
              "  <tbody>\n",
              "    <tr>\n",
              "      <th>0</th>\n",
              "      <td>1</td>\n",
              "      <td>0</td>\n",
              "      <td>0</td>\n",
              "      <td>0</td>\n",
              "      <td>1</td>\n",
              "      <td>1</td>\n",
              "      <td>0</td>\n",
              "      <td>0</td>\n",
              "      <td>0</td>\n",
              "      <td>1</td>\n",
              "      <td>...</td>\n",
              "      <td>0</td>\n",
              "      <td>0</td>\n",
              "      <td>1</td>\n",
              "      <td>0</td>\n",
              "      <td>0</td>\n",
              "      <td>1</td>\n",
              "      <td>0</td>\n",
              "      <td>1</td>\n",
              "      <td>74.35</td>\n",
              "      <td>74.35</td>\n",
              "    </tr>\n",
              "    <tr>\n",
              "      <th>1</th>\n",
              "      <td>0</td>\n",
              "      <td>0</td>\n",
              "      <td>1</td>\n",
              "      <td>0</td>\n",
              "      <td>1</td>\n",
              "      <td>0</td>\n",
              "      <td>0</td>\n",
              "      <td>1</td>\n",
              "      <td>0</td>\n",
              "      <td>1</td>\n",
              "      <td>...</td>\n",
              "      <td>0</td>\n",
              "      <td>1</td>\n",
              "      <td>1</td>\n",
              "      <td>1</td>\n",
              "      <td>0</td>\n",
              "      <td>0</td>\n",
              "      <td>0</td>\n",
              "      <td>72</td>\n",
              "      <td>94.25</td>\n",
              "      <td>6849.75</td>\n",
              "    </tr>\n",
              "    <tr>\n",
              "      <th>2</th>\n",
              "      <td>1</td>\n",
              "      <td>1</td>\n",
              "      <td>1</td>\n",
              "      <td>0</td>\n",
              "      <td>1</td>\n",
              "      <td>0</td>\n",
              "      <td>0</td>\n",
              "      <td>1</td>\n",
              "      <td>0</td>\n",
              "      <td>1</td>\n",
              "      <td>...</td>\n",
              "      <td>0</td>\n",
              "      <td>0</td>\n",
              "      <td>1</td>\n",
              "      <td>1</td>\n",
              "      <td>0</td>\n",
              "      <td>0</td>\n",
              "      <td>0</td>\n",
              "      <td>57</td>\n",
              "      <td>95.25</td>\n",
              "      <td>5427.05</td>\n",
              "    </tr>\n",
              "    <tr>\n",
              "      <th>3</th>\n",
              "      <td>1</td>\n",
              "      <td>0</td>\n",
              "      <td>0</td>\n",
              "      <td>1</td>\n",
              "      <td>1</td>\n",
              "      <td>1</td>\n",
              "      <td>0</td>\n",
              "      <td>0</td>\n",
              "      <td>1</td>\n",
              "      <td>0</td>\n",
              "      <td>...</td>\n",
              "      <td>0</td>\n",
              "      <td>1</td>\n",
              "      <td>1</td>\n",
              "      <td>0</td>\n",
              "      <td>1</td>\n",
              "      <td>0</td>\n",
              "      <td>0</td>\n",
              "      <td>71</td>\n",
              "      <td>76.90</td>\n",
              "      <td>5522.70</td>\n",
              "    </tr>\n",
              "    <tr>\n",
              "      <th>4</th>\n",
              "      <td>0</td>\n",
              "      <td>0</td>\n",
              "      <td>1</td>\n",
              "      <td>0</td>\n",
              "      <td>1</td>\n",
              "      <td>1</td>\n",
              "      <td>0</td>\n",
              "      <td>0</td>\n",
              "      <td>1</td>\n",
              "      <td>0</td>\n",
              "      <td>...</td>\n",
              "      <td>0</td>\n",
              "      <td>0</td>\n",
              "      <td>1</td>\n",
              "      <td>1</td>\n",
              "      <td>0</td>\n",
              "      <td>0</td>\n",
              "      <td>0</td>\n",
              "      <td>47</td>\n",
              "      <td>58.60</td>\n",
              "      <td>2723.40</td>\n",
              "    </tr>\n",
              "    <tr>\n",
              "      <th>...</th>\n",
              "      <td>...</td>\n",
              "      <td>...</td>\n",
              "      <td>...</td>\n",
              "      <td>...</td>\n",
              "      <td>...</td>\n",
              "      <td>...</td>\n",
              "      <td>...</td>\n",
              "      <td>...</td>\n",
              "      <td>...</td>\n",
              "      <td>...</td>\n",
              "      <td>...</td>\n",
              "      <td>...</td>\n",
              "      <td>...</td>\n",
              "      <td>...</td>\n",
              "      <td>...</td>\n",
              "      <td>...</td>\n",
              "      <td>...</td>\n",
              "      <td>...</td>\n",
              "      <td>...</td>\n",
              "      <td>...</td>\n",
              "      <td>...</td>\n",
              "    </tr>\n",
              "    <tr>\n",
              "      <th>1050</th>\n",
              "      <td>1</td>\n",
              "      <td>0</td>\n",
              "      <td>1</td>\n",
              "      <td>1</td>\n",
              "      <td>1</td>\n",
              "      <td>1</td>\n",
              "      <td>0</td>\n",
              "      <td>0</td>\n",
              "      <td>0</td>\n",
              "      <td>0</td>\n",
              "      <td>...</td>\n",
              "      <td>0</td>\n",
              "      <td>1</td>\n",
              "      <td>1</td>\n",
              "      <td>1</td>\n",
              "      <td>0</td>\n",
              "      <td>0</td>\n",
              "      <td>0</td>\n",
              "      <td>60</td>\n",
              "      <td>20.95</td>\n",
              "      <td>1270.55</td>\n",
              "    </tr>\n",
              "    <tr>\n",
              "      <th>1051</th>\n",
              "      <td>1</td>\n",
              "      <td>0</td>\n",
              "      <td>0</td>\n",
              "      <td>0</td>\n",
              "      <td>1</td>\n",
              "      <td>0</td>\n",
              "      <td>0</td>\n",
              "      <td>1</td>\n",
              "      <td>1</td>\n",
              "      <td>0</td>\n",
              "      <td>...</td>\n",
              "      <td>1</td>\n",
              "      <td>0</td>\n",
              "      <td>1</td>\n",
              "      <td>0</td>\n",
              "      <td>1</td>\n",
              "      <td>0</td>\n",
              "      <td>0</td>\n",
              "      <td>18</td>\n",
              "      <td>82.00</td>\n",
              "      <td>1425.45</td>\n",
              "    </tr>\n",
              "    <tr>\n",
              "      <th>1052</th>\n",
              "      <td>1</td>\n",
              "      <td>0</td>\n",
              "      <td>0</td>\n",
              "      <td>0</td>\n",
              "      <td>0</td>\n",
              "      <td>0</td>\n",
              "      <td>1</td>\n",
              "      <td>0</td>\n",
              "      <td>1</td>\n",
              "      <td>0</td>\n",
              "      <td>...</td>\n",
              "      <td>1</td>\n",
              "      <td>0</td>\n",
              "      <td>0</td>\n",
              "      <td>0</td>\n",
              "      <td>1</td>\n",
              "      <td>0</td>\n",
              "      <td>0</td>\n",
              "      <td>40</td>\n",
              "      <td>36.00</td>\n",
              "      <td>1382.90</td>\n",
              "    </tr>\n",
              "    <tr>\n",
              "      <th>1053</th>\n",
              "      <td>1</td>\n",
              "      <td>0</td>\n",
              "      <td>1</td>\n",
              "      <td>0</td>\n",
              "      <td>1</td>\n",
              "      <td>1</td>\n",
              "      <td>0</td>\n",
              "      <td>0</td>\n",
              "      <td>1</td>\n",
              "      <td>0</td>\n",
              "      <td>...</td>\n",
              "      <td>0</td>\n",
              "      <td>0</td>\n",
              "      <td>0</td>\n",
              "      <td>0</td>\n",
              "      <td>1</td>\n",
              "      <td>0</td>\n",
              "      <td>0</td>\n",
              "      <td>1</td>\n",
              "      <td>44.70</td>\n",
              "      <td>44.70</td>\n",
              "    </tr>\n",
              "    <tr>\n",
              "      <th>1054</th>\n",
              "      <td>1</td>\n",
              "      <td>0</td>\n",
              "      <td>0</td>\n",
              "      <td>0</td>\n",
              "      <td>1</td>\n",
              "      <td>1</td>\n",
              "      <td>0</td>\n",
              "      <td>0</td>\n",
              "      <td>0</td>\n",
              "      <td>0</td>\n",
              "      <td>...</td>\n",
              "      <td>0</td>\n",
              "      <td>0</td>\n",
              "      <td>1</td>\n",
              "      <td>0</td>\n",
              "      <td>0</td>\n",
              "      <td>0</td>\n",
              "      <td>1</td>\n",
              "      <td>1</td>\n",
              "      <td>19.30</td>\n",
              "      <td>19.30</td>\n",
              "    </tr>\n",
              "  </tbody>\n",
              "</table>\n",
              "<p>1055 rows × 40 columns</p>\n",
              "</div>\n",
              "      <button class=\"colab-df-convert\" onclick=\"convertToInteractive('df-03138707-3cf5-470a-b550-ee4c96aabcc6')\"\n",
              "              title=\"Convert this dataframe to an interactive table.\"\n",
              "              style=\"display:none;\">\n",
              "        \n",
              "  <svg xmlns=\"http://www.w3.org/2000/svg\" height=\"24px\"viewBox=\"0 0 24 24\"\n",
              "       width=\"24px\">\n",
              "    <path d=\"M0 0h24v24H0V0z\" fill=\"none\"/>\n",
              "    <path d=\"M18.56 5.44l.94 2.06.94-2.06 2.06-.94-2.06-.94-.94-2.06-.94 2.06-2.06.94zm-11 1L8.5 8.5l.94-2.06 2.06-.94-2.06-.94L8.5 2.5l-.94 2.06-2.06.94zm10 10l.94 2.06.94-2.06 2.06-.94-2.06-.94-.94-2.06-.94 2.06-2.06.94z\"/><path d=\"M17.41 7.96l-1.37-1.37c-.4-.4-.92-.59-1.43-.59-.52 0-1.04.2-1.43.59L10.3 9.45l-7.72 7.72c-.78.78-.78 2.05 0 2.83L4 21.41c.39.39.9.59 1.41.59.51 0 1.02-.2 1.41-.59l7.78-7.78 2.81-2.81c.8-.78.8-2.07 0-2.86zM5.41 20L4 18.59l7.72-7.72 1.47 1.35L5.41 20z\"/>\n",
              "  </svg>\n",
              "      </button>\n",
              "      \n",
              "  <style>\n",
              "    .colab-df-container {\n",
              "      display:flex;\n",
              "      flex-wrap:wrap;\n",
              "      gap: 12px;\n",
              "    }\n",
              "\n",
              "    .colab-df-convert {\n",
              "      background-color: #E8F0FE;\n",
              "      border: none;\n",
              "      border-radius: 50%;\n",
              "      cursor: pointer;\n",
              "      display: none;\n",
              "      fill: #1967D2;\n",
              "      height: 32px;\n",
              "      padding: 0 0 0 0;\n",
              "      width: 32px;\n",
              "    }\n",
              "\n",
              "    .colab-df-convert:hover {\n",
              "      background-color: #E2EBFA;\n",
              "      box-shadow: 0px 1px 2px rgba(60, 64, 67, 0.3), 0px 1px 3px 1px rgba(60, 64, 67, 0.15);\n",
              "      fill: #174EA6;\n",
              "    }\n",
              "\n",
              "    [theme=dark] .colab-df-convert {\n",
              "      background-color: #3B4455;\n",
              "      fill: #D2E3FC;\n",
              "    }\n",
              "\n",
              "    [theme=dark] .colab-df-convert:hover {\n",
              "      background-color: #434B5C;\n",
              "      box-shadow: 0px 1px 3px 1px rgba(0, 0, 0, 0.15);\n",
              "      filter: drop-shadow(0px 1px 2px rgba(0, 0, 0, 0.3));\n",
              "      fill: #FFFFFF;\n",
              "    }\n",
              "  </style>\n",
              "\n",
              "      <script>\n",
              "        const buttonEl =\n",
              "          document.querySelector('#df-03138707-3cf5-470a-b550-ee4c96aabcc6 button.colab-df-convert');\n",
              "        buttonEl.style.display =\n",
              "          google.colab.kernel.accessAllowed ? 'block' : 'none';\n",
              "\n",
              "        async function convertToInteractive(key) {\n",
              "          const element = document.querySelector('#df-03138707-3cf5-470a-b550-ee4c96aabcc6');\n",
              "          const dataTable =\n",
              "            await google.colab.kernel.invokeFunction('convertToInteractive',\n",
              "                                                     [key], {});\n",
              "          if (!dataTable) return;\n",
              "\n",
              "          const docLinkHtml = 'Like what you see? Visit the ' +\n",
              "            '<a target=\"_blank\" href=https://colab.research.google.com/notebooks/data_table.ipynb>data table notebook</a>'\n",
              "            + ' to learn more about interactive tables.';\n",
              "          element.innerHTML = '';\n",
              "          dataTable['output_type'] = 'display_data';\n",
              "          await google.colab.output.renderOutput(dataTable, element);\n",
              "          const docLink = document.createElement('div');\n",
              "          docLink.innerHTML = docLinkHtml;\n",
              "          element.appendChild(docLink);\n",
              "        }\n",
              "      </script>\n",
              "    </div>\n",
              "  </div>\n",
              "  "
            ]
          },
          "metadata": {},
          "execution_count": 160
        }
      ]
    },
    {
      "cell_type": "code",
      "source": [
        "# Criando o encoding para y: [No -> 0] [Yes -> 1]\n",
        "lb = LabelBinarizer()"
      ],
      "metadata": {
        "id": "akWj-CgSWeRV"
      },
      "execution_count": 161,
      "outputs": []
    },
    {
      "cell_type": "code",
      "source": [
        "# Encoding do y_train\n",
        "y_train_enc = lb.fit_transform(y_train)\n",
        "y_train_enc"
      ],
      "metadata": {
        "colab": {
          "base_uri": "https://localhost:8080/"
        },
        "id": "tckgkeSVWrdW",
        "outputId": "394631ac-49c1-4f5b-b1cb-d6816b07835b"
      },
      "execution_count": 162,
      "outputs": [
        {
          "output_type": "execute_result",
          "data": {
            "text/plain": [
              "array([[0],\n",
              "       [0],\n",
              "       [1],\n",
              "       ...,\n",
              "       [0],\n",
              "       [0],\n",
              "       [1]])"
            ]
          },
          "metadata": {},
          "execution_count": 162
        }
      ]
    },
    {
      "cell_type": "code",
      "source": [
        "# Nomes das classes\n",
        "lb_names = lb.classes_\n",
        "lb_names"
      ],
      "metadata": {
        "colab": {
          "base_uri": "https://localhost:8080/"
        },
        "id": "luAOjzp9bad8",
        "outputId": "fb63467d-013e-4123-8ec1-8434961745fb"
      },
      "execution_count": 163,
      "outputs": [
        {
          "output_type": "execute_result",
          "data": {
            "text/plain": [
              "array(['No', 'Yes'], dtype='<U3')"
            ]
          },
          "metadata": {},
          "execution_count": 163
        }
      ]
    },
    {
      "cell_type": "code",
      "source": [
        "# Encoding do y_test\n",
        "y_test_enc = lb.transform(y_test)\n",
        "y_test_enc"
      ],
      "metadata": {
        "colab": {
          "base_uri": "https://localhost:8080/"
        },
        "id": "-Hp73JopXvCL",
        "outputId": "8240a1f9-443d-44d0-deea-a14ab6764721"
      },
      "execution_count": 164,
      "outputs": [
        {
          "output_type": "execute_result",
          "data": {
            "text/plain": [
              "array([[1],\n",
              "       [0],\n",
              "       [1],\n",
              "       ...,\n",
              "       [0],\n",
              "       [1],\n",
              "       [1]])"
            ]
          },
          "metadata": {},
          "execution_count": 164
        }
      ]
    },
    {
      "cell_type": "markdown",
      "source": [
        "#### **Definindo um baseline**\n",
        "\n",
        "Vou criar um modelo base com o dummy classifier para ter uma base de comparação."
      ],
      "metadata": {
        "id": "SpUQrKmETT-E"
      }
    },
    {
      "cell_type": "code",
      "source": [
        "from sklearn.dummy import DummyClassifier\n",
        "from sklearn.model_selection import cross_validate"
      ],
      "metadata": {
        "id": "85dnXkzAP2LI"
      },
      "execution_count": 165,
      "outputs": []
    },
    {
      "cell_type": "code",
      "source": [
        "# Modelo dummy com estratégia de predição estratificada por classe\n",
        "dummy_churn = DummyClassifier(strategy='stratified')"
      ],
      "metadata": {
        "id": "WmPiEy1nKoLj"
      },
      "execution_count": 166,
      "outputs": []
    },
    {
      "cell_type": "code",
      "source": [
        "# Realizando a validação cruzada\n",
        "dummy_churn_cv = cross_validate(dummy_churn, X_train_enc, y_train_enc, cv=5, scoring=['accuracy', 'recall', 'precision', 'f1_weighted'], return_estimator=True)"
      ],
      "metadata": {
        "id": "Gla0cB4UQ8Vw"
      },
      "execution_count": 167,
      "outputs": []
    },
    {
      "cell_type": "code",
      "source": [
        "dummy_churn_cv"
      ],
      "metadata": {
        "colab": {
          "base_uri": "https://localhost:8080/"
        },
        "id": "K9a30NeyQ8fw",
        "outputId": "7aa31ce8-14fc-45a8-ccd5-b855fa7ee8d2"
      },
      "execution_count": 168,
      "outputs": [
        {
          "output_type": "execute_result",
          "data": {
            "text/plain": [
              "{'estimator': [DummyClassifier(strategy='stratified'),\n",
              "  DummyClassifier(strategy='stratified'),\n",
              "  DummyClassifier(strategy='stratified'),\n",
              "  DummyClassifier(strategy='stratified'),\n",
              "  DummyClassifier(strategy='stratified')],\n",
              " 'fit_time': array([0.00343609, 0.00107026, 0.00090146, 0.00087881, 0.00091577]),\n",
              " 'score_time': array([0.00694895, 0.00296664, 0.00276875, 0.00287366, 0.00277519]),\n",
              " 'test_accuracy': array([0.60953177, 0.58946488, 0.61841004, 0.61087866, 0.5958159 ]),\n",
              " 'test_f1_weighted': array([0.6108758 , 0.59317391, 0.61643281, 0.61576018, 0.59681454]),\n",
              " 'test_precision': array([0.27076923, 0.24332344, 0.27361564, 0.28695652, 0.24458204]),\n",
              " 'test_recall': array([0.27672956, 0.25786164, 0.26498423, 0.31132075, 0.24842767])}"
            ]
          },
          "metadata": {},
          "execution_count": 168
        }
      ]
    },
    {
      "cell_type": "code",
      "source": [
        "print(f'Acurácia média: {dummy_churn_cv[\"test_accuracy\"].mean():.4f}')\n",
        "print(f'Precisão média: {dummy_churn_cv[\"test_precision\"].mean():.4f}')\n",
        "print(f'Revocação média: {dummy_churn_cv[\"test_recall\"].mean():.4f}')\n",
        "print(f'F1-Score médio: {dummy_churn_cv[\"test_f1_weighted\"].mean():.4f}')"
      ],
      "metadata": {
        "colab": {
          "base_uri": "https://localhost:8080/"
        },
        "id": "SJZ0uHOeaEvE",
        "outputId": "3023d547-c8a9-4168-fd76-b8d03aeea0a2"
      },
      "execution_count": 169,
      "outputs": [
        {
          "output_type": "stream",
          "name": "stdout",
          "text": [
            "Acurácia média: 0.6048\n",
            "Precisão média: 0.2638\n",
            "Revocação média: 0.2719\n",
            "F1-Score médio: 0.6066\n"
          ]
        }
      ]
    },
    {
      "cell_type": "markdown",
      "source": [
        "Com o resultado da validação cruzada temos observações interessantes sobre o modelo. \n",
        "\n",
        "Percebemos que há uma acurácia média de 60%, com revocação e precisão muito baixa, em torno de 25% para a classe positiva. Podemos perceber também que há um desbalanço nos resultados, pois o F1-Score é de 60%.\n",
        "\n",
        "\n",
        "A seguir, irei prever os dados de testes com um dos modelos para ver se o mesmo padrão acontece e validar a análise anterior do desbalanço."
      ],
      "metadata": {
        "id": "8pD9OjPHZ6gV"
      }
    },
    {
      "cell_type": "code",
      "source": [
        "# Predict do modelo dummy 0\n",
        "y_pred_cv = dummy_churn_cv['estimator'][0].predict(X_test_enc)"
      ],
      "metadata": {
        "id": "gRzj5y7FQ8s6"
      },
      "execution_count": 170,
      "outputs": []
    },
    {
      "cell_type": "code",
      "source": [
        "# Score do modelo dummy 0\n",
        "dummy_churn_cv['estimator'][0].score(X_test_enc, y_test_enc)"
      ],
      "metadata": {
        "colab": {
          "base_uri": "https://localhost:8080/"
        },
        "id": "AxjxbB_SUWVq",
        "outputId": "dcf247f7-8720-41d3-a66a-f235b1b04586"
      },
      "execution_count": 171,
      "outputs": [
        {
          "output_type": "execute_result",
          "data": {
            "text/plain": [
              "0.6227488151658768"
            ]
          },
          "metadata": {},
          "execution_count": 171
        }
      ]
    },
    {
      "cell_type": "markdown",
      "source": [
        "Temos **62%** de acurácia.\n",
        "\n",
        "Vamos ver o report de classificação que nos dá as métricas de **revocação**, **precisão** e **f1-score**."
      ],
      "metadata": {
        "id": "Fs-gEQteMG6J"
      }
    },
    {
      "cell_type": "code",
      "source": [
        "from sklearn.metrics import classification_report"
      ],
      "metadata": {
        "id": "BXip54_nLXeN"
      },
      "execution_count": 172,
      "outputs": []
    },
    {
      "cell_type": "code",
      "source": [
        "predict_report = classification_report(y_test_enc, y_pred_cv, output_dict=True)\n",
        "print(classification_report(y_test_enc, y_pred_cv, output_dict=False))"
      ],
      "metadata": {
        "colab": {
          "base_uri": "https://localhost:8080/"
        },
        "id": "Y7mxcjcCNK_z",
        "outputId": "883e44ed-129c-4b83-d643-739f7285c8c2"
      },
      "execution_count": 173,
      "outputs": [
        {
          "output_type": "stream",
          "name": "stdout",
          "text": [
            "              precision    recall  f1-score   support\n",
            "\n",
            "           0       0.75      0.75      0.75       775\n",
            "           1       0.31      0.32      0.32       280\n",
            "\n",
            "    accuracy                           0.64      1055\n",
            "   macro avg       0.53      0.53      0.53      1055\n",
            "weighted avg       0.64      0.64      0.64      1055\n",
            "\n"
          ]
        }
      ]
    },
    {
      "cell_type": "markdown",
      "source": [
        "É possível ver que o modelo é muito ruim em predizer a classe de positiva, **churn = Yes**, com um recall de 32%. Mas possui um recall de 75% para a classe ne gativa, **churn = No**. \n",
        "\n",
        "Como há muito mais dado da classe negativa, olhar apenas o resultado final de acurácia não nos ajuda muito, pois ele é um valor que nos engana.\n",
        "\n",
        "O padrão se parece com o resultado da validação cruzada, há um desbalanço entre os resultados. Como queremos os cliente que abandonam o plano, ou seja, a **classe positiva**, o resultado não é bom."
      ],
      "metadata": {
        "id": "rL_cviECNqNT"
      }
    },
    {
      "cell_type": "markdown",
      "source": [
        "#### **Criando os modelos para os dados desbalanceados**\n",
        "\n",
        "Vou constuir uma função para treino com validação cruzada e disposição de informações para o usuário. Irei avaliar as métricas de precisão, recall e f1-score macro para as duas classes.\n",
        "\n",
        "Os modelos escolhidos para avaliação são: SVC, Random Forest e Bauve Bayes."
      ],
      "metadata": {
        "id": "b2xSbhEZPAZt"
      }
    },
    {
      "cell_type": "code",
      "source": [
        "def validacao_cruzada(modelo, nome, X_cv, y_cv, cv):\n",
        "\n",
        "  warnings.filterwarnings('ignore')\n",
        "\n",
        "  modelo_cv = cross_validate(modelo, X_cv, y_cv, cv=cv, scoring=['accuracy', 'recall', 'precision', 'f1_macro', 'roc_auc'], return_estimator=True)\n",
        "\n",
        "  print('*****************************************************************************')\n",
        "  print(f'*      Resultados do treino com validação cruzada para o {nome}')\n",
        "  print('*****************************************************************************')\n",
        "  print(f'* Acurácia: {modelo_cv[\"test_accuracy\"]}')\n",
        "  print(f'* Acurácia média: {modelo_cv[\"test_accuracy\"].mean():.4f}')\n",
        "  print('*-----------------------------------------------------------------------------')\n",
        "  print(f'* Precisão: {modelo_cv[\"test_precision\"]}')\n",
        "  print(f'* Precisão média: {modelo_cv[\"test_precision\"].mean():.4f}')\n",
        "  print('*-----------------------------------------------------------------------------')\n",
        "  print(f'* Revocação: {modelo_cv[\"test_recall\"]}')\n",
        "  print(f'* Revocação média: {modelo_cv[\"test_recall\"].mean():.4f}')\n",
        "  print('*-----------------------------------------------------------------------------')\n",
        "  print(f'* F1_Score: {modelo_cv[\"test_f1_macro\"]}')\n",
        "  print(f'* F1_Score médio: {modelo_cv[\"test_f1_macro\"].mean():.4f}')\n",
        "  print('*-----------------------------------------------------------------------------')\n",
        "  print(f'* ROC AUC: {modelo_cv[\"test_roc_auc\"]}')\n",
        "  print(f'* ROC AUC médio: {modelo_cv[\"test_roc_auc\"].mean():.4f}')\n",
        "  print('*****************************************************************************')\n",
        "\n",
        "  return modelo_cv"
      ],
      "metadata": {
        "id": "vP-4hkqwVBYm"
      },
      "execution_count": 174,
      "outputs": []
    },
    {
      "cell_type": "code",
      "source": [
        "def teste_melhor_modelo(modelo, nome, X_test, y_test):\n",
        "\n",
        "  warnings.filterwarnings('ignore')\n",
        "\n",
        "  pred_dict = {'0':{'precision':[], 'recall':[], 'f1-score':[]},\n",
        "               '1':{'precision':[], 'recall':[], 'f1-score':[]}}\n",
        "\n",
        "  for i in range(len(modelo['estimator'])):\n",
        "    y_pred_cv = modelo['estimator'][i].predict(X_test)\n",
        "    \n",
        "    \n",
        "    predict_report = classification_report(y_test, y_pred_cv, output_dict=True)\n",
        "\n",
        "    pred_dict['0']['f1-score'].append(predict_report['0']['f1-score'])\n",
        "    pred_dict['0']['precision'].append(predict_report['0']['precision'])\n",
        "    pred_dict['0']['recall'].append(predict_report['0']['recall'])\n",
        "    pred_dict['1']['f1-score'].append(predict_report['1']['f1-score'])\n",
        "    pred_dict['1']['precision'].append(predict_report['1']['precision'])\n",
        "    pred_dict['1']['recall'].append(predict_report['1']['recall'])\n",
        "\n",
        "    print('*****************************************************************************')\n",
        "    print(f'classification report para o modelo {nome} {i+1}:')\n",
        "    print('*****************************************************************************')\n",
        "    print(classification_report(y_test, y_pred_cv, output_dict=False))\n",
        "    print('*****************************************************************************')\n",
        "    print(' ')\n",
        "\n",
        "  return None"
      ],
      "metadata": {
        "id": "-3MTqOfkwxV1"
      },
      "execution_count": 175,
      "outputs": []
    },
    {
      "cell_type": "code",
      "source": [
        "# Importando o SVC e criando o modelo\n",
        "from sklearn.svm import SVC\n",
        "\n",
        "svc = SVC()"
      ],
      "metadata": {
        "id": "AKUYRwNfg6d6"
      },
      "execution_count": 176,
      "outputs": []
    },
    {
      "cell_type": "code",
      "source": [
        "# treinando o modelo com a função criada\n",
        "modelo_svc = validacao_cruzada(svc, 'SVC', X_train_enc, y_train_enc.ravel(), 5)"
      ],
      "metadata": {
        "colab": {
          "base_uri": "https://localhost:8080/"
        },
        "id": "XU7QpnvIhAzk",
        "outputId": "0e707d72-fa26-486a-d164-dc600cc84d55"
      },
      "execution_count": 177,
      "outputs": [
        {
          "output_type": "stream",
          "name": "stdout",
          "text": [
            "*****************************************************************************\n",
            "*      Resultados do treino com validação cruzada para o SVC\n",
            "*****************************************************************************\n",
            "* Acurácia: [0.73411371 0.73411371 0.73472803 0.73389121 0.73389121]\n",
            "* Acurácia média: 0.7341\n",
            "*-----------------------------------------------------------------------------\n",
            "* Precisão: [0. 0. 0. 0. 0.]\n",
            "* Precisão média: 0.0000\n",
            "*-----------------------------------------------------------------------------\n",
            "* Revocação: [0. 0. 0. 0. 0.]\n",
            "* Revocação média: 0.0000\n",
            "*-----------------------------------------------------------------------------\n",
            "* F1_Score: [0.42333655 0.42333655 0.42354076 0.42326255 0.42326255]\n",
            "* F1_Score médio: 0.4233\n",
            "*-----------------------------------------------------------------------------\n",
            "* ROC AUC: [0.7995874  0.79271429 0.78172539 0.79119784 0.79375444]\n",
            "* ROC AUC médio: 0.7918\n",
            "*****************************************************************************\n"
          ]
        }
      ]
    },
    {
      "cell_type": "markdown",
      "source": [
        "**Pode ser verificado que o SVC não performa bem com os dados desbalanceados. A revocação e precisão da classe positiva é ruim. O desequilíbrio nos resultados permanece entre as classes.**"
      ],
      "metadata": {
        "id": "jqS7mTN8I3vu"
      }
    },
    {
      "cell_type": "code",
      "source": [
        "# Random Forest\n",
        "\n",
        "from sklearn.ensemble import RandomForestClassifier\n",
        "\n",
        "RF = RandomForestClassifier()"
      ],
      "metadata": {
        "id": "PzA6v7Ahj3H7"
      },
      "execution_count": 178,
      "outputs": []
    },
    {
      "cell_type": "code",
      "source": [
        "modelo_RF = validacao_cruzada(RF, 'RF', X_train_enc, y_train_enc.ravel(), 5)"
      ],
      "metadata": {
        "colab": {
          "base_uri": "https://localhost:8080/"
        },
        "id": "_RenGPfHj5Zd",
        "outputId": "93e46e35-7b9e-4cbb-ba00-a36a41a12cc9"
      },
      "execution_count": 179,
      "outputs": [
        {
          "output_type": "stream",
          "name": "stdout",
          "text": [
            "*****************************************************************************\n",
            "*      Resultados do treino com validação cruzada para o RF\n",
            "*****************************************************************************\n",
            "* Acurácia: [0.78344482 0.77591973 0.79414226 0.7832636  0.79665272]\n",
            "* Acurácia média: 0.7867\n",
            "*-----------------------------------------------------------------------------\n",
            "* Precisão: [0.62447257 0.60869565 0.63498099 0.61389961 0.64258555]\n",
            "* Precisão média: 0.6249\n",
            "*-----------------------------------------------------------------------------\n",
            "* Revocação: [0.46540881 0.44025157 0.52681388 0.5        0.53144654]\n",
            "* Revocação média: 0.4928\n",
            "*-----------------------------------------------------------------------------\n",
            "* F1_Score: [0.69617129 0.68280634 0.71997523 0.70413469 0.72371362]\n",
            "* F1_Score médio: 0.7054\n",
            "*-----------------------------------------------------------------------------\n",
            "* ROC AUC: [0.81275877 0.81554347 0.82445046 0.82073679 0.83245125]\n",
            "* ROC AUC médio: 0.8212\n",
            "*****************************************************************************\n"
          ]
        }
      ]
    },
    {
      "cell_type": "markdown",
      "source": [
        "**O Random Forest apresenta um resultado melhor com F1-Score médio de 0.7 e revocação 0.5 para a classe positiva, ou seja, ainda há um desequilíbrio nos resultados, mas é melhor do que o SVC.**"
      ],
      "metadata": {
        "id": "sKn2HXYkJUmM"
      }
    },
    {
      "cell_type": "code",
      "source": [
        "# Naive Bayes GaussianNB\n",
        "\n",
        "from sklearn.naive_bayes import GaussianNB\n",
        "\n",
        "NB = GaussianNB()"
      ],
      "metadata": {
        "id": "hLyV6WRskXku"
      },
      "execution_count": 180,
      "outputs": []
    },
    {
      "cell_type": "code",
      "source": [
        "modelo_NB = validacao_cruzada(NB, 'NB', X_train_enc, y_train_enc.ravel(), 5)"
      ],
      "metadata": {
        "colab": {
          "base_uri": "https://localhost:8080/"
        },
        "id": "yvcObHQ-kbeS",
        "outputId": "cd79d7ef-31e6-46b3-a86f-77f2c6456ef6"
      },
      "execution_count": 181,
      "outputs": [
        {
          "output_type": "stream",
          "name": "stdout",
          "text": [
            "*****************************************************************************\n",
            "*      Resultados do treino com validação cruzada para o NB\n",
            "*****************************************************************************\n",
            "* Acurácia: [0.67307692 0.69314381 0.68702929 0.71882845 0.70962343]\n",
            "* Acurácia média: 0.6963\n",
            "*-----------------------------------------------------------------------------\n",
            "* Precisão: [0.44045677 0.45663717 0.45193929 0.484375   0.47487002]\n",
            "* Precisão média: 0.4617\n",
            "*-----------------------------------------------------------------------------\n",
            "* Revocação: [0.8490566  0.81132075 0.84542587 0.87735849 0.86163522]\n",
            "* Revocação média: 0.8490\n",
            "*-----------------------------------------------------------------------------\n",
            "* F1_Score: [0.65619828 0.67058202 0.66815414 0.69978107 0.69009174]\n",
            "* F1_Score médio: 0.6770\n",
            "*-----------------------------------------------------------------------------\n",
            "* ROC AUC: [0.79925789 0.80258521 0.82526426 0.85176739 0.82681096]\n",
            "* ROC AUC médio: 0.8211\n",
            "*****************************************************************************\n"
          ]
        }
      ]
    },
    {
      "cell_type": "markdown",
      "source": [
        "**O Naive Bayes aparenta ser um algoritmo melhor nessa situação, pois possui um F1-Score médio de 0.67 e revocação para a classe 0.84. Aqui pode ser percebido umam melhora na revocação mas a precisão caiu para algo em torno de 0.46.**\n",
        "\n",
        "**Olhando para o F1-Score o Random Forest parece ser um pouco mais equilibrado.**"
      ],
      "metadata": {
        "id": "PN-85N3RJvpr"
      }
    },
    {
      "cell_type": "markdown",
      "source": [
        "### **Avaliações com os dados balanceados**"
      ],
      "metadata": {
        "id": "nDkURNA1l3M8"
      }
    },
    {
      "cell_type": "markdown",
      "source": [
        "Agora irei testar as opções de balanceamento de dados para os treinar os modelos.\n",
        "\n",
        "Com a biblioteca [imblearn](https://imbalanced-learn.org/stable/) testarei 4 opções de balanceamento, 2 opções de under sampling e 2 de over sampling:\n",
        "\n",
        "1. Random under-sampling\n",
        "2. TomekLinks\n",
        "3. Random over-sampling\n",
        "4. SMOTE"
      ],
      "metadata": {
        "id": "5UEmuUyo2JUf"
      }
    },
    {
      "cell_type": "markdown",
      "source": [
        "#### **Balanceamento com Random Under Sampling**"
      ],
      "metadata": {
        "id": "FP_NzrSb6ETQ"
      }
    },
    {
      "cell_type": "code",
      "source": [
        "from imblearn.under_sampling import RandomUnderSampler\n",
        "\n",
        "rus = RandomUnderSampler()\n",
        "\n",
        "X_train_rus, y_train_rus = rus.fit_resample(X_train_enc, y_train_enc)\n",
        "\n",
        "print(f'Shape do X_train com Under Sampling: {X_train_rus.shape}')\n",
        "print(f'Shape do y_train com Under Sampling: {y_train_rus.shape}')\n",
        "\n",
        "print(f'Valores únicos das classes: {np.unique(y_train_rus, return_counts=True)}')"
      ],
      "metadata": {
        "id": "JVG3wQSJl6VK",
        "colab": {
          "base_uri": "https://localhost:8080/"
        },
        "outputId": "fb63df8b-9781-44a4-b8c5-bdca192efc04"
      },
      "execution_count": 182,
      "outputs": [
        {
          "output_type": "stream",
          "name": "stdout",
          "text": [
            "Shape do X_train com Under Sampling: (3178, 40)\n",
            "Shape do y_train com Under Sampling: (3178,)\n",
            "Valores únicos das classes: (array([0, 1]), array([1589, 1589]))\n"
          ]
        }
      ]
    },
    {
      "cell_type": "code",
      "source": [
        "svc = SVC()\n",
        "modelo_svc_rus = validacao_cruzada(svc, 'SVC', X_train_rus, y_train_rus.ravel(), 5)"
      ],
      "metadata": {
        "colab": {
          "base_uri": "https://localhost:8080/"
        },
        "id": "-YxwsFGo-8pw",
        "outputId": "61a7c95e-feb6-49df-fba6-6a648e2adc29"
      },
      "execution_count": 183,
      "outputs": [
        {
          "output_type": "stream",
          "name": "stdout",
          "text": [
            "*****************************************************************************\n",
            "*      Resultados do treino com validação cruzada para o SVC\n",
            "*****************************************************************************\n",
            "* Acurácia: [0.63836478 0.63836478 0.62735849 0.59212598 0.64566929]\n",
            "* Acurácia média: 0.6284\n",
            "*-----------------------------------------------------------------------------\n",
            "* Precisão: [0.68032787 0.6641791  0.65517241 0.61068702 0.66666667]\n",
            "* Precisão média: 0.6554\n",
            "*-----------------------------------------------------------------------------\n",
            "* Revocação: [0.52201258 0.55974843 0.53773585 0.50473186 0.58490566]\n",
            "* Revocação média: 0.5418\n",
            "*-----------------------------------------------------------------------------\n",
            "* F1_Score: [0.63340183 0.63611578 0.62434112 0.58892896 0.64439583]\n",
            "* F1_Score médio: 0.6254\n",
            "*-----------------------------------------------------------------------------\n",
            "* ROC AUC: [0.70907994 0.69588822 0.70357185 0.66517866 0.70829117]\n",
            "* ROC AUC médio: 0.6964\n",
            "*****************************************************************************\n"
          ]
        }
      ]
    },
    {
      "cell_type": "code",
      "source": [
        "RF = RandomForestClassifier()\n",
        "modelo_RF_rus = validacao_cruzada(RF, 'RF', X_train_rus, y_train_rus.ravel(), 5)"
      ],
      "metadata": {
        "colab": {
          "base_uri": "https://localhost:8080/"
        },
        "id": "hIUZySbH_ZSb",
        "outputId": "6d231574-5583-4e7f-9c7e-2db33ea680ba"
      },
      "execution_count": 184,
      "outputs": [
        {
          "output_type": "stream",
          "name": "stdout",
          "text": [
            "*****************************************************************************\n",
            "*      Resultados do treino com validação cruzada para o RF\n",
            "*****************************************************************************\n",
            "* Acurácia: [0.74528302 0.72641509 0.74371069 0.77322835 0.7496063 ]\n",
            "* Acurácia média: 0.7476\n",
            "*-----------------------------------------------------------------------------\n",
            "* Precisão: [0.73780488 0.71556886 0.73134328 0.77115987 0.73873874]\n",
            "* Precisão média: 0.7389\n",
            "*-----------------------------------------------------------------------------\n",
            "* Revocação: [0.76100629 0.75157233 0.77044025 0.77602524 0.77358491]\n",
            "* Revocação média: 0.7665\n",
            "*-----------------------------------------------------------------------------\n",
            "* F1_Score: [0.74522003 0.72624184 0.74352745 0.77322778 0.74944723]\n",
            "* F1_Score médio: 0.7475\n",
            "*-----------------------------------------------------------------------------\n",
            "* ROC AUC: [0.82160516 0.81462857 0.82208477 0.82729203 0.83351189]\n",
            "* ROC AUC médio: 0.8238\n",
            "*****************************************************************************\n"
          ]
        }
      ]
    },
    {
      "cell_type": "code",
      "source": [
        "NB = GaussianNB()\n",
        "modelo_NB_rus = validacao_cruzada(NB, 'NB', X_train_rus, y_train_rus.ravel(), 5)"
      ],
      "metadata": {
        "colab": {
          "base_uri": "https://localhost:8080/"
        },
        "id": "zyAD3-xN_t2f",
        "outputId": "befef394-f788-4de5-bf36-ff7dffa1631d"
      },
      "execution_count": 185,
      "outputs": [
        {
          "output_type": "stream",
          "name": "stdout",
          "text": [
            "*****************************************************************************\n",
            "*      Resultados do treino com validação cruzada para o NB\n",
            "*****************************************************************************\n",
            "* Acurácia: [0.72955975 0.71383648 0.72169811 0.78110236 0.7480315 ]\n",
            "* Acurácia média: 0.7388\n",
            "*-----------------------------------------------------------------------------\n",
            "* Precisão: [0.68341709 0.67435897 0.67237164 0.73177083 0.70050761]\n",
            "* Precisão média: 0.6925\n",
            "*-----------------------------------------------------------------------------\n",
            "* Revocação: [0.85534591 0.82704403 0.86477987 0.88643533 0.86792453]\n",
            "* Revocação média: 0.8603\n",
            "*-----------------------------------------------------------------------------\n",
            "* F1_Score: [0.72521201 0.71012141 0.71588153 0.77871181 0.74427127]\n",
            "* F1_Score médio: 0.7348\n",
            "*-----------------------------------------------------------------------------\n",
            "* ROC AUC: [0.81187453 0.78989162 0.80314268 0.86121858 0.81913775]\n",
            "* ROC AUC médio: 0.8171\n",
            "*****************************************************************************\n"
          ]
        }
      ]
    },
    {
      "cell_type": "markdown",
      "source": [
        "**Com o Random Under Sampling é possível perceber um equilíbrio nos resultados e o Random Forest apresenta o melhor F1-Score e ROC_AUC macro para as duas classes. Porém, o Recall do Naive Bayes é maior para a classe positiva.**"
      ],
      "metadata": {
        "id": "beJQzC58LL01"
      }
    },
    {
      "cell_type": "markdown",
      "source": [
        "#### **Balanceamento com TomekLinks**"
      ],
      "metadata": {
        "id": "Q_kjdyKhASkP"
      }
    },
    {
      "cell_type": "code",
      "source": [
        "from imblearn.under_sampling import TomekLinks\n",
        "\n",
        "tl = TomekLinks()\n",
        "\n",
        "X_train_tl, y_train_tl = tl.fit_resample(X_train_enc, y_train_enc)\n",
        "\n",
        "print(f'Shape do X_train com Under Sampling: {X_train_tl.shape}')\n",
        "print(f'Shape do y_train com Under Sampling: {y_train_tl.shape}')\n",
        "\n",
        "print(f'Valores únicos das classes: {np.unique(y_train_tl, return_counts=True)}')"
      ],
      "metadata": {
        "colab": {
          "base_uri": "https://localhost:8080/"
        },
        "id": "7ipLT9eO_6CR",
        "outputId": "296a5998-2ba1-40f6-bf47-315b35b12ab7"
      },
      "execution_count": 186,
      "outputs": [
        {
          "output_type": "stream",
          "name": "stdout",
          "text": [
            "Shape do X_train com Under Sampling: (5485, 40)\n",
            "Shape do y_train com Under Sampling: (5485,)\n",
            "Valores únicos das classes: (array([0, 1]), array([3896, 1589]))\n"
          ]
        }
      ]
    },
    {
      "cell_type": "code",
      "source": [
        "svc = SVC()\n",
        "\n",
        "modelo_svc_tl = validacao_cruzada(svc, 'SVC', X_train_tl, y_train_tl.ravel(), 5)"
      ],
      "metadata": {
        "colab": {
          "base_uri": "https://localhost:8080/"
        },
        "id": "OLigkZKjA0RP",
        "outputId": "7c9039eb-9d1a-4e62-e8b9-755c45474d25"
      },
      "execution_count": 187,
      "outputs": [
        {
          "output_type": "stream",
          "name": "stdout",
          "text": [
            "*****************************************************************************\n",
            "*      Resultados do treino com validação cruzada para o SVC\n",
            "*****************************************************************************\n",
            "* Acurácia: [0.71103008 0.71011851 0.71011851 0.71011851 0.71011851]\n",
            "* Acurácia média: 0.7103\n",
            "*-----------------------------------------------------------------------------\n",
            "* Precisão: [0. 0. 0. 0. 0.]\n",
            "* Precisão média: 0.0000\n",
            "*-----------------------------------------------------------------------------\n",
            "* Revocação: [0. 0. 0. 0. 0.]\n",
            "* Revocação média: 0.0000\n",
            "*-----------------------------------------------------------------------------\n",
            "* F1_Score: [0.41555674 0.4152452  0.4152452  0.4152452  0.4152452 ]\n",
            "* F1_Score médio: 0.4153\n",
            "*-----------------------------------------------------------------------------\n",
            "* ROC AUC: [0.82275338 0.82413754 0.80462979 0.8125439  0.8029081 ]\n",
            "* ROC AUC médio: 0.8134\n",
            "*****************************************************************************\n"
          ]
        }
      ]
    },
    {
      "cell_type": "markdown",
      "source": [
        "**Pode ser obsevado que o método TomeLinks não equilibra as classes deixando 50% - 50%.**\n",
        "\n",
        "**Logo, o resultado não é bom.**"
      ],
      "metadata": {
        "id": "WYQBcRJSC21w"
      }
    },
    {
      "cell_type": "code",
      "source": [
        "RF = RandomForestClassifier()\n",
        "\n",
        "modelo_RF_tl = validacao_cruzada(RF, 'RF', X_train_tl, y_train_tl.ravel(), 5)"
      ],
      "metadata": {
        "colab": {
          "base_uri": "https://localhost:8080/"
        },
        "id": "4nS0CnD-Dejn",
        "outputId": "8731b909-c0af-40cd-f76d-b2b798fab2b6"
      },
      "execution_count": 188,
      "outputs": [
        {
          "output_type": "stream",
          "name": "stdout",
          "text": [
            "*****************************************************************************\n",
            "*      Resultados do treino com validação cruzada para o RF\n",
            "*****************************************************************************\n",
            "* Acurácia: [0.80218778 0.78304467 0.81221513 0.80856882 0.80401094]\n",
            "* Acurácia média: 0.8020\n",
            "*-----------------------------------------------------------------------------\n",
            "* Precisão: [0.69379845 0.65873016 0.70289855 0.7        0.6900369 ]\n",
            "* Precisão média: 0.6891\n",
            "*-----------------------------------------------------------------------------\n",
            "* Revocação: [0.56466877 0.52201258 0.61006289 0.59433962 0.58805031]\n",
            "* Revocação média: 0.5758\n",
            "*-----------------------------------------------------------------------------\n",
            "* F1_Score: [0.74428767 0.71795221 0.76222433 0.75604875 0.75050907]\n",
            "* F1_Score médio: 0.7462\n",
            "*-----------------------------------------------------------------------------\n",
            "* ROC AUC: [0.84713662 0.84408127 0.85453452 0.85585657 0.86140714]\n",
            "* ROC AUC médio: 0.8526\n",
            "*****************************************************************************\n"
          ]
        }
      ]
    },
    {
      "cell_type": "code",
      "source": [
        "NB = GaussianNB()\n",
        "\n",
        "modelo_NB_tl = validacao_cruzada(NB, 'NB', X_train_tl, y_train_tl.ravel(), 5)"
      ],
      "metadata": {
        "colab": {
          "base_uri": "https://localhost:8080/"
        },
        "id": "DUmr9bqcFu4m",
        "outputId": "4ff8dbd0-8ae6-424a-fde8-5bd4fa6b1b4c"
      },
      "execution_count": 189,
      "outputs": [
        {
          "output_type": "stream",
          "name": "stdout",
          "text": [
            "*****************************************************************************\n",
            "*      Resultados do treino com validação cruzada para o NB\n",
            "*****************************************************************************\n",
            "* Acurácia: [0.70191431 0.71558797 0.71467639 0.75205105 0.73199635]\n",
            "* Acurácia média: 0.7232\n",
            "*-----------------------------------------------------------------------------\n",
            "* Precisão: [0.49090909 0.50581395 0.5047081  0.54474708 0.52290076]\n",
            "* Precisão média: 0.5138\n",
            "*-----------------------------------------------------------------------------\n",
            "* Revocação: [0.85173502 0.82075472 0.8427673  0.88050314 0.86163522]\n",
            "* Revocação média: 0.8515\n",
            "*-----------------------------------------------------------------------------\n",
            "* F1_Score: [0.68820844 0.69824376 0.69930861 0.7366853  0.71668787]\n",
            "* F1_Score médio: 0.7078\n",
            "*-----------------------------------------------------------------------------\n",
            "* ROC AUC: [0.82626385 0.82289018 0.84322951 0.87289785 0.84282381]\n",
            "* ROC AUC médio: 0.8416\n",
            "*****************************************************************************\n"
          ]
        }
      ]
    },
    {
      "cell_type": "markdown",
      "source": [
        "**Os resultados de Recall e F1-Score dos modelos não são melhores do que os resultados com balanceamento com Random Under Sampling.**"
      ],
      "metadata": {
        "id": "51PMgKeSNYud"
      }
    },
    {
      "cell_type": "markdown",
      "source": [
        "#### **Balanceamento com Random Over Sampling**"
      ],
      "metadata": {
        "id": "Nuu_R6hwGD2j"
      }
    },
    {
      "cell_type": "code",
      "source": [
        "from imblearn.over_sampling import RandomOverSampler\n",
        "\n",
        "ros = RandomOverSampler()\n",
        "\n",
        "X_train_ros, y_train_ros = ros.fit_resample(X_train_enc, y_train_enc)\n",
        "\n",
        "print(f'Shape do X_train com Under Sampling: {X_train_ros.shape}')\n",
        "print(f'Shape do y_train com Under Sampling: {y_train_ros.shape}')\n",
        "\n",
        "print(f'Valores únicos das classes: {np.unique(y_train_ros, return_counts=True)}')"
      ],
      "metadata": {
        "colab": {
          "base_uri": "https://localhost:8080/"
        },
        "id": "JQ0Yo86EF3f9",
        "outputId": "ba556e62-3ee8-4b49-cb80-ee9365323e70"
      },
      "execution_count": 190,
      "outputs": [
        {
          "output_type": "stream",
          "name": "stdout",
          "text": [
            "Shape do X_train com Under Sampling: (8776, 40)\n",
            "Shape do y_train com Under Sampling: (8776,)\n",
            "Valores únicos das classes: (array([0, 1]), array([4388, 4388]))\n"
          ]
        }
      ]
    },
    {
      "cell_type": "code",
      "source": [
        "svc = SVC()\n",
        "\n",
        "modelo_svc_ros = validacao_cruzada(svc, 'SVC', X_train_ros, y_train_ros.ravel(), 5)"
      ],
      "metadata": {
        "colab": {
          "base_uri": "https://localhost:8080/"
        },
        "id": "JXBI529IGcRY",
        "outputId": "5abc2955-c71c-4455-ce69-145a27cb30d8"
      },
      "execution_count": 191,
      "outputs": [
        {
          "output_type": "stream",
          "name": "stdout",
          "text": [
            "*****************************************************************************\n",
            "*      Resultados do treino com validação cruzada para o SVC\n",
            "*****************************************************************************\n",
            "* Acurácia: [0.65660592 0.66153846 0.64387464 0.65071225 0.61310541]\n",
            "* Acurácia média: 0.6452\n",
            "*-----------------------------------------------------------------------------\n",
            "* Precisão: [0.68115942 0.68258065 0.66755319 0.67411301 0.63109354]\n",
            "* Precisão média: 0.6673\n",
            "*-----------------------------------------------------------------------------\n",
            "* Revocação: [0.58883827 0.6031927  0.57240593 0.58428246 0.54555809]\n",
            "* Revocação média: 0.5789\n",
            "*-----------------------------------------------------------------------------\n",
            "* F1_Score: [0.65502162 0.66036862 0.64202948 0.64917959 0.61134842]\n",
            "* F1_Score médio: 0.6436\n",
            "*-----------------------------------------------------------------------------\n",
            "* ROC AUC: [0.73723219 0.74446173 0.72087815 0.73287806 0.69983546]\n",
            "* ROC AUC médio: 0.7271\n",
            "*****************************************************************************\n"
          ]
        }
      ]
    },
    {
      "cell_type": "code",
      "source": [
        "RF = RandomForestClassifier()\n",
        "\n",
        "modelo_RF_ros = validacao_cruzada(RF, 'RF', X_train_ros, y_train_ros.ravel(), 5)"
      ],
      "metadata": {
        "colab": {
          "base_uri": "https://localhost:8080/"
        },
        "id": "eJCUdChoGrKn",
        "outputId": "9d136fe4-2357-45fb-cc4c-ffa52791bb1e"
      },
      "execution_count": 192,
      "outputs": [
        {
          "output_type": "stream",
          "name": "stdout",
          "text": [
            "*****************************************************************************\n",
            "*      Resultados do treino com validação cruzada para o RF\n",
            "*****************************************************************************\n",
            "* Acurácia: [0.89749431 0.89059829 0.91282051 0.91111111 0.92079772]\n",
            "* Acurácia média: 0.9066\n",
            "*-----------------------------------------------------------------------------\n",
            "* Precisão: [0.85758197 0.85639958 0.85145631 0.85185185 0.8633235 ]\n",
            "* Precisão média: 0.8561\n",
            "*-----------------------------------------------------------------------------\n",
            "* Revocação: [0.95330296 0.93842645 1.         0.99544419 1.        ]\n",
            "* Revocação média: 0.9774\n",
            "*-----------------------------------------------------------------------------\n",
            "* F1_Score: [0.89717404 0.89035305 0.91216162 0.91046574 0.92029048]\n",
            "* F1_Score médio: 0.9061\n",
            "*-----------------------------------------------------------------------------\n",
            "* ROC AUC: [0.96024823 0.9636847  0.98363519 0.98240923 0.98743192]\n",
            "* ROC AUC médio: 0.9755\n",
            "*****************************************************************************\n"
          ]
        }
      ]
    },
    {
      "cell_type": "code",
      "source": [
        "NB = GaussianNB()\n",
        "\n",
        "modelo_NB_ros = validacao_cruzada(NB, 'NB', X_train_ros, y_train_ros.ravel(), 5)"
      ],
      "metadata": {
        "colab": {
          "base_uri": "https://localhost:8080/"
        },
        "id": "a5myEVsYG55d",
        "outputId": "da135625-7906-4111-f61d-b923a4f5ee18"
      },
      "execution_count": 193,
      "outputs": [
        {
          "output_type": "stream",
          "name": "stdout",
          "text": [
            "*****************************************************************************\n",
            "*      Resultados do treino com validação cruzada para o NB\n",
            "*****************************************************************************\n",
            "* Acurácia: [0.71810934 0.74700855 0.72934473 0.74415954 0.74700855]\n",
            "* Acurácia média: 0.7371\n",
            "*-----------------------------------------------------------------------------\n",
            "* Precisão: [0.67174888 0.69807868 0.68715084 0.70140845 0.70471698]\n",
            "* Precisão média: 0.6926\n",
            "*-----------------------------------------------------------------------------\n",
            "* Revocação: [0.85307517 0.8700114  0.84150513 0.85079727 0.85079727]\n",
            "* Revocação média: 0.8532\n",
            "*-----------------------------------------------------------------------------\n",
            "* F1_Score: [0.71287921 0.7431538  0.72592631 0.74118964 0.74422754]\n",
            "* F1_Score médio: 0.7335\n",
            "*-----------------------------------------------------------------------------\n",
            "* ROC AUC: [0.80183984 0.82646629 0.81858128 0.81805272 0.82721239]\n",
            "* ROC AUC médio: 0.8184\n",
            "*****************************************************************************\n"
          ]
        }
      ]
    },
    {
      "cell_type": "markdown",
      "source": [
        "**Os resultados com Random Over Sampling apresentam resultados interessantes e o Random Forest parece ser o mais equilibrado com F1-Score médio de 0.90 e alta revocação e precisão para a classe positiva.**\n",
        "\n",
        "**O SVC apresenta resultados muito mais abaixo e o Naive Bayes sofre mais na precisão da classe positiva. O F1-Score é em torno de 0.73, bem diferente do Random Forest.**"
      ],
      "metadata": {
        "id": "2o66l_MYOPO6"
      }
    },
    {
      "cell_type": "markdown",
      "source": [
        "#### **Balanceamento com SMOTE**"
      ],
      "metadata": {
        "id": "SR0uzrQXIB5e"
      }
    },
    {
      "cell_type": "code",
      "source": [
        "from imblearn.over_sampling import SMOTE\n",
        "\n",
        "smote = SMOTE()\n",
        "\n",
        "X_train_smote, y_train_smote = smote.fit_resample(X_train_enc, y_train_enc)\n",
        "\n",
        "print(f'Shape do X_train com Under Sampling: {X_train_smote.shape}')\n",
        "print(f'Shape do y_train com Under Sampling: {y_train_smote.shape}')\n",
        "\n",
        "print(f'Valores únicos das classes: {np.unique(y_train_smote, return_counts=True)}')"
      ],
      "metadata": {
        "colab": {
          "base_uri": "https://localhost:8080/"
        },
        "id": "tOQARzsrHCiE",
        "outputId": "34d19580-1934-42ec-f186-9428bcc1aee0"
      },
      "execution_count": 194,
      "outputs": [
        {
          "output_type": "stream",
          "name": "stdout",
          "text": [
            "Shape do X_train com Under Sampling: (8776, 40)\n",
            "Shape do y_train com Under Sampling: (8776,)\n",
            "Valores únicos das classes: (array([0, 1]), array([4388, 4388]))\n"
          ]
        }
      ]
    },
    {
      "cell_type": "code",
      "source": [
        "svc = SVC()\n",
        "\n",
        "modelo_svc_smote = validacao_cruzada(svc, 'SVC', X_train_smote, y_train_smote.ravel(), 5)"
      ],
      "metadata": {
        "colab": {
          "base_uri": "https://localhost:8080/"
        },
        "id": "VveG0kMQIOKs",
        "outputId": "5bf3a5f0-1558-44f5-d62c-b5590612cb5c"
      },
      "execution_count": 195,
      "outputs": [
        {
          "output_type": "stream",
          "name": "stdout",
          "text": [
            "*****************************************************************************\n",
            "*      Resultados do treino com validação cruzada para o SVC\n",
            "*****************************************************************************\n",
            "* Acurácia: [0.65546697 0.66153846 0.65527066 0.65014245 0.63418803]\n",
            "* Acurácia média: 0.6513\n",
            "*-----------------------------------------------------------------------------\n",
            "* Precisão: [0.68175766 0.68496732 0.67847769 0.67277487 0.6489899 ]\n",
            "* Precisão média: 0.6734\n",
            "*-----------------------------------------------------------------------------\n",
            "* Revocação: [0.58314351 0.59749145 0.58950969 0.58542141 0.58542141]\n",
            "* Revocação média: 0.5882\n",
            "*-----------------------------------------------------------------------------\n",
            "* F1_Score: [0.65365535 0.66012944 0.65375799 0.64868599 0.63332791]\n",
            "* F1_Score médio: 0.6499\n",
            "*-----------------------------------------------------------------------------\n",
            "* ROC AUC: [0.73954382 0.74555913 0.73805269 0.74299031 0.72576837]\n",
            "* ROC AUC médio: 0.7384\n",
            "*****************************************************************************\n"
          ]
        }
      ]
    },
    {
      "cell_type": "code",
      "source": [
        "RF = RandomForestClassifier()\n",
        "\n",
        "modelo_RF_smote = validacao_cruzada(RF, 'RF', X_train_smote, y_train_smote.ravel(), 5)"
      ],
      "metadata": {
        "colab": {
          "base_uri": "https://localhost:8080/"
        },
        "id": "6Kejh0HpIXUd",
        "outputId": "48064629-b71f-4006-fe45-78db66fd7591"
      },
      "execution_count": 196,
      "outputs": [
        {
          "output_type": "stream",
          "name": "stdout",
          "text": [
            "*****************************************************************************\n",
            "*      Resultados do treino com validação cruzada para o RF\n",
            "*****************************************************************************\n",
            "* Acurácia: [0.69646925 0.76923077 0.91168091 0.92136752 0.91908832]\n",
            "* Acurácia média: 0.8436\n",
            "*-----------------------------------------------------------------------------\n",
            "* Precisão: [0.8388998  0.86085627 0.861      0.86706349 0.87022133]\n",
            "* Precisão média: 0.8596\n",
            "*-----------------------------------------------------------------------------\n",
            "* Revocação: [0.48633257 0.64196123 0.98175599 0.99544419 0.98519362]\n",
            "* Revocação média: 0.8181\n",
            "*-----------------------------------------------------------------------------\n",
            "* F1_Score: [0.68244692 0.7654091  0.91125204 0.92092695 0.91872711]\n",
            "* F1_Score médio: 0.8398\n",
            "*-----------------------------------------------------------------------------\n",
            "* ROC AUC: [0.83292882 0.87884055 0.98369298 0.98473518 0.98629231]\n",
            "* ROC AUC médio: 0.9333\n",
            "*****************************************************************************\n"
          ]
        }
      ]
    },
    {
      "cell_type": "code",
      "source": [
        "NB = GaussianNB()\n",
        "\n",
        "modelo_NB_smote = validacao_cruzada(NB, 'NB', X_train_smote, y_train_smote.ravel(), 5)"
      ],
      "metadata": {
        "colab": {
          "base_uri": "https://localhost:8080/"
        },
        "id": "PTx0Mc5EIhtw",
        "outputId": "03a28752-fb45-4be1-ae5f-94610dd6c9b4"
      },
      "execution_count": 197,
      "outputs": [
        {
          "output_type": "stream",
          "name": "stdout",
          "text": [
            "*****************************************************************************\n",
            "*      Resultados do treino com validação cruzada para o NB\n",
            "*****************************************************************************\n",
            "* Acurácia: [0.73405467 0.77037037 0.80911681 0.80968661 0.8034188 ]\n",
            "* Acurácia média: 0.7853\n",
            "*-----------------------------------------------------------------------------\n",
            "* Precisão: [0.72508215 0.75       0.75       0.75468165 0.74698795]\n",
            "* Precisão média: 0.7454\n",
            "*-----------------------------------------------------------------------------\n",
            "* Revocação: [0.75398633 0.81071836 0.92702395 0.91799544 0.91799544]\n",
            "* Revocação média: 0.8655\n",
            "*-----------------------------------------------------------------------------\n",
            "* F1_Score: [0.73394898 0.77000447 0.80645012 0.80740545 0.80077954]\n",
            "* F1_Score médio: 0.7837\n",
            "*-----------------------------------------------------------------------------\n",
            "* ROC AUC: [0.8032966  0.83949606 0.886984   0.88649309 0.88303728]\n",
            "* ROC AUC médio: 0.8599\n",
            "*****************************************************************************\n"
          ]
        }
      ]
    },
    {
      "cell_type": "markdown",
      "source": [
        "**Os resultado com balanceamento SMOTE segue o mesmo padrão do balanceamento com random over sampling, sendo o Random Forest o mais interessante.**\n",
        "\n",
        "**Analisando os resultados, escolherei o modelo Random Forest utilizando o balanceamento com Random Under Sampling e Random Over Sampling para avaliação de feature selection.**"
      ],
      "metadata": {
        "id": "MzEjEoGTO-Y-"
      }
    },
    {
      "cell_type": "markdown",
      "source": [
        "Para a próxima etapa irei aplicar feature selection para tentar reduzir o tamanho da nossa matriz de dados e ver se realmente os dados mais importantes estão de acordo com os analisados na semana 2.\n",
        "\n",
        "Da **semana 2** foram encontradas alguns atributos que podem ser importantes na definição da taxa de churn. São eles:\n",
        "1. Atributo da idade\n",
        "2. Atributo de dependentes\n",
        "3. Atributo que indica o tempo de plano do usuário\n",
        "4. Atributo de clientes com mais de uma linha telefônica\n",
        "5. Atibuto que indica o tipo de serviço (Fibra óptica)\n",
        "6. Atributo que indica clientes com streaming ou serviço de TV a cabo\n",
        "7. Atributo de pagamento (CLiente com plano mensal)\n",
        "8. Atributo do tipo de pagamento (Cheque eletrônico)\n",
        "9. Atributo que indica o gasto total do cliente\n",
        "10. Atributo que indica o Gasto mensal\n",
        "\n",
        "Como observei 10 possíveis bons atributos irei determinar, no algoritmo de seleção de features, os 15 melhores atributos como selecionáveis. Assim deixo uma margem de erro para a minha observação anterior."
      ],
      "metadata": {
        "id": "0u1piaj_VT2g"
      }
    },
    {
      "cell_type": "markdown",
      "source": [
        "### **Feature Selection**\n",
        "\n",
        "Com o feature selection analisaremos novamente o balanceamento de dados com os métodos RUS e ROS."
      ],
      "metadata": {
        "id": "g6zlpaosVbSz"
      }
    },
    {
      "cell_type": "code",
      "source": [
        "# Importando o método slectkbest e chi2 para a função de score\n",
        "from sklearn.feature_selection import SelectKBest, chi2"
      ],
      "metadata": {
        "id": "PbuuuvKQQDqH"
      },
      "execution_count": 198,
      "outputs": []
    },
    {
      "cell_type": "code",
      "source": [
        "# Determinando o objeto do feature selector\n",
        "k = 15\n",
        "k_best = SelectKBest(chi2, k=k)\n",
        "\n",
        "k_best.fit(X_train_enc, y_train_enc)"
      ],
      "metadata": {
        "colab": {
          "base_uri": "https://localhost:8080/"
        },
        "id": "NvjJ8xVLQxdL",
        "outputId": "4805fe10-fc0c-43ec-9746-57cfed30a9b1"
      },
      "execution_count": 199,
      "outputs": [
        {
          "output_type": "execute_result",
          "data": {
            "text/plain": [
              "SelectKBest(k=15, score_func=<function chi2 at 0x7fcd2fdc5830>)"
            ]
          },
          "metadata": {},
          "execution_count": 199
        }
      ]
    },
    {
      "cell_type": "code",
      "source": [
        "# pegando os melhores atributos e guardando os nomes para filtrar o dataset\n",
        "names_best = k_best.get_feature_names_out()\n",
        "print(f'Os {k} melhores atributos são:\\n\\n{names_best}')"
      ],
      "metadata": {
        "colab": {
          "base_uri": "https://localhost:8080/"
        },
        "id": "Z2W9SxITRBBG",
        "outputId": "28e8a012-078e-4c3f-fc6f-5f2f7ec95f29"
      },
      "execution_count": 200,
      "outputs": [
        {
          "output_type": "stream",
          "name": "stdout",
          "text": [
            "Os 15 melhores atributos são:\n",
            "\n",
            "['InternetService_Fiber optic' 'OnlineSecurity_No'\n",
            " 'OnlineSecurity_No internet service' 'OnlineBackup_No internet service'\n",
            " 'DeviceProtection_No internet service' 'TechSupport_No'\n",
            " 'TechSupport_No internet service' 'StreamingTV_No internet service'\n",
            " 'StreamingMovies_No internet service' 'Contract_Month-to-month'\n",
            " 'Contract_Two year' 'PaymentMethod_Electronic check' 'Tenure'\n",
            " 'Charges_Monthly' 'Charges_Total']\n"
          ]
        }
      ]
    },
    {
      "cell_type": "markdown",
      "source": [
        "Dos 10 atributos analisados na semana dois, 6 estão presentes na seleção automática com o algoritmo SelectKBest definido.\n",
        "\n",
        "A seguir, vamos reorganizar os dados filtrando apenas os melhores atributos."
      ],
      "metadata": {
        "id": "5aZbAw_aSbMX"
      }
    },
    {
      "cell_type": "code",
      "source": [
        "# Filtrando os dados\n",
        "X_train_enc_best = X_train_enc[names_best]\n",
        "\n",
        "X_test_enc_best = X_test_enc[names_best]"
      ],
      "metadata": {
        "id": "dNl7Waq2RhjZ"
      },
      "execution_count": 201,
      "outputs": []
    },
    {
      "cell_type": "code",
      "source": [
        "X_train_enc_best"
      ],
      "metadata": {
        "colab": {
          "base_uri": "https://localhost:8080/",
          "height": 522
        },
        "id": "1Ub6FGw3TUNK",
        "outputId": "1a816f87-9af8-4f9f-8477-37ab848c8942"
      },
      "execution_count": 202,
      "outputs": [
        {
          "output_type": "execute_result",
          "data": {
            "text/plain": [
              "      InternetService_Fiber optic  OnlineSecurity_No  \\\n",
              "0                               1                  1   \n",
              "1                               0                  0   \n",
              "2                               0                  1   \n",
              "3                               1                  1   \n",
              "4                               0                  0   \n",
              "...                           ...                ...   \n",
              "5972                            0                  1   \n",
              "5973                            0                  0   \n",
              "5974                            0                  0   \n",
              "5975                            0                  0   \n",
              "5976                            1                  1   \n",
              "\n",
              "      OnlineSecurity_No internet service  OnlineBackup_No internet service  \\\n",
              "0                                      0                                 0   \n",
              "1                                      1                                 1   \n",
              "2                                      0                                 0   \n",
              "3                                      0                                 0   \n",
              "4                                      1                                 1   \n",
              "...                                  ...                               ...   \n",
              "5972                                   0                                 0   \n",
              "5973                                   0                                 0   \n",
              "5974                                   1                                 1   \n",
              "5975                                   0                                 0   \n",
              "5976                                   0                                 0   \n",
              "\n",
              "      DeviceProtection_No internet service  TechSupport_No  \\\n",
              "0                                        0               1   \n",
              "1                                        1               0   \n",
              "2                                        0               1   \n",
              "3                                        0               1   \n",
              "4                                        1               0   \n",
              "...                                    ...             ...   \n",
              "5972                                     0               1   \n",
              "5973                                     0               0   \n",
              "5974                                     1               0   \n",
              "5975                                     0               1   \n",
              "5976                                     0               0   \n",
              "\n",
              "      TechSupport_No internet service  StreamingTV_No internet service  \\\n",
              "0                                   0                                0   \n",
              "1                                   1                                1   \n",
              "2                                   0                                0   \n",
              "3                                   0                                0   \n",
              "4                                   1                                1   \n",
              "...                               ...                              ...   \n",
              "5972                                0                                0   \n",
              "5973                                0                                0   \n",
              "5974                                1                                1   \n",
              "5975                                0                                0   \n",
              "5976                                0                                0   \n",
              "\n",
              "      StreamingMovies_No internet service  Contract_Month-to-month  \\\n",
              "0                                       0                        1   \n",
              "1                                       1                        0   \n",
              "2                                       0                        1   \n",
              "3                                       0                        1   \n",
              "4                                       1                        1   \n",
              "...                                   ...                      ...   \n",
              "5972                                    0                        1   \n",
              "5973                                    0                        0   \n",
              "5974                                    1                        0   \n",
              "5975                                    0                        1   \n",
              "5976                                    0                        1   \n",
              "\n",
              "      Contract_Two year  PaymentMethod_Electronic check  Tenure  \\\n",
              "0                     0                               1       3   \n",
              "1                     1                               0      72   \n",
              "2                     0                               1       3   \n",
              "3                     0                               0       7   \n",
              "4                     0                               0      20   \n",
              "...                 ...                             ...     ...   \n",
              "5972                  0                               0       1   \n",
              "5973                  1                               0      69   \n",
              "5974                  0                               0      23   \n",
              "5975                  0                               0       7   \n",
              "5976                  0                               1      24   \n",
              "\n",
              "      Charges_Monthly  Charges_Total  \n",
              "0               84.30         235.05  \n",
              "1               24.10        1734.65  \n",
              "2               49.15         169.05  \n",
              "3               95.00         655.50  \n",
              "4               19.25         375.25  \n",
              "...               ...            ...  \n",
              "5972            45.85          45.85  \n",
              "5973            81.50        5553.25  \n",
              "5974            19.65         436.90  \n",
              "5975            50.30         355.10  \n",
              "5976            96.00        2122.45  \n",
              "\n",
              "[5977 rows x 15 columns]"
            ],
            "text/html": [
              "\n",
              "  <div id=\"df-ccdff88d-7832-4343-bafb-4f113141429b\">\n",
              "    <div class=\"colab-df-container\">\n",
              "      <div>\n",
              "<style scoped>\n",
              "    .dataframe tbody tr th:only-of-type {\n",
              "        vertical-align: middle;\n",
              "    }\n",
              "\n",
              "    .dataframe tbody tr th {\n",
              "        vertical-align: top;\n",
              "    }\n",
              "\n",
              "    .dataframe thead th {\n",
              "        text-align: right;\n",
              "    }\n",
              "</style>\n",
              "<table border=\"1\" class=\"dataframe\">\n",
              "  <thead>\n",
              "    <tr style=\"text-align: right;\">\n",
              "      <th></th>\n",
              "      <th>InternetService_Fiber optic</th>\n",
              "      <th>OnlineSecurity_No</th>\n",
              "      <th>OnlineSecurity_No internet service</th>\n",
              "      <th>OnlineBackup_No internet service</th>\n",
              "      <th>DeviceProtection_No internet service</th>\n",
              "      <th>TechSupport_No</th>\n",
              "      <th>TechSupport_No internet service</th>\n",
              "      <th>StreamingTV_No internet service</th>\n",
              "      <th>StreamingMovies_No internet service</th>\n",
              "      <th>Contract_Month-to-month</th>\n",
              "      <th>Contract_Two year</th>\n",
              "      <th>PaymentMethod_Electronic check</th>\n",
              "      <th>Tenure</th>\n",
              "      <th>Charges_Monthly</th>\n",
              "      <th>Charges_Total</th>\n",
              "    </tr>\n",
              "  </thead>\n",
              "  <tbody>\n",
              "    <tr>\n",
              "      <th>0</th>\n",
              "      <td>1</td>\n",
              "      <td>1</td>\n",
              "      <td>0</td>\n",
              "      <td>0</td>\n",
              "      <td>0</td>\n",
              "      <td>1</td>\n",
              "      <td>0</td>\n",
              "      <td>0</td>\n",
              "      <td>0</td>\n",
              "      <td>1</td>\n",
              "      <td>0</td>\n",
              "      <td>1</td>\n",
              "      <td>3</td>\n",
              "      <td>84.30</td>\n",
              "      <td>235.05</td>\n",
              "    </tr>\n",
              "    <tr>\n",
              "      <th>1</th>\n",
              "      <td>0</td>\n",
              "      <td>0</td>\n",
              "      <td>1</td>\n",
              "      <td>1</td>\n",
              "      <td>1</td>\n",
              "      <td>0</td>\n",
              "      <td>1</td>\n",
              "      <td>1</td>\n",
              "      <td>1</td>\n",
              "      <td>0</td>\n",
              "      <td>1</td>\n",
              "      <td>0</td>\n",
              "      <td>72</td>\n",
              "      <td>24.10</td>\n",
              "      <td>1734.65</td>\n",
              "    </tr>\n",
              "    <tr>\n",
              "      <th>2</th>\n",
              "      <td>0</td>\n",
              "      <td>1</td>\n",
              "      <td>0</td>\n",
              "      <td>0</td>\n",
              "      <td>0</td>\n",
              "      <td>1</td>\n",
              "      <td>0</td>\n",
              "      <td>0</td>\n",
              "      <td>0</td>\n",
              "      <td>1</td>\n",
              "      <td>0</td>\n",
              "      <td>1</td>\n",
              "      <td>3</td>\n",
              "      <td>49.15</td>\n",
              "      <td>169.05</td>\n",
              "    </tr>\n",
              "    <tr>\n",
              "      <th>3</th>\n",
              "      <td>1</td>\n",
              "      <td>1</td>\n",
              "      <td>0</td>\n",
              "      <td>0</td>\n",
              "      <td>0</td>\n",
              "      <td>1</td>\n",
              "      <td>0</td>\n",
              "      <td>0</td>\n",
              "      <td>0</td>\n",
              "      <td>1</td>\n",
              "      <td>0</td>\n",
              "      <td>0</td>\n",
              "      <td>7</td>\n",
              "      <td>95.00</td>\n",
              "      <td>655.50</td>\n",
              "    </tr>\n",
              "    <tr>\n",
              "      <th>4</th>\n",
              "      <td>0</td>\n",
              "      <td>0</td>\n",
              "      <td>1</td>\n",
              "      <td>1</td>\n",
              "      <td>1</td>\n",
              "      <td>0</td>\n",
              "      <td>1</td>\n",
              "      <td>1</td>\n",
              "      <td>1</td>\n",
              "      <td>1</td>\n",
              "      <td>0</td>\n",
              "      <td>0</td>\n",
              "      <td>20</td>\n",
              "      <td>19.25</td>\n",
              "      <td>375.25</td>\n",
              "    </tr>\n",
              "    <tr>\n",
              "      <th>...</th>\n",
              "      <td>...</td>\n",
              "      <td>...</td>\n",
              "      <td>...</td>\n",
              "      <td>...</td>\n",
              "      <td>...</td>\n",
              "      <td>...</td>\n",
              "      <td>...</td>\n",
              "      <td>...</td>\n",
              "      <td>...</td>\n",
              "      <td>...</td>\n",
              "      <td>...</td>\n",
              "      <td>...</td>\n",
              "      <td>...</td>\n",
              "      <td>...</td>\n",
              "      <td>...</td>\n",
              "    </tr>\n",
              "    <tr>\n",
              "      <th>5972</th>\n",
              "      <td>0</td>\n",
              "      <td>1</td>\n",
              "      <td>0</td>\n",
              "      <td>0</td>\n",
              "      <td>0</td>\n",
              "      <td>1</td>\n",
              "      <td>0</td>\n",
              "      <td>0</td>\n",
              "      <td>0</td>\n",
              "      <td>1</td>\n",
              "      <td>0</td>\n",
              "      <td>0</td>\n",
              "      <td>1</td>\n",
              "      <td>45.85</td>\n",
              "      <td>45.85</td>\n",
              "    </tr>\n",
              "    <tr>\n",
              "      <th>5973</th>\n",
              "      <td>0</td>\n",
              "      <td>0</td>\n",
              "      <td>0</td>\n",
              "      <td>0</td>\n",
              "      <td>0</td>\n",
              "      <td>0</td>\n",
              "      <td>0</td>\n",
              "      <td>0</td>\n",
              "      <td>0</td>\n",
              "      <td>0</td>\n",
              "      <td>1</td>\n",
              "      <td>0</td>\n",
              "      <td>69</td>\n",
              "      <td>81.50</td>\n",
              "      <td>5553.25</td>\n",
              "    </tr>\n",
              "    <tr>\n",
              "      <th>5974</th>\n",
              "      <td>0</td>\n",
              "      <td>0</td>\n",
              "      <td>1</td>\n",
              "      <td>1</td>\n",
              "      <td>1</td>\n",
              "      <td>0</td>\n",
              "      <td>1</td>\n",
              "      <td>1</td>\n",
              "      <td>1</td>\n",
              "      <td>0</td>\n",
              "      <td>0</td>\n",
              "      <td>0</td>\n",
              "      <td>23</td>\n",
              "      <td>19.65</td>\n",
              "      <td>436.90</td>\n",
              "    </tr>\n",
              "    <tr>\n",
              "      <th>5975</th>\n",
              "      <td>0</td>\n",
              "      <td>0</td>\n",
              "      <td>0</td>\n",
              "      <td>0</td>\n",
              "      <td>0</td>\n",
              "      <td>1</td>\n",
              "      <td>0</td>\n",
              "      <td>0</td>\n",
              "      <td>0</td>\n",
              "      <td>1</td>\n",
              "      <td>0</td>\n",
              "      <td>0</td>\n",
              "      <td>7</td>\n",
              "      <td>50.30</td>\n",
              "      <td>355.10</td>\n",
              "    </tr>\n",
              "    <tr>\n",
              "      <th>5976</th>\n",
              "      <td>1</td>\n",
              "      <td>1</td>\n",
              "      <td>0</td>\n",
              "      <td>0</td>\n",
              "      <td>0</td>\n",
              "      <td>0</td>\n",
              "      <td>0</td>\n",
              "      <td>0</td>\n",
              "      <td>0</td>\n",
              "      <td>1</td>\n",
              "      <td>0</td>\n",
              "      <td>1</td>\n",
              "      <td>24</td>\n",
              "      <td>96.00</td>\n",
              "      <td>2122.45</td>\n",
              "    </tr>\n",
              "  </tbody>\n",
              "</table>\n",
              "<p>5977 rows × 15 columns</p>\n",
              "</div>\n",
              "      <button class=\"colab-df-convert\" onclick=\"convertToInteractive('df-ccdff88d-7832-4343-bafb-4f113141429b')\"\n",
              "              title=\"Convert this dataframe to an interactive table.\"\n",
              "              style=\"display:none;\">\n",
              "        \n",
              "  <svg xmlns=\"http://www.w3.org/2000/svg\" height=\"24px\"viewBox=\"0 0 24 24\"\n",
              "       width=\"24px\">\n",
              "    <path d=\"M0 0h24v24H0V0z\" fill=\"none\"/>\n",
              "    <path d=\"M18.56 5.44l.94 2.06.94-2.06 2.06-.94-2.06-.94-.94-2.06-.94 2.06-2.06.94zm-11 1L8.5 8.5l.94-2.06 2.06-.94-2.06-.94L8.5 2.5l-.94 2.06-2.06.94zm10 10l.94 2.06.94-2.06 2.06-.94-2.06-.94-.94-2.06-.94 2.06-2.06.94z\"/><path d=\"M17.41 7.96l-1.37-1.37c-.4-.4-.92-.59-1.43-.59-.52 0-1.04.2-1.43.59L10.3 9.45l-7.72 7.72c-.78.78-.78 2.05 0 2.83L4 21.41c.39.39.9.59 1.41.59.51 0 1.02-.2 1.41-.59l7.78-7.78 2.81-2.81c.8-.78.8-2.07 0-2.86zM5.41 20L4 18.59l7.72-7.72 1.47 1.35L5.41 20z\"/>\n",
              "  </svg>\n",
              "      </button>\n",
              "      \n",
              "  <style>\n",
              "    .colab-df-container {\n",
              "      display:flex;\n",
              "      flex-wrap:wrap;\n",
              "      gap: 12px;\n",
              "    }\n",
              "\n",
              "    .colab-df-convert {\n",
              "      background-color: #E8F0FE;\n",
              "      border: none;\n",
              "      border-radius: 50%;\n",
              "      cursor: pointer;\n",
              "      display: none;\n",
              "      fill: #1967D2;\n",
              "      height: 32px;\n",
              "      padding: 0 0 0 0;\n",
              "      width: 32px;\n",
              "    }\n",
              "\n",
              "    .colab-df-convert:hover {\n",
              "      background-color: #E2EBFA;\n",
              "      box-shadow: 0px 1px 2px rgba(60, 64, 67, 0.3), 0px 1px 3px 1px rgba(60, 64, 67, 0.15);\n",
              "      fill: #174EA6;\n",
              "    }\n",
              "\n",
              "    [theme=dark] .colab-df-convert {\n",
              "      background-color: #3B4455;\n",
              "      fill: #D2E3FC;\n",
              "    }\n",
              "\n",
              "    [theme=dark] .colab-df-convert:hover {\n",
              "      background-color: #434B5C;\n",
              "      box-shadow: 0px 1px 3px 1px rgba(0, 0, 0, 0.15);\n",
              "      filter: drop-shadow(0px 1px 2px rgba(0, 0, 0, 0.3));\n",
              "      fill: #FFFFFF;\n",
              "    }\n",
              "  </style>\n",
              "\n",
              "      <script>\n",
              "        const buttonEl =\n",
              "          document.querySelector('#df-ccdff88d-7832-4343-bafb-4f113141429b button.colab-df-convert');\n",
              "        buttonEl.style.display =\n",
              "          google.colab.kernel.accessAllowed ? 'block' : 'none';\n",
              "\n",
              "        async function convertToInteractive(key) {\n",
              "          const element = document.querySelector('#df-ccdff88d-7832-4343-bafb-4f113141429b');\n",
              "          const dataTable =\n",
              "            await google.colab.kernel.invokeFunction('convertToInteractive',\n",
              "                                                     [key], {});\n",
              "          if (!dataTable) return;\n",
              "\n",
              "          const docLinkHtml = 'Like what you see? Visit the ' +\n",
              "            '<a target=\"_blank\" href=https://colab.research.google.com/notebooks/data_table.ipynb>data table notebook</a>'\n",
              "            + ' to learn more about interactive tables.';\n",
              "          element.innerHTML = '';\n",
              "          dataTable['output_type'] = 'display_data';\n",
              "          await google.colab.output.renderOutput(dataTable, element);\n",
              "          const docLink = document.createElement('div');\n",
              "          docLink.innerHTML = docLinkHtml;\n",
              "          element.appendChild(docLink);\n",
              "        }\n",
              "      </script>\n",
              "    </div>\n",
              "  </div>\n",
              "  "
            ]
          },
          "metadata": {},
          "execution_count": 202
        }
      ]
    },
    {
      "cell_type": "code",
      "source": [
        "# Definindo o novo balanceamento para os dados filtrados com RUS\n",
        "rus_best = RandomUnderSampler()\n",
        "\n",
        "X_train_rus_best, y_train_rus_best = rus_best.fit_resample(X_train_enc_best, y_train_enc)\n",
        "\n",
        "print(f'Shape do X_train com Under Sampling: {X_train_rus_best.shape}')\n",
        "print(f'Shape do y_train com Under Sampling: {y_train_rus_best.shape}')\n",
        "\n",
        "print(f'Valores únicos das classes: {np.unique(y_train_rus_best, return_counts=True)}')"
      ],
      "metadata": {
        "colab": {
          "base_uri": "https://localhost:8080/"
        },
        "id": "-Ub-G3QUTxQB",
        "outputId": "e67b2d30-7dd3-43ff-babc-394df90e6b11"
      },
      "execution_count": 203,
      "outputs": [
        {
          "output_type": "stream",
          "name": "stdout",
          "text": [
            "Shape do X_train com Under Sampling: (3178, 15)\n",
            "Shape do y_train com Under Sampling: (3178,)\n",
            "Valores únicos das classes: (array([0, 1]), array([1589, 1589]))\n"
          ]
        }
      ]
    },
    {
      "cell_type": "code",
      "source": [
        "# Treinando novamente o modelo de RF com RUS\n",
        "RF = RandomForestClassifier()\n",
        "modelo_RF_rus_kbest = validacao_cruzada(RF, 'RF', X_train_rus_best, y_train_rus_best.ravel(), 5)"
      ],
      "metadata": {
        "colab": {
          "base_uri": "https://localhost:8080/"
        },
        "id": "1fgPb4WFT-9m",
        "outputId": "3ce7efcf-7fc1-46b5-ad39-e35c2f62f931"
      },
      "execution_count": 204,
      "outputs": [
        {
          "output_type": "stream",
          "name": "stdout",
          "text": [
            "*****************************************************************************\n",
            "*      Resultados do treino com validação cruzada para o RF\n",
            "*****************************************************************************\n",
            "* Acurácia: [0.72798742 0.72798742 0.75314465 0.73070866 0.74488189]\n",
            "* Acurácia média: 0.7369\n",
            "*-----------------------------------------------------------------------------\n",
            "* Precisão: [0.72036474 0.74086379 0.74769231 0.70977011 0.73780488]\n",
            "* Precisão média: 0.7313\n",
            "*-----------------------------------------------------------------------------\n",
            "* Revocação: [0.74528302 0.70125786 0.76415094 0.77917981 0.76100629]\n",
            "* Revocação média: 0.7502\n",
            "*-----------------------------------------------------------------------------\n",
            "* F1_Score: [0.72790603 0.72779294 0.75311475 0.73010626 0.74480531]\n",
            "* F1_Score médio: 0.7367\n",
            "*-----------------------------------------------------------------------------\n",
            "* ROC AUC: [0.80355306 0.82490803 0.83414916 0.80480825 0.81591374]\n",
            "* ROC AUC médio: 0.8167\n",
            "*****************************************************************************\n"
          ]
        }
      ]
    },
    {
      "cell_type": "code",
      "source": [
        "# Definindo o novo balanceamento para os dados filtrados com ROS\n",
        "\n",
        "ros_best = RandomOverSampler()\n",
        "\n",
        "X_train_ros_best, y_train_ros_best = ros_best.fit_resample(X_train_enc_best, y_train_enc)\n",
        "\n",
        "print(f'Shape do X_train com Under Sampling: {X_train_ros_best.shape}')\n",
        "print(f'Shape do y_train com Under Sampling: {y_train_ros_best.shape}')"
      ],
      "metadata": {
        "colab": {
          "base_uri": "https://localhost:8080/"
        },
        "id": "PjxixIlXUJYT",
        "outputId": "ae76a965-d7db-4425-aa99-32864c914c23"
      },
      "execution_count": 205,
      "outputs": [
        {
          "output_type": "stream",
          "name": "stdout",
          "text": [
            "Shape do X_train com Under Sampling: (8776, 15)\n",
            "Shape do y_train com Under Sampling: (8776,)\n"
          ]
        }
      ]
    },
    {
      "cell_type": "code",
      "source": [
        "# Treinando novamente o modelo de RF com ROS\n",
        "RF = RandomForestClassifier()\n",
        "modelo_RF_ros_kbest = validacao_cruzada(RF, 'RF', X_train_ros_best, y_train_ros_best.ravel(), 5)"
      ],
      "metadata": {
        "colab": {
          "base_uri": "https://localhost:8080/"
        },
        "id": "bHflIBYbU0E3",
        "outputId": "3c7960ee-64d5-44d0-e668-c3b9875736c1"
      },
      "execution_count": 206,
      "outputs": [
        {
          "output_type": "stream",
          "name": "stdout",
          "text": [
            "*****************************************************************************\n",
            "*      Resultados do treino com validação cruzada para o RF\n",
            "*****************************************************************************\n",
            "* Acurácia: [0.87471526 0.87407407 0.90826211 0.90769231 0.9042735 ]\n",
            "* Acurácia média: 0.8938\n",
            "*-----------------------------------------------------------------------------\n",
            "* Precisão: [0.83299595 0.84024896 0.84689922 0.84892788 0.84134615]\n",
            "* Precisão média: 0.8421\n",
            "*-----------------------------------------------------------------------------\n",
            "* Revocação: [0.93735763 0.92360319 0.99657925 0.99202733 0.99658314]\n",
            "* Revocação média: 0.9692\n",
            "*-----------------------------------------------------------------------------\n",
            "* F1_Score: [0.8742217  0.87377096 0.90755025 0.90702212 0.90344056]\n",
            "* F1_Score médio: 0.8932\n",
            "*-----------------------------------------------------------------------------\n",
            "* ROC AUC: [0.93913222 0.94126215 0.97016582 0.96631065 0.96922492]\n",
            "* ROC AUC médio: 0.9572\n",
            "*****************************************************************************\n"
          ]
        }
      ]
    },
    {
      "cell_type": "markdown",
      "source": [
        "**O modelo com balanceamento ROS apresenta melhores resultados**\n",
        "\n",
        "Irei escolher o modelo balanceado com o Over Sampling como o melhor e usá-lo na otimização final do modelo para teste.\n",
        "\n",
        "--------\n",
        "\n",
        "Espero um bom resultado! :)\n",
        "\n"
      ],
      "metadata": {
        "id": "Oo9mKFBvWSXt"
      }
    },
    {
      "cell_type": "markdown",
      "source": [
        "### **Otimizando o melhor modelo**\n",
        "\n",
        "Irei usar o [GridSearchCV](https://scikit-learn.org/stable/modules/generated/sklearn.model_selection.GridSearchCV.html#sklearn.model_selection.GridSearchCV) para otimizar o modelo de Random Forest."
      ],
      "metadata": {
        "id": "O5Ebmsg-YQai"
      }
    },
    {
      "cell_type": "code",
      "source": [
        "from sklearn.model_selection import GridSearchCV"
      ],
      "metadata": {
        "id": "fwEGJPD5XqEq"
      },
      "execution_count": 207,
      "outputs": []
    },
    {
      "cell_type": "code",
      "source": [
        "parameters = {'n_estimators':[75, 100, 125],\n",
        "              'criterion':['gini', 'entropy'],\n",
        "              'bootstrap':[True, False],\n",
        "              'random_state':[42],\n",
        "              'min_samples_split':[2, 4, 6],\n",
        "              'max_depth': [None, 5, 15, 25]}"
      ],
      "metadata": {
        "id": "e1W1mNuHiEtw"
      },
      "execution_count": 208,
      "outputs": []
    },
    {
      "cell_type": "code",
      "source": [
        "RL_opt = RandomForestClassifier()"
      ],
      "metadata": {
        "id": "DOOX0eBZjSa6"
      },
      "execution_count": 209,
      "outputs": []
    },
    {
      "cell_type": "code",
      "source": [
        "RF_grid_cv = GridSearchCV(RL_opt, parameters, scoring=['accuracy', 'recall', 'precision', 'f1_macro', 'roc_auc'], cv=5, refit='recall', verbose=3)"
      ],
      "metadata": {
        "id": "XJA_Q3FRJz5l"
      },
      "execution_count": 210,
      "outputs": []
    },
    {
      "cell_type": "code",
      "source": [
        "RF_grid_cv.fit(X_train_ros_best, y_train_ros_best)"
      ],
      "metadata": {
        "colab": {
          "base_uri": "https://localhost:8080/"
        },
        "id": "_-RdWObeKepd",
        "outputId": "166aab0a-45c8-41b3-f601-7a789e3b8200"
      },
      "execution_count": 211,
      "outputs": [
        {
          "output_type": "stream",
          "name": "stdout",
          "text": [
            "Fitting 5 folds for each of 144 candidates, totalling 720 fits\n",
            "[CV 1/5] END bootstrap=True, criterion=gini, max_depth=None, min_samples_split=2, n_estimators=75, random_state=42; accuracy: (test=0.873) f1_macro: (test=0.873) precision: (test=0.832) recall: (test=0.935) roc_auc: (test=0.939) total time=   0.5s\n",
            "[CV 2/5] END bootstrap=True, criterion=gini, max_depth=None, min_samples_split=2, n_estimators=75, random_state=42; accuracy: (test=0.876) f1_macro: (test=0.875) precision: (test=0.842) recall: (test=0.925) roc_auc: (test=0.939) total time=   0.5s\n",
            "[CV 3/5] END bootstrap=True, criterion=gini, max_depth=None, min_samples_split=2, n_estimators=75, random_state=42; accuracy: (test=0.908) f1_macro: (test=0.907) precision: (test=0.847) recall: (test=0.994) roc_auc: (test=0.971) total time=   0.5s\n",
            "[CV 4/5] END bootstrap=True, criterion=gini, max_depth=None, min_samples_split=2, n_estimators=75, random_state=42; accuracy: (test=0.908) f1_macro: (test=0.907) precision: (test=0.850) recall: (test=0.991) roc_auc: (test=0.964) total time=   0.5s\n",
            "[CV 5/5] END bootstrap=True, criterion=gini, max_depth=None, min_samples_split=2, n_estimators=75, random_state=42; accuracy: (test=0.905) f1_macro: (test=0.904) precision: (test=0.842) recall: (test=0.997) roc_auc: (test=0.970) total time=   0.5s\n",
            "[CV 1/5] END bootstrap=True, criterion=gini, max_depth=None, min_samples_split=2, n_estimators=100, random_state=42; accuracy: (test=0.873) f1_macro: (test=0.872) precision: (test=0.831) recall: (test=0.936) roc_auc: (test=0.940) total time=   0.7s\n",
            "[CV 2/5] END bootstrap=True, criterion=gini, max_depth=None, min_samples_split=2, n_estimators=100, random_state=42; accuracy: (test=0.877) f1_macro: (test=0.877) precision: (test=0.842) recall: (test=0.927) roc_auc: (test=0.940) total time=   0.7s\n",
            "[CV 3/5] END bootstrap=True, criterion=gini, max_depth=None, min_samples_split=2, n_estimators=100, random_state=42; accuracy: (test=0.909) f1_macro: (test=0.908) precision: (test=0.848) recall: (test=0.997) roc_auc: (test=0.971) total time=   0.7s\n",
            "[CV 4/5] END bootstrap=True, criterion=gini, max_depth=None, min_samples_split=2, n_estimators=100, random_state=42; accuracy: (test=0.911) f1_macro: (test=0.910) precision: (test=0.854) recall: (test=0.991) roc_auc: (test=0.965) total time=   0.7s\n",
            "[CV 5/5] END bootstrap=True, criterion=gini, max_depth=None, min_samples_split=2, n_estimators=100, random_state=42; accuracy: (test=0.906) f1_macro: (test=0.905) precision: (test=0.844) recall: (test=0.997) roc_auc: (test=0.971) total time=   0.7s\n",
            "[CV 1/5] END bootstrap=True, criterion=gini, max_depth=None, min_samples_split=2, n_estimators=125, random_state=42; accuracy: (test=0.876) f1_macro: (test=0.876) precision: (test=0.835) recall: (test=0.938) roc_auc: (test=0.940) total time=   0.8s\n",
            "[CV 2/5] END bootstrap=True, criterion=gini, max_depth=None, min_samples_split=2, n_estimators=125, random_state=42; accuracy: (test=0.875) f1_macro: (test=0.874) precision: (test=0.842) recall: (test=0.922) roc_auc: (test=0.940) total time=   0.8s\n",
            "[CV 3/5] END bootstrap=True, criterion=gini, max_depth=None, min_samples_split=2, n_estimators=125, random_state=42; accuracy: (test=0.908) f1_macro: (test=0.908) precision: (test=0.847) recall: (test=0.997) roc_auc: (test=0.971) total time=   0.9s\n",
            "[CV 4/5] END bootstrap=True, criterion=gini, max_depth=None, min_samples_split=2, n_estimators=125, random_state=42; accuracy: (test=0.908) f1_macro: (test=0.908) precision: (test=0.850) recall: (test=0.991) roc_auc: (test=0.965) total time=   0.8s\n",
            "[CV 5/5] END bootstrap=True, criterion=gini, max_depth=None, min_samples_split=2, n_estimators=125, random_state=42; accuracy: (test=0.905) f1_macro: (test=0.905) precision: (test=0.843) recall: (test=0.997) roc_auc: (test=0.971) total time=   0.8s\n",
            "[CV 1/5] END bootstrap=True, criterion=gini, max_depth=None, min_samples_split=4, n_estimators=75, random_state=42; accuracy: (test=0.876) f1_macro: (test=0.876) precision: (test=0.840) recall: (test=0.929) roc_auc: (test=0.929) total time=   0.5s\n",
            "[CV 2/5] END bootstrap=True, criterion=gini, max_depth=None, min_samples_split=4, n_estimators=75, random_state=42; accuracy: (test=0.867) f1_macro: (test=0.867) precision: (test=0.839) recall: (test=0.909) roc_auc: (test=0.929) total time=   0.5s\n",
            "[CV 3/5] END bootstrap=True, criterion=gini, max_depth=None, min_samples_split=4, n_estimators=75, random_state=42; accuracy: (test=0.899) f1_macro: (test=0.899) precision: (test=0.847) recall: (test=0.974) roc_auc: (test=0.958) total time=   0.5s\n",
            "[CV 4/5] END bootstrap=True, criterion=gini, max_depth=None, min_samples_split=4, n_estimators=75, random_state=42; accuracy: (test=0.901) f1_macro: (test=0.901) precision: (test=0.848) recall: (test=0.978) roc_auc: (test=0.955) total time=   0.5s\n",
            "[CV 5/5] END bootstrap=True, criterion=gini, max_depth=None, min_samples_split=4, n_estimators=75, random_state=42; accuracy: (test=0.895) f1_macro: (test=0.894) precision: (test=0.840) recall: (test=0.977) roc_auc: (test=0.955) total time=   0.5s\n",
            "[CV 1/5] END bootstrap=True, criterion=gini, max_depth=None, min_samples_split=4, n_estimators=100, random_state=42; accuracy: (test=0.875) f1_macro: (test=0.875) precision: (test=0.840) recall: (test=0.927) roc_auc: (test=0.929) total time=   0.7s\n",
            "[CV 2/5] END bootstrap=True, criterion=gini, max_depth=None, min_samples_split=4, n_estimators=100, random_state=42; accuracy: (test=0.866) f1_macro: (test=0.866) precision: (test=0.838) recall: (test=0.908) roc_auc: (test=0.929) total time=   0.6s\n",
            "[CV 3/5] END bootstrap=True, criterion=gini, max_depth=None, min_samples_split=4, n_estimators=100, random_state=42; accuracy: (test=0.897) f1_macro: (test=0.897) precision: (test=0.845) recall: (test=0.974) roc_auc: (test=0.958) total time=   0.7s\n",
            "[CV 4/5] END bootstrap=True, criterion=gini, max_depth=None, min_samples_split=4, n_estimators=100, random_state=42; accuracy: (test=0.901) f1_macro: (test=0.900) precision: (test=0.849) recall: (test=0.975) roc_auc: (test=0.955) total time=   0.7s\n",
            "[CV 5/5] END bootstrap=True, criterion=gini, max_depth=None, min_samples_split=4, n_estimators=100, random_state=42; accuracy: (test=0.896) f1_macro: (test=0.896) precision: (test=0.839) recall: (test=0.981) roc_auc: (test=0.956) total time=   0.7s\n",
            "[CV 1/5] END bootstrap=True, criterion=gini, max_depth=None, min_samples_split=4, n_estimators=125, random_state=42; accuracy: (test=0.876) f1_macro: (test=0.875) precision: (test=0.838) recall: (test=0.932) roc_auc: (test=0.929) total time=   0.8s\n",
            "[CV 2/5] END bootstrap=True, criterion=gini, max_depth=None, min_samples_split=4, n_estimators=125, random_state=42; accuracy: (test=0.866) f1_macro: (test=0.865) precision: (test=0.839) recall: (test=0.904) roc_auc: (test=0.930) total time=   0.8s\n",
            "[CV 3/5] END bootstrap=True, criterion=gini, max_depth=None, min_samples_split=4, n_estimators=125, random_state=42; accuracy: (test=0.902) f1_macro: (test=0.901) precision: (test=0.850) recall: (test=0.976) roc_auc: (test=0.958) total time=   0.8s\n",
            "[CV 4/5] END bootstrap=True, criterion=gini, max_depth=None, min_samples_split=4, n_estimators=125, random_state=42; accuracy: (test=0.900) f1_macro: (test=0.899) precision: (test=0.846) recall: (test=0.977) roc_auc: (test=0.955) total time=   0.8s\n",
            "[CV 5/5] END bootstrap=True, criterion=gini, max_depth=None, min_samples_split=4, n_estimators=125, random_state=42; accuracy: (test=0.896) f1_macro: (test=0.895) precision: (test=0.838) recall: (test=0.981) roc_auc: (test=0.956) total time=   0.8s\n",
            "[CV 1/5] END bootstrap=True, criterion=gini, max_depth=None, min_samples_split=6, n_estimators=75, random_state=42; accuracy: (test=0.865) f1_macro: (test=0.865) precision: (test=0.836) recall: (test=0.909) roc_auc: (test=0.921) total time=   0.5s\n",
            "[CV 2/5] END bootstrap=True, criterion=gini, max_depth=None, min_samples_split=6, n_estimators=75, random_state=42; accuracy: (test=0.857) f1_macro: (test=0.857) precision: (test=0.834) recall: (test=0.892) roc_auc: (test=0.920) total time=   0.5s\n",
            "[CV 3/5] END bootstrap=True, criterion=gini, max_depth=None, min_samples_split=6, n_estimators=75, random_state=42; accuracy: (test=0.887) f1_macro: (test=0.887) precision: (test=0.841) recall: (test=0.956) roc_auc: (test=0.948) total time=   0.5s\n",
            "[CV 4/5] END bootstrap=True, criterion=gini, max_depth=None, min_samples_split=6, n_estimators=75, random_state=42; accuracy: (test=0.883) f1_macro: (test=0.883) precision: (test=0.838) recall: (test=0.951) roc_auc: (test=0.946) total time=   0.5s\n",
            "[CV 5/5] END bootstrap=True, criterion=gini, max_depth=None, min_samples_split=6, n_estimators=75, random_state=42; accuracy: (test=0.887) f1_macro: (test=0.886) precision: (test=0.835) recall: (test=0.965) roc_auc: (test=0.945) total time=   0.5s\n",
            "[CV 1/5] END bootstrap=True, criterion=gini, max_depth=None, min_samples_split=6, n_estimators=100, random_state=42; accuracy: (test=0.866) f1_macro: (test=0.865) precision: (test=0.835) recall: (test=0.911) roc_auc: (test=0.922) total time=   0.6s\n",
            "[CV 2/5] END bootstrap=True, criterion=gini, max_depth=None, min_samples_split=6, n_estimators=100, random_state=42; accuracy: (test=0.859) f1_macro: (test=0.859) precision: (test=0.836) recall: (test=0.894) roc_auc: (test=0.921) total time=   0.6s\n",
            "[CV 3/5] END bootstrap=True, criterion=gini, max_depth=None, min_samples_split=6, n_estimators=100, random_state=42; accuracy: (test=0.890) f1_macro: (test=0.890) precision: (test=0.843) recall: (test=0.959) roc_auc: (test=0.949) total time=   0.7s\n",
            "[CV 4/5] END bootstrap=True, criterion=gini, max_depth=None, min_samples_split=6, n_estimators=100, random_state=42; accuracy: (test=0.887) f1_macro: (test=0.886) precision: (test=0.838) recall: (test=0.959) roc_auc: (test=0.946) total time=   0.7s\n",
            "[CV 5/5] END bootstrap=True, criterion=gini, max_depth=None, min_samples_split=6, n_estimators=100, random_state=42; accuracy: (test=0.888) f1_macro: (test=0.887) precision: (test=0.835) recall: (test=0.967) roc_auc: (test=0.944) total time=   0.7s\n",
            "[CV 1/5] END bootstrap=True, criterion=gini, max_depth=None, min_samples_split=6, n_estimators=125, random_state=42; accuracy: (test=0.867) f1_macro: (test=0.866) precision: (test=0.835) recall: (test=0.913) roc_auc: (test=0.921) total time=   0.8s\n",
            "[CV 2/5] END bootstrap=True, criterion=gini, max_depth=None, min_samples_split=6, n_estimators=125, random_state=42; accuracy: (test=0.857) f1_macro: (test=0.857) precision: (test=0.832) recall: (test=0.894) roc_auc: (test=0.921) total time=   0.8s\n",
            "[CV 3/5] END bootstrap=True, criterion=gini, max_depth=None, min_samples_split=6, n_estimators=125, random_state=42; accuracy: (test=0.889) f1_macro: (test=0.889) precision: (test=0.842) recall: (test=0.959) roc_auc: (test=0.948) total time=   0.8s\n",
            "[CV 4/5] END bootstrap=True, criterion=gini, max_depth=None, min_samples_split=6, n_estimators=125, random_state=42; accuracy: (test=0.889) f1_macro: (test=0.889) precision: (test=0.841) recall: (test=0.960) roc_auc: (test=0.946) total time=   0.8s\n",
            "[CV 5/5] END bootstrap=True, criterion=gini, max_depth=None, min_samples_split=6, n_estimators=125, random_state=42; accuracy: (test=0.888) f1_macro: (test=0.888) precision: (test=0.836) recall: (test=0.967) roc_auc: (test=0.944) total time=   0.8s\n",
            "[CV 1/5] END bootstrap=True, criterion=gini, max_depth=5, min_samples_split=2, n_estimators=75, random_state=42; accuracy: (test=0.756) f1_macro: (test=0.756) precision: (test=0.731) recall: (test=0.811) roc_auc: (test=0.839) total time=   0.3s\n",
            "[CV 2/5] END bootstrap=True, criterion=gini, max_depth=5, min_samples_split=2, n_estimators=75, random_state=42; accuracy: (test=0.771) f1_macro: (test=0.770) precision: (test=0.740) recall: (test=0.836) roc_auc: (test=0.855) total time=   0.3s\n",
            "[CV 3/5] END bootstrap=True, criterion=gini, max_depth=5, min_samples_split=2, n_estimators=75, random_state=42; accuracy: (test=0.770) f1_macro: (test=0.770) precision: (test=0.747) recall: (test=0.816) roc_auc: (test=0.852) total time=   0.3s\n",
            "[CV 4/5] END bootstrap=True, criterion=gini, max_depth=5, min_samples_split=2, n_estimators=75, random_state=42; accuracy: (test=0.777) f1_macro: (test=0.777) precision: (test=0.752) recall: (test=0.827) roc_auc: (test=0.857) total time=   0.3s\n",
            "[CV 5/5] END bootstrap=True, criterion=gini, max_depth=5, min_samples_split=2, n_estimators=75, random_state=42; accuracy: (test=0.769) f1_macro: (test=0.768) precision: (test=0.741) recall: (test=0.829) roc_auc: (test=0.856) total time=   0.3s\n",
            "[CV 1/5] END bootstrap=True, criterion=gini, max_depth=5, min_samples_split=2, n_estimators=100, random_state=42; accuracy: (test=0.756) f1_macro: (test=0.755) precision: (test=0.731) recall: (test=0.810) roc_auc: (test=0.838) total time=   0.4s\n",
            "[CV 2/5] END bootstrap=True, criterion=gini, max_depth=5, min_samples_split=2, n_estimators=100, random_state=42; accuracy: (test=0.770) f1_macro: (test=0.769) precision: (test=0.739) recall: (test=0.835) roc_auc: (test=0.855) total time=   0.4s\n",
            "[CV 3/5] END bootstrap=True, criterion=gini, max_depth=5, min_samples_split=2, n_estimators=100, random_state=42; accuracy: (test=0.770) f1_macro: (test=0.769) precision: (test=0.743) recall: (test=0.824) roc_auc: (test=0.852) total time=   0.4s\n",
            "[CV 4/5] END bootstrap=True, criterion=gini, max_depth=5, min_samples_split=2, n_estimators=100, random_state=42; accuracy: (test=0.775) f1_macro: (test=0.775) precision: (test=0.752) recall: (test=0.822) roc_auc: (test=0.857) total time=   0.4s\n",
            "[CV 5/5] END bootstrap=True, criterion=gini, max_depth=5, min_samples_split=2, n_estimators=100, random_state=42; accuracy: (test=0.769) f1_macro: (test=0.768) precision: (test=0.740) recall: (test=0.828) roc_auc: (test=0.855) total time=   0.4s\n",
            "[CV 1/5] END bootstrap=True, criterion=gini, max_depth=5, min_samples_split=2, n_estimators=125, random_state=42; accuracy: (test=0.754) f1_macro: (test=0.753) precision: (test=0.727) recall: (test=0.813) roc_auc: (test=0.838) total time=   0.5s\n",
            "[CV 2/5] END bootstrap=True, criterion=gini, max_depth=5, min_samples_split=2, n_estimators=125, random_state=42; accuracy: (test=0.770) f1_macro: (test=0.769) precision: (test=0.739) recall: (test=0.834) roc_auc: (test=0.855) total time=   0.5s\n",
            "[CV 3/5] END bootstrap=True, criterion=gini, max_depth=5, min_samples_split=2, n_estimators=125, random_state=42; accuracy: (test=0.770) f1_macro: (test=0.769) precision: (test=0.744) recall: (test=0.822) roc_auc: (test=0.851) total time=   0.5s\n",
            "[CV 4/5] END bootstrap=True, criterion=gini, max_depth=5, min_samples_split=2, n_estimators=125, random_state=42; accuracy: (test=0.778) f1_macro: (test=0.778) precision: (test=0.753) recall: (test=0.828) roc_auc: (test=0.857) total time=   0.5s\n",
            "[CV 5/5] END bootstrap=True, criterion=gini, max_depth=5, min_samples_split=2, n_estimators=125, random_state=42; accuracy: (test=0.767) f1_macro: (test=0.766) precision: (test=0.739) recall: (test=0.826) roc_auc: (test=0.855) total time=   0.5s\n",
            "[CV 1/5] END bootstrap=True, criterion=gini, max_depth=5, min_samples_split=4, n_estimators=75, random_state=42; accuracy: (test=0.756) f1_macro: (test=0.756) precision: (test=0.731) recall: (test=0.811) roc_auc: (test=0.839) total time=   0.3s\n",
            "[CV 2/5] END bootstrap=True, criterion=gini, max_depth=5, min_samples_split=4, n_estimators=75, random_state=42; accuracy: (test=0.770) f1_macro: (test=0.769) precision: (test=0.739) recall: (test=0.836) roc_auc: (test=0.855) total time=   0.3s\n",
            "[CV 3/5] END bootstrap=True, criterion=gini, max_depth=5, min_samples_split=4, n_estimators=75, random_state=42; accuracy: (test=0.770) f1_macro: (test=0.770) precision: (test=0.747) recall: (test=0.816) roc_auc: (test=0.852) total time=   0.3s\n",
            "[CV 4/5] END bootstrap=True, criterion=gini, max_depth=5, min_samples_split=4, n_estimators=75, random_state=42; accuracy: (test=0.778) f1_macro: (test=0.777) precision: (test=0.753) recall: (test=0.827) roc_auc: (test=0.856) total time=   0.3s\n",
            "[CV 5/5] END bootstrap=True, criterion=gini, max_depth=5, min_samples_split=4, n_estimators=75, random_state=42; accuracy: (test=0.769) f1_macro: (test=0.768) precision: (test=0.741) recall: (test=0.827) roc_auc: (test=0.856) total time=   0.3s\n",
            "[CV 1/5] END bootstrap=True, criterion=gini, max_depth=5, min_samples_split=4, n_estimators=100, random_state=42; accuracy: (test=0.756) f1_macro: (test=0.756) precision: (test=0.731) recall: (test=0.811) roc_auc: (test=0.838) total time=   0.4s\n",
            "[CV 2/5] END bootstrap=True, criterion=gini, max_depth=5, min_samples_split=4, n_estimators=100, random_state=42; accuracy: (test=0.770) f1_macro: (test=0.769) precision: (test=0.739) recall: (test=0.835) roc_auc: (test=0.855) total time=   0.4s\n",
            "[CV 3/5] END bootstrap=True, criterion=gini, max_depth=5, min_samples_split=4, n_estimators=100, random_state=42; accuracy: (test=0.770) f1_macro: (test=0.769) precision: (test=0.743) recall: (test=0.824) roc_auc: (test=0.852) total time=   0.4s\n",
            "[CV 4/5] END bootstrap=True, criterion=gini, max_depth=5, min_samples_split=4, n_estimators=100, random_state=42; accuracy: (test=0.775) f1_macro: (test=0.775) precision: (test=0.752) recall: (test=0.822) roc_auc: (test=0.857) total time=   0.4s\n",
            "[CV 5/5] END bootstrap=True, criterion=gini, max_depth=5, min_samples_split=4, n_estimators=100, random_state=42; accuracy: (test=0.768) f1_macro: (test=0.767) precision: (test=0.740) recall: (test=0.826) roc_auc: (test=0.855) total time=   0.4s\n",
            "[CV 1/5] END bootstrap=True, criterion=gini, max_depth=5, min_samples_split=4, n_estimators=125, random_state=42; accuracy: (test=0.756) f1_macro: (test=0.755) precision: (test=0.729) recall: (test=0.813) roc_auc: (test=0.838) total time=   0.5s\n",
            "[CV 2/5] END bootstrap=True, criterion=gini, max_depth=5, min_samples_split=4, n_estimators=125, random_state=42; accuracy: (test=0.770) f1_macro: (test=0.769) precision: (test=0.739) recall: (test=0.834) roc_auc: (test=0.855) total time=   0.4s\n",
            "[CV 3/5] END bootstrap=True, criterion=gini, max_depth=5, min_samples_split=4, n_estimators=125, random_state=42; accuracy: (test=0.770) f1_macro: (test=0.769) precision: (test=0.744) recall: (test=0.822) roc_auc: (test=0.851) total time=   0.5s\n",
            "[CV 4/5] END bootstrap=True, criterion=gini, max_depth=5, min_samples_split=4, n_estimators=125, random_state=42; accuracy: (test=0.779) f1_macro: (test=0.778) precision: (test=0.754) recall: (test=0.828) roc_auc: (test=0.857) total time=   0.4s\n",
            "[CV 5/5] END bootstrap=True, criterion=gini, max_depth=5, min_samples_split=4, n_estimators=125, random_state=42; accuracy: (test=0.766) f1_macro: (test=0.765) precision: (test=0.738) recall: (test=0.826) roc_auc: (test=0.855) total time=   0.5s\n",
            "[CV 1/5] END bootstrap=True, criterion=gini, max_depth=5, min_samples_split=6, n_estimators=75, random_state=42; accuracy: (test=0.756) f1_macro: (test=0.756) precision: (test=0.731) recall: (test=0.811) roc_auc: (test=0.839) total time=   0.3s\n",
            "[CV 2/5] END bootstrap=True, criterion=gini, max_depth=5, min_samples_split=6, n_estimators=75, random_state=42; accuracy: (test=0.771) f1_macro: (test=0.770) precision: (test=0.740) recall: (test=0.836) roc_auc: (test=0.855) total time=   0.3s\n",
            "[CV 3/5] END bootstrap=True, criterion=gini, max_depth=5, min_samples_split=6, n_estimators=75, random_state=42; accuracy: (test=0.769) f1_macro: (test=0.769) precision: (test=0.746) recall: (test=0.816) roc_auc: (test=0.851) total time=   0.3s\n",
            "[CV 4/5] END bootstrap=True, criterion=gini, max_depth=5, min_samples_split=6, n_estimators=75, random_state=42; accuracy: (test=0.776) f1_macro: (test=0.776) precision: (test=0.752) recall: (test=0.823) roc_auc: (test=0.856) total time=   0.3s\n",
            "[CV 5/5] END bootstrap=True, criterion=gini, max_depth=5, min_samples_split=6, n_estimators=75, random_state=42; accuracy: (test=0.769) f1_macro: (test=0.768) precision: (test=0.740) recall: (test=0.828) roc_auc: (test=0.856) total time=   0.3s\n",
            "[CV 1/5] END bootstrap=True, criterion=gini, max_depth=5, min_samples_split=6, n_estimators=100, random_state=42; accuracy: (test=0.756) f1_macro: (test=0.756) precision: (test=0.731) recall: (test=0.812) roc_auc: (test=0.838) total time=   0.4s\n",
            "[CV 2/5] END bootstrap=True, criterion=gini, max_depth=5, min_samples_split=6, n_estimators=100, random_state=42; accuracy: (test=0.771) f1_macro: (test=0.770) precision: (test=0.740) recall: (test=0.836) roc_auc: (test=0.855) total time=   0.4s\n",
            "[CV 3/5] END bootstrap=True, criterion=gini, max_depth=5, min_samples_split=6, n_estimators=100, random_state=42; accuracy: (test=0.770) f1_macro: (test=0.769) precision: (test=0.743) recall: (test=0.824) roc_auc: (test=0.852) total time=   0.4s\n",
            "[CV 4/5] END bootstrap=True, criterion=gini, max_depth=5, min_samples_split=6, n_estimators=100, random_state=42; accuracy: (test=0.777) f1_macro: (test=0.776) precision: (test=0.753) recall: (test=0.823) roc_auc: (test=0.857) total time=   0.4s\n",
            "[CV 5/5] END bootstrap=True, criterion=gini, max_depth=5, min_samples_split=6, n_estimators=100, random_state=42; accuracy: (test=0.769) f1_macro: (test=0.768) precision: (test=0.740) recall: (test=0.828) roc_auc: (test=0.855) total time=   0.4s\n",
            "[CV 1/5] END bootstrap=True, criterion=gini, max_depth=5, min_samples_split=6, n_estimators=125, random_state=42; accuracy: (test=0.756) f1_macro: (test=0.755) precision: (test=0.729) recall: (test=0.813) roc_auc: (test=0.838) total time=   0.5s\n",
            "[CV 2/5] END bootstrap=True, criterion=gini, max_depth=5, min_samples_split=6, n_estimators=125, random_state=42; accuracy: (test=0.770) f1_macro: (test=0.769) precision: (test=0.739) recall: (test=0.834) roc_auc: (test=0.854) total time=   0.5s\n",
            "[CV 3/5] END bootstrap=True, criterion=gini, max_depth=5, min_samples_split=6, n_estimators=125, random_state=42; accuracy: (test=0.768) f1_macro: (test=0.768) precision: (test=0.743) recall: (test=0.819) roc_auc: (test=0.851) total time=   0.5s\n",
            "[CV 4/5] END bootstrap=True, criterion=gini, max_depth=5, min_samples_split=6, n_estimators=125, random_state=42; accuracy: (test=0.778) f1_macro: (test=0.777) precision: (test=0.754) recall: (test=0.826) roc_auc: (test=0.857) total time=   0.5s\n",
            "[CV 5/5] END bootstrap=True, criterion=gini, max_depth=5, min_samples_split=6, n_estimators=125, random_state=42; accuracy: (test=0.766) f1_macro: (test=0.766) precision: (test=0.738) recall: (test=0.827) roc_auc: (test=0.855) total time=   0.5s\n",
            "[CV 1/5] END bootstrap=True, criterion=gini, max_depth=15, min_samples_split=2, n_estimators=75, random_state=42; accuracy: (test=0.871) f1_macro: (test=0.870) precision: (test=0.821) recall: (test=0.948) roc_auc: (test=0.934) total time=   0.5s\n",
            "[CV 2/5] END bootstrap=True, criterion=gini, max_depth=15, min_samples_split=2, n_estimators=75, random_state=42; accuracy: (test=0.869) f1_macro: (test=0.868) precision: (test=0.826) recall: (test=0.934) roc_auc: (test=0.933) total time=   0.5s\n",
            "[CV 3/5] END bootstrap=True, criterion=gini, max_depth=15, min_samples_split=2, n_estimators=75, random_state=42; accuracy: (test=0.897) f1_macro: (test=0.896) precision: (test=0.834) recall: (test=0.991) roc_auc: (test=0.957) total time=   0.5s\n",
            "[CV 4/5] END bootstrap=True, criterion=gini, max_depth=15, min_samples_split=2, n_estimators=75, random_state=42; accuracy: (test=0.901) f1_macro: (test=0.901) precision: (test=0.840) recall: (test=0.992) roc_auc: (test=0.958) total time=   0.5s\n",
            "[CV 5/5] END bootstrap=True, criterion=gini, max_depth=15, min_samples_split=2, n_estimators=75, random_state=42; accuracy: (test=0.898) f1_macro: (test=0.897) precision: (test=0.833) recall: (test=0.995) roc_auc: (test=0.963) total time=   0.5s\n",
            "[CV 1/5] END bootstrap=True, criterion=gini, max_depth=15, min_samples_split=2, n_estimators=100, random_state=42; accuracy: (test=0.872) f1_macro: (test=0.871) precision: (test=0.822) recall: (test=0.949) roc_auc: (test=0.935) total time=   0.6s\n",
            "[CV 2/5] END bootstrap=True, criterion=gini, max_depth=15, min_samples_split=2, n_estimators=100, random_state=42; accuracy: (test=0.869) f1_macro: (test=0.868) precision: (test=0.826) recall: (test=0.934) roc_auc: (test=0.932) total time=   0.6s\n",
            "[CV 3/5] END bootstrap=True, criterion=gini, max_depth=15, min_samples_split=2, n_estimators=100, random_state=42; accuracy: (test=0.900) f1_macro: (test=0.899) precision: (test=0.837) recall: (test=0.993) roc_auc: (test=0.958) total time=   0.6s\n",
            "[CV 4/5] END bootstrap=True, criterion=gini, max_depth=15, min_samples_split=2, n_estimators=100, random_state=42; accuracy: (test=0.899) f1_macro: (test=0.898) precision: (test=0.837) recall: (test=0.991) roc_auc: (test=0.958) total time=   0.6s\n",
            "[CV 5/5] END bootstrap=True, criterion=gini, max_depth=15, min_samples_split=2, n_estimators=100, random_state=42; accuracy: (test=0.898) f1_macro: (test=0.897) precision: (test=0.833) recall: (test=0.997) roc_auc: (test=0.963) total time=   0.6s\n",
            "[CV 1/5] END bootstrap=True, criterion=gini, max_depth=15, min_samples_split=2, n_estimators=125, random_state=42; accuracy: (test=0.872) f1_macro: (test=0.872) precision: (test=0.823) recall: (test=0.949) roc_auc: (test=0.935) total time=   0.8s\n",
            "[CV 2/5] END bootstrap=True, criterion=gini, max_depth=15, min_samples_split=2, n_estimators=125, random_state=42; accuracy: (test=0.870) f1_macro: (test=0.870) precision: (test=0.829) recall: (test=0.933) roc_auc: (test=0.933) total time=   0.8s\n",
            "[CV 3/5] END bootstrap=True, criterion=gini, max_depth=15, min_samples_split=2, n_estimators=125, random_state=42; accuracy: (test=0.899) f1_macro: (test=0.898) precision: (test=0.834) recall: (test=0.994) roc_auc: (test=0.958) total time=   0.8s\n",
            "[CV 4/5] END bootstrap=True, criterion=gini, max_depth=15, min_samples_split=2, n_estimators=125, random_state=42; accuracy: (test=0.899) f1_macro: (test=0.898) precision: (test=0.837) recall: (test=0.992) roc_auc: (test=0.958) total time=   0.8s\n",
            "[CV 5/5] END bootstrap=True, criterion=gini, max_depth=15, min_samples_split=2, n_estimators=125, random_state=42; accuracy: (test=0.896) f1_macro: (test=0.895) precision: (test=0.830) recall: (test=0.997) roc_auc: (test=0.963) total time=   0.8s\n",
            "[CV 1/5] END bootstrap=True, criterion=gini, max_depth=15, min_samples_split=4, n_estimators=75, random_state=42; accuracy: (test=0.867) f1_macro: (test=0.866) precision: (test=0.822) recall: (test=0.936) roc_auc: (test=0.925) total time=   0.5s\n",
            "[CV 2/5] END bootstrap=True, criterion=gini, max_depth=15, min_samples_split=4, n_estimators=75, random_state=42; accuracy: (test=0.860) f1_macro: (test=0.860) precision: (test=0.826) recall: (test=0.912) roc_auc: (test=0.925) total time=   0.5s\n",
            "[CV 3/5] END bootstrap=True, criterion=gini, max_depth=15, min_samples_split=4, n_estimators=75, random_state=42; accuracy: (test=0.892) f1_macro: (test=0.891) precision: (test=0.840) recall: (test=0.967) roc_auc: (test=0.951) total time=   0.5s\n",
            "[CV 4/5] END bootstrap=True, criterion=gini, max_depth=15, min_samples_split=4, n_estimators=75, random_state=42; accuracy: (test=0.893) f1_macro: (test=0.892) precision: (test=0.838) recall: (test=0.974) roc_auc: (test=0.949) total time=   0.5s\n",
            "[CV 5/5] END bootstrap=True, criterion=gini, max_depth=15, min_samples_split=4, n_estimators=75, random_state=42; accuracy: (test=0.889) f1_macro: (test=0.889) precision: (test=0.830) recall: (test=0.979) roc_auc: (test=0.946) total time=   0.5s\n",
            "[CV 1/5] END bootstrap=True, criterion=gini, max_depth=15, min_samples_split=4, n_estimators=100, random_state=42; accuracy: (test=0.866) f1_macro: (test=0.865) precision: (test=0.821) recall: (test=0.935) roc_auc: (test=0.926) total time=   0.6s\n",
            "[CV 2/5] END bootstrap=True, criterion=gini, max_depth=15, min_samples_split=4, n_estimators=100, random_state=42; accuracy: (test=0.859) f1_macro: (test=0.859) precision: (test=0.827) recall: (test=0.908) roc_auc: (test=0.926) total time=   0.6s\n",
            "[CV 3/5] END bootstrap=True, criterion=gini, max_depth=15, min_samples_split=4, n_estimators=100, random_state=42; accuracy: (test=0.889) f1_macro: (test=0.888) precision: (test=0.836) recall: (test=0.968) roc_auc: (test=0.951) total time=   0.6s\n",
            "[CV 4/5] END bootstrap=True, criterion=gini, max_depth=15, min_samples_split=4, n_estimators=100, random_state=42; accuracy: (test=0.891) f1_macro: (test=0.890) precision: (test=0.836) recall: (test=0.973) roc_auc: (test=0.948) total time=   0.6s\n",
            "[CV 5/5] END bootstrap=True, criterion=gini, max_depth=15, min_samples_split=4, n_estimators=100, random_state=42; accuracy: (test=0.887) f1_macro: (test=0.886) precision: (test=0.826) recall: (test=0.979) roc_auc: (test=0.947) total time=   0.6s\n",
            "[CV 1/5] END bootstrap=True, criterion=gini, max_depth=15, min_samples_split=4, n_estimators=125, random_state=42; accuracy: (test=0.867) f1_macro: (test=0.866) precision: (test=0.823) recall: (test=0.935) roc_auc: (test=0.926) total time=   0.8s\n",
            "[CV 2/5] END bootstrap=True, criterion=gini, max_depth=15, min_samples_split=4, n_estimators=125, random_state=42; accuracy: (test=0.860) f1_macro: (test=0.860) precision: (test=0.828) recall: (test=0.910) roc_auc: (test=0.927) total time=   0.8s\n",
            "[CV 3/5] END bootstrap=True, criterion=gini, max_depth=15, min_samples_split=4, n_estimators=125, random_state=42; accuracy: (test=0.888) f1_macro: (test=0.887) precision: (test=0.833) recall: (test=0.969) roc_auc: (test=0.951) total time=   0.8s\n",
            "[CV 4/5] END bootstrap=True, criterion=gini, max_depth=15, min_samples_split=4, n_estimators=125, random_state=42; accuracy: (test=0.892) f1_macro: (test=0.892) precision: (test=0.836) recall: (test=0.976) roc_auc: (test=0.948) total time=   0.8s\n",
            "[CV 5/5] END bootstrap=True, criterion=gini, max_depth=15, min_samples_split=4, n_estimators=125, random_state=42; accuracy: (test=0.888) f1_macro: (test=0.887) precision: (test=0.828) recall: (test=0.978) roc_auc: (test=0.948) total time=   0.8s\n",
            "[CV 1/5] END bootstrap=True, criterion=gini, max_depth=15, min_samples_split=6, n_estimators=75, random_state=42; accuracy: (test=0.861) f1_macro: (test=0.861) precision: (test=0.825) recall: (test=0.917) roc_auc: (test=0.918) total time=   0.5s\n",
            "[CV 2/5] END bootstrap=True, criterion=gini, max_depth=15, min_samples_split=6, n_estimators=75, random_state=42; accuracy: (test=0.850) f1_macro: (test=0.849) precision: (test=0.817) recall: (test=0.901) roc_auc: (test=0.917) total time=   0.5s\n",
            "[CV 3/5] END bootstrap=True, criterion=gini, max_depth=15, min_samples_split=6, n_estimators=75, random_state=42; accuracy: (test=0.885) f1_macro: (test=0.884) precision: (test=0.836) recall: (test=0.957) roc_auc: (test=0.942) total time=   0.5s\n",
            "[CV 4/5] END bootstrap=True, criterion=gini, max_depth=15, min_samples_split=6, n_estimators=75, random_state=42; accuracy: (test=0.880) f1_macro: (test=0.880) precision: (test=0.828) recall: (test=0.960) roc_auc: (test=0.941) total time=   0.5s\n",
            "[CV 5/5] END bootstrap=True, criterion=gini, max_depth=15, min_samples_split=6, n_estimators=75, random_state=42; accuracy: (test=0.884) f1_macro: (test=0.884) precision: (test=0.829) recall: (test=0.968) roc_auc: (test=0.941) total time=   0.5s\n",
            "[CV 1/5] END bootstrap=True, criterion=gini, max_depth=15, min_samples_split=6, n_estimators=100, random_state=42; accuracy: (test=0.860) f1_macro: (test=0.859) precision: (test=0.822) recall: (test=0.919) roc_auc: (test=0.919) total time=   0.6s\n",
            "[CV 2/5] END bootstrap=True, criterion=gini, max_depth=15, min_samples_split=6, n_estimators=100, random_state=42; accuracy: (test=0.850) f1_macro: (test=0.849) precision: (test=0.822) recall: (test=0.893) roc_auc: (test=0.917) total time=   0.6s\n",
            "[CV 3/5] END bootstrap=True, criterion=gini, max_depth=15, min_samples_split=6, n_estimators=100, random_state=42; accuracy: (test=0.885) f1_macro: (test=0.885) precision: (test=0.837) recall: (test=0.957) roc_auc: (test=0.942) total time=   0.6s\n",
            "[CV 4/5] END bootstrap=True, criterion=gini, max_depth=15, min_samples_split=6, n_estimators=100, random_state=42; accuracy: (test=0.880) f1_macro: (test=0.880) precision: (test=0.831) recall: (test=0.956) roc_auc: (test=0.941) total time=   0.6s\n",
            "[CV 5/5] END bootstrap=True, criterion=gini, max_depth=15, min_samples_split=6, n_estimators=100, random_state=42; accuracy: (test=0.881) f1_macro: (test=0.880) precision: (test=0.824) recall: (test=0.968) roc_auc: (test=0.940) total time=   0.6s\n",
            "[CV 1/5] END bootstrap=True, criterion=gini, max_depth=15, min_samples_split=6, n_estimators=125, random_state=42; accuracy: (test=0.856) f1_macro: (test=0.856) precision: (test=0.819) recall: (test=0.916) roc_auc: (test=0.919) total time=   0.8s\n",
            "[CV 2/5] END bootstrap=True, criterion=gini, max_depth=15, min_samples_split=6, n_estimators=125, random_state=42; accuracy: (test=0.850) f1_macro: (test=0.850) precision: (test=0.824) recall: (test=0.891) roc_auc: (test=0.918) total time=   0.8s\n",
            "[CV 3/5] END bootstrap=True, criterion=gini, max_depth=15, min_samples_split=6, n_estimators=125, random_state=42; accuracy: (test=0.884) f1_macro: (test=0.883) precision: (test=0.836) recall: (test=0.954) roc_auc: (test=0.942) total time=   0.8s\n",
            "[CV 4/5] END bootstrap=True, criterion=gini, max_depth=15, min_samples_split=6, n_estimators=125, random_state=42; accuracy: (test=0.880) f1_macro: (test=0.880) precision: (test=0.829) recall: (test=0.959) roc_auc: (test=0.940) total time=   0.8s\n",
            "[CV 5/5] END bootstrap=True, criterion=gini, max_depth=15, min_samples_split=6, n_estimators=125, random_state=42; accuracy: (test=0.884) f1_macro: (test=0.883) precision: (test=0.828) recall: (test=0.970) roc_auc: (test=0.941) total time=   0.8s\n",
            "[CV 1/5] END bootstrap=True, criterion=gini, max_depth=25, min_samples_split=2, n_estimators=75, random_state=42; accuracy: (test=0.874) f1_macro: (test=0.874) precision: (test=0.834) recall: (test=0.935) roc_auc: (test=0.939) total time=   0.5s\n",
            "[CV 2/5] END bootstrap=True, criterion=gini, max_depth=25, min_samples_split=2, n_estimators=75, random_state=42; accuracy: (test=0.875) f1_macro: (test=0.874) precision: (test=0.838) recall: (test=0.928) roc_auc: (test=0.939) total time=   0.5s\n",
            "[CV 3/5] END bootstrap=True, criterion=gini, max_depth=25, min_samples_split=2, n_estimators=75, random_state=42; accuracy: (test=0.905) f1_macro: (test=0.905) precision: (test=0.844) recall: (test=0.994) roc_auc: (test=0.971) total time=   0.5s\n",
            "[CV 4/5] END bootstrap=True, criterion=gini, max_depth=25, min_samples_split=2, n_estimators=75, random_state=42; accuracy: (test=0.907) f1_macro: (test=0.906) precision: (test=0.848) recall: (test=0.991) roc_auc: (test=0.965) total time=   0.5s\n",
            "[CV 5/5] END bootstrap=True, criterion=gini, max_depth=25, min_samples_split=2, n_estimators=75, random_state=42; accuracy: (test=0.905) f1_macro: (test=0.905) precision: (test=0.843) recall: (test=0.997) roc_auc: (test=0.970) total time=   0.5s\n",
            "[CV 1/5] END bootstrap=True, criterion=gini, max_depth=25, min_samples_split=2, n_estimators=100, random_state=42; accuracy: (test=0.875) f1_macro: (test=0.874) precision: (test=0.834) recall: (test=0.936) roc_auc: (test=0.939) total time=   0.7s\n",
            "[CV 2/5] END bootstrap=True, criterion=gini, max_depth=25, min_samples_split=2, n_estimators=100, random_state=42; accuracy: (test=0.874) f1_macro: (test=0.873) precision: (test=0.838) recall: (test=0.926) roc_auc: (test=0.939) total time=   0.7s\n",
            "[CV 3/5] END bootstrap=True, criterion=gini, max_depth=25, min_samples_split=2, n_estimators=100, random_state=42; accuracy: (test=0.908) f1_macro: (test=0.908) precision: (test=0.847) recall: (test=0.997) roc_auc: (test=0.971) total time=   0.7s\n",
            "[CV 4/5] END bootstrap=True, criterion=gini, max_depth=25, min_samples_split=2, n_estimators=100, random_state=42; accuracy: (test=0.906) f1_macro: (test=0.905) precision: (test=0.847) recall: (test=0.991) roc_auc: (test=0.966) total time=   0.7s\n",
            "[CV 5/5] END bootstrap=True, criterion=gini, max_depth=25, min_samples_split=2, n_estimators=100, random_state=42; accuracy: (test=0.906) f1_macro: (test=0.905) precision: (test=0.844) recall: (test=0.997) roc_auc: (test=0.971) total time=   0.7s\n",
            "[CV 1/5] END bootstrap=True, criterion=gini, max_depth=25, min_samples_split=2, n_estimators=125, random_state=42; accuracy: (test=0.878) f1_macro: (test=0.878) precision: (test=0.837) recall: (test=0.938) roc_auc: (test=0.939) total time=   0.8s\n",
            "[CV 2/5] END bootstrap=True, criterion=gini, max_depth=25, min_samples_split=2, n_estimators=125, random_state=42; accuracy: (test=0.873) f1_macro: (test=0.873) precision: (test=0.839) recall: (test=0.922) roc_auc: (test=0.940) total time=   0.8s\n",
            "[CV 3/5] END bootstrap=True, criterion=gini, max_depth=25, min_samples_split=2, n_estimators=125, random_state=42; accuracy: (test=0.908) f1_macro: (test=0.908) precision: (test=0.847) recall: (test=0.997) roc_auc: (test=0.971) total time=   0.9s\n",
            "[CV 4/5] END bootstrap=True, criterion=gini, max_depth=25, min_samples_split=2, n_estimators=125, random_state=42; accuracy: (test=0.906) f1_macro: (test=0.905) precision: (test=0.847) recall: (test=0.991) roc_auc: (test=0.966) total time=   0.8s\n",
            "[CV 5/5] END bootstrap=True, criterion=gini, max_depth=25, min_samples_split=2, n_estimators=125, random_state=42; accuracy: (test=0.905) f1_macro: (test=0.905) precision: (test=0.843) recall: (test=0.997) roc_auc: (test=0.971) total time=   0.8s\n",
            "[CV 1/5] END bootstrap=True, criterion=gini, max_depth=25, min_samples_split=4, n_estimators=75, random_state=42; accuracy: (test=0.870) f1_macro: (test=0.870) precision: (test=0.833) recall: (test=0.926) roc_auc: (test=0.929) total time=   0.5s\n",
            "[CV 2/5] END bootstrap=True, criterion=gini, max_depth=25, min_samples_split=4, n_estimators=75, random_state=42; accuracy: (test=0.868) f1_macro: (test=0.868) precision: (test=0.839) recall: (test=0.910) roc_auc: (test=0.929) total time=   0.5s\n",
            "[CV 3/5] END bootstrap=True, criterion=gini, max_depth=25, min_samples_split=4, n_estimators=75, random_state=42; accuracy: (test=0.901) f1_macro: (test=0.901) precision: (test=0.849) recall: (test=0.977) roc_auc: (test=0.957) total time=   0.5s\n",
            "[CV 4/5] END bootstrap=True, criterion=gini, max_depth=25, min_samples_split=4, n_estimators=75, random_state=42; accuracy: (test=0.898) f1_macro: (test=0.897) precision: (test=0.845) recall: (test=0.975) roc_auc: (test=0.954) total time=   0.5s\n",
            "[CV 5/5] END bootstrap=True, criterion=gini, max_depth=25, min_samples_split=4, n_estimators=75, random_state=42; accuracy: (test=0.892) f1_macro: (test=0.891) precision: (test=0.835) recall: (test=0.977) roc_auc: (test=0.955) total time=   0.5s\n",
            "[CV 1/5] END bootstrap=True, criterion=gini, max_depth=25, min_samples_split=4, n_estimators=100, random_state=42; accuracy: (test=0.872) f1_macro: (test=0.871) precision: (test=0.835) recall: (test=0.927) roc_auc: (test=0.929) total time=   0.6s\n",
            "[CV 2/5] END bootstrap=True, criterion=gini, max_depth=25, min_samples_split=4, n_estimators=100, random_state=42; accuracy: (test=0.868) f1_macro: (test=0.868) precision: (test=0.841) recall: (test=0.909) roc_auc: (test=0.929) total time=   0.6s\n",
            "[CV 3/5] END bootstrap=True, criterion=gini, max_depth=25, min_samples_split=4, n_estimators=100, random_state=42; accuracy: (test=0.901) f1_macro: (test=0.901) precision: (test=0.847) recall: (test=0.979) roc_auc: (test=0.958) total time=   0.7s\n",
            "[CV 4/5] END bootstrap=True, criterion=gini, max_depth=25, min_samples_split=4, n_estimators=100, random_state=42; accuracy: (test=0.899) f1_macro: (test=0.899) precision: (test=0.848) recall: (test=0.973) roc_auc: (test=0.954) total time=   0.7s\n",
            "[CV 5/5] END bootstrap=True, criterion=gini, max_depth=25, min_samples_split=4, n_estimators=100, random_state=42; accuracy: (test=0.894) f1_macro: (test=0.893) precision: (test=0.835) recall: (test=0.983) roc_auc: (test=0.955) total time=   0.7s\n",
            "[CV 1/5] END bootstrap=True, criterion=gini, max_depth=25, min_samples_split=4, n_estimators=125, random_state=42; accuracy: (test=0.872) f1_macro: (test=0.872) precision: (test=0.834) recall: (test=0.931) roc_auc: (test=0.929) total time=   0.8s\n",
            "[CV 2/5] END bootstrap=True, criterion=gini, max_depth=25, min_samples_split=4, n_estimators=125, random_state=42; accuracy: (test=0.863) f1_macro: (test=0.862) precision: (test=0.836) recall: (test=0.902) roc_auc: (test=0.930) total time=   0.8s\n",
            "[CV 3/5] END bootstrap=True, criterion=gini, max_depth=25, min_samples_split=4, n_estimators=125, random_state=42; accuracy: (test=0.902) f1_macro: (test=0.901) precision: (test=0.847) recall: (test=0.981) roc_auc: (test=0.958) total time=   0.8s\n",
            "[CV 4/5] END bootstrap=True, criterion=gini, max_depth=25, min_samples_split=4, n_estimators=125, random_state=42; accuracy: (test=0.899) f1_macro: (test=0.899) precision: (test=0.847) recall: (test=0.974) roc_auc: (test=0.954) total time=   0.8s\n",
            "[CV 5/5] END bootstrap=True, criterion=gini, max_depth=25, min_samples_split=4, n_estimators=125, random_state=42; accuracy: (test=0.896) f1_macro: (test=0.895) precision: (test=0.838) recall: (test=0.981) roc_auc: (test=0.956) total time=   0.8s\n",
            "[CV 1/5] END bootstrap=True, criterion=gini, max_depth=25, min_samples_split=6, n_estimators=75, random_state=42; accuracy: (test=0.866) f1_macro: (test=0.865) precision: (test=0.834) recall: (test=0.912) roc_auc: (test=0.922) total time=   0.5s\n",
            "[CV 2/5] END bootstrap=True, criterion=gini, max_depth=25, min_samples_split=6, n_estimators=75, random_state=42; accuracy: (test=0.855) f1_macro: (test=0.854) precision: (test=0.829) recall: (test=0.893) roc_auc: (test=0.921) total time=   0.5s\n",
            "[CV 3/5] END bootstrap=True, criterion=gini, max_depth=25, min_samples_split=6, n_estimators=75, random_state=42; accuracy: (test=0.887) f1_macro: (test=0.887) precision: (test=0.839) recall: (test=0.958) roc_auc: (test=0.948) total time=   0.5s\n",
            "[CV 4/5] END bootstrap=True, criterion=gini, max_depth=25, min_samples_split=6, n_estimators=75, random_state=42; accuracy: (test=0.886) f1_macro: (test=0.886) precision: (test=0.840) recall: (test=0.953) roc_auc: (test=0.946) total time=   0.5s\n",
            "[CV 5/5] END bootstrap=True, criterion=gini, max_depth=25, min_samples_split=6, n_estimators=75, random_state=42; accuracy: (test=0.889) f1_macro: (test=0.889) precision: (test=0.837) recall: (test=0.967) roc_auc: (test=0.945) total time=   0.5s\n",
            "[CV 1/5] END bootstrap=True, criterion=gini, max_depth=25, min_samples_split=6, n_estimators=100, random_state=42; accuracy: (test=0.865) f1_macro: (test=0.865) precision: (test=0.834) recall: (test=0.911) roc_auc: (test=0.922) total time=   0.6s\n",
            "[CV 2/5] END bootstrap=True, criterion=gini, max_depth=25, min_samples_split=6, n_estimators=100, random_state=42; accuracy: (test=0.854) f1_macro: (test=0.854) precision: (test=0.831) recall: (test=0.889) roc_auc: (test=0.922) total time=   0.6s\n",
            "[CV 3/5] END bootstrap=True, criterion=gini, max_depth=25, min_samples_split=6, n_estimators=100, random_state=42; accuracy: (test=0.889) f1_macro: (test=0.889) precision: (test=0.843) recall: (test=0.957) roc_auc: (test=0.949) total time=   0.6s\n",
            "[CV 4/5] END bootstrap=True, criterion=gini, max_depth=25, min_samples_split=6, n_estimators=100, random_state=42; accuracy: (test=0.886) f1_macro: (test=0.885) precision: (test=0.838) recall: (test=0.958) roc_auc: (test=0.946) total time=   0.6s\n",
            "[CV 5/5] END bootstrap=True, criterion=gini, max_depth=25, min_samples_split=6, n_estimators=100, random_state=42; accuracy: (test=0.889) f1_macro: (test=0.889) precision: (test=0.837) recall: (test=0.968) roc_auc: (test=0.944) total time=   0.6s\n",
            "[CV 1/5] END bootstrap=True, criterion=gini, max_depth=25, min_samples_split=6, n_estimators=125, random_state=42; accuracy: (test=0.864) f1_macro: (test=0.864) precision: (test=0.832) recall: (test=0.913) roc_auc: (test=0.922) total time=   0.8s\n",
            "[CV 2/5] END bootstrap=True, criterion=gini, max_depth=25, min_samples_split=6, n_estimators=125, random_state=42; accuracy: (test=0.854) f1_macro: (test=0.854) precision: (test=0.831) recall: (test=0.889) roc_auc: (test=0.922) total time=   0.8s\n",
            "[CV 3/5] END bootstrap=True, criterion=gini, max_depth=25, min_samples_split=6, n_estimators=125, random_state=42; accuracy: (test=0.885) f1_macro: (test=0.884) precision: (test=0.838) recall: (test=0.954) roc_auc: (test=0.948) total time=   0.8s\n",
            "[CV 4/5] END bootstrap=True, criterion=gini, max_depth=25, min_samples_split=6, n_estimators=125, random_state=42; accuracy: (test=0.889) f1_macro: (test=0.888) precision: (test=0.841) recall: (test=0.959) roc_auc: (test=0.946) total time=   0.8s\n",
            "[CV 5/5] END bootstrap=True, criterion=gini, max_depth=25, min_samples_split=6, n_estimators=125, random_state=42; accuracy: (test=0.889) f1_macro: (test=0.888) precision: (test=0.836) recall: (test=0.968) roc_auc: (test=0.945) total time=   0.8s\n",
            "[CV 1/5] END bootstrap=True, criterion=entropy, max_depth=None, min_samples_split=2, n_estimators=75, random_state=42; accuracy: (test=0.870) f1_macro: (test=0.869) precision: (test=0.827) recall: (test=0.934) roc_auc: (test=0.939) total time=   0.7s\n",
            "[CV 2/5] END bootstrap=True, criterion=entropy, max_depth=None, min_samples_split=2, n_estimators=75, random_state=42; accuracy: (test=0.871) f1_macro: (test=0.871) precision: (test=0.838) recall: (test=0.920) roc_auc: (test=0.938) total time=   0.7s\n",
            "[CV 3/5] END bootstrap=True, criterion=entropy, max_depth=None, min_samples_split=2, n_estimators=75, random_state=42; accuracy: (test=0.904) f1_macro: (test=0.904) precision: (test=0.843) recall: (test=0.994) roc_auc: (test=0.971) total time=   0.7s\n",
            "[CV 4/5] END bootstrap=True, criterion=entropy, max_depth=None, min_samples_split=2, n_estimators=75, random_state=42; accuracy: (test=0.903) f1_macro: (test=0.902) precision: (test=0.842) recall: (test=0.991) roc_auc: (test=0.966) total time=   0.7s\n",
            "[CV 5/5] END bootstrap=True, criterion=entropy, max_depth=None, min_samples_split=2, n_estimators=75, random_state=42; accuracy: (test=0.906) f1_macro: (test=0.905) precision: (test=0.844) recall: (test=0.997) roc_auc: (test=0.971) total time=   0.7s\n",
            "[CV 1/5] END bootstrap=True, criterion=entropy, max_depth=None, min_samples_split=2, n_estimators=100, random_state=42; accuracy: (test=0.875) f1_macro: (test=0.874) precision: (test=0.834) recall: (test=0.936) roc_auc: (test=0.939) total time=   0.9s\n",
            "[CV 2/5] END bootstrap=True, criterion=entropy, max_depth=None, min_samples_split=2, n_estimators=100, random_state=42; accuracy: (test=0.876) f1_macro: (test=0.876) precision: (test=0.843) recall: (test=0.924) roc_auc: (test=0.939) total time=   0.9s\n",
            "[CV 3/5] END bootstrap=True, criterion=entropy, max_depth=None, min_samples_split=2, n_estimators=100, random_state=42; accuracy: (test=0.909) f1_macro: (test=0.908) precision: (test=0.848) recall: (test=0.997) roc_auc: (test=0.971) total time=   0.9s\n",
            "[CV 4/5] END bootstrap=True, criterion=entropy, max_depth=None, min_samples_split=2, n_estimators=100, random_state=42; accuracy: (test=0.905) f1_macro: (test=0.904) precision: (test=0.845) recall: (test=0.991) roc_auc: (test=0.966) total time=   0.9s\n",
            "[CV 5/5] END bootstrap=True, criterion=entropy, max_depth=None, min_samples_split=2, n_estimators=100, random_state=42; accuracy: (test=0.905) f1_macro: (test=0.904) precision: (test=0.842) recall: (test=0.997) roc_auc: (test=0.971) total time=   0.9s\n",
            "[CV 1/5] END bootstrap=True, criterion=entropy, max_depth=None, min_samples_split=2, n_estimators=125, random_state=42; accuracy: (test=0.875) f1_macro: (test=0.875) precision: (test=0.834) recall: (test=0.937) roc_auc: (test=0.940) total time=   1.1s\n",
            "[CV 2/5] END bootstrap=True, criterion=entropy, max_depth=None, min_samples_split=2, n_estimators=125, random_state=42; accuracy: (test=0.874) f1_macro: (test=0.874) precision: (test=0.840) recall: (test=0.924) roc_auc: (test=0.940) total time=   1.1s\n",
            "[CV 3/5] END bootstrap=True, criterion=entropy, max_depth=None, min_samples_split=2, n_estimators=125, random_state=42; accuracy: (test=0.906) f1_macro: (test=0.905) precision: (test=0.844) recall: (test=0.997) roc_auc: (test=0.971) total time=   1.2s\n",
            "[CV 4/5] END bootstrap=True, criterion=entropy, max_depth=None, min_samples_split=2, n_estimators=125, random_state=42; accuracy: (test=0.903) f1_macro: (test=0.902) precision: (test=0.843) recall: (test=0.991) roc_auc: (test=0.966) total time=   1.2s\n",
            "[CV 5/5] END bootstrap=True, criterion=entropy, max_depth=None, min_samples_split=2, n_estimators=125, random_state=42; accuracy: (test=0.905) f1_macro: (test=0.905) precision: (test=0.843) recall: (test=0.997) roc_auc: (test=0.971) total time=   1.2s\n",
            "[CV 1/5] END bootstrap=True, criterion=entropy, max_depth=None, min_samples_split=4, n_estimators=75, random_state=42; accuracy: (test=0.872) f1_macro: (test=0.871) precision: (test=0.834) recall: (test=0.928) roc_auc: (test=0.930) total time=   0.7s\n",
            "[CV 2/5] END bootstrap=True, criterion=entropy, max_depth=None, min_samples_split=4, n_estimators=75, random_state=42; accuracy: (test=0.867) f1_macro: (test=0.867) precision: (test=0.835) recall: (test=0.914) roc_auc: (test=0.931) total time=   0.7s\n",
            "[CV 3/5] END bootstrap=True, criterion=entropy, max_depth=None, min_samples_split=4, n_estimators=75, random_state=42; accuracy: (test=0.897) f1_macro: (test=0.897) precision: (test=0.843) recall: (test=0.976) roc_auc: (test=0.959) total time=   0.7s\n",
            "[CV 4/5] END bootstrap=True, criterion=entropy, max_depth=None, min_samples_split=4, n_estimators=75, random_state=42; accuracy: (test=0.894) f1_macro: (test=0.893) precision: (test=0.841) recall: (test=0.973) roc_auc: (test=0.955) total time=   0.7s\n",
            "[CV 5/5] END bootstrap=True, criterion=entropy, max_depth=None, min_samples_split=4, n_estimators=75, random_state=42; accuracy: (test=0.900) f1_macro: (test=0.899) precision: (test=0.840) recall: (test=0.989) roc_auc: (test=0.957) total time=   0.7s\n",
            "[CV 1/5] END bootstrap=True, criterion=entropy, max_depth=None, min_samples_split=4, n_estimators=100, random_state=42; accuracy: (test=0.874) f1_macro: (test=0.873) precision: (test=0.839) recall: (test=0.925) roc_auc: (test=0.929) total time=   0.9s\n",
            "[CV 2/5] END bootstrap=True, criterion=entropy, max_depth=None, min_samples_split=4, n_estimators=100, random_state=42; accuracy: (test=0.867) f1_macro: (test=0.866) precision: (test=0.836) recall: (test=0.912) roc_auc: (test=0.930) total time=   0.9s\n",
            "[CV 3/5] END bootstrap=True, criterion=entropy, max_depth=None, min_samples_split=4, n_estimators=100, random_state=42; accuracy: (test=0.898) f1_macro: (test=0.897) precision: (test=0.841) recall: (test=0.981) roc_auc: (test=0.959) total time=   0.9s\n",
            "[CV 4/5] END bootstrap=True, criterion=entropy, max_depth=None, min_samples_split=4, n_estimators=100, random_state=42; accuracy: (test=0.897) f1_macro: (test=0.897) precision: (test=0.844) recall: (test=0.975) roc_auc: (test=0.955) total time=   0.9s\n",
            "[CV 5/5] END bootstrap=True, criterion=entropy, max_depth=None, min_samples_split=4, n_estimators=100, random_state=42; accuracy: (test=0.896) f1_macro: (test=0.895) precision: (test=0.836) recall: (test=0.984) roc_auc: (test=0.957) total time=   0.9s\n",
            "[CV 1/5] END bootstrap=True, criterion=entropy, max_depth=None, min_samples_split=4, n_estimators=125, random_state=42; accuracy: (test=0.874) f1_macro: (test=0.873) precision: (test=0.837) recall: (test=0.928) roc_auc: (test=0.930) total time=   1.1s\n",
            "[CV 2/5] END bootstrap=True, criterion=entropy, max_depth=None, min_samples_split=4, n_estimators=125, random_state=42; accuracy: (test=0.866) f1_macro: (test=0.866) precision: (test=0.836) recall: (test=0.911) roc_auc: (test=0.930) total time=   1.1s\n",
            "[CV 3/5] END bootstrap=True, criterion=entropy, max_depth=None, min_samples_split=4, n_estimators=125, random_state=42; accuracy: (test=0.901) f1_macro: (test=0.901) precision: (test=0.846) recall: (test=0.981) roc_auc: (test=0.959) total time=   1.1s\n",
            "[CV 4/5] END bootstrap=True, criterion=entropy, max_depth=None, min_samples_split=4, n_estimators=125, random_state=42; accuracy: (test=0.895) f1_macro: (test=0.894) precision: (test=0.842) recall: (test=0.972) roc_auc: (test=0.955) total time=   1.1s\n",
            "[CV 5/5] END bootstrap=True, criterion=entropy, max_depth=None, min_samples_split=4, n_estimators=125, random_state=42; accuracy: (test=0.898) f1_macro: (test=0.897) precision: (test=0.838) recall: (test=0.986) roc_auc: (test=0.957) total time=   1.1s\n",
            "[CV 1/5] END bootstrap=True, criterion=entropy, max_depth=None, min_samples_split=6, n_estimators=75, random_state=42; accuracy: (test=0.861) f1_macro: (test=0.861) precision: (test=0.827) recall: (test=0.913) roc_auc: (test=0.921) total time=   0.7s\n",
            "[CV 2/5] END bootstrap=True, criterion=entropy, max_depth=None, min_samples_split=6, n_estimators=75, random_state=42; accuracy: (test=0.856) f1_macro: (test=0.856) precision: (test=0.831) recall: (test=0.894) roc_auc: (test=0.923) total time=   0.7s\n",
            "[CV 3/5] END bootstrap=True, criterion=entropy, max_depth=None, min_samples_split=6, n_estimators=75, random_state=42; accuracy: (test=0.887) f1_macro: (test=0.886) precision: (test=0.840) recall: (test=0.954) roc_auc: (test=0.948) total time=   0.7s\n",
            "[CV 4/5] END bootstrap=True, criterion=entropy, max_depth=None, min_samples_split=6, n_estimators=75, random_state=42; accuracy: (test=0.885) f1_macro: (test=0.885) precision: (test=0.840) recall: (test=0.953) roc_auc: (test=0.947) total time=   0.7s\n",
            "[CV 5/5] END bootstrap=True, criterion=entropy, max_depth=None, min_samples_split=6, n_estimators=75, random_state=42; accuracy: (test=0.883) f1_macro: (test=0.882) precision: (test=0.832) recall: (test=0.960) roc_auc: (test=0.946) total time=   0.7s\n",
            "[CV 1/5] END bootstrap=True, criterion=entropy, max_depth=None, min_samples_split=6, n_estimators=100, random_state=42; accuracy: (test=0.862) f1_macro: (test=0.861) precision: (test=0.826) recall: (test=0.917) roc_auc: (test=0.922) total time=   0.9s\n",
            "[CV 2/5] END bootstrap=True, criterion=entropy, max_depth=None, min_samples_split=6, n_estimators=100, random_state=42; accuracy: (test=0.862) f1_macro: (test=0.861) precision: (test=0.836) recall: (test=0.900) roc_auc: (test=0.923) total time=   0.9s\n",
            "[CV 3/5] END bootstrap=True, criterion=entropy, max_depth=None, min_samples_split=6, n_estimators=100, random_state=42; accuracy: (test=0.886) f1_macro: (test=0.886) precision: (test=0.840) recall: (test=0.954) roc_auc: (test=0.949) total time=   0.9s\n",
            "[CV 4/5] END bootstrap=True, criterion=entropy, max_depth=None, min_samples_split=6, n_estimators=100, random_state=42; accuracy: (test=0.883) f1_macro: (test=0.883) precision: (test=0.835) recall: (test=0.954) roc_auc: (test=0.948) total time=   0.9s\n",
            "[CV 5/5] END bootstrap=True, criterion=entropy, max_depth=None, min_samples_split=6, n_estimators=100, random_state=42; accuracy: (test=0.887) f1_macro: (test=0.886) precision: (test=0.832) recall: (test=0.970) roc_auc: (test=0.946) total time=   0.9s\n",
            "[CV 1/5] END bootstrap=True, criterion=entropy, max_depth=None, min_samples_split=6, n_estimators=125, random_state=42; accuracy: (test=0.864) f1_macro: (test=0.864) precision: (test=0.831) recall: (test=0.916) roc_auc: (test=0.922) total time=   1.1s\n",
            "[CV 2/5] END bootstrap=True, criterion=entropy, max_depth=None, min_samples_split=6, n_estimators=125, random_state=42; accuracy: (test=0.858) f1_macro: (test=0.858) precision: (test=0.835) recall: (test=0.892) roc_auc: (test=0.923) total time=   1.1s\n",
            "[CV 3/5] END bootstrap=True, criterion=entropy, max_depth=None, min_samples_split=6, n_estimators=125, random_state=42; accuracy: (test=0.888) f1_macro: (test=0.887) precision: (test=0.841) recall: (test=0.957) roc_auc: (test=0.949) total time=   1.1s\n",
            "[CV 4/5] END bootstrap=True, criterion=entropy, max_depth=None, min_samples_split=6, n_estimators=125, random_state=42; accuracy: (test=0.887) f1_macro: (test=0.887) precision: (test=0.839) recall: (test=0.959) roc_auc: (test=0.948) total time=   1.1s\n",
            "[CV 5/5] END bootstrap=True, criterion=entropy, max_depth=None, min_samples_split=6, n_estimators=125, random_state=42; accuracy: (test=0.885) f1_macro: (test=0.885) precision: (test=0.831) recall: (test=0.968) roc_auc: (test=0.946) total time=   1.1s\n",
            "[CV 1/5] END bootstrap=True, criterion=entropy, max_depth=5, min_samples_split=2, n_estimators=75, random_state=42; accuracy: (test=0.751) f1_macro: (test=0.751) precision: (test=0.728) recall: (test=0.801) roc_auc: (test=0.837) total time=   0.3s\n",
            "[CV 2/5] END bootstrap=True, criterion=entropy, max_depth=5, min_samples_split=2, n_estimators=75, random_state=42; accuracy: (test=0.768) f1_macro: (test=0.767) precision: (test=0.734) recall: (test=0.842) roc_auc: (test=0.855) total time=   0.3s\n",
            "[CV 3/5] END bootstrap=True, criterion=entropy, max_depth=5, min_samples_split=2, n_estimators=75, random_state=42; accuracy: (test=0.771) f1_macro: (test=0.770) precision: (test=0.745) recall: (test=0.824) roc_auc: (test=0.852) total time=   0.3s\n",
            "[CV 4/5] END bootstrap=True, criterion=entropy, max_depth=5, min_samples_split=2, n_estimators=75, random_state=42; accuracy: (test=0.774) f1_macro: (test=0.773) precision: (test=0.752) recall: (test=0.818) roc_auc: (test=0.857) total time=   0.3s\n",
            "[CV 5/5] END bootstrap=True, criterion=entropy, max_depth=5, min_samples_split=2, n_estimators=75, random_state=42; accuracy: (test=0.766) f1_macro: (test=0.766) precision: (test=0.739) recall: (test=0.825) roc_auc: (test=0.856) total time=   0.3s\n",
            "[CV 1/5] END bootstrap=True, criterion=entropy, max_depth=5, min_samples_split=2, n_estimators=100, random_state=42; accuracy: (test=0.750) f1_macro: (test=0.749) precision: (test=0.728) recall: (test=0.798) roc_auc: (test=0.837) total time=   0.4s\n",
            "[CV 2/5] END bootstrap=True, criterion=entropy, max_depth=5, min_samples_split=2, n_estimators=100, random_state=42; accuracy: (test=0.768) f1_macro: (test=0.767) precision: (test=0.733) recall: (test=0.843) roc_auc: (test=0.855) total time=   0.4s\n",
            "[CV 3/5] END bootstrap=True, criterion=entropy, max_depth=5, min_samples_split=2, n_estimators=100, random_state=42; accuracy: (test=0.771) f1_macro: (test=0.770) precision: (test=0.744) recall: (test=0.826) roc_auc: (test=0.851) total time=   0.4s\n",
            "[CV 4/5] END bootstrap=True, criterion=entropy, max_depth=5, min_samples_split=2, n_estimators=100, random_state=42; accuracy: (test=0.773) f1_macro: (test=0.773) precision: (test=0.750) recall: (test=0.820) roc_auc: (test=0.857) total time=   0.4s\n",
            "[CV 5/5] END bootstrap=True, criterion=entropy, max_depth=5, min_samples_split=2, n_estimators=100, random_state=42; accuracy: (test=0.765) f1_macro: (test=0.764) precision: (test=0.736) recall: (test=0.827) roc_auc: (test=0.855) total time=   0.4s\n",
            "[CV 1/5] END bootstrap=True, criterion=entropy, max_depth=5, min_samples_split=2, n_estimators=125, random_state=42; accuracy: (test=0.751) f1_macro: (test=0.750) precision: (test=0.728) recall: (test=0.801) roc_auc: (test=0.837) total time=   0.5s\n",
            "[CV 2/5] END bootstrap=True, criterion=entropy, max_depth=5, min_samples_split=2, n_estimators=125, random_state=42; accuracy: (test=0.770) f1_macro: (test=0.769) precision: (test=0.736) recall: (test=0.843) roc_auc: (test=0.854) total time=   0.5s\n",
            "[CV 3/5] END bootstrap=True, criterion=entropy, max_depth=5, min_samples_split=2, n_estimators=125, random_state=42; accuracy: (test=0.770) f1_macro: (test=0.770) precision: (test=0.744) recall: (test=0.824) roc_auc: (test=0.851) total time=   0.6s\n",
            "[CV 4/5] END bootstrap=True, criterion=entropy, max_depth=5, min_samples_split=2, n_estimators=125, random_state=42; accuracy: (test=0.774) f1_macro: (test=0.773) precision: (test=0.750) recall: (test=0.822) roc_auc: (test=0.857) total time=   0.5s\n",
            "[CV 5/5] END bootstrap=True, criterion=entropy, max_depth=5, min_samples_split=2, n_estimators=125, random_state=42; accuracy: (test=0.765) f1_macro: (test=0.764) precision: (test=0.737) recall: (test=0.826) roc_auc: (test=0.855) total time=   0.5s\n",
            "[CV 1/5] END bootstrap=True, criterion=entropy, max_depth=5, min_samples_split=4, n_estimators=75, random_state=42; accuracy: (test=0.751) f1_macro: (test=0.751) precision: (test=0.728) recall: (test=0.801) roc_auc: (test=0.837) total time=   0.3s\n",
            "[CV 2/5] END bootstrap=True, criterion=entropy, max_depth=5, min_samples_split=4, n_estimators=75, random_state=42; accuracy: (test=0.768) f1_macro: (test=0.767) precision: (test=0.734) recall: (test=0.842) roc_auc: (test=0.855) total time=   0.3s\n",
            "[CV 3/5] END bootstrap=True, criterion=entropy, max_depth=5, min_samples_split=4, n_estimators=75, random_state=42; accuracy: (test=0.771) f1_macro: (test=0.770) precision: (test=0.745) recall: (test=0.824) roc_auc: (test=0.852) total time=   0.3s\n",
            "[CV 4/5] END bootstrap=True, criterion=entropy, max_depth=5, min_samples_split=4, n_estimators=75, random_state=42; accuracy: (test=0.774) f1_macro: (test=0.773) precision: (test=0.752) recall: (test=0.818) roc_auc: (test=0.857) total time=   0.3s\n",
            "[CV 5/5] END bootstrap=True, criterion=entropy, max_depth=5, min_samples_split=4, n_estimators=75, random_state=42; accuracy: (test=0.766) f1_macro: (test=0.766) precision: (test=0.739) recall: (test=0.825) roc_auc: (test=0.856) total time=   0.3s\n",
            "[CV 1/5] END bootstrap=True, criterion=entropy, max_depth=5, min_samples_split=4, n_estimators=100, random_state=42; accuracy: (test=0.751) f1_macro: (test=0.750) precision: (test=0.729) recall: (test=0.798) roc_auc: (test=0.837) total time=   0.4s\n",
            "[CV 2/5] END bootstrap=True, criterion=entropy, max_depth=5, min_samples_split=4, n_estimators=100, random_state=42; accuracy: (test=0.768) f1_macro: (test=0.767) precision: (test=0.733) recall: (test=0.843) roc_auc: (test=0.855) total time=   0.4s\n",
            "[CV 3/5] END bootstrap=True, criterion=entropy, max_depth=5, min_samples_split=4, n_estimators=100, random_state=42; accuracy: (test=0.771) f1_macro: (test=0.770) precision: (test=0.744) recall: (test=0.826) roc_auc: (test=0.851) total time=   0.4s\n",
            "[CV 4/5] END bootstrap=True, criterion=entropy, max_depth=5, min_samples_split=4, n_estimators=100, random_state=42; accuracy: (test=0.773) f1_macro: (test=0.773) precision: (test=0.750) recall: (test=0.820) roc_auc: (test=0.857) total time=   0.4s\n",
            "[CV 5/5] END bootstrap=True, criterion=entropy, max_depth=5, min_samples_split=4, n_estimators=100, random_state=42; accuracy: (test=0.765) f1_macro: (test=0.764) precision: (test=0.736) recall: (test=0.827) roc_auc: (test=0.855) total time=   0.4s\n",
            "[CV 1/5] END bootstrap=True, criterion=entropy, max_depth=5, min_samples_split=4, n_estimators=125, random_state=42; accuracy: (test=0.752) f1_macro: (test=0.751) precision: (test=0.728) recall: (test=0.803) roc_auc: (test=0.837) total time=   0.5s\n",
            "[CV 2/5] END bootstrap=True, criterion=entropy, max_depth=5, min_samples_split=4, n_estimators=125, random_state=42; accuracy: (test=0.770) f1_macro: (test=0.769) precision: (test=0.735) recall: (test=0.843) roc_auc: (test=0.854) total time=   0.5s\n",
            "[CV 3/5] END bootstrap=True, criterion=entropy, max_depth=5, min_samples_split=4, n_estimators=125, random_state=42; accuracy: (test=0.770) f1_macro: (test=0.770) precision: (test=0.744) recall: (test=0.824) roc_auc: (test=0.851) total time=   0.5s\n",
            "[CV 4/5] END bootstrap=True, criterion=entropy, max_depth=5, min_samples_split=4, n_estimators=125, random_state=42; accuracy: (test=0.774) f1_macro: (test=0.773) precision: (test=0.750) recall: (test=0.822) roc_auc: (test=0.857) total time=   0.5s\n",
            "[CV 5/5] END bootstrap=True, criterion=entropy, max_depth=5, min_samples_split=4, n_estimators=125, random_state=42; accuracy: (test=0.765) f1_macro: (test=0.764) precision: (test=0.737) recall: (test=0.826) roc_auc: (test=0.855) total time=   0.5s\n",
            "[CV 1/5] END bootstrap=True, criterion=entropy, max_depth=5, min_samples_split=6, n_estimators=75, random_state=42; accuracy: (test=0.751) f1_macro: (test=0.750) precision: (test=0.728) recall: (test=0.801) roc_auc: (test=0.837) total time=   0.3s\n",
            "[CV 2/5] END bootstrap=True, criterion=entropy, max_depth=5, min_samples_split=6, n_estimators=75, random_state=42; accuracy: (test=0.768) f1_macro: (test=0.766) precision: (test=0.733) recall: (test=0.842) roc_auc: (test=0.855) total time=   0.3s\n",
            "[CV 3/5] END bootstrap=True, criterion=entropy, max_depth=5, min_samples_split=6, n_estimators=75, random_state=42; accuracy: (test=0.772) f1_macro: (test=0.771) precision: (test=0.746) recall: (test=0.824) roc_auc: (test=0.852) total time=   0.3s\n",
            "[CV 4/5] END bootstrap=True, criterion=entropy, max_depth=5, min_samples_split=6, n_estimators=75, random_state=42; accuracy: (test=0.775) f1_macro: (test=0.774) precision: (test=0.753) recall: (test=0.819) roc_auc: (test=0.857) total time=   0.3s\n",
            "[CV 5/5] END bootstrap=True, criterion=entropy, max_depth=5, min_samples_split=6, n_estimators=75, random_state=42; accuracy: (test=0.766) f1_macro: (test=0.766) precision: (test=0.738) recall: (test=0.826) roc_auc: (test=0.856) total time=   0.3s\n",
            "[CV 1/5] END bootstrap=True, criterion=entropy, max_depth=5, min_samples_split=6, n_estimators=100, random_state=42; accuracy: (test=0.751) f1_macro: (test=0.750) precision: (test=0.728) recall: (test=0.800) roc_auc: (test=0.837) total time=   0.4s\n",
            "[CV 2/5] END bootstrap=True, criterion=entropy, max_depth=5, min_samples_split=6, n_estimators=100, random_state=42; accuracy: (test=0.769) f1_macro: (test=0.767) precision: (test=0.734) recall: (test=0.843) roc_auc: (test=0.855) total time=   0.4s\n",
            "[CV 3/5] END bootstrap=True, criterion=entropy, max_depth=5, min_samples_split=6, n_estimators=100, random_state=42; accuracy: (test=0.771) f1_macro: (test=0.770) precision: (test=0.743) recall: (test=0.828) roc_auc: (test=0.851) total time=   0.4s\n",
            "[CV 4/5] END bootstrap=True, criterion=entropy, max_depth=5, min_samples_split=6, n_estimators=100, random_state=42; accuracy: (test=0.770) f1_macro: (test=0.770) precision: (test=0.750) recall: (test=0.812) roc_auc: (test=0.856) total time=   0.4s\n",
            "[CV 5/5] END bootstrap=True, criterion=entropy, max_depth=5, min_samples_split=6, n_estimators=100, random_state=42; accuracy: (test=0.767) f1_macro: (test=0.766) precision: (test=0.737) recall: (test=0.831) roc_auc: (test=0.855) total time=   0.4s\n",
            "[CV 1/5] END bootstrap=True, criterion=entropy, max_depth=5, min_samples_split=6, n_estimators=125, random_state=42; accuracy: (test=0.752) f1_macro: (test=0.751) precision: (test=0.728) recall: (test=0.803) roc_auc: (test=0.837) total time=   0.5s\n",
            "[CV 2/5] END bootstrap=True, criterion=entropy, max_depth=5, min_samples_split=6, n_estimators=125, random_state=42; accuracy: (test=0.771) f1_macro: (test=0.770) precision: (test=0.737) recall: (test=0.843) roc_auc: (test=0.854) total time=   0.5s\n",
            "[CV 3/5] END bootstrap=True, criterion=entropy, max_depth=5, min_samples_split=6, n_estimators=125, random_state=42; accuracy: (test=0.770) f1_macro: (test=0.770) precision: (test=0.744) recall: (test=0.824) roc_auc: (test=0.851) total time=   0.5s\n",
            "[CV 4/5] END bootstrap=True, criterion=entropy, max_depth=5, min_samples_split=6, n_estimators=125, random_state=42; accuracy: (test=0.772) f1_macro: (test=0.771) precision: (test=0.749) recall: (test=0.818) roc_auc: (test=0.857) total time=   0.5s\n",
            "[CV 5/5] END bootstrap=True, criterion=entropy, max_depth=5, min_samples_split=6, n_estimators=125, random_state=42; accuracy: (test=0.764) f1_macro: (test=0.763) precision: (test=0.736) recall: (test=0.825) roc_auc: (test=0.855) total time=   0.5s\n",
            "[CV 1/5] END bootstrap=True, criterion=entropy, max_depth=15, min_samples_split=2, n_estimators=75, random_state=42; accuracy: (test=0.861) f1_macro: (test=0.860) precision: (test=0.810) recall: (test=0.943) roc_auc: (test=0.931) total time=   0.6s\n",
            "[CV 2/5] END bootstrap=True, criterion=entropy, max_depth=15, min_samples_split=2, n_estimators=75, random_state=42; accuracy: (test=0.871) f1_macro: (test=0.870) precision: (test=0.831) recall: (test=0.930) roc_auc: (test=0.930) total time=   0.6s\n",
            "[CV 3/5] END bootstrap=True, criterion=entropy, max_depth=15, min_samples_split=2, n_estimators=75, random_state=42; accuracy: (test=0.896) f1_macro: (test=0.895) precision: (test=0.834) recall: (test=0.989) roc_auc: (test=0.956) total time=   0.6s\n",
            "[CV 4/5] END bootstrap=True, criterion=entropy, max_depth=15, min_samples_split=2, n_estimators=75, random_state=42; accuracy: (test=0.898) f1_macro: (test=0.897) precision: (test=0.834) recall: (test=0.993) roc_auc: (test=0.954) total time=   0.6s\n",
            "[CV 5/5] END bootstrap=True, criterion=entropy, max_depth=15, min_samples_split=2, n_estimators=75, random_state=42; accuracy: (test=0.894) f1_macro: (test=0.893) precision: (test=0.828) recall: (test=0.994) roc_auc: (test=0.956) total time=   0.6s\n",
            "[CV 1/5] END bootstrap=True, criterion=entropy, max_depth=15, min_samples_split=2, n_estimators=100, random_state=42; accuracy: (test=0.865) f1_macro: (test=0.864) precision: (test=0.815) recall: (test=0.945) roc_auc: (test=0.931) total time=   0.9s\n",
            "[CV 2/5] END bootstrap=True, criterion=entropy, max_depth=15, min_samples_split=2, n_estimators=100, random_state=42; accuracy: (test=0.866) f1_macro: (test=0.866) precision: (test=0.826) recall: (test=0.928) roc_auc: (test=0.931) total time=   0.8s\n",
            "[CV 3/5] END bootstrap=True, criterion=entropy, max_depth=15, min_samples_split=2, n_estimators=100, random_state=42; accuracy: (test=0.898) f1_macro: (test=0.897) precision: (test=0.834) recall: (test=0.993) roc_auc: (test=0.956) total time=   0.8s\n",
            "[CV 4/5] END bootstrap=True, criterion=entropy, max_depth=15, min_samples_split=2, n_estimators=100, random_state=42; accuracy: (test=0.897) f1_macro: (test=0.896) precision: (test=0.835) recall: (test=0.989) roc_auc: (test=0.955) total time=   0.9s\n",
            "[CV 5/5] END bootstrap=True, criterion=entropy, max_depth=15, min_samples_split=2, n_estimators=100, random_state=42; accuracy: (test=0.895) f1_macro: (test=0.894) precision: (test=0.829) recall: (test=0.995) roc_auc: (test=0.956) total time=   0.9s\n",
            "[CV 1/5] END bootstrap=True, criterion=entropy, max_depth=15, min_samples_split=2, n_estimators=125, random_state=42; accuracy: (test=0.865) f1_macro: (test=0.864) precision: (test=0.816) recall: (test=0.943) roc_auc: (test=0.932) total time=   1.1s\n",
            "[CV 2/5] END bootstrap=True, criterion=entropy, max_depth=15, min_samples_split=2, n_estimators=125, random_state=42; accuracy: (test=0.866) f1_macro: (test=0.866) precision: (test=0.824) recall: (test=0.932) roc_auc: (test=0.931) total time=   1.0s\n",
            "[CV 3/5] END bootstrap=True, criterion=entropy, max_depth=15, min_samples_split=2, n_estimators=125, random_state=42; accuracy: (test=0.900) f1_macro: (test=0.899) precision: (test=0.835) recall: (test=0.995) roc_auc: (test=0.956) total time=   1.1s\n",
            "[CV 4/5] END bootstrap=True, criterion=entropy, max_depth=15, min_samples_split=2, n_estimators=125, random_state=42; accuracy: (test=0.897) f1_macro: (test=0.896) precision: (test=0.835) recall: (test=0.989) roc_auc: (test=0.954) total time=   1.1s\n",
            "[CV 5/5] END bootstrap=True, criterion=entropy, max_depth=15, min_samples_split=2, n_estimators=125, random_state=42; accuracy: (test=0.896) f1_macro: (test=0.895) precision: (test=0.830) recall: (test=0.995) roc_auc: (test=0.957) total time=   1.1s\n",
            "[CV 1/5] END bootstrap=True, criterion=entropy, max_depth=15, min_samples_split=4, n_estimators=75, random_state=42; accuracy: (test=0.864) f1_macro: (test=0.863) precision: (test=0.820) recall: (test=0.932) roc_auc: (test=0.925) total time=   0.6s\n",
            "[CV 2/5] END bootstrap=True, criterion=entropy, max_depth=15, min_samples_split=4, n_estimators=75, random_state=42; accuracy: (test=0.855) f1_macro: (test=0.854) precision: (test=0.823) recall: (test=0.903) roc_auc: (test=0.923) total time=   0.6s\n",
            "[CV 3/5] END bootstrap=True, criterion=entropy, max_depth=15, min_samples_split=4, n_estimators=75, random_state=42; accuracy: (test=0.888) f1_macro: (test=0.888) precision: (test=0.835) recall: (test=0.968) roc_auc: (test=0.949) total time=   0.6s\n",
            "[CV 4/5] END bootstrap=True, criterion=entropy, max_depth=15, min_samples_split=4, n_estimators=75, random_state=42; accuracy: (test=0.887) f1_macro: (test=0.886) precision: (test=0.833) recall: (test=0.968) roc_auc: (test=0.945) total time=   0.6s\n",
            "[CV 5/5] END bootstrap=True, criterion=entropy, max_depth=15, min_samples_split=4, n_estimators=75, random_state=42; accuracy: (test=0.885) f1_macro: (test=0.884) precision: (test=0.825) recall: (test=0.978) roc_auc: (test=0.947) total time=   0.6s\n",
            "[CV 1/5] END bootstrap=True, criterion=entropy, max_depth=15, min_samples_split=4, n_estimators=100, random_state=42; accuracy: (test=0.864) f1_macro: (test=0.864) precision: (test=0.821) recall: (test=0.933) roc_auc: (test=0.925) total time=   0.8s\n",
            "[CV 2/5] END bootstrap=True, criterion=entropy, max_depth=15, min_samples_split=4, n_estimators=100, random_state=42; accuracy: (test=0.862) f1_macro: (test=0.861) precision: (test=0.828) recall: (test=0.912) roc_auc: (test=0.924) total time=   0.8s\n",
            "[CV 3/5] END bootstrap=True, criterion=entropy, max_depth=15, min_samples_split=4, n_estimators=100, random_state=42; accuracy: (test=0.889) f1_macro: (test=0.889) precision: (test=0.837) recall: (test=0.967) roc_auc: (test=0.950) total time=   0.9s\n",
            "[CV 4/5] END bootstrap=True, criterion=entropy, max_depth=15, min_samples_split=4, n_estimators=100, random_state=42; accuracy: (test=0.887) f1_macro: (test=0.886) precision: (test=0.833) recall: (test=0.967) roc_auc: (test=0.945) total time=   0.9s\n",
            "[CV 5/5] END bootstrap=True, criterion=entropy, max_depth=15, min_samples_split=4, n_estimators=100, random_state=42; accuracy: (test=0.888) f1_macro: (test=0.887) precision: (test=0.827) recall: (test=0.983) roc_auc: (test=0.947) total time=   0.9s\n",
            "[CV 1/5] END bootstrap=True, criterion=entropy, max_depth=15, min_samples_split=4, n_estimators=125, random_state=42; accuracy: (test=0.865) f1_macro: (test=0.864) precision: (test=0.821) recall: (test=0.934) roc_auc: (test=0.925) total time=   1.0s\n",
            "[CV 2/5] END bootstrap=True, criterion=entropy, max_depth=15, min_samples_split=4, n_estimators=125, random_state=42; accuracy: (test=0.858) f1_macro: (test=0.857) precision: (test=0.824) recall: (test=0.910) roc_auc: (test=0.924) total time=   1.0s\n",
            "[CV 3/5] END bootstrap=True, criterion=entropy, max_depth=15, min_samples_split=4, n_estimators=125, random_state=42; accuracy: (test=0.887) f1_macro: (test=0.886) precision: (test=0.833) recall: (test=0.968) roc_auc: (test=0.949) total time=   1.1s\n",
            "[CV 4/5] END bootstrap=True, criterion=entropy, max_depth=15, min_samples_split=4, n_estimators=125, random_state=42; accuracy: (test=0.886) f1_macro: (test=0.885) precision: (test=0.833) recall: (test=0.966) roc_auc: (test=0.946) total time=   1.1s\n",
            "[CV 5/5] END bootstrap=True, criterion=entropy, max_depth=15, min_samples_split=4, n_estimators=125, random_state=42; accuracy: (test=0.888) f1_macro: (test=0.887) precision: (test=0.829) recall: (test=0.978) roc_auc: (test=0.947) total time=   1.1s\n",
            "[CV 1/5] END bootstrap=True, criterion=entropy, max_depth=15, min_samples_split=6, n_estimators=75, random_state=42; accuracy: (test=0.854) f1_macro: (test=0.853) precision: (test=0.813) recall: (test=0.919) roc_auc: (test=0.917) total time=   0.6s\n",
            "[CV 2/5] END bootstrap=True, criterion=entropy, max_depth=15, min_samples_split=6, n_estimators=75, random_state=42; accuracy: (test=0.847) f1_macro: (test=0.847) precision: (test=0.819) recall: (test=0.892) roc_auc: (test=0.917) total time=   0.6s\n",
            "[CV 3/5] END bootstrap=True, criterion=entropy, max_depth=15, min_samples_split=6, n_estimators=75, random_state=42; accuracy: (test=0.883) f1_macro: (test=0.882) precision: (test=0.833) recall: (test=0.958) roc_auc: (test=0.939) total time=   0.6s\n",
            "[CV 4/5] END bootstrap=True, criterion=entropy, max_depth=15, min_samples_split=6, n_estimators=75, random_state=42; accuracy: (test=0.878) f1_macro: (test=0.877) precision: (test=0.829) recall: (test=0.953) roc_auc: (test=0.938) total time=   0.6s\n",
            "[CV 5/5] END bootstrap=True, criterion=entropy, max_depth=15, min_samples_split=6, n_estimators=75, random_state=42; accuracy: (test=0.880) f1_macro: (test=0.879) precision: (test=0.824) recall: (test=0.968) roc_auc: (test=0.939) total time=   0.6s\n",
            "[CV 1/5] END bootstrap=True, criterion=entropy, max_depth=15, min_samples_split=6, n_estimators=100, random_state=42; accuracy: (test=0.855) f1_macro: (test=0.854) precision: (test=0.815) recall: (test=0.918) roc_auc: (test=0.917) total time=   0.8s\n",
            "[CV 2/5] END bootstrap=True, criterion=entropy, max_depth=15, min_samples_split=6, n_estimators=100, random_state=42; accuracy: (test=0.851) f1_macro: (test=0.851) precision: (test=0.822) recall: (test=0.897) roc_auc: (test=0.918) total time=   0.8s\n",
            "[CV 3/5] END bootstrap=True, criterion=entropy, max_depth=15, min_samples_split=6, n_estimators=100, random_state=42; accuracy: (test=0.884) f1_macro: (test=0.883) precision: (test=0.834) recall: (test=0.958) roc_auc: (test=0.940) total time=   0.8s\n",
            "[CV 4/5] END bootstrap=True, criterion=entropy, max_depth=15, min_samples_split=6, n_estimators=100, random_state=42; accuracy: (test=0.878) f1_macro: (test=0.877) precision: (test=0.829) recall: (test=0.953) roc_auc: (test=0.939) total time=   0.8s\n",
            "[CV 5/5] END bootstrap=True, criterion=entropy, max_depth=15, min_samples_split=6, n_estimators=100, random_state=42; accuracy: (test=0.880) f1_macro: (test=0.879) precision: (test=0.823) recall: (test=0.969) roc_auc: (test=0.940) total time=   0.8s\n",
            "[CV 1/5] END bootstrap=True, criterion=entropy, max_depth=15, min_samples_split=6, n_estimators=125, random_state=42; accuracy: (test=0.854) f1_macro: (test=0.853) precision: (test=0.814) recall: (test=0.917) roc_auc: (test=0.918) total time=   1.0s\n",
            "[CV 2/5] END bootstrap=True, criterion=entropy, max_depth=15, min_samples_split=6, n_estimators=125, random_state=42; accuracy: (test=0.853) f1_macro: (test=0.853) precision: (test=0.823) recall: (test=0.900) roc_auc: (test=0.918) total time=   1.0s\n",
            "[CV 3/5] END bootstrap=True, criterion=entropy, max_depth=15, min_samples_split=6, n_estimators=125, random_state=42; accuracy: (test=0.881) f1_macro: (test=0.881) precision: (test=0.832) recall: (test=0.956) roc_auc: (test=0.940) total time=   1.0s\n",
            "[CV 4/5] END bootstrap=True, criterion=entropy, max_depth=15, min_samples_split=6, n_estimators=125, random_state=42; accuracy: (test=0.877) f1_macro: (test=0.876) precision: (test=0.828) recall: (test=0.952) roc_auc: (test=0.939) total time=   1.0s\n",
            "[CV 5/5] END bootstrap=True, criterion=entropy, max_depth=15, min_samples_split=6, n_estimators=125, random_state=42; accuracy: (test=0.880) f1_macro: (test=0.879) precision: (test=0.824) recall: (test=0.967) roc_auc: (test=0.940) total time=   1.0s\n",
            "[CV 1/5] END bootstrap=True, criterion=entropy, max_depth=25, min_samples_split=2, n_estimators=75, random_state=42; accuracy: (test=0.870) f1_macro: (test=0.870) precision: (test=0.828) recall: (test=0.935) roc_auc: (test=0.939) total time=   0.7s\n",
            "[CV 2/5] END bootstrap=True, criterion=entropy, max_depth=25, min_samples_split=2, n_estimators=75, random_state=42; accuracy: (test=0.876) f1_macro: (test=0.876) precision: (test=0.843) recall: (test=0.924) roc_auc: (test=0.939) total time=   0.7s\n",
            "[CV 3/5] END bootstrap=True, criterion=entropy, max_depth=25, min_samples_split=2, n_estimators=75, random_state=42; accuracy: (test=0.903) f1_macro: (test=0.902) precision: (test=0.840) recall: (test=0.994) roc_auc: (test=0.970) total time=   0.7s\n",
            "[CV 4/5] END bootstrap=True, criterion=entropy, max_depth=25, min_samples_split=2, n_estimators=75, random_state=42; accuracy: (test=0.902) f1_macro: (test=0.901) precision: (test=0.841) recall: (test=0.991) roc_auc: (test=0.965) total time=   0.7s\n",
            "[CV 5/5] END bootstrap=True, criterion=entropy, max_depth=25, min_samples_split=2, n_estimators=75, random_state=42; accuracy: (test=0.904) f1_macro: (test=0.903) precision: (test=0.841) recall: (test=0.997) roc_auc: (test=0.970) total time=   0.7s\n",
            "[CV 1/5] END bootstrap=True, criterion=entropy, max_depth=25, min_samples_split=2, n_estimators=100, random_state=42; accuracy: (test=0.873) f1_macro: (test=0.872) precision: (test=0.831) recall: (test=0.936) roc_auc: (test=0.939) total time=   0.9s\n",
            "[CV 2/5] END bootstrap=True, criterion=entropy, max_depth=25, min_samples_split=2, n_estimators=100, random_state=42; accuracy: (test=0.876) f1_macro: (test=0.876) precision: (test=0.844) recall: (test=0.924) roc_auc: (test=0.940) total time=   0.9s\n",
            "[CV 3/5] END bootstrap=True, criterion=entropy, max_depth=25, min_samples_split=2, n_estimators=100, random_state=42; accuracy: (test=0.906) f1_macro: (test=0.905) precision: (test=0.844) recall: (test=0.997) roc_auc: (test=0.969) total time=   0.9s\n",
            "[CV 4/5] END bootstrap=True, criterion=entropy, max_depth=25, min_samples_split=2, n_estimators=100, random_state=42; accuracy: (test=0.903) f1_macro: (test=0.902) precision: (test=0.842) recall: (test=0.991) roc_auc: (test=0.965) total time=   0.9s\n",
            "[CV 5/5] END bootstrap=True, criterion=entropy, max_depth=25, min_samples_split=2, n_estimators=100, random_state=42; accuracy: (test=0.906) f1_macro: (test=0.905) precision: (test=0.844) recall: (test=0.997) roc_auc: (test=0.970) total time=   0.9s\n",
            "[CV 1/5] END bootstrap=True, criterion=entropy, max_depth=25, min_samples_split=2, n_estimators=125, random_state=42; accuracy: (test=0.875) f1_macro: (test=0.874) precision: (test=0.833) recall: (test=0.937) roc_auc: (test=0.939) total time=   1.1s\n",
            "[CV 2/5] END bootstrap=True, criterion=entropy, max_depth=25, min_samples_split=2, n_estimators=125, random_state=42; accuracy: (test=0.876) f1_macro: (test=0.876) precision: (test=0.843) recall: (test=0.924) roc_auc: (test=0.940) total time=   1.1s\n",
            "[CV 3/5] END bootstrap=True, criterion=entropy, max_depth=25, min_samples_split=2, n_estimators=125, random_state=42; accuracy: (test=0.907) f1_macro: (test=0.906) precision: (test=0.844) recall: (test=0.997) roc_auc: (test=0.969) total time=   1.1s\n",
            "[CV 4/5] END bootstrap=True, criterion=entropy, max_depth=25, min_samples_split=2, n_estimators=125, random_state=42; accuracy: (test=0.903) f1_macro: (test=0.902) precision: (test=0.842) recall: (test=0.991) roc_auc: (test=0.966) total time=   1.1s\n",
            "[CV 5/5] END bootstrap=True, criterion=entropy, max_depth=25, min_samples_split=2, n_estimators=125, random_state=42; accuracy: (test=0.906) f1_macro: (test=0.905) precision: (test=0.844) recall: (test=0.997) roc_auc: (test=0.970) total time=   1.2s\n",
            "[CV 1/5] END bootstrap=True, criterion=entropy, max_depth=25, min_samples_split=4, n_estimators=75, random_state=42; accuracy: (test=0.869) f1_macro: (test=0.869) precision: (test=0.831) recall: (test=0.926) roc_auc: (test=0.930) total time=   0.7s\n",
            "[CV 2/5] END bootstrap=True, criterion=entropy, max_depth=25, min_samples_split=4, n_estimators=75, random_state=42; accuracy: (test=0.867) f1_macro: (test=0.867) precision: (test=0.839) recall: (test=0.909) roc_auc: (test=0.931) total time=   0.7s\n",
            "[CV 3/5] END bootstrap=True, criterion=entropy, max_depth=25, min_samples_split=4, n_estimators=75, random_state=42; accuracy: (test=0.897) f1_macro: (test=0.897) precision: (test=0.843) recall: (test=0.977) roc_auc: (test=0.958) total time=   0.7s\n",
            "[CV 4/5] END bootstrap=True, criterion=entropy, max_depth=25, min_samples_split=4, n_estimators=75, random_state=42; accuracy: (test=0.896) f1_macro: (test=0.896) precision: (test=0.842) recall: (test=0.976) roc_auc: (test=0.953) total time=   0.7s\n",
            "[CV 5/5] END bootstrap=True, criterion=entropy, max_depth=25, min_samples_split=4, n_estimators=75, random_state=42; accuracy: (test=0.898) f1_macro: (test=0.897) precision: (test=0.838) recall: (test=0.986) roc_auc: (test=0.957) total time=   0.7s\n",
            "[CV 1/5] END bootstrap=True, criterion=entropy, max_depth=25, min_samples_split=4, n_estimators=100, random_state=42; accuracy: (test=0.872) f1_macro: (test=0.872) precision: (test=0.836) recall: (test=0.926) roc_auc: (test=0.929) total time=   0.9s\n",
            "[CV 2/5] END bootstrap=True, criterion=entropy, max_depth=25, min_samples_split=4, n_estimators=100, random_state=42; accuracy: (test=0.866) f1_macro: (test=0.865) precision: (test=0.837) recall: (test=0.908) roc_auc: (test=0.931) total time=   0.9s\n",
            "[CV 3/5] END bootstrap=True, criterion=entropy, max_depth=25, min_samples_split=4, n_estimators=100, random_state=42; accuracy: (test=0.897) f1_macro: (test=0.896) precision: (test=0.842) recall: (test=0.977) roc_auc: (test=0.958) total time=   0.9s\n",
            "[CV 4/5] END bootstrap=True, criterion=entropy, max_depth=25, min_samples_split=4, n_estimators=100, random_state=42; accuracy: (test=0.896) f1_macro: (test=0.895) precision: (test=0.842) recall: (test=0.975) roc_auc: (test=0.954) total time=   0.9s\n",
            "[CV 5/5] END bootstrap=True, criterion=entropy, max_depth=25, min_samples_split=4, n_estimators=100, random_state=42; accuracy: (test=0.895) f1_macro: (test=0.894) precision: (test=0.836) recall: (test=0.983) roc_auc: (test=0.956) total time=   0.9s\n",
            "[CV 1/5] END bootstrap=True, criterion=entropy, max_depth=25, min_samples_split=4, n_estimators=125, random_state=42; accuracy: (test=0.873) f1_macro: (test=0.873) precision: (test=0.836) recall: (test=0.928) roc_auc: (test=0.930) total time=   1.1s\n",
            "[CV 2/5] END bootstrap=True, criterion=entropy, max_depth=25, min_samples_split=4, n_estimators=125, random_state=42; accuracy: (test=0.866) f1_macro: (test=0.865) precision: (test=0.836) recall: (test=0.909) roc_auc: (test=0.930) total time=   1.1s\n",
            "[CV 3/5] END bootstrap=True, criterion=entropy, max_depth=25, min_samples_split=4, n_estimators=125, random_state=42; accuracy: (test=0.897) f1_macro: (test=0.897) precision: (test=0.842) recall: (test=0.978) roc_auc: (test=0.958) total time=   1.1s\n",
            "[CV 4/5] END bootstrap=True, criterion=entropy, max_depth=25, min_samples_split=4, n_estimators=125, random_state=42; accuracy: (test=0.897) f1_macro: (test=0.896) precision: (test=0.843) recall: (test=0.976) roc_auc: (test=0.955) total time=   1.1s\n",
            "[CV 5/5] END bootstrap=True, criterion=entropy, max_depth=25, min_samples_split=4, n_estimators=125, random_state=42; accuracy: (test=0.899) f1_macro: (test=0.898) precision: (test=0.840) recall: (test=0.984) roc_auc: (test=0.957) total time=   1.1s\n",
            "[CV 1/5] END bootstrap=True, criterion=entropy, max_depth=25, min_samples_split=6, n_estimators=75, random_state=42; accuracy: (test=0.865) f1_macro: (test=0.865) precision: (test=0.832) recall: (test=0.915) roc_auc: (test=0.921) total time=   0.7s\n",
            "[CV 2/5] END bootstrap=True, criterion=entropy, max_depth=25, min_samples_split=6, n_estimators=75, random_state=42; accuracy: (test=0.858) f1_macro: (test=0.858) precision: (test=0.832) recall: (test=0.897) roc_auc: (test=0.922) total time=   0.7s\n",
            "[CV 3/5] END bootstrap=True, criterion=entropy, max_depth=25, min_samples_split=6, n_estimators=75, random_state=42; accuracy: (test=0.885) f1_macro: (test=0.884) precision: (test=0.837) recall: (test=0.956) roc_auc: (test=0.948) total time=   0.7s\n",
            "[CV 4/5] END bootstrap=True, criterion=entropy, max_depth=25, min_samples_split=6, n_estimators=75, random_state=42; accuracy: (test=0.884) f1_macro: (test=0.884) precision: (test=0.837) recall: (test=0.954) roc_auc: (test=0.946) total time=   0.7s\n",
            "[CV 5/5] END bootstrap=True, criterion=entropy, max_depth=25, min_samples_split=6, n_estimators=75, random_state=42; accuracy: (test=0.889) f1_macro: (test=0.888) precision: (test=0.836) recall: (test=0.967) roc_auc: (test=0.946) total time=   0.7s\n",
            "[CV 1/5] END bootstrap=True, criterion=entropy, max_depth=25, min_samples_split=6, n_estimators=100, random_state=42; accuracy: (test=0.863) f1_macro: (test=0.862) precision: (test=0.829) recall: (test=0.915) roc_auc: (test=0.922) total time=   0.9s\n",
            "[CV 2/5] END bootstrap=True, criterion=entropy, max_depth=25, min_samples_split=6, n_estimators=100, random_state=42; accuracy: (test=0.859) f1_macro: (test=0.858) precision: (test=0.831) recall: (test=0.901) roc_auc: (test=0.922) total time=   0.9s\n",
            "[CV 3/5] END bootstrap=True, criterion=entropy, max_depth=25, min_samples_split=6, n_estimators=100, random_state=42; accuracy: (test=0.888) f1_macro: (test=0.888) precision: (test=0.839) recall: (test=0.960) roc_auc: (test=0.949) total time=   0.9s\n",
            "[CV 4/5] END bootstrap=True, criterion=entropy, max_depth=25, min_samples_split=6, n_estimators=100, random_state=42; accuracy: (test=0.887) f1_macro: (test=0.886) precision: (test=0.837) recall: (test=0.960) roc_auc: (test=0.946) total time=   0.9s\n",
            "[CV 5/5] END bootstrap=True, criterion=entropy, max_depth=25, min_samples_split=6, n_estimators=100, random_state=42; accuracy: (test=0.887) f1_macro: (test=0.886) precision: (test=0.833) recall: (test=0.968) roc_auc: (test=0.946) total time=   0.9s\n",
            "[CV 1/5] END bootstrap=True, criterion=entropy, max_depth=25, min_samples_split=6, n_estimators=125, random_state=42; accuracy: (test=0.864) f1_macro: (test=0.864) precision: (test=0.830) recall: (test=0.917) roc_auc: (test=0.922) total time=   1.1s\n",
            "[CV 2/5] END bootstrap=True, criterion=entropy, max_depth=25, min_samples_split=6, n_estimators=125, random_state=42; accuracy: (test=0.858) f1_macro: (test=0.857) precision: (test=0.832) recall: (test=0.895) roc_auc: (test=0.923) total time=   1.1s\n",
            "[CV 3/5] END bootstrap=True, criterion=entropy, max_depth=25, min_samples_split=6, n_estimators=125, random_state=42; accuracy: (test=0.891) f1_macro: (test=0.890) precision: (test=0.842) recall: (test=0.961) roc_auc: (test=0.949) total time=   1.1s\n",
            "[CV 4/5] END bootstrap=True, criterion=entropy, max_depth=25, min_samples_split=6, n_estimators=125, random_state=42; accuracy: (test=0.887) f1_macro: (test=0.887) precision: (test=0.838) recall: (test=0.960) roc_auc: (test=0.946) total time=   1.1s\n",
            "[CV 5/5] END bootstrap=True, criterion=entropy, max_depth=25, min_samples_split=6, n_estimators=125, random_state=42; accuracy: (test=0.883) f1_macro: (test=0.882) precision: (test=0.830) recall: (test=0.965) roc_auc: (test=0.947) total time=   1.1s\n",
            "[CV 1/5] END bootstrap=False, criterion=gini, max_depth=None, min_samples_split=2, n_estimators=75, random_state=42; accuracy: (test=0.888) f1_macro: (test=0.888) precision: (test=0.860) recall: (test=0.927) roc_auc: (test=0.954) total time=   0.7s\n",
            "[CV 2/5] END bootstrap=False, criterion=gini, max_depth=None, min_samples_split=2, n_estimators=75, random_state=42; accuracy: (test=0.871) f1_macro: (test=0.871) precision: (test=0.851) recall: (test=0.900) roc_auc: (test=0.951) total time=   0.7s\n",
            "[CV 3/5] END bootstrap=False, criterion=gini, max_depth=None, min_samples_split=2, n_estimators=75, random_state=42; accuracy: (test=0.916) f1_macro: (test=0.916) precision: (test=0.859) recall: (test=0.995) roc_auc: (test=0.988) total time=   0.7s\n",
            "[CV 4/5] END bootstrap=False, criterion=gini, max_depth=None, min_samples_split=2, n_estimators=75, random_state=42; accuracy: (test=0.915) f1_macro: (test=0.915) precision: (test=0.861) recall: (test=0.991) roc_auc: (test=0.984) total time=   0.7s\n",
            "[CV 5/5] END bootstrap=False, criterion=gini, max_depth=None, min_samples_split=2, n_estimators=75, random_state=42; accuracy: (test=0.923) f1_macro: (test=0.922) precision: (test=0.869) recall: (test=0.995) roc_auc: (test=0.990) total time=   0.7s\n",
            "[CV 1/5] END bootstrap=False, criterion=gini, max_depth=None, min_samples_split=2, n_estimators=100, random_state=42; accuracy: (test=0.887) f1_macro: (test=0.886) precision: (test=0.859) recall: (test=0.926) roc_auc: (test=0.955) total time=   0.9s\n",
            "[CV 2/5] END bootstrap=False, criterion=gini, max_depth=None, min_samples_split=2, n_estimators=100, random_state=42; accuracy: (test=0.872) f1_macro: (test=0.872) precision: (test=0.852) recall: (test=0.901) roc_auc: (test=0.950) total time=   0.9s\n",
            "[CV 3/5] END bootstrap=False, criterion=gini, max_depth=None, min_samples_split=2, n_estimators=100, random_state=42; accuracy: (test=0.917) f1_macro: (test=0.917) precision: (test=0.861) recall: (test=0.995) roc_auc: (test=0.989) total time=   0.9s\n",
            "[CV 4/5] END bootstrap=False, criterion=gini, max_depth=None, min_samples_split=2, n_estimators=100, random_state=42; accuracy: (test=0.917) f1_macro: (test=0.916) precision: (test=0.863) recall: (test=0.991) roc_auc: (test=0.984) total time=   0.9s\n",
            "[CV 5/5] END bootstrap=False, criterion=gini, max_depth=None, min_samples_split=2, n_estimators=100, random_state=42; accuracy: (test=0.923) f1_macro: (test=0.922) precision: (test=0.869) recall: (test=0.995) roc_auc: (test=0.990) total time=   0.9s\n",
            "[CV 1/5] END bootstrap=False, criterion=gini, max_depth=None, min_samples_split=2, n_estimators=125, random_state=42; accuracy: (test=0.886) f1_macro: (test=0.886) precision: (test=0.858) recall: (test=0.926) roc_auc: (test=0.956) total time=   1.1s\n",
            "[CV 2/5] END bootstrap=False, criterion=gini, max_depth=None, min_samples_split=2, n_estimators=125, random_state=42; accuracy: (test=0.875) f1_macro: (test=0.875) precision: (test=0.855) recall: (test=0.902) roc_auc: (test=0.951) total time=   1.1s\n",
            "[CV 3/5] END bootstrap=False, criterion=gini, max_depth=None, min_samples_split=2, n_estimators=125, random_state=42; accuracy: (test=0.917) f1_macro: (test=0.916) precision: (test=0.860) recall: (test=0.995) roc_auc: (test=0.989) total time=   1.1s\n",
            "[CV 4/5] END bootstrap=False, criterion=gini, max_depth=None, min_samples_split=2, n_estimators=125, random_state=42; accuracy: (test=0.918) f1_macro: (test=0.918) precision: (test=0.865) recall: (test=0.991) roc_auc: (test=0.984) total time=   1.1s\n",
            "[CV 5/5] END bootstrap=False, criterion=gini, max_depth=None, min_samples_split=2, n_estimators=125, random_state=42; accuracy: (test=0.921) f1_macro: (test=0.920) precision: (test=0.866) recall: (test=0.995) roc_auc: (test=0.991) total time=   1.1s\n",
            "[CV 1/5] END bootstrap=False, criterion=gini, max_depth=None, min_samples_split=4, n_estimators=75, random_state=42; accuracy: (test=0.887) f1_macro: (test=0.886) precision: (test=0.857) recall: (test=0.928) roc_auc: (test=0.943) total time=   0.6s\n",
            "[CV 2/5] END bootstrap=False, criterion=gini, max_depth=None, min_samples_split=4, n_estimators=75, random_state=42; accuracy: (test=0.874) f1_macro: (test=0.873) precision: (test=0.856) recall: (test=0.899) roc_auc: (test=0.937) total time=   0.6s\n",
            "[CV 3/5] END bootstrap=False, criterion=gini, max_depth=None, min_samples_split=4, n_estimators=75, random_state=42; accuracy: (test=0.916) f1_macro: (test=0.916) precision: (test=0.859) recall: (test=0.995) roc_auc: (test=0.975) total time=   0.7s\n",
            "[CV 4/5] END bootstrap=False, criterion=gini, max_depth=None, min_samples_split=4, n_estimators=75, random_state=42; accuracy: (test=0.916) f1_macro: (test=0.916) precision: (test=0.863) recall: (test=0.990) roc_auc: (test=0.971) total time=   0.7s\n",
            "[CV 5/5] END bootstrap=False, criterion=gini, max_depth=None, min_samples_split=4, n_estimators=75, random_state=42; accuracy: (test=0.913) f1_macro: (test=0.913) precision: (test=0.859) recall: (test=0.990) roc_auc: (test=0.973) total time=   0.7s\n",
            "[CV 1/5] END bootstrap=False, criterion=gini, max_depth=None, min_samples_split=4, n_estimators=100, random_state=42; accuracy: (test=0.886) f1_macro: (test=0.886) precision: (test=0.856) recall: (test=0.928) roc_auc: (test=0.942) total time=   0.9s\n",
            "[CV 2/5] END bootstrap=False, criterion=gini, max_depth=None, min_samples_split=4, n_estimators=100, random_state=42; accuracy: (test=0.874) f1_macro: (test=0.874) precision: (test=0.855) recall: (test=0.901) roc_auc: (test=0.937) total time=   0.9s\n",
            "[CV 3/5] END bootstrap=False, criterion=gini, max_depth=None, min_samples_split=4, n_estimators=100, random_state=42; accuracy: (test=0.916) f1_macro: (test=0.916) precision: (test=0.859) recall: (test=0.995) roc_auc: (test=0.976) total time=   0.9s\n",
            "[CV 4/5] END bootstrap=False, criterion=gini, max_depth=None, min_samples_split=4, n_estimators=100, random_state=42; accuracy: (test=0.920) f1_macro: (test=0.919) precision: (test=0.868) recall: (test=0.990) roc_auc: (test=0.971) total time=   0.9s\n",
            "[CV 5/5] END bootstrap=False, criterion=gini, max_depth=None, min_samples_split=4, n_estimators=100, random_state=42; accuracy: (test=0.916) f1_macro: (test=0.915) precision: (test=0.862) recall: (test=0.990) roc_auc: (test=0.974) total time=   0.9s\n",
            "[CV 1/5] END bootstrap=False, criterion=gini, max_depth=None, min_samples_split=4, n_estimators=125, random_state=42; accuracy: (test=0.884) f1_macro: (test=0.884) precision: (test=0.853) recall: (test=0.927) roc_auc: (test=0.942) total time=   1.1s\n",
            "[CV 2/5] END bootstrap=False, criterion=gini, max_depth=None, min_samples_split=4, n_estimators=125, random_state=42; accuracy: (test=0.874) f1_macro: (test=0.874) precision: (test=0.855) recall: (test=0.901) roc_auc: (test=0.938) total time=   1.1s\n",
            "[CV 3/5] END bootstrap=False, criterion=gini, max_depth=None, min_samples_split=4, n_estimators=125, random_state=42; accuracy: (test=0.915) f1_macro: (test=0.915) precision: (test=0.858) recall: (test=0.995) roc_auc: (test=0.976) total time=   1.1s\n",
            "[CV 4/5] END bootstrap=False, criterion=gini, max_depth=None, min_samples_split=4, n_estimators=125, random_state=42; accuracy: (test=0.918) f1_macro: (test=0.918) precision: (test=0.866) recall: (test=0.990) roc_auc: (test=0.971) total time=   1.1s\n",
            "[CV 5/5] END bootstrap=False, criterion=gini, max_depth=None, min_samples_split=4, n_estimators=125, random_state=42; accuracy: (test=0.914) f1_macro: (test=0.913) precision: (test=0.859) recall: (test=0.991) roc_auc: (test=0.975) total time=   1.1s\n",
            "[CV 1/5] END bootstrap=False, criterion=gini, max_depth=None, min_samples_split=6, n_estimators=75, random_state=42; accuracy: (test=0.877) f1_macro: (test=0.877) precision: (test=0.848) recall: (test=0.918) roc_auc: (test=0.933) total time=   0.6s\n",
            "[CV 2/5] END bootstrap=False, criterion=gini, max_depth=None, min_samples_split=6, n_estimators=75, random_state=42; accuracy: (test=0.872) f1_macro: (test=0.872) precision: (test=0.853) recall: (test=0.900) roc_auc: (test=0.927) total time=   0.6s\n",
            "[CV 3/5] END bootstrap=False, criterion=gini, max_depth=None, min_samples_split=6, n_estimators=75, random_state=42; accuracy: (test=0.917) f1_macro: (test=0.916) precision: (test=0.864) recall: (test=0.989) roc_auc: (test=0.965) total time=   0.6s\n",
            "[CV 4/5] END bootstrap=False, criterion=gini, max_depth=None, min_samples_split=6, n_estimators=75, random_state=42; accuracy: (test=0.913) f1_macro: (test=0.913) precision: (test=0.862) recall: (test=0.984) roc_auc: (test=0.960) total time=   0.6s\n",
            "[CV 5/5] END bootstrap=False, criterion=gini, max_depth=None, min_samples_split=6, n_estimators=75, random_state=42; accuracy: (test=0.907) f1_macro: (test=0.907) precision: (test=0.855) recall: (test=0.981) roc_auc: (test=0.961) total time=   0.7s\n",
            "[CV 1/5] END bootstrap=False, criterion=gini, max_depth=None, min_samples_split=6, n_estimators=100, random_state=42; accuracy: (test=0.880) f1_macro: (test=0.880) precision: (test=0.853) recall: (test=0.918) roc_auc: (test=0.933) total time=   0.8s\n",
            "[CV 2/5] END bootstrap=False, criterion=gini, max_depth=None, min_samples_split=6, n_estimators=100, random_state=42; accuracy: (test=0.871) f1_macro: (test=0.871) precision: (test=0.850) recall: (test=0.901) roc_auc: (test=0.927) total time=   0.8s\n",
            "[CV 3/5] END bootstrap=False, criterion=gini, max_depth=None, min_samples_split=6, n_estimators=100, random_state=42; accuracy: (test=0.915) f1_macro: (test=0.914) precision: (test=0.862) recall: (test=0.987) roc_auc: (test=0.965) total time=   0.9s\n",
            "[CV 4/5] END bootstrap=False, criterion=gini, max_depth=None, min_samples_split=6, n_estimators=100, random_state=42; accuracy: (test=0.915) f1_macro: (test=0.915) precision: (test=0.864) recall: (test=0.985) roc_auc: (test=0.960) total time=   0.9s\n",
            "[CV 5/5] END bootstrap=False, criterion=gini, max_depth=None, min_samples_split=6, n_estimators=100, random_state=42; accuracy: (test=0.905) f1_macro: (test=0.904) precision: (test=0.852) recall: (test=0.981) roc_auc: (test=0.961) total time=   0.9s\n",
            "[CV 1/5] END bootstrap=False, criterion=gini, max_depth=None, min_samples_split=6, n_estimators=125, random_state=42; accuracy: (test=0.880) f1_macro: (test=0.880) precision: (test=0.853) recall: (test=0.918) roc_auc: (test=0.933) total time=   1.1s\n",
            "[CV 2/5] END bootstrap=False, criterion=gini, max_depth=None, min_samples_split=6, n_estimators=125, random_state=42; accuracy: (test=0.871) f1_macro: (test=0.871) precision: (test=0.850) recall: (test=0.901) roc_auc: (test=0.928) total time=   1.0s\n",
            "[CV 3/5] END bootstrap=False, criterion=gini, max_depth=None, min_samples_split=6, n_estimators=125, random_state=42; accuracy: (test=0.915) f1_macro: (test=0.915) precision: (test=0.863) recall: (test=0.987) roc_auc: (test=0.965) total time=   1.1s\n",
            "[CV 4/5] END bootstrap=False, criterion=gini, max_depth=None, min_samples_split=6, n_estimators=125, random_state=42; accuracy: (test=0.914) f1_macro: (test=0.914) precision: (test=0.862) recall: (test=0.985) roc_auc: (test=0.961) total time=   1.0s\n",
            "[CV 5/5] END bootstrap=False, criterion=gini, max_depth=None, min_samples_split=6, n_estimators=125, random_state=42; accuracy: (test=0.908) f1_macro: (test=0.907) precision: (test=0.856) recall: (test=0.981) roc_auc: (test=0.962) total time=   1.1s\n",
            "[CV 1/5] END bootstrap=False, criterion=gini, max_depth=5, min_samples_split=2, n_estimators=75, random_state=42; accuracy: (test=0.759) f1_macro: (test=0.758) precision: (test=0.730) recall: (test=0.820) roc_auc: (test=0.838) total time=   0.3s\n",
            "[CV 2/5] END bootstrap=False, criterion=gini, max_depth=5, min_samples_split=2, n_estimators=75, random_state=42; accuracy: (test=0.769) f1_macro: (test=0.768) precision: (test=0.736) recall: (test=0.840) roc_auc: (test=0.854) total time=   0.3s\n",
            "[CV 3/5] END bootstrap=False, criterion=gini, max_depth=5, min_samples_split=2, n_estimators=75, random_state=42; accuracy: (test=0.768) f1_macro: (test=0.767) precision: (test=0.741) recall: (test=0.823) roc_auc: (test=0.852) total time=   0.3s\n",
            "[CV 4/5] END bootstrap=False, criterion=gini, max_depth=5, min_samples_split=2, n_estimators=75, random_state=42; accuracy: (test=0.775) f1_macro: (test=0.774) precision: (test=0.749) recall: (test=0.827) roc_auc: (test=0.856) total time=   0.3s\n",
            "[CV 5/5] END bootstrap=False, criterion=gini, max_depth=5, min_samples_split=2, n_estimators=75, random_state=42; accuracy: (test=0.768) f1_macro: (test=0.766) precision: (test=0.736) recall: (test=0.834) roc_auc: (test=0.855) total time=   0.3s\n",
            "[CV 1/5] END bootstrap=False, criterion=gini, max_depth=5, min_samples_split=2, n_estimators=100, random_state=42; accuracy: (test=0.760) f1_macro: (test=0.759) precision: (test=0.730) recall: (test=0.825) roc_auc: (test=0.838) total time=   0.4s\n",
            "[CV 2/5] END bootstrap=False, criterion=gini, max_depth=5, min_samples_split=2, n_estimators=100, random_state=42; accuracy: (test=0.769) f1_macro: (test=0.767) precision: (test=0.735) recall: (test=0.840) roc_auc: (test=0.854) total time=   0.4s\n",
            "[CV 3/5] END bootstrap=False, criterion=gini, max_depth=5, min_samples_split=2, n_estimators=100, random_state=42; accuracy: (test=0.766) f1_macro: (test=0.766) precision: (test=0.739) recall: (test=0.823) roc_auc: (test=0.852) total time=   0.4s\n",
            "[CV 4/5] END bootstrap=False, criterion=gini, max_depth=5, min_samples_split=2, n_estimators=100, random_state=42; accuracy: (test=0.775) f1_macro: (test=0.775) precision: (test=0.749) recall: (test=0.828) roc_auc: (test=0.857) total time=   0.4s\n",
            "[CV 5/5] END bootstrap=False, criterion=gini, max_depth=5, min_samples_split=2, n_estimators=100, random_state=42; accuracy: (test=0.768) f1_macro: (test=0.766) precision: (test=0.735) recall: (test=0.837) roc_auc: (test=0.856) total time=   0.4s\n",
            "[CV 1/5] END bootstrap=False, criterion=gini, max_depth=5, min_samples_split=2, n_estimators=125, random_state=42; accuracy: (test=0.757) f1_macro: (test=0.756) precision: (test=0.728) recall: (test=0.820) roc_auc: (test=0.838) total time=   0.5s\n",
            "[CV 2/5] END bootstrap=False, criterion=gini, max_depth=5, min_samples_split=2, n_estimators=125, random_state=42; accuracy: (test=0.769) f1_macro: (test=0.768) precision: (test=0.735) recall: (test=0.842) roc_auc: (test=0.854) total time=   0.5s\n",
            "[CV 3/5] END bootstrap=False, criterion=gini, max_depth=5, min_samples_split=2, n_estimators=125, random_state=42; accuracy: (test=0.766) f1_macro: (test=0.766) precision: (test=0.739) recall: (test=0.824) roc_auc: (test=0.852) total time=   0.5s\n",
            "[CV 4/5] END bootstrap=False, criterion=gini, max_depth=5, min_samples_split=2, n_estimators=125, random_state=42; accuracy: (test=0.773) f1_macro: (test=0.773) precision: (test=0.750) recall: (test=0.820) roc_auc: (test=0.857) total time=   0.5s\n",
            "[CV 5/5] END bootstrap=False, criterion=gini, max_depth=5, min_samples_split=2, n_estimators=125, random_state=42; accuracy: (test=0.767) f1_macro: (test=0.766) precision: (test=0.734) recall: (test=0.837) roc_auc: (test=0.855) total time=   0.5s\n",
            "[CV 1/5] END bootstrap=False, criterion=gini, max_depth=5, min_samples_split=4, n_estimators=75, random_state=42; accuracy: (test=0.759) f1_macro: (test=0.758) precision: (test=0.730) recall: (test=0.820) roc_auc: (test=0.838) total time=   0.3s\n",
            "[CV 2/5] END bootstrap=False, criterion=gini, max_depth=5, min_samples_split=4, n_estimators=75, random_state=42; accuracy: (test=0.769) f1_macro: (test=0.768) precision: (test=0.736) recall: (test=0.840) roc_auc: (test=0.854) total time=   0.3s\n",
            "[CV 3/5] END bootstrap=False, criterion=gini, max_depth=5, min_samples_split=4, n_estimators=75, random_state=42; accuracy: (test=0.768) f1_macro: (test=0.767) precision: (test=0.741) recall: (test=0.823) roc_auc: (test=0.852) total time=   0.3s\n",
            "[CV 4/5] END bootstrap=False, criterion=gini, max_depth=5, min_samples_split=4, n_estimators=75, random_state=42; accuracy: (test=0.775) f1_macro: (test=0.775) precision: (test=0.749) recall: (test=0.828) roc_auc: (test=0.856) total time=   0.3s\n",
            "[CV 5/5] END bootstrap=False, criterion=gini, max_depth=5, min_samples_split=4, n_estimators=75, random_state=42; accuracy: (test=0.770) f1_macro: (test=0.769) precision: (test=0.738) recall: (test=0.839) roc_auc: (test=0.855) total time=   0.3s\n",
            "[CV 1/5] END bootstrap=False, criterion=gini, max_depth=5, min_samples_split=4, n_estimators=100, random_state=42; accuracy: (test=0.760) f1_macro: (test=0.759) precision: (test=0.730) recall: (test=0.825) roc_auc: (test=0.838) total time=   0.4s\n",
            "[CV 2/5] END bootstrap=False, criterion=gini, max_depth=5, min_samples_split=4, n_estimators=100, random_state=42; accuracy: (test=0.769) f1_macro: (test=0.767) precision: (test=0.735) recall: (test=0.840) roc_auc: (test=0.854) total time=   0.4s\n",
            "[CV 3/5] END bootstrap=False, criterion=gini, max_depth=5, min_samples_split=4, n_estimators=100, random_state=42; accuracy: (test=0.766) f1_macro: (test=0.766) precision: (test=0.739) recall: (test=0.823) roc_auc: (test=0.852) total time=   0.4s\n",
            "[CV 4/5] END bootstrap=False, criterion=gini, max_depth=5, min_samples_split=4, n_estimators=100, random_state=42; accuracy: (test=0.775) f1_macro: (test=0.775) precision: (test=0.749) recall: (test=0.828) roc_auc: (test=0.857) total time=   0.4s\n",
            "[CV 5/5] END bootstrap=False, criterion=gini, max_depth=5, min_samples_split=4, n_estimators=100, random_state=42; accuracy: (test=0.768) f1_macro: (test=0.766) precision: (test=0.735) recall: (test=0.837) roc_auc: (test=0.856) total time=   0.4s\n",
            "[CV 1/5] END bootstrap=False, criterion=gini, max_depth=5, min_samples_split=4, n_estimators=125, random_state=42; accuracy: (test=0.757) f1_macro: (test=0.756) precision: (test=0.728) recall: (test=0.820) roc_auc: (test=0.838) total time=   0.5s\n",
            "[CV 2/5] END bootstrap=False, criterion=gini, max_depth=5, min_samples_split=4, n_estimators=125, random_state=42; accuracy: (test=0.769) f1_macro: (test=0.768) precision: (test=0.735) recall: (test=0.842) roc_auc: (test=0.854) total time=   0.5s\n",
            "[CV 3/5] END bootstrap=False, criterion=gini, max_depth=5, min_samples_split=4, n_estimators=125, random_state=42; accuracy: (test=0.766) f1_macro: (test=0.766) precision: (test=0.739) recall: (test=0.824) roc_auc: (test=0.852) total time=   0.5s\n",
            "[CV 4/5] END bootstrap=False, criterion=gini, max_depth=5, min_samples_split=4, n_estimators=125, random_state=42; accuracy: (test=0.775) f1_macro: (test=0.774) precision: (test=0.751) recall: (test=0.823) roc_auc: (test=0.857) total time=   0.5s\n",
            "[CV 5/5] END bootstrap=False, criterion=gini, max_depth=5, min_samples_split=4, n_estimators=125, random_state=42; accuracy: (test=0.767) f1_macro: (test=0.766) precision: (test=0.734) recall: (test=0.837) roc_auc: (test=0.855) total time=   0.5s\n",
            "[CV 1/5] END bootstrap=False, criterion=gini, max_depth=5, min_samples_split=6, n_estimators=75, random_state=42; accuracy: (test=0.758) f1_macro: (test=0.757) precision: (test=0.731) recall: (test=0.817) roc_auc: (test=0.838) total time=   0.3s\n",
            "[CV 2/5] END bootstrap=False, criterion=gini, max_depth=5, min_samples_split=6, n_estimators=75, random_state=42; accuracy: (test=0.769) f1_macro: (test=0.768) precision: (test=0.736) recall: (test=0.840) roc_auc: (test=0.854) total time=   0.3s\n",
            "[CV 3/5] END bootstrap=False, criterion=gini, max_depth=5, min_samples_split=6, n_estimators=75, random_state=42; accuracy: (test=0.766) f1_macro: (test=0.765) precision: (test=0.738) recall: (test=0.823) roc_auc: (test=0.852) total time=   0.3s\n",
            "[CV 4/5] END bootstrap=False, criterion=gini, max_depth=5, min_samples_split=6, n_estimators=75, random_state=42; accuracy: (test=0.774) f1_macro: (test=0.774) precision: (test=0.748) recall: (test=0.827) roc_auc: (test=0.856) total time=   0.3s\n",
            "[CV 5/5] END bootstrap=False, criterion=gini, max_depth=5, min_samples_split=6, n_estimators=75, random_state=42; accuracy: (test=0.770) f1_macro: (test=0.769) precision: (test=0.737) recall: (test=0.839) roc_auc: (test=0.855) total time=   0.3s\n",
            "[CV 1/5] END bootstrap=False, criterion=gini, max_depth=5, min_samples_split=6, n_estimators=100, random_state=42; accuracy: (test=0.760) f1_macro: (test=0.759) precision: (test=0.730) recall: (test=0.823) roc_auc: (test=0.838) total time=   0.4s\n",
            "[CV 2/5] END bootstrap=False, criterion=gini, max_depth=5, min_samples_split=6, n_estimators=100, random_state=42; accuracy: (test=0.769) f1_macro: (test=0.767) precision: (test=0.735) recall: (test=0.840) roc_auc: (test=0.854) total time=   0.4s\n",
            "[CV 3/5] END bootstrap=False, criterion=gini, max_depth=5, min_samples_split=6, n_estimators=100, random_state=42; accuracy: (test=0.766) f1_macro: (test=0.765) precision: (test=0.738) recall: (test=0.823) roc_auc: (test=0.852) total time=   0.4s\n",
            "[CV 4/5] END bootstrap=False, criterion=gini, max_depth=5, min_samples_split=6, n_estimators=100, random_state=42; accuracy: (test=0.774) f1_macro: (test=0.773) precision: (test=0.748) recall: (test=0.826) roc_auc: (test=0.857) total time=   0.4s\n",
            "[CV 5/5] END bootstrap=False, criterion=gini, max_depth=5, min_samples_split=6, n_estimators=100, random_state=42; accuracy: (test=0.767) f1_macro: (test=0.766) precision: (test=0.734) recall: (test=0.837) roc_auc: (test=0.856) total time=   0.4s\n",
            "[CV 1/5] END bootstrap=False, criterion=gini, max_depth=5, min_samples_split=6, n_estimators=125, random_state=42; accuracy: (test=0.757) f1_macro: (test=0.756) precision: (test=0.729) recall: (test=0.820) roc_auc: (test=0.838) total time=   0.5s\n",
            "[CV 2/5] END bootstrap=False, criterion=gini, max_depth=5, min_samples_split=6, n_estimators=125, random_state=42; accuracy: (test=0.769) f1_macro: (test=0.768) precision: (test=0.735) recall: (test=0.842) roc_auc: (test=0.854) total time=   0.5s\n",
            "[CV 3/5] END bootstrap=False, criterion=gini, max_depth=5, min_samples_split=6, n_estimators=125, random_state=42; accuracy: (test=0.766) f1_macro: (test=0.766) precision: (test=0.739) recall: (test=0.824) roc_auc: (test=0.852) total time=   0.5s\n",
            "[CV 4/5] END bootstrap=False, criterion=gini, max_depth=5, min_samples_split=6, n_estimators=125, random_state=42; accuracy: (test=0.774) f1_macro: (test=0.773) precision: (test=0.751) recall: (test=0.819) roc_auc: (test=0.857) total time=   0.5s\n",
            "[CV 5/5] END bootstrap=False, criterion=gini, max_depth=5, min_samples_split=6, n_estimators=125, random_state=42; accuracy: (test=0.768) f1_macro: (test=0.766) precision: (test=0.735) recall: (test=0.838) roc_auc: (test=0.855) total time=   0.5s\n",
            "[CV 1/5] END bootstrap=False, criterion=gini, max_depth=15, min_samples_split=2, n_estimators=75, random_state=42; accuracy: (test=0.874) f1_macro: (test=0.874) precision: (test=0.830) recall: (test=0.941) roc_auc: (test=0.943) total time=   0.6s\n",
            "[CV 2/5] END bootstrap=False, criterion=gini, max_depth=15, min_samples_split=2, n_estimators=75, random_state=42; accuracy: (test=0.876) f1_macro: (test=0.876) precision: (test=0.844) recall: (test=0.922) roc_auc: (test=0.941) total time=   0.6s\n",
            "[CV 3/5] END bootstrap=False, criterion=gini, max_depth=15, min_samples_split=2, n_estimators=75, random_state=42; accuracy: (test=0.905) f1_macro: (test=0.905) precision: (test=0.842) recall: (test=0.998) roc_auc: (test=0.966) total time=   0.6s\n",
            "[CV 4/5] END bootstrap=False, criterion=gini, max_depth=15, min_samples_split=2, n_estimators=75, random_state=42; accuracy: (test=0.907) f1_macro: (test=0.906) precision: (test=0.846) recall: (test=0.994) roc_auc: (test=0.967) total time=   0.6s\n",
            "[CV 5/5] END bootstrap=False, criterion=gini, max_depth=15, min_samples_split=2, n_estimators=75, random_state=42; accuracy: (test=0.905) f1_macro: (test=0.904) precision: (test=0.841) recall: (test=0.998) roc_auc: (test=0.971) total time=   0.6s\n",
            "[CV 1/5] END bootstrap=False, criterion=gini, max_depth=15, min_samples_split=2, n_estimators=100, random_state=42; accuracy: (test=0.875) f1_macro: (test=0.875) precision: (test=0.831) recall: (test=0.942) roc_auc: (test=0.944) total time=   0.8s\n",
            "[CV 2/5] END bootstrap=False, criterion=gini, max_depth=15, min_samples_split=2, n_estimators=100, random_state=42; accuracy: (test=0.875) f1_macro: (test=0.874) precision: (test=0.840) recall: (test=0.925) roc_auc: (test=0.941) total time=   0.8s\n",
            "[CV 3/5] END bootstrap=False, criterion=gini, max_depth=15, min_samples_split=2, n_estimators=100, random_state=42; accuracy: (test=0.907) f1_macro: (test=0.906) precision: (test=0.844) recall: (test=0.998) roc_auc: (test=0.966) total time=   0.8s\n",
            "[CV 4/5] END bootstrap=False, criterion=gini, max_depth=15, min_samples_split=2, n_estimators=100, random_state=42; accuracy: (test=0.906) f1_macro: (test=0.905) precision: (test=0.846) recall: (test=0.992) roc_auc: (test=0.967) total time=   0.8s\n",
            "[CV 5/5] END bootstrap=False, criterion=gini, max_depth=15, min_samples_split=2, n_estimators=100, random_state=42; accuracy: (test=0.907) f1_macro: (test=0.906) precision: (test=0.844) recall: (test=0.998) roc_auc: (test=0.971) total time=   0.8s\n",
            "[CV 1/5] END bootstrap=False, criterion=gini, max_depth=15, min_samples_split=2, n_estimators=125, random_state=42; accuracy: (test=0.876) f1_macro: (test=0.876) precision: (test=0.833) recall: (test=0.942) roc_auc: (test=0.945) total time=   1.0s\n",
            "[CV 2/5] END bootstrap=False, criterion=gini, max_depth=15, min_samples_split=2, n_estimators=125, random_state=42; accuracy: (test=0.875) f1_macro: (test=0.875) precision: (test=0.841) recall: (test=0.926) roc_auc: (test=0.941) total time=   1.0s\n",
            "[CV 3/5] END bootstrap=False, criterion=gini, max_depth=15, min_samples_split=2, n_estimators=125, random_state=42; accuracy: (test=0.905) f1_macro: (test=0.905) precision: (test=0.842) recall: (test=0.998) roc_auc: (test=0.966) total time=   1.0s\n",
            "[CV 4/5] END bootstrap=False, criterion=gini, max_depth=15, min_samples_split=2, n_estimators=125, random_state=42; accuracy: (test=0.907) f1_macro: (test=0.906) precision: (test=0.847) recall: (test=0.992) roc_auc: (test=0.967) total time=   1.0s\n",
            "[CV 5/5] END bootstrap=False, criterion=gini, max_depth=15, min_samples_split=2, n_estimators=125, random_state=42; accuracy: (test=0.908) f1_macro: (test=0.908) precision: (test=0.846) recall: (test=0.998) roc_auc: (test=0.972) total time=   1.0s\n",
            "[CV 1/5] END bootstrap=False, criterion=gini, max_depth=15, min_samples_split=4, n_estimators=75, random_state=42; accuracy: (test=0.878) f1_macro: (test=0.878) precision: (test=0.834) recall: (test=0.944) roc_auc: (test=0.937) total time=   0.6s\n",
            "[CV 2/5] END bootstrap=False, criterion=gini, max_depth=15, min_samples_split=4, n_estimators=75, random_state=42; accuracy: (test=0.871) f1_macro: (test=0.870) precision: (test=0.839) recall: (test=0.918) roc_auc: (test=0.934) total time=   0.6s\n",
            "[CV 3/5] END bootstrap=False, criterion=gini, max_depth=15, min_samples_split=4, n_estimators=75, random_state=42; accuracy: (test=0.908) f1_macro: (test=0.907) precision: (test=0.847) recall: (test=0.994) roc_auc: (test=0.960) total time=   0.6s\n",
            "[CV 4/5] END bootstrap=False, criterion=gini, max_depth=15, min_samples_split=4, n_estimators=75, random_state=42; accuracy: (test=0.909) f1_macro: (test=0.908) precision: (test=0.849) recall: (test=0.994) roc_auc: (test=0.961) total time=   0.6s\n",
            "[CV 5/5] END bootstrap=False, criterion=gini, max_depth=15, min_samples_split=4, n_estimators=75, random_state=42; accuracy: (test=0.901) f1_macro: (test=0.901) precision: (test=0.840) recall: (test=0.992) roc_auc: (test=0.962) total time=   0.6s\n",
            "[CV 1/5] END bootstrap=False, criterion=gini, max_depth=15, min_samples_split=4, n_estimators=100, random_state=42; accuracy: (test=0.876) f1_macro: (test=0.876) precision: (test=0.831) recall: (test=0.944) roc_auc: (test=0.938) total time=   0.8s\n",
            "[CV 2/5] END bootstrap=False, criterion=gini, max_depth=15, min_samples_split=4, n_estimators=100, random_state=42; accuracy: (test=0.871) f1_macro: (test=0.870) precision: (test=0.839) recall: (test=0.918) roc_auc: (test=0.933) total time=   0.8s\n",
            "[CV 3/5] END bootstrap=False, criterion=gini, max_depth=15, min_samples_split=4, n_estimators=100, random_state=42; accuracy: (test=0.907) f1_macro: (test=0.906) precision: (test=0.846) recall: (test=0.994) roc_auc: (test=0.960) total time=   0.8s\n",
            "[CV 4/5] END bootstrap=False, criterion=gini, max_depth=15, min_samples_split=4, n_estimators=100, random_state=42; accuracy: (test=0.909) f1_macro: (test=0.909) precision: (test=0.850) recall: (test=0.994) roc_auc: (test=0.962) total time=   0.8s\n",
            "[CV 5/5] END bootstrap=False, criterion=gini, max_depth=15, min_samples_split=4, n_estimators=100, random_state=42; accuracy: (test=0.904) f1_macro: (test=0.903) precision: (test=0.843) recall: (test=0.992) roc_auc: (test=0.963) total time=   0.8s\n",
            "[CV 1/5] END bootstrap=False, criterion=gini, max_depth=15, min_samples_split=4, n_estimators=125, random_state=42; accuracy: (test=0.878) f1_macro: (test=0.878) precision: (test=0.834) recall: (test=0.944) roc_auc: (test=0.938) total time=   1.0s\n",
            "[CV 2/5] END bootstrap=False, criterion=gini, max_depth=15, min_samples_split=4, n_estimators=125, random_state=42; accuracy: (test=0.870) f1_macro: (test=0.870) precision: (test=0.838) recall: (test=0.918) roc_auc: (test=0.933) total time=   1.0s\n",
            "[CV 3/5] END bootstrap=False, criterion=gini, max_depth=15, min_samples_split=4, n_estimators=125, random_state=42; accuracy: (test=0.907) f1_macro: (test=0.906) precision: (test=0.847) recall: (test=0.994) roc_auc: (test=0.960) total time=   1.0s\n",
            "[CV 4/5] END bootstrap=False, criterion=gini, max_depth=15, min_samples_split=4, n_estimators=125, random_state=42; accuracy: (test=0.908) f1_macro: (test=0.908) precision: (test=0.848) recall: (test=0.994) roc_auc: (test=0.962) total time=   1.0s\n",
            "[CV 5/5] END bootstrap=False, criterion=gini, max_depth=15, min_samples_split=4, n_estimators=125, random_state=42; accuracy: (test=0.903) f1_macro: (test=0.902) precision: (test=0.842) recall: (test=0.992) roc_auc: (test=0.963) total time=   1.0s\n",
            "[CV 1/5] END bootstrap=False, criterion=gini, max_depth=15, min_samples_split=6, n_estimators=75, random_state=42; accuracy: (test=0.874) f1_macro: (test=0.874) precision: (test=0.834) recall: (test=0.934) roc_auc: (test=0.932) total time=   0.6s\n",
            "[CV 2/5] END bootstrap=False, criterion=gini, max_depth=15, min_samples_split=6, n_estimators=75, random_state=42; accuracy: (test=0.864) f1_macro: (test=0.864) precision: (test=0.837) recall: (test=0.903) roc_auc: (test=0.925) total time=   0.6s\n",
            "[CV 3/5] END bootstrap=False, criterion=gini, max_depth=15, min_samples_split=6, n_estimators=75, random_state=42; accuracy: (test=0.899) f1_macro: (test=0.898) precision: (test=0.841) recall: (test=0.984) roc_auc: (test=0.953) total time=   0.6s\n",
            "[CV 4/5] END bootstrap=False, criterion=gini, max_depth=15, min_samples_split=6, n_estimators=75, random_state=42; accuracy: (test=0.901) f1_macro: (test=0.900) precision: (test=0.844) recall: (test=0.983) roc_auc: (test=0.955) total time=   0.6s\n",
            "[CV 5/5] END bootstrap=False, criterion=gini, max_depth=15, min_samples_split=6, n_estimators=75, random_state=42; accuracy: (test=0.901) f1_macro: (test=0.900) precision: (test=0.842) recall: (test=0.986) roc_auc: (test=0.955) total time=   0.7s\n",
            "[CV 1/5] END bootstrap=False, criterion=gini, max_depth=15, min_samples_split=6, n_estimators=100, random_state=42; accuracy: (test=0.875) f1_macro: (test=0.875) precision: (test=0.836) recall: (test=0.934) roc_auc: (test=0.932) total time=   0.9s\n",
            "[CV 2/5] END bootstrap=False, criterion=gini, max_depth=15, min_samples_split=6, n_estimators=100, random_state=42; accuracy: (test=0.867) f1_macro: (test=0.867) precision: (test=0.840) recall: (test=0.908) roc_auc: (test=0.927) total time=   0.8s\n",
            "[CV 3/5] END bootstrap=False, criterion=gini, max_depth=15, min_samples_split=6, n_estimators=100, random_state=42; accuracy: (test=0.904) f1_macro: (test=0.903) precision: (test=0.846) recall: (test=0.986) roc_auc: (test=0.953) total time=   0.9s\n",
            "[CV 4/5] END bootstrap=False, criterion=gini, max_depth=15, min_samples_split=6, n_estimators=100, random_state=42; accuracy: (test=0.899) f1_macro: (test=0.898) precision: (test=0.842) recall: (test=0.982) roc_auc: (test=0.955) total time=   1.0s\n",
            "[CV 5/5] END bootstrap=False, criterion=gini, max_depth=15, min_samples_split=6, n_estimators=100, random_state=42; accuracy: (test=0.902) f1_macro: (test=0.901) precision: (test=0.842) recall: (test=0.990) roc_auc: (test=0.955) total time=   0.9s\n",
            "[CV 1/5] END bootstrap=False, criterion=gini, max_depth=15, min_samples_split=6, n_estimators=125, random_state=42; accuracy: (test=0.875) f1_macro: (test=0.875) precision: (test=0.837) recall: (test=0.933) roc_auc: (test=0.933) total time=   1.0s\n",
            "[CV 2/5] END bootstrap=False, criterion=gini, max_depth=15, min_samples_split=6, n_estimators=125, random_state=42; accuracy: (test=0.867) f1_macro: (test=0.866) precision: (test=0.839) recall: (test=0.906) roc_auc: (test=0.927) total time=   1.0s\n",
            "[CV 3/5] END bootstrap=False, criterion=gini, max_depth=15, min_samples_split=6, n_estimators=125, random_state=42; accuracy: (test=0.904) f1_macro: (test=0.903) precision: (test=0.846) recall: (test=0.986) roc_auc: (test=0.953) total time=   1.0s\n",
            "[CV 4/5] END bootstrap=False, criterion=gini, max_depth=15, min_samples_split=6, n_estimators=125, random_state=42; accuracy: (test=0.900) f1_macro: (test=0.900) precision: (test=0.844) recall: (test=0.983) roc_auc: (test=0.955) total time=   1.0s\n",
            "[CV 5/5] END bootstrap=False, criterion=gini, max_depth=15, min_samples_split=6, n_estimators=125, random_state=42; accuracy: (test=0.903) f1_macro: (test=0.902) precision: (test=0.844) recall: (test=0.989) roc_auc: (test=0.955) total time=   1.0s\n",
            "[CV 1/5] END bootstrap=False, criterion=gini, max_depth=25, min_samples_split=2, n_estimators=75, random_state=42; accuracy: (test=0.884) f1_macro: (test=0.884) precision: (test=0.855) recall: (test=0.926) roc_auc: (test=0.952) total time=   0.7s\n",
            "[CV 2/5] END bootstrap=False, criterion=gini, max_depth=25, min_samples_split=2, n_estimators=75, random_state=42; accuracy: (test=0.875) f1_macro: (test=0.875) precision: (test=0.855) recall: (test=0.904) roc_auc: (test=0.949) total time=   0.7s\n",
            "[CV 3/5] END bootstrap=False, criterion=gini, max_depth=25, min_samples_split=2, n_estimators=75, random_state=42; accuracy: (test=0.918) f1_macro: (test=0.917) precision: (test=0.862) recall: (test=0.995) roc_auc: (test=0.984) total time=   0.7s\n",
            "[CV 4/5] END bootstrap=False, criterion=gini, max_depth=25, min_samples_split=2, n_estimators=75, random_state=42; accuracy: (test=0.920) f1_macro: (test=0.920) precision: (test=0.868) recall: (test=0.991) roc_auc: (test=0.982) total time=   0.7s\n",
            "[CV 5/5] END bootstrap=False, criterion=gini, max_depth=25, min_samples_split=2, n_estimators=75, random_state=42; accuracy: (test=0.919) f1_macro: (test=0.919) precision: (test=0.864) recall: (test=0.995) roc_auc: (test=0.990) total time=   0.7s\n",
            "[CV 1/5] END bootstrap=False, criterion=gini, max_depth=25, min_samples_split=2, n_estimators=100, random_state=42; accuracy: (test=0.885) f1_macro: (test=0.885) precision: (test=0.856) recall: (test=0.926) roc_auc: (test=0.954) total time=   0.9s\n",
            "[CV 2/5] END bootstrap=False, criterion=gini, max_depth=25, min_samples_split=2, n_estimators=100, random_state=42; accuracy: (test=0.876) f1_macro: (test=0.876) precision: (test=0.856) recall: (test=0.904) roc_auc: (test=0.950) total time=   0.9s\n",
            "[CV 3/5] END bootstrap=False, criterion=gini, max_depth=25, min_samples_split=2, n_estimators=100, random_state=42; accuracy: (test=0.916) f1_macro: (test=0.916) precision: (test=0.859) recall: (test=0.995) roc_auc: (test=0.985) total time=   0.9s\n",
            "[CV 4/5] END bootstrap=False, criterion=gini, max_depth=25, min_samples_split=2, n_estimators=100, random_state=42; accuracy: (test=0.920) f1_macro: (test=0.920) precision: (test=0.868) recall: (test=0.991) roc_auc: (test=0.981) total time=   0.9s\n",
            "[CV 5/5] END bootstrap=False, criterion=gini, max_depth=25, min_samples_split=2, n_estimators=100, random_state=42; accuracy: (test=0.919) f1_macro: (test=0.918) precision: (test=0.863) recall: (test=0.995) roc_auc: (test=0.990) total time=   0.9s\n",
            "[CV 1/5] END bootstrap=False, criterion=gini, max_depth=25, min_samples_split=2, n_estimators=125, random_state=42; accuracy: (test=0.884) f1_macro: (test=0.884) precision: (test=0.854) recall: (test=0.927) roc_auc: (test=0.954) total time=   1.1s\n",
            "[CV 2/5] END bootstrap=False, criterion=gini, max_depth=25, min_samples_split=2, n_estimators=125, random_state=42; accuracy: (test=0.875) f1_macro: (test=0.875) precision: (test=0.854) recall: (test=0.904) roc_auc: (test=0.950) total time=   1.1s\n",
            "[CV 3/5] END bootstrap=False, criterion=gini, max_depth=25, min_samples_split=2, n_estimators=125, random_state=42; accuracy: (test=0.918) f1_macro: (test=0.917) precision: (test=0.862) recall: (test=0.995) roc_auc: (test=0.984) total time=   1.1s\n",
            "[CV 4/5] END bootstrap=False, criterion=gini, max_depth=25, min_samples_split=2, n_estimators=125, random_state=42; accuracy: (test=0.919) f1_macro: (test=0.918) precision: (test=0.866) recall: (test=0.991) roc_auc: (test=0.982) total time=   1.1s\n",
            "[CV 5/5] END bootstrap=False, criterion=gini, max_depth=25, min_samples_split=2, n_estimators=125, random_state=42; accuracy: (test=0.918) f1_macro: (test=0.917) precision: (test=0.862) recall: (test=0.995) roc_auc: (test=0.990) total time=   1.1s\n",
            "[CV 1/5] END bootstrap=False, criterion=gini, max_depth=25, min_samples_split=4, n_estimators=75, random_state=42; accuracy: (test=0.884) f1_macro: (test=0.884) precision: (test=0.854) recall: (test=0.926) roc_auc: (test=0.942) total time=   0.6s\n",
            "[CV 2/5] END bootstrap=False, criterion=gini, max_depth=25, min_samples_split=4, n_estimators=75, random_state=42; accuracy: (test=0.873) f1_macro: (test=0.873) precision: (test=0.852) recall: (test=0.902) roc_auc: (test=0.937) total time=   0.6s\n",
            "[CV 3/5] END bootstrap=False, criterion=gini, max_depth=25, min_samples_split=4, n_estimators=75, random_state=42; accuracy: (test=0.916) f1_macro: (test=0.915) precision: (test=0.858) recall: (test=0.995) roc_auc: (test=0.974) total time=   0.7s\n",
            "[CV 4/5] END bootstrap=False, criterion=gini, max_depth=25, min_samples_split=4, n_estimators=75, random_state=42; accuracy: (test=0.916) f1_macro: (test=0.915) precision: (test=0.862) recall: (test=0.990) roc_auc: (test=0.970) total time=   0.7s\n",
            "[CV 5/5] END bootstrap=False, criterion=gini, max_depth=25, min_samples_split=4, n_estimators=75, random_state=42; accuracy: (test=0.915) f1_macro: (test=0.915) precision: (test=0.861) recall: (test=0.991) roc_auc: (test=0.973) total time=   0.7s\n",
            "[CV 1/5] END bootstrap=False, criterion=gini, max_depth=25, min_samples_split=4, n_estimators=100, random_state=42; accuracy: (test=0.885) f1_macro: (test=0.885) precision: (test=0.854) recall: (test=0.928) roc_auc: (test=0.941) total time=   0.8s\n",
            "[CV 2/5] END bootstrap=False, criterion=gini, max_depth=25, min_samples_split=4, n_estimators=100, random_state=42; accuracy: (test=0.874) f1_macro: (test=0.874) precision: (test=0.853) recall: (test=0.903) roc_auc: (test=0.937) total time=   0.8s\n",
            "[CV 3/5] END bootstrap=False, criterion=gini, max_depth=25, min_samples_split=4, n_estimators=100, random_state=42; accuracy: (test=0.916) f1_macro: (test=0.915) precision: (test=0.858) recall: (test=0.995) roc_auc: (test=0.974) total time=   0.9s\n",
            "[CV 4/5] END bootstrap=False, criterion=gini, max_depth=25, min_samples_split=4, n_estimators=100, random_state=42; accuracy: (test=0.918) f1_macro: (test=0.918) precision: (test=0.866) recall: (test=0.990) roc_auc: (test=0.971) total time=   0.9s\n",
            "[CV 5/5] END bootstrap=False, criterion=gini, max_depth=25, min_samples_split=4, n_estimators=100, random_state=42; accuracy: (test=0.915) f1_macro: (test=0.915) precision: (test=0.861) recall: (test=0.991) roc_auc: (test=0.974) total time=   0.9s\n",
            "[CV 1/5] END bootstrap=False, criterion=gini, max_depth=25, min_samples_split=4, n_estimators=125, random_state=42; accuracy: (test=0.884) f1_macro: (test=0.884) precision: (test=0.853) recall: (test=0.927) roc_auc: (test=0.941) total time=   1.1s\n",
            "[CV 2/5] END bootstrap=False, criterion=gini, max_depth=25, min_samples_split=4, n_estimators=125, random_state=42; accuracy: (test=0.872) f1_macro: (test=0.872) precision: (test=0.852) recall: (test=0.901) roc_auc: (test=0.937) total time=   1.1s\n",
            "[CV 3/5] END bootstrap=False, criterion=gini, max_depth=25, min_samples_split=4, n_estimators=125, random_state=42; accuracy: (test=0.916) f1_macro: (test=0.916) precision: (test=0.859) recall: (test=0.995) roc_auc: (test=0.974) total time=   1.1s\n",
            "[CV 4/5] END bootstrap=False, criterion=gini, max_depth=25, min_samples_split=4, n_estimators=125, random_state=42; accuracy: (test=0.917) f1_macro: (test=0.916) precision: (test=0.864) recall: (test=0.990) roc_auc: (test=0.971) total time=   1.1s\n",
            "[CV 5/5] END bootstrap=False, criterion=gini, max_depth=25, min_samples_split=4, n_estimators=125, random_state=42; accuracy: (test=0.916) f1_macro: (test=0.915) precision: (test=0.861) recall: (test=0.992) roc_auc: (test=0.974) total time=   1.1s\n",
            "[CV 1/5] END bootstrap=False, criterion=gini, max_depth=25, min_samples_split=6, n_estimators=75, random_state=42; accuracy: (test=0.879) f1_macro: (test=0.879) precision: (test=0.851) recall: (test=0.918) roc_auc: (test=0.933) total time=   0.6s\n",
            "[CV 2/5] END bootstrap=False, criterion=gini, max_depth=25, min_samples_split=6, n_estimators=75, random_state=42; accuracy: (test=0.871) f1_macro: (test=0.871) precision: (test=0.850) recall: (test=0.900) roc_auc: (test=0.927) total time=   0.6s\n",
            "[CV 3/5] END bootstrap=False, criterion=gini, max_depth=25, min_samples_split=6, n_estimators=75, random_state=42; accuracy: (test=0.911) f1_macro: (test=0.910) precision: (test=0.856) recall: (test=0.987) roc_auc: (test=0.964) total time=   0.7s\n",
            "[CV 4/5] END bootstrap=False, criterion=gini, max_depth=25, min_samples_split=6, n_estimators=75, random_state=42; accuracy: (test=0.911) f1_macro: (test=0.910) precision: (test=0.859) recall: (test=0.983) roc_auc: (test=0.960) total time=   0.6s\n",
            "[CV 5/5] END bootstrap=False, criterion=gini, max_depth=25, min_samples_split=6, n_estimators=75, random_state=42; accuracy: (test=0.912) f1_macro: (test=0.912) precision: (test=0.860) recall: (test=0.985) roc_auc: (test=0.961) total time=   0.7s\n",
            "[CV 1/5] END bootstrap=False, criterion=gini, max_depth=25, min_samples_split=6, n_estimators=100, random_state=42; accuracy: (test=0.880) f1_macro: (test=0.880) precision: (test=0.853) recall: (test=0.918) roc_auc: (test=0.934) total time=   0.9s\n",
            "[CV 2/5] END bootstrap=False, criterion=gini, max_depth=25, min_samples_split=6, n_estimators=100, random_state=42; accuracy: (test=0.868) f1_macro: (test=0.868) precision: (test=0.848) recall: (test=0.897) roc_auc: (test=0.927) total time=   0.8s\n",
            "[CV 3/5] END bootstrap=False, criterion=gini, max_depth=25, min_samples_split=6, n_estimators=100, random_state=42; accuracy: (test=0.914) f1_macro: (test=0.913) precision: (test=0.861) recall: (test=0.987) roc_auc: (test=0.964) total time=   0.8s\n",
            "[CV 4/5] END bootstrap=False, criterion=gini, max_depth=25, min_samples_split=6, n_estimators=100, random_state=42; accuracy: (test=0.913) f1_macro: (test=0.912) precision: (test=0.861) recall: (test=0.984) roc_auc: (test=0.960) total time=   0.9s\n",
            "[CV 5/5] END bootstrap=False, criterion=gini, max_depth=25, min_samples_split=6, n_estimators=100, random_state=42; accuracy: (test=0.908) f1_macro: (test=0.908) precision: (test=0.855) recall: (test=0.983) roc_auc: (test=0.961) total time=   0.9s\n",
            "[CV 1/5] END bootstrap=False, criterion=gini, max_depth=25, min_samples_split=6, n_estimators=125, random_state=42; accuracy: (test=0.879) f1_macro: (test=0.879) precision: (test=0.852) recall: (test=0.918) roc_auc: (test=0.933) total time=   1.1s\n",
            "[CV 2/5] END bootstrap=False, criterion=gini, max_depth=25, min_samples_split=6, n_estimators=125, random_state=42; accuracy: (test=0.870) f1_macro: (test=0.869) precision: (test=0.849) recall: (test=0.899) roc_auc: (test=0.928) total time=   1.0s\n",
            "[CV 3/5] END bootstrap=False, criterion=gini, max_depth=25, min_samples_split=6, n_estimators=125, random_state=42; accuracy: (test=0.913) f1_macro: (test=0.912) precision: (test=0.861) recall: (test=0.985) roc_auc: (test=0.965) total time=   1.1s\n",
            "[CV 4/5] END bootstrap=False, criterion=gini, max_depth=25, min_samples_split=6, n_estimators=125, random_state=42; accuracy: (test=0.912) f1_macro: (test=0.912) precision: (test=0.860) recall: (test=0.985) roc_auc: (test=0.960) total time=   1.1s\n",
            "[CV 5/5] END bootstrap=False, criterion=gini, max_depth=25, min_samples_split=6, n_estimators=125, random_state=42; accuracy: (test=0.910) f1_macro: (test=0.909) precision: (test=0.858) recall: (test=0.983) roc_auc: (test=0.962) total time=   1.1s\n",
            "[CV 1/5] END bootstrap=False, criterion=entropy, max_depth=None, min_samples_split=2, n_estimators=75, random_state=42; accuracy: (test=0.884) f1_macro: (test=0.884) precision: (test=0.853) recall: (test=0.927) roc_auc: (test=0.952) total time=   0.9s\n",
            "[CV 2/5] END bootstrap=False, criterion=entropy, max_depth=None, min_samples_split=2, n_estimators=75, random_state=42; accuracy: (test=0.874) f1_macro: (test=0.874) precision: (test=0.851) recall: (test=0.906) roc_auc: (test=0.952) total time=   0.9s\n",
            "[CV 3/5] END bootstrap=False, criterion=entropy, max_depth=None, min_samples_split=2, n_estimators=75, random_state=42; accuracy: (test=0.917) f1_macro: (test=0.917) precision: (test=0.861) recall: (test=0.995) roc_auc: (test=0.988) total time=   1.0s\n",
            "[CV 4/5] END bootstrap=False, criterion=entropy, max_depth=None, min_samples_split=2, n_estimators=75, random_state=42; accuracy: (test=0.915) f1_macro: (test=0.915) precision: (test=0.861) recall: (test=0.991) roc_auc: (test=0.983) total time=   1.0s\n",
            "[CV 5/5] END bootstrap=False, criterion=entropy, max_depth=None, min_samples_split=2, n_estimators=75, random_state=42; accuracy: (test=0.919) f1_macro: (test=0.919) precision: (test=0.864) recall: (test=0.995) roc_auc: (test=0.990) total time=   0.9s\n",
            "[CV 1/5] END bootstrap=False, criterion=entropy, max_depth=None, min_samples_split=2, n_estimators=100, random_state=42; accuracy: (test=0.883) f1_macro: (test=0.883) precision: (test=0.853) recall: (test=0.926) roc_auc: (test=0.953) total time=   1.2s\n",
            "[CV 2/5] END bootstrap=False, criterion=entropy, max_depth=None, min_samples_split=2, n_estimators=100, random_state=42; accuracy: (test=0.876) f1_macro: (test=0.876) precision: (test=0.853) recall: (test=0.908) roc_auc: (test=0.953) total time=   1.2s\n",
            "[CV 3/5] END bootstrap=False, criterion=entropy, max_depth=None, min_samples_split=2, n_estimators=100, random_state=42; accuracy: (test=0.917) f1_macro: (test=0.917) precision: (test=0.861) recall: (test=0.995) roc_auc: (test=0.989) total time=   1.3s\n",
            "[CV 4/5] END bootstrap=False, criterion=entropy, max_depth=None, min_samples_split=2, n_estimators=100, random_state=42; accuracy: (test=0.916) f1_macro: (test=0.916) precision: (test=0.862) recall: (test=0.991) roc_auc: (test=0.983) total time=   1.3s\n",
            "[CV 5/5] END bootstrap=False, criterion=entropy, max_depth=None, min_samples_split=2, n_estimators=100, random_state=42; accuracy: (test=0.920) f1_macro: (test=0.919) precision: (test=0.864) recall: (test=0.995) roc_auc: (test=0.991) total time=   1.2s\n",
            "[CV 1/5] END bootstrap=False, criterion=entropy, max_depth=None, min_samples_split=2, n_estimators=125, random_state=42; accuracy: (test=0.883) f1_macro: (test=0.883) precision: (test=0.853) recall: (test=0.926) roc_auc: (test=0.953) total time=   1.5s\n",
            "[CV 2/5] END bootstrap=False, criterion=entropy, max_depth=None, min_samples_split=2, n_estimators=125, random_state=42; accuracy: (test=0.875) f1_macro: (test=0.875) precision: (test=0.855) recall: (test=0.903) roc_auc: (test=0.952) total time=   1.5s\n",
            "[CV 3/5] END bootstrap=False, criterion=entropy, max_depth=None, min_samples_split=2, n_estimators=125, random_state=42; accuracy: (test=0.915) f1_macro: (test=0.915) precision: (test=0.858) recall: (test=0.995) roc_auc: (test=0.989) total time=   1.6s\n",
            "[CV 4/5] END bootstrap=False, criterion=entropy, max_depth=None, min_samples_split=2, n_estimators=125, random_state=42; accuracy: (test=0.914) f1_macro: (test=0.913) precision: (test=0.859) recall: (test=0.991) roc_auc: (test=0.985) total time=   1.6s\n",
            "[CV 5/5] END bootstrap=False, criterion=entropy, max_depth=None, min_samples_split=2, n_estimators=125, random_state=42; accuracy: (test=0.917) f1_macro: (test=0.916) precision: (test=0.860) recall: (test=0.995) roc_auc: (test=0.992) total time=   1.6s\n",
            "[CV 1/5] END bootstrap=False, criterion=entropy, max_depth=None, min_samples_split=4, n_estimators=75, random_state=42; accuracy: (test=0.886) f1_macro: (test=0.885) precision: (test=0.855) recall: (test=0.928) roc_auc: (test=0.940) total time=   0.9s\n",
            "[CV 2/5] END bootstrap=False, criterion=entropy, max_depth=None, min_samples_split=4, n_estimators=75, random_state=42; accuracy: (test=0.870) f1_macro: (test=0.870) precision: (test=0.848) recall: (test=0.902) roc_auc: (test=0.937) total time=   0.9s\n",
            "[CV 3/5] END bootstrap=False, criterion=entropy, max_depth=None, min_samples_split=4, n_estimators=75, random_state=42; accuracy: (test=0.917) f1_macro: (test=0.916) precision: (test=0.860) recall: (test=0.995) roc_auc: (test=0.977) total time=   1.0s\n",
            "[CV 4/5] END bootstrap=False, criterion=entropy, max_depth=None, min_samples_split=4, n_estimators=75, random_state=42; accuracy: (test=0.915) f1_macro: (test=0.914) precision: (test=0.860) recall: (test=0.991) roc_auc: (test=0.971) total time=   0.9s\n",
            "[CV 5/5] END bootstrap=False, criterion=entropy, max_depth=None, min_samples_split=4, n_estimators=75, random_state=42; accuracy: (test=0.916) f1_macro: (test=0.915) precision: (test=0.860) recall: (test=0.993) roc_auc: (test=0.975) total time=   0.9s\n",
            "[CV 1/5] END bootstrap=False, criterion=entropy, max_depth=None, min_samples_split=4, n_estimators=100, random_state=42; accuracy: (test=0.883) f1_macro: (test=0.882) precision: (test=0.851) recall: (test=0.927) roc_auc: (test=0.940) total time=   1.2s\n",
            "[CV 2/5] END bootstrap=False, criterion=entropy, max_depth=None, min_samples_split=4, n_estimators=100, random_state=42; accuracy: (test=0.871) f1_macro: (test=0.871) precision: (test=0.849) recall: (test=0.901) roc_auc: (test=0.937) total time=   1.2s\n",
            "[CV 3/5] END bootstrap=False, criterion=entropy, max_depth=None, min_samples_split=4, n_estimators=100, random_state=42; accuracy: (test=0.917) f1_macro: (test=0.916) precision: (test=0.860) recall: (test=0.995) roc_auc: (test=0.976) total time=   1.2s\n",
            "[CV 4/5] END bootstrap=False, criterion=entropy, max_depth=None, min_samples_split=4, n_estimators=100, random_state=42; accuracy: (test=0.917) f1_macro: (test=0.916) precision: (test=0.863) recall: (test=0.991) roc_auc: (test=0.971) total time=   1.2s\n",
            "[CV 5/5] END bootstrap=False, criterion=entropy, max_depth=None, min_samples_split=4, n_estimators=100, random_state=42; accuracy: (test=0.916) f1_macro: (test=0.915) precision: (test=0.860) recall: (test=0.993) roc_auc: (test=0.976) total time=   1.2s\n",
            "[CV 1/5] END bootstrap=False, criterion=entropy, max_depth=None, min_samples_split=4, n_estimators=125, random_state=42; accuracy: (test=0.884) f1_macro: (test=0.884) precision: (test=0.853) recall: (test=0.928) roc_auc: (test=0.941) total time=   1.5s\n",
            "[CV 2/5] END bootstrap=False, criterion=entropy, max_depth=None, min_samples_split=4, n_estimators=125, random_state=42; accuracy: (test=0.870) f1_macro: (test=0.869) precision: (test=0.848) recall: (test=0.901) roc_auc: (test=0.937) total time=   1.5s\n",
            "[CV 3/5] END bootstrap=False, criterion=entropy, max_depth=None, min_samples_split=4, n_estimators=125, random_state=42; accuracy: (test=0.919) f1_macro: (test=0.918) precision: (test=0.863) recall: (test=0.995) roc_auc: (test=0.977) total time=   1.6s\n",
            "[CV 4/5] END bootstrap=False, criterion=entropy, max_depth=None, min_samples_split=4, n_estimators=125, random_state=42; accuracy: (test=0.918) f1_macro: (test=0.918) precision: (test=0.865) recall: (test=0.991) roc_auc: (test=0.971) total time=   1.6s\n",
            "[CV 5/5] END bootstrap=False, criterion=entropy, max_depth=None, min_samples_split=4, n_estimators=125, random_state=42; accuracy: (test=0.917) f1_macro: (test=0.916) precision: (test=0.862) recall: (test=0.992) roc_auc: (test=0.976) total time=   1.5s\n",
            "[CV 1/5] END bootstrap=False, criterion=entropy, max_depth=None, min_samples_split=6, n_estimators=75, random_state=42; accuracy: (test=0.882) f1_macro: (test=0.882) precision: (test=0.853) recall: (test=0.924) roc_auc: (test=0.935) total time=   0.9s\n",
            "[CV 2/5] END bootstrap=False, criterion=entropy, max_depth=None, min_samples_split=6, n_estimators=75, random_state=42; accuracy: (test=0.874) f1_macro: (test=0.873) precision: (test=0.856) recall: (test=0.899) roc_auc: (test=0.930) total time=   0.9s\n",
            "[CV 3/5] END bootstrap=False, criterion=entropy, max_depth=None, min_samples_split=6, n_estimators=75, random_state=42; accuracy: (test=0.915) f1_macro: (test=0.915) precision: (test=0.861) recall: (test=0.990) roc_auc: (test=0.966) total time=   0.9s\n",
            "[CV 4/5] END bootstrap=False, criterion=entropy, max_depth=None, min_samples_split=6, n_estimators=75, random_state=42; accuracy: (test=0.911) f1_macro: (test=0.910) precision: (test=0.856) recall: (test=0.987) roc_auc: (test=0.961) total time=   0.9s\n",
            "[CV 5/5] END bootstrap=False, criterion=entropy, max_depth=None, min_samples_split=6, n_estimators=75, random_state=42; accuracy: (test=0.907) f1_macro: (test=0.907) precision: (test=0.856) recall: (test=0.979) roc_auc: (test=0.963) total time=   0.9s\n",
            "[CV 1/5] END bootstrap=False, criterion=entropy, max_depth=None, min_samples_split=6, n_estimators=100, random_state=42; accuracy: (test=0.883) f1_macro: (test=0.882) precision: (test=0.852) recall: (test=0.926) roc_auc: (test=0.935) total time=   1.2s\n",
            "[CV 2/5] END bootstrap=False, criterion=entropy, max_depth=None, min_samples_split=6, n_estimators=100, random_state=42; accuracy: (test=0.872) f1_macro: (test=0.872) precision: (test=0.853) recall: (test=0.900) roc_auc: (test=0.931) total time=   1.2s\n",
            "[CV 3/5] END bootstrap=False, criterion=entropy, max_depth=None, min_samples_split=6, n_estimators=100, random_state=42; accuracy: (test=0.913) f1_macro: (test=0.913) precision: (test=0.859) recall: (test=0.990) roc_auc: (test=0.966) total time=   1.2s\n",
            "[CV 4/5] END bootstrap=False, criterion=entropy, max_depth=None, min_samples_split=6, n_estimators=100, random_state=42; accuracy: (test=0.913) f1_macro: (test=0.913) precision: (test=0.859) recall: (test=0.989) roc_auc: (test=0.961) total time=   1.2s\n",
            "[CV 5/5] END bootstrap=False, criterion=entropy, max_depth=None, min_samples_split=6, n_estimators=100, random_state=42; accuracy: (test=0.909) f1_macro: (test=0.909) precision: (test=0.855) recall: (test=0.986) roc_auc: (test=0.964) total time=   1.2s\n",
            "[CV 1/5] END bootstrap=False, criterion=entropy, max_depth=None, min_samples_split=6, n_estimators=125, random_state=42; accuracy: (test=0.880) f1_macro: (test=0.880) precision: (test=0.850) recall: (test=0.924) roc_auc: (test=0.935) total time=   1.5s\n",
            "[CV 2/5] END bootstrap=False, criterion=entropy, max_depth=None, min_samples_split=6, n_estimators=125, random_state=42; accuracy: (test=0.874) f1_macro: (test=0.873) precision: (test=0.853) recall: (test=0.903) roc_auc: (test=0.931) total time=   1.5s\n",
            "[CV 3/5] END bootstrap=False, criterion=entropy, max_depth=None, min_samples_split=6, n_estimators=125, random_state=42; accuracy: (test=0.913) f1_macro: (test=0.912) precision: (test=0.858) recall: (test=0.990) roc_auc: (test=0.966) total time=   1.5s\n",
            "[CV 4/5] END bootstrap=False, criterion=entropy, max_depth=None, min_samples_split=6, n_estimators=125, random_state=42; accuracy: (test=0.916) f1_macro: (test=0.915) precision: (test=0.863) recall: (test=0.989) roc_auc: (test=0.961) total time=   1.5s\n",
            "[CV 5/5] END bootstrap=False, criterion=entropy, max_depth=None, min_samples_split=6, n_estimators=125, random_state=42; accuracy: (test=0.907) f1_macro: (test=0.907) precision: (test=0.853) recall: (test=0.984) roc_auc: (test=0.965) total time=   1.5s\n",
            "[CV 1/5] END bootstrap=False, criterion=entropy, max_depth=5, min_samples_split=2, n_estimators=75, random_state=42; accuracy: (test=0.757) f1_macro: (test=0.756) precision: (test=0.729) recall: (test=0.818) roc_auc: (test=0.838) total time=   0.4s\n",
            "[CV 2/5] END bootstrap=False, criterion=entropy, max_depth=5, min_samples_split=2, n_estimators=75, random_state=42; accuracy: (test=0.770) f1_macro: (test=0.769) precision: (test=0.736) recall: (test=0.842) roc_auc: (test=0.854) total time=   0.4s\n",
            "[CV 3/5] END bootstrap=False, criterion=entropy, max_depth=5, min_samples_split=2, n_estimators=75, random_state=42; accuracy: (test=0.768) f1_macro: (test=0.768) precision: (test=0.743) recall: (test=0.819) roc_auc: (test=0.851) total time=   0.4s\n",
            "[CV 4/5] END bootstrap=False, criterion=entropy, max_depth=5, min_samples_split=2, n_estimators=75, random_state=42; accuracy: (test=0.774) f1_macro: (test=0.773) precision: (test=0.748) recall: (test=0.826) roc_auc: (test=0.856) total time=   0.4s\n",
            "[CV 5/5] END bootstrap=False, criterion=entropy, max_depth=5, min_samples_split=2, n_estimators=75, random_state=42; accuracy: (test=0.769) f1_macro: (test=0.768) precision: (test=0.738) recall: (test=0.836) roc_auc: (test=0.855) total time=   0.4s\n",
            "[CV 1/5] END bootstrap=False, criterion=entropy, max_depth=5, min_samples_split=2, n_estimators=100, random_state=42; accuracy: (test=0.755) f1_macro: (test=0.754) precision: (test=0.728) recall: (test=0.815) roc_auc: (test=0.838) total time=   0.5s\n",
            "[CV 2/5] END bootstrap=False, criterion=entropy, max_depth=5, min_samples_split=2, n_estimators=100, random_state=42; accuracy: (test=0.769) f1_macro: (test=0.767) precision: (test=0.734) recall: (test=0.842) roc_auc: (test=0.854) total time=   0.5s\n",
            "[CV 3/5] END bootstrap=False, criterion=entropy, max_depth=5, min_samples_split=2, n_estimators=100, random_state=42; accuracy: (test=0.766) f1_macro: (test=0.766) precision: (test=0.739) recall: (test=0.822) roc_auc: (test=0.851) total time=   0.5s\n",
            "[CV 4/5] END bootstrap=False, criterion=entropy, max_depth=5, min_samples_split=2, n_estimators=100, random_state=42; accuracy: (test=0.774) f1_macro: (test=0.774) precision: (test=0.749) recall: (test=0.826) roc_auc: (test=0.856) total time=   0.5s\n",
            "[CV 5/5] END bootstrap=False, criterion=entropy, max_depth=5, min_samples_split=2, n_estimators=100, random_state=42; accuracy: (test=0.767) f1_macro: (test=0.766) precision: (test=0.735) recall: (test=0.835) roc_auc: (test=0.856) total time=   0.5s\n",
            "[CV 1/5] END bootstrap=False, criterion=entropy, max_depth=5, min_samples_split=2, n_estimators=125, random_state=42; accuracy: (test=0.759) f1_macro: (test=0.758) precision: (test=0.730) recall: (test=0.823) roc_auc: (test=0.838) total time=   0.6s\n",
            "[CV 2/5] END bootstrap=False, criterion=entropy, max_depth=5, min_samples_split=2, n_estimators=125, random_state=42; accuracy: (test=0.769) f1_macro: (test=0.768) precision: (test=0.735) recall: (test=0.843) roc_auc: (test=0.853) total time=   0.6s\n",
            "[CV 3/5] END bootstrap=False, criterion=entropy, max_depth=5, min_samples_split=2, n_estimators=125, random_state=42; accuracy: (test=0.766) f1_macro: (test=0.765) precision: (test=0.739) recall: (test=0.822) roc_auc: (test=0.851) total time=   0.6s\n",
            "[CV 4/5] END bootstrap=False, criterion=entropy, max_depth=5, min_samples_split=2, n_estimators=125, random_state=42; accuracy: (test=0.776) f1_macro: (test=0.775) precision: (test=0.750) recall: (test=0.828) roc_auc: (test=0.856) total time=   0.6s\n",
            "[CV 5/5] END bootstrap=False, criterion=entropy, max_depth=5, min_samples_split=2, n_estimators=125, random_state=42; accuracy: (test=0.766) f1_macro: (test=0.765) precision: (test=0.735) recall: (test=0.831) roc_auc: (test=0.855) total time=   0.6s\n",
            "[CV 1/5] END bootstrap=False, criterion=entropy, max_depth=5, min_samples_split=4, n_estimators=75, random_state=42; accuracy: (test=0.761) f1_macro: (test=0.760) precision: (test=0.730) recall: (test=0.827) roc_auc: (test=0.838) total time=   0.4s\n",
            "[CV 2/5] END bootstrap=False, criterion=entropy, max_depth=5, min_samples_split=4, n_estimators=75, random_state=42; accuracy: (test=0.770) f1_macro: (test=0.769) precision: (test=0.736) recall: (test=0.842) roc_auc: (test=0.854) total time=   0.4s\n",
            "[CV 3/5] END bootstrap=False, criterion=entropy, max_depth=5, min_samples_split=4, n_estimators=75, random_state=42; accuracy: (test=0.768) f1_macro: (test=0.768) precision: (test=0.743) recall: (test=0.819) roc_auc: (test=0.851) total time=   0.4s\n",
            "[CV 4/5] END bootstrap=False, criterion=entropy, max_depth=5, min_samples_split=4, n_estimators=75, random_state=42; accuracy: (test=0.773) f1_macro: (test=0.773) precision: (test=0.747) recall: (test=0.826) roc_auc: (test=0.856) total time=   0.4s\n",
            "[CV 5/5] END bootstrap=False, criterion=entropy, max_depth=5, min_samples_split=4, n_estimators=75, random_state=42; accuracy: (test=0.770) f1_macro: (test=0.769) precision: (test=0.738) recall: (test=0.836) roc_auc: (test=0.855) total time=   0.4s\n",
            "[CV 1/5] END bootstrap=False, criterion=entropy, max_depth=5, min_samples_split=4, n_estimators=100, random_state=42; accuracy: (test=0.760) f1_macro: (test=0.759) precision: (test=0.729) recall: (test=0.826) roc_auc: (test=0.838) total time=   0.5s\n",
            "[CV 2/5] END bootstrap=False, criterion=entropy, max_depth=5, min_samples_split=4, n_estimators=100, random_state=42; accuracy: (test=0.769) f1_macro: (test=0.767) precision: (test=0.734) recall: (test=0.842) roc_auc: (test=0.854) total time=   0.5s\n",
            "[CV 3/5] END bootstrap=False, criterion=entropy, max_depth=5, min_samples_split=4, n_estimators=100, random_state=42; accuracy: (test=0.766) f1_macro: (test=0.766) precision: (test=0.739) recall: (test=0.822) roc_auc: (test=0.851) total time=   0.5s\n",
            "[CV 4/5] END bootstrap=False, criterion=entropy, max_depth=5, min_samples_split=4, n_estimators=100, random_state=42; accuracy: (test=0.774) f1_macro: (test=0.774) precision: (test=0.749) recall: (test=0.826) roc_auc: (test=0.855) total time=   0.5s\n",
            "[CV 5/5] END bootstrap=False, criterion=entropy, max_depth=5, min_samples_split=4, n_estimators=100, random_state=42; accuracy: (test=0.767) f1_macro: (test=0.766) precision: (test=0.735) recall: (test=0.835) roc_auc: (test=0.855) total time=   0.5s\n",
            "[CV 1/5] END bootstrap=False, criterion=entropy, max_depth=5, min_samples_split=4, n_estimators=125, random_state=42; accuracy: (test=0.760) f1_macro: (test=0.759) precision: (test=0.730) recall: (test=0.825) roc_auc: (test=0.838) total time=   0.6s\n",
            "[CV 2/5] END bootstrap=False, criterion=entropy, max_depth=5, min_samples_split=4, n_estimators=125, random_state=42; accuracy: (test=0.769) f1_macro: (test=0.768) precision: (test=0.735) recall: (test=0.843) roc_auc: (test=0.853) total time=   0.6s\n",
            "[CV 3/5] END bootstrap=False, criterion=entropy, max_depth=5, min_samples_split=4, n_estimators=125, random_state=42; accuracy: (test=0.766) f1_macro: (test=0.765) precision: (test=0.738) recall: (test=0.823) roc_auc: (test=0.851) total time=   0.6s\n",
            "[CV 4/5] END bootstrap=False, criterion=entropy, max_depth=5, min_samples_split=4, n_estimators=125, random_state=42; accuracy: (test=0.775) f1_macro: (test=0.774) precision: (test=0.750) recall: (test=0.826) roc_auc: (test=0.856) total time=   0.6s\n",
            "[CV 5/5] END bootstrap=False, criterion=entropy, max_depth=5, min_samples_split=4, n_estimators=125, random_state=42; accuracy: (test=0.766) f1_macro: (test=0.765) precision: (test=0.735) recall: (test=0.833) roc_auc: (test=0.855) total time=   0.6s\n",
            "[CV 1/5] END bootstrap=False, criterion=entropy, max_depth=5, min_samples_split=6, n_estimators=75, random_state=42; accuracy: (test=0.761) f1_macro: (test=0.760) precision: (test=0.731) recall: (test=0.827) roc_auc: (test=0.838) total time=   0.4s\n",
            "[CV 2/5] END bootstrap=False, criterion=entropy, max_depth=5, min_samples_split=6, n_estimators=75, random_state=42; accuracy: (test=0.770) f1_macro: (test=0.769) precision: (test=0.736) recall: (test=0.842) roc_auc: (test=0.854) total time=   0.4s\n",
            "[CV 3/5] END bootstrap=False, criterion=entropy, max_depth=5, min_samples_split=6, n_estimators=75, random_state=42; accuracy: (test=0.768) f1_macro: (test=0.768) precision: (test=0.743) recall: (test=0.819) roc_auc: (test=0.851) total time=   0.4s\n",
            "[CV 4/5] END bootstrap=False, criterion=entropy, max_depth=5, min_samples_split=6, n_estimators=75, random_state=42; accuracy: (test=0.773) f1_macro: (test=0.773) precision: (test=0.748) recall: (test=0.825) roc_auc: (test=0.856) total time=   0.4s\n",
            "[CV 5/5] END bootstrap=False, criterion=entropy, max_depth=5, min_samples_split=6, n_estimators=75, random_state=42; accuracy: (test=0.768) f1_macro: (test=0.766) precision: (test=0.736) recall: (test=0.835) roc_auc: (test=0.855) total time=   0.4s\n",
            "[CV 1/5] END bootstrap=False, criterion=entropy, max_depth=5, min_samples_split=6, n_estimators=100, random_state=42; accuracy: (test=0.760) f1_macro: (test=0.759) precision: (test=0.730) recall: (test=0.825) roc_auc: (test=0.838) total time=   0.5s\n",
            "[CV 2/5] END bootstrap=False, criterion=entropy, max_depth=5, min_samples_split=6, n_estimators=100, random_state=42; accuracy: (test=0.769) f1_macro: (test=0.767) precision: (test=0.734) recall: (test=0.842) roc_auc: (test=0.854) total time=   0.5s\n",
            "[CV 3/5] END bootstrap=False, criterion=entropy, max_depth=5, min_samples_split=6, n_estimators=100, random_state=42; accuracy: (test=0.766) f1_macro: (test=0.766) precision: (test=0.739) recall: (test=0.822) roc_auc: (test=0.851) total time=   0.5s\n",
            "[CV 4/5] END bootstrap=False, criterion=entropy, max_depth=5, min_samples_split=6, n_estimators=100, random_state=42; accuracy: (test=0.775) f1_macro: (test=0.774) precision: (test=0.749) recall: (test=0.827) roc_auc: (test=0.856) total time=   0.5s\n",
            "[CV 5/5] END bootstrap=False, criterion=entropy, max_depth=5, min_samples_split=6, n_estimators=100, random_state=42; accuracy: (test=0.767) f1_macro: (test=0.766) precision: (test=0.735) recall: (test=0.835) roc_auc: (test=0.855) total time=   0.5s\n",
            "[CV 1/5] END bootstrap=False, criterion=entropy, max_depth=5, min_samples_split=6, n_estimators=125, random_state=42; accuracy: (test=0.760) f1_macro: (test=0.759) precision: (test=0.730) recall: (test=0.826) roc_auc: (test=0.838) total time=   0.6s\n",
            "[CV 2/5] END bootstrap=False, criterion=entropy, max_depth=5, min_samples_split=6, n_estimators=125, random_state=42; accuracy: (test=0.769) f1_macro: (test=0.768) precision: (test=0.735) recall: (test=0.843) roc_auc: (test=0.853) total time=   0.6s\n",
            "[CV 3/5] END bootstrap=False, criterion=entropy, max_depth=5, min_samples_split=6, n_estimators=125, random_state=42; accuracy: (test=0.766) f1_macro: (test=0.765) precision: (test=0.738) recall: (test=0.823) roc_auc: (test=0.851) total time=   0.6s\n",
            "[CV 4/5] END bootstrap=False, criterion=entropy, max_depth=5, min_samples_split=6, n_estimators=125, random_state=42; accuracy: (test=0.775) f1_macro: (test=0.774) precision: (test=0.750) recall: (test=0.826) roc_auc: (test=0.856) total time=   0.6s\n",
            "[CV 5/5] END bootstrap=False, criterion=entropy, max_depth=5, min_samples_split=6, n_estimators=125, random_state=42; accuracy: (test=0.766) f1_macro: (test=0.765) precision: (test=0.735) recall: (test=0.833) roc_auc: (test=0.855) total time=   0.6s\n",
            "[CV 1/5] END bootstrap=False, criterion=entropy, max_depth=15, min_samples_split=2, n_estimators=75, random_state=42; accuracy: (test=0.876) f1_macro: (test=0.875) precision: (test=0.829) recall: (test=0.946) roc_auc: (test=0.941) total time=   0.8s\n",
            "[CV 2/5] END bootstrap=False, criterion=entropy, max_depth=15, min_samples_split=2, n_estimators=75, random_state=42; accuracy: (test=0.871) f1_macro: (test=0.871) precision: (test=0.839) recall: (test=0.919) roc_auc: (test=0.939) total time=   0.8s\n",
            "[CV 3/5] END bootstrap=False, criterion=entropy, max_depth=15, min_samples_split=2, n_estimators=75, random_state=42; accuracy: (test=0.903) f1_macro: (test=0.902) precision: (test=0.840) recall: (test=0.997) roc_auc: (test=0.961) total time=   0.8s\n",
            "[CV 4/5] END bootstrap=False, criterion=entropy, max_depth=15, min_samples_split=2, n_estimators=75, random_state=42; accuracy: (test=0.904) f1_macro: (test=0.903) precision: (test=0.843) recall: (test=0.992) roc_auc: (test=0.963) total time=   0.8s\n",
            "[CV 5/5] END bootstrap=False, criterion=entropy, max_depth=15, min_samples_split=2, n_estimators=75, random_state=42; accuracy: (test=0.903) f1_macro: (test=0.902) precision: (test=0.840) recall: (test=0.997) roc_auc: (test=0.968) total time=   0.9s\n",
            "[CV 1/5] END bootstrap=False, criterion=entropy, max_depth=15, min_samples_split=2, n_estimators=100, random_state=42; accuracy: (test=0.874) f1_macro: (test=0.873) precision: (test=0.827) recall: (test=0.945) roc_auc: (test=0.941) total time=   1.1s\n",
            "[CV 2/5] END bootstrap=False, criterion=entropy, max_depth=15, min_samples_split=2, n_estimators=100, random_state=42; accuracy: (test=0.869) f1_macro: (test=0.869) precision: (test=0.837) recall: (test=0.917) roc_auc: (test=0.938) total time=   1.1s\n",
            "[CV 3/5] END bootstrap=False, criterion=entropy, max_depth=15, min_samples_split=2, n_estimators=100, random_state=42; accuracy: (test=0.903) f1_macro: (test=0.902) precision: (test=0.840) recall: (test=0.994) roc_auc: (test=0.962) total time=   1.1s\n",
            "[CV 4/5] END bootstrap=False, criterion=entropy, max_depth=15, min_samples_split=2, n_estimators=100, random_state=42; accuracy: (test=0.904) f1_macro: (test=0.904) precision: (test=0.844) recall: (test=0.992) roc_auc: (test=0.963) total time=   1.1s\n",
            "[CV 5/5] END bootstrap=False, criterion=entropy, max_depth=15, min_samples_split=2, n_estimators=100, random_state=42; accuracy: (test=0.905) f1_macro: (test=0.905) precision: (test=0.843) recall: (test=0.997) roc_auc: (test=0.968) total time=   1.1s\n",
            "[CV 1/5] END bootstrap=False, criterion=entropy, max_depth=15, min_samples_split=2, n_estimators=125, random_state=42; accuracy: (test=0.874) f1_macro: (test=0.873) precision: (test=0.827) recall: (test=0.944) roc_auc: (test=0.941) total time=   1.4s\n",
            "[CV 2/5] END bootstrap=False, criterion=entropy, max_depth=15, min_samples_split=2, n_estimators=125, random_state=42; accuracy: (test=0.870) f1_macro: (test=0.869) precision: (test=0.838) recall: (test=0.917) roc_auc: (test=0.938) total time=   1.3s\n",
            "[CV 3/5] END bootstrap=False, criterion=entropy, max_depth=15, min_samples_split=2, n_estimators=125, random_state=42; accuracy: (test=0.906) f1_macro: (test=0.905) precision: (test=0.844) recall: (test=0.997) roc_auc: (test=0.963) total time=   1.4s\n",
            "[CV 4/5] END bootstrap=False, criterion=entropy, max_depth=15, min_samples_split=2, n_estimators=125, random_state=42; accuracy: (test=0.904) f1_macro: (test=0.904) precision: (test=0.844) recall: (test=0.992) roc_auc: (test=0.963) total time=   1.4s\n",
            "[CV 5/5] END bootstrap=False, criterion=entropy, max_depth=15, min_samples_split=2, n_estimators=125, random_state=42; accuracy: (test=0.906) f1_macro: (test=0.905) precision: (test=0.843) recall: (test=0.998) roc_auc: (test=0.968) total time=   1.4s\n",
            "[CV 1/5] END bootstrap=False, criterion=entropy, max_depth=15, min_samples_split=4, n_estimators=75, random_state=42; accuracy: (test=0.873) f1_macro: (test=0.872) precision: (test=0.828) recall: (test=0.942) roc_auc: (test=0.936) total time=   0.8s\n",
            "[CV 2/5] END bootstrap=False, criterion=entropy, max_depth=15, min_samples_split=4, n_estimators=75, random_state=42; accuracy: (test=0.863) f1_macro: (test=0.863) precision: (test=0.832) recall: (test=0.910) roc_auc: (test=0.929) total time=   0.8s\n",
            "[CV 3/5] END bootstrap=False, criterion=entropy, max_depth=15, min_samples_split=4, n_estimators=75, random_state=42; accuracy: (test=0.904) f1_macro: (test=0.904) precision: (test=0.845) recall: (test=0.990) roc_auc: (test=0.957) total time=   0.8s\n",
            "[CV 4/5] END bootstrap=False, criterion=entropy, max_depth=15, min_samples_split=4, n_estimators=75, random_state=42; accuracy: (test=0.907) f1_macro: (test=0.906) precision: (test=0.848) recall: (test=0.991) roc_auc: (test=0.957) total time=   0.8s\n",
            "[CV 5/5] END bootstrap=False, criterion=entropy, max_depth=15, min_samples_split=4, n_estimators=75, random_state=42; accuracy: (test=0.902) f1_macro: (test=0.901) precision: (test=0.841) recall: (test=0.992) roc_auc: (test=0.961) total time=   0.8s\n",
            "[CV 1/5] END bootstrap=False, criterion=entropy, max_depth=15, min_samples_split=4, n_estimators=100, random_state=42; accuracy: (test=0.875) f1_macro: (test=0.874) precision: (test=0.830) recall: (test=0.943) roc_auc: (test=0.937) total time=   1.1s\n",
            "[CV 2/5] END bootstrap=False, criterion=entropy, max_depth=15, min_samples_split=4, n_estimators=100, random_state=42; accuracy: (test=0.866) f1_macro: (test=0.865) precision: (test=0.834) recall: (test=0.912) roc_auc: (test=0.929) total time=   1.1s\n",
            "[CV 3/5] END bootstrap=False, criterion=entropy, max_depth=15, min_samples_split=4, n_estimators=100, random_state=42; accuracy: (test=0.904) f1_macro: (test=0.903) precision: (test=0.843) recall: (test=0.992) roc_auc: (test=0.957) total time=   1.1s\n",
            "[CV 4/5] END bootstrap=False, criterion=entropy, max_depth=15, min_samples_split=4, n_estimators=100, random_state=42; accuracy: (test=0.901) f1_macro: (test=0.901) precision: (test=0.841) recall: (test=0.990) roc_auc: (test=0.957) total time=   1.1s\n",
            "[CV 5/5] END bootstrap=False, criterion=entropy, max_depth=15, min_samples_split=4, n_estimators=100, random_state=42; accuracy: (test=0.903) f1_macro: (test=0.902) precision: (test=0.842) recall: (test=0.992) roc_auc: (test=0.961) total time=   1.1s\n",
            "[CV 1/5] END bootstrap=False, criterion=entropy, max_depth=15, min_samples_split=4, n_estimators=125, random_state=42; accuracy: (test=0.875) f1_macro: (test=0.874) precision: (test=0.830) recall: (test=0.943) roc_auc: (test=0.937) total time=   1.4s\n",
            "[CV 2/5] END bootstrap=False, criterion=entropy, max_depth=15, min_samples_split=4, n_estimators=125, random_state=42; accuracy: (test=0.863) f1_macro: (test=0.863) precision: (test=0.831) recall: (test=0.911) roc_auc: (test=0.929) total time=   1.3s\n",
            "[CV 3/5] END bootstrap=False, criterion=entropy, max_depth=15, min_samples_split=4, n_estimators=125, random_state=42; accuracy: (test=0.904) f1_macro: (test=0.903) precision: (test=0.843) recall: (test=0.992) roc_auc: (test=0.958) total time=   1.4s\n",
            "[CV 4/5] END bootstrap=False, criterion=entropy, max_depth=15, min_samples_split=4, n_estimators=125, random_state=42; accuracy: (test=0.902) f1_macro: (test=0.901) precision: (test=0.842) recall: (test=0.990) roc_auc: (test=0.958) total time=   1.4s\n",
            "[CV 5/5] END bootstrap=False, criterion=entropy, max_depth=15, min_samples_split=4, n_estimators=125, random_state=42; accuracy: (test=0.904) f1_macro: (test=0.903) precision: (test=0.843) recall: (test=0.993) roc_auc: (test=0.961) total time=   1.4s\n",
            "[CV 1/5] END bootstrap=False, criterion=entropy, max_depth=15, min_samples_split=6, n_estimators=75, random_state=42; accuracy: (test=0.870) f1_macro: (test=0.869) precision: (test=0.828) recall: (test=0.933) roc_auc: (test=0.930) total time=   0.8s\n",
            "[CV 2/5] END bootstrap=False, criterion=entropy, max_depth=15, min_samples_split=6, n_estimators=75, random_state=42; accuracy: (test=0.860) f1_macro: (test=0.860) precision: (test=0.832) recall: (test=0.903) roc_auc: (test=0.926) total time=   0.8s\n",
            "[CV 3/5] END bootstrap=False, criterion=entropy, max_depth=15, min_samples_split=6, n_estimators=75, random_state=42; accuracy: (test=0.901) f1_macro: (test=0.900) precision: (test=0.841) recall: (test=0.989) roc_auc: (test=0.952) total time=   0.8s\n",
            "[CV 4/5] END bootstrap=False, criterion=entropy, max_depth=15, min_samples_split=6, n_estimators=75, random_state=42; accuracy: (test=0.899) f1_macro: (test=0.898) precision: (test=0.843) recall: (test=0.982) roc_auc: (test=0.950) total time=   0.8s\n",
            "[CV 5/5] END bootstrap=False, criterion=entropy, max_depth=15, min_samples_split=6, n_estimators=75, random_state=42; accuracy: (test=0.900) f1_macro: (test=0.899) precision: (test=0.839) recall: (test=0.990) roc_auc: (test=0.955) total time=   0.8s\n",
            "[CV 1/5] END bootstrap=False, criterion=entropy, max_depth=15, min_samples_split=6, n_estimators=100, random_state=42; accuracy: (test=0.871) f1_macro: (test=0.871) precision: (test=0.829) recall: (test=0.935) roc_auc: (test=0.931) total time=   1.1s\n",
            "[CV 2/5] END bootstrap=False, criterion=entropy, max_depth=15, min_samples_split=6, n_estimators=100, random_state=42; accuracy: (test=0.860) f1_macro: (test=0.860) precision: (test=0.832) recall: (test=0.903) roc_auc: (test=0.927) total time=   1.1s\n",
            "[CV 3/5] END bootstrap=False, criterion=entropy, max_depth=15, min_samples_split=6, n_estimators=100, random_state=42; accuracy: (test=0.902) f1_macro: (test=0.901) precision: (test=0.843) recall: (test=0.989) roc_auc: (test=0.952) total time=   1.1s\n",
            "[CV 4/5] END bootstrap=False, criterion=entropy, max_depth=15, min_samples_split=6, n_estimators=100, random_state=42; accuracy: (test=0.901) f1_macro: (test=0.900) precision: (test=0.844) recall: (test=0.983) roc_auc: (test=0.950) total time=   1.1s\n",
            "[CV 5/5] END bootstrap=False, criterion=entropy, max_depth=15, min_samples_split=6, n_estimators=100, random_state=42; accuracy: (test=0.896) f1_macro: (test=0.895) precision: (test=0.834) recall: (test=0.987) roc_auc: (test=0.955) total time=   1.1s\n",
            "[CV 1/5] END bootstrap=False, criterion=entropy, max_depth=15, min_samples_split=6, n_estimators=125, random_state=42; accuracy: (test=0.872) f1_macro: (test=0.871) precision: (test=0.831) recall: (test=0.934) roc_auc: (test=0.931) total time=   1.3s\n",
            "[CV 2/5] END bootstrap=False, criterion=entropy, max_depth=15, min_samples_split=6, n_estimators=125, random_state=42; accuracy: (test=0.861) f1_macro: (test=0.861) precision: (test=0.833) recall: (test=0.903) roc_auc: (test=0.927) total time=   1.3s\n",
            "[CV 3/5] END bootstrap=False, criterion=entropy, max_depth=15, min_samples_split=6, n_estimators=125, random_state=42; accuracy: (test=0.900) f1_macro: (test=0.899) precision: (test=0.842) recall: (test=0.984) roc_auc: (test=0.952) total time=   1.3s\n",
            "[CV 4/5] END bootstrap=False, criterion=entropy, max_depth=15, min_samples_split=6, n_estimators=125, random_state=42; accuracy: (test=0.901) f1_macro: (test=0.901) precision: (test=0.845) recall: (test=0.984) roc_auc: (test=0.951) total time=   1.4s\n",
            "[CV 5/5] END bootstrap=False, criterion=entropy, max_depth=15, min_samples_split=6, n_estimators=125, random_state=42; accuracy: (test=0.900) f1_macro: (test=0.900) precision: (test=0.841) recall: (test=0.987) roc_auc: (test=0.954) total time=   1.4s\n",
            "[CV 1/5] END bootstrap=False, criterion=entropy, max_depth=25, min_samples_split=2, n_estimators=75, random_state=42; accuracy: (test=0.882) f1_macro: (test=0.882) precision: (test=0.850) recall: (test=0.928) roc_auc: (test=0.952) total time=   0.9s\n",
            "[CV 2/5] END bootstrap=False, criterion=entropy, max_depth=25, min_samples_split=2, n_estimators=75, random_state=42; accuracy: (test=0.875) f1_macro: (test=0.874) precision: (test=0.850) recall: (test=0.910) roc_auc: (test=0.947) total time=   0.9s\n",
            "[CV 3/5] END bootstrap=False, criterion=entropy, max_depth=25, min_samples_split=2, n_estimators=75, random_state=42; accuracy: (test=0.915) f1_macro: (test=0.914) precision: (test=0.857) recall: (test=0.995) roc_auc: (test=0.984) total time=   0.9s\n",
            "[CV 4/5] END bootstrap=False, criterion=entropy, max_depth=25, min_samples_split=2, n_estimators=75, random_state=42; accuracy: (test=0.915) f1_macro: (test=0.914) precision: (test=0.860) recall: (test=0.991) roc_auc: (test=0.979) total time=   0.9s\n",
            "[CV 5/5] END bootstrap=False, criterion=entropy, max_depth=25, min_samples_split=2, n_estimators=75, random_state=42; accuracy: (test=0.917) f1_macro: (test=0.917) precision: (test=0.861) recall: (test=0.995) roc_auc: (test=0.988) total time=   1.0s\n",
            "[CV 1/5] END bootstrap=False, criterion=entropy, max_depth=25, min_samples_split=2, n_estimators=100, random_state=42; accuracy: (test=0.882) f1_macro: (test=0.881) precision: (test=0.850) recall: (test=0.927) roc_auc: (test=0.953) total time=   1.2s\n",
            "[CV 2/5] END bootstrap=False, criterion=entropy, max_depth=25, min_samples_split=2, n_estimators=100, random_state=42; accuracy: (test=0.874) f1_macro: (test=0.873) precision: (test=0.853) recall: (test=0.903) roc_auc: (test=0.948) total time=   1.2s\n",
            "[CV 3/5] END bootstrap=False, criterion=entropy, max_depth=25, min_samples_split=2, n_estimators=100, random_state=42; accuracy: (test=0.917) f1_macro: (test=0.917) precision: (test=0.861) recall: (test=0.995) roc_auc: (test=0.984) total time=   1.2s\n",
            "[CV 4/5] END bootstrap=False, criterion=entropy, max_depth=25, min_samples_split=2, n_estimators=100, random_state=42; accuracy: (test=0.915) f1_macro: (test=0.915) precision: (test=0.861) recall: (test=0.991) roc_auc: (test=0.979) total time=   1.2s\n",
            "[CV 5/5] END bootstrap=False, criterion=entropy, max_depth=25, min_samples_split=2, n_estimators=100, random_state=42; accuracy: (test=0.919) f1_macro: (test=0.919) precision: (test=0.864) recall: (test=0.995) roc_auc: (test=0.988) total time=   1.3s\n",
            "[CV 1/5] END bootstrap=False, criterion=entropy, max_depth=25, min_samples_split=2, n_estimators=125, random_state=42; accuracy: (test=0.883) f1_macro: (test=0.882) precision: (test=0.851) recall: (test=0.928) roc_auc: (test=0.953) total time=   1.5s\n",
            "[CV 2/5] END bootstrap=False, criterion=entropy, max_depth=25, min_samples_split=2, n_estimators=125, random_state=42; accuracy: (test=0.874) f1_macro: (test=0.873) precision: (test=0.851) recall: (test=0.905) roc_auc: (test=0.948) total time=   1.5s\n",
            "[CV 3/5] END bootstrap=False, criterion=entropy, max_depth=25, min_samples_split=2, n_estimators=125, random_state=42; accuracy: (test=0.916) f1_macro: (test=0.916) precision: (test=0.859) recall: (test=0.995) roc_auc: (test=0.984) total time=   1.5s\n",
            "[CV 4/5] END bootstrap=False, criterion=entropy, max_depth=25, min_samples_split=2, n_estimators=125, random_state=42; accuracy: (test=0.913) f1_macro: (test=0.912) precision: (test=0.857) recall: (test=0.991) roc_auc: (test=0.980) total time=   1.6s\n",
            "[CV 5/5] END bootstrap=False, criterion=entropy, max_depth=25, min_samples_split=2, n_estimators=125, random_state=42; accuracy: (test=0.917) f1_macro: (test=0.917) precision: (test=0.861) recall: (test=0.995) roc_auc: (test=0.989) total time=   1.5s\n",
            "[CV 1/5] END bootstrap=False, criterion=entropy, max_depth=25, min_samples_split=4, n_estimators=75, random_state=42; accuracy: (test=0.887) f1_macro: (test=0.886) precision: (test=0.857) recall: (test=0.928) roc_auc: (test=0.941) total time=   0.9s\n",
            "[CV 2/5] END bootstrap=False, criterion=entropy, max_depth=25, min_samples_split=4, n_estimators=75, random_state=42; accuracy: (test=0.871) f1_macro: (test=0.871) precision: (test=0.849) recall: (test=0.903) roc_auc: (test=0.937) total time=   0.9s\n",
            "[CV 3/5] END bootstrap=False, criterion=entropy, max_depth=25, min_samples_split=4, n_estimators=75, random_state=42; accuracy: (test=0.917) f1_macro: (test=0.917) precision: (test=0.861) recall: (test=0.995) roc_auc: (test=0.975) total time=   0.9s\n",
            "[CV 4/5] END bootstrap=False, criterion=entropy, max_depth=25, min_samples_split=4, n_estimators=75, random_state=42; accuracy: (test=0.918) f1_macro: (test=0.918) precision: (test=0.865) recall: (test=0.991) roc_auc: (test=0.970) total time=   0.9s\n",
            "[CV 5/5] END bootstrap=False, criterion=entropy, max_depth=25, min_samples_split=4, n_estimators=75, random_state=42; accuracy: (test=0.919) f1_macro: (test=0.918) precision: (test=0.864) recall: (test=0.993) roc_auc: (test=0.975) total time=   0.9s\n",
            "[CV 1/5] END bootstrap=False, criterion=entropy, max_depth=25, min_samples_split=4, n_estimators=100, random_state=42; accuracy: (test=0.885) f1_macro: (test=0.885) precision: (test=0.854) recall: (test=0.928) roc_auc: (test=0.941) total time=   1.2s\n",
            "[CV 2/5] END bootstrap=False, criterion=entropy, max_depth=25, min_samples_split=4, n_estimators=100, random_state=42; accuracy: (test=0.872) f1_macro: (test=0.872) precision: (test=0.850) recall: (test=0.903) roc_auc: (test=0.937) total time=   1.2s\n",
            "[CV 3/5] END bootstrap=False, criterion=entropy, max_depth=25, min_samples_split=4, n_estimators=100, random_state=42; accuracy: (test=0.914) f1_macro: (test=0.913) precision: (test=0.856) recall: (test=0.995) roc_auc: (test=0.975) total time=   1.2s\n",
            "[CV 4/5] END bootstrap=False, criterion=entropy, max_depth=25, min_samples_split=4, n_estimators=100, random_state=42; accuracy: (test=0.917) f1_macro: (test=0.917) precision: (test=0.864) recall: (test=0.991) roc_auc: (test=0.970) total time=   1.2s\n",
            "[CV 5/5] END bootstrap=False, criterion=entropy, max_depth=25, min_samples_split=4, n_estimators=100, random_state=42; accuracy: (test=0.915) f1_macro: (test=0.915) precision: (test=0.860) recall: (test=0.992) roc_auc: (test=0.975) total time=   1.2s\n",
            "[CV 1/5] END bootstrap=False, criterion=entropy, max_depth=25, min_samples_split=4, n_estimators=125, random_state=42; accuracy: (test=0.884) f1_macro: (test=0.884) precision: (test=0.853) recall: (test=0.928) roc_auc: (test=0.941) total time=   1.5s\n",
            "[CV 2/5] END bootstrap=False, criterion=entropy, max_depth=25, min_samples_split=4, n_estimators=125, random_state=42; accuracy: (test=0.872) f1_macro: (test=0.872) precision: (test=0.851) recall: (test=0.902) roc_auc: (test=0.937) total time=   1.5s\n",
            "[CV 3/5] END bootstrap=False, criterion=entropy, max_depth=25, min_samples_split=4, n_estimators=125, random_state=42; accuracy: (test=0.917) f1_macro: (test=0.916) precision: (test=0.860) recall: (test=0.995) roc_auc: (test=0.975) total time=   1.5s\n",
            "[CV 4/5] END bootstrap=False, criterion=entropy, max_depth=25, min_samples_split=4, n_estimators=125, random_state=42; accuracy: (test=0.915) f1_macro: (test=0.915) precision: (test=0.861) recall: (test=0.991) roc_auc: (test=0.969) total time=   1.5s\n",
            "[CV 5/5] END bootstrap=False, criterion=entropy, max_depth=25, min_samples_split=4, n_estimators=125, random_state=42; accuracy: (test=0.916) f1_macro: (test=0.916) precision: (test=0.862) recall: (test=0.992) roc_auc: (test=0.975) total time=   1.5s\n",
            "[CV 1/5] END bootstrap=False, criterion=entropy, max_depth=25, min_samples_split=6, n_estimators=75, random_state=42; accuracy: (test=0.876) f1_macro: (test=0.876) precision: (test=0.843) recall: (test=0.924) roc_auc: (test=0.934) total time=   0.9s\n",
            "[CV 2/5] END bootstrap=False, criterion=entropy, max_depth=25, min_samples_split=6, n_estimators=75, random_state=42; accuracy: (test=0.875) f1_macro: (test=0.875) precision: (test=0.854) recall: (test=0.903) roc_auc: (test=0.930) total time=   0.9s\n",
            "[CV 3/5] END bootstrap=False, criterion=entropy, max_depth=25, min_samples_split=6, n_estimators=75, random_state=42; accuracy: (test=0.915) f1_macro: (test=0.914) precision: (test=0.861) recall: (test=0.989) roc_auc: (test=0.965) total time=   0.9s\n",
            "[CV 4/5] END bootstrap=False, criterion=entropy, max_depth=25, min_samples_split=6, n_estimators=75, random_state=42; accuracy: (test=0.911) f1_macro: (test=0.910) precision: (test=0.855) recall: (test=0.989) roc_auc: (test=0.959) total time=   0.9s\n",
            "[CV 5/5] END bootstrap=False, criterion=entropy, max_depth=25, min_samples_split=6, n_estimators=75, random_state=42; accuracy: (test=0.910) f1_macro: (test=0.909) precision: (test=0.856) recall: (test=0.985) roc_auc: (test=0.963) total time=   0.9s\n",
            "[CV 1/5] END bootstrap=False, criterion=entropy, max_depth=25, min_samples_split=6, n_estimators=100, random_state=42; accuracy: (test=0.874) f1_macro: (test=0.874) precision: (test=0.843) recall: (test=0.920) roc_auc: (test=0.934) total time=   1.2s\n",
            "[CV 2/5] END bootstrap=False, criterion=entropy, max_depth=25, min_samples_split=6, n_estimators=100, random_state=42; accuracy: (test=0.873) f1_macro: (test=0.873) precision: (test=0.852) recall: (test=0.903) roc_auc: (test=0.930) total time=   1.2s\n",
            "[CV 3/5] END bootstrap=False, criterion=entropy, max_depth=25, min_samples_split=6, n_estimators=100, random_state=42; accuracy: (test=0.913) f1_macro: (test=0.913) precision: (test=0.859) recall: (test=0.990) roc_auc: (test=0.965) total time=   1.2s\n",
            "[CV 4/5] END bootstrap=False, criterion=entropy, max_depth=25, min_samples_split=6, n_estimators=100, random_state=42; accuracy: (test=0.913) f1_macro: (test=0.912) precision: (test=0.859) recall: (test=0.989) roc_auc: (test=0.959) total time=   1.2s\n",
            "[CV 5/5] END bootstrap=False, criterion=entropy, max_depth=25, min_samples_split=6, n_estimators=100, random_state=42; accuracy: (test=0.908) f1_macro: (test=0.908) precision: (test=0.853) recall: (test=0.986) roc_auc: (test=0.964) total time=   1.2s\n",
            "[CV 1/5] END bootstrap=False, criterion=entropy, max_depth=25, min_samples_split=6, n_estimators=125, random_state=42; accuracy: (test=0.878) f1_macro: (test=0.878) precision: (test=0.848) recall: (test=0.921) roc_auc: (test=0.934) total time=   1.5s\n",
            "[CV 2/5] END bootstrap=False, criterion=entropy, max_depth=25, min_samples_split=6, n_estimators=125, random_state=42; accuracy: (test=0.873) f1_macro: (test=0.873) precision: (test=0.852) recall: (test=0.903) roc_auc: (test=0.931) total time=   1.4s\n",
            "[CV 3/5] END bootstrap=False, criterion=entropy, max_depth=25, min_samples_split=6, n_estimators=125, random_state=42; accuracy: (test=0.913) f1_macro: (test=0.913) precision: (test=0.859) recall: (test=0.990) roc_auc: (test=0.965) total time=   1.5s\n",
            "[CV 4/5] END bootstrap=False, criterion=entropy, max_depth=25, min_samples_split=6, n_estimators=125, random_state=42; accuracy: (test=0.912) f1_macro: (test=0.912) precision: (test=0.858) recall: (test=0.989) roc_auc: (test=0.959) total time=   1.5s\n",
            "[CV 5/5] END bootstrap=False, criterion=entropy, max_depth=25, min_samples_split=6, n_estimators=125, random_state=42; accuracy: (test=0.909) f1_macro: (test=0.909) precision: (test=0.855) recall: (test=0.986) roc_auc: (test=0.965) total time=   1.5s\n"
          ]
        },
        {
          "output_type": "execute_result",
          "data": {
            "text/plain": [
              "GridSearchCV(cv=5, estimator=RandomForestClassifier(),\n",
              "             param_grid={'bootstrap': [True, False],\n",
              "                         'criterion': ['gini', 'entropy'],\n",
              "                         'max_depth': [None, 5, 15, 25],\n",
              "                         'min_samples_split': [2, 4, 6],\n",
              "                         'n_estimators': [75, 100, 125], 'random_state': [42]},\n",
              "             refit='recall',\n",
              "             scoring=['accuracy', 'recall', 'precision', 'f1_macro', 'roc_auc'],\n",
              "             verbose=3)"
            ]
          },
          "metadata": {},
          "execution_count": 211
        }
      ]
    },
    {
      "cell_type": "code",
      "source": [
        "best_params = RF_grid_cv.best_params_\n",
        "\n",
        "print(f'Os melhores parâmetros encontrados no grid search são:\\n\\n{best_params}')"
      ],
      "metadata": {
        "colab": {
          "base_uri": "https://localhost:8080/"
        },
        "id": "PG1iGD-vLLWP",
        "outputId": "fed13f78-bd17-4608-ca96-d35752b9929e"
      },
      "execution_count": 212,
      "outputs": [
        {
          "output_type": "stream",
          "name": "stdout",
          "text": [
            "Os melhores parâmetros encontrados no grid search são:\n",
            "\n",
            "{'bootstrap': True, 'criterion': 'gini', 'max_depth': 15, 'min_samples_split': 2, 'n_estimators': 125, 'random_state': 42}\n"
          ]
        }
      ]
    },
    {
      "cell_type": "markdown",
      "source": [
        "Com os melhores parâmetros encontrados acima irei treinar um modelo final com essa configuração em todo os dados de treino. Este será meu modelo final para o último teste."
      ],
      "metadata": {
        "id": "uxdozN03dWa9"
      }
    },
    {
      "cell_type": "markdown",
      "source": [
        "#### Treinando o último modelo"
      ],
      "metadata": {
        "id": "FPhVXAPLeLI0"
      }
    },
    {
      "cell_type": "code",
      "source": [
        "RF_final = RandomForestClassifier(bootstrap=True,\n",
        "                            criterion='gini',\n",
        "                            max_depth=15,\n",
        "                            min_samples_split=2,\n",
        "                            n_estimators=125,\n",
        "                            random_state=42)"
      ],
      "metadata": {
        "id": "DZ9MBcoidVa1"
      },
      "execution_count": 213,
      "outputs": []
    },
    {
      "cell_type": "code",
      "source": [
        "RF_final.fit(X_train_ros_best, y_train_ros_best)"
      ],
      "metadata": {
        "colab": {
          "base_uri": "https://localhost:8080/"
        },
        "id": "GdVmsYkQdKJZ",
        "outputId": "55d21ad7-6cc9-45ac-a4ff-af2681e9523b"
      },
      "execution_count": 214,
      "outputs": [
        {
          "output_type": "execute_result",
          "data": {
            "text/plain": [
              "RandomForestClassifier(max_depth=15, n_estimators=125, random_state=42)"
            ]
          },
          "metadata": {},
          "execution_count": 214
        }
      ]
    },
    {
      "cell_type": "code",
      "source": [
        "RF_final.score(X_test_enc_best, y_test_enc)"
      ],
      "metadata": {
        "colab": {
          "base_uri": "https://localhost:8080/"
        },
        "id": "K-f7f_Bue_0o",
        "outputId": "e47bd311-385b-4964-95d8-de95757dbb55"
      },
      "execution_count": 215,
      "outputs": [
        {
          "output_type": "execute_result",
          "data": {
            "text/plain": [
              "0.7554502369668247"
            ]
          },
          "metadata": {},
          "execution_count": 215
        }
      ]
    },
    {
      "cell_type": "code",
      "source": [
        "y_pred_final = RF_final.predict(X_test_enc_best)"
      ],
      "metadata": {
        "id": "Ub-KYwI9e5sL"
      },
      "execution_count": 216,
      "outputs": []
    },
    {
      "cell_type": "code",
      "source": [
        "print(classification_report(y_test_enc, y_pred_final, output_dict=False))"
      ],
      "metadata": {
        "colab": {
          "base_uri": "https://localhost:8080/"
        },
        "id": "TsJuE-GlfUyD",
        "outputId": "5b357c42-154c-47f0-d1ad-0a82efef4b85"
      },
      "execution_count": 217,
      "outputs": [
        {
          "output_type": "stream",
          "name": "stdout",
          "text": [
            "              precision    recall  f1-score   support\n",
            "\n",
            "           0       0.86      0.80      0.83       775\n",
            "           1       0.53      0.62      0.58       280\n",
            "\n",
            "    accuracy                           0.76      1055\n",
            "   macro avg       0.69      0.71      0.70      1055\n",
            "weighted avg       0.77      0.76      0.76      1055\n",
            "\n"
          ]
        }
      ]
    },
    {
      "cell_type": "markdown",
      "source": [
        "Ao final, temos um modelo com uma performance muito parecida com os modelos avaliados durantes as etapas de validação. O modelo final tem uma acurácia de 0.75, F1-Score de macro de 0.70, Precision de macro de 0.69 e recall macro de 0.71."
      ],
      "metadata": {
        "id": "XM85V4ZCggKk"
      }
    },
    {
      "cell_type": "markdown",
      "source": [
        "-------------"
      ],
      "metadata": {
        "id": "JmN-7mHvsy_N"
      }
    },
    {
      "cell_type": "markdown",
      "source": [
        "### Parte extra para salvamento de arquivos\n",
        "\n",
        "Irei salvar o modelo final e os encodings com joblib"
      ],
      "metadata": {
        "id": "x8FWvxnTqVJe"
      }
    },
    {
      "cell_type": "code",
      "source": [
        "from joblib import dump, load"
      ],
      "metadata": {
        "id": "t-5Fv_gGqUMq"
      },
      "execution_count": 218,
      "outputs": []
    },
    {
      "cell_type": "code",
      "source": [
        "# Salvando o modelo final\n",
        "dump(RF_final, 'RF_final_model_Alura.joblib') "
      ],
      "metadata": {
        "colab": {
          "base_uri": "https://localhost:8080/"
        },
        "id": "ygGhtC4Yff6d",
        "outputId": "8a1d29c8-82ea-42e1-a9fe-c5bf22114f75"
      },
      "execution_count": 219,
      "outputs": [
        {
          "output_type": "execute_result",
          "data": {
            "text/plain": [
              "['RF_final_model_Alura.joblib']"
            ]
          },
          "metadata": {},
          "execution_count": 219
        }
      ]
    },
    {
      "cell_type": "code",
      "source": [
        "# Salvando o X_encoder\n",
        "dump(X_enc, 'X_enc_model_Alura.joblib')"
      ],
      "metadata": {
        "colab": {
          "base_uri": "https://localhost:8080/"
        },
        "id": "kxFwbYHfqjzs",
        "outputId": "f5e3a53d-b412-4c2c-9eb0-4131f4a95576"
      },
      "execution_count": 220,
      "outputs": [
        {
          "output_type": "execute_result",
          "data": {
            "text/plain": [
              "['X_enc_model_Alura.joblib']"
            ]
          },
          "metadata": {},
          "execution_count": 220
        }
      ]
    },
    {
      "cell_type": "code",
      "source": [
        "# Salvando o y_encoder\n",
        "dump(lb, 'lb_enc_model_Alura.joblib')"
      ],
      "metadata": {
        "colab": {
          "base_uri": "https://localhost:8080/"
        },
        "id": "fgz9of2hsBqh",
        "outputId": "5418392a-a451-4537-e30a-0c1693daf4a2"
      },
      "execution_count": 221,
      "outputs": [
        {
          "output_type": "execute_result",
          "data": {
            "text/plain": [
              "['lb_enc_model_Alura.joblib']"
            ]
          },
          "metadata": {},
          "execution_count": 221
        }
      ]
    },
    {
      "cell_type": "code",
      "source": [
        "# Salvando o k_best selector\n",
        "dump(k_best, 'k_best_model_Alura.joblib')"
      ],
      "metadata": {
        "colab": {
          "base_uri": "https://localhost:8080/"
        },
        "id": "5BEAB6qjsKa_",
        "outputId": "79f4b13b-7673-4cf9-fbe7-dc31572ac012"
      },
      "execution_count": 222,
      "outputs": [
        {
          "output_type": "execute_result",
          "data": {
            "text/plain": [
              "['k_best_model_Alura.joblib']"
            ]
          },
          "metadata": {},
          "execution_count": 222
        }
      ]
    },
    {
      "cell_type": "code",
      "source": [
        ""
      ],
      "metadata": {
        "id": "UAWIRbObsQS0"
      },
      "execution_count": 222,
      "outputs": []
    },
    {
      "cell_type": "code",
      "source": [
        "# Testando o carregamento do k_best selector para ver se está tudo ok para baixar os arquivos e finalizar a execução. :)\n",
        "k_best_loaded = load('/content/k_best_model_Alura.joblib')"
      ],
      "metadata": {
        "id": "OniaBVmpsU0O"
      },
      "execution_count": 223,
      "outputs": []
    },
    {
      "cell_type": "code",
      "source": [
        "k_best_loaded.get_feature_names_out()"
      ],
      "metadata": {
        "colab": {
          "base_uri": "https://localhost:8080/"
        },
        "id": "283xW1lesg7J",
        "outputId": "a96e846d-2c1f-4d50-d288-85666cbca2a7"
      },
      "execution_count": 224,
      "outputs": [
        {
          "output_type": "execute_result",
          "data": {
            "text/plain": [
              "array(['InternetService_Fiber optic', 'OnlineSecurity_No',\n",
              "       'OnlineSecurity_No internet service',\n",
              "       'OnlineBackup_No internet service',\n",
              "       'DeviceProtection_No internet service', 'TechSupport_No',\n",
              "       'TechSupport_No internet service',\n",
              "       'StreamingTV_No internet service',\n",
              "       'StreamingMovies_No internet service', 'Contract_Month-to-month',\n",
              "       'Contract_Two year', 'PaymentMethod_Electronic check', 'Tenure',\n",
              "       'Charges_Monthly', 'Charges_Total'], dtype=object)"
            ]
          },
          "metadata": {},
          "execution_count": 224
        }
      ]
    }
  ]
}